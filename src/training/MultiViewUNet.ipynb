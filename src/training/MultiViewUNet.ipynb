{
  "cells": [
    {
      "cell_type": "markdown",
      "metadata": {
        "id": "view-in-github",
        "colab_type": "text"
      },
      "source": [
        "<a href=\"https://colab.research.google.com/github/atick-faisal/TAVI/blob/main/src/training/MultiViewUNet.ipynb\" target=\"_parent\"><img src=\"https://colab.research.google.com/assets/colab-badge.svg\" alt=\"Open In Colab\"/></a>"
      ]
    },
    {
      "cell_type": "markdown",
      "metadata": {
        "id": "0BWh-7swsY8G"
      },
      "source": [
        "# Colab Info"
      ]
    },
    {
      "cell_type": "code",
      "execution_count": 1,
      "metadata": {
        "id": "qKSzwmmpsY8K",
        "outputId": "4a1883a5-e6cf-4f88-e52d-5b4b0064b9fb",
        "colab": {
          "base_uri": "https://localhost:8080/"
        }
      },
      "outputs": [
        {
          "output_type": "stream",
          "name": "stdout",
          "text": [
            "Sun Apr  2 23:14:32 2023       \n",
            "+-----------------------------------------------------------------------------+\n",
            "| NVIDIA-SMI 525.85.12    Driver Version: 525.85.12    CUDA Version: 12.0     |\n",
            "|-------------------------------+----------------------+----------------------+\n",
            "| GPU  Name        Persistence-M| Bus-Id        Disp.A | Volatile Uncorr. ECC |\n",
            "| Fan  Temp  Perf  Pwr:Usage/Cap|         Memory-Usage | GPU-Util  Compute M. |\n",
            "|                               |                      |               MIG M. |\n",
            "|===============================+======================+======================|\n",
            "|   0  Tesla T4            Off  | 00000000:00:04.0 Off |                    0 |\n",
            "| N/A   67C    P8    11W /  70W |      0MiB / 15360MiB |      0%      Default |\n",
            "|                               |                      |                  N/A |\n",
            "+-------------------------------+----------------------+----------------------+\n",
            "                                                                               \n",
            "+-----------------------------------------------------------------------------+\n",
            "| Processes:                                                                  |\n",
            "|  GPU   GI   CI        PID   Type   Process name                  GPU Memory |\n",
            "|        ID   ID                                                   Usage      |\n",
            "|=============================================================================|\n",
            "|  No running processes found                                                 |\n",
            "+-----------------------------------------------------------------------------+\n",
            "Your runtime has 27.3 gigabytes of available RAM\n",
            "\n",
            "You are using a high-RAM runtime!\n"
          ]
        }
      ],
      "source": [
        "from psutil import virtual_memory\n",
        "\n",
        "gpu_info = !nvidia-smi\n",
        "gpu_info = '\\n'.join(gpu_info)\n",
        "if gpu_info.find('failed') >= 0:\n",
        "    print('Not connected to a GPU')\n",
        "else:\n",
        "    print(gpu_info)\n",
        "\n",
        "\n",
        "ram_gb = virtual_memory().total / 1e9\n",
        "print('Your runtime has {:.1f} gigabytes of available RAM\\n'.format(ram_gb))\n",
        "\n",
        "if ram_gb < 20:\n",
        "    print('Not using a high-RAM runtime')\n",
        "else:\n",
        "    print('You are using a high-RAM runtime!')\n"
      ]
    },
    {
      "cell_type": "markdown",
      "metadata": {
        "id": "1k2olxt7sY8M"
      },
      "source": [
        "# Fix for GDrive"
      ]
    },
    {
      "cell_type": "code",
      "execution_count": 2,
      "metadata": {
        "id": "WR_aYJ7WsY8M"
      },
      "outputs": [],
      "source": [
        "!pip install -U --no-cache-dir gdown --pre > /dev/null\n"
      ]
    },
    {
      "cell_type": "markdown",
      "source": [
        "# Mount GDrive"
      ],
      "metadata": {
        "id": "jm5cGHp0tGvo"
      }
    },
    {
      "cell_type": "code",
      "source": [
        "from google.colab import drive\n",
        "drive.mount('/content/drive')\n"
      ],
      "metadata": {
        "id": "0hZ7iR0AtJYj",
        "outputId": "981a25a2-d90e-4079-d020-62eca8caac55",
        "colab": {
          "base_uri": "https://localhost:8080/"
        }
      },
      "execution_count": 3,
      "outputs": [
        {
          "output_type": "stream",
          "name": "stdout",
          "text": [
            "Mounted at /content/drive\n"
          ]
        }
      ]
    },
    {
      "cell_type": "markdown",
      "metadata": {
        "id": "ZjzwtNU2sY8M"
      },
      "source": [
        "# Download and Extract Dataset"
      ]
    },
    {
      "cell_type": "code",
      "execution_count": 4,
      "metadata": {
        "id": "9RSDCIWlsY8N",
        "outputId": "29190359-4307-4fa4-b9e7-3012a28649b6",
        "colab": {
          "base_uri": "https://localhost:8080/"
        }
      },
      "outputs": [
        {
          "output_type": "stream",
          "name": "stdout",
          "text": [
            "Downloading...\n",
            "From (uriginal): https://drive.google.com/uc?id=1Hkn-xh9gqjWOCkFA0OwzvWPDRsIPwdSv\n",
            "From (redirected): https://drive.google.com/uc?id=1Hkn-xh9gqjWOCkFA0OwzvWPDRsIPwdSv&confirm=t&uuid=8e64e37a-a14a-48a9-8d8c-0fed60dbbc27\n",
            "To: /content/AAA_DATASET_v7.zip\n",
            "100% 3.42G/3.42G [00:29<00:00, 118MB/s]\n"
          ]
        }
      ],
      "source": [
        "!gdown \"1Hkn-xh9gqjWOCkFA0OwzvWPDRsIPwdSv\"\n",
        "!unzip -o \"AAA_DATASET_v7.zip\" > /dev/null\n"
      ]
    },
    {
      "cell_type": "markdown",
      "metadata": {
        "id": "yFAlpIdMsY8N"
      },
      "source": [
        "# Imports"
      ]
    },
    {
      "cell_type": "code",
      "execution_count": 5,
      "metadata": {
        "id": "xiEKM9gZsY8N"
      },
      "outputs": [],
      "source": [
        "import os\n",
        "import datetime\n",
        "import matplotlib\n",
        "import pandas as pd\n",
        "import tensorflow as tf\n",
        "import matplotlib.pyplot as plt\n",
        "\n",
        "from tqdm import tqdm\n",
        "\n",
        "matplotlib.use('Agg')\n",
        "plt.rcParams[\"font.size\"] = 16"
      ]
    },
    {
      "cell_type": "markdown",
      "metadata": {
        "id": "OCaqjLQYsY8O"
      },
      "source": [
        "# Config"
      ]
    },
    {
      "cell_type": "code",
      "execution_count": 6,
      "metadata": {
        "id": "Qby7HsHhsY8O"
      },
      "outputs": [],
      "source": [
        "PROBLEM = \"TAWSS_2_ECAP\"\n",
        "\n",
        "MODEL_NAME = \"MultiViewUNet\"\n",
        "DATASET_PATH = \"/content/Images/\"\n",
        "TRAIN_DIR = \"Train/\"\n",
        "TEST_DIR = \"Test/\"\n",
        "INPUT_DIR = PROBLEM.split(\"_2_\")[0]\n",
        "TARGET_DIR = PROBLEM.split(\"_2_\")[1]\n",
        "MODEL_PATH = \"/content/drive/MyDrive/Research/TAVI/Models/\"\n",
        "PRED_PATH = \"/content/drive/MyDrive/Research/TAVI/Predictions/\"\n",
        "IMG_SIZE = 256\n",
        "BATCH_SIZE = 16\n",
        "BUFFER_SIZE = 1000\n",
        "VAL_SPLIT = 0.2\n",
        "LEARNING_RATE = 0.001\n",
        "N_EPOCHS = 300\n",
        "PATIENCE = 30\n",
        "\n",
        "EXP_NAME = f\"{PROBLEM}_{MODEL_NAME}_I{IMG_SIZE}_B{BATCH_SIZE}_LR{LEARNING_RATE}\"\n"
      ]
    },
    {
      "cell_type": "markdown",
      "metadata": {
        "id": "vnnlcTjjsY8O"
      },
      "source": [
        "# Architecture"
      ]
    },
    {
      "cell_type": "code",
      "execution_count": 7,
      "metadata": {
        "id": "QQWORDDysY8P"
      },
      "outputs": [],
      "source": [
        "class UNet:\n",
        "    def __init__(\n",
        "        self,\n",
        "        img_size: int,\n",
        "        n_channels: int = 3,\n",
        "        width: int = 32,\n",
        "        depth: int = 4,\n",
        "        kernel_size: int = 3\n",
        "    ):\n",
        "        self.img_size = img_size\n",
        "        self.n_channels = n_channels\n",
        "        self.width = width\n",
        "        self.depth = depth\n",
        "        self.kernel_size = kernel_size\n",
        "\n",
        "    @staticmethod\n",
        "    def conv(\n",
        "        x: tf.Tensor,\n",
        "        filters: int,\n",
        "        kernel_size: int\n",
        "    ) -> tf.Tensor:\n",
        "        for i in range(2):\n",
        "            x = tf.keras.layers.Conv2D(\n",
        "                filters=filters,\n",
        "                kernel_size=kernel_size,\n",
        "                strides=1,\n",
        "                padding=\"same\",\n",
        "                data_format=\"channels_last\",\n",
        "                dilation_rate=1,\n",
        "                groups=1,\n",
        "                activation=None,\n",
        "                use_bias=True,\n",
        "                kernel_initializer=\"glorot_uniform\",\n",
        "                bias_initializer=\"zeros\",\n",
        "            )(x)\n",
        "\n",
        "            x = tf.keras.layers.BatchNormalization()(x)\n",
        "            x = tf.keras.layers.Activation(\"relu\")(x)\n",
        "\n",
        "        return x\n",
        "\n",
        "    @staticmethod\n",
        "    def deconv(x: tf.Tensor, filters: int) -> tf.Tensor:\n",
        "        x = tf.keras.layers.Conv2DTranspose(\n",
        "            filters=filters,\n",
        "            kernel_size=2,\n",
        "            strides=2,\n",
        "            padding=\"same\",\n",
        "            output_padding=None,\n",
        "            data_format=None,\n",
        "            dilation_rate=1,\n",
        "            activation=None,\n",
        "            use_bias=True,\n",
        "            kernel_initializer=\"glorot_uniform\",\n",
        "            bias_initializer=\"zeros\",\n",
        "        )(x)\n",
        "\n",
        "        x = tf.keras.layers.BatchNormalization()(x)\n",
        "        x = tf.keras.layers.Activation(\"relu\")(x)\n",
        "\n",
        "        return x\n",
        "\n",
        "    @staticmethod\n",
        "    def output(x: tf.Tensor) -> tf.Tensor:\n",
        "        return tf.keras.layers.Conv2D(3, (1, 1), activation=\"sigmoid\")(x)\n",
        "\n",
        "    @staticmethod\n",
        "    def pool(x: tf.Tensor, pool_size: int = 2) -> tf.Tensor:\n",
        "        return tf.keras.layers.MaxPool2D(pool_size)(x)\n",
        "\n",
        "    @staticmethod\n",
        "    def dropout(x: tf.Tensor, amount: float = 0.5) -> tf.Tensor:\n",
        "        return tf.keras.layers.Dropout(amount)(x)\n",
        "\n",
        "    def __call__(self) -> tf.keras.Model:\n",
        "        inputs = tf.keras.layers.Input(\n",
        "            shape=(self.img_size, self.img_size, self.n_channels)\n",
        "        )\n",
        "\n",
        "        # scaled = tf.keras.layers.Rescaling(1./255.0, offset=0)(inputs)\n",
        "\n",
        "        # ------------------ Downsampling ---------------------\n",
        "        downsample_layers = []\n",
        "        downsample_layers.append(\n",
        "            self.conv(\n",
        "                x=inputs,\n",
        "                filters=self.width,\n",
        "                kernel_size=self.kernel_size\n",
        "            )\n",
        "        )\n",
        "        for i in range(1, self.depth):\n",
        "            dropout_amount = 0.2 if i == 1 else 0.5\n",
        "            filters = int((2 ** i) * self.width)\n",
        "            downsample_layers.append(\n",
        "                self.dropout(\n",
        "                    self.pool(\n",
        "                        self.conv(\n",
        "                            x=downsample_layers[i - 1],\n",
        "                            filters=filters,\n",
        "                            kernel_size=self.kernel_size\n",
        "                        )\n",
        "                    ),\n",
        "                    amount=dropout_amount\n",
        "                )\n",
        "            )\n",
        "\n",
        "        # ------------------- Features --------------------\n",
        "        n_features = int((2 ** self.depth) * self.width)\n",
        "        self.features = self.pool(\n",
        "            self.conv(\n",
        "                x=downsample_layers[-1],\n",
        "                filters=n_features,\n",
        "                kernel_size=self.kernel_size\n",
        "            )\n",
        "        )\n",
        "\n",
        "        # ------------------- Upsampling --------------------\n",
        "        upsample_layers = []\n",
        "        upsample_layers.append(self.features)\n",
        "        for i in range(1, self.depth + 1):\n",
        "            filters = int((2 ** (self.depth - i)) * self.width)\n",
        "            upsample_layers.append(\n",
        "                self.conv(\n",
        "                    x=self.dropout(\n",
        "                        tf.keras.layers.concatenate([\n",
        "                            downsample_layers[self.depth - i],\n",
        "                            self.deconv(\n",
        "                                x=upsample_layers[i - 1],\n",
        "                                filters=filters\n",
        "                            )\n",
        "                        ])\n",
        "                    ),\n",
        "                    filters=filters,\n",
        "                    kernel_size=self.kernel_size\n",
        "                )\n",
        "            )\n",
        "\n",
        "        # ---------------------- Output -----------------------\n",
        "        outputs = self.output(upsample_layers[-1])\n",
        "\n",
        "        return tf.keras.Model(inputs, outputs)\n"
      ]
    },
    {
      "cell_type": "markdown",
      "metadata": {
        "id": "3wNu29ilsY8Q"
      },
      "source": [
        "# Loss Functions / Metrics"
      ]
    },
    {
      "cell_type": "code",
      "execution_count": 8,
      "metadata": {
        "id": "EScLEIVTsY8R"
      },
      "outputs": [],
      "source": [
        "def attention_mse(y_true, y_pred):\n",
        "    _y_true = y_true[y_true != 1.0]\n",
        "    _y_pred = y_pred[y_true != 1.0]\n",
        "    squared_difference = tf.square(_y_true - _y_pred)\n",
        "    return tf.reduce_mean(squared_difference, axis=-1)\n",
        "\n",
        "\n",
        "def attention_mae(y_true, y_pred):\n",
        "    _y_true = y_true[y_true != 1.0]\n",
        "    _y_pred = y_pred[y_true != 1.0]\n",
        "    squared_difference = tf.abs(_y_true - _y_pred)\n",
        "    return tf.reduce_mean(squared_difference, axis=-1)\n"
      ]
    },
    {
      "cell_type": "markdown",
      "metadata": {
        "id": "UcGPtUeasY8R"
      },
      "source": [
        "# DataLoader"
      ]
    },
    {
      "cell_type": "code",
      "execution_count": 9,
      "metadata": {
        "id": "wEWrDHWDsY8R"
      },
      "outputs": [],
      "source": [
        "def load_data_from_dir(path: str) -> tf.data.Dataset:\n",
        "    return tf.keras.utils.image_dataset_from_directory(\n",
        "        directory=path,\n",
        "        labels=None,\n",
        "        color_mode='rgb',\n",
        "        batch_size=BATCH_SIZE,\n",
        "        image_size=(IMG_SIZE, IMG_SIZE),\n",
        "        shuffle=False,\n",
        "        seed=42,\n",
        "        interpolation='bilinear',\n",
        "        follow_links=False,\n",
        "        crop_to_aspect_ratio=False\n",
        "    )\n"
      ]
    },
    {
      "cell_type": "markdown",
      "metadata": {
        "id": "iHl8FzWEsY8R"
      },
      "source": [
        "# Load Dataset"
      ]
    },
    {
      "cell_type": "code",
      "execution_count": 10,
      "metadata": {
        "id": "_N_9KDvNsY8S",
        "colab": {
          "base_uri": "https://localhost:8080/"
        },
        "outputId": "6a859823-256a-4f46-be5e-e7371f566b2d"
      },
      "outputs": [
        {
          "output_type": "stream",
          "name": "stdout",
          "text": [
            "Found 8208 files belonging to 1 classes.\n",
            "Found 8208 files belonging to 1 classes.\n",
            "Found 312 files belonging to 1 classes.\n",
            "Found 312 files belonging to 1 classes.\n",
            "(TensorSpec(shape=(None, 256, 256, 3), dtype=tf.float32, name=None), TensorSpec(shape=(None, 256, 256, 3), dtype=tf.float32, name=None))\n",
            "(TensorSpec(shape=(None, 256, 256, 3), dtype=tf.float32, name=None), TensorSpec(shape=(None, 256, 256, 3), dtype=tf.float32, name=None))\n"
          ]
        }
      ],
      "source": [
        "trainX = load_data_from_dir(os.path.join(DATASET_PATH, TRAIN_DIR, INPUT_DIR))\n",
        "trainY = load_data_from_dir(os.path.join(DATASET_PATH, TRAIN_DIR, TARGET_DIR))\n",
        "testX = load_data_from_dir(os.path.join(DATASET_PATH, TEST_DIR, INPUT_DIR))\n",
        "testY = load_data_from_dir(os.path.join(DATASET_PATH, TEST_DIR, TARGET_DIR))\n",
        "\n",
        "train_ds = tf.data.Dataset.zip((trainX, trainY))\n",
        "test_ds = tf.data.Dataset.zip((testX, testY))\n",
        "\n",
        "print(train_ds.element_spec)\n",
        "print(test_ds.element_spec)\n"
      ]
    },
    {
      "cell_type": "markdown",
      "metadata": {
        "id": "siGY2orosY8S"
      },
      "source": [
        "# Normalization"
      ]
    },
    {
      "cell_type": "code",
      "execution_count": 11,
      "metadata": {
        "id": "iEVMVJIusY8S"
      },
      "outputs": [],
      "source": [
        "normalization_layer = tf.keras.layers.Rescaling(1./255)\n",
        "train_ds = train_ds.map(lambda x, y: (\n",
        "    normalization_layer(x), normalization_layer(y)))\n",
        "test_ds = test_ds.map(lambda x, y: (\n",
        "    normalization_layer(x), normalization_layer(y)))\n"
      ]
    },
    {
      "cell_type": "markdown",
      "metadata": {
        "id": "N0gpJ04WsY8T"
      },
      "source": [
        "# Augmentation"
      ]
    },
    {
      "cell_type": "code",
      "execution_count": 12,
      "metadata": {
        "id": "71pw2HYCsY8T"
      },
      "outputs": [],
      "source": [
        "class Augment(tf.keras.layers.Layer):\n",
        "    def __init__(self, seed=42):\n",
        "        super().__init__()\n",
        "        # both use the same seed, so they'll make the same random changes.\n",
        "        self.augment_inputs = tf.keras.layers.RandomZoom(\n",
        "            (-0.1, -0.7), seed=seed)\n",
        "        self.augment_labels = tf.keras.layers.RandomZoom(\n",
        "            (-0.1, -0.7), seed=seed)\n",
        "\n",
        "    def call(self, inputs, labels):\n",
        "        inputs = self.augment_inputs(inputs)\n",
        "        labels = self.augment_labels(labels)\n",
        "        return inputs, labels\n"
      ]
    },
    {
      "cell_type": "markdown",
      "metadata": {
        "id": "mymNUKessY8T"
      },
      "source": [
        "# Optimization"
      ]
    },
    {
      "cell_type": "code",
      "execution_count": 13,
      "metadata": {
        "id": "OFxFklYZsY8T"
      },
      "outputs": [],
      "source": [
        "AUTOTUNE = tf.data.AUTOTUNE\n",
        "\n",
        "train_batches = (\n",
        "    train_ds\n",
        "    .cache()\n",
        "    .shuffle(BUFFER_SIZE)\n",
        "    .prefetch(buffer_size=AUTOTUNE)\n",
        ")\n",
        "\n",
        "test_batches = (\n",
        "    test_ds\n",
        "    .cache()\n",
        "    .prefetch(buffer_size=AUTOTUNE)\n",
        ")\n"
      ]
    },
    {
      "cell_type": "markdown",
      "metadata": {
        "id": "j6ilqDbnsY8U"
      },
      "source": [
        "# Training Config"
      ]
    },
    {
      "cell_type": "code",
      "execution_count": 14,
      "metadata": {
        "id": "WlY6S1B6sY8U"
      },
      "outputs": [],
      "source": [
        "model_path = os.path.join(MODEL_PATH, EXP_NAME)\n",
        "\n",
        "callbacks = [\n",
        "    tf.keras.callbacks.EarlyStopping(\n",
        "        monitor=\"val_loss\",\n",
        "        patience=PATIENCE,\n",
        "        restore_best_weights=True\n",
        "    ),\n",
        "    tf.keras.callbacks.ModelCheckpoint(\n",
        "        model_path,\n",
        "        monitor='val_loss',\n",
        "        verbose=1,\n",
        "        save_best_only=True,\n",
        "        save_weights_only=True\n",
        "    )\n",
        "]\n",
        "\n",
        "optimizer = tf.keras.optimizers.Adam(\n",
        "    learning_rate=LEARNING_RATE\n",
        ")\n",
        "\n",
        "model = UNet(IMG_SIZE)()\n",
        "\n",
        "model.compile(\n",
        "    loss=attention_mse,\n",
        "    optimizer=optimizer,\n",
        "    metrics=[attention_mae]\n",
        ")\n",
        "\n",
        "# try:\n",
        "#     model.load_weights(model_path)\n",
        "# except:\n",
        "#     print(\"Checkpoint not found\")\n",
        "#     pass\n"
      ]
    },
    {
      "cell_type": "markdown",
      "metadata": {
        "id": "zmjFkIYNsY8U"
      },
      "source": [
        "# Training"
      ]
    },
    {
      "cell_type": "code",
      "execution_count": 15,
      "metadata": {
        "id": "Nd0e5sXtsY8U",
        "colab": {
          "base_uri": "https://localhost:8080/"
        },
        "outputId": "0e932d89-8d45-4b4d-e696-e99c4a9c2aa7"
      },
      "outputs": [
        {
          "output_type": "stream",
          "name": "stdout",
          "text": [
            "Epoch 1/300\n",
            "513/513 [==============================] - ETA: 0s - loss: 0.0420 - attention_mae: 0.1423\n",
            "Epoch 1: val_loss improved from inf to 0.03865, saving model to /content/drive/MyDrive/Research/TAVI/Models/TAWSS_2_ECAP_MultiViewUNet_I256_B16_LR0.001\n",
            "513/513 [==============================] - 501s 793ms/step - loss: 0.0420 - attention_mae: 0.1423 - val_loss: 0.0386 - val_attention_mae: 0.1425\n",
            "Epoch 2/300\n",
            "513/513 [==============================] - ETA: 0s - loss: 0.0351 - attention_mae: 0.1262\n",
            "Epoch 2: val_loss improved from 0.03865 to 0.03303, saving model to /content/drive/MyDrive/Research/TAVI/Models/TAWSS_2_ECAP_MultiViewUNet_I256_B16_LR0.001\n",
            "513/513 [==============================] - 401s 782ms/step - loss: 0.0351 - attention_mae: 0.1262 - val_loss: 0.0330 - val_attention_mae: 0.1165\n",
            "Epoch 3/300\n",
            "513/513 [==============================] - ETA: 0s - loss: 0.0333 - attention_mae: 0.1211\n",
            "Epoch 3: val_loss did not improve from 0.03303\n",
            "513/513 [==============================] - 400s 780ms/step - loss: 0.0333 - attention_mae: 0.1211 - val_loss: 0.0350 - val_attention_mae: 0.1237\n",
            "Epoch 4/300\n",
            "513/513 [==============================] - ETA: 0s - loss: 0.0321 - attention_mae: 0.1180\n",
            "Epoch 4: val_loss improved from 0.03303 to 0.03278, saving model to /content/drive/MyDrive/Research/TAVI/Models/TAWSS_2_ECAP_MultiViewUNet_I256_B16_LR0.001\n",
            "513/513 [==============================] - 401s 782ms/step - loss: 0.0321 - attention_mae: 0.1180 - val_loss: 0.0328 - val_attention_mae: 0.1159\n",
            "Epoch 5/300\n",
            "513/513 [==============================] - ETA: 0s - loss: 0.0316 - attention_mae: 0.1165\n",
            "Epoch 5: val_loss did not improve from 0.03278\n",
            "513/513 [==============================] - 401s 782ms/step - loss: 0.0316 - attention_mae: 0.1165 - val_loss: 0.0350 - val_attention_mae: 0.1231\n",
            "Epoch 6/300\n",
            "513/513 [==============================] - ETA: 0s - loss: 0.0309 - attention_mae: 0.1149\n",
            "Epoch 6: val_loss did not improve from 0.03278\n",
            "513/513 [==============================] - 401s 781ms/step - loss: 0.0309 - attention_mae: 0.1149 - val_loss: 0.0407 - val_attention_mae: 0.1329\n",
            "Epoch 7/300\n",
            "513/513 [==============================] - ETA: 0s - loss: 0.0301 - attention_mae: 0.1128\n",
            "Epoch 7: val_loss did not improve from 0.03278\n",
            "513/513 [==============================] - 401s 782ms/step - loss: 0.0301 - attention_mae: 0.1128 - val_loss: 0.0354 - val_attention_mae: 0.1241\n",
            "Epoch 8/300\n",
            "513/513 [==============================] - ETA: 0s - loss: 0.0293 - attention_mae: 0.1107\n",
            "Epoch 8: val_loss improved from 0.03278 to 0.02756, saving model to /content/drive/MyDrive/Research/TAVI/Models/TAWSS_2_ECAP_MultiViewUNet_I256_B16_LR0.001\n",
            "513/513 [==============================] - 402s 783ms/step - loss: 0.0293 - attention_mae: 0.1107 - val_loss: 0.0276 - val_attention_mae: 0.1044\n",
            "Epoch 9/300\n",
            "513/513 [==============================] - ETA: 0s - loss: 0.0291 - attention_mae: 0.1100\n",
            "Epoch 9: val_loss did not improve from 0.02756\n",
            "513/513 [==============================] - 401s 782ms/step - loss: 0.0291 - attention_mae: 0.1100 - val_loss: 0.0306 - val_attention_mae: 0.1155\n",
            "Epoch 10/300\n",
            "513/513 [==============================] - ETA: 0s - loss: 0.0288 - attention_mae: 0.1095\n",
            "Epoch 10: val_loss improved from 0.02756 to 0.02716, saving model to /content/drive/MyDrive/Research/TAVI/Models/TAWSS_2_ECAP_MultiViewUNet_I256_B16_LR0.001\n",
            "513/513 [==============================] - 402s 783ms/step - loss: 0.0288 - attention_mae: 0.1095 - val_loss: 0.0272 - val_attention_mae: 0.1044\n",
            "Epoch 11/300\n",
            "513/513 [==============================] - ETA: 0s - loss: 0.0279 - attention_mae: 0.1070\n",
            "Epoch 11: val_loss improved from 0.02716 to 0.02613, saving model to /content/drive/MyDrive/Research/TAVI/Models/TAWSS_2_ECAP_MultiViewUNet_I256_B16_LR0.001\n",
            "513/513 [==============================] - 402s 783ms/step - loss: 0.0279 - attention_mae: 0.1070 - val_loss: 0.0261 - val_attention_mae: 0.1017\n",
            "Epoch 12/300\n",
            "513/513 [==============================] - ETA: 0s - loss: 0.0275 - attention_mae: 0.1062\n",
            "Epoch 12: val_loss did not improve from 0.02613\n",
            "513/513 [==============================] - 401s 782ms/step - loss: 0.0275 - attention_mae: 0.1062 - val_loss: 0.0283 - val_attention_mae: 0.1076\n",
            "Epoch 13/300\n",
            "513/513 [==============================] - ETA: 0s - loss: 0.0271 - attention_mae: 0.1049\n",
            "Epoch 13: val_loss improved from 0.02613 to 0.02552, saving model to /content/drive/MyDrive/Research/TAVI/Models/TAWSS_2_ECAP_MultiViewUNet_I256_B16_LR0.001\n",
            "513/513 [==============================] - 402s 783ms/step - loss: 0.0271 - attention_mae: 0.1049 - val_loss: 0.0255 - val_attention_mae: 0.1000\n",
            "Epoch 14/300\n",
            "513/513 [==============================] - ETA: 0s - loss: 0.0268 - attention_mae: 0.1043\n",
            "Epoch 14: val_loss did not improve from 0.02552\n",
            "513/513 [==============================] - 401s 782ms/step - loss: 0.0268 - attention_mae: 0.1043 - val_loss: 0.0295 - val_attention_mae: 0.1093\n",
            "Epoch 15/300\n",
            "513/513 [==============================] - ETA: 0s - loss: 0.0263 - attention_mae: 0.1029\n",
            "Epoch 15: val_loss improved from 0.02552 to 0.02515, saving model to /content/drive/MyDrive/Research/TAVI/Models/TAWSS_2_ECAP_MultiViewUNet_I256_B16_LR0.001\n",
            "513/513 [==============================] - 402s 784ms/step - loss: 0.0263 - attention_mae: 0.1029 - val_loss: 0.0252 - val_attention_mae: 0.1013\n",
            "Epoch 16/300\n",
            "513/513 [==============================] - ETA: 0s - loss: 0.0260 - attention_mae: 0.1023\n",
            "Epoch 16: val_loss did not improve from 0.02515\n",
            "513/513 [==============================] - 401s 782ms/step - loss: 0.0260 - attention_mae: 0.1023 - val_loss: 0.0255 - val_attention_mae: 0.0995\n",
            "Epoch 17/300\n",
            "513/513 [==============================] - ETA: 0s - loss: 0.0261 - attention_mae: 0.1024\n",
            "Epoch 17: val_loss did not improve from 0.02515\n",
            "513/513 [==============================] - 401s 782ms/step - loss: 0.0261 - attention_mae: 0.1024 - val_loss: 0.0278 - val_attention_mae: 0.1027\n",
            "Epoch 18/300\n",
            "513/513 [==============================] - ETA: 0s - loss: 0.0255 - attention_mae: 0.1009\n",
            "Epoch 18: val_loss improved from 0.02515 to 0.02483, saving model to /content/drive/MyDrive/Research/TAVI/Models/TAWSS_2_ECAP_MultiViewUNet_I256_B16_LR0.001\n",
            "513/513 [==============================] - 402s 783ms/step - loss: 0.0255 - attention_mae: 0.1009 - val_loss: 0.0248 - val_attention_mae: 0.0980\n",
            "Epoch 19/300\n",
            "513/513 [==============================] - ETA: 0s - loss: 0.0249 - attention_mae: 0.0992\n",
            "Epoch 19: val_loss did not improve from 0.02483\n",
            "513/513 [==============================] - 401s 782ms/step - loss: 0.0249 - attention_mae: 0.0992 - val_loss: 0.0260 - val_attention_mae: 0.1014\n",
            "Epoch 20/300\n",
            "513/513 [==============================] - ETA: 0s - loss: 0.0248 - attention_mae: 0.0991\n",
            "Epoch 20: val_loss did not improve from 0.02483\n",
            "513/513 [==============================] - 401s 782ms/step - loss: 0.0248 - attention_mae: 0.0991 - val_loss: 0.0292 - val_attention_mae: 0.1047\n",
            "Epoch 21/300\n",
            "513/513 [==============================] - ETA: 0s - loss: 0.0247 - attention_mae: 0.0984\n",
            "Epoch 21: val_loss improved from 0.02483 to 0.02429, saving model to /content/drive/MyDrive/Research/TAVI/Models/TAWSS_2_ECAP_MultiViewUNet_I256_B16_LR0.001\n",
            "513/513 [==============================] - 402s 783ms/step - loss: 0.0247 - attention_mae: 0.0984 - val_loss: 0.0243 - val_attention_mae: 0.0955\n",
            "Epoch 22/300\n",
            "513/513 [==============================] - ETA: 0s - loss: 0.0243 - attention_mae: 0.0976\n",
            "Epoch 22: val_loss did not improve from 0.02429\n",
            "513/513 [==============================] - 401s 782ms/step - loss: 0.0243 - attention_mae: 0.0976 - val_loss: 0.0257 - val_attention_mae: 0.1027\n",
            "Epoch 23/300\n",
            "513/513 [==============================] - ETA: 0s - loss: 0.0245 - attention_mae: 0.0982\n",
            "Epoch 23: val_loss improved from 0.02429 to 0.02397, saving model to /content/drive/MyDrive/Research/TAVI/Models/TAWSS_2_ECAP_MultiViewUNet_I256_B16_LR0.001\n",
            "513/513 [==============================] - 402s 783ms/step - loss: 0.0245 - attention_mae: 0.0982 - val_loss: 0.0240 - val_attention_mae: 0.0957\n",
            "Epoch 24/300\n",
            "513/513 [==============================] - ETA: 0s - loss: 0.0239 - attention_mae: 0.0966\n",
            "Epoch 24: val_loss did not improve from 0.02397\n",
            "513/513 [==============================] - 401s 782ms/step - loss: 0.0239 - attention_mae: 0.0966 - val_loss: 0.0243 - val_attention_mae: 0.0952\n",
            "Epoch 25/300\n",
            "513/513 [==============================] - ETA: 0s - loss: 0.0234 - attention_mae: 0.0953\n",
            "Epoch 25: val_loss did not improve from 0.02397\n",
            "513/513 [==============================] - 401s 782ms/step - loss: 0.0234 - attention_mae: 0.0953 - val_loss: 0.0243 - val_attention_mae: 0.0981\n",
            "Epoch 26/300\n",
            "513/513 [==============================] - ETA: 0s - loss: 0.0233 - attention_mae: 0.0951\n",
            "Epoch 26: val_loss improved from 0.02397 to 0.02268, saving model to /content/drive/MyDrive/Research/TAVI/Models/TAWSS_2_ECAP_MultiViewUNet_I256_B16_LR0.001\n",
            "513/513 [==============================] - 402s 783ms/step - loss: 0.0233 - attention_mae: 0.0951 - val_loss: 0.0227 - val_attention_mae: 0.0917\n",
            "Epoch 27/300\n",
            "513/513 [==============================] - ETA: 0s - loss: 0.0230 - attention_mae: 0.0942\n",
            "Epoch 27: val_loss did not improve from 0.02268\n",
            "513/513 [==============================] - 401s 782ms/step - loss: 0.0230 - attention_mae: 0.0942 - val_loss: 0.0234 - val_attention_mae: 0.0949\n",
            "Epoch 28/300\n",
            "513/513 [==============================] - ETA: 0s - loss: 0.0229 - attention_mae: 0.0940\n",
            "Epoch 28: val_loss improved from 0.02268 to 0.02254, saving model to /content/drive/MyDrive/Research/TAVI/Models/TAWSS_2_ECAP_MultiViewUNet_I256_B16_LR0.001\n",
            "513/513 [==============================] - 402s 783ms/step - loss: 0.0229 - attention_mae: 0.0940 - val_loss: 0.0225 - val_attention_mae: 0.0908\n",
            "Epoch 29/300\n",
            "513/513 [==============================] - ETA: 0s - loss: 0.0226 - attention_mae: 0.0930\n",
            "Epoch 29: val_loss did not improve from 0.02254\n",
            "513/513 [==============================] - 401s 782ms/step - loss: 0.0226 - attention_mae: 0.0930 - val_loss: 0.0328 - val_attention_mae: 0.1117\n",
            "Epoch 30/300\n",
            "513/513 [==============================] - ETA: 0s - loss: 0.0224 - attention_mae: 0.0926\n",
            "Epoch 30: val_loss improved from 0.02254 to 0.02240, saving model to /content/drive/MyDrive/Research/TAVI/Models/TAWSS_2_ECAP_MultiViewUNet_I256_B16_LR0.001\n",
            "513/513 [==============================] - 402s 783ms/step - loss: 0.0224 - attention_mae: 0.0926 - val_loss: 0.0224 - val_attention_mae: 0.0919\n",
            "Epoch 31/300\n",
            "513/513 [==============================] - ETA: 0s - loss: 0.0221 - attention_mae: 0.0919\n",
            "Epoch 31: val_loss did not improve from 0.02240\n",
            "513/513 [==============================] - 401s 782ms/step - loss: 0.0221 - attention_mae: 0.0919 - val_loss: 0.0322 - val_attention_mae: 0.1123\n",
            "Epoch 32/300\n",
            "513/513 [==============================] - ETA: 0s - loss: 0.0218 - attention_mae: 0.0911\n",
            "Epoch 32: val_loss did not improve from 0.02240\n",
            "513/513 [==============================] - 401s 782ms/step - loss: 0.0218 - attention_mae: 0.0911 - val_loss: 0.0230 - val_attention_mae: 0.0902\n",
            "Epoch 33/300\n",
            "513/513 [==============================] - ETA: 0s - loss: 0.0218 - attention_mae: 0.0912\n",
            "Epoch 33: val_loss improved from 0.02240 to 0.02177, saving model to /content/drive/MyDrive/Research/TAVI/Models/TAWSS_2_ECAP_MultiViewUNet_I256_B16_LR0.001\n",
            "513/513 [==============================] - 401s 783ms/step - loss: 0.0218 - attention_mae: 0.0912 - val_loss: 0.0218 - val_attention_mae: 0.0896\n",
            "Epoch 34/300\n",
            "513/513 [==============================] - ETA: 0s - loss: 0.0216 - attention_mae: 0.0905\n",
            "Epoch 34: val_loss did not improve from 0.02177\n",
            "513/513 [==============================] - 401s 782ms/step - loss: 0.0216 - attention_mae: 0.0905 - val_loss: 0.0236 - val_attention_mae: 0.0919\n",
            "Epoch 35/300\n",
            "513/513 [==============================] - ETA: 0s - loss: 0.0212 - attention_mae: 0.0894\n",
            "Epoch 35: val_loss did not improve from 0.02177\n",
            "513/513 [==============================] - 401s 781ms/step - loss: 0.0212 - attention_mae: 0.0894 - val_loss: 0.0219 - val_attention_mae: 0.0891\n",
            "Epoch 36/300\n",
            "513/513 [==============================] - ETA: 0s - loss: 0.0212 - attention_mae: 0.0893\n",
            "Epoch 36: val_loss did not improve from 0.02177\n",
            "513/513 [==============================] - 401s 781ms/step - loss: 0.0212 - attention_mae: 0.0893 - val_loss: 0.0230 - val_attention_mae: 0.0938\n",
            "Epoch 37/300\n",
            "513/513 [==============================] - ETA: 0s - loss: 0.0208 - attention_mae: 0.0882\n",
            "Epoch 37: val_loss did not improve from 0.02177\n",
            "513/513 [==============================] - 401s 781ms/step - loss: 0.0208 - attention_mae: 0.0882 - val_loss: 0.0220 - val_attention_mae: 0.0890\n",
            "Epoch 38/300\n",
            "513/513 [==============================] - ETA: 0s - loss: 0.0205 - attention_mae: 0.0874\n",
            "Epoch 38: val_loss improved from 0.02177 to 0.02145, saving model to /content/drive/MyDrive/Research/TAVI/Models/TAWSS_2_ECAP_MultiViewUNet_I256_B16_LR0.001\n",
            "513/513 [==============================] - 401s 782ms/step - loss: 0.0205 - attention_mae: 0.0874 - val_loss: 0.0215 - val_attention_mae: 0.0871\n",
            "Epoch 39/300\n",
            "513/513 [==============================] - ETA: 0s - loss: 0.0204 - attention_mae: 0.0871\n",
            "Epoch 39: val_loss did not improve from 0.02145\n",
            "513/513 [==============================] - 401s 781ms/step - loss: 0.0204 - attention_mae: 0.0871 - val_loss: 0.0224 - val_attention_mae: 0.0904\n",
            "Epoch 40/300\n",
            "513/513 [==============================] - ETA: 0s - loss: 0.0202 - attention_mae: 0.0866\n",
            "Epoch 40: val_loss improved from 0.02145 to 0.02090, saving model to /content/drive/MyDrive/Research/TAVI/Models/TAWSS_2_ECAP_MultiViewUNet_I256_B16_LR0.001\n",
            "513/513 [==============================] - 402s 783ms/step - loss: 0.0202 - attention_mae: 0.0866 - val_loss: 0.0209 - val_attention_mae: 0.0848\n",
            "Epoch 41/300\n",
            "513/513 [==============================] - ETA: 0s - loss: 0.0203 - attention_mae: 0.0868\n",
            "Epoch 41: val_loss did not improve from 0.02090\n",
            "513/513 [==============================] - 401s 781ms/step - loss: 0.0203 - attention_mae: 0.0868 - val_loss: 0.0237 - val_attention_mae: 0.0939\n",
            "Epoch 42/300\n",
            "513/513 [==============================] - ETA: 0s - loss: 0.0198 - attention_mae: 0.0857\n",
            "Epoch 42: val_loss improved from 0.02090 to 0.02035, saving model to /content/drive/MyDrive/Research/TAVI/Models/TAWSS_2_ECAP_MultiViewUNet_I256_B16_LR0.001\n",
            "513/513 [==============================] - 402s 783ms/step - loss: 0.0198 - attention_mae: 0.0857 - val_loss: 0.0203 - val_attention_mae: 0.0834\n",
            "Epoch 43/300\n",
            "513/513 [==============================] - ETA: 0s - loss: 0.0197 - attention_mae: 0.0853\n",
            "Epoch 43: val_loss did not improve from 0.02035\n",
            "513/513 [==============================] - 401s 782ms/step - loss: 0.0197 - attention_mae: 0.0853 - val_loss: 0.0210 - val_attention_mae: 0.0855\n",
            "Epoch 44/300\n",
            "513/513 [==============================] - ETA: 0s - loss: 0.0196 - attention_mae: 0.0850\n",
            "Epoch 44: val_loss did not improve from 0.02035\n",
            "513/513 [==============================] - 401s 781ms/step - loss: 0.0196 - attention_mae: 0.0850 - val_loss: 0.0206 - val_attention_mae: 0.0847\n",
            "Epoch 45/300\n",
            "513/513 [==============================] - ETA: 0s - loss: 0.0192 - attention_mae: 0.0838\n",
            "Epoch 45: val_loss did not improve from 0.02035\n",
            "513/513 [==============================] - 401s 781ms/step - loss: 0.0192 - attention_mae: 0.0838 - val_loss: 0.0257 - val_attention_mae: 0.0948\n",
            "Epoch 46/300\n",
            "513/513 [==============================] - ETA: 0s - loss: 0.0191 - attention_mae: 0.0839\n",
            "Epoch 46: val_loss did not improve from 0.02035\n",
            "513/513 [==============================] - 401s 781ms/step - loss: 0.0191 - attention_mae: 0.0839 - val_loss: 0.0211 - val_attention_mae: 0.0873\n",
            "Epoch 47/300\n",
            "513/513 [==============================] - ETA: 0s - loss: 0.0189 - attention_mae: 0.0831\n",
            "Epoch 47: val_loss did not improve from 0.02035\n",
            "513/513 [==============================] - 401s 781ms/step - loss: 0.0189 - attention_mae: 0.0831 - val_loss: 0.0209 - val_attention_mae: 0.0846\n",
            "Epoch 48/300\n",
            "513/513 [==============================] - ETA: 0s - loss: 0.0186 - attention_mae: 0.0824\n",
            "Epoch 48: val_loss improved from 0.02035 to 0.01994, saving model to /content/drive/MyDrive/Research/TAVI/Models/TAWSS_2_ECAP_MultiViewUNet_I256_B16_LR0.001\n",
            "513/513 [==============================] - 401s 782ms/step - loss: 0.0186 - attention_mae: 0.0824 - val_loss: 0.0199 - val_attention_mae: 0.0844\n",
            "Epoch 49/300\n",
            "513/513 [==============================] - ETA: 0s - loss: 0.0186 - attention_mae: 0.0823\n",
            "Epoch 49: val_loss did not improve from 0.01994\n",
            "513/513 [==============================] - 401s 781ms/step - loss: 0.0186 - attention_mae: 0.0823 - val_loss: 0.0206 - val_attention_mae: 0.0842\n",
            "Epoch 50/300\n",
            "513/513 [==============================] - ETA: 0s - loss: 0.0184 - attention_mae: 0.0816\n",
            "Epoch 50: val_loss did not improve from 0.01994\n",
            "513/513 [==============================] - 401s 781ms/step - loss: 0.0184 - attention_mae: 0.0816 - val_loss: 0.0201 - val_attention_mae: 0.0817\n",
            "Epoch 51/300\n",
            "513/513 [==============================] - ETA: 0s - loss: 0.0182 - attention_mae: 0.0811\n",
            "Epoch 51: val_loss improved from 0.01994 to 0.01992, saving model to /content/drive/MyDrive/Research/TAVI/Models/TAWSS_2_ECAP_MultiViewUNet_I256_B16_LR0.001\n",
            "513/513 [==============================] - 401s 782ms/step - loss: 0.0182 - attention_mae: 0.0811 - val_loss: 0.0199 - val_attention_mae: 0.0815\n",
            "Epoch 52/300\n",
            "513/513 [==============================] - ETA: 0s - loss: 0.0180 - attention_mae: 0.0807\n",
            "Epoch 52: val_loss did not improve from 0.01992\n",
            "513/513 [==============================] - 400s 781ms/step - loss: 0.0180 - attention_mae: 0.0807 - val_loss: 0.0206 - val_attention_mae: 0.0835\n",
            "Epoch 53/300\n",
            "513/513 [==============================] - ETA: 0s - loss: 0.0181 - attention_mae: 0.0809\n",
            "Epoch 53: val_loss did not improve from 0.01992\n",
            "513/513 [==============================] - 400s 781ms/step - loss: 0.0181 - attention_mae: 0.0809 - val_loss: 0.0202 - val_attention_mae: 0.0827\n",
            "Epoch 54/300\n",
            "513/513 [==============================] - ETA: 0s - loss: 0.0178 - attention_mae: 0.0800\n",
            "Epoch 54: val_loss did not improve from 0.01992\n",
            "513/513 [==============================] - 400s 781ms/step - loss: 0.0178 - attention_mae: 0.0800 - val_loss: 0.0204 - val_attention_mae: 0.0802\n",
            "Epoch 55/300\n",
            "513/513 [==============================] - ETA: 0s - loss: 0.0175 - attention_mae: 0.0790\n",
            "Epoch 55: val_loss improved from 0.01992 to 0.01886, saving model to /content/drive/MyDrive/Research/TAVI/Models/TAWSS_2_ECAP_MultiViewUNet_I256_B16_LR0.001\n",
            "513/513 [==============================] - 401s 782ms/step - loss: 0.0175 - attention_mae: 0.0790 - val_loss: 0.0189 - val_attention_mae: 0.0795\n",
            "Epoch 56/300\n",
            "513/513 [==============================] - ETA: 0s - loss: 0.0175 - attention_mae: 0.0793\n",
            "Epoch 56: val_loss did not improve from 0.01886\n",
            "513/513 [==============================] - 400s 780ms/step - loss: 0.0175 - attention_mae: 0.0793 - val_loss: 0.0194 - val_attention_mae: 0.0809\n",
            "Epoch 57/300\n",
            "513/513 [==============================] - ETA: 0s - loss: 0.0173 - attention_mae: 0.0786\n",
            "Epoch 57: val_loss did not improve from 0.01886\n",
            "513/513 [==============================] - 400s 780ms/step - loss: 0.0173 - attention_mae: 0.0786 - val_loss: 0.0210 - val_attention_mae: 0.0820\n",
            "Epoch 58/300\n",
            "513/513 [==============================] - ETA: 0s - loss: 0.0171 - attention_mae: 0.0782\n",
            "Epoch 58: val_loss did not improve from 0.01886\n",
            "513/513 [==============================] - 400s 780ms/step - loss: 0.0171 - attention_mae: 0.0782 - val_loss: 0.0209 - val_attention_mae: 0.0823\n",
            "Epoch 59/300\n",
            "513/513 [==============================] - ETA: 0s - loss: 0.0170 - attention_mae: 0.0779\n",
            "Epoch 59: val_loss did not improve from 0.01886\n",
            "513/513 [==============================] - 400s 780ms/step - loss: 0.0170 - attention_mae: 0.0779 - val_loss: 0.0200 - val_attention_mae: 0.0813\n",
            "Epoch 60/300\n",
            "513/513 [==============================] - ETA: 0s - loss: 0.0168 - attention_mae: 0.0772\n",
            "Epoch 60: val_loss did not improve from 0.01886\n",
            "513/513 [==============================] - 400s 780ms/step - loss: 0.0168 - attention_mae: 0.0772 - val_loss: 0.0194 - val_attention_mae: 0.0785\n",
            "Epoch 61/300\n",
            "513/513 [==============================] - ETA: 0s - loss: 0.0167 - attention_mae: 0.0769\n",
            "Epoch 61: val_loss did not improve from 0.01886\n",
            "513/513 [==============================] - 400s 780ms/step - loss: 0.0167 - attention_mae: 0.0769 - val_loss: 0.0195 - val_attention_mae: 0.0799\n",
            "Epoch 62/300\n",
            "513/513 [==============================] - ETA: 0s - loss: 0.0165 - attention_mae: 0.0766\n",
            "Epoch 62: val_loss did not improve from 0.01886\n",
            "513/513 [==============================] - 400s 780ms/step - loss: 0.0165 - attention_mae: 0.0766 - val_loss: 0.0195 - val_attention_mae: 0.0794\n",
            "Epoch 63/300\n",
            "513/513 [==============================] - ETA: 0s - loss: 0.0163 - attention_mae: 0.0759\n",
            "Epoch 63: val_loss did not improve from 0.01886\n",
            "513/513 [==============================] - 400s 780ms/step - loss: 0.0163 - attention_mae: 0.0759 - val_loss: 0.0263 - val_attention_mae: 0.0957\n",
            "Epoch 64/300\n",
            "513/513 [==============================] - ETA: 0s - loss: 0.0162 - attention_mae: 0.0755\n",
            "Epoch 64: val_loss did not improve from 0.01886\n",
            "513/513 [==============================] - 400s 780ms/step - loss: 0.0162 - attention_mae: 0.0755 - val_loss: 0.0190 - val_attention_mae: 0.0781\n",
            "Epoch 65/300\n",
            "513/513 [==============================] - ETA: 0s - loss: 0.0163 - attention_mae: 0.0758\n",
            "Epoch 65: val_loss did not improve from 0.01886\n",
            "513/513 [==============================] - 400s 780ms/step - loss: 0.0163 - attention_mae: 0.0758 - val_loss: 0.0200 - val_attention_mae: 0.0793\n",
            "Epoch 66/300\n",
            "513/513 [==============================] - ETA: 0s - loss: 0.0160 - attention_mae: 0.0751\n",
            "Epoch 66: val_loss did not improve from 0.01886\n",
            "513/513 [==============================] - 400s 780ms/step - loss: 0.0160 - attention_mae: 0.0751 - val_loss: 0.0196 - val_attention_mae: 0.0801\n",
            "Epoch 67/300\n",
            "513/513 [==============================] - ETA: 0s - loss: 0.0157 - attention_mae: 0.0743\n",
            "Epoch 67: val_loss did not improve from 0.01886\n",
            "513/513 [==============================] - 400s 780ms/step - loss: 0.0157 - attention_mae: 0.0743 - val_loss: 0.0195 - val_attention_mae: 0.0779\n",
            "Epoch 68/300\n",
            "513/513 [==============================] - ETA: 0s - loss: 0.0158 - attention_mae: 0.0743\n",
            "Epoch 68: val_loss did not improve from 0.01886\n",
            "513/513 [==============================] - 400s 780ms/step - loss: 0.0158 - attention_mae: 0.0743 - val_loss: 0.0190 - val_attention_mae: 0.0778\n",
            "Epoch 69/300\n",
            "513/513 [==============================] - ETA: 0s - loss: 0.0158 - attention_mae: 0.0744\n",
            "Epoch 69: val_loss did not improve from 0.01886\n",
            "513/513 [==============================] - 400s 780ms/step - loss: 0.0158 - attention_mae: 0.0744 - val_loss: 0.0191 - val_attention_mae: 0.0790\n",
            "Epoch 70/300\n",
            "513/513 [==============================] - ETA: 0s - loss: 0.0154 - attention_mae: 0.0734\n",
            "Epoch 70: val_loss did not improve from 0.01886\n",
            "513/513 [==============================] - 400s 780ms/step - loss: 0.0154 - attention_mae: 0.0734 - val_loss: 0.0211 - val_attention_mae: 0.0825\n",
            "Epoch 71/300\n",
            "513/513 [==============================] - ETA: 0s - loss: 0.0154 - attention_mae: 0.0733\n",
            "Epoch 71: val_loss improved from 0.01886 to 0.01870, saving model to /content/drive/MyDrive/Research/TAVI/Models/TAWSS_2_ECAP_MultiViewUNet_I256_B16_LR0.001\n",
            "513/513 [==============================] - 401s 781ms/step - loss: 0.0154 - attention_mae: 0.0733 - val_loss: 0.0187 - val_attention_mae: 0.0767\n",
            "Epoch 72/300\n",
            "513/513 [==============================] - ETA: 0s - loss: 0.0151 - attention_mae: 0.0726\n",
            "Epoch 72: val_loss improved from 0.01870 to 0.01857, saving model to /content/drive/MyDrive/Research/TAVI/Models/TAWSS_2_ECAP_MultiViewUNet_I256_B16_LR0.001\n",
            "513/513 [==============================] - 401s 781ms/step - loss: 0.0151 - attention_mae: 0.0726 - val_loss: 0.0186 - val_attention_mae: 0.0756\n",
            "Epoch 73/300\n",
            "513/513 [==============================] - ETA: 0s - loss: 0.0150 - attention_mae: 0.0722\n",
            "Epoch 73: val_loss did not improve from 0.01857\n",
            "513/513 [==============================] - 400s 780ms/step - loss: 0.0150 - attention_mae: 0.0722 - val_loss: 0.0199 - val_attention_mae: 0.0785\n",
            "Epoch 74/300\n",
            "513/513 [==============================] - ETA: 0s - loss: 0.0150 - attention_mae: 0.0723\n",
            "Epoch 74: val_loss did not improve from 0.01857\n",
            "513/513 [==============================] - 400s 780ms/step - loss: 0.0150 - attention_mae: 0.0723 - val_loss: 0.0196 - val_attention_mae: 0.0778\n",
            "Epoch 75/300\n",
            "513/513 [==============================] - ETA: 0s - loss: 0.0149 - attention_mae: 0.0719\n",
            "Epoch 75: val_loss did not improve from 0.01857\n",
            "513/513 [==============================] - 400s 780ms/step - loss: 0.0149 - attention_mae: 0.0719 - val_loss: 0.0193 - val_attention_mae: 0.0783\n",
            "Epoch 76/300\n",
            "513/513 [==============================] - ETA: 0s - loss: 0.0147 - attention_mae: 0.0712\n",
            "Epoch 76: val_loss did not improve from 0.01857\n",
            "513/513 [==============================] - 400s 780ms/step - loss: 0.0147 - attention_mae: 0.0712 - val_loss: 0.0186 - val_attention_mae: 0.0751\n",
            "Epoch 77/300\n",
            "513/513 [==============================] - ETA: 0s - loss: 0.0146 - attention_mae: 0.0709\n",
            "Epoch 77: val_loss did not improve from 0.01857\n",
            "513/513 [==============================] - 400s 780ms/step - loss: 0.0146 - attention_mae: 0.0709 - val_loss: 0.0187 - val_attention_mae: 0.0767\n",
            "Epoch 78/300\n",
            "513/513 [==============================] - ETA: 0s - loss: 0.0145 - attention_mae: 0.0708\n",
            "Epoch 78: val_loss did not improve from 0.01857\n",
            "513/513 [==============================] - 400s 780ms/step - loss: 0.0145 - attention_mae: 0.0708 - val_loss: 0.0205 - val_attention_mae: 0.0795\n",
            "Epoch 79/300\n",
            "513/513 [==============================] - ETA: 0s - loss: 0.0147 - attention_mae: 0.0712\n",
            "Epoch 79: val_loss did not improve from 0.01857\n",
            "513/513 [==============================] - 400s 780ms/step - loss: 0.0147 - attention_mae: 0.0712 - val_loss: 0.0192 - val_attention_mae: 0.0769\n",
            "Epoch 80/300\n",
            "513/513 [==============================] - ETA: 0s - loss: 0.0143 - attention_mae: 0.0701\n",
            "Epoch 80: val_loss improved from 0.01857 to 0.01838, saving model to /content/drive/MyDrive/Research/TAVI/Models/TAWSS_2_ECAP_MultiViewUNet_I256_B16_LR0.001\n",
            "513/513 [==============================] - 401s 781ms/step - loss: 0.0143 - attention_mae: 0.0701 - val_loss: 0.0184 - val_attention_mae: 0.0743\n",
            "Epoch 81/300\n",
            "513/513 [==============================] - ETA: 0s - loss: 0.0141 - attention_mae: 0.0695\n",
            "Epoch 81: val_loss did not improve from 0.01838\n",
            "513/513 [==============================] - 400s 780ms/step - loss: 0.0141 - attention_mae: 0.0695 - val_loss: 0.0192 - val_attention_mae: 0.0748\n",
            "Epoch 82/300\n",
            "513/513 [==============================] - ETA: 0s - loss: 0.0140 - attention_mae: 0.0691\n",
            "Epoch 82: val_loss did not improve from 0.01838\n",
            "513/513 [==============================] - 400s 780ms/step - loss: 0.0140 - attention_mae: 0.0691 - val_loss: 0.0188 - val_attention_mae: 0.0775\n",
            "Epoch 83/300\n",
            "513/513 [==============================] - ETA: 0s - loss: 0.0139 - attention_mae: 0.0690\n",
            "Epoch 83: val_loss did not improve from 0.01838\n",
            "513/513 [==============================] - 400s 780ms/step - loss: 0.0139 - attention_mae: 0.0690 - val_loss: 0.0193 - val_attention_mae: 0.0772\n",
            "Epoch 84/300\n",
            "513/513 [==============================] - ETA: 0s - loss: 0.0138 - attention_mae: 0.0686\n",
            "Epoch 84: val_loss did not improve from 0.01838\n",
            "513/513 [==============================] - 400s 780ms/step - loss: 0.0138 - attention_mae: 0.0686 - val_loss: 0.0191 - val_attention_mae: 0.0761\n",
            "Epoch 85/300\n",
            "513/513 [==============================] - ETA: 0s - loss: 0.0137 - attention_mae: 0.0684\n",
            "Epoch 85: val_loss did not improve from 0.01838\n",
            "513/513 [==============================] - 400s 780ms/step - loss: 0.0137 - attention_mae: 0.0684 - val_loss: 0.0185 - val_attention_mae: 0.0743\n",
            "Epoch 86/300\n",
            "513/513 [==============================] - ETA: 0s - loss: 0.0134 - attention_mae: 0.0675\n",
            "Epoch 86: val_loss improved from 0.01838 to 0.01818, saving model to /content/drive/MyDrive/Research/TAVI/Models/TAWSS_2_ECAP_MultiViewUNet_I256_B16_LR0.001\n",
            "513/513 [==============================] - 401s 781ms/step - loss: 0.0134 - attention_mae: 0.0675 - val_loss: 0.0182 - val_attention_mae: 0.0746\n",
            "Epoch 87/300\n",
            "513/513 [==============================] - ETA: 0s - loss: 0.0135 - attention_mae: 0.0676\n",
            "Epoch 87: val_loss did not improve from 0.01818\n",
            "513/513 [==============================] - 400s 780ms/step - loss: 0.0135 - attention_mae: 0.0676 - val_loss: 0.0183 - val_attention_mae: 0.0749\n",
            "Epoch 88/300\n",
            "513/513 [==============================] - ETA: 0s - loss: 0.0134 - attention_mae: 0.0675\n",
            "Epoch 88: val_loss did not improve from 0.01818\n",
            "513/513 [==============================] - 400s 780ms/step - loss: 0.0134 - attention_mae: 0.0675 - val_loss: 0.0185 - val_attention_mae: 0.0745\n",
            "Epoch 89/300\n",
            "513/513 [==============================] - ETA: 0s - loss: 0.0132 - attention_mae: 0.0667\n",
            "Epoch 89: val_loss did not improve from 0.01818\n",
            "513/513 [==============================] - 400s 779ms/step - loss: 0.0132 - attention_mae: 0.0667 - val_loss: 0.0185 - val_attention_mae: 0.0742\n",
            "Epoch 90/300\n",
            "513/513 [==============================] - ETA: 0s - loss: 0.0135 - attention_mae: 0.0676\n",
            "Epoch 90: val_loss did not improve from 0.01818\n",
            "513/513 [==============================] - 400s 779ms/step - loss: 0.0135 - attention_mae: 0.0676 - val_loss: 0.0186 - val_attention_mae: 0.0756\n",
            "Epoch 91/300\n",
            "513/513 [==============================] - ETA: 0s - loss: 0.0134 - attention_mae: 0.0675\n",
            "Epoch 91: val_loss did not improve from 0.01818\n",
            "513/513 [==============================] - 400s 779ms/step - loss: 0.0134 - attention_mae: 0.0675 - val_loss: 0.0188 - val_attention_mae: 0.0754\n",
            "Epoch 92/300\n",
            "513/513 [==============================] - ETA: 0s - loss: 0.0130 - attention_mae: 0.0661\n",
            "Epoch 92: val_loss did not improve from 0.01818\n",
            "513/513 [==============================] - 400s 780ms/step - loss: 0.0130 - attention_mae: 0.0661 - val_loss: 0.0191 - val_attention_mae: 0.0751\n",
            "Epoch 93/300\n",
            "513/513 [==============================] - ETA: 0s - loss: 0.0129 - attention_mae: 0.0659\n",
            "Epoch 93: val_loss improved from 0.01818 to 0.01807, saving model to /content/drive/MyDrive/Research/TAVI/Models/TAWSS_2_ECAP_MultiViewUNet_I256_B16_LR0.001\n",
            "513/513 [==============================] - 400s 781ms/step - loss: 0.0129 - attention_mae: 0.0659 - val_loss: 0.0181 - val_attention_mae: 0.0739\n",
            "Epoch 94/300\n",
            "513/513 [==============================] - ETA: 0s - loss: 0.0128 - attention_mae: 0.0656\n",
            "Epoch 94: val_loss did not improve from 0.01807\n",
            "513/513 [==============================] - 400s 780ms/step - loss: 0.0128 - attention_mae: 0.0656 - val_loss: 0.0188 - val_attention_mae: 0.0747\n",
            "Epoch 95/300\n",
            "513/513 [==============================] - ETA: 0s - loss: 0.0127 - attention_mae: 0.0652\n",
            "Epoch 95: val_loss improved from 0.01807 to 0.01797, saving model to /content/drive/MyDrive/Research/TAVI/Models/TAWSS_2_ECAP_MultiViewUNet_I256_B16_LR0.001\n",
            "513/513 [==============================] - 401s 781ms/step - loss: 0.0127 - attention_mae: 0.0652 - val_loss: 0.0180 - val_attention_mae: 0.0730\n",
            "Epoch 96/300\n",
            "513/513 [==============================] - ETA: 0s - loss: 0.0125 - attention_mae: 0.0647\n",
            "Epoch 96: val_loss did not improve from 0.01797\n",
            "513/513 [==============================] - 400s 779ms/step - loss: 0.0125 - attention_mae: 0.0647 - val_loss: 0.0187 - val_attention_mae: 0.0754\n",
            "Epoch 97/300\n",
            "513/513 [==============================] - ETA: 0s - loss: 0.0128 - attention_mae: 0.0655\n",
            "Epoch 97: val_loss did not improve from 0.01797\n",
            "513/513 [==============================] - 400s 780ms/step - loss: 0.0128 - attention_mae: 0.0655 - val_loss: 0.0186 - val_attention_mae: 0.0745\n",
            "Epoch 98/300\n",
            "513/513 [==============================] - ETA: 0s - loss: 0.0125 - attention_mae: 0.0647\n",
            "Epoch 98: val_loss improved from 0.01797 to 0.01790, saving model to /content/drive/MyDrive/Research/TAVI/Models/TAWSS_2_ECAP_MultiViewUNet_I256_B16_LR0.001\n",
            "513/513 [==============================] - 400s 781ms/step - loss: 0.0125 - attention_mae: 0.0647 - val_loss: 0.0179 - val_attention_mae: 0.0732\n",
            "Epoch 99/300\n",
            "513/513 [==============================] - ETA: 0s - loss: 0.0123 - attention_mae: 0.0640\n",
            "Epoch 99: val_loss did not improve from 0.01790\n",
            "513/513 [==============================] - 400s 779ms/step - loss: 0.0123 - attention_mae: 0.0640 - val_loss: 0.0187 - val_attention_mae: 0.0737\n",
            "Epoch 100/300\n",
            "513/513 [==============================] - ETA: 0s - loss: 0.0123 - attention_mae: 0.0641\n",
            "Epoch 100: val_loss did not improve from 0.01790\n",
            "513/513 [==============================] - 400s 779ms/step - loss: 0.0123 - attention_mae: 0.0641 - val_loss: 0.0181 - val_attention_mae: 0.0730\n",
            "Epoch 101/300\n",
            "513/513 [==============================] - ETA: 0s - loss: 0.0121 - attention_mae: 0.0635\n",
            "Epoch 101: val_loss did not improve from 0.01790\n",
            "513/513 [==============================] - 400s 780ms/step - loss: 0.0121 - attention_mae: 0.0635 - val_loss: 0.0189 - val_attention_mae: 0.0739\n",
            "Epoch 102/300\n",
            "513/513 [==============================] - ETA: 0s - loss: 0.0123 - attention_mae: 0.0640\n",
            "Epoch 102: val_loss did not improve from 0.01790\n",
            "513/513 [==============================] - 400s 779ms/step - loss: 0.0123 - attention_mae: 0.0640 - val_loss: 0.0187 - val_attention_mae: 0.0748\n",
            "Epoch 103/300\n",
            "513/513 [==============================] - ETA: 0s - loss: 0.0122 - attention_mae: 0.0636\n",
            "Epoch 103: val_loss did not improve from 0.01790\n",
            "513/513 [==============================] - 400s 779ms/step - loss: 0.0122 - attention_mae: 0.0636 - val_loss: 0.0180 - val_attention_mae: 0.0724\n",
            "Epoch 104/300\n",
            "513/513 [==============================] - ETA: 0s - loss: 0.0122 - attention_mae: 0.0637\n",
            "Epoch 104: val_loss did not improve from 0.01790\n",
            "513/513 [==============================] - 400s 779ms/step - loss: 0.0122 - attention_mae: 0.0637 - val_loss: 0.0183 - val_attention_mae: 0.0733\n",
            "Epoch 105/300\n",
            "513/513 [==============================] - ETA: 0s - loss: 0.0118 - attention_mae: 0.0624\n",
            "Epoch 105: val_loss improved from 0.01790 to 0.01776, saving model to /content/drive/MyDrive/Research/TAVI/Models/TAWSS_2_ECAP_MultiViewUNet_I256_B16_LR0.001\n",
            "513/513 [==============================] - 400s 781ms/step - loss: 0.0118 - attention_mae: 0.0624 - val_loss: 0.0178 - val_attention_mae: 0.0715\n",
            "Epoch 106/300\n",
            "513/513 [==============================] - ETA: 0s - loss: 0.0117 - attention_mae: 0.0621\n",
            "Epoch 106: val_loss did not improve from 0.01776\n",
            "513/513 [==============================] - 400s 779ms/step - loss: 0.0117 - attention_mae: 0.0621 - val_loss: 0.0183 - val_attention_mae: 0.0734\n",
            "Epoch 107/300\n",
            "513/513 [==============================] - ETA: 0s - loss: 0.0118 - attention_mae: 0.0623\n",
            "Epoch 107: val_loss improved from 0.01776 to 0.01761, saving model to /content/drive/MyDrive/Research/TAVI/Models/TAWSS_2_ECAP_MultiViewUNet_I256_B16_LR0.001\n",
            "513/513 [==============================] - 401s 781ms/step - loss: 0.0118 - attention_mae: 0.0623 - val_loss: 0.0176 - val_attention_mae: 0.0712\n",
            "Epoch 108/300\n",
            "513/513 [==============================] - ETA: 0s - loss: 0.0116 - attention_mae: 0.0619\n",
            "Epoch 108: val_loss did not improve from 0.01761\n",
            "513/513 [==============================] - 400s 779ms/step - loss: 0.0116 - attention_mae: 0.0619 - val_loss: 0.0191 - val_attention_mae: 0.0741\n",
            "Epoch 109/300\n",
            "513/513 [==============================] - ETA: 0s - loss: 0.0117 - attention_mae: 0.0621\n",
            "Epoch 109: val_loss did not improve from 0.01761\n",
            "513/513 [==============================] - 400s 779ms/step - loss: 0.0117 - attention_mae: 0.0621 - val_loss: 0.0185 - val_attention_mae: 0.0732\n",
            "Epoch 110/300\n",
            "513/513 [==============================] - ETA: 0s - loss: 0.0115 - attention_mae: 0.0616\n",
            "Epoch 110: val_loss did not improve from 0.01761\n",
            "513/513 [==============================] - 400s 779ms/step - loss: 0.0115 - attention_mae: 0.0616 - val_loss: 0.0187 - val_attention_mae: 0.0737\n",
            "Epoch 111/300\n",
            "513/513 [==============================] - ETA: 0s - loss: 0.0114 - attention_mae: 0.0611\n",
            "Epoch 111: val_loss did not improve from 0.01761\n",
            "513/513 [==============================] - 400s 779ms/step - loss: 0.0114 - attention_mae: 0.0611 - val_loss: 0.0183 - val_attention_mae: 0.0725\n",
            "Epoch 112/300\n",
            "513/513 [==============================] - ETA: 0s - loss: 0.0115 - attention_mae: 0.0616\n",
            "Epoch 112: val_loss improved from 0.01761 to 0.01738, saving model to /content/drive/MyDrive/Research/TAVI/Models/TAWSS_2_ECAP_MultiViewUNet_I256_B16_LR0.001\n",
            "513/513 [==============================] - 400s 781ms/step - loss: 0.0115 - attention_mae: 0.0616 - val_loss: 0.0174 - val_attention_mae: 0.0701\n",
            "Epoch 113/300\n",
            "513/513 [==============================] - ETA: 0s - loss: 0.0112 - attention_mae: 0.0607\n",
            "Epoch 113: val_loss did not improve from 0.01738\n",
            "513/513 [==============================] - 400s 779ms/step - loss: 0.0112 - attention_mae: 0.0607 - val_loss: 0.0184 - val_attention_mae: 0.0720\n",
            "Epoch 114/300\n",
            "513/513 [==============================] - ETA: 0s - loss: 0.0112 - attention_mae: 0.0605\n",
            "Epoch 114: val_loss did not improve from 0.01738\n",
            "513/513 [==============================] - 400s 780ms/step - loss: 0.0112 - attention_mae: 0.0605 - val_loss: 0.0178 - val_attention_mae: 0.0706\n",
            "Epoch 115/300\n",
            "513/513 [==============================] - ETA: 0s - loss: 0.0112 - attention_mae: 0.0606\n",
            "Epoch 115: val_loss did not improve from 0.01738\n",
            "513/513 [==============================] - 400s 780ms/step - loss: 0.0112 - attention_mae: 0.0606 - val_loss: 0.0178 - val_attention_mae: 0.0706\n",
            "Epoch 116/300\n",
            "513/513 [==============================] - ETA: 0s - loss: 0.0111 - attention_mae: 0.0604\n",
            "Epoch 116: val_loss did not improve from 0.01738\n",
            "513/513 [==============================] - 400s 779ms/step - loss: 0.0111 - attention_mae: 0.0604 - val_loss: 0.0185 - val_attention_mae: 0.0719\n",
            "Epoch 117/300\n",
            "513/513 [==============================] - ETA: 0s - loss: 0.0110 - attention_mae: 0.0600\n",
            "Epoch 117: val_loss did not improve from 0.01738\n",
            "513/513 [==============================] - 400s 779ms/step - loss: 0.0110 - attention_mae: 0.0600 - val_loss: 0.0191 - val_attention_mae: 0.0750\n",
            "Epoch 118/300\n",
            "513/513 [==============================] - ETA: 0s - loss: 0.0108 - attention_mae: 0.0595\n",
            "Epoch 118: val_loss did not improve from 0.01738\n",
            "513/513 [==============================] - 400s 780ms/step - loss: 0.0108 - attention_mae: 0.0595 - val_loss: 0.0182 - val_attention_mae: 0.0721\n",
            "Epoch 119/300\n",
            "513/513 [==============================] - ETA: 0s - loss: 0.0108 - attention_mae: 0.0593\n",
            "Epoch 119: val_loss did not improve from 0.01738\n",
            "513/513 [==============================] - 400s 779ms/step - loss: 0.0108 - attention_mae: 0.0593 - val_loss: 0.0179 - val_attention_mae: 0.0708\n",
            "Epoch 120/300\n",
            "513/513 [==============================] - ETA: 0s - loss: 0.0108 - attention_mae: 0.0593\n",
            "Epoch 120: val_loss did not improve from 0.01738\n",
            "513/513 [==============================] - 400s 780ms/step - loss: 0.0108 - attention_mae: 0.0593 - val_loss: 0.0191 - val_attention_mae: 0.0726\n",
            "Epoch 121/300\n",
            "513/513 [==============================] - ETA: 0s - loss: 0.0107 - attention_mae: 0.0589\n",
            "Epoch 121: val_loss did not improve from 0.01738\n",
            "513/513 [==============================] - 400s 779ms/step - loss: 0.0107 - attention_mae: 0.0589 - val_loss: 0.0184 - val_attention_mae: 0.0714\n",
            "Epoch 122/300\n",
            "513/513 [==============================] - ETA: 0s - loss: 0.0106 - attention_mae: 0.0588\n",
            "Epoch 122: val_loss did not improve from 0.01738\n",
            "513/513 [==============================] - 400s 780ms/step - loss: 0.0106 - attention_mae: 0.0588 - val_loss: 0.0180 - val_attention_mae: 0.0702\n",
            "Epoch 123/300\n",
            "513/513 [==============================] - ETA: 0s - loss: 0.0107 - attention_mae: 0.0592\n",
            "Epoch 123: val_loss did not improve from 0.01738\n",
            "513/513 [==============================] - 400s 779ms/step - loss: 0.0107 - attention_mae: 0.0592 - val_loss: 0.0194 - val_attention_mae: 0.0743\n",
            "Epoch 124/300\n",
            "513/513 [==============================] - ETA: 0s - loss: 0.0106 - attention_mae: 0.0586\n",
            "Epoch 124: val_loss did not improve from 0.01738\n",
            "513/513 [==============================] - 400s 780ms/step - loss: 0.0106 - attention_mae: 0.0586 - val_loss: 0.0175 - val_attention_mae: 0.0700\n",
            "Epoch 125/300\n",
            "513/513 [==============================] - ETA: 0s - loss: 0.0105 - attention_mae: 0.0582\n",
            "Epoch 125: val_loss did not improve from 0.01738\n",
            "513/513 [==============================] - 400s 780ms/step - loss: 0.0105 - attention_mae: 0.0582 - val_loss: 0.0186 - val_attention_mae: 0.0713\n",
            "Epoch 126/300\n",
            "513/513 [==============================] - ETA: 0s - loss: 0.0103 - attention_mae: 0.0577\n",
            "Epoch 126: val_loss did not improve from 0.01738\n",
            "513/513 [==============================] - 400s 780ms/step - loss: 0.0103 - attention_mae: 0.0577 - val_loss: 0.0180 - val_attention_mae: 0.0707\n",
            "Epoch 127/300\n",
            "513/513 [==============================] - ETA: 0s - loss: 0.0103 - attention_mae: 0.0578\n",
            "Epoch 127: val_loss did not improve from 0.01738\n",
            "513/513 [==============================] - 400s 779ms/step - loss: 0.0103 - attention_mae: 0.0578 - val_loss: 0.0181 - val_attention_mae: 0.0701\n",
            "Epoch 128/300\n",
            "513/513 [==============================] - ETA: 0s - loss: 0.0103 - attention_mae: 0.0578\n",
            "Epoch 128: val_loss did not improve from 0.01738\n",
            "513/513 [==============================] - 400s 779ms/step - loss: 0.0103 - attention_mae: 0.0578 - val_loss: 0.0182 - val_attention_mae: 0.0714\n",
            "Epoch 129/300\n",
            "513/513 [==============================] - ETA: 0s - loss: 0.0102 - attention_mae: 0.0574\n",
            "Epoch 129: val_loss did not improve from 0.01738\n",
            "513/513 [==============================] - 400s 779ms/step - loss: 0.0102 - attention_mae: 0.0574 - val_loss: 0.0183 - val_attention_mae: 0.0715\n",
            "Epoch 130/300\n",
            "513/513 [==============================] - ETA: 0s - loss: 0.0102 - attention_mae: 0.0575\n",
            "Epoch 130: val_loss did not improve from 0.01738\n",
            "513/513 [==============================] - 400s 779ms/step - loss: 0.0102 - attention_mae: 0.0575 - val_loss: 0.0177 - val_attention_mae: 0.0698\n",
            "Epoch 131/300\n",
            "513/513 [==============================] - ETA: 0s - loss: 0.0101 - attention_mae: 0.0571\n",
            "Epoch 131: val_loss did not improve from 0.01738\n",
            "513/513 [==============================] - 400s 779ms/step - loss: 0.0101 - attention_mae: 0.0571 - val_loss: 0.0183 - val_attention_mae: 0.0720\n",
            "Epoch 132/300\n",
            "513/513 [==============================] - ETA: 0s - loss: 0.0101 - attention_mae: 0.0572\n",
            "Epoch 132: val_loss did not improve from 0.01738\n",
            "513/513 [==============================] - 400s 780ms/step - loss: 0.0101 - attention_mae: 0.0572 - val_loss: 0.0183 - val_attention_mae: 0.0705\n",
            "Epoch 133/300\n",
            "513/513 [==============================] - ETA: 0s - loss: 0.0101 - attention_mae: 0.0570\n",
            "Epoch 133: val_loss did not improve from 0.01738\n",
            "513/513 [==============================] - 400s 780ms/step - loss: 0.0101 - attention_mae: 0.0570 - val_loss: 0.0186 - val_attention_mae: 0.0711\n",
            "Epoch 134/300\n",
            "513/513 [==============================] - ETA: 0s - loss: 0.0099 - attention_mae: 0.0564\n",
            "Epoch 134: val_loss did not improve from 0.01738\n",
            "513/513 [==============================] - 400s 779ms/step - loss: 0.0099 - attention_mae: 0.0564 - val_loss: 0.0177 - val_attention_mae: 0.0698\n",
            "Epoch 135/300\n",
            "513/513 [==============================] - ETA: 0s - loss: 0.0099 - attention_mae: 0.0566\n",
            "Epoch 135: val_loss did not improve from 0.01738\n",
            "513/513 [==============================] - 400s 780ms/step - loss: 0.0099 - attention_mae: 0.0566 - val_loss: 0.0181 - val_attention_mae: 0.0695\n",
            "Epoch 136/300\n",
            "513/513 [==============================] - ETA: 0s - loss: 0.0098 - attention_mae: 0.0562\n",
            "Epoch 136: val_loss did not improve from 0.01738\n",
            "513/513 [==============================] - 400s 780ms/step - loss: 0.0098 - attention_mae: 0.0562 - val_loss: 0.0177 - val_attention_mae: 0.0696\n",
            "Epoch 137/300\n",
            "513/513 [==============================] - ETA: 0s - loss: 0.0099 - attention_mae: 0.0563\n",
            "Epoch 137: val_loss did not improve from 0.01738\n",
            "513/513 [==============================] - 400s 779ms/step - loss: 0.0099 - attention_mae: 0.0563 - val_loss: 0.0182 - val_attention_mae: 0.0706\n",
            "Epoch 138/300\n",
            "513/513 [==============================] - ETA: 0s - loss: 0.0097 - attention_mae: 0.0558\n",
            "Epoch 138: val_loss did not improve from 0.01738\n",
            "513/513 [==============================] - 400s 780ms/step - loss: 0.0097 - attention_mae: 0.0558 - val_loss: 0.0174 - val_attention_mae: 0.0688\n",
            "Epoch 139/300\n",
            "513/513 [==============================] - ETA: 0s - loss: 0.0096 - attention_mae: 0.0554\n",
            "Epoch 139: val_loss did not improve from 0.01738\n",
            "513/513 [==============================] - 400s 779ms/step - loss: 0.0096 - attention_mae: 0.0554 - val_loss: 0.0185 - val_attention_mae: 0.0706\n",
            "Epoch 140/300\n",
            "513/513 [==============================] - ETA: 0s - loss: 0.0096 - attention_mae: 0.0555\n",
            "Epoch 140: val_loss did not improve from 0.01738\n",
            "513/513 [==============================] - 400s 780ms/step - loss: 0.0096 - attention_mae: 0.0555 - val_loss: 0.0181 - val_attention_mae: 0.0706\n",
            "Epoch 141/300\n",
            "513/513 [==============================] - ETA: 0s - loss: 0.0094 - attention_mae: 0.0549\n",
            "Epoch 141: val_loss did not improve from 0.01738\n",
            "513/513 [==============================] - 400s 779ms/step - loss: 0.0094 - attention_mae: 0.0549 - val_loss: 0.0181 - val_attention_mae: 0.0706\n",
            "Epoch 142/300\n",
            "513/513 [==============================] - ETA: 0s - loss: 0.0095 - attention_mae: 0.0550\n",
            "Epoch 142: val_loss did not improve from 0.01738\n",
            "513/513 [==============================] - 400s 780ms/step - loss: 0.0095 - attention_mae: 0.0550 - val_loss: 0.0177 - val_attention_mae: 0.0687\n"
          ]
        }
      ],
      "source": [
        "history = model.fit(\n",
        "    train_batches,\n",
        "    validation_data=test_batches,\n",
        "    epochs=N_EPOCHS,\n",
        "    batch_size=BATCH_SIZE,\n",
        "    callbacks=callbacks,\n",
        "    verbose=1\n",
        ")\n"
      ]
    },
    {
      "cell_type": "markdown",
      "metadata": {
        "id": "o0izY6BrsY8U"
      },
      "source": [
        "# Save Model"
      ]
    },
    {
      "cell_type": "code",
      "execution_count": 16,
      "metadata": {
        "id": "BriaW2DnsY8V",
        "colab": {
          "base_uri": "https://localhost:8080/"
        },
        "outputId": "44305da0-e1ce-4402-e8c1-d32ff6dd5b9d"
      },
      "outputs": [
        {
          "output_type": "stream",
          "name": "stderr",
          "text": [
            "WARNING:absl:Found untraced functions such as _jit_compiled_convolution_op, _jit_compiled_convolution_op, _jit_compiled_convolution_op, _jit_compiled_convolution_op, _jit_compiled_convolution_op while saving (showing 5 of 23). These functions will not be directly callable after loading.\n"
          ]
        }
      ],
      "source": [
        "timestamp = datetime.datetime.now().strftime('%b-%d-%I:%M%p')\n",
        "if not os.path.exists(model_path):\n",
        "    os.makedirs(model_path)\n",
        "\n",
        "model.save(os.path.join(model_path, timestamp))"
      ]
    },
    {
      "cell_type": "markdown",
      "metadata": {
        "id": "i_Oi8OvMsY8V"
      },
      "source": [
        "# Save Predictions"
      ]
    },
    {
      "cell_type": "code",
      "execution_count": 17,
      "metadata": {
        "id": "lvBEcrXCsY8V",
        "colab": {
          "base_uri": "https://localhost:8080/"
        },
        "outputId": "bef123cc-79ba-486e-dcd7-11ae4313f8ae"
      },
      "outputs": [
        {
          "output_type": "stream",
          "name": "stderr",
          "text": [
            "\r0it [00:00, ?it/s]"
          ]
        },
        {
          "output_type": "stream",
          "name": "stdout",
          "text": [
            "1/1 [==============================] - 2s 2s/step\n"
          ]
        },
        {
          "output_type": "stream",
          "name": "stderr",
          "text": [
            "\r1it [00:03,  3.51s/it]"
          ]
        },
        {
          "output_type": "stream",
          "name": "stdout",
          "text": [
            "1/1 [==============================] - 0s 22ms/step\n"
          ]
        },
        {
          "output_type": "stream",
          "name": "stderr",
          "text": [
            "\r2it [00:04,  1.89s/it]"
          ]
        },
        {
          "output_type": "stream",
          "name": "stdout",
          "text": [
            "1/1 [==============================] - 0s 24ms/step\n"
          ]
        },
        {
          "output_type": "stream",
          "name": "stderr",
          "text": [
            "\r3it [00:04,  1.22s/it]"
          ]
        },
        {
          "output_type": "stream",
          "name": "stdout",
          "text": [
            "1/1 [==============================] - 0s 22ms/step\n"
          ]
        },
        {
          "output_type": "stream",
          "name": "stderr",
          "text": [
            "\r4it [00:05,  1.10it/s]"
          ]
        },
        {
          "output_type": "stream",
          "name": "stdout",
          "text": [
            "1/1 [==============================] - 0s 22ms/step\n"
          ]
        },
        {
          "output_type": "stream",
          "name": "stderr",
          "text": [
            "\r5it [00:05,  1.36it/s]"
          ]
        },
        {
          "output_type": "stream",
          "name": "stdout",
          "text": [
            "1/1 [==============================] - 0s 29ms/step\n"
          ]
        },
        {
          "output_type": "stream",
          "name": "stderr",
          "text": [
            "\r6it [00:06,  1.56it/s]"
          ]
        },
        {
          "output_type": "stream",
          "name": "stdout",
          "text": [
            "1/1 [==============================] - 0s 25ms/step\n"
          ]
        },
        {
          "output_type": "stream",
          "name": "stderr",
          "text": [
            "\r7it [00:06,  1.74it/s]"
          ]
        },
        {
          "output_type": "stream",
          "name": "stdout",
          "text": [
            "1/1 [==============================] - 0s 21ms/step\n"
          ]
        },
        {
          "output_type": "stream",
          "name": "stderr",
          "text": [
            "\r8it [00:06,  1.89it/s]"
          ]
        },
        {
          "output_type": "stream",
          "name": "stdout",
          "text": [
            "1/1 [==============================] - 0s 22ms/step\n"
          ]
        },
        {
          "output_type": "stream",
          "name": "stderr",
          "text": [
            "\r9it [00:07,  2.12it/s]"
          ]
        },
        {
          "output_type": "stream",
          "name": "stdout",
          "text": [
            "1/1 [==============================] - 0s 21ms/step\n"
          ]
        },
        {
          "output_type": "stream",
          "name": "stderr",
          "text": [
            "\r10it [00:07,  2.29it/s]"
          ]
        },
        {
          "output_type": "stream",
          "name": "stdout",
          "text": [
            "1/1 [==============================] - 0s 22ms/step\n"
          ]
        },
        {
          "output_type": "stream",
          "name": "stderr",
          "text": [
            "\r11it [00:07,  2.43it/s]"
          ]
        },
        {
          "output_type": "stream",
          "name": "stdout",
          "text": [
            "1/1 [==============================] - 0s 21ms/step\n"
          ]
        },
        {
          "output_type": "stream",
          "name": "stderr",
          "text": [
            "\r12it [00:08,  2.40it/s]"
          ]
        },
        {
          "output_type": "stream",
          "name": "stdout",
          "text": [
            "1/1 [==============================] - 0s 23ms/step\n"
          ]
        },
        {
          "output_type": "stream",
          "name": "stderr",
          "text": [
            "\r13it [00:08,  2.52it/s]"
          ]
        },
        {
          "output_type": "stream",
          "name": "stdout",
          "text": [
            "1/1 [==============================] - 0s 21ms/step\n"
          ]
        },
        {
          "output_type": "stream",
          "name": "stderr",
          "text": [
            "\r14it [00:09,  2.60it/s]"
          ]
        },
        {
          "output_type": "stream",
          "name": "stdout",
          "text": [
            "1/1 [==============================] - 0s 23ms/step\n"
          ]
        },
        {
          "output_type": "stream",
          "name": "stderr",
          "text": [
            "\r15it [00:09,  2.65it/s]"
          ]
        },
        {
          "output_type": "stream",
          "name": "stdout",
          "text": [
            "1/1 [==============================] - 0s 23ms/step\n"
          ]
        },
        {
          "output_type": "stream",
          "name": "stderr",
          "text": [
            "\r16it [00:09,  2.64it/s]"
          ]
        },
        {
          "output_type": "stream",
          "name": "stdout",
          "text": [
            "1/1 [==============================] - 0s 21ms/step\n"
          ]
        },
        {
          "output_type": "stream",
          "name": "stderr",
          "text": [
            "\r17it [00:10,  2.53it/s]"
          ]
        },
        {
          "output_type": "stream",
          "name": "stdout",
          "text": [
            "1/1 [==============================] - 0s 20ms/step\n"
          ]
        },
        {
          "output_type": "stream",
          "name": "stderr",
          "text": [
            "\r18it [00:10,  2.50it/s]"
          ]
        },
        {
          "output_type": "stream",
          "name": "stdout",
          "text": [
            "1/1 [==============================] - 0s 21ms/step\n"
          ]
        },
        {
          "output_type": "stream",
          "name": "stderr",
          "text": [
            "\r19it [00:11,  2.46it/s]"
          ]
        },
        {
          "output_type": "stream",
          "name": "stdout",
          "text": [
            "1/1 [==============================] - 0s 22ms/step\n"
          ]
        },
        {
          "output_type": "stream",
          "name": "stderr",
          "text": [
            "\r20it [00:11,  2.52it/s]"
          ]
        },
        {
          "output_type": "stream",
          "name": "stdout",
          "text": [
            "1/1 [==============================] - 0s 22ms/step\n"
          ]
        },
        {
          "output_type": "stream",
          "name": "stderr",
          "text": [
            "\r21it [00:11,  2.59it/s]"
          ]
        },
        {
          "output_type": "stream",
          "name": "stdout",
          "text": [
            "1/1 [==============================] - 0s 21ms/step\n"
          ]
        },
        {
          "output_type": "stream",
          "name": "stderr",
          "text": [
            "\r22it [00:12,  2.66it/s]"
          ]
        },
        {
          "output_type": "stream",
          "name": "stdout",
          "text": [
            "1/1 [==============================] - 0s 23ms/step\n"
          ]
        },
        {
          "output_type": "stream",
          "name": "stderr",
          "text": [
            "\r23it [00:12,  2.72it/s]"
          ]
        },
        {
          "output_type": "stream",
          "name": "stdout",
          "text": [
            "1/1 [==============================] - 0s 21ms/step\n"
          ]
        },
        {
          "output_type": "stream",
          "name": "stderr",
          "text": [
            "\r24it [00:12,  2.62it/s]"
          ]
        },
        {
          "output_type": "stream",
          "name": "stdout",
          "text": [
            "1/1 [==============================] - 0s 22ms/step\n"
          ]
        },
        {
          "output_type": "stream",
          "name": "stderr",
          "text": [
            "\r25it [00:13,  2.51it/s]"
          ]
        },
        {
          "output_type": "stream",
          "name": "stdout",
          "text": [
            "1/1 [==============================] - 0s 26ms/step\n"
          ]
        },
        {
          "output_type": "stream",
          "name": "stderr",
          "text": [
            "\r26it [00:13,  2.42it/s]"
          ]
        },
        {
          "output_type": "stream",
          "name": "stdout",
          "text": [
            "1/1 [==============================] - 0s 24ms/step\n"
          ]
        },
        {
          "output_type": "stream",
          "name": "stderr",
          "text": [
            "\r27it [00:14,  2.35it/s]"
          ]
        },
        {
          "output_type": "stream",
          "name": "stdout",
          "text": [
            "1/1 [==============================] - 0s 22ms/step\n"
          ]
        },
        {
          "output_type": "stream",
          "name": "stderr",
          "text": [
            "\r28it [00:14,  2.27it/s]"
          ]
        },
        {
          "output_type": "stream",
          "name": "stdout",
          "text": [
            "1/1 [==============================] - 0s 22ms/step\n"
          ]
        },
        {
          "output_type": "stream",
          "name": "stderr",
          "text": [
            "\r29it [00:15,  2.26it/s]"
          ]
        },
        {
          "output_type": "stream",
          "name": "stdout",
          "text": [
            "1/1 [==============================] - 0s 24ms/step\n"
          ]
        },
        {
          "output_type": "stream",
          "name": "stderr",
          "text": [
            "\r30it [00:15,  2.27it/s]"
          ]
        },
        {
          "output_type": "stream",
          "name": "stdout",
          "text": [
            "1/1 [==============================] - 0s 24ms/step\n"
          ]
        },
        {
          "output_type": "stream",
          "name": "stderr",
          "text": [
            "\r31it [00:16,  2.26it/s]"
          ]
        },
        {
          "output_type": "stream",
          "name": "stdout",
          "text": [
            "1/1 [==============================] - 0s 22ms/step\n"
          ]
        },
        {
          "output_type": "stream",
          "name": "stderr",
          "text": [
            "\r32it [00:16,  2.27it/s]"
          ]
        },
        {
          "output_type": "stream",
          "name": "stdout",
          "text": [
            "1/1 [==============================] - 0s 23ms/step\n"
          ]
        },
        {
          "output_type": "stream",
          "name": "stderr",
          "text": [
            "\r33it [00:16,  2.35it/s]"
          ]
        },
        {
          "output_type": "stream",
          "name": "stdout",
          "text": [
            "1/1 [==============================] - 0s 22ms/step\n"
          ]
        },
        {
          "output_type": "stream",
          "name": "stderr",
          "text": [
            "\r34it [00:17,  2.41it/s]"
          ]
        },
        {
          "output_type": "stream",
          "name": "stdout",
          "text": [
            "1/1 [==============================] - 0s 22ms/step\n"
          ]
        },
        {
          "output_type": "stream",
          "name": "stderr",
          "text": [
            "\r35it [00:17,  2.41it/s]"
          ]
        },
        {
          "output_type": "stream",
          "name": "stdout",
          "text": [
            "1/1 [==============================] - 0s 25ms/step\n"
          ]
        },
        {
          "output_type": "stream",
          "name": "stderr",
          "text": [
            "\r36it [00:18,  2.41it/s]"
          ]
        },
        {
          "output_type": "stream",
          "name": "stdout",
          "text": [
            "1/1 [==============================] - 0s 22ms/step\n"
          ]
        },
        {
          "output_type": "stream",
          "name": "stderr",
          "text": [
            "\r37it [00:18,  2.40it/s]"
          ]
        },
        {
          "output_type": "stream",
          "name": "stdout",
          "text": [
            "1/1 [==============================] - 0s 21ms/step\n"
          ]
        },
        {
          "output_type": "stream",
          "name": "stderr",
          "text": [
            "\r38it [00:18,  2.39it/s]"
          ]
        },
        {
          "output_type": "stream",
          "name": "stdout",
          "text": [
            "1/1 [==============================] - 0s 21ms/step\n"
          ]
        },
        {
          "output_type": "stream",
          "name": "stderr",
          "text": [
            "\r39it [00:19,  2.51it/s]"
          ]
        },
        {
          "output_type": "stream",
          "name": "stdout",
          "text": [
            "1/1 [==============================] - 0s 21ms/step\n"
          ]
        },
        {
          "output_type": "stream",
          "name": "stderr",
          "text": [
            "\r40it [00:19,  2.62it/s]"
          ]
        },
        {
          "output_type": "stream",
          "name": "stdout",
          "text": [
            "1/1 [==============================] - 0s 21ms/step\n"
          ]
        },
        {
          "output_type": "stream",
          "name": "stderr",
          "text": [
            "\r41it [00:20,  2.69it/s]"
          ]
        },
        {
          "output_type": "stream",
          "name": "stdout",
          "text": [
            "1/1 [==============================] - 0s 21ms/step\n"
          ]
        },
        {
          "output_type": "stream",
          "name": "stderr",
          "text": [
            "\r42it [00:20,  2.64it/s]"
          ]
        },
        {
          "output_type": "stream",
          "name": "stdout",
          "text": [
            "1/1 [==============================] - 0s 21ms/step\n"
          ]
        },
        {
          "output_type": "stream",
          "name": "stderr",
          "text": [
            "\r43it [00:20,  2.56it/s]"
          ]
        },
        {
          "output_type": "stream",
          "name": "stdout",
          "text": [
            "1/1 [==============================] - 0s 22ms/step\n"
          ]
        },
        {
          "output_type": "stream",
          "name": "stderr",
          "text": [
            "\r44it [00:21,  2.63it/s]"
          ]
        },
        {
          "output_type": "stream",
          "name": "stdout",
          "text": [
            "1/1 [==============================] - 0s 21ms/step\n"
          ]
        },
        {
          "output_type": "stream",
          "name": "stderr",
          "text": [
            "\r45it [00:21,  2.69it/s]"
          ]
        },
        {
          "output_type": "stream",
          "name": "stdout",
          "text": [
            "1/1 [==============================] - 0s 21ms/step\n"
          ]
        },
        {
          "output_type": "stream",
          "name": "stderr",
          "text": [
            "\r46it [00:21,  2.67it/s]"
          ]
        },
        {
          "output_type": "stream",
          "name": "stdout",
          "text": [
            "1/1 [==============================] - 0s 22ms/step\n"
          ]
        },
        {
          "output_type": "stream",
          "name": "stderr",
          "text": [
            "\r47it [00:22,  2.72it/s]"
          ]
        },
        {
          "output_type": "stream",
          "name": "stdout",
          "text": [
            "1/1 [==============================] - 0s 21ms/step\n"
          ]
        },
        {
          "output_type": "stream",
          "name": "stderr",
          "text": [
            "\r48it [00:22,  2.63it/s]"
          ]
        },
        {
          "output_type": "stream",
          "name": "stdout",
          "text": [
            "1/1 [==============================] - 0s 20ms/step\n"
          ]
        },
        {
          "output_type": "stream",
          "name": "stderr",
          "text": [
            "\r49it [00:23,  2.56it/s]"
          ]
        },
        {
          "output_type": "stream",
          "name": "stdout",
          "text": [
            "1/1 [==============================] - 0s 24ms/step\n"
          ]
        },
        {
          "output_type": "stream",
          "name": "stderr",
          "text": [
            "\r50it [00:23,  2.51it/s]"
          ]
        },
        {
          "output_type": "stream",
          "name": "stdout",
          "text": [
            "1/1 [==============================] - 0s 22ms/step\n"
          ]
        },
        {
          "output_type": "stream",
          "name": "stderr",
          "text": [
            "\r51it [00:23,  2.53it/s]"
          ]
        },
        {
          "output_type": "stream",
          "name": "stdout",
          "text": [
            "1/1 [==============================] - 0s 22ms/step\n"
          ]
        },
        {
          "output_type": "stream",
          "name": "stderr",
          "text": [
            "\r52it [00:24,  2.48it/s]"
          ]
        },
        {
          "output_type": "stream",
          "name": "stdout",
          "text": [
            "1/1 [==============================] - 0s 21ms/step\n"
          ]
        },
        {
          "output_type": "stream",
          "name": "stderr",
          "text": [
            "\r53it [00:24,  2.45it/s]"
          ]
        },
        {
          "output_type": "stream",
          "name": "stdout",
          "text": [
            "1/1 [==============================] - 0s 21ms/step\n"
          ]
        },
        {
          "output_type": "stream",
          "name": "stderr",
          "text": [
            "\r54it [00:25,  2.55it/s]"
          ]
        },
        {
          "output_type": "stream",
          "name": "stdout",
          "text": [
            "1/1 [==============================] - 0s 22ms/step\n"
          ]
        },
        {
          "output_type": "stream",
          "name": "stderr",
          "text": [
            "\r55it [00:25,  2.51it/s]"
          ]
        },
        {
          "output_type": "stream",
          "name": "stdout",
          "text": [
            "1/1 [==============================] - 0s 21ms/step\n"
          ]
        },
        {
          "output_type": "stream",
          "name": "stderr",
          "text": [
            "\r56it [00:25,  2.47it/s]"
          ]
        },
        {
          "output_type": "stream",
          "name": "stdout",
          "text": [
            "1/1 [==============================] - 0s 22ms/step\n"
          ]
        },
        {
          "output_type": "stream",
          "name": "stderr",
          "text": [
            "\r57it [00:26,  2.43it/s]"
          ]
        },
        {
          "output_type": "stream",
          "name": "stdout",
          "text": [
            "1/1 [==============================] - 0s 23ms/step\n"
          ]
        },
        {
          "output_type": "stream",
          "name": "stderr",
          "text": [
            "\r58it [00:26,  2.39it/s]"
          ]
        },
        {
          "output_type": "stream",
          "name": "stdout",
          "text": [
            "1/1 [==============================] - 0s 29ms/step\n"
          ]
        },
        {
          "output_type": "stream",
          "name": "stderr",
          "text": [
            "\r59it [00:27,  2.36it/s]"
          ]
        },
        {
          "output_type": "stream",
          "name": "stdout",
          "text": [
            "1/1 [==============================] - 0s 21ms/step\n"
          ]
        },
        {
          "output_type": "stream",
          "name": "stderr",
          "text": [
            "\r60it [00:27,  2.38it/s]"
          ]
        },
        {
          "output_type": "stream",
          "name": "stdout",
          "text": [
            "1/1 [==============================] - 0s 22ms/step\n"
          ]
        },
        {
          "output_type": "stream",
          "name": "stderr",
          "text": [
            "\r61it [00:28,  2.38it/s]"
          ]
        },
        {
          "output_type": "stream",
          "name": "stdout",
          "text": [
            "1/1 [==============================] - 0s 22ms/step\n"
          ]
        },
        {
          "output_type": "stream",
          "name": "stderr",
          "text": [
            "\r62it [00:28,  2.34it/s]"
          ]
        },
        {
          "output_type": "stream",
          "name": "stdout",
          "text": [
            "1/1 [==============================] - 0s 21ms/step\n"
          ]
        },
        {
          "output_type": "stream",
          "name": "stderr",
          "text": [
            "\r63it [00:28,  2.31it/s]"
          ]
        },
        {
          "output_type": "stream",
          "name": "stdout",
          "text": [
            "1/1 [==============================] - 0s 22ms/step\n"
          ]
        },
        {
          "output_type": "stream",
          "name": "stderr",
          "text": [
            "\r64it [00:29,  2.30it/s]"
          ]
        },
        {
          "output_type": "stream",
          "name": "stdout",
          "text": [
            "1/1 [==============================] - 0s 22ms/step\n"
          ]
        },
        {
          "output_type": "stream",
          "name": "stderr",
          "text": [
            "\r65it [00:29,  2.41it/s]"
          ]
        },
        {
          "output_type": "stream",
          "name": "stdout",
          "text": [
            "1/1 [==============================] - 0s 24ms/step\n"
          ]
        },
        {
          "output_type": "stream",
          "name": "stderr",
          "text": [
            "\r66it [00:30,  2.40it/s]"
          ]
        },
        {
          "output_type": "stream",
          "name": "stdout",
          "text": [
            "1/1 [==============================] - 0s 22ms/step\n"
          ]
        },
        {
          "output_type": "stream",
          "name": "stderr",
          "text": [
            "\r67it [00:30,  2.44it/s]"
          ]
        },
        {
          "output_type": "stream",
          "name": "stdout",
          "text": [
            "1/1 [==============================] - 0s 20ms/step\n"
          ]
        },
        {
          "output_type": "stream",
          "name": "stderr",
          "text": [
            "\r68it [00:30,  2.52it/s]"
          ]
        },
        {
          "output_type": "stream",
          "name": "stdout",
          "text": [
            "1/1 [==============================] - 0s 22ms/step\n"
          ]
        },
        {
          "output_type": "stream",
          "name": "stderr",
          "text": [
            "\r69it [00:31,  2.61it/s]"
          ]
        },
        {
          "output_type": "stream",
          "name": "stdout",
          "text": [
            "1/1 [==============================] - 0s 25ms/step\n"
          ]
        },
        {
          "output_type": "stream",
          "name": "stderr",
          "text": [
            "\r70it [00:31,  2.68it/s]"
          ]
        },
        {
          "output_type": "stream",
          "name": "stdout",
          "text": [
            "1/1 [==============================] - 0s 21ms/step\n"
          ]
        },
        {
          "output_type": "stream",
          "name": "stderr",
          "text": [
            "\r71it [00:31,  2.70it/s]"
          ]
        },
        {
          "output_type": "stream",
          "name": "stdout",
          "text": [
            "1/1 [==============================] - 0s 21ms/step\n"
          ]
        },
        {
          "output_type": "stream",
          "name": "stderr",
          "text": [
            "\r72it [00:32,  2.60it/s]"
          ]
        },
        {
          "output_type": "stream",
          "name": "stdout",
          "text": [
            "1/1 [==============================] - 0s 21ms/step\n"
          ]
        },
        {
          "output_type": "stream",
          "name": "stderr",
          "text": [
            "\r73it [00:32,  2.55it/s]"
          ]
        },
        {
          "output_type": "stream",
          "name": "stdout",
          "text": [
            "1/1 [==============================] - 0s 21ms/step\n"
          ]
        },
        {
          "output_type": "stream",
          "name": "stderr",
          "text": [
            "\r74it [00:33,  2.50it/s]"
          ]
        },
        {
          "output_type": "stream",
          "name": "stdout",
          "text": [
            "1/1 [==============================] - 0s 21ms/step\n"
          ]
        },
        {
          "output_type": "stream",
          "name": "stderr",
          "text": [
            "\r75it [00:33,  2.49it/s]"
          ]
        },
        {
          "output_type": "stream",
          "name": "stdout",
          "text": [
            "1/1 [==============================] - 0s 21ms/step\n"
          ]
        },
        {
          "output_type": "stream",
          "name": "stderr",
          "text": [
            "\r76it [00:34,  2.49it/s]"
          ]
        },
        {
          "output_type": "stream",
          "name": "stdout",
          "text": [
            "1/1 [==============================] - 0s 21ms/step\n"
          ]
        },
        {
          "output_type": "stream",
          "name": "stderr",
          "text": [
            "\r77it [00:34,  2.47it/s]"
          ]
        },
        {
          "output_type": "stream",
          "name": "stdout",
          "text": [
            "1/1 [==============================] - 0s 21ms/step\n"
          ]
        },
        {
          "output_type": "stream",
          "name": "stderr",
          "text": [
            "\r78it [00:34,  2.47it/s]"
          ]
        },
        {
          "output_type": "stream",
          "name": "stdout",
          "text": [
            "1/1 [==============================] - 0s 22ms/step\n"
          ]
        },
        {
          "output_type": "stream",
          "name": "stderr",
          "text": [
            "\r79it [00:35,  2.55it/s]"
          ]
        },
        {
          "output_type": "stream",
          "name": "stdout",
          "text": [
            "1/1 [==============================] - 0s 21ms/step\n"
          ]
        },
        {
          "output_type": "stream",
          "name": "stderr",
          "text": [
            "\r80it [00:35,  2.65it/s]"
          ]
        },
        {
          "output_type": "stream",
          "name": "stdout",
          "text": [
            "1/1 [==============================] - 0s 22ms/step\n"
          ]
        },
        {
          "output_type": "stream",
          "name": "stderr",
          "text": [
            "\r81it [00:35,  2.58it/s]"
          ]
        },
        {
          "output_type": "stream",
          "name": "stdout",
          "text": [
            "1/1 [==============================] - 0s 21ms/step\n"
          ]
        },
        {
          "output_type": "stream",
          "name": "stderr",
          "text": [
            "\r82it [00:36,  2.53it/s]"
          ]
        },
        {
          "output_type": "stream",
          "name": "stdout",
          "text": [
            "1/1 [==============================] - 0s 27ms/step\n"
          ]
        },
        {
          "output_type": "stream",
          "name": "stderr",
          "text": [
            "\r83it [00:36,  2.49it/s]"
          ]
        },
        {
          "output_type": "stream",
          "name": "stdout",
          "text": [
            "1/1 [==============================] - 0s 23ms/step\n"
          ]
        },
        {
          "output_type": "stream",
          "name": "stderr",
          "text": [
            "\r84it [00:37,  2.61it/s]"
          ]
        },
        {
          "output_type": "stream",
          "name": "stdout",
          "text": [
            "1/1 [==============================] - 0s 22ms/step\n"
          ]
        },
        {
          "output_type": "stream",
          "name": "stderr",
          "text": [
            "\r85it [00:37,  2.52it/s]"
          ]
        },
        {
          "output_type": "stream",
          "name": "stdout",
          "text": [
            "1/1 [==============================] - 0s 20ms/step\n"
          ]
        },
        {
          "output_type": "stream",
          "name": "stderr",
          "text": [
            "\r86it [00:38,  2.46it/s]"
          ]
        },
        {
          "output_type": "stream",
          "name": "stdout",
          "text": [
            "1/1 [==============================] - 0s 21ms/step\n"
          ]
        },
        {
          "output_type": "stream",
          "name": "stderr",
          "text": [
            "\r87it [00:38,  2.42it/s]"
          ]
        },
        {
          "output_type": "stream",
          "name": "stdout",
          "text": [
            "1/1 [==============================] - 0s 22ms/step\n"
          ]
        },
        {
          "output_type": "stream",
          "name": "stderr",
          "text": [
            "\r88it [00:38,  2.53it/s]"
          ]
        },
        {
          "output_type": "stream",
          "name": "stdout",
          "text": [
            "1/1 [==============================] - 0s 21ms/step\n"
          ]
        },
        {
          "output_type": "stream",
          "name": "stderr",
          "text": [
            "\r89it [00:39,  2.63it/s]"
          ]
        },
        {
          "output_type": "stream",
          "name": "stdout",
          "text": [
            "1/1 [==============================] - 0s 21ms/step\n"
          ]
        },
        {
          "output_type": "stream",
          "name": "stderr",
          "text": [
            "\r90it [00:39,  2.44it/s]"
          ]
        },
        {
          "output_type": "stream",
          "name": "stdout",
          "text": [
            "1/1 [==============================] - 0s 21ms/step\n"
          ]
        },
        {
          "output_type": "stream",
          "name": "stderr",
          "text": [
            "\r91it [00:40,  2.41it/s]"
          ]
        },
        {
          "output_type": "stream",
          "name": "stdout",
          "text": [
            "1/1 [==============================] - 0s 23ms/step\n"
          ]
        },
        {
          "output_type": "stream",
          "name": "stderr",
          "text": [
            "\r92it [00:40,  2.38it/s]"
          ]
        },
        {
          "output_type": "stream",
          "name": "stdout",
          "text": [
            "1/1 [==============================] - 0s 21ms/step\n"
          ]
        },
        {
          "output_type": "stream",
          "name": "stderr",
          "text": [
            "\r93it [00:40,  2.35it/s]"
          ]
        },
        {
          "output_type": "stream",
          "name": "stdout",
          "text": [
            "1/1 [==============================] - 0s 22ms/step\n"
          ]
        },
        {
          "output_type": "stream",
          "name": "stderr",
          "text": [
            "\r94it [00:41,  2.34it/s]"
          ]
        },
        {
          "output_type": "stream",
          "name": "stdout",
          "text": [
            "1/1 [==============================] - 0s 21ms/step\n"
          ]
        },
        {
          "output_type": "stream",
          "name": "stderr",
          "text": [
            "\r95it [00:41,  2.34it/s]"
          ]
        },
        {
          "output_type": "stream",
          "name": "stdout",
          "text": [
            "1/1 [==============================] - 0s 22ms/step\n"
          ]
        },
        {
          "output_type": "stream",
          "name": "stderr",
          "text": [
            "\r96it [00:42,  2.33it/s]"
          ]
        },
        {
          "output_type": "stream",
          "name": "stdout",
          "text": [
            "1/1 [==============================] - 0s 22ms/step\n"
          ]
        },
        {
          "output_type": "stream",
          "name": "stderr",
          "text": [
            "\r97it [00:42,  2.35it/s]"
          ]
        },
        {
          "output_type": "stream",
          "name": "stdout",
          "text": [
            "1/1 [==============================] - 0s 21ms/step\n"
          ]
        },
        {
          "output_type": "stream",
          "name": "stderr",
          "text": [
            "\r98it [00:42,  2.49it/s]"
          ]
        },
        {
          "output_type": "stream",
          "name": "stdout",
          "text": [
            "1/1 [==============================] - 0s 21ms/step\n"
          ]
        },
        {
          "output_type": "stream",
          "name": "stderr",
          "text": [
            "\r99it [00:43,  2.51it/s]"
          ]
        },
        {
          "output_type": "stream",
          "name": "stdout",
          "text": [
            "1/1 [==============================] - 0s 22ms/step\n"
          ]
        },
        {
          "output_type": "stream",
          "name": "stderr",
          "text": [
            "\r100it [00:43,  2.47it/s]"
          ]
        },
        {
          "output_type": "stream",
          "name": "stdout",
          "text": [
            "1/1 [==============================] - 0s 22ms/step\n"
          ]
        },
        {
          "output_type": "stream",
          "name": "stderr",
          "text": [
            "\r101it [00:44,  2.44it/s]"
          ]
        },
        {
          "output_type": "stream",
          "name": "stdout",
          "text": [
            "1/1 [==============================] - 0s 21ms/step\n"
          ]
        },
        {
          "output_type": "stream",
          "name": "stderr",
          "text": [
            "\r102it [00:44,  2.41it/s]"
          ]
        },
        {
          "output_type": "stream",
          "name": "stdout",
          "text": [
            "1/1 [==============================] - 0s 21ms/step\n"
          ]
        },
        {
          "output_type": "stream",
          "name": "stderr",
          "text": [
            "\r103it [00:45,  2.39it/s]"
          ]
        },
        {
          "output_type": "stream",
          "name": "stdout",
          "text": [
            "1/1 [==============================] - 0s 21ms/step\n"
          ]
        },
        {
          "output_type": "stream",
          "name": "stderr",
          "text": [
            "\r104it [00:45,  1.99it/s]"
          ]
        },
        {
          "output_type": "stream",
          "name": "stdout",
          "text": [
            "1/1 [==============================] - 0s 23ms/step\n"
          ]
        },
        {
          "output_type": "stream",
          "name": "stderr",
          "text": [
            "\r105it [00:46,  2.11it/s]"
          ]
        },
        {
          "output_type": "stream",
          "name": "stdout",
          "text": [
            "1/1 [==============================] - 0s 24ms/step\n"
          ]
        },
        {
          "output_type": "stream",
          "name": "stderr",
          "text": [
            "\r106it [00:46,  2.20it/s]"
          ]
        },
        {
          "output_type": "stream",
          "name": "stdout",
          "text": [
            "1/1 [==============================] - 0s 23ms/step\n"
          ]
        },
        {
          "output_type": "stream",
          "name": "stderr",
          "text": [
            "\r107it [00:46,  2.25it/s]"
          ]
        },
        {
          "output_type": "stream",
          "name": "stdout",
          "text": [
            "1/1 [==============================] - 0s 24ms/step\n"
          ]
        },
        {
          "output_type": "stream",
          "name": "stderr",
          "text": [
            "\r108it [00:47,  2.41it/s]"
          ]
        },
        {
          "output_type": "stream",
          "name": "stdout",
          "text": [
            "1/1 [==============================] - 0s 23ms/step\n"
          ]
        },
        {
          "output_type": "stream",
          "name": "stderr",
          "text": [
            "\r109it [00:47,  2.44it/s]"
          ]
        },
        {
          "output_type": "stream",
          "name": "stdout",
          "text": [
            "1/1 [==============================] - 0s 23ms/step\n"
          ]
        },
        {
          "output_type": "stream",
          "name": "stderr",
          "text": [
            "\r110it [00:48,  2.44it/s]"
          ]
        },
        {
          "output_type": "stream",
          "name": "stdout",
          "text": [
            "1/1 [==============================] - 0s 23ms/step\n"
          ]
        },
        {
          "output_type": "stream",
          "name": "stderr",
          "text": [
            "\r111it [00:48,  2.51it/s]"
          ]
        },
        {
          "output_type": "stream",
          "name": "stdout",
          "text": [
            "1/1 [==============================] - 0s 23ms/step\n"
          ]
        },
        {
          "output_type": "stream",
          "name": "stderr",
          "text": [
            "\r112it [00:48,  2.58it/s]"
          ]
        },
        {
          "output_type": "stream",
          "name": "stdout",
          "text": [
            "1/1 [==============================] - 0s 23ms/step\n"
          ]
        },
        {
          "output_type": "stream",
          "name": "stderr",
          "text": [
            "\r113it [00:49,  2.63it/s]"
          ]
        },
        {
          "output_type": "stream",
          "name": "stdout",
          "text": [
            "1/1 [==============================] - 0s 22ms/step\n"
          ]
        },
        {
          "output_type": "stream",
          "name": "stderr",
          "text": [
            "\r114it [00:49,  2.69it/s]"
          ]
        },
        {
          "output_type": "stream",
          "name": "stdout",
          "text": [
            "1/1 [==============================] - 0s 25ms/step\n"
          ]
        },
        {
          "output_type": "stream",
          "name": "stderr",
          "text": [
            "\r115it [00:49,  2.71it/s]"
          ]
        },
        {
          "output_type": "stream",
          "name": "stdout",
          "text": [
            "1/1 [==============================] - 0s 22ms/step\n"
          ]
        },
        {
          "output_type": "stream",
          "name": "stderr",
          "text": [
            "\r116it [00:50,  2.73it/s]"
          ]
        },
        {
          "output_type": "stream",
          "name": "stdout",
          "text": [
            "1/1 [==============================] - 0s 22ms/step\n"
          ]
        },
        {
          "output_type": "stream",
          "name": "stderr",
          "text": [
            "\r117it [00:50,  2.77it/s]"
          ]
        },
        {
          "output_type": "stream",
          "name": "stdout",
          "text": [
            "1/1 [==============================] - 0s 22ms/step\n"
          ]
        },
        {
          "output_type": "stream",
          "name": "stderr",
          "text": [
            "\r118it [00:51,  2.71it/s]"
          ]
        },
        {
          "output_type": "stream",
          "name": "stdout",
          "text": [
            "1/1 [==============================] - 0s 21ms/step\n"
          ]
        },
        {
          "output_type": "stream",
          "name": "stderr",
          "text": [
            "\r119it [00:51,  2.78it/s]"
          ]
        },
        {
          "output_type": "stream",
          "name": "stdout",
          "text": [
            "1/1 [==============================] - 0s 23ms/step\n"
          ]
        },
        {
          "output_type": "stream",
          "name": "stderr",
          "text": [
            "\r120it [00:51,  2.70it/s]"
          ]
        },
        {
          "output_type": "stream",
          "name": "stdout",
          "text": [
            "1/1 [==============================] - 0s 21ms/step\n"
          ]
        },
        {
          "output_type": "stream",
          "name": "stderr",
          "text": [
            "\r121it [00:52,  2.72it/s]"
          ]
        },
        {
          "output_type": "stream",
          "name": "stdout",
          "text": [
            "1/1 [==============================] - 0s 22ms/step\n"
          ]
        },
        {
          "output_type": "stream",
          "name": "stderr",
          "text": [
            "\r122it [00:52,  2.57it/s]"
          ]
        },
        {
          "output_type": "stream",
          "name": "stdout",
          "text": [
            "1/1 [==============================] - 0s 24ms/step\n"
          ]
        },
        {
          "output_type": "stream",
          "name": "stderr",
          "text": [
            "\r123it [00:53,  2.45it/s]"
          ]
        },
        {
          "output_type": "stream",
          "name": "stdout",
          "text": [
            "1/1 [==============================] - 0s 23ms/step\n"
          ]
        },
        {
          "output_type": "stream",
          "name": "stderr",
          "text": [
            "\r124it [00:53,  2.40it/s]"
          ]
        },
        {
          "output_type": "stream",
          "name": "stdout",
          "text": [
            "1/1 [==============================] - 0s 22ms/step\n"
          ]
        },
        {
          "output_type": "stream",
          "name": "stderr",
          "text": [
            "\r125it [00:53,  2.36it/s]"
          ]
        },
        {
          "output_type": "stream",
          "name": "stdout",
          "text": [
            "1/1 [==============================] - 0s 23ms/step\n"
          ]
        },
        {
          "output_type": "stream",
          "name": "stderr",
          "text": [
            "\r126it [00:54,  2.31it/s]"
          ]
        },
        {
          "output_type": "stream",
          "name": "stdout",
          "text": [
            "1/1 [==============================] - 0s 21ms/step\n"
          ]
        },
        {
          "output_type": "stream",
          "name": "stderr",
          "text": [
            "\r127it [00:54,  2.30it/s]"
          ]
        },
        {
          "output_type": "stream",
          "name": "stdout",
          "text": [
            "1/1 [==============================] - 0s 23ms/step\n"
          ]
        },
        {
          "output_type": "stream",
          "name": "stderr",
          "text": [
            "\r128it [00:55,  2.31it/s]"
          ]
        },
        {
          "output_type": "stream",
          "name": "stdout",
          "text": [
            "1/1 [==============================] - 0s 22ms/step\n"
          ]
        },
        {
          "output_type": "stream",
          "name": "stderr",
          "text": [
            "\r129it [00:55,  2.46it/s]"
          ]
        },
        {
          "output_type": "stream",
          "name": "stdout",
          "text": [
            "1/1 [==============================] - 0s 21ms/step\n"
          ]
        },
        {
          "output_type": "stream",
          "name": "stderr",
          "text": [
            "\r130it [00:56,  2.44it/s]"
          ]
        },
        {
          "output_type": "stream",
          "name": "stdout",
          "text": [
            "1/1 [==============================] - 0s 23ms/step\n"
          ]
        },
        {
          "output_type": "stream",
          "name": "stderr",
          "text": [
            "\r131it [00:56,  2.42it/s]"
          ]
        },
        {
          "output_type": "stream",
          "name": "stdout",
          "text": [
            "1/1 [==============================] - 0s 23ms/step\n"
          ]
        },
        {
          "output_type": "stream",
          "name": "stderr",
          "text": [
            "\r132it [00:56,  2.40it/s]"
          ]
        },
        {
          "output_type": "stream",
          "name": "stdout",
          "text": [
            "1/1 [==============================] - 0s 21ms/step\n"
          ]
        },
        {
          "output_type": "stream",
          "name": "stderr",
          "text": [
            "\r133it [00:57,  2.40it/s]"
          ]
        },
        {
          "output_type": "stream",
          "name": "stdout",
          "text": [
            "1/1 [==============================] - 0s 21ms/step\n"
          ]
        },
        {
          "output_type": "stream",
          "name": "stderr",
          "text": [
            "\r134it [00:57,  2.37it/s]"
          ]
        },
        {
          "output_type": "stream",
          "name": "stdout",
          "text": [
            "1/1 [==============================] - 0s 20ms/step\n"
          ]
        },
        {
          "output_type": "stream",
          "name": "stderr",
          "text": [
            "\r135it [00:58,  2.46it/s]"
          ]
        },
        {
          "output_type": "stream",
          "name": "stdout",
          "text": [
            "1/1 [==============================] - 0s 21ms/step\n"
          ]
        },
        {
          "output_type": "stream",
          "name": "stderr",
          "text": [
            "\r136it [00:58,  2.43it/s]"
          ]
        },
        {
          "output_type": "stream",
          "name": "stdout",
          "text": [
            "1/1 [==============================] - 0s 21ms/step\n"
          ]
        },
        {
          "output_type": "stream",
          "name": "stderr",
          "text": [
            "\r137it [00:58,  2.40it/s]"
          ]
        },
        {
          "output_type": "stream",
          "name": "stdout",
          "text": [
            "1/1 [==============================] - 0s 21ms/step\n"
          ]
        },
        {
          "output_type": "stream",
          "name": "stderr",
          "text": [
            "\r138it [00:59,  2.39it/s]"
          ]
        },
        {
          "output_type": "stream",
          "name": "stdout",
          "text": [
            "1/1 [==============================] - 0s 21ms/step\n"
          ]
        },
        {
          "output_type": "stream",
          "name": "stderr",
          "text": [
            "\r139it [00:59,  2.36it/s]"
          ]
        },
        {
          "output_type": "stream",
          "name": "stdout",
          "text": [
            "1/1 [==============================] - 0s 23ms/step\n"
          ]
        },
        {
          "output_type": "stream",
          "name": "stderr",
          "text": [
            "\r140it [01:00,  2.33it/s]"
          ]
        },
        {
          "output_type": "stream",
          "name": "stdout",
          "text": [
            "1/1 [==============================] - 0s 21ms/step\n"
          ]
        },
        {
          "output_type": "stream",
          "name": "stderr",
          "text": [
            "\r141it [01:00,  2.32it/s]"
          ]
        },
        {
          "output_type": "stream",
          "name": "stdout",
          "text": [
            "1/1 [==============================] - 0s 22ms/step\n"
          ]
        },
        {
          "output_type": "stream",
          "name": "stderr",
          "text": [
            "\r142it [01:01,  2.29it/s]"
          ]
        },
        {
          "output_type": "stream",
          "name": "stdout",
          "text": [
            "1/1 [==============================] - 0s 22ms/step\n"
          ]
        },
        {
          "output_type": "stream",
          "name": "stderr",
          "text": [
            "\r143it [01:01,  2.32it/s]"
          ]
        },
        {
          "output_type": "stream",
          "name": "stdout",
          "text": [
            "1/1 [==============================] - 0s 21ms/step\n"
          ]
        },
        {
          "output_type": "stream",
          "name": "stderr",
          "text": [
            "\r144it [01:01,  2.33it/s]"
          ]
        },
        {
          "output_type": "stream",
          "name": "stdout",
          "text": [
            "1/1 [==============================] - 0s 21ms/step\n"
          ]
        },
        {
          "output_type": "stream",
          "name": "stderr",
          "text": [
            "\r145it [01:02,  2.39it/s]"
          ]
        },
        {
          "output_type": "stream",
          "name": "stdout",
          "text": [
            "1/1 [==============================] - 0s 21ms/step\n"
          ]
        },
        {
          "output_type": "stream",
          "name": "stderr",
          "text": [
            "\r146it [01:02,  2.48it/s]"
          ]
        },
        {
          "output_type": "stream",
          "name": "stdout",
          "text": [
            "1/1 [==============================] - 0s 22ms/step\n"
          ]
        },
        {
          "output_type": "stream",
          "name": "stderr",
          "text": [
            "\r147it [01:03,  2.53it/s]"
          ]
        },
        {
          "output_type": "stream",
          "name": "stdout",
          "text": [
            "1/1 [==============================] - 0s 23ms/step\n"
          ]
        },
        {
          "output_type": "stream",
          "name": "stderr",
          "text": [
            "\r148it [01:03,  2.58it/s]"
          ]
        },
        {
          "output_type": "stream",
          "name": "stdout",
          "text": [
            "1/1 [==============================] - 0s 22ms/step\n"
          ]
        },
        {
          "output_type": "stream",
          "name": "stderr",
          "text": [
            "\r149it [01:03,  2.66it/s]"
          ]
        },
        {
          "output_type": "stream",
          "name": "stdout",
          "text": [
            "1/1 [==============================] - 0s 20ms/step\n"
          ]
        },
        {
          "output_type": "stream",
          "name": "stderr",
          "text": [
            "\r150it [01:04,  2.55it/s]"
          ]
        },
        {
          "output_type": "stream",
          "name": "stdout",
          "text": [
            "1/1 [==============================] - 0s 20ms/step\n"
          ]
        },
        {
          "output_type": "stream",
          "name": "stderr",
          "text": [
            "\r151it [01:04,  2.48it/s]"
          ]
        },
        {
          "output_type": "stream",
          "name": "stdout",
          "text": [
            "1/1 [==============================] - 0s 21ms/step\n"
          ]
        },
        {
          "output_type": "stream",
          "name": "stderr",
          "text": [
            "\r152it [01:05,  2.48it/s]"
          ]
        },
        {
          "output_type": "stream",
          "name": "stdout",
          "text": [
            "1/1 [==============================] - 0s 21ms/step\n"
          ]
        },
        {
          "output_type": "stream",
          "name": "stderr",
          "text": [
            "\r153it [01:05,  2.43it/s]"
          ]
        },
        {
          "output_type": "stream",
          "name": "stdout",
          "text": [
            "1/1 [==============================] - 0s 21ms/step\n"
          ]
        },
        {
          "output_type": "stream",
          "name": "stderr",
          "text": [
            "\r154it [01:05,  2.41it/s]"
          ]
        },
        {
          "output_type": "stream",
          "name": "stdout",
          "text": [
            "1/1 [==============================] - 0s 27ms/step\n"
          ]
        },
        {
          "output_type": "stream",
          "name": "stderr",
          "text": [
            "\r155it [01:06,  2.37it/s]"
          ]
        },
        {
          "output_type": "stream",
          "name": "stdout",
          "text": [
            "1/1 [==============================] - 0s 23ms/step\n"
          ]
        },
        {
          "output_type": "stream",
          "name": "stderr",
          "text": [
            "\r156it [01:06,  2.32it/s]"
          ]
        },
        {
          "output_type": "stream",
          "name": "stdout",
          "text": [
            "1/1 [==============================] - 0s 22ms/step\n"
          ]
        },
        {
          "output_type": "stream",
          "name": "stderr",
          "text": [
            "\r157it [01:07,  2.30it/s]"
          ]
        },
        {
          "output_type": "stream",
          "name": "stdout",
          "text": [
            "1/1 [==============================] - 0s 21ms/step\n"
          ]
        },
        {
          "output_type": "stream",
          "name": "stderr",
          "text": [
            "\r158it [01:07,  2.28it/s]"
          ]
        },
        {
          "output_type": "stream",
          "name": "stdout",
          "text": [
            "1/1 [==============================] - 0s 28ms/step\n"
          ]
        },
        {
          "output_type": "stream",
          "name": "stderr",
          "text": [
            "\r159it [01:08,  2.25it/s]"
          ]
        },
        {
          "output_type": "stream",
          "name": "stdout",
          "text": [
            "1/1 [==============================] - 0s 25ms/step\n"
          ]
        },
        {
          "output_type": "stream",
          "name": "stderr",
          "text": [
            "\r160it [01:08,  2.27it/s]"
          ]
        },
        {
          "output_type": "stream",
          "name": "stdout",
          "text": [
            "1/1 [==============================] - 0s 20ms/step\n"
          ]
        },
        {
          "output_type": "stream",
          "name": "stderr",
          "text": [
            "\r161it [01:09,  2.30it/s]"
          ]
        },
        {
          "output_type": "stream",
          "name": "stdout",
          "text": [
            "1/1 [==============================] - 0s 24ms/step\n"
          ]
        },
        {
          "output_type": "stream",
          "name": "stderr",
          "text": [
            "\r162it [01:09,  2.28it/s]"
          ]
        },
        {
          "output_type": "stream",
          "name": "stdout",
          "text": [
            "1/1 [==============================] - 0s 21ms/step\n"
          ]
        },
        {
          "output_type": "stream",
          "name": "stderr",
          "text": [
            "\r163it [01:09,  2.33it/s]"
          ]
        },
        {
          "output_type": "stream",
          "name": "stdout",
          "text": [
            "1/1 [==============================] - 0s 21ms/step\n"
          ]
        },
        {
          "output_type": "stream",
          "name": "stderr",
          "text": [
            "\r164it [01:10,  2.32it/s]"
          ]
        },
        {
          "output_type": "stream",
          "name": "stdout",
          "text": [
            "1/1 [==============================] - 0s 21ms/step\n"
          ]
        },
        {
          "output_type": "stream",
          "name": "stderr",
          "text": [
            "\r165it [01:10,  2.33it/s]"
          ]
        },
        {
          "output_type": "stream",
          "name": "stdout",
          "text": [
            "1/1 [==============================] - 0s 20ms/step\n"
          ]
        },
        {
          "output_type": "stream",
          "name": "stderr",
          "text": [
            "\r166it [01:11,  2.43it/s]"
          ]
        },
        {
          "output_type": "stream",
          "name": "stdout",
          "text": [
            "1/1 [==============================] - 0s 20ms/step\n"
          ]
        },
        {
          "output_type": "stream",
          "name": "stderr",
          "text": [
            "\r167it [01:11,  2.56it/s]"
          ]
        },
        {
          "output_type": "stream",
          "name": "stdout",
          "text": [
            "1/1 [==============================] - 0s 20ms/step\n"
          ]
        },
        {
          "output_type": "stream",
          "name": "stderr",
          "text": [
            "\r168it [01:11,  2.52it/s]"
          ]
        },
        {
          "output_type": "stream",
          "name": "stdout",
          "text": [
            "1/1 [==============================] - 0s 24ms/step\n"
          ]
        },
        {
          "output_type": "stream",
          "name": "stderr",
          "text": [
            "\r169it [01:12,  2.47it/s]"
          ]
        },
        {
          "output_type": "stream",
          "name": "stdout",
          "text": [
            "1/1 [==============================] - 0s 20ms/step\n"
          ]
        },
        {
          "output_type": "stream",
          "name": "stderr",
          "text": [
            "\r170it [01:12,  2.46it/s]"
          ]
        },
        {
          "output_type": "stream",
          "name": "stdout",
          "text": [
            "1/1 [==============================] - 0s 20ms/step\n"
          ]
        },
        {
          "output_type": "stream",
          "name": "stderr",
          "text": [
            "\r171it [01:13,  2.56it/s]"
          ]
        },
        {
          "output_type": "stream",
          "name": "stdout",
          "text": [
            "1/1 [==============================] - 0s 22ms/step\n"
          ]
        },
        {
          "output_type": "stream",
          "name": "stderr",
          "text": [
            "\r172it [01:13,  2.50it/s]"
          ]
        },
        {
          "output_type": "stream",
          "name": "stdout",
          "text": [
            "1/1 [==============================] - 0s 21ms/step\n"
          ]
        },
        {
          "output_type": "stream",
          "name": "stderr",
          "text": [
            "\r173it [01:13,  2.61it/s]"
          ]
        },
        {
          "output_type": "stream",
          "name": "stdout",
          "text": [
            "1/1 [==============================] - 0s 20ms/step\n"
          ]
        },
        {
          "output_type": "stream",
          "name": "stderr",
          "text": [
            "\r174it [01:14,  2.51it/s]"
          ]
        },
        {
          "output_type": "stream",
          "name": "stdout",
          "text": [
            "1/1 [==============================] - 0s 21ms/step\n"
          ]
        },
        {
          "output_type": "stream",
          "name": "stderr",
          "text": [
            "\r175it [01:14,  2.48it/s]"
          ]
        },
        {
          "output_type": "stream",
          "name": "stdout",
          "text": [
            "1/1 [==============================] - 0s 20ms/step\n"
          ]
        },
        {
          "output_type": "stream",
          "name": "stderr",
          "text": [
            "\r176it [01:15,  2.45it/s]"
          ]
        },
        {
          "output_type": "stream",
          "name": "stdout",
          "text": [
            "1/1 [==============================] - 0s 23ms/step\n"
          ]
        },
        {
          "output_type": "stream",
          "name": "stderr",
          "text": [
            "\r177it [01:15,  2.41it/s]"
          ]
        },
        {
          "output_type": "stream",
          "name": "stdout",
          "text": [
            "1/1 [==============================] - 0s 22ms/step\n"
          ]
        },
        {
          "output_type": "stream",
          "name": "stderr",
          "text": [
            "\r178it [01:15,  2.41it/s]"
          ]
        },
        {
          "output_type": "stream",
          "name": "stdout",
          "text": [
            "1/1 [==============================] - 0s 24ms/step\n"
          ]
        },
        {
          "output_type": "stream",
          "name": "stderr",
          "text": [
            "\r179it [01:16,  2.49it/s]"
          ]
        },
        {
          "output_type": "stream",
          "name": "stdout",
          "text": [
            "1/1 [==============================] - 0s 20ms/step\n"
          ]
        },
        {
          "output_type": "stream",
          "name": "stderr",
          "text": [
            "\r180it [01:16,  2.59it/s]"
          ]
        },
        {
          "output_type": "stream",
          "name": "stdout",
          "text": [
            "1/1 [==============================] - 0s 21ms/step\n"
          ]
        },
        {
          "output_type": "stream",
          "name": "stderr",
          "text": [
            "\r181it [01:17,  2.65it/s]"
          ]
        },
        {
          "output_type": "stream",
          "name": "stdout",
          "text": [
            "1/1 [==============================] - 0s 22ms/step\n"
          ]
        },
        {
          "output_type": "stream",
          "name": "stderr",
          "text": [
            "\r182it [01:17,  2.53it/s]"
          ]
        },
        {
          "output_type": "stream",
          "name": "stdout",
          "text": [
            "1/1 [==============================] - 0s 21ms/step\n"
          ]
        },
        {
          "output_type": "stream",
          "name": "stderr",
          "text": [
            "\r183it [01:17,  2.47it/s]"
          ]
        },
        {
          "output_type": "stream",
          "name": "stdout",
          "text": [
            "1/1 [==============================] - 0s 22ms/step\n"
          ]
        },
        {
          "output_type": "stream",
          "name": "stderr",
          "text": [
            "\r184it [01:18,  2.41it/s]"
          ]
        },
        {
          "output_type": "stream",
          "name": "stdout",
          "text": [
            "1/1 [==============================] - 0s 34ms/step\n"
          ]
        },
        {
          "output_type": "stream",
          "name": "stderr",
          "text": [
            "\r185it [01:18,  2.32it/s]"
          ]
        },
        {
          "output_type": "stream",
          "name": "stdout",
          "text": [
            "1/1 [==============================] - 0s 20ms/step\n"
          ]
        },
        {
          "output_type": "stream",
          "name": "stderr",
          "text": [
            "\r186it [01:19,  2.32it/s]"
          ]
        },
        {
          "output_type": "stream",
          "name": "stdout",
          "text": [
            "1/1 [==============================] - 0s 22ms/step\n"
          ]
        },
        {
          "output_type": "stream",
          "name": "stderr",
          "text": [
            "\r187it [01:19,  2.32it/s]"
          ]
        },
        {
          "output_type": "stream",
          "name": "stdout",
          "text": [
            "1/1 [==============================] - 0s 21ms/step\n"
          ]
        },
        {
          "output_type": "stream",
          "name": "stderr",
          "text": [
            "\r188it [01:20,  2.32it/s]"
          ]
        },
        {
          "output_type": "stream",
          "name": "stdout",
          "text": [
            "1/1 [==============================] - 0s 22ms/step\n"
          ]
        },
        {
          "output_type": "stream",
          "name": "stderr",
          "text": [
            "\r189it [01:20,  2.28it/s]"
          ]
        },
        {
          "output_type": "stream",
          "name": "stdout",
          "text": [
            "1/1 [==============================] - 0s 21ms/step\n"
          ]
        },
        {
          "output_type": "stream",
          "name": "stderr",
          "text": [
            "\r190it [01:20,  2.30it/s]"
          ]
        },
        {
          "output_type": "stream",
          "name": "stdout",
          "text": [
            "1/1 [==============================] - 0s 20ms/step\n"
          ]
        },
        {
          "output_type": "stream",
          "name": "stderr",
          "text": [
            "\r191it [01:21,  2.29it/s]"
          ]
        },
        {
          "output_type": "stream",
          "name": "stdout",
          "text": [
            "1/1 [==============================] - 0s 21ms/step\n"
          ]
        },
        {
          "output_type": "stream",
          "name": "stderr",
          "text": [
            "\r192it [01:21,  2.42it/s]"
          ]
        },
        {
          "output_type": "stream",
          "name": "stdout",
          "text": [
            "1/1 [==============================] - 0s 20ms/step\n"
          ]
        },
        {
          "output_type": "stream",
          "name": "stderr",
          "text": [
            "\r193it [01:22,  2.41it/s]"
          ]
        },
        {
          "output_type": "stream",
          "name": "stdout",
          "text": [
            "1/1 [==============================] - 0s 21ms/step\n"
          ]
        },
        {
          "output_type": "stream",
          "name": "stderr",
          "text": [
            "\r194it [01:22,  2.50it/s]"
          ]
        },
        {
          "output_type": "stream",
          "name": "stdout",
          "text": [
            "1/1 [==============================] - 0s 20ms/step\n"
          ]
        },
        {
          "output_type": "stream",
          "name": "stderr",
          "text": [
            "\r195it [01:22,  2.58it/s]"
          ]
        },
        {
          "output_type": "stream",
          "name": "stdout",
          "text": [
            "1/1 [==============================] - 0s 21ms/step\n"
          ]
        },
        {
          "output_type": "stream",
          "name": "stderr",
          "text": [
            "\r196it [01:23,  2.56it/s]"
          ]
        },
        {
          "output_type": "stream",
          "name": "stdout",
          "text": [
            "1/1 [==============================] - 0s 24ms/step\n"
          ]
        },
        {
          "output_type": "stream",
          "name": "stderr",
          "text": [
            "\r197it [01:23,  2.49it/s]"
          ]
        },
        {
          "output_type": "stream",
          "name": "stdout",
          "text": [
            "1/1 [==============================] - 0s 21ms/step\n"
          ]
        },
        {
          "output_type": "stream",
          "name": "stderr",
          "text": [
            "\r198it [01:24,  2.45it/s]"
          ]
        },
        {
          "output_type": "stream",
          "name": "stdout",
          "text": [
            "1/1 [==============================] - 0s 23ms/step\n"
          ]
        },
        {
          "output_type": "stream",
          "name": "stderr",
          "text": [
            "\r199it [01:24,  2.42it/s]"
          ]
        },
        {
          "output_type": "stream",
          "name": "stdout",
          "text": [
            "1/1 [==============================] - 0s 21ms/step\n"
          ]
        },
        {
          "output_type": "stream",
          "name": "stderr",
          "text": [
            "\r200it [01:24,  2.41it/s]"
          ]
        },
        {
          "output_type": "stream",
          "name": "stdout",
          "text": [
            "1/1 [==============================] - 0s 25ms/step\n"
          ]
        },
        {
          "output_type": "stream",
          "name": "stderr",
          "text": [
            "\r201it [01:25,  2.38it/s]"
          ]
        },
        {
          "output_type": "stream",
          "name": "stdout",
          "text": [
            "1/1 [==============================] - 0s 21ms/step\n"
          ]
        },
        {
          "output_type": "stream",
          "name": "stderr",
          "text": [
            "\r202it [01:25,  2.38it/s]"
          ]
        },
        {
          "output_type": "stream",
          "name": "stdout",
          "text": [
            "1/1 [==============================] - 0s 21ms/step\n"
          ]
        },
        {
          "output_type": "stream",
          "name": "stderr",
          "text": [
            "\r203it [01:26,  2.38it/s]"
          ]
        },
        {
          "output_type": "stream",
          "name": "stdout",
          "text": [
            "1/1 [==============================] - 0s 21ms/step\n"
          ]
        },
        {
          "output_type": "stream",
          "name": "stderr",
          "text": [
            "\r204it [01:26,  2.36it/s]"
          ]
        },
        {
          "output_type": "stream",
          "name": "stdout",
          "text": [
            "1/1 [==============================] - 0s 22ms/step\n"
          ]
        },
        {
          "output_type": "stream",
          "name": "stderr",
          "text": [
            "\r205it [01:27,  2.35it/s]"
          ]
        },
        {
          "output_type": "stream",
          "name": "stdout",
          "text": [
            "1/1 [==============================] - 0s 22ms/step\n"
          ]
        },
        {
          "output_type": "stream",
          "name": "stderr",
          "text": [
            "\r206it [01:27,  2.41it/s]"
          ]
        },
        {
          "output_type": "stream",
          "name": "stdout",
          "text": [
            "1/1 [==============================] - 0s 21ms/step\n"
          ]
        },
        {
          "output_type": "stream",
          "name": "stderr",
          "text": [
            "\r207it [01:28,  1.99it/s]"
          ]
        },
        {
          "output_type": "stream",
          "name": "stdout",
          "text": [
            "1/1 [==============================] - 0s 23ms/step\n"
          ]
        },
        {
          "output_type": "stream",
          "name": "stderr",
          "text": [
            "\r208it [01:28,  2.15it/s]"
          ]
        },
        {
          "output_type": "stream",
          "name": "stdout",
          "text": [
            "1/1 [==============================] - 0s 28ms/step\n"
          ]
        },
        {
          "output_type": "stream",
          "name": "stderr",
          "text": [
            "\r209it [01:29,  2.23it/s]"
          ]
        },
        {
          "output_type": "stream",
          "name": "stdout",
          "text": [
            "1/1 [==============================] - 0s 28ms/step\n"
          ]
        },
        {
          "output_type": "stream",
          "name": "stderr",
          "text": [
            "\r210it [01:29,  2.22it/s]"
          ]
        },
        {
          "output_type": "stream",
          "name": "stdout",
          "text": [
            "1/1 [==============================] - 0s 25ms/step\n"
          ]
        },
        {
          "output_type": "stream",
          "name": "stderr",
          "text": [
            "\r211it [01:29,  2.23it/s]"
          ]
        },
        {
          "output_type": "stream",
          "name": "stdout",
          "text": [
            "1/1 [==============================] - 0s 23ms/step\n"
          ]
        },
        {
          "output_type": "stream",
          "name": "stderr",
          "text": [
            "\r212it [01:30,  2.23it/s]"
          ]
        },
        {
          "output_type": "stream",
          "name": "stdout",
          "text": [
            "1/1 [==============================] - 0s 25ms/step\n"
          ]
        },
        {
          "output_type": "stream",
          "name": "stderr",
          "text": [
            "\r213it [01:30,  2.22it/s]"
          ]
        },
        {
          "output_type": "stream",
          "name": "stdout",
          "text": [
            "1/1 [==============================] - 0s 28ms/step\n"
          ]
        },
        {
          "output_type": "stream",
          "name": "stderr",
          "text": [
            "\r214it [01:31,  2.20it/s]"
          ]
        },
        {
          "output_type": "stream",
          "name": "stdout",
          "text": [
            "1/1 [==============================] - 0s 25ms/step\n"
          ]
        },
        {
          "output_type": "stream",
          "name": "stderr",
          "text": [
            "\r215it [01:31,  2.11it/s]"
          ]
        },
        {
          "output_type": "stream",
          "name": "stdout",
          "text": [
            "1/1 [==============================] - 0s 28ms/step\n"
          ]
        },
        {
          "output_type": "stream",
          "name": "stderr",
          "text": [
            "\r216it [01:32,  2.03it/s]"
          ]
        },
        {
          "output_type": "stream",
          "name": "stdout",
          "text": [
            "1/1 [==============================] - 0s 30ms/step\n"
          ]
        },
        {
          "output_type": "stream",
          "name": "stderr",
          "text": [
            "\r217it [01:32,  2.08it/s]"
          ]
        },
        {
          "output_type": "stream",
          "name": "stdout",
          "text": [
            "1/1 [==============================] - 0s 23ms/step\n"
          ]
        },
        {
          "output_type": "stream",
          "name": "stderr",
          "text": [
            "\r218it [01:33,  2.11it/s]"
          ]
        },
        {
          "output_type": "stream",
          "name": "stdout",
          "text": [
            "1/1 [==============================] - 0s 24ms/step\n"
          ]
        },
        {
          "output_type": "stream",
          "name": "stderr",
          "text": [
            "\r219it [01:33,  2.15it/s]"
          ]
        },
        {
          "output_type": "stream",
          "name": "stdout",
          "text": [
            "1/1 [==============================] - 0s 23ms/step\n"
          ]
        },
        {
          "output_type": "stream",
          "name": "stderr",
          "text": [
            "\r220it [01:34,  2.21it/s]"
          ]
        },
        {
          "output_type": "stream",
          "name": "stdout",
          "text": [
            "1/1 [==============================] - 0s 28ms/step\n"
          ]
        },
        {
          "output_type": "stream",
          "name": "stderr",
          "text": [
            "\r221it [01:34,  2.23it/s]"
          ]
        },
        {
          "output_type": "stream",
          "name": "stdout",
          "text": [
            "1/1 [==============================] - 0s 23ms/step\n"
          ]
        },
        {
          "output_type": "stream",
          "name": "stderr",
          "text": [
            "\r222it [01:34,  2.23it/s]"
          ]
        },
        {
          "output_type": "stream",
          "name": "stdout",
          "text": [
            "1/1 [==============================] - 0s 22ms/step\n"
          ]
        },
        {
          "output_type": "stream",
          "name": "stderr",
          "text": [
            "\r223it [01:35,  2.26it/s]"
          ]
        },
        {
          "output_type": "stream",
          "name": "stdout",
          "text": [
            "1/1 [==============================] - 0s 21ms/step\n"
          ]
        },
        {
          "output_type": "stream",
          "name": "stderr",
          "text": [
            "\r224it [01:35,  2.29it/s]"
          ]
        },
        {
          "output_type": "stream",
          "name": "stdout",
          "text": [
            "1/1 [==============================] - 0s 22ms/step\n"
          ]
        },
        {
          "output_type": "stream",
          "name": "stderr",
          "text": [
            "\r225it [01:36,  2.31it/s]"
          ]
        },
        {
          "output_type": "stream",
          "name": "stdout",
          "text": [
            "1/1 [==============================] - 0s 21ms/step\n"
          ]
        },
        {
          "output_type": "stream",
          "name": "stderr",
          "text": [
            "\r226it [01:36,  2.32it/s]"
          ]
        },
        {
          "output_type": "stream",
          "name": "stdout",
          "text": [
            "1/1 [==============================] - 0s 22ms/step\n"
          ]
        },
        {
          "output_type": "stream",
          "name": "stderr",
          "text": [
            "\r227it [01:37,  2.32it/s]"
          ]
        },
        {
          "output_type": "stream",
          "name": "stdout",
          "text": [
            "1/1 [==============================] - 0s 21ms/step\n"
          ]
        },
        {
          "output_type": "stream",
          "name": "stderr",
          "text": [
            "\r228it [01:37,  2.32it/s]"
          ]
        },
        {
          "output_type": "stream",
          "name": "stdout",
          "text": [
            "1/1 [==============================] - 0s 21ms/step\n"
          ]
        },
        {
          "output_type": "stream",
          "name": "stderr",
          "text": [
            "\r229it [01:37,  2.34it/s]"
          ]
        },
        {
          "output_type": "stream",
          "name": "stdout",
          "text": [
            "1/1 [==============================] - 0s 22ms/step\n"
          ]
        },
        {
          "output_type": "stream",
          "name": "stderr",
          "text": [
            "\r230it [01:38,  2.32it/s]"
          ]
        },
        {
          "output_type": "stream",
          "name": "stdout",
          "text": [
            "1/1 [==============================] - 0s 22ms/step\n"
          ]
        },
        {
          "output_type": "stream",
          "name": "stderr",
          "text": [
            "\r231it [01:38,  2.40it/s]"
          ]
        },
        {
          "output_type": "stream",
          "name": "stdout",
          "text": [
            "1/1 [==============================] - 0s 21ms/step\n"
          ]
        },
        {
          "output_type": "stream",
          "name": "stderr",
          "text": [
            "\r232it [01:39,  2.50it/s]"
          ]
        },
        {
          "output_type": "stream",
          "name": "stdout",
          "text": [
            "1/1 [==============================] - 0s 21ms/step\n"
          ]
        },
        {
          "output_type": "stream",
          "name": "stderr",
          "text": [
            "\r233it [01:39,  2.44it/s]"
          ]
        },
        {
          "output_type": "stream",
          "name": "stdout",
          "text": [
            "1/1 [==============================] - 0s 22ms/step\n"
          ]
        },
        {
          "output_type": "stream",
          "name": "stderr",
          "text": [
            "\r234it [01:40,  2.42it/s]"
          ]
        },
        {
          "output_type": "stream",
          "name": "stdout",
          "text": [
            "1/1 [==============================] - 0s 22ms/step\n"
          ]
        },
        {
          "output_type": "stream",
          "name": "stderr",
          "text": [
            "\r235it [01:40,  2.54it/s]"
          ]
        },
        {
          "output_type": "stream",
          "name": "stdout",
          "text": [
            "1/1 [==============================] - 0s 21ms/step\n"
          ]
        },
        {
          "output_type": "stream",
          "name": "stderr",
          "text": [
            "\r236it [01:40,  2.49it/s]"
          ]
        },
        {
          "output_type": "stream",
          "name": "stdout",
          "text": [
            "1/1 [==============================] - 0s 20ms/step\n"
          ]
        },
        {
          "output_type": "stream",
          "name": "stderr",
          "text": [
            "\r237it [01:41,  2.46it/s]"
          ]
        },
        {
          "output_type": "stream",
          "name": "stdout",
          "text": [
            "1/1 [==============================] - 0s 21ms/step\n"
          ]
        },
        {
          "output_type": "stream",
          "name": "stderr",
          "text": [
            "\r238it [01:41,  2.51it/s]"
          ]
        },
        {
          "output_type": "stream",
          "name": "stdout",
          "text": [
            "1/1 [==============================] - 0s 21ms/step\n"
          ]
        },
        {
          "output_type": "stream",
          "name": "stderr",
          "text": [
            "\r239it [01:41,  2.61it/s]"
          ]
        },
        {
          "output_type": "stream",
          "name": "stdout",
          "text": [
            "1/1 [==============================] - 0s 21ms/step\n"
          ]
        },
        {
          "output_type": "stream",
          "name": "stderr",
          "text": [
            "\r240it [01:42,  2.57it/s]"
          ]
        },
        {
          "output_type": "stream",
          "name": "stdout",
          "text": [
            "1/1 [==============================] - 0s 21ms/step\n"
          ]
        },
        {
          "output_type": "stream",
          "name": "stderr",
          "text": [
            "\r241it [01:42,  2.52it/s]"
          ]
        },
        {
          "output_type": "stream",
          "name": "stdout",
          "text": [
            "1/1 [==============================] - 0s 21ms/step\n"
          ]
        },
        {
          "output_type": "stream",
          "name": "stderr",
          "text": [
            "\r242it [01:43,  2.49it/s]"
          ]
        },
        {
          "output_type": "stream",
          "name": "stdout",
          "text": [
            "1/1 [==============================] - 0s 20ms/step\n"
          ]
        },
        {
          "output_type": "stream",
          "name": "stderr",
          "text": [
            "\r243it [01:43,  2.58it/s]"
          ]
        },
        {
          "output_type": "stream",
          "name": "stdout",
          "text": [
            "1/1 [==============================] - 0s 22ms/step\n"
          ]
        },
        {
          "output_type": "stream",
          "name": "stderr",
          "text": [
            "\r244it [01:43,  2.52it/s]"
          ]
        },
        {
          "output_type": "stream",
          "name": "stdout",
          "text": [
            "1/1 [==============================] - 0s 21ms/step\n"
          ]
        },
        {
          "output_type": "stream",
          "name": "stderr",
          "text": [
            "\r245it [01:44,  2.59it/s]"
          ]
        },
        {
          "output_type": "stream",
          "name": "stdout",
          "text": [
            "1/1 [==============================] - 0s 21ms/step\n"
          ]
        },
        {
          "output_type": "stream",
          "name": "stderr",
          "text": [
            "\r246it [01:44,  2.61it/s]"
          ]
        },
        {
          "output_type": "stream",
          "name": "stdout",
          "text": [
            "1/1 [==============================] - 0s 24ms/step\n"
          ]
        },
        {
          "output_type": "stream",
          "name": "stderr",
          "text": [
            "\r247it [01:45,  2.49it/s]"
          ]
        },
        {
          "output_type": "stream",
          "name": "stdout",
          "text": [
            "1/1 [==============================] - 0s 21ms/step\n"
          ]
        },
        {
          "output_type": "stream",
          "name": "stderr",
          "text": [
            "\r248it [01:45,  2.42it/s]"
          ]
        },
        {
          "output_type": "stream",
          "name": "stdout",
          "text": [
            "1/1 [==============================] - 0s 26ms/step\n"
          ]
        },
        {
          "output_type": "stream",
          "name": "stderr",
          "text": [
            "\r249it [01:45,  2.39it/s]"
          ]
        },
        {
          "output_type": "stream",
          "name": "stdout",
          "text": [
            "1/1 [==============================] - 0s 21ms/step\n"
          ]
        },
        {
          "output_type": "stream",
          "name": "stderr",
          "text": [
            "\r250it [01:46,  2.36it/s]"
          ]
        },
        {
          "output_type": "stream",
          "name": "stdout",
          "text": [
            "1/1 [==============================] - 0s 23ms/step\n"
          ]
        },
        {
          "output_type": "stream",
          "name": "stderr",
          "text": [
            "\r251it [01:46,  2.35it/s]"
          ]
        },
        {
          "output_type": "stream",
          "name": "stdout",
          "text": [
            "1/1 [==============================] - 0s 21ms/step\n"
          ]
        },
        {
          "output_type": "stream",
          "name": "stderr",
          "text": [
            "\r252it [01:47,  2.34it/s]"
          ]
        },
        {
          "output_type": "stream",
          "name": "stdout",
          "text": [
            "1/1 [==============================] - 0s 26ms/step\n"
          ]
        },
        {
          "output_type": "stream",
          "name": "stderr",
          "text": [
            "\r253it [01:47,  2.31it/s]"
          ]
        },
        {
          "output_type": "stream",
          "name": "stdout",
          "text": [
            "1/1 [==============================] - 0s 22ms/step\n"
          ]
        },
        {
          "output_type": "stream",
          "name": "stderr",
          "text": [
            "\r254it [01:48,  2.35it/s]"
          ]
        },
        {
          "output_type": "stream",
          "name": "stdout",
          "text": [
            "1/1 [==============================] - 0s 21ms/step\n"
          ]
        },
        {
          "output_type": "stream",
          "name": "stderr",
          "text": [
            "\r255it [01:48,  2.35it/s]"
          ]
        },
        {
          "output_type": "stream",
          "name": "stdout",
          "text": [
            "1/1 [==============================] - 0s 22ms/step\n"
          ]
        },
        {
          "output_type": "stream",
          "name": "stderr",
          "text": [
            "\r256it [01:48,  2.36it/s]"
          ]
        },
        {
          "output_type": "stream",
          "name": "stdout",
          "text": [
            "1/1 [==============================] - 0s 21ms/step\n"
          ]
        },
        {
          "output_type": "stream",
          "name": "stderr",
          "text": [
            "\r257it [01:49,  2.48it/s]"
          ]
        },
        {
          "output_type": "stream",
          "name": "stdout",
          "text": [
            "1/1 [==============================] - 0s 20ms/step\n"
          ]
        },
        {
          "output_type": "stream",
          "name": "stderr",
          "text": [
            "\r258it [01:49,  2.55it/s]"
          ]
        },
        {
          "output_type": "stream",
          "name": "stdout",
          "text": [
            "1/1 [==============================] - 0s 20ms/step\n"
          ]
        },
        {
          "output_type": "stream",
          "name": "stderr",
          "text": [
            "\r259it [01:50,  2.60it/s]"
          ]
        },
        {
          "output_type": "stream",
          "name": "stdout",
          "text": [
            "1/1 [==============================] - 0s 21ms/step\n"
          ]
        },
        {
          "output_type": "stream",
          "name": "stderr",
          "text": [
            "\r260it [01:50,  2.53it/s]"
          ]
        },
        {
          "output_type": "stream",
          "name": "stdout",
          "text": [
            "1/1 [==============================] - 0s 20ms/step\n"
          ]
        },
        {
          "output_type": "stream",
          "name": "stderr",
          "text": [
            "\r261it [01:50,  2.63it/s]"
          ]
        },
        {
          "output_type": "stream",
          "name": "stdout",
          "text": [
            "1/1 [==============================] - 0s 21ms/step\n"
          ]
        },
        {
          "output_type": "stream",
          "name": "stderr",
          "text": [
            "\r262it [01:51,  2.56it/s]"
          ]
        },
        {
          "output_type": "stream",
          "name": "stdout",
          "text": [
            "1/1 [==============================] - 0s 21ms/step\n"
          ]
        },
        {
          "output_type": "stream",
          "name": "stderr",
          "text": [
            "\r263it [01:51,  2.48it/s]"
          ]
        },
        {
          "output_type": "stream",
          "name": "stdout",
          "text": [
            "1/1 [==============================] - 0s 20ms/step\n"
          ]
        },
        {
          "output_type": "stream",
          "name": "stderr",
          "text": [
            "\r264it [01:52,  2.47it/s]"
          ]
        },
        {
          "output_type": "stream",
          "name": "stdout",
          "text": [
            "1/1 [==============================] - 0s 21ms/step\n"
          ]
        },
        {
          "output_type": "stream",
          "name": "stderr",
          "text": [
            "\r265it [01:52,  2.46it/s]"
          ]
        },
        {
          "output_type": "stream",
          "name": "stdout",
          "text": [
            "1/1 [==============================] - 0s 21ms/step\n"
          ]
        },
        {
          "output_type": "stream",
          "name": "stderr",
          "text": [
            "\r266it [01:52,  2.58it/s]"
          ]
        },
        {
          "output_type": "stream",
          "name": "stdout",
          "text": [
            "1/1 [==============================] - 0s 22ms/step\n"
          ]
        },
        {
          "output_type": "stream",
          "name": "stderr",
          "text": [
            "\r267it [01:53,  2.67it/s]"
          ]
        },
        {
          "output_type": "stream",
          "name": "stdout",
          "text": [
            "1/1 [==============================] - 0s 19ms/step\n"
          ]
        },
        {
          "output_type": "stream",
          "name": "stderr",
          "text": [
            "\r268it [01:53,  2.74it/s]"
          ]
        },
        {
          "output_type": "stream",
          "name": "stdout",
          "text": [
            "1/1 [==============================] - 0s 22ms/step\n"
          ]
        },
        {
          "output_type": "stream",
          "name": "stderr",
          "text": [
            "\r269it [01:53,  2.59it/s]"
          ]
        },
        {
          "output_type": "stream",
          "name": "stdout",
          "text": [
            "1/1 [==============================] - 0s 21ms/step\n"
          ]
        },
        {
          "output_type": "stream",
          "name": "stderr",
          "text": [
            "\r270it [01:54,  2.64it/s]"
          ]
        },
        {
          "output_type": "stream",
          "name": "stdout",
          "text": [
            "1/1 [==============================] - 0s 22ms/step\n"
          ]
        },
        {
          "output_type": "stream",
          "name": "stderr",
          "text": [
            "\r271it [01:54,  2.56it/s]"
          ]
        },
        {
          "output_type": "stream",
          "name": "stdout",
          "text": [
            "1/1 [==============================] - 0s 21ms/step\n"
          ]
        },
        {
          "output_type": "stream",
          "name": "stderr",
          "text": [
            "\r272it [01:55,  2.62it/s]"
          ]
        },
        {
          "output_type": "stream",
          "name": "stdout",
          "text": [
            "1/1 [==============================] - 0s 20ms/step\n"
          ]
        },
        {
          "output_type": "stream",
          "name": "stderr",
          "text": [
            "\r273it [01:55,  2.70it/s]"
          ]
        },
        {
          "output_type": "stream",
          "name": "stdout",
          "text": [
            "1/1 [==============================] - 0s 21ms/step\n"
          ]
        },
        {
          "output_type": "stream",
          "name": "stderr",
          "text": [
            "\r274it [01:55,  2.62it/s]"
          ]
        },
        {
          "output_type": "stream",
          "name": "stdout",
          "text": [
            "1/1 [==============================] - 0s 20ms/step\n"
          ]
        },
        {
          "output_type": "stream",
          "name": "stderr",
          "text": [
            "\r275it [01:56,  2.69it/s]"
          ]
        },
        {
          "output_type": "stream",
          "name": "stdout",
          "text": [
            "1/1 [==============================] - 0s 21ms/step\n"
          ]
        },
        {
          "output_type": "stream",
          "name": "stderr",
          "text": [
            "\r276it [01:56,  2.76it/s]"
          ]
        },
        {
          "output_type": "stream",
          "name": "stdout",
          "text": [
            "1/1 [==============================] - 0s 21ms/step\n"
          ]
        },
        {
          "output_type": "stream",
          "name": "stderr",
          "text": [
            "\r277it [01:56,  2.75it/s]"
          ]
        },
        {
          "output_type": "stream",
          "name": "stdout",
          "text": [
            "1/1 [==============================] - 0s 21ms/step\n"
          ]
        },
        {
          "output_type": "stream",
          "name": "stderr",
          "text": [
            "\r278it [01:57,  2.63it/s]"
          ]
        },
        {
          "output_type": "stream",
          "name": "stdout",
          "text": [
            "1/1 [==============================] - 0s 21ms/step\n"
          ]
        },
        {
          "output_type": "stream",
          "name": "stderr",
          "text": [
            "\r279it [01:57,  2.50it/s]"
          ]
        },
        {
          "output_type": "stream",
          "name": "stdout",
          "text": [
            "1/1 [==============================] - 0s 24ms/step\n"
          ]
        },
        {
          "output_type": "stream",
          "name": "stderr",
          "text": [
            "\r280it [01:58,  2.42it/s]"
          ]
        },
        {
          "output_type": "stream",
          "name": "stdout",
          "text": [
            "1/1 [==============================] - 0s 22ms/step\n"
          ]
        },
        {
          "output_type": "stream",
          "name": "stderr",
          "text": [
            "\r281it [01:58,  2.36it/s]"
          ]
        },
        {
          "output_type": "stream",
          "name": "stdout",
          "text": [
            "1/1 [==============================] - 0s 23ms/step\n"
          ]
        },
        {
          "output_type": "stream",
          "name": "stderr",
          "text": [
            "\r282it [01:59,  2.31it/s]"
          ]
        },
        {
          "output_type": "stream",
          "name": "stdout",
          "text": [
            "1/1 [==============================] - 0s 24ms/step\n"
          ]
        },
        {
          "output_type": "stream",
          "name": "stderr",
          "text": [
            "\r283it [01:59,  2.30it/s]"
          ]
        },
        {
          "output_type": "stream",
          "name": "stdout",
          "text": [
            "1/1 [==============================] - 0s 21ms/step\n"
          ]
        },
        {
          "output_type": "stream",
          "name": "stderr",
          "text": [
            "\r284it [01:59,  2.31it/s]"
          ]
        },
        {
          "output_type": "stream",
          "name": "stdout",
          "text": [
            "1/1 [==============================] - 0s 22ms/step\n"
          ]
        },
        {
          "output_type": "stream",
          "name": "stderr",
          "text": [
            "\r285it [02:00,  2.29it/s]"
          ]
        },
        {
          "output_type": "stream",
          "name": "stdout",
          "text": [
            "1/1 [==============================] - 0s 21ms/step\n"
          ]
        },
        {
          "output_type": "stream",
          "name": "stderr",
          "text": [
            "\r286it [02:00,  2.30it/s]"
          ]
        },
        {
          "output_type": "stream",
          "name": "stdout",
          "text": [
            "1/1 [==============================] - 0s 24ms/step\n"
          ]
        },
        {
          "output_type": "stream",
          "name": "stderr",
          "text": [
            "\r287it [02:01,  2.34it/s]"
          ]
        },
        {
          "output_type": "stream",
          "name": "stdout",
          "text": [
            "1/1 [==============================] - 0s 22ms/step\n"
          ]
        },
        {
          "output_type": "stream",
          "name": "stderr",
          "text": [
            "\r288it [02:01,  2.33it/s]"
          ]
        },
        {
          "output_type": "stream",
          "name": "stdout",
          "text": [
            "1/1 [==============================] - 0s 22ms/step\n"
          ]
        },
        {
          "output_type": "stream",
          "name": "stderr",
          "text": [
            "\r289it [02:02,  2.33it/s]"
          ]
        },
        {
          "output_type": "stream",
          "name": "stdout",
          "text": [
            "1/1 [==============================] - 0s 22ms/step\n"
          ]
        },
        {
          "output_type": "stream",
          "name": "stderr",
          "text": [
            "\r290it [02:02,  2.46it/s]"
          ]
        },
        {
          "output_type": "stream",
          "name": "stdout",
          "text": [
            "1/1 [==============================] - 0s 22ms/step\n"
          ]
        },
        {
          "output_type": "stream",
          "name": "stderr",
          "text": [
            "\r291it [02:02,  2.60it/s]"
          ]
        },
        {
          "output_type": "stream",
          "name": "stdout",
          "text": [
            "1/1 [==============================] - 0s 21ms/step\n"
          ]
        },
        {
          "output_type": "stream",
          "name": "stderr",
          "text": [
            "\r292it [02:03,  2.66it/s]"
          ]
        },
        {
          "output_type": "stream",
          "name": "stdout",
          "text": [
            "1/1 [==============================] - 0s 20ms/step\n"
          ]
        },
        {
          "output_type": "stream",
          "name": "stderr",
          "text": [
            "\r293it [02:03,  2.57it/s]"
          ]
        },
        {
          "output_type": "stream",
          "name": "stdout",
          "text": [
            "1/1 [==============================] - 0s 22ms/step\n"
          ]
        },
        {
          "output_type": "stream",
          "name": "stderr",
          "text": [
            "\r294it [02:04,  2.50it/s]"
          ]
        },
        {
          "output_type": "stream",
          "name": "stdout",
          "text": [
            "1/1 [==============================] - 0s 21ms/step\n"
          ]
        },
        {
          "output_type": "stream",
          "name": "stderr",
          "text": [
            "\r295it [02:04,  2.46it/s]"
          ]
        },
        {
          "output_type": "stream",
          "name": "stdout",
          "text": [
            "1/1 [==============================] - 0s 20ms/step\n"
          ]
        },
        {
          "output_type": "stream",
          "name": "stderr",
          "text": [
            "\r296it [02:04,  2.45it/s]"
          ]
        },
        {
          "output_type": "stream",
          "name": "stdout",
          "text": [
            "1/1 [==============================] - 0s 21ms/step\n"
          ]
        },
        {
          "output_type": "stream",
          "name": "stderr",
          "text": [
            "\r297it [02:05,  2.52it/s]"
          ]
        },
        {
          "output_type": "stream",
          "name": "stdout",
          "text": [
            "1/1 [==============================] - 0s 21ms/step\n"
          ]
        },
        {
          "output_type": "stream",
          "name": "stderr",
          "text": [
            "\r298it [02:05,  2.62it/s]"
          ]
        },
        {
          "output_type": "stream",
          "name": "stdout",
          "text": [
            "1/1 [==============================] - 0s 21ms/step\n"
          ]
        },
        {
          "output_type": "stream",
          "name": "stderr",
          "text": [
            "\r299it [02:05,  2.56it/s]"
          ]
        },
        {
          "output_type": "stream",
          "name": "stdout",
          "text": [
            "1/1 [==============================] - 0s 21ms/step\n"
          ]
        },
        {
          "output_type": "stream",
          "name": "stderr",
          "text": [
            "\r300it [02:06,  2.61it/s]"
          ]
        },
        {
          "output_type": "stream",
          "name": "stdout",
          "text": [
            "1/1 [==============================] - 0s 21ms/step\n"
          ]
        },
        {
          "output_type": "stream",
          "name": "stderr",
          "text": [
            "\r301it [02:06,  2.56it/s]"
          ]
        },
        {
          "output_type": "stream",
          "name": "stdout",
          "text": [
            "1/1 [==============================] - 0s 21ms/step\n"
          ]
        },
        {
          "output_type": "stream",
          "name": "stderr",
          "text": [
            "\r302it [02:07,  2.53it/s]"
          ]
        },
        {
          "output_type": "stream",
          "name": "stdout",
          "text": [
            "1/1 [==============================] - 0s 21ms/step\n"
          ]
        },
        {
          "output_type": "stream",
          "name": "stderr",
          "text": [
            "\r303it [02:07,  2.52it/s]"
          ]
        },
        {
          "output_type": "stream",
          "name": "stdout",
          "text": [
            "1/1 [==============================] - 0s 21ms/step\n"
          ]
        },
        {
          "output_type": "stream",
          "name": "stderr",
          "text": [
            "\r304it [02:07,  2.63it/s]"
          ]
        },
        {
          "output_type": "stream",
          "name": "stdout",
          "text": [
            "1/1 [==============================] - 0s 21ms/step\n"
          ]
        },
        {
          "output_type": "stream",
          "name": "stderr",
          "text": [
            "\r305it [02:08,  2.56it/s]"
          ]
        },
        {
          "output_type": "stream",
          "name": "stdout",
          "text": [
            "1/1 [==============================] - 0s 21ms/step\n"
          ]
        },
        {
          "output_type": "stream",
          "name": "stderr",
          "text": [
            "\r306it [02:08,  2.51it/s]"
          ]
        },
        {
          "output_type": "stream",
          "name": "stdout",
          "text": [
            "1/1 [==============================] - 0s 20ms/step\n"
          ]
        },
        {
          "output_type": "stream",
          "name": "stderr",
          "text": [
            "\r307it [02:09,  2.09it/s]"
          ]
        },
        {
          "output_type": "stream",
          "name": "stdout",
          "text": [
            "1/1 [==============================] - 0s 24ms/step\n"
          ]
        },
        {
          "output_type": "stream",
          "name": "stderr",
          "text": [
            "\r308it [02:09,  2.18it/s]"
          ]
        },
        {
          "output_type": "stream",
          "name": "stdout",
          "text": [
            "1/1 [==============================] - 0s 24ms/step\n"
          ]
        },
        {
          "output_type": "stream",
          "name": "stderr",
          "text": [
            "\r309it [02:10,  2.31it/s]"
          ]
        },
        {
          "output_type": "stream",
          "name": "stdout",
          "text": [
            "1/1 [==============================] - 0s 24ms/step\n"
          ]
        },
        {
          "output_type": "stream",
          "name": "stderr",
          "text": [
            "\r310it [02:10,  2.40it/s]"
          ]
        },
        {
          "output_type": "stream",
          "name": "stdout",
          "text": [
            "1/1 [==============================] - 0s 24ms/step\n"
          ]
        },
        {
          "output_type": "stream",
          "name": "stderr",
          "text": [
            "\r311it [02:10,  2.41it/s]"
          ]
        },
        {
          "output_type": "stream",
          "name": "stdout",
          "text": [
            "1/1 [==============================] - 0s 26ms/step\n"
          ]
        },
        {
          "output_type": "stream",
          "name": "stderr",
          "text": [
            "312it [02:11,  2.37it/s]\n"
          ]
        }
      ],
      "source": [
        "test_ds_unbatched = test_batches.unbatch()\n",
        "\n",
        "pred_path = os.path.join(PRED_PATH, EXP_NAME, timestamp)\n",
        "if not os.path.exists(pred_path):\n",
        "    os.makedirs(pred_path)\n",
        "\n",
        "metrics = pd.DataFrame()\n",
        "\n",
        "for idx, (input, target) in enumerate(tqdm(test_ds_unbatched)):\n",
        "\n",
        "    target = tf.squeeze(target).numpy()\n",
        "    prediction = tf.squeeze(\n",
        "        model.predict(\n",
        "            tf.expand_dims(input, axis=0)\n",
        "        )\n",
        "    ).numpy()\n",
        "    prediction[target == 1.0] = 1.0\n",
        "\n",
        "    plt.figure(figsize=(7, 7))\n",
        "    plt.imshow(target)\n",
        "    plt.axis(\"off\")\n",
        "    plt.tight_layout()\n",
        "    plt.savefig(os.path.join(pred_path, f\"{idx}_T.png\"))\n",
        "    plt.close()\n",
        "\n",
        "    plt.figure(figsize=(7, 7))\n",
        "    plt.imshow(prediction)\n",
        "    plt.axis(\"off\")\n",
        "    plt.tight_layout()\n",
        "    plt.savefig(os.path.join(pred_path, f\"{idx}_P.png\"))\n",
        "    plt.close()\n"
      ]
    },
    {
      "cell_type": "markdown",
      "metadata": {
        "id": "7X8uip-GsY8V"
      },
      "source": [
        "# Loss Curve"
      ]
    },
    {
      "cell_type": "code",
      "execution_count": 18,
      "metadata": {
        "id": "uSb9pzrasY8W"
      },
      "outputs": [],
      "source": [
        "try:\n",
        "    loss = history.history['loss']\n",
        "    val_loss = history.history['val_loss']\n",
        "\n",
        "    plt.figure(figsize=(8, 6))\n",
        "    plt.plot(loss, label='Training Loss')\n",
        "    plt.plot(val_loss, label='Validation Loss')\n",
        "    plt.legend(loc='upper right')\n",
        "    plt.ylabel('Attention MAE')\n",
        "    plt.title('Training and Validation Loss')\n",
        "    plt.xlabel('Epoch')\n",
        "    plt.tight_layout()\n",
        "    plt.savefig(os.path.join(model_path, timestamp + \".png\"))\n",
        "    plt.close()\n",
        "except:\n",
        "    print(\"Model did not finish training\")\n"
      ]
    },
    {
      "cell_type": "markdown",
      "metadata": {
        "id": "1hMNNE0VsY8W"
      },
      "source": [
        "# Metrics"
      ]
    },
    {
      "cell_type": "code",
      "execution_count": 19,
      "metadata": {
        "id": "QGXSmlicsY8W",
        "colab": {
          "base_uri": "https://localhost:8080/"
        },
        "outputId": "ac6b89a4-da1f-4022-8f0d-d5d74f3a2d0a"
      },
      "outputs": [
        {
          "output_type": "stream",
          "name": "stdout",
          "text": [
            "20/20 [==============================] - 3s 157ms/step - loss: 0.0174 - attention_mae: 0.0701\n"
          ]
        },
        {
          "output_type": "execute_result",
          "data": {
            "text/plain": [
              "[0.01738385483622551, 0.07014688104391098]"
            ]
          },
          "metadata": {},
          "execution_count": 19
        }
      ],
      "source": [
        "model.evaluate(test_batches)\n"
      ]
    }
  ],
  "metadata": {
    "kernelspec": {
      "display_name": "Ai",
      "language": "python",
      "name": "python3"
    },
    "language_info": {
      "codemirror_mode": {
        "name": "ipython",
        "version": 3
      },
      "file_extension": ".py",
      "mimetype": "text/x-python",
      "name": "python",
      "nbconvert_exporter": "python",
      "pygments_lexer": "ipython3",
      "version": "3.10.9"
    },
    "orig_nbformat": 4,
    "colab": {
      "provenance": [],
      "toc_visible": true,
      "machine_shape": "hm",
      "include_colab_link": true
    },
    "accelerator": "GPU",
    "gpuClass": "standard"
  },
  "nbformat": 4,
  "nbformat_minor": 0
}