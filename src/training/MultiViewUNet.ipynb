{
  "cells": [
    {
      "cell_type": "markdown",
      "metadata": {
        "id": "view-in-github",
        "colab_type": "text"
      },
      "source": [
        "<a href=\"https://colab.research.google.com/github/atick-faisal/MultiViewUNet-Aneurysm/blob/main/src/training/MultiViewUNet.ipynb\" target=\"_parent\"><img src=\"https://colab.research.google.com/assets/colab-badge.svg\" alt=\"Open In Colab\"/></a>"
      ]
    },
    {
      "cell_type": "markdown",
      "metadata": {
        "id": "0BWh-7swsY8G"
      },
      "source": [
        "# Colab Info\n"
      ]
    },
    {
      "cell_type": "code",
      "execution_count": 1,
      "metadata": {
        "colab": {
          "base_uri": "https://localhost:8080/"
        },
        "id": "qKSzwmmpsY8K",
        "outputId": "141525b0-f3d2-4a5c-d0e3-60f3f9ae0ebb"
      },
      "outputs": [
        {
          "output_type": "stream",
          "name": "stdout",
          "text": [
            "Mon Jun 12 09:58:46 2023       \n",
            "+-----------------------------------------------------------------------------+\n",
            "| NVIDIA-SMI 525.85.12    Driver Version: 525.85.12    CUDA Version: 12.0     |\n",
            "|-------------------------------+----------------------+----------------------+\n",
            "| GPU  Name        Persistence-M| Bus-Id        Disp.A | Volatile Uncorr. ECC |\n",
            "| Fan  Temp  Perf  Pwr:Usage/Cap|         Memory-Usage | GPU-Util  Compute M. |\n",
            "|                               |                      |               MIG M. |\n",
            "|===============================+======================+======================|\n",
            "|   0  Tesla T4            Off  | 00000000:00:04.0 Off |                    0 |\n",
            "| N/A   44C    P8     9W /  70W |      0MiB / 15360MiB |      0%      Default |\n",
            "|                               |                      |                  N/A |\n",
            "+-------------------------------+----------------------+----------------------+\n",
            "                                                                               \n",
            "+-----------------------------------------------------------------------------+\n",
            "| Processes:                                                                  |\n",
            "|  GPU   GI   CI        PID   Type   Process name                  GPU Memory |\n",
            "|        ID   ID                                                   Usage      |\n",
            "|=============================================================================|\n",
            "|  No running processes found                                                 |\n",
            "+-----------------------------------------------------------------------------+\n",
            "Your runtime has 27.3 gigabytes of available RAM\n",
            "\n",
            "You are using a high-RAM runtime!\n"
          ]
        }
      ],
      "source": [
        "from psutil import virtual_memory\n",
        "\n",
        "gpu_info = !nvidia-smi\n",
        "gpu_info = '\\n'.join(gpu_info)\n",
        "if gpu_info.find('failed') >= 0:\n",
        "    print('Not connected to a GPU')\n",
        "else:\n",
        "    print(gpu_info)\n",
        "\n",
        "\n",
        "ram_gb = virtual_memory().total / 1e9\n",
        "print('Your runtime has {:.1f} gigabytes of available RAM\\n'.format(ram_gb))\n",
        "\n",
        "if ram_gb < 20:\n",
        "    print('Not using a high-RAM runtime')\n",
        "else:\n",
        "    print('You are using a high-RAM runtime!')\n"
      ]
    },
    {
      "cell_type": "markdown",
      "metadata": {
        "id": "1k2olxt7sY8M"
      },
      "source": [
        "# Fix for GDrive\n"
      ]
    },
    {
      "cell_type": "code",
      "execution_count": 2,
      "metadata": {
        "id": "WR_aYJ7WsY8M"
      },
      "outputs": [],
      "source": [
        "!pip install -U --no-cache-dir gdown --pre > /dev/null\n"
      ]
    },
    {
      "cell_type": "markdown",
      "metadata": {
        "id": "jm5cGHp0tGvo"
      },
      "source": [
        "# Mount GDrive\n"
      ]
    },
    {
      "cell_type": "code",
      "execution_count": 3,
      "metadata": {
        "colab": {
          "base_uri": "https://localhost:8080/"
        },
        "id": "0hZ7iR0AtJYj",
        "outputId": "f88f9fc5-ad48-4163-b6fc-845e62e326ce"
      },
      "outputs": [
        {
          "output_type": "stream",
          "name": "stdout",
          "text": [
            "Mounted at /content/drive\n"
          ]
        }
      ],
      "source": [
        "from google.colab import drive\n",
        "drive.mount('/content/drive')\n"
      ]
    },
    {
      "cell_type": "markdown",
      "metadata": {
        "id": "ZjzwtNU2sY8M"
      },
      "source": [
        "# Download and Extract Dataset\n"
      ]
    },
    {
      "cell_type": "code",
      "execution_count": 4,
      "metadata": {
        "colab": {
          "base_uri": "https://localhost:8080/"
        },
        "id": "9RSDCIWlsY8N",
        "outputId": "16acce89-605c-4152-881d-e72ff2888bab"
      },
      "outputs": [
        {
          "output_type": "stream",
          "name": "stdout",
          "text": [
            "Downloading...\n",
            "From (uriginal): https://drive.google.com/uc?id=19lTs5vzsJ619OeW6fMhwxJACkY-EKrs3\n",
            "From (redirected): https://drive.google.com/uc?id=19lTs5vzsJ619OeW6fMhwxJACkY-EKrs3&confirm=t&uuid=6776ca67-19b4-4c80-88e1-8d287bbe0a89\n",
            "To: /content/AAA_DATASET_r1.zip\n",
            "100% 3.07G/3.07G [00:32<00:00, 95.8MB/s]\n"
          ]
        }
      ],
      "source": [
        "!gdown \"19lTs5vzsJ619OeW6fMhwxJACkY-EKrs3\"\n",
        "!unzip -o \"AAA_DATASET_r1.zip\" > /dev/null\n"
      ]
    },
    {
      "cell_type": "markdown",
      "metadata": {
        "id": "yFAlpIdMsY8N"
      },
      "source": [
        "# Imports\n"
      ]
    },
    {
      "cell_type": "code",
      "execution_count": 5,
      "metadata": {
        "id": "xiEKM9gZsY8N"
      },
      "outputs": [],
      "source": [
        "import os\n",
        "import datetime\n",
        "import matplotlib\n",
        "import pandas as pd\n",
        "import tensorflow as tf\n",
        "import matplotlib.pyplot as plt\n",
        "\n",
        "from tqdm import tqdm\n",
        "\n",
        "matplotlib.use('Agg')\n",
        "plt.rcParams[\"font.size\"] = 16\n"
      ]
    },
    {
      "cell_type": "markdown",
      "metadata": {
        "id": "OCaqjLQYsY8O"
      },
      "source": [
        "# Config\n"
      ]
    },
    {
      "cell_type": "code",
      "execution_count": 6,
      "metadata": {
        "id": "Qby7HsHhsY8O"
      },
      "outputs": [],
      "source": [
        "PROBLEM = \"Curvature_2_TAWSS\"\n",
        "\n",
        "MODEL_NAME = \"MultiViewUNet\"\n",
        "DATASET_PATH = \"/content/Images/\"\n",
        "TRAIN_DIR = \"Train/\"\n",
        "TEST_DIR = \"Test/\"\n",
        "INPUT_DIR = PROBLEM.split(\"_2_\")[0]\n",
        "TARGET_DIR = PROBLEM.split(\"_2_\")[1]\n",
        "MODEL_PATH = \"/content/drive/MyDrive/Research/TAVI/Models/\"\n",
        "PRED_PATH = \"/content/drive/MyDrive/Research/TAVI/Predictions/\"\n",
        "IMG_SIZE = 256\n",
        "BATCH_SIZE = 16\n",
        "BUFFER_SIZE = 1000\n",
        "VAL_SPLIT = 0.2\n",
        "LEARNING_RATE = 0.001\n",
        "N_EPOCHS = 300\n",
        "PATIENCE = 30\n",
        "\n",
        "EXP_NAME = f\"{PROBLEM}_{MODEL_NAME}_I{IMG_SIZE}_B{BATCH_SIZE}_LR{LEARNING_RATE}\"\n"
      ]
    },
    {
      "cell_type": "markdown",
      "metadata": {
        "id": "vnnlcTjjsY8O"
      },
      "source": [
        "# Architecture\n"
      ]
    },
    {
      "cell_type": "code",
      "execution_count": 7,
      "metadata": {
        "id": "QQWORDDysY8P"
      },
      "outputs": [],
      "source": [
        "class UNet:\n",
        "    def __init__(\n",
        "        self,\n",
        "        img_size: int,\n",
        "        n_channels: int = 3,\n",
        "        width: int = 32,\n",
        "        depth: int = 4,\n",
        "        kernel_size: int = 3\n",
        "    ):\n",
        "        self.img_size = img_size\n",
        "        self.n_channels = n_channels\n",
        "        self.width = width\n",
        "        self.depth = depth\n",
        "        self.kernel_size = kernel_size\n",
        "\n",
        "    @staticmethod\n",
        "    def conv(\n",
        "        x: tf.Tensor,\n",
        "        filters: int,\n",
        "        kernel_size: int\n",
        "    ) -> tf.Tensor:\n",
        "        for i in range(2):\n",
        "            x = tf.keras.layers.Conv2D(\n",
        "                filters=filters,\n",
        "                kernel_size=kernel_size,\n",
        "                strides=1,\n",
        "                padding=\"same\",\n",
        "                data_format=\"channels_last\",\n",
        "                dilation_rate=1,\n",
        "                groups=1,\n",
        "                activation=None,\n",
        "                use_bias=True,\n",
        "                kernel_initializer=\"glorot_uniform\",\n",
        "                bias_initializer=\"zeros\",\n",
        "            )(x)\n",
        "\n",
        "            x = tf.keras.layers.BatchNormalization()(x)\n",
        "            x = tf.keras.layers.Activation(\"relu\")(x)\n",
        "\n",
        "        return x\n",
        "\n",
        "    @staticmethod\n",
        "    def deconv(x: tf.Tensor, filters: int) -> tf.Tensor:\n",
        "        x = tf.keras.layers.Conv2DTranspose(\n",
        "            filters=filters,\n",
        "            kernel_size=2,\n",
        "            strides=2,\n",
        "            padding=\"same\",\n",
        "            output_padding=None,\n",
        "            data_format=None,\n",
        "            dilation_rate=1,\n",
        "            activation=None,\n",
        "            use_bias=True,\n",
        "            kernel_initializer=\"glorot_uniform\",\n",
        "            bias_initializer=\"zeros\",\n",
        "        )(x)\n",
        "\n",
        "        x = tf.keras.layers.BatchNormalization()(x)\n",
        "        x = tf.keras.layers.Activation(\"relu\")(x)\n",
        "\n",
        "        return x\n",
        "\n",
        "    @staticmethod\n",
        "    def output(x: tf.Tensor) -> tf.Tensor:\n",
        "        return tf.keras.layers.Conv2D(3, (1, 1), activation=\"sigmoid\")(x)\n",
        "\n",
        "    @staticmethod\n",
        "    def pool(x: tf.Tensor, pool_size: int = 2) -> tf.Tensor:\n",
        "        return tf.keras.layers.MaxPool2D(pool_size)(x)\n",
        "\n",
        "    @staticmethod\n",
        "    def dropout(x: tf.Tensor, amount: float = 0.5) -> tf.Tensor:\n",
        "        return tf.keras.layers.Dropout(amount)(x)\n",
        "\n",
        "    def __call__(self) -> tf.keras.Model:\n",
        "        inputs = tf.keras.layers.Input(\n",
        "            shape=(self.img_size, self.img_size, self.n_channels)\n",
        "        )\n",
        "\n",
        "        # scaled = tf.keras.layers.Rescaling(1./255.0, offset=0)(inputs)\n",
        "\n",
        "        # ------------------ Downsampling ---------------------\n",
        "        downsample_layers = []\n",
        "        downsample_layers.append(\n",
        "            self.conv(\n",
        "                x=inputs,\n",
        "                filters=self.width,\n",
        "                kernel_size=self.kernel_size\n",
        "            )\n",
        "        )\n",
        "        for i in range(1, self.depth):\n",
        "            dropout_amount = 0.2 if i == 1 else 0.5\n",
        "            filters = int((2 ** i) * self.width)\n",
        "            downsample_layers.append(\n",
        "                self.dropout(\n",
        "                    self.pool(\n",
        "                        self.conv(\n",
        "                            x=downsample_layers[i - 1],\n",
        "                            filters=filters,\n",
        "                            kernel_size=self.kernel_size\n",
        "                        )\n",
        "                    ),\n",
        "                    amount=dropout_amount\n",
        "                )\n",
        "            )\n",
        "\n",
        "        # ------------------- Features --------------------\n",
        "        n_features = int((2 ** self.depth) * self.width)\n",
        "        self.features = self.pool(\n",
        "            self.conv(\n",
        "                x=downsample_layers[-1],\n",
        "                filters=n_features,\n",
        "                kernel_size=self.kernel_size\n",
        "            )\n",
        "        )\n",
        "\n",
        "        # ------------------- Upsampling --------------------\n",
        "        upsample_layers = []\n",
        "        upsample_layers.append(self.features)\n",
        "        for i in range(1, self.depth + 1):\n",
        "            filters = int((2 ** (self.depth - i)) * self.width)\n",
        "            upsample_layers.append(\n",
        "                self.conv(\n",
        "                    x=self.dropout(\n",
        "                        tf.keras.layers.concatenate([\n",
        "                            downsample_layers[self.depth - i],\n",
        "                            self.deconv(\n",
        "                                x=upsample_layers[i - 1],\n",
        "                                filters=filters\n",
        "                            )\n",
        "                        ])\n",
        "                    ),\n",
        "                    filters=filters,\n",
        "                    kernel_size=self.kernel_size\n",
        "                )\n",
        "            )\n",
        "\n",
        "        # ---------------------- Output -----------------------\n",
        "        outputs = self.output(upsample_layers[-1])\n",
        "\n",
        "        return tf.keras.Model(inputs, outputs)\n"
      ]
    },
    {
      "cell_type": "code",
      "execution_count": 8,
      "metadata": {
        "id": "dmJllxr7rNWO"
      },
      "outputs": [],
      "source": [
        "# ... MultiResUNet\n",
        "from keras.layers import Input, Conv2D, MaxPooling2D, Conv2DTranspose, concatenate, BatchNormalization, Activation, add\n",
        "from keras.models import Model, model_from_json\n",
        "from keras.optimizers import Adam\n",
        "# from keras.layers.advanced_activations import ELU, LeakyReLU\n",
        "from keras.utils.vis_utils import plot_model\n",
        "\n",
        "\n",
        "def conv2d_bn(x, filters, num_row, num_col, padding='same', strides=(1, 1), activation='relu', name=None):\n",
        "    '''\n",
        "    2D Convolutional layers\n",
        "\n",
        "    Arguments:\n",
        "        x {keras layer} -- input layer \n",
        "        filters {int} -- number of filters\n",
        "        num_row {int} -- number of rows in filters\n",
        "        num_col {int} -- number of columns in filters\n",
        "\n",
        "    Keyword Arguments:\n",
        "        padding {str} -- mode of padding (default: {'same'})\n",
        "        strides {tuple} -- stride of convolution operation (default: {(1, 1)})\n",
        "        activation {str} -- activation function (default: {'relu'})\n",
        "        name {str} -- name of the layer (default: {None})\n",
        "\n",
        "    Returns:\n",
        "        [keras layer] -- [output layer]\n",
        "    '''\n",
        "\n",
        "    x = Conv2D(filters, (num_row, num_col), strides=strides,\n",
        "               padding=padding, use_bias=False)(x)\n",
        "    x = BatchNormalization(axis=3, scale=False)(x)\n",
        "\n",
        "    if(activation == None):\n",
        "        return x\n",
        "\n",
        "    x = Activation(activation, name=name)(x)\n",
        "\n",
        "    return x\n",
        "\n",
        "\n",
        "def trans_conv2d_bn(x, filters, num_row, num_col, padding='same', strides=(2, 2), name=None):\n",
        "    '''\n",
        "    2D Transposed Convolutional layers\n",
        "\n",
        "    Arguments:\n",
        "        x {keras layer} -- input layer \n",
        "        filters {int} -- number of filters\n",
        "        num_row {int} -- number of rows in filters\n",
        "        num_col {int} -- number of columns in filters\n",
        "\n",
        "    Keyword Arguments:\n",
        "        padding {str} -- mode of padding (default: {'same'})\n",
        "        strides {tuple} -- stride of convolution operation (default: {(2, 2)})\n",
        "        name {str} -- name of the layer (default: {None})\n",
        "\n",
        "    Returns:\n",
        "        [keras layer] -- [output layer]\n",
        "    '''\n",
        "\n",
        "    x = Conv2DTranspose(filters, (num_row, num_col),\n",
        "                        strides=strides, padding=padding)(x)\n",
        "    x = BatchNormalization(axis=3, scale=False)(x)\n",
        "\n",
        "    return x\n",
        "\n",
        "\n",
        "def MultiResBlock(U, inp, alpha=1.67):\n",
        "    '''\n",
        "    MultiRes Block\n",
        "\n",
        "    Arguments:\n",
        "        U {int} -- Number of filters in a corrsponding UNet stage\n",
        "        inp {keras layer} -- input layer \n",
        "\n",
        "    Returns:\n",
        "        [keras layer] -- [output layer]\n",
        "    '''\n",
        "\n",
        "    W = alpha * U\n",
        "\n",
        "    shortcut = inp\n",
        "\n",
        "    shortcut = conv2d_bn(shortcut, int(W*0.167) + int(W*0.333) +\n",
        "                         int(W*0.5), 1, 1, activation=None, padding='same')\n",
        "\n",
        "    conv3x3 = conv2d_bn(inp, int(W*0.167), 3, 3,\n",
        "                        activation='relu', padding='same')\n",
        "\n",
        "    conv5x5 = conv2d_bn(conv3x3, int(W*0.333), 3, 3,\n",
        "                        activation='relu', padding='same')\n",
        "\n",
        "    conv7x7 = conv2d_bn(conv5x5, int(W*0.5), 3, 3,\n",
        "                        activation='relu', padding='same')\n",
        "\n",
        "    out = concatenate([conv3x3, conv5x5, conv7x7], axis=3)\n",
        "    out = BatchNormalization(axis=3)(out)\n",
        "\n",
        "    out = add([shortcut, out])\n",
        "    out = Activation('relu')(out)\n",
        "    out = BatchNormalization(axis=3)(out)\n",
        "\n",
        "    return out\n",
        "\n",
        "\n",
        "def ResPath(filters, length, inp):\n",
        "    '''\n",
        "    ResPath\n",
        "\n",
        "    Arguments:\n",
        "        filters {int} -- [description]\n",
        "        length {int} -- length of ResPath\n",
        "        inp {keras layer} -- input layer \n",
        "\n",
        "    Returns:\n",
        "        [keras layer] -- [output layer]\n",
        "    '''\n",
        "\n",
        "    shortcut = inp\n",
        "    shortcut = conv2d_bn(shortcut, filters, 1, 1,\n",
        "                         activation=None, padding='same')\n",
        "\n",
        "    out = conv2d_bn(inp, filters, 3, 3, activation='relu', padding='same')\n",
        "\n",
        "    out = add([shortcut, out])\n",
        "    out = Activation('relu')(out)\n",
        "    out = BatchNormalization(axis=3)(out)\n",
        "\n",
        "    for i in range(length-1):\n",
        "\n",
        "        shortcut = out\n",
        "        shortcut = conv2d_bn(shortcut, filters, 1, 1,\n",
        "                             activation=None, padding='same')\n",
        "\n",
        "        out = conv2d_bn(out, filters, 3, 3, activation='relu', padding='same')\n",
        "\n",
        "        out = add([shortcut, out])\n",
        "        out = Activation('relu')(out)\n",
        "        out = BatchNormalization(axis=3)(out)\n",
        "\n",
        "    return out\n",
        "\n",
        "\n",
        "def MultiResUNet(height, width, n_channels):\n",
        "    '''\n",
        "    MultiResUNet\n",
        "\n",
        "    Arguments:\n",
        "        height {int} -- height of image \n",
        "        width {int} -- width of image \n",
        "        n_channels {int} -- number of channels in image\n",
        "\n",
        "    Returns:\n",
        "        [keras model] -- MultiResUNet model\n",
        "    '''\n",
        "\n",
        "    inputs = Input((height, width, n_channels))\n",
        "\n",
        "    mresblock1 = MultiResBlock(32, inputs)\n",
        "    pool1 = MaxPooling2D(pool_size=(2, 2))(mresblock1)\n",
        "    mresblock1 = ResPath(32, 4, mresblock1)\n",
        "\n",
        "    mresblock2 = MultiResBlock(32*2, pool1)\n",
        "    pool2 = MaxPooling2D(pool_size=(2, 2))(mresblock2)\n",
        "    mresblock2 = ResPath(32*2, 3, mresblock2)\n",
        "\n",
        "    mresblock3 = MultiResBlock(32*4, pool2)\n",
        "    pool3 = MaxPooling2D(pool_size=(2, 2))(mresblock3)\n",
        "    mresblock3 = ResPath(32*4, 2, mresblock3)\n",
        "\n",
        "    mresblock4 = MultiResBlock(32*8, pool3)\n",
        "    pool4 = MaxPooling2D(pool_size=(2, 2))(mresblock4)\n",
        "    mresblock4 = ResPath(32*8, 1, mresblock4)\n",
        "\n",
        "    mresblock5 = MultiResBlock(32*16, pool4)\n",
        "\n",
        "    up6 = concatenate([Conv2DTranspose(\n",
        "        32*8, (2, 2), strides=(2, 2), padding='same')(mresblock5), mresblock4], axis=3)\n",
        "    mresblock6 = MultiResBlock(32*8, up6)\n",
        "\n",
        "    up7 = concatenate([Conv2DTranspose(\n",
        "        32*4, (2, 2), strides=(2, 2), padding='same')(mresblock6), mresblock3], axis=3)\n",
        "    mresblock7 = MultiResBlock(32*4, up7)\n",
        "\n",
        "    up8 = concatenate([Conv2DTranspose(\n",
        "        32*2, (2, 2), strides=(2, 2), padding='same')(mresblock7), mresblock2], axis=3)\n",
        "    mresblock8 = MultiResBlock(32*2, up8)\n",
        "\n",
        "    up9 = concatenate([Conv2DTranspose(32, (2, 2), strides=(\n",
        "        2, 2), padding='same')(mresblock8), mresblock1], axis=3)\n",
        "    mresblock9 = MultiResBlock(32, up9)\n",
        "\n",
        "    conv10 = conv2d_bn(mresblock9, 3, 1, 1, activation='sigmoid')\n",
        "\n",
        "    model = Model(inputs=[inputs], outputs=[conv10])\n",
        "\n",
        "    return model\n",
        "\n",
        "\n",
        "# def main():\n",
        "\n",
        "#     # Define the model\n",
        "\n",
        "#     model = MultiResUnet(128, 128,3)\n",
        "#     print(model.summary())\n",
        "\n",
        "\n",
        "# if __name__ == '__main__':\n",
        "#     main()\n"
      ]
    },
    {
      "cell_type": "code",
      "execution_count": 9,
      "metadata": {
        "id": "Bk_ZuE4BrNWP"
      },
      "outputs": [],
      "source": [
        "# # ... MultiResUNet3D\n",
        "# from keras.layers import Input, Conv3D, MaxPooling3D, Conv3DTranspose, concatenate, BatchNormalization, Activation, add\n",
        "# from keras.models import Model, model_from_json\n",
        "# from keras.optimizers import Adam\n",
        "# # from keras.layers.advanced_activations import ELU, LeakyReLU\n",
        "# from keras.utils.vis_utils import plot_model\n",
        "\n",
        "\n",
        "# def conv3d_bn(x, filters, num_row, num_col, num_z, padding='same', strides=(1, 1, 1), activation='relu', name=None):\n",
        "#     '''\n",
        "#     3D Convolutional layers\n",
        "\n",
        "#     Arguments:\n",
        "#         x {keras layer} -- input layer \n",
        "#         filters {int} -- number of filters\n",
        "#         num_row {int} -- number of rows in filters\n",
        "#         num_col {int} -- number of columns in filters\n",
        "#         num_z {int} -- length along z axis in filters\n",
        "\n",
        "#     Keyword Arguments:\n",
        "#         padding {str} -- mode of padding (default: {'same'})\n",
        "#         strides {tuple} -- stride of convolution operation (default: {(1, 1, 1)})\n",
        "#         activation {str} -- activation function (default: {'relu'})\n",
        "#         name {str} -- name of the layer (default: {None})\n",
        "\n",
        "#     Returns:\n",
        "#         [keras layer] -- [output layer]\n",
        "#     '''\n",
        "\n",
        "#     x = Conv3D(filters, (num_row, num_col, num_z),\n",
        "#                strides=strides, padding=padding, use_bias=False)(x)\n",
        "#     x = BatchNormalization(axis=4, scale=False)(x)\n",
        "\n",
        "#     if(activation == None):\n",
        "#         return x\n",
        "\n",
        "#     x = Activation(activation, name=name)(x)\n",
        "#     return x\n",
        "\n",
        "\n",
        "# def trans_conv3d_bn(x, filters, num_row, num_col, num_z, padding='same', strides=(2, 2, 2), name=None):\n",
        "#     '''\n",
        "#     2D Transposed Convolutional layers\n",
        "\n",
        "#     Arguments:\n",
        "#         x {keras layer} -- input layer \n",
        "#         filters {int} -- number of filters\n",
        "#         num_row {int} -- number of rows in filters\n",
        "#         num_col {int} -- number of columns in filters\n",
        "#         num_z {int} -- length along z axis in filters\n",
        "\n",
        "#     Keyword Arguments:\n",
        "#         padding {str} -- mode of padding (default: {'same'})\n",
        "#         strides {tuple} -- stride of convolution operation (default: {(2, 2, 2)})\n",
        "#         name {str} -- name of the layer (default: {None})\n",
        "\n",
        "#     Returns:\n",
        "#         [keras layer] -- [output layer]\n",
        "#     '''\n",
        "\n",
        "#     x = Conv3DTranspose(filters, (num_row, num_col, num_z),\n",
        "#                         strides=strides, padding=padding)(x)\n",
        "#     x = BatchNormalization(axis=4, scale=False)(x)\n",
        "\n",
        "#     return x\n",
        "\n",
        "\n",
        "# def MultiResBlock(U, inp, alpha=1.67):\n",
        "#     '''\n",
        "#     MultiRes Block\n",
        "\n",
        "#     Arguments:\n",
        "#         U {int} -- Number of filters in a corrsponding UNet stage\n",
        "#         inp {keras layer} -- input layer \n",
        "\n",
        "#     Returns:\n",
        "#         [keras layer] -- [output layer]\n",
        "#     '''\n",
        "\n",
        "#     W = alpha * U\n",
        "\n",
        "#     shortcut = inp\n",
        "\n",
        "#     shortcut = conv3d_bn(shortcut, int(W*0.167) + int(W*0.333) +\n",
        "#                          int(W*0.5), 1, 1, 1, activation=None, padding='same')\n",
        "\n",
        "#     conv3x3 = conv3d_bn(inp, int(W*0.167), 3, 3, 3,\n",
        "#                         activation='relu', padding='same')\n",
        "\n",
        "#     conv5x5 = conv3d_bn(conv3x3, int(W*0.333), 3, 3, 3,\n",
        "#                         activation='relu', padding='same')\n",
        "\n",
        "#     conv7x7 = conv3d_bn(conv5x5, int(W*0.5), 3, 3, 3,\n",
        "#                         activation='relu', padding='same')\n",
        "\n",
        "#     out = concatenate([conv3x3, conv5x5, conv7x7], axis=4)\n",
        "#     out = BatchNormalization(axis=4)(out)\n",
        "\n",
        "#     out = add([shortcut, out])\n",
        "#     out = Activation('relu')(out)\n",
        "#     out = BatchNormalization(axis=4)(out)\n",
        "\n",
        "#     return out\n",
        "\n",
        "\n",
        "# def ResPath(filters, length, inp):\n",
        "#     '''\n",
        "#     ResPath\n",
        "\n",
        "#     Arguments:\n",
        "#         filters {int} -- [description]\n",
        "#         length {int} -- length of ResPath\n",
        "#         inp {keras layer} -- input layer \n",
        "\n",
        "#     Returns:\n",
        "#         [keras layer] -- [output layer]\n",
        "#     '''\n",
        "\n",
        "#     shortcut = inp\n",
        "#     shortcut = conv3d_bn(shortcut, filters, 1, 1, 1,\n",
        "#                          activation=None, padding='same')\n",
        "\n",
        "#     out = conv3d_bn(inp, filters, 3, 3, 3, activation='relu', padding='same')\n",
        "\n",
        "#     out = add([shortcut, out])\n",
        "#     out = Activation('relu')(out)\n",
        "#     out = BatchNormalization(axis=4)(out)\n",
        "\n",
        "#     for i in range(length-1):\n",
        "\n",
        "#         shortcut = out\n",
        "#         shortcut = conv3d_bn(shortcut, filters, 1, 1, 1,\n",
        "#                              activation=None, padding='same')\n",
        "\n",
        "#         out = conv3d_bn(out, filters, 3, 3, 3,\n",
        "#                         activation='relu', padding='same')\n",
        "\n",
        "#         out = add([shortcut, out])\n",
        "#         out = Activation('relu')(out)\n",
        "#         out = BatchNormalization(axis=4)(out)\n",
        "\n",
        "#     return out\n",
        "\n",
        "\n",
        "# def MultiResUnet3D(height, width, z, n_channels):\n",
        "#     '''\n",
        "#     MultiResUNet3D\n",
        "\n",
        "#     Arguments:\n",
        "#         height {int} -- height of image \n",
        "#         width {int} -- width of image\n",
        "#         z {int} -- length along z axis \n",
        "#         n_channels {int} -- number of channels in image\n",
        "\n",
        "#     Returns:\n",
        "#         [keras model] -- MultiResUNet3D model\n",
        "#     '''\n",
        "\n",
        "#     inputs = Input((height, width, z, n_channels))\n",
        "\n",
        "#     mresblock1 = MultiResBlock(32, inputs)\n",
        "#     pool1 = MaxPooling3D(pool_size=(2, 2, 2))(mresblock1)\n",
        "#     mresblock1 = ResPath(32, 4, mresblock1)\n",
        "\n",
        "#     mresblock2 = MultiResBlock(32*2, pool1)\n",
        "#     pool2 = MaxPooling3D(pool_size=(2, 2, 2))(mresblock2)\n",
        "#     mresblock2 = ResPath(32*2, 3, mresblock2)\n",
        "\n",
        "#     mresblock3 = MultiResBlock(32*4, pool2)\n",
        "#     pool3 = MaxPooling3D(pool_size=(2, 2, 2))(mresblock3)\n",
        "#     mresblock3 = ResPath(32*4, 2, mresblock3)\n",
        "\n",
        "#     mresblock4 = MultiResBlock(32*8, pool3)\n",
        "#     pool4 = MaxPooling3D(pool_size=(2, 2, 2))(mresblock4)\n",
        "#     mresblock4 = ResPath(32*8, 1, mresblock4)\n",
        "\n",
        "#     mresblock5 = MultiResBlock(32*16, pool4)\n",
        "\n",
        "#     up6 = concatenate([Conv3DTranspose(\n",
        "#         32*8, (2, 2, 2), strides=(2, 2, 2), padding='same')(mresblock5), mresblock4], axis=4)\n",
        "#     mresblock6 = MultiResBlock(32*8, up6)\n",
        "\n",
        "#     up7 = concatenate([Conv3DTranspose(\n",
        "#         32*4, (2, 2, 2), strides=(2, 2, 2), padding='same')(mresblock6), mresblock3], axis=4)\n",
        "#     mresblock7 = MultiResBlock(32*4, up7)\n",
        "\n",
        "#     up8 = concatenate([Conv3DTranspose(\n",
        "#         32*2, (2, 2, 2), strides=(2, 2, 2), padding='same')(mresblock7), mresblock2], axis=4)\n",
        "#     mresblock8 = MultiResBlock(32*2, up8)\n",
        "\n",
        "#     up9 = concatenate([Conv3DTranspose(32, (2, 2, 2), strides=(\n",
        "#         2, 2, 2), padding='same')(mresblock8), mresblock1], axis=4)\n",
        "#     mresblock9 = MultiResBlock(32, up9)\n",
        "\n",
        "#     conv10 = conv3d_bn(mresblock9, 3, 1, 1, 1, activation='sigmoid')\n",
        "\n",
        "#     model = Model(inputs=[inputs], outputs=[conv10])\n",
        "\n",
        "#     return model\n",
        "\n",
        "\n",
        "# # def main():\n",
        "\n",
        "# #     # Define the model\n",
        "\n",
        "# #     model = MultiResUnet3D(80, 80, 48, 4)\n",
        "# #     print(model.summary())\n",
        "\n",
        "\n",
        "# # if __name__ == '__main__':\n",
        "# #     main()\n"
      ]
    },
    {
      "cell_type": "markdown",
      "metadata": {
        "id": "3wNu29ilsY8Q"
      },
      "source": [
        "# Loss Functions / Metrics\n"
      ]
    },
    {
      "cell_type": "code",
      "execution_count": 73,
      "metadata": {
        "id": "EScLEIVTsY8R"
      },
      "outputs": [],
      "source": [
        "@tf.function\n",
        "def attention_mse(y_true, y_pred):\n",
        "    _y_true = y_true[y_true != 1.0]\n",
        "    _y_pred = y_pred[y_true != 1.0]\n",
        "    squared_difference = tf.square(_y_true - _y_pred)\n",
        "    return tf.reduce_mean(squared_difference, axis=-1)\n",
        "    \n",
        "\n",
        "@tf.function\n",
        "def attention_mae(y_true, y_pred):\n",
        "    _y_true = y_true[y_true != 1.0]\n",
        "    _y_pred = y_pred[y_true != 1.0]\n",
        "    squared_difference = tf.abs(_y_true - _y_pred)\n",
        "    return tf.reduce_mean(squared_difference, axis=-1)\n"
      ]
    },
    {
      "cell_type": "markdown",
      "metadata": {
        "id": "UcGPtUeasY8R"
      },
      "source": [
        "# DataLoader\n"
      ]
    },
    {
      "cell_type": "code",
      "execution_count": 11,
      "metadata": {
        "id": "wEWrDHWDsY8R"
      },
      "outputs": [],
      "source": [
        "def load_data_from_dir(path: str) -> tf.data.Dataset:\n",
        "    return tf.keras.utils.image_dataset_from_directory(\n",
        "        directory=path,\n",
        "        labels=None,\n",
        "        color_mode='rgb',\n",
        "        batch_size=BATCH_SIZE,\n",
        "        image_size=(IMG_SIZE, IMG_SIZE),\n",
        "        shuffle=False,\n",
        "        seed=42,\n",
        "        interpolation='bilinear',\n",
        "        follow_links=False,\n",
        "        crop_to_aspect_ratio=False\n",
        "    )\n"
      ]
    },
    {
      "cell_type": "markdown",
      "metadata": {
        "id": "iHl8FzWEsY8R"
      },
      "source": [
        "# Load Dataset\n"
      ]
    },
    {
      "cell_type": "code",
      "execution_count": 12,
      "metadata": {
        "colab": {
          "base_uri": "https://localhost:8080/"
        },
        "id": "_N_9KDvNsY8S",
        "outputId": "67048678-200c-422a-e04a-ead371ebfac2"
      },
      "outputs": [
        {
          "output_type": "stream",
          "name": "stdout",
          "text": [
            "Found 8208 files belonging to 1 classes.\n",
            "Found 8208 files belonging to 1 classes.\n",
            "Found 312 files belonging to 1 classes.\n",
            "Found 312 files belonging to 1 classes.\n",
            "(TensorSpec(shape=(None, 256, 256, 3), dtype=tf.float32, name=None), TensorSpec(shape=(None, 256, 256, 3), dtype=tf.float32, name=None))\n",
            "(TensorSpec(shape=(None, 256, 256, 3), dtype=tf.float32, name=None), TensorSpec(shape=(None, 256, 256, 3), dtype=tf.float32, name=None))\n"
          ]
        }
      ],
      "source": [
        "trainX = load_data_from_dir(os.path.join(DATASET_PATH, TRAIN_DIR, INPUT_DIR))\n",
        "trainY = load_data_from_dir(os.path.join(DATASET_PATH, TRAIN_DIR, TARGET_DIR))\n",
        "testX = load_data_from_dir(os.path.join(DATASET_PATH, TEST_DIR, INPUT_DIR))\n",
        "testY = load_data_from_dir(os.path.join(DATASET_PATH, TEST_DIR, TARGET_DIR))\n",
        "\n",
        "train_ds = tf.data.Dataset.zip((trainX, trainY))\n",
        "test_ds = tf.data.Dataset.zip((testX, testY))\n",
        "\n",
        "print(train_ds.element_spec)\n",
        "print(test_ds.element_spec)\n"
      ]
    },
    {
      "cell_type": "markdown",
      "metadata": {
        "id": "siGY2orosY8S"
      },
      "source": [
        "# Normalization\n"
      ]
    },
    {
      "cell_type": "code",
      "execution_count": 13,
      "metadata": {
        "id": "iEVMVJIusY8S"
      },
      "outputs": [],
      "source": [
        "normalization_layer = tf.keras.layers.Rescaling(1./255)\n",
        "train_ds = train_ds.map(lambda x, y: (\n",
        "    normalization_layer(x), normalization_layer(y)))\n",
        "test_ds = test_ds.map(lambda x, y: (\n",
        "    normalization_layer(x), normalization_layer(y)))\n"
      ]
    },
    {
      "cell_type": "markdown",
      "metadata": {
        "id": "N0gpJ04WsY8T"
      },
      "source": [
        "# Augmentation\n"
      ]
    },
    {
      "cell_type": "code",
      "execution_count": 14,
      "metadata": {
        "id": "71pw2HYCsY8T"
      },
      "outputs": [],
      "source": [
        "class Augment(tf.keras.layers.Layer):\n",
        "    def __init__(self, seed=42):\n",
        "        super().__init__()\n",
        "        # both use the same seed, so they'll make the same random changes.\n",
        "        self.augment_inputs = tf.keras.layers.RandomZoom(\n",
        "            (-0.1, -0.7), seed=seed)\n",
        "        self.augment_labels = tf.keras.layers.RandomZoom(\n",
        "            (-0.1, -0.7), seed=seed)\n",
        "\n",
        "    def call(self, inputs, labels):\n",
        "        inputs = self.augment_inputs(inputs)\n",
        "        labels = self.augment_labels(labels)\n",
        "        return inputs, labels\n"
      ]
    },
    {
      "cell_type": "markdown",
      "metadata": {
        "id": "mymNUKessY8T"
      },
      "source": [
        "# Optimization\n"
      ]
    },
    {
      "cell_type": "code",
      "execution_count": 15,
      "metadata": {
        "id": "OFxFklYZsY8T"
      },
      "outputs": [],
      "source": [
        "AUTOTUNE = tf.data.AUTOTUNE\n",
        "\n",
        "train_batches = (\n",
        "    train_ds\n",
        "    .cache()\n",
        "    .shuffle(BUFFER_SIZE)\n",
        "    .prefetch(buffer_size=AUTOTUNE)\n",
        ")\n",
        "\n",
        "test_batches = (\n",
        "    test_ds\n",
        "    .cache()\n",
        "    .prefetch(buffer_size=AUTOTUNE)\n",
        ")\n"
      ]
    },
    {
      "cell_type": "markdown",
      "metadata": {
        "id": "j6ilqDbnsY8U"
      },
      "source": [
        "# Training Config\n"
      ]
    },
    {
      "cell_type": "code",
      "execution_count": 16,
      "metadata": {
        "id": "WlY6S1B6sY8U"
      },
      "outputs": [],
      "source": [
        "model_path = os.path.join(MODEL_PATH, EXP_NAME)\n",
        "\n",
        "callbacks = [\n",
        "    tf.keras.callbacks.EarlyStopping(\n",
        "        monitor=\"val_loss\",\n",
        "        patience=PATIENCE,\n",
        "        restore_best_weights=True\n",
        "    ),\n",
        "    tf.keras.callbacks.ModelCheckpoint(\n",
        "        model_path,\n",
        "        monitor='val_loss',\n",
        "        verbose=1,\n",
        "        save_best_only=True,\n",
        "        save_weights_only=True\n",
        "    )\n",
        "]\n",
        "\n",
        "optimizer = tf.keras.optimizers.Adam(\n",
        "    learning_rate=LEARNING_RATE\n",
        ")\n",
        "\n",
        "model = UNet(IMG_SIZE)()\n",
        "# model = MultiResUNet(IMG_SIZE, IMG_SIZE, 3)\n",
        "\n",
        "model.compile(\n",
        "    loss=attention_mse,\n",
        "    optimizer=optimizer,\n",
        "    metrics=[attention_mae]\n",
        ")\n",
        "\n",
        "try:\n",
        "    model.load_weights(model_path)\n",
        "except:\n",
        "    print(\"Checkpoint not found\")\n",
        "    pass\n"
      ]
    },
    {
      "cell_type": "markdown",
      "metadata": {
        "id": "zmjFkIYNsY8U"
      },
      "source": [
        "# Training\n"
      ]
    },
    {
      "cell_type": "code",
      "execution_count": 17,
      "metadata": {
        "colab": {
          "base_uri": "https://localhost:8080/"
        },
        "id": "Nd0e5sXtsY8U",
        "outputId": "fd5687d0-1831-4ae6-beb9-883f8a84137f"
      },
      "outputs": [
        {
          "output_type": "stream",
          "name": "stdout",
          "text": [
            "Epoch 1/300\n",
            "513/513 [==============================] - ETA: 0s - loss: 0.0195 - attention_mae: 0.0910\n",
            "Epoch 1: val_loss improved from inf to 0.01774, saving model to /content/drive/MyDrive/Research/TAVI/Models/Curvature_2_TAWSS_MultiViewUNet_I256_B16_LR0.001\n",
            "513/513 [==============================] - 517s 787ms/step - loss: 0.0195 - attention_mae: 0.0910 - val_loss: 0.0177 - val_attention_mae: 0.0847\n",
            "Epoch 2/300\n",
            "513/513 [==============================] - ETA: 0s - loss: 0.0146 - attention_mae: 0.0771\n",
            "Epoch 2: val_loss improved from 0.01774 to 0.01666, saving model to /content/drive/MyDrive/Research/TAVI/Models/Curvature_2_TAWSS_MultiViewUNet_I256_B16_LR0.001\n",
            "513/513 [==============================] - 400s 780ms/step - loss: 0.0146 - attention_mae: 0.0771 - val_loss: 0.0167 - val_attention_mae: 0.0812\n",
            "Epoch 3/300\n",
            "513/513 [==============================] - ETA: 0s - loss: 0.0124 - attention_mae: 0.0701\n",
            "Epoch 3: val_loss did not improve from 0.01666\n",
            "513/513 [==============================] - 399s 779ms/step - loss: 0.0124 - attention_mae: 0.0701 - val_loss: 0.0195 - val_attention_mae: 0.0899\n",
            "Epoch 4/300\n",
            "513/513 [==============================] - ETA: 0s - loss: 0.0115 - attention_mae: 0.0672\n",
            "Epoch 4: val_loss improved from 0.01666 to 0.01620, saving model to /content/drive/MyDrive/Research/TAVI/Models/Curvature_2_TAWSS_MultiViewUNet_I256_B16_LR0.001\n",
            "513/513 [==============================] - 400s 780ms/step - loss: 0.0115 - attention_mae: 0.0672 - val_loss: 0.0162 - val_attention_mae: 0.0781\n",
            "Epoch 5/300\n",
            "513/513 [==============================] - ETA: 0s - loss: 0.0106 - attention_mae: 0.0641\n",
            "Epoch 5: val_loss did not improve from 0.01620\n",
            "513/513 [==============================] - 399s 779ms/step - loss: 0.0106 - attention_mae: 0.0641 - val_loss: 0.0181 - val_attention_mae: 0.0862\n",
            "Epoch 6/300\n",
            "513/513 [==============================] - ETA: 0s - loss: 0.0101 - attention_mae: 0.0625\n",
            "Epoch 6: val_loss did not improve from 0.01620\n",
            "513/513 [==============================] - 399s 779ms/step - loss: 0.0101 - attention_mae: 0.0625 - val_loss: 0.0177 - val_attention_mae: 0.0836\n",
            "Epoch 7/300\n",
            "513/513 [==============================] - ETA: 0s - loss: 0.0099 - attention_mae: 0.0617\n",
            "Epoch 7: val_loss did not improve from 0.01620\n",
            "513/513 [==============================] - 399s 779ms/step - loss: 0.0099 - attention_mae: 0.0617 - val_loss: 0.0171 - val_attention_mae: 0.0802\n",
            "Epoch 8/300\n",
            "513/513 [==============================] - ETA: 0s - loss: 0.0094 - attention_mae: 0.0600\n",
            "Epoch 8: val_loss did not improve from 0.01620\n",
            "513/513 [==============================] - 400s 779ms/step - loss: 0.0094 - attention_mae: 0.0600 - val_loss: 0.0195 - val_attention_mae: 0.0874\n",
            "Epoch 9/300\n",
            "513/513 [==============================] - ETA: 0s - loss: 0.0092 - attention_mae: 0.0594\n",
            "Epoch 9: val_loss did not improve from 0.01620\n",
            "513/513 [==============================] - 399s 779ms/step - loss: 0.0092 - attention_mae: 0.0594 - val_loss: 0.0169 - val_attention_mae: 0.0792\n",
            "Epoch 10/300\n",
            "513/513 [==============================] - ETA: 0s - loss: 0.0088 - attention_mae: 0.0579\n",
            "Epoch 10: val_loss did not improve from 0.01620\n",
            "513/513 [==============================] - 399s 779ms/step - loss: 0.0088 - attention_mae: 0.0579 - val_loss: 0.0164 - val_attention_mae: 0.0774\n",
            "Epoch 11/300\n",
            "513/513 [==============================] - ETA: 0s - loss: 0.0089 - attention_mae: 0.0583\n",
            "Epoch 11: val_loss did not improve from 0.01620\n",
            "513/513 [==============================] - 399s 778ms/step - loss: 0.0089 - attention_mae: 0.0583 - val_loss: 0.0175 - val_attention_mae: 0.0810\n",
            "Epoch 12/300\n",
            "513/513 [==============================] - ETA: 0s - loss: 0.0086 - attention_mae: 0.0574\n",
            "Epoch 12: val_loss improved from 0.01620 to 0.01560, saving model to /content/drive/MyDrive/Research/TAVI/Models/Curvature_2_TAWSS_MultiViewUNet_I256_B16_LR0.001\n",
            "513/513 [==============================] - 400s 780ms/step - loss: 0.0086 - attention_mae: 0.0574 - val_loss: 0.0156 - val_attention_mae: 0.0740\n",
            "Epoch 13/300\n",
            "513/513 [==============================] - ETA: 0s - loss: 0.0084 - attention_mae: 0.0563\n",
            "Epoch 13: val_loss did not improve from 0.01560\n",
            "513/513 [==============================] - 399s 778ms/step - loss: 0.0084 - attention_mae: 0.0563 - val_loss: 0.0176 - val_attention_mae: 0.0801\n",
            "Epoch 14/300\n",
            "513/513 [==============================] - ETA: 0s - loss: 0.0082 - attention_mae: 0.0556\n",
            "Epoch 14: val_loss did not improve from 0.01560\n",
            "513/513 [==============================] - 399s 778ms/step - loss: 0.0082 - attention_mae: 0.0556 - val_loss: 0.0158 - val_attention_mae: 0.0766\n",
            "Epoch 15/300\n",
            "513/513 [==============================] - ETA: 0s - loss: 0.0082 - attention_mae: 0.0558\n",
            "Epoch 15: val_loss did not improve from 0.01560\n",
            "513/513 [==============================] - 399s 778ms/step - loss: 0.0082 - attention_mae: 0.0558 - val_loss: 0.0170 - val_attention_mae: 0.0773\n",
            "Epoch 16/300\n",
            "513/513 [==============================] - ETA: 0s - loss: 0.0079 - attention_mae: 0.0547\n",
            "Epoch 16: val_loss improved from 0.01560 to 0.01508, saving model to /content/drive/MyDrive/Research/TAVI/Models/Curvature_2_TAWSS_MultiViewUNet_I256_B16_LR0.001\n",
            "513/513 [==============================] - 400s 779ms/step - loss: 0.0079 - attention_mae: 0.0547 - val_loss: 0.0151 - val_attention_mae: 0.0721\n",
            "Epoch 17/300\n",
            "513/513 [==============================] - ETA: 0s - loss: 0.0078 - attention_mae: 0.0543\n",
            "Epoch 17: val_loss did not improve from 0.01508\n",
            "513/513 [==============================] - 399s 778ms/step - loss: 0.0078 - attention_mae: 0.0543 - val_loss: 0.0158 - val_attention_mae: 0.0740\n",
            "Epoch 18/300\n",
            "513/513 [==============================] - ETA: 0s - loss: 0.0077 - attention_mae: 0.0539\n",
            "Epoch 18: val_loss improved from 0.01508 to 0.01454, saving model to /content/drive/MyDrive/Research/TAVI/Models/Curvature_2_TAWSS_MultiViewUNet_I256_B16_LR0.001\n",
            "513/513 [==============================] - 400s 779ms/step - loss: 0.0077 - attention_mae: 0.0539 - val_loss: 0.0145 - val_attention_mae: 0.0719\n",
            "Epoch 19/300\n",
            "513/513 [==============================] - ETA: 0s - loss: 0.0076 - attention_mae: 0.0535\n",
            "Epoch 19: val_loss did not improve from 0.01454\n",
            "513/513 [==============================] - 399s 778ms/step - loss: 0.0076 - attention_mae: 0.0535 - val_loss: 0.0169 - val_attention_mae: 0.0781\n",
            "Epoch 20/300\n",
            "513/513 [==============================] - ETA: 0s - loss: 0.0076 - attention_mae: 0.0536\n",
            "Epoch 20: val_loss did not improve from 0.01454\n",
            "513/513 [==============================] - 399s 778ms/step - loss: 0.0076 - attention_mae: 0.0536 - val_loss: 0.0147 - val_attention_mae: 0.0718\n",
            "Epoch 21/300\n",
            "513/513 [==============================] - ETA: 0s - loss: 0.0074 - attention_mae: 0.0526\n",
            "Epoch 21: val_loss improved from 0.01454 to 0.01426, saving model to /content/drive/MyDrive/Research/TAVI/Models/Curvature_2_TAWSS_MultiViewUNet_I256_B16_LR0.001\n",
            "513/513 [==============================] - 400s 779ms/step - loss: 0.0074 - attention_mae: 0.0526 - val_loss: 0.0143 - val_attention_mae: 0.0700\n",
            "Epoch 22/300\n",
            "513/513 [==============================] - ETA: 0s - loss: 0.0075 - attention_mae: 0.0530\n",
            "Epoch 22: val_loss did not improve from 0.01426\n",
            "513/513 [==============================] - 399s 778ms/step - loss: 0.0075 - attention_mae: 0.0530 - val_loss: 0.0158 - val_attention_mae: 0.0733\n",
            "Epoch 23/300\n",
            "513/513 [==============================] - ETA: 0s - loss: 0.0072 - attention_mae: 0.0518\n",
            "Epoch 23: val_loss did not improve from 0.01426\n",
            "513/513 [==============================] - 399s 778ms/step - loss: 0.0072 - attention_mae: 0.0518 - val_loss: 0.0161 - val_attention_mae: 0.0765\n",
            "Epoch 24/300\n",
            "513/513 [==============================] - ETA: 0s - loss: 0.0072 - attention_mae: 0.0521\n",
            "Epoch 24: val_loss did not improve from 0.01426\n",
            "513/513 [==============================] - 399s 778ms/step - loss: 0.0072 - attention_mae: 0.0521 - val_loss: 0.0154 - val_attention_mae: 0.0718\n",
            "Epoch 25/300\n",
            "513/513 [==============================] - ETA: 0s - loss: 0.0071 - attention_mae: 0.0513\n",
            "Epoch 25: val_loss did not improve from 0.01426\n",
            "513/513 [==============================] - 399s 778ms/step - loss: 0.0071 - attention_mae: 0.0513 - val_loss: 0.0166 - val_attention_mae: 0.0776\n",
            "Epoch 26/300\n",
            "513/513 [==============================] - ETA: 0s - loss: 0.0071 - attention_mae: 0.0513\n",
            "Epoch 26: val_loss did not improve from 0.01426\n",
            "513/513 [==============================] - 399s 778ms/step - loss: 0.0071 - attention_mae: 0.0513 - val_loss: 0.0153 - val_attention_mae: 0.0721\n",
            "Epoch 27/300\n",
            "513/513 [==============================] - ETA: 0s - loss: 0.0069 - attention_mae: 0.0508\n",
            "Epoch 27: val_loss did not improve from 0.01426\n",
            "513/513 [==============================] - 399s 778ms/step - loss: 0.0069 - attention_mae: 0.0508 - val_loss: 0.0149 - val_attention_mae: 0.0703\n",
            "Epoch 28/300\n",
            "513/513 [==============================] - ETA: 0s - loss: 0.0067 - attention_mae: 0.0500\n",
            "Epoch 28: val_loss did not improve from 0.01426\n",
            "513/513 [==============================] - 399s 778ms/step - loss: 0.0067 - attention_mae: 0.0500 - val_loss: 0.0153 - val_attention_mae: 0.0720\n",
            "Epoch 29/300\n",
            "513/513 [==============================] - ETA: 0s - loss: 0.0067 - attention_mae: 0.0497\n",
            "Epoch 29: val_loss did not improve from 0.01426\n",
            "513/513 [==============================] - 399s 778ms/step - loss: 0.0067 - attention_mae: 0.0497 - val_loss: 0.0196 - val_attention_mae: 0.0869\n",
            "Epoch 30/300\n",
            "513/513 [==============================] - ETA: 0s - loss: 0.0067 - attention_mae: 0.0500\n",
            "Epoch 30: val_loss did not improve from 0.01426\n",
            "513/513 [==============================] - 399s 778ms/step - loss: 0.0067 - attention_mae: 0.0500 - val_loss: 0.0171 - val_attention_mae: 0.0785\n",
            "Epoch 31/300\n",
            "513/513 [==============================] - ETA: 0s - loss: 0.0066 - attention_mae: 0.0496\n",
            "Epoch 31: val_loss did not improve from 0.01426\n",
            "513/513 [==============================] - 399s 778ms/step - loss: 0.0066 - attention_mae: 0.0496 - val_loss: 0.0159 - val_attention_mae: 0.0729\n",
            "Epoch 32/300\n",
            "513/513 [==============================] - ETA: 0s - loss: 0.0067 - attention_mae: 0.0496\n",
            "Epoch 32: val_loss did not improve from 0.01426\n",
            "513/513 [==============================] - 399s 778ms/step - loss: 0.0067 - attention_mae: 0.0496 - val_loss: 0.0158 - val_attention_mae: 0.0722\n",
            "Epoch 33/300\n",
            "513/513 [==============================] - ETA: 0s - loss: 0.0065 - attention_mae: 0.0492\n",
            "Epoch 33: val_loss did not improve from 0.01426\n",
            "513/513 [==============================] - 399s 778ms/step - loss: 0.0065 - attention_mae: 0.0492 - val_loss: 0.0165 - val_attention_mae: 0.0753\n",
            "Epoch 34/300\n",
            "513/513 [==============================] - ETA: 0s - loss: 0.0063 - attention_mae: 0.0480\n",
            "Epoch 34: val_loss improved from 0.01426 to 0.01425, saving model to /content/drive/MyDrive/Research/TAVI/Models/Curvature_2_TAWSS_MultiViewUNet_I256_B16_LR0.001\n",
            "513/513 [==============================] - 400s 780ms/step - loss: 0.0063 - attention_mae: 0.0480 - val_loss: 0.0143 - val_attention_mae: 0.0698\n",
            "Epoch 35/300\n",
            "513/513 [==============================] - ETA: 0s - loss: 0.0063 - attention_mae: 0.0481\n",
            "Epoch 35: val_loss did not improve from 0.01425\n",
            "513/513 [==============================] - 399s 778ms/step - loss: 0.0063 - attention_mae: 0.0481 - val_loss: 0.0147 - val_attention_mae: 0.0711\n",
            "Epoch 36/300\n",
            "513/513 [==============================] - ETA: 0s - loss: 0.0065 - attention_mae: 0.0489\n",
            "Epoch 36: val_loss did not improve from 0.01425\n",
            "513/513 [==============================] - 399s 778ms/step - loss: 0.0065 - attention_mae: 0.0489 - val_loss: 0.0157 - val_attention_mae: 0.0716\n",
            "Epoch 37/300\n",
            "513/513 [==============================] - ETA: 0s - loss: 0.0063 - attention_mae: 0.0480\n",
            "Epoch 37: val_loss did not improve from 0.01425\n",
            "513/513 [==============================] - 400s 779ms/step - loss: 0.0063 - attention_mae: 0.0480 - val_loss: 0.0161 - val_attention_mae: 0.0734\n",
            "Epoch 38/300\n",
            "513/513 [==============================] - ETA: 0s - loss: 0.0063 - attention_mae: 0.0481\n",
            "Epoch 38: val_loss did not improve from 0.01425\n",
            "513/513 [==============================] - 399s 779ms/step - loss: 0.0063 - attention_mae: 0.0481 - val_loss: 0.0147 - val_attention_mae: 0.0700\n",
            "Epoch 39/300\n",
            "513/513 [==============================] - ETA: 0s - loss: 0.0061 - attention_mae: 0.0474\n",
            "Epoch 39: val_loss did not improve from 0.01425\n",
            "513/513 [==============================] - 399s 778ms/step - loss: 0.0061 - attention_mae: 0.0474 - val_loss: 0.0143 - val_attention_mae: 0.0691\n",
            "Epoch 40/300\n",
            "513/513 [==============================] - ETA: 0s - loss: 0.0061 - attention_mae: 0.0473\n",
            "Epoch 40: val_loss did not improve from 0.01425\n",
            "513/513 [==============================] - 399s 778ms/step - loss: 0.0061 - attention_mae: 0.0473 - val_loss: 0.0146 - val_attention_mae: 0.0697\n",
            "Epoch 41/300\n",
            "513/513 [==============================] - ETA: 0s - loss: 0.0061 - attention_mae: 0.0471\n",
            "Epoch 41: val_loss did not improve from 0.01425\n",
            "513/513 [==============================] - 399s 778ms/step - loss: 0.0061 - attention_mae: 0.0471 - val_loss: 0.0154 - val_attention_mae: 0.0714\n",
            "Epoch 42/300\n",
            "513/513 [==============================] - ETA: 0s - loss: 0.0058 - attention_mae: 0.0461\n",
            "Epoch 42: val_loss did not improve from 0.01425\n",
            "513/513 [==============================] - 399s 778ms/step - loss: 0.0058 - attention_mae: 0.0461 - val_loss: 0.0154 - val_attention_mae: 0.0729\n",
            "Epoch 43/300\n",
            "513/513 [==============================] - ETA: 0s - loss: 0.0060 - attention_mae: 0.0470\n",
            "Epoch 43: val_loss did not improve from 0.01425\n",
            "513/513 [==============================] - 399s 778ms/step - loss: 0.0060 - attention_mae: 0.0470 - val_loss: 0.0150 - val_attention_mae: 0.0713\n",
            "Epoch 44/300\n",
            "513/513 [==============================] - ETA: 0s - loss: 0.0059 - attention_mae: 0.0462\n",
            "Epoch 44: val_loss did not improve from 0.01425\n",
            "513/513 [==============================] - 399s 778ms/step - loss: 0.0059 - attention_mae: 0.0462 - val_loss: 0.0222 - val_attention_mae: 0.0884\n",
            "Epoch 45/300\n",
            "513/513 [==============================] - ETA: 0s - loss: 0.0059 - attention_mae: 0.0463\n",
            "Epoch 45: val_loss did not improve from 0.01425\n",
            "513/513 [==============================] - 399s 778ms/step - loss: 0.0059 - attention_mae: 0.0463 - val_loss: 0.0160 - val_attention_mae: 0.0731\n",
            "Epoch 46/300\n",
            "513/513 [==============================] - ETA: 0s - loss: 0.0058 - attention_mae: 0.0460\n",
            "Epoch 46: val_loss did not improve from 0.01425\n",
            "513/513 [==============================] - 399s 778ms/step - loss: 0.0058 - attention_mae: 0.0460 - val_loss: 0.0149 - val_attention_mae: 0.0698\n",
            "Epoch 47/300\n",
            "513/513 [==============================] - ETA: 0s - loss: 0.0057 - attention_mae: 0.0457\n",
            "Epoch 47: val_loss did not improve from 0.01425\n",
            "513/513 [==============================] - 399s 778ms/step - loss: 0.0057 - attention_mae: 0.0457 - val_loss: 0.0157 - val_attention_mae: 0.0715\n",
            "Epoch 48/300\n",
            "513/513 [==============================] - ETA: 0s - loss: 0.0058 - attention_mae: 0.0459\n",
            "Epoch 48: val_loss did not improve from 0.01425\n",
            "513/513 [==============================] - 399s 778ms/step - loss: 0.0058 - attention_mae: 0.0459 - val_loss: 0.0170 - val_attention_mae: 0.0769\n",
            "Epoch 49/300\n",
            "513/513 [==============================] - ETA: 0s - loss: 0.0058 - attention_mae: 0.0459\n",
            "Epoch 49: val_loss did not improve from 0.01425\n",
            "513/513 [==============================] - 399s 778ms/step - loss: 0.0058 - attention_mae: 0.0459 - val_loss: 0.0157 - val_attention_mae: 0.0711\n",
            "Epoch 50/300\n",
            "513/513 [==============================] - ETA: 0s - loss: 0.0057 - attention_mae: 0.0455\n",
            "Epoch 50: val_loss did not improve from 0.01425\n",
            "513/513 [==============================] - 399s 778ms/step - loss: 0.0057 - attention_mae: 0.0455 - val_loss: 0.0158 - val_attention_mae: 0.0717\n",
            "Epoch 51/300\n",
            "513/513 [==============================] - ETA: 0s - loss: 0.0055 - attention_mae: 0.0447\n",
            "Epoch 51: val_loss did not improve from 0.01425\n",
            "513/513 [==============================] - 399s 778ms/step - loss: 0.0055 - attention_mae: 0.0447 - val_loss: 0.0150 - val_attention_mae: 0.0702\n",
            "Epoch 52/300\n",
            "513/513 [==============================] - ETA: 0s - loss: 0.0056 - attention_mae: 0.0450\n",
            "Epoch 52: val_loss did not improve from 0.01425\n",
            "513/513 [==============================] - 399s 778ms/step - loss: 0.0056 - attention_mae: 0.0450 - val_loss: 0.0172 - val_attention_mae: 0.0782\n",
            "Epoch 53/300\n",
            "513/513 [==============================] - ETA: 0s - loss: 0.0056 - attention_mae: 0.0449\n",
            "Epoch 53: val_loss did not improve from 0.01425\n",
            "513/513 [==============================] - 399s 778ms/step - loss: 0.0056 - attention_mae: 0.0449 - val_loss: 0.0182 - val_attention_mae: 0.0786\n",
            "Epoch 54/300\n",
            "513/513 [==============================] - ETA: 0s - loss: 0.0055 - attention_mae: 0.0447\n",
            "Epoch 54: val_loss did not improve from 0.01425\n",
            "513/513 [==============================] - 399s 778ms/step - loss: 0.0055 - attention_mae: 0.0447 - val_loss: 0.0143 - val_attention_mae: 0.0679\n",
            "Epoch 55/300\n",
            "513/513 [==============================] - ETA: 0s - loss: 0.0056 - attention_mae: 0.0450\n",
            "Epoch 55: val_loss did not improve from 0.01425\n",
            "513/513 [==============================] - 399s 778ms/step - loss: 0.0056 - attention_mae: 0.0450 - val_loss: 0.0145 - val_attention_mae: 0.0688\n",
            "Epoch 56/300\n",
            "513/513 [==============================] - ETA: 0s - loss: 0.0053 - attention_mae: 0.0438\n",
            "Epoch 56: val_loss did not improve from 0.01425\n",
            "513/513 [==============================] - 399s 778ms/step - loss: 0.0053 - attention_mae: 0.0438 - val_loss: 0.0157 - val_attention_mae: 0.0718\n",
            "Epoch 57/300\n",
            "513/513 [==============================] - ETA: 0s - loss: 0.0054 - attention_mae: 0.0441\n",
            "Epoch 57: val_loss did not improve from 0.01425\n",
            "513/513 [==============================] - 399s 778ms/step - loss: 0.0054 - attention_mae: 0.0441 - val_loss: 0.0160 - val_attention_mae: 0.0733\n",
            "Epoch 58/300\n",
            "513/513 [==============================] - ETA: 0s - loss: 0.0054 - attention_mae: 0.0441\n",
            "Epoch 58: val_loss did not improve from 0.01425\n",
            "513/513 [==============================] - 399s 778ms/step - loss: 0.0054 - attention_mae: 0.0441 - val_loss: 0.0160 - val_attention_mae: 0.0712\n",
            "Epoch 59/300\n",
            "513/513 [==============================] - ETA: 0s - loss: 0.0054 - attention_mae: 0.0440\n",
            "Epoch 59: val_loss did not improve from 0.01425\n",
            "513/513 [==============================] - 399s 778ms/step - loss: 0.0054 - attention_mae: 0.0440 - val_loss: 0.0145 - val_attention_mae: 0.0695\n",
            "Epoch 60/300\n",
            "513/513 [==============================] - ETA: 0s - loss: 0.0053 - attention_mae: 0.0437\n",
            "Epoch 60: val_loss did not improve from 0.01425\n",
            "513/513 [==============================] - 399s 778ms/step - loss: 0.0053 - attention_mae: 0.0437 - val_loss: 0.0156 - val_attention_mae: 0.0724\n",
            "Epoch 61/300\n",
            "513/513 [==============================] - ETA: 0s - loss: 0.0052 - attention_mae: 0.0435\n",
            "Epoch 61: val_loss did not improve from 0.01425\n",
            "513/513 [==============================] - 399s 778ms/step - loss: 0.0052 - attention_mae: 0.0435 - val_loss: 0.0166 - val_attention_mae: 0.0732\n",
            "Epoch 62/300\n",
            "513/513 [==============================] - ETA: 0s - loss: 0.0052 - attention_mae: 0.0433\n",
            "Epoch 62: val_loss did not improve from 0.01425\n",
            "513/513 [==============================] - 399s 778ms/step - loss: 0.0052 - attention_mae: 0.0433 - val_loss: 0.0150 - val_attention_mae: 0.0705\n",
            "Epoch 63/300\n",
            "513/513 [==============================] - ETA: 0s - loss: 0.0052 - attention_mae: 0.0431\n",
            "Epoch 63: val_loss did not improve from 0.01425\n",
            "513/513 [==============================] - 399s 778ms/step - loss: 0.0052 - attention_mae: 0.0431 - val_loss: 0.0154 - val_attention_mae: 0.0726\n",
            "Epoch 64/300\n",
            "513/513 [==============================] - ETA: 0s - loss: 0.0052 - attention_mae: 0.0430\n",
            "Epoch 64: val_loss did not improve from 0.01425\n",
            "513/513 [==============================] - 399s 778ms/step - loss: 0.0052 - attention_mae: 0.0430 - val_loss: 0.0159 - val_attention_mae: 0.0715\n"
          ]
        }
      ],
      "source": [
        "history = model.fit(\n",
        "    train_batches,\n",
        "    validation_data=test_batches,\n",
        "    epochs=N_EPOCHS,\n",
        "    batch_size=BATCH_SIZE,\n",
        "    callbacks=callbacks,\n",
        "    verbose=1\n",
        ")\n"
      ]
    },
    {
      "cell_type": "markdown",
      "metadata": {
        "id": "o0izY6BrsY8U"
      },
      "source": [
        "# Save Model\n"
      ]
    },
    {
      "cell_type": "code",
      "execution_count": 48,
      "metadata": {
        "id": "BriaW2DnsY8V"
      },
      "outputs": [],
      "source": [
        "timestamp = datetime.datetime.now().strftime('%b-%d-%I:%M%p')\n",
        "if not os.path.exists(model_path):\n",
        "    os.makedirs(model_path)\n",
        "\n",
        "model.save(os.path.join(model_path, timestamp))\n"
      ]
    },
    {
      "cell_type": "code",
      "source": [
        "os.path.join(model_path, timestamp)"
      ],
      "metadata": {
        "colab": {
          "base_uri": "https://localhost:8080/",
          "height": 36
        },
        "id": "BLlENFAuy_nE",
        "outputId": "849ef71d-7c3d-43f6-82a0-ff3d5ab50df7"
      },
      "execution_count": 24,
      "outputs": [
        {
          "output_type": "execute_result",
          "data": {
            "text/plain": [
              "'/content/drive/MyDrive/Research/TAVI/Models/Curvature_2_TAWSS_MultiViewUNet_I256_B16_LR0.001/Jun-12-06:11PM'"
            ],
            "application/vnd.google.colaboratory.intrinsic+json": {
              "type": "string"
            }
          },
          "metadata": {},
          "execution_count": 24
        }
      ]
    },
    {
      "cell_type": "markdown",
      "metadata": {
        "id": "i_Oi8OvMsY8V"
      },
      "source": [
        "# Save Predictions\n"
      ]
    },
    {
      "cell_type": "code",
      "execution_count": 49,
      "metadata": {
        "id": "lvBEcrXCsY8V",
        "colab": {
          "base_uri": "https://localhost:8080/"
        },
        "outputId": "c9a007a9-e425-4ba1-f4fe-355925b9232b"
      },
      "outputs": [
        {
          "output_type": "stream",
          "name": "stderr",
          "text": [
            "\r0it [00:00, ?it/s]"
          ]
        },
        {
          "output_type": "stream",
          "name": "stdout",
          "text": [
            "1/1 [==============================] - 0s 23ms/step\n"
          ]
        },
        {
          "output_type": "stream",
          "name": "stderr",
          "text": [
            "\r0it [00:00, ?it/s]\n"
          ]
        }
      ],
      "source": [
        "test_ds_unbatched = test_batches.unbatch()\n",
        "\n",
        "pred_path = os.path.join(PRED_PATH, EXP_NAME, timestamp)\n",
        "if not os.path.exists(pred_path):\n",
        "    os.makedirs(pred_path)\n",
        "\n",
        "metrics = pd.DataFrame()\n",
        "\n",
        "for idx, (input, target) in enumerate(tqdm(test_ds_unbatched)):\n",
        "\n",
        "    target = tf.squeeze(target).numpy()\n",
        "    prediction = tf.squeeze(\n",
        "        model.predict(\n",
        "            tf.expand_dims(input, axis=0)\n",
        "        )\n",
        "    )\n",
        "    \n",
        "    channel_sum = tf.expand_dims(tf.reduce_sum(target, axis=-1), axis=-1)\n",
        "    white_mask = tf.reduce_all(tf.equal(channel_sum, 3.0), axis=-1)\n",
        "    expanded_mask = tf.expand_dims(white_mask, axis=-1)\n",
        "    expanded_mask = tf.tile(expanded_mask, [1, 1, 3])\n",
        "    prediction = tf.where(expanded_mask, tf.ones_like(prediction), prediction)\n",
        "\n",
        "    plt.figure(figsize=(7, 7))\n",
        "    plt.imshow(target)\n",
        "    plt.axis(\"off\")\n",
        "    plt.tight_layout()\n",
        "    plt.savefig(os.path.join(pred_path, f\"{idx}_T.png\"))\n",
        "    plt.close()\n",
        "\n",
        "    plt.figure(figsize=(7, 7))\n",
        "    plt.imshow(prediction)\n",
        "    plt.axis(\"off\")\n",
        "    plt.tight_layout()\n",
        "    plt.savefig(os.path.join(pred_path, f\"{idx}_P.png\"))\n",
        "    plt.close()\n"
      ]
    },
    {
      "cell_type": "markdown",
      "metadata": {
        "id": "7X8uip-GsY8V"
      },
      "source": [
        "# Loss Curve\n"
      ]
    },
    {
      "cell_type": "code",
      "execution_count": 20,
      "metadata": {
        "id": "uSb9pzrasY8W"
      },
      "outputs": [],
      "source": [
        "try:\n",
        "    loss = history.history['loss']\n",
        "    val_loss = history.history['val_loss']\n",
        "\n",
        "    plt.figure(figsize=(8, 6))\n",
        "    plt.plot(loss, label='Training Loss')\n",
        "    plt.plot(val_loss, label='Validation Loss')\n",
        "    plt.legend(loc='upper right')\n",
        "    plt.ylabel('Attention MAE')\n",
        "    plt.title('Training and Validation Loss')\n",
        "    plt.xlabel('Epoch')\n",
        "    plt.tight_layout()\n",
        "    plt.savefig(os.path.join(model_path, timestamp + \".png\"))\n",
        "    plt.close()\n",
        "except:\n",
        "    print(\"Model did not finish training\")\n"
      ]
    },
    {
      "cell_type": "markdown",
      "metadata": {
        "id": "1hMNNE0VsY8W"
      },
      "source": [
        "# Metrics\n"
      ]
    },
    {
      "cell_type": "code",
      "execution_count": 21,
      "metadata": {
        "id": "QGXSmlicsY8W",
        "colab": {
          "base_uri": "https://localhost:8080/"
        },
        "outputId": "b263c1f4-74ea-4780-f6dd-54a32ad9a06a"
      },
      "outputs": [
        {
          "output_type": "stream",
          "name": "stdout",
          "text": [
            "20/20 [==============================] - 3s 147ms/step - loss: 0.0143 - attention_mae: 0.0698\n"
          ]
        },
        {
          "output_type": "execute_result",
          "data": {
            "text/plain": [
              "[0.01425214298069477, 0.06982719898223877]"
            ]
          },
          "metadata": {},
          "execution_count": 21
        }
      ],
      "source": [
        "model.evaluate(test_batches)\n"
      ]
    },
    {
      "cell_type": "code",
      "source": [],
      "metadata": {
        "id": "GqlDWyXwB1zt"
      },
      "execution_count": null,
      "outputs": []
    }
  ],
  "metadata": {
    "accelerator": "GPU",
    "colab": {
      "machine_shape": "hm",
      "provenance": [],
      "include_colab_link": true
    },
    "gpuClass": "standard",
    "kernelspec": {
      "display_name": "Ai",
      "language": "python",
      "name": "python3"
    },
    "language_info": {
      "codemirror_mode": {
        "name": "ipython",
        "version": 3
      },
      "file_extension": ".py",
      "mimetype": "text/x-python",
      "name": "python",
      "nbconvert_exporter": "python",
      "pygments_lexer": "ipython3",
      "version": "3.10.10"
    },
    "orig_nbformat": 4
  },
  "nbformat": 4,
  "nbformat_minor": 0
}