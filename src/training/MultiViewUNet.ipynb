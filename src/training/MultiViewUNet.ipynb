{
  "cells": [
    {
      "cell_type": "markdown",
      "metadata": {
        "id": "view-in-github",
        "colab_type": "text"
      },
      "source": [
        "<a href=\"https://colab.research.google.com/github/atick-faisal/MultiViewUNet-Aneurysm/blob/main/src/training/MultiViewUNet.ipynb\" target=\"_parent\"><img src=\"https://colab.research.google.com/assets/colab-badge.svg\" alt=\"Open In Colab\"/></a>"
      ]
    },
    {
      "cell_type": "markdown",
      "metadata": {
        "id": "0BWh-7swsY8G"
      },
      "source": [
        "# Colab Info\n"
      ]
    },
    {
      "cell_type": "code",
      "execution_count": 1,
      "metadata": {
        "colab": {
          "base_uri": "https://localhost:8080/"
        },
        "id": "qKSzwmmpsY8K",
        "outputId": "67c79505-5c69-41a3-d97c-d0b41792c10f"
      },
      "outputs": [
        {
          "output_type": "stream",
          "name": "stdout",
          "text": [
            "Wed Nov 15 19:07:52 2023       \n",
            "+-----------------------------------------------------------------------------+\n",
            "| NVIDIA-SMI 525.105.17   Driver Version: 525.105.17   CUDA Version: 12.0     |\n",
            "|-------------------------------+----------------------+----------------------+\n",
            "| GPU  Name        Persistence-M| Bus-Id        Disp.A | Volatile Uncorr. ECC |\n",
            "| Fan  Temp  Perf  Pwr:Usage/Cap|         Memory-Usage | GPU-Util  Compute M. |\n",
            "|                               |                      |               MIG M. |\n",
            "|===============================+======================+======================|\n",
            "|   0  Tesla T4            Off  | 00000000:00:04.0 Off |                    0 |\n",
            "| N/A   63C    P8    11W /  70W |      0MiB / 15360MiB |      0%      Default |\n",
            "|                               |                      |                  N/A |\n",
            "+-------------------------------+----------------------+----------------------+\n",
            "                                                                               \n",
            "+-----------------------------------------------------------------------------+\n",
            "| Processes:                                                                  |\n",
            "|  GPU   GI   CI        PID   Type   Process name                  GPU Memory |\n",
            "|        ID   ID                                                   Usage      |\n",
            "|=============================================================================|\n",
            "|  No running processes found                                                 |\n",
            "+-----------------------------------------------------------------------------+\n",
            "Your runtime has 13.6 gigabytes of available RAM\n",
            "\n",
            "Not using a high-RAM runtime\n"
          ]
        }
      ],
      "source": [
        "from psutil import virtual_memory\n",
        "\n",
        "gpu_info = !nvidia-smi\n",
        "gpu_info = '\\n'.join(gpu_info)\n",
        "if gpu_info.find('failed') >= 0:\n",
        "    print('Not connected to a GPU')\n",
        "else:\n",
        "    print(gpu_info)\n",
        "\n",
        "\n",
        "ram_gb = virtual_memory().total / 1e9\n",
        "print('Your runtime has {:.1f} gigabytes of available RAM\\n'.format(ram_gb))\n",
        "\n",
        "if ram_gb < 20:\n",
        "    print('Not using a high-RAM runtime')\n",
        "else:\n",
        "    print('You are using a high-RAM runtime!')\n"
      ]
    },
    {
      "cell_type": "markdown",
      "metadata": {
        "id": "1k2olxt7sY8M"
      },
      "source": [
        "# Fix for GDrive\n"
      ]
    },
    {
      "cell_type": "code",
      "execution_count": 2,
      "metadata": {
        "id": "WR_aYJ7WsY8M"
      },
      "outputs": [],
      "source": [
        "!pip install -U --no-cache-dir gdown --pre > /dev/null\n"
      ]
    },
    {
      "cell_type": "markdown",
      "metadata": {
        "id": "jm5cGHp0tGvo"
      },
      "source": [
        "# Mount GDrive\n"
      ]
    },
    {
      "cell_type": "code",
      "execution_count": 3,
      "metadata": {
        "colab": {
          "base_uri": "https://localhost:8080/"
        },
        "id": "0hZ7iR0AtJYj",
        "outputId": "a9419b50-f0d8-4951-ecfc-2a2707bbf83e"
      },
      "outputs": [
        {
          "output_type": "stream",
          "name": "stdout",
          "text": [
            "Mounted at /content/drive\n"
          ]
        }
      ],
      "source": [
        "from google.colab import drive\n",
        "drive.mount('/content/drive')\n"
      ]
    },
    {
      "cell_type": "markdown",
      "metadata": {
        "id": "ZjzwtNU2sY8M"
      },
      "source": [
        "# Download and Extract Dataset\n"
      ]
    },
    {
      "cell_type": "code",
      "execution_count": 4,
      "metadata": {
        "id": "9RSDCIWlsY8N",
        "outputId": "00ecc81d-00ab-497f-8d1d-fa3f76eea384",
        "colab": {
          "base_uri": "https://localhost:8080/"
        }
      },
      "outputs": [
        {
          "output_type": "stream",
          "name": "stdout",
          "text": [
            "Downloading...\n",
            "From (uriginal): https://drive.google.com/uc?id=1IcQ84_nVATCsEcLZIYnCaw_rs4r3ZAn4\n",
            "From (redirected): https://drive.google.com/uc?id=1IcQ84_nVATCsEcLZIYnCaw_rs4r3ZAn4&confirm=t&uuid=377619be-df91-4fa1-ae88-1e9ea6da6a9e\n",
            "To: /content/AAA_RGB.zip\n",
            "100% 3.03G/3.03G [00:46<00:00, 65.4MB/s]\n"
          ]
        }
      ],
      "source": [
        "!gdown \"1IcQ84_nVATCsEcLZIYnCaw_rs4r3ZAn4\"\n",
        "!unzip -o \"AAA_RGB.zip\" > /dev/null\n"
      ]
    },
    {
      "cell_type": "markdown",
      "metadata": {
        "id": "yFAlpIdMsY8N"
      },
      "source": [
        "# Imports\n"
      ]
    },
    {
      "cell_type": "code",
      "execution_count": 5,
      "metadata": {
        "id": "xiEKM9gZsY8N"
      },
      "outputs": [],
      "source": [
        "import os\n",
        "import datetime\n",
        "import matplotlib\n",
        "import pandas as pd\n",
        "import tensorflow as tf\n",
        "import matplotlib.pyplot as plt\n",
        "\n",
        "from tqdm import tqdm\n",
        "\n",
        "matplotlib.use('Agg')\n",
        "plt.rcParams[\"font.size\"] = 16\n"
      ]
    },
    {
      "cell_type": "markdown",
      "metadata": {
        "id": "OCaqjLQYsY8O"
      },
      "source": [
        "# Config\n"
      ]
    },
    {
      "cell_type": "code",
      "execution_count": 6,
      "metadata": {
        "id": "Qby7HsHhsY8O"
      },
      "outputs": [],
      "source": [
        "PROBLEM = \"Curvature_2_TAWSS\"\n",
        "\n",
        "MODEL_NAME = \"MultiViewUNet\"\n",
        "DATASET_PATH = \"/content/Images/\"\n",
        "TRAIN_DIR = \"Train/\"\n",
        "TEST_DIR = \"Test/\"\n",
        "INPUT_DIR = PROBLEM.split(\"_2_\")[0]\n",
        "TARGET_DIR = PROBLEM.split(\"_2_\")[1]\n",
        "MODEL_PATH = \"/content/drive/MyDrive/Research/TAVI/Models/\"\n",
        "PRED_PATH = \"/content/drive/MyDrive/Research/TAVI/Predictions/\"\n",
        "IMG_SIZE = 256\n",
        "BATCH_SIZE = 16\n",
        "BUFFER_SIZE = 1000\n",
        "VAL_SPLIT = 0.2\n",
        "LEARNING_RATE = 0.001\n",
        "N_EPOCHS = 10\n",
        "PATIENCE = 30\n",
        "\n",
        "EXP_NAME = f\"{PROBLEM}_{MODEL_NAME}_I{IMG_SIZE}_B{BATCH_SIZE}_LR{LEARNING_RATE}\"\n"
      ]
    },
    {
      "cell_type": "markdown",
      "metadata": {
        "id": "vnnlcTjjsY8O"
      },
      "source": [
        "# Architecture\n"
      ]
    },
    {
      "cell_type": "code",
      "execution_count": 7,
      "metadata": {
        "id": "QQWORDDysY8P"
      },
      "outputs": [],
      "source": [
        "class UNet:\n",
        "    def __init__(\n",
        "        self,\n",
        "        img_size: int,\n",
        "        n_channels: int = 3,\n",
        "        width: int = 32,\n",
        "        depth: int = 4,\n",
        "        kernel_size: int = 3\n",
        "    ):\n",
        "        self.img_size = img_size\n",
        "        self.n_channels = n_channels\n",
        "        self.width = width\n",
        "        self.depth = depth\n",
        "        self.kernel_size = kernel_size\n",
        "\n",
        "    @staticmethod\n",
        "    def conv(\n",
        "        x: tf.Tensor,\n",
        "        filters: int,\n",
        "        kernel_size: int\n",
        "    ) -> tf.Tensor:\n",
        "        for i in range(2):\n",
        "            x = tf.keras.layers.Conv2D(\n",
        "                filters=filters,\n",
        "                kernel_size=kernel_size,\n",
        "                strides=1,\n",
        "                padding=\"same\",\n",
        "                data_format=\"channels_last\",\n",
        "                dilation_rate=1,\n",
        "                groups=1,\n",
        "                activation=None,\n",
        "                use_bias=True,\n",
        "                kernel_initializer=\"glorot_uniform\",\n",
        "                bias_initializer=\"zeros\",\n",
        "            )(x)\n",
        "\n",
        "            x = tf.keras.layers.BatchNormalization()(x)\n",
        "            x = tf.keras.layers.Activation(\"relu\")(x)\n",
        "\n",
        "        return x\n",
        "\n",
        "    @staticmethod\n",
        "    def deconv(x: tf.Tensor, filters: int) -> tf.Tensor:\n",
        "        x = tf.keras.layers.Conv2DTranspose(\n",
        "            filters=filters,\n",
        "            kernel_size=2,\n",
        "            strides=2,\n",
        "            padding=\"same\",\n",
        "            output_padding=None,\n",
        "            data_format=None,\n",
        "            dilation_rate=1,\n",
        "            activation=None,\n",
        "            use_bias=True,\n",
        "            kernel_initializer=\"glorot_uniform\",\n",
        "            bias_initializer=\"zeros\",\n",
        "        )(x)\n",
        "\n",
        "        x = tf.keras.layers.BatchNormalization()(x)\n",
        "        x = tf.keras.layers.Activation(\"relu\")(x)\n",
        "\n",
        "        return x\n",
        "\n",
        "    @staticmethod\n",
        "    def output(x: tf.Tensor) -> tf.Tensor:\n",
        "        return tf.keras.layers.Conv2D(3, (1, 1), activation=\"sigmoid\")(x)\n",
        "\n",
        "    @staticmethod\n",
        "    def pool(x: tf.Tensor, pool_size: int = 2) -> tf.Tensor:\n",
        "        return tf.keras.layers.MaxPool2D(pool_size)(x)\n",
        "\n",
        "    @staticmethod\n",
        "    def dropout(x: tf.Tensor, amount: float = 0.5) -> tf.Tensor:\n",
        "        return tf.keras.layers.Dropout(amount)(x)\n",
        "\n",
        "    def __call__(self) -> tf.keras.Model:\n",
        "        inputs = tf.keras.layers.Input(\n",
        "            shape=(self.img_size, self.img_size, self.n_channels)\n",
        "        )\n",
        "\n",
        "        # scaled = tf.keras.layers.Rescaling(1./255.0, offset=0)(inputs)\n",
        "\n",
        "        # ------------------ Downsampling ---------------------\n",
        "        downsample_layers = []\n",
        "        downsample_layers.append(\n",
        "            self.conv(\n",
        "                x=inputs,\n",
        "                filters=self.width,\n",
        "                kernel_size=self.kernel_size\n",
        "            )\n",
        "        )\n",
        "        for i in range(1, self.depth):\n",
        "            dropout_amount = 0.2 if i == 1 else 0.5\n",
        "            filters = int((2 ** i) * self.width)\n",
        "            downsample_layers.append(\n",
        "                self.dropout(\n",
        "                    self.pool(\n",
        "                        self.conv(\n",
        "                            x=downsample_layers[i - 1],\n",
        "                            filters=filters,\n",
        "                            kernel_size=self.kernel_size\n",
        "                        )\n",
        "                    ),\n",
        "                    amount=dropout_amount\n",
        "                )\n",
        "            )\n",
        "\n",
        "        # ------------------- Features --------------------\n",
        "        n_features = int((2 ** self.depth) * self.width)\n",
        "        self.features = self.pool(\n",
        "            self.conv(\n",
        "                x=downsample_layers[-1],\n",
        "                filters=n_features,\n",
        "                kernel_size=self.kernel_size\n",
        "            )\n",
        "        )\n",
        "\n",
        "        # ------------------- Upsampling --------------------\n",
        "        upsample_layers = []\n",
        "        upsample_layers.append(self.features)\n",
        "        for i in range(1, self.depth + 1):\n",
        "            filters = int((2 ** (self.depth - i)) * self.width)\n",
        "            upsample_layers.append(\n",
        "                self.conv(\n",
        "                    x=self.dropout(\n",
        "                        tf.keras.layers.concatenate([\n",
        "                            downsample_layers[self.depth - i],\n",
        "                            self.deconv(\n",
        "                                x=upsample_layers[i - 1],\n",
        "                                filters=filters\n",
        "                            )\n",
        "                        ])\n",
        "                    ),\n",
        "                    filters=filters,\n",
        "                    kernel_size=self.kernel_size\n",
        "                )\n",
        "            )\n",
        "\n",
        "        # ---------------------- Output -----------------------\n",
        "        outputs = self.output(upsample_layers[-1])\n",
        "\n",
        "        return tf.keras.Model(inputs, outputs)\n"
      ]
    },
    {
      "cell_type": "code",
      "execution_count": 9,
      "metadata": {
        "id": "dmJllxr7rNWO"
      },
      "outputs": [],
      "source": [
        "# # ... MultiResUNet\n",
        "# from keras.layers import Input, Conv2D, MaxPooling2D, Conv2DTranspose, concatenate, BatchNormalization, Activation, add\n",
        "# from keras.models import Model, model_from_json\n",
        "# from keras.optimizers import Adam\n",
        "# # from keras.layers.advanced_activations import ELU, LeakyReLU\n",
        "# from keras.utils.vis_utils import plot_model\n",
        "\n",
        "\n",
        "# def conv2d_bn(x, filters, num_row, num_col, padding='same', strides=(1, 1), activation='relu', name=None):\n",
        "#     '''\n",
        "#     2D Convolutional layers\n",
        "\n",
        "#     Arguments:\n",
        "#         x {keras layer} -- input layer\n",
        "#         filters {int} -- number of filters\n",
        "#         num_row {int} -- number of rows in filters\n",
        "#         num_col {int} -- number of columns in filters\n",
        "\n",
        "#     Keyword Arguments:\n",
        "#         padding {str} -- mode of padding (default: {'same'})\n",
        "#         strides {tuple} -- stride of convolution operation (default: {(1, 1)})\n",
        "#         activation {str} -- activation function (default: {'relu'})\n",
        "#         name {str} -- name of the layer (default: {None})\n",
        "\n",
        "#     Returns:\n",
        "#         [keras layer] -- [output layer]\n",
        "#     '''\n",
        "\n",
        "#     x = Conv2D(filters, (num_row, num_col), strides=strides,\n",
        "#                padding=padding, use_bias=False)(x)\n",
        "#     x = BatchNormalization(axis=3, scale=False)(x)\n",
        "\n",
        "#     if(activation == None):\n",
        "#         return x\n",
        "\n",
        "#     x = Activation(activation, name=name)(x)\n",
        "\n",
        "#     return x\n",
        "\n",
        "\n",
        "# def trans_conv2d_bn(x, filters, num_row, num_col, padding='same', strides=(2, 2), name=None):\n",
        "#     '''\n",
        "#     2D Transposed Convolutional layers\n",
        "\n",
        "#     Arguments:\n",
        "#         x {keras layer} -- input layer\n",
        "#         filters {int} -- number of filters\n",
        "#         num_row {int} -- number of rows in filters\n",
        "#         num_col {int} -- number of columns in filters\n",
        "\n",
        "#     Keyword Arguments:\n",
        "#         padding {str} -- mode of padding (default: {'same'})\n",
        "#         strides {tuple} -- stride of convolution operation (default: {(2, 2)})\n",
        "#         name {str} -- name of the layer (default: {None})\n",
        "\n",
        "#     Returns:\n",
        "#         [keras layer] -- [output layer]\n",
        "#     '''\n",
        "\n",
        "#     x = Conv2DTranspose(filters, (num_row, num_col),\n",
        "#                         strides=strides, padding=padding)(x)\n",
        "#     x = BatchNormalization(axis=3, scale=False)(x)\n",
        "\n",
        "#     return x\n",
        "\n",
        "\n",
        "# def MultiResBlock(U, inp, alpha=1.67):\n",
        "#     '''\n",
        "#     MultiRes Block\n",
        "\n",
        "#     Arguments:\n",
        "#         U {int} -- Number of filters in a corrsponding UNet stage\n",
        "#         inp {keras layer} -- input layer\n",
        "\n",
        "#     Returns:\n",
        "#         [keras layer] -- [output layer]\n",
        "#     '''\n",
        "\n",
        "#     W = alpha * U\n",
        "\n",
        "#     shortcut = inp\n",
        "\n",
        "#     shortcut = conv2d_bn(shortcut, int(W*0.167) + int(W*0.333) +\n",
        "#                          int(W*0.5), 1, 1, activation=None, padding='same')\n",
        "\n",
        "#     conv3x3 = conv2d_bn(inp, int(W*0.167), 3, 3,\n",
        "#                         activation='relu', padding='same')\n",
        "\n",
        "#     conv5x5 = conv2d_bn(conv3x3, int(W*0.333), 3, 3,\n",
        "#                         activation='relu', padding='same')\n",
        "\n",
        "#     conv7x7 = conv2d_bn(conv5x5, int(W*0.5), 3, 3,\n",
        "#                         activation='relu', padding='same')\n",
        "\n",
        "#     out = concatenate([conv3x3, conv5x5, conv7x7], axis=3)\n",
        "#     out = BatchNormalization(axis=3)(out)\n",
        "\n",
        "#     out = add([shortcut, out])\n",
        "#     out = Activation('relu')(out)\n",
        "#     out = BatchNormalization(axis=3)(out)\n",
        "\n",
        "#     return out\n",
        "\n",
        "\n",
        "# def ResPath(filters, length, inp):\n",
        "#     '''\n",
        "#     ResPath\n",
        "\n",
        "#     Arguments:\n",
        "#         filters {int} -- [description]\n",
        "#         length {int} -- length of ResPath\n",
        "#         inp {keras layer} -- input layer\n",
        "\n",
        "#     Returns:\n",
        "#         [keras layer] -- [output layer]\n",
        "#     '''\n",
        "\n",
        "#     shortcut = inp\n",
        "#     shortcut = conv2d_bn(shortcut, filters, 1, 1,\n",
        "#                          activation=None, padding='same')\n",
        "\n",
        "#     out = conv2d_bn(inp, filters, 3, 3, activation='relu', padding='same')\n",
        "\n",
        "#     out = add([shortcut, out])\n",
        "#     out = Activation('relu')(out)\n",
        "#     out = BatchNormalization(axis=3)(out)\n",
        "\n",
        "#     for i in range(length-1):\n",
        "\n",
        "#         shortcut = out\n",
        "#         shortcut = conv2d_bn(shortcut, filters, 1, 1,\n",
        "#                              activation=None, padding='same')\n",
        "\n",
        "#         out = conv2d_bn(out, filters, 3, 3, activation='relu', padding='same')\n",
        "\n",
        "#         out = add([shortcut, out])\n",
        "#         out = Activation('relu')(out)\n",
        "#         out = BatchNormalization(axis=3)(out)\n",
        "\n",
        "#     return out\n",
        "\n",
        "\n",
        "# def MultiResUNet(height, width, n_channels):\n",
        "#     '''\n",
        "#     MultiResUNet\n",
        "\n",
        "#     Arguments:\n",
        "#         height {int} -- height of image\n",
        "#         width {int} -- width of image\n",
        "#         n_channels {int} -- number of channels in image\n",
        "\n",
        "#     Returns:\n",
        "#         [keras model] -- MultiResUNet model\n",
        "#     '''\n",
        "\n",
        "#     inputs = Input((height, width, n_channels))\n",
        "\n",
        "#     mresblock1 = MultiResBlock(32, inputs)\n",
        "#     pool1 = MaxPooling2D(pool_size=(2, 2))(mresblock1)\n",
        "#     mresblock1 = ResPath(32, 4, mresblock1)\n",
        "\n",
        "#     mresblock2 = MultiResBlock(32*2, pool1)\n",
        "#     pool2 = MaxPooling2D(pool_size=(2, 2))(mresblock2)\n",
        "#     mresblock2 = ResPath(32*2, 3, mresblock2)\n",
        "\n",
        "#     mresblock3 = MultiResBlock(32*4, pool2)\n",
        "#     pool3 = MaxPooling2D(pool_size=(2, 2))(mresblock3)\n",
        "#     mresblock3 = ResPath(32*4, 2, mresblock3)\n",
        "\n",
        "#     mresblock4 = MultiResBlock(32*8, pool3)\n",
        "#     pool4 = MaxPooling2D(pool_size=(2, 2))(mresblock4)\n",
        "#     mresblock4 = ResPath(32*8, 1, mresblock4)\n",
        "\n",
        "#     mresblock5 = MultiResBlock(32*16, pool4)\n",
        "\n",
        "#     up6 = concatenate([Conv2DTranspose(\n",
        "#         32*8, (2, 2), strides=(2, 2), padding='same')(mresblock5), mresblock4], axis=3)\n",
        "#     mresblock6 = MultiResBlock(32*8, up6)\n",
        "\n",
        "#     up7 = concatenate([Conv2DTranspose(\n",
        "#         32*4, (2, 2), strides=(2, 2), padding='same')(mresblock6), mresblock3], axis=3)\n",
        "#     mresblock7 = MultiResBlock(32*4, up7)\n",
        "\n",
        "#     up8 = concatenate([Conv2DTranspose(\n",
        "#         32*2, (2, 2), strides=(2, 2), padding='same')(mresblock7), mresblock2], axis=3)\n",
        "#     mresblock8 = MultiResBlock(32*2, up8)\n",
        "\n",
        "#     up9 = concatenate([Conv2DTranspose(32, (2, 2), strides=(\n",
        "#         2, 2), padding='same')(mresblock8), mresblock1], axis=3)\n",
        "#     mresblock9 = MultiResBlock(32, up9)\n",
        "\n",
        "#     conv10 = conv2d_bn(mresblock9, 3, 1, 1, activation='sigmoid')\n",
        "\n",
        "#     model = Model(inputs=[inputs], outputs=[conv10])\n",
        "\n",
        "#     return model\n",
        "\n",
        "\n",
        "# # def main():\n",
        "\n",
        "# #     # Define the model\n",
        "\n",
        "# #     model = MultiResUnet(128, 128,3)\n",
        "# #     print(model.summary())\n",
        "\n",
        "\n",
        "# # if __name__ == '__main__':\n",
        "# #     main()\n"
      ]
    },
    {
      "cell_type": "code",
      "execution_count": 10,
      "metadata": {
        "id": "Bk_ZuE4BrNWP"
      },
      "outputs": [],
      "source": [
        "# # ... MultiResUNet3D\n",
        "# from keras.layers import Input, Conv3D, MaxPooling3D, Conv3DTranspose, concatenate, BatchNormalization, Activation, add\n",
        "# from keras.models import Model, model_from_json\n",
        "# from keras.optimizers import Adam\n",
        "# # from keras.layers.advanced_activations import ELU, LeakyReLU\n",
        "# from keras.utils.vis_utils import plot_model\n",
        "\n",
        "\n",
        "# def conv3d_bn(x, filters, num_row, num_col, num_z, padding='same', strides=(1, 1, 1), activation='relu', name=None):\n",
        "#     '''\n",
        "#     3D Convolutional layers\n",
        "\n",
        "#     Arguments:\n",
        "#         x {keras layer} -- input layer\n",
        "#         filters {int} -- number of filters\n",
        "#         num_row {int} -- number of rows in filters\n",
        "#         num_col {int} -- number of columns in filters\n",
        "#         num_z {int} -- length along z axis in filters\n",
        "\n",
        "#     Keyword Arguments:\n",
        "#         padding {str} -- mode of padding (default: {'same'})\n",
        "#         strides {tuple} -- stride of convolution operation (default: {(1, 1, 1)})\n",
        "#         activation {str} -- activation function (default: {'relu'})\n",
        "#         name {str} -- name of the layer (default: {None})\n",
        "\n",
        "#     Returns:\n",
        "#         [keras layer] -- [output layer]\n",
        "#     '''\n",
        "\n",
        "#     x = Conv3D(filters, (num_row, num_col, num_z),\n",
        "#                strides=strides, padding=padding, use_bias=False)(x)\n",
        "#     x = BatchNormalization(axis=4, scale=False)(x)\n",
        "\n",
        "#     if(activation == None):\n",
        "#         return x\n",
        "\n",
        "#     x = Activation(activation, name=name)(x)\n",
        "#     return x\n",
        "\n",
        "\n",
        "# def trans_conv3d_bn(x, filters, num_row, num_col, num_z, padding='same', strides=(2, 2, 2), name=None):\n",
        "#     '''\n",
        "#     2D Transposed Convolutional layers\n",
        "\n",
        "#     Arguments:\n",
        "#         x {keras layer} -- input layer\n",
        "#         filters {int} -- number of filters\n",
        "#         num_row {int} -- number of rows in filters\n",
        "#         num_col {int} -- number of columns in filters\n",
        "#         num_z {int} -- length along z axis in filters\n",
        "\n",
        "#     Keyword Arguments:\n",
        "#         padding {str} -- mode of padding (default: {'same'})\n",
        "#         strides {tuple} -- stride of convolution operation (default: {(2, 2, 2)})\n",
        "#         name {str} -- name of the layer (default: {None})\n",
        "\n",
        "#     Returns:\n",
        "#         [keras layer] -- [output layer]\n",
        "#     '''\n",
        "\n",
        "#     x = Conv3DTranspose(filters, (num_row, num_col, num_z),\n",
        "#                         strides=strides, padding=padding)(x)\n",
        "#     x = BatchNormalization(axis=4, scale=False)(x)\n",
        "\n",
        "#     return x\n",
        "\n",
        "\n",
        "# def MultiResBlock(U, inp, alpha=1.67):\n",
        "#     '''\n",
        "#     MultiRes Block\n",
        "\n",
        "#     Arguments:\n",
        "#         U {int} -- Number of filters in a corrsponding UNet stage\n",
        "#         inp {keras layer} -- input layer\n",
        "\n",
        "#     Returns:\n",
        "#         [keras layer] -- [output layer]\n",
        "#     '''\n",
        "\n",
        "#     W = alpha * U\n",
        "\n",
        "#     shortcut = inp\n",
        "\n",
        "#     shortcut = conv3d_bn(shortcut, int(W*0.167) + int(W*0.333) +\n",
        "#                          int(W*0.5), 1, 1, 1, activation=None, padding='same')\n",
        "\n",
        "#     conv3x3 = conv3d_bn(inp, int(W*0.167), 3, 3, 3,\n",
        "#                         activation='relu', padding='same')\n",
        "\n",
        "#     conv5x5 = conv3d_bn(conv3x3, int(W*0.333), 3, 3, 3,\n",
        "#                         activation='relu', padding='same')\n",
        "\n",
        "#     conv7x7 = conv3d_bn(conv5x5, int(W*0.5), 3, 3, 3,\n",
        "#                         activation='relu', padding='same')\n",
        "\n",
        "#     out = concatenate([conv3x3, conv5x5, conv7x7], axis=4)\n",
        "#     out = BatchNormalization(axis=4)(out)\n",
        "\n",
        "#     out = add([shortcut, out])\n",
        "#     out = Activation('relu')(out)\n",
        "#     out = BatchNormalization(axis=4)(out)\n",
        "\n",
        "#     return out\n",
        "\n",
        "\n",
        "# def ResPath(filters, length, inp):\n",
        "#     '''\n",
        "#     ResPath\n",
        "\n",
        "#     Arguments:\n",
        "#         filters {int} -- [description]\n",
        "#         length {int} -- length of ResPath\n",
        "#         inp {keras layer} -- input layer\n",
        "\n",
        "#     Returns:\n",
        "#         [keras layer] -- [output layer]\n",
        "#     '''\n",
        "\n",
        "#     shortcut = inp\n",
        "#     shortcut = conv3d_bn(shortcut, filters, 1, 1, 1,\n",
        "#                          activation=None, padding='same')\n",
        "\n",
        "#     out = conv3d_bn(inp, filters, 3, 3, 3, activation='relu', padding='same')\n",
        "\n",
        "#     out = add([shortcut, out])\n",
        "#     out = Activation('relu')(out)\n",
        "#     out = BatchNormalization(axis=4)(out)\n",
        "\n",
        "#     for i in range(length-1):\n",
        "\n",
        "#         shortcut = out\n",
        "#         shortcut = conv3d_bn(shortcut, filters, 1, 1, 1,\n",
        "#                              activation=None, padding='same')\n",
        "\n",
        "#         out = conv3d_bn(out, filters, 3, 3, 3,\n",
        "#                         activation='relu', padding='same')\n",
        "\n",
        "#         out = add([shortcut, out])\n",
        "#         out = Activation('relu')(out)\n",
        "#         out = BatchNormalization(axis=4)(out)\n",
        "\n",
        "#     return out\n",
        "\n",
        "\n",
        "# def MultiResUnet3D(height, width, z, n_channels):\n",
        "#     '''\n",
        "#     MultiResUNet3D\n",
        "\n",
        "#     Arguments:\n",
        "#         height {int} -- height of image\n",
        "#         width {int} -- width of image\n",
        "#         z {int} -- length along z axis\n",
        "#         n_channels {int} -- number of channels in image\n",
        "\n",
        "#     Returns:\n",
        "#         [keras model] -- MultiResUNet3D model\n",
        "#     '''\n",
        "\n",
        "#     inputs = Input((height, width, z, n_channels))\n",
        "\n",
        "#     mresblock1 = MultiResBlock(32, inputs)\n",
        "#     pool1 = MaxPooling3D(pool_size=(2, 2, 2))(mresblock1)\n",
        "#     mresblock1 = ResPath(32, 4, mresblock1)\n",
        "\n",
        "#     mresblock2 = MultiResBlock(32*2, pool1)\n",
        "#     pool2 = MaxPooling3D(pool_size=(2, 2, 2))(mresblock2)\n",
        "#     mresblock2 = ResPath(32*2, 3, mresblock2)\n",
        "\n",
        "#     mresblock3 = MultiResBlock(32*4, pool2)\n",
        "#     pool3 = MaxPooling3D(pool_size=(2, 2, 2))(mresblock3)\n",
        "#     mresblock3 = ResPath(32*4, 2, mresblock3)\n",
        "\n",
        "#     mresblock4 = MultiResBlock(32*8, pool3)\n",
        "#     pool4 = MaxPooling3D(pool_size=(2, 2, 2))(mresblock4)\n",
        "#     mresblock4 = ResPath(32*8, 1, mresblock4)\n",
        "\n",
        "#     mresblock5 = MultiResBlock(32*16, pool4)\n",
        "\n",
        "#     up6 = concatenate([Conv3DTranspose(\n",
        "#         32*8, (2, 2, 2), strides=(2, 2, 2), padding='same')(mresblock5), mresblock4], axis=4)\n",
        "#     mresblock6 = MultiResBlock(32*8, up6)\n",
        "\n",
        "#     up7 = concatenate([Conv3DTranspose(\n",
        "#         32*4, (2, 2, 2), strides=(2, 2, 2), padding='same')(mresblock6), mresblock3], axis=4)\n",
        "#     mresblock7 = MultiResBlock(32*4, up7)\n",
        "\n",
        "#     up8 = concatenate([Conv3DTranspose(\n",
        "#         32*2, (2, 2, 2), strides=(2, 2, 2), padding='same')(mresblock7), mresblock2], axis=4)\n",
        "#     mresblock8 = MultiResBlock(32*2, up8)\n",
        "\n",
        "#     up9 = concatenate([Conv3DTranspose(32, (2, 2, 2), strides=(\n",
        "#         2, 2, 2), padding='same')(mresblock8), mresblock1], axis=4)\n",
        "#     mresblock9 = MultiResBlock(32, up9)\n",
        "\n",
        "#     conv10 = conv3d_bn(mresblock9, 3, 1, 1, 1, activation='sigmoid')\n",
        "\n",
        "#     model = Model(inputs=[inputs], outputs=[conv10])\n",
        "\n",
        "#     return model\n",
        "\n",
        "\n",
        "# # def main():\n",
        "\n",
        "# #     # Define the model\n",
        "\n",
        "# #     model = MultiResUnet3D(80, 80, 48, 4)\n",
        "# #     print(model.summary())\n",
        "\n",
        "\n",
        "# # if __name__ == '__main__':\n",
        "# #     main()\n"
      ]
    },
    {
      "cell_type": "markdown",
      "metadata": {
        "id": "3wNu29ilsY8Q"
      },
      "source": [
        "# Loss Functions / Metrics\n"
      ]
    },
    {
      "cell_type": "code",
      "execution_count": 11,
      "metadata": {
        "id": "EScLEIVTsY8R"
      },
      "outputs": [],
      "source": [
        "@tf.function\n",
        "def attention_mse(y_true, y_pred):\n",
        "    _y_true = y_true[y_true != 1.0]\n",
        "    _y_pred = y_pred[y_true != 1.0]\n",
        "    squared_difference = tf.square(_y_true - _y_pred)\n",
        "    return tf.reduce_mean(squared_difference, axis=-1)\n",
        "\n",
        "\n",
        "@tf.function\n",
        "def attention_mae(y_true, y_pred):\n",
        "    _y_true = y_true[y_true != 1.0]\n",
        "    _y_pred = y_pred[y_true != 1.0]\n",
        "    squared_difference = tf.abs(_y_true - _y_pred)\n",
        "    return tf.reduce_mean(squared_difference, axis=-1)\n"
      ]
    },
    {
      "cell_type": "markdown",
      "metadata": {
        "id": "UcGPtUeasY8R"
      },
      "source": [
        "# DataLoader\n"
      ]
    },
    {
      "cell_type": "code",
      "execution_count": 12,
      "metadata": {
        "id": "wEWrDHWDsY8R"
      },
      "outputs": [],
      "source": [
        "def load_data_from_dir(path: str) -> tf.data.Dataset:\n",
        "    return tf.keras.utils.image_dataset_from_directory(\n",
        "        directory=path,\n",
        "        labels=None,\n",
        "        color_mode='rgb',\n",
        "        batch_size=BATCH_SIZE,\n",
        "        image_size=(IMG_SIZE, IMG_SIZE),\n",
        "        shuffle=False,\n",
        "        seed=42,\n",
        "        interpolation='bilinear',\n",
        "        follow_links=False,\n",
        "        crop_to_aspect_ratio=False\n",
        "    )\n"
      ]
    },
    {
      "cell_type": "markdown",
      "metadata": {
        "id": "iHl8FzWEsY8R"
      },
      "source": [
        "# Load Dataset\n"
      ]
    },
    {
      "cell_type": "code",
      "execution_count": 13,
      "metadata": {
        "colab": {
          "base_uri": "https://localhost:8080/"
        },
        "id": "_N_9KDvNsY8S",
        "outputId": "2fb339a0-f606-40a1-ba93-3d7ce4643665"
      },
      "outputs": [
        {
          "output_type": "stream",
          "name": "stdout",
          "text": [
            "Found 7308 files belonging to 1 classes.\n",
            "Found 7308 files belonging to 1 classes.\n",
            "Found 612 files belonging to 1 classes.\n",
            "Found 612 files belonging to 1 classes.\n",
            "(TensorSpec(shape=(None, 256, 256, 3), dtype=tf.float32, name=None), TensorSpec(shape=(None, 256, 256, 3), dtype=tf.float32, name=None))\n",
            "(TensorSpec(shape=(None, 256, 256, 3), dtype=tf.float32, name=None), TensorSpec(shape=(None, 256, 256, 3), dtype=tf.float32, name=None))\n"
          ]
        }
      ],
      "source": [
        "trainX = load_data_from_dir(os.path.join(DATASET_PATH, TRAIN_DIR, INPUT_DIR))\n",
        "trainY = load_data_from_dir(os.path.join(DATASET_PATH, TRAIN_DIR, TARGET_DIR))\n",
        "testX = load_data_from_dir(os.path.join(DATASET_PATH, TEST_DIR, INPUT_DIR))\n",
        "testY = load_data_from_dir(os.path.join(DATASET_PATH, TEST_DIR, TARGET_DIR))\n",
        "\n",
        "train_ds = tf.data.Dataset.zip((trainX, trainY))\n",
        "test_ds = tf.data.Dataset.zip((testX, testY))\n",
        "\n",
        "print(train_ds.element_spec)\n",
        "print(test_ds.element_spec)\n"
      ]
    },
    {
      "cell_type": "markdown",
      "metadata": {
        "id": "siGY2orosY8S"
      },
      "source": [
        "# Normalization\n"
      ]
    },
    {
      "cell_type": "code",
      "execution_count": 14,
      "metadata": {
        "id": "iEVMVJIusY8S"
      },
      "outputs": [],
      "source": [
        "normalization_layer = tf.keras.layers.Rescaling(1./255)\n",
        "train_ds = train_ds.map(lambda x, y: (\n",
        "    normalization_layer(x), normalization_layer(y)))\n",
        "test_ds = test_ds.map(lambda x, y: (\n",
        "    normalization_layer(x), normalization_layer(y)))\n"
      ]
    },
    {
      "cell_type": "markdown",
      "metadata": {
        "id": "N0gpJ04WsY8T"
      },
      "source": [
        "# Augmentation\n"
      ]
    },
    {
      "cell_type": "code",
      "execution_count": 15,
      "metadata": {
        "id": "71pw2HYCsY8T"
      },
      "outputs": [],
      "source": [
        "class Augment(tf.keras.layers.Layer):\n",
        "    def __init__(self, seed=42):\n",
        "        super().__init__()\n",
        "        # both use the same seed, so they'll make the same random changes.\n",
        "        self.augment_inputs = tf.keras.layers.RandomZoom(\n",
        "            (-0.1, -0.7), seed=seed)\n",
        "        self.augment_labels = tf.keras.layers.RandomZoom(\n",
        "            (-0.1, -0.7), seed=seed)\n",
        "\n",
        "    def call(self, inputs, labels):\n",
        "        inputs = self.augment_inputs(inputs)\n",
        "        labels = self.augment_labels(labels)\n",
        "        return inputs, labels\n"
      ]
    },
    {
      "cell_type": "markdown",
      "metadata": {
        "id": "mymNUKessY8T"
      },
      "source": [
        "# Optimization\n"
      ]
    },
    {
      "cell_type": "code",
      "execution_count": 16,
      "metadata": {
        "id": "OFxFklYZsY8T"
      },
      "outputs": [],
      "source": [
        "AUTOTUNE = tf.data.AUTOTUNE\n",
        "\n",
        "train_batches = (\n",
        "    train_ds\n",
        "    .cache()\n",
        "    .shuffle(BUFFER_SIZE)\n",
        "    .prefetch(buffer_size=AUTOTUNE)\n",
        ")\n",
        "\n",
        "test_batches = (\n",
        "    test_ds\n",
        "    .cache()\n",
        "    .prefetch(buffer_size=AUTOTUNE)\n",
        ")\n"
      ]
    },
    {
      "cell_type": "markdown",
      "metadata": {
        "id": "j6ilqDbnsY8U"
      },
      "source": [
        "# Training Config\n"
      ]
    },
    {
      "cell_type": "code",
      "execution_count": 17,
      "metadata": {
        "id": "WlY6S1B6sY8U"
      },
      "outputs": [],
      "source": [
        "model_path = os.path.join(MODEL_PATH, EXP_NAME)\n",
        "\n",
        "callbacks = [\n",
        "    tf.keras.callbacks.EarlyStopping(\n",
        "        monitor=\"val_loss\",\n",
        "        patience=PATIENCE,\n",
        "        restore_best_weights=True\n",
        "    ),\n",
        "    tf.keras.callbacks.ModelCheckpoint(\n",
        "        model_path,\n",
        "        monitor='val_loss',\n",
        "        verbose=1,\n",
        "        save_best_only=True,\n",
        "        save_weights_only=True\n",
        "    )\n",
        "]\n",
        "\n",
        "optimizer = tf.keras.optimizers.Adam(\n",
        "    learning_rate=LEARNING_RATE\n",
        ")\n",
        "\n",
        "model = UNet(IMG_SIZE)()\n",
        "# model = MultiResUNet(IMG_SIZE, IMG_SIZE, 3)\n",
        "\n",
        "model.compile(\n",
        "    loss=attention_mse,\n",
        "    optimizer=optimizer,\n",
        "    metrics=[attention_mae]\n",
        ")\n",
        "\n",
        "# model.compile(\n",
        "#     loss=\"mse\",\n",
        "#     optimizer=optimizer,\n",
        "#     metrics=[\"mae\"]\n",
        "# )\n",
        "\n",
        "# try:\n",
        "#     model.load_weights(model_path)\n",
        "# except:\n",
        "#     print(\"Checkpoint not found\")\n",
        "#     pass\n"
      ]
    },
    {
      "cell_type": "markdown",
      "metadata": {
        "id": "zmjFkIYNsY8U"
      },
      "source": [
        "# Training\n"
      ]
    },
    {
      "cell_type": "code",
      "execution_count": null,
      "metadata": {
        "colab": {
          "base_uri": "https://localhost:8080/"
        },
        "id": "Nd0e5sXtsY8U",
        "outputId": "5cc8e26e-bfe8-4fc3-90c3-2fcce14f0c66"
      },
      "outputs": [
        {
          "output_type": "stream",
          "name": "stdout",
          "text": [
            "Epoch 1/10\n"
          ]
        }
      ],
      "source": [
        "history = model.fit(\n",
        "    train_batches,\n",
        "    validation_data=test_batches,\n",
        "    epochs=N_EPOCHS,\n",
        "    batch_size=BATCH_SIZE,\n",
        "    callbacks=callbacks,\n",
        "    verbose=1\n",
        ")\n"
      ]
    },
    {
      "cell_type": "markdown",
      "metadata": {
        "id": "o0izY6BrsY8U"
      },
      "source": [
        "# Save Model\n"
      ]
    },
    {
      "cell_type": "code",
      "execution_count": null,
      "metadata": {
        "id": "BriaW2DnsY8V"
      },
      "outputs": [],
      "source": [
        "timestamp = datetime.datetime.now().strftime('%b-%d-%I:%M%p')\n",
        "if not os.path.exists(model_path):\n",
        "    os.makedirs(model_path)\n",
        "\n",
        "model.save(os.path.join(model_path, timestamp))\n"
      ]
    },
    {
      "cell_type": "markdown",
      "metadata": {
        "id": "i_Oi8OvMsY8V"
      },
      "source": [
        "# Save Predictions\n"
      ]
    },
    {
      "cell_type": "code",
      "execution_count": null,
      "metadata": {
        "id": "lvBEcrXCsY8V"
      },
      "outputs": [],
      "source": [
        "test_ds_unbatched = test_batches.unbatch()\n",
        "\n",
        "pred_path = os.path.join(PRED_PATH, EXP_NAME, timestamp)\n",
        "if not os.path.exists(pred_path):\n",
        "    os.makedirs(pred_path)\n",
        "\n",
        "metrics = pd.DataFrame()\n",
        "\n",
        "for idx, (input, target) in enumerate(tqdm(test_ds_unbatched)):\n",
        "\n",
        "    target = tf.squeeze(target).numpy()\n",
        "    prediction = tf.squeeze(\n",
        "        model.predict(\n",
        "            tf.expand_dims(input, axis=0)\n",
        "        )\n",
        "    ).numpy()\n",
        "\n",
        "    channel_sum = tf.expand_dims(tf.reduce_sum(target, axis=-1), axis=-1)\n",
        "    white_mask = tf.reduce_all(tf.equal(channel_sum, 3.0), axis=-1)\n",
        "    expanded_mask = tf.expand_dims(white_mask, axis=-1)\n",
        "    expanded_mask = tf.tile(expanded_mask, [1, 1, 3])\n",
        "    # expanded_mask = tf.tile(expanded_mask, [1, 1])\n",
        "    prediction = tf.where(expanded_mask, tf.ones_like(prediction), prediction)\n",
        "\n",
        "    plt.figure(figsize=(7, 7))\n",
        "    plt.imshow(target)\n",
        "    plt.axis(\"off\")\n",
        "    plt.tight_layout()\n",
        "    plt.savefig(os.path.join(pred_path, f\"{idx}_T.png\"))\n",
        "    plt.close()\n",
        "\n",
        "    plt.figure(figsize=(7, 7))\n",
        "    plt.imshow(prediction)\n",
        "    plt.axis(\"off\")\n",
        "    plt.tight_layout()\n",
        "    plt.savefig(os.path.join(pred_path, f\"{idx}_P.png\"))\n",
        "    plt.close()\n",
        "\n"
      ]
    },
    {
      "cell_type": "markdown",
      "metadata": {
        "id": "7X8uip-GsY8V"
      },
      "source": [
        "# Loss Curve\n"
      ]
    },
    {
      "cell_type": "code",
      "execution_count": null,
      "metadata": {
        "id": "uSb9pzrasY8W"
      },
      "outputs": [],
      "source": [
        "try:\n",
        "    loss = history.history['loss']\n",
        "    val_loss = history.history['val_loss']\n",
        "\n",
        "    plt.figure(figsize=(8, 6))\n",
        "    plt.plot(loss, label='Training Loss')\n",
        "    plt.plot(val_loss, label='Validation Loss')\n",
        "    plt.legend(loc='upper right')\n",
        "    plt.ylabel('Attention MAE')\n",
        "    plt.title('Training and Validation Loss')\n",
        "    plt.xlabel('Epoch')\n",
        "    plt.tight_layout()\n",
        "    plt.savefig(os.path.join(model_path, timestamp + \".png\"))\n",
        "    plt.close()\n",
        "except:\n",
        "    print(\"Model did not finish training\")\n"
      ]
    },
    {
      "cell_type": "markdown",
      "metadata": {
        "id": "1hMNNE0VsY8W"
      },
      "source": [
        "# Metrics\n"
      ]
    },
    {
      "cell_type": "code",
      "execution_count": null,
      "metadata": {
        "id": "QGXSmlicsY8W"
      },
      "outputs": [],
      "source": [
        "model.evaluate(test_batches)\n"
      ]
    },
    {
      "cell_type": "code",
      "source": [],
      "metadata": {
        "id": "GqlDWyXwB1zt"
      },
      "execution_count": null,
      "outputs": []
    }
  ],
  "metadata": {
    "accelerator": "GPU",
    "colab": {
      "provenance": [],
      "toc_visible": true,
      "gpuType": "T4",
      "include_colab_link": true
    },
    "kernelspec": {
      "display_name": "Python 3",
      "name": "python3"
    },
    "language_info": {
      "codemirror_mode": {
        "name": "ipython",
        "version": 3
      },
      "file_extension": ".py",
      "mimetype": "text/x-python",
      "name": "python",
      "nbconvert_exporter": "python",
      "pygments_lexer": "ipython3",
      "version": "3.10.10"
    },
    "orig_nbformat": 4
  },
  "nbformat": 4,
  "nbformat_minor": 0
}