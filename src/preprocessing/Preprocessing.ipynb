{
 "cells": [
  {
   "cell_type": "code",
   "execution_count": 1,
   "metadata": {},
   "outputs": [],
   "source": [
    "import os\n",
    "import numpy as np\n",
    "import pandas as pd\n",
    "import pyvista as pv\n",
    "\n",
    "from tqdm import tqdm\n"
   ]
  },
  {
   "cell_type": "code",
   "execution_count": 2,
   "metadata": {},
   "outputs": [],
   "source": [
    "DATASET_PATH = \"../../data/dataset/\"\n",
    "VIDEO_DIR = \"Videos/\"\n",
    "GEOMETRY_DIR = \"Geometry/\"\n",
    "CFD_DIR = \"CFD/\"\n"
   ]
  },
  {
   "cell_type": "code",
   "execution_count": 3,
   "metadata": {},
   "outputs": [],
   "source": [
    "geometries = os.listdir(os.path.join(DATASET_PATH, GEOMETRY_DIR))\n",
    "cfd_results = os.listdir(os.path.join(DATASET_PATH, CFD_DIR))\n"
   ]
  },
  {
   "cell_type": "code",
   "execution_count": 5,
   "metadata": {},
   "outputs": [
    {
     "name": "stderr",
     "output_type": "stream",
     "text": [
      "Processing ... :   0%|          | 0/230 [00:04<?, ?it/s]\n"
     ]
    }
   ],
   "source": [
    "for geometry in tqdm(geometries, desc=\"Processing ... \"):\n",
    "    geometry_path = os.path.join(\n",
    "        DATASET_PATH,\n",
    "        GEOMETRY_DIR,\n",
    "        geometry\n",
    "    )\n",
    "\n",
    "    video_path = os.path.join(\n",
    "        DATASET_PATH,\n",
    "        VIDEO_DIR,\n",
    "        GEOMETRY_DIR,\n",
    "        geometry[:-4] + \".avi\"\n",
    "    )\n",
    "\n",
    "    pl = pv.Plotter()\n",
    "    pl.open_movie(video_path)\n",
    "    pl.set_background(\"white\")\n",
    "    mesh = pv.read(geometry_path)\n",
    "    \n",
    "    pl.write_frame()\n",
    "    for i in range(360):\n",
    "        mesh.rotate_z(1, inplace=True)\n",
    "        pl.write_frame()\n",
    "\n",
    "    pl.close()\n",
    "\n",
    "    break\n",
    "\n"
   ]
  },
  {
   "cell_type": "code",
   "execution_count": 28,
   "metadata": {},
   "outputs": [],
   "source": [
    "geometry = geometries[11]\n",
    "geometry_path = os.path.join(DATASET_PATH, GEOMETRY_DIR, geometry)\n"
   ]
  },
  {
   "cell_type": "code",
   "execution_count": 29,
   "metadata": {},
   "outputs": [],
   "source": [
    "mesh = pv.read(geometry_path)"
   ]
  },
  {
   "cell_type": "code",
   "execution_count": 30,
   "metadata": {},
   "outputs": [],
   "source": [
    "pl = pv.Plotter()\n",
    "pl.add_mesh(mesh)\n",
    "pl.show(screenshot=\"../../data/dataset/Videos/pp.png\")\n",
    "pl.close()"
   ]
  },
  {
   "cell_type": "code",
   "execution_count": 32,
   "metadata": {},
   "outputs": [],
   "source": [
    "# %%\n",
    "import os\n",
    "import cv2\n",
    "from turtle import color\n",
    "import numpy as np\n",
    "import pandas as pd\n",
    "import pyvista as pv\n",
    "\n",
    "# %%\n",
    "DATASET_PATH = \"../../data/dataset/\"\n",
    "VIDEO_DIR = \"Videos/\"\n",
    "GEOMETRY_DIR = \"Geometry/\"\n",
    "CFD_DIR = \"Geometry_CFD_Aneurysm/\"\n",
    "\n",
    "\n",
    "# %%\n",
    "geometries = os.listdir(os.path.join(DATASET_PATH, GEOMETRY_DIR))\n",
    "cfd_results = os.listdir(os.path.join(DATASET_PATH, CFD_DIR))\n",
    "\n",
    "# %%\n",
    "geometry = geometries[7][:-4]\n",
    "geometry_path = os.path.join(DATASET_PATH, GEOMETRY_DIR, geometry + \".stl\")\n",
    "cfd_path = os.path.join(DATASET_PATH, CFD_DIR, geometry + \".vtk\")\n",
    "geometry_video_path = os.path.join(DATASET_PATH, VIDEO_DIR, geometry + \".avi\")\n",
    "\n",
    "\n",
    "# %%\n",
    "mesh = pv.read(geometry_path)\n",
    "curvature = mesh.curvature()\n",
    "curvature = (curvature - np.mean(curvature)) / (np.std(curvature))\n",
    "# %%\n",
    "pl = pv.Plotter()\n",
    "pl.open_movie(geometry_video_path)\n",
    "pl.set_background(\"white\")\n",
    "# pl.camera_position = 'yz'\n",
    "pl.add_mesh(mesh, scalars=curvature, cmap=\"jet\",\n",
    "            clim=[-1, 1], show_scalar_bar=False)\n",
    "pl.write_frame()\n",
    "for i in range(360):\n",
    "    mesh.rotate_z(1, inplace=True)\n",
    "    cv2.imwrite(\"../../data/dataset/pp.png\", pl.image[:, 128:-128, :])\n",
    "    # pl.write_frame()\n",
    "\n",
    "pl.close()"
   ]
  }
 ],
 "metadata": {
  "kernelspec": {
   "display_name": "Python 3.10.5 64-bit",
   "language": "python",
   "name": "python3"
  },
  "language_info": {
   "codemirror_mode": {
    "name": "ipython",
    "version": 3
   },
   "file_extension": ".py",
   "mimetype": "text/x-python",
   "name": "python",
   "nbconvert_exporter": "python",
   "pygments_lexer": "ipython3",
   "version": "3.10.5"
  },
  "orig_nbformat": 4,
  "vscode": {
   "interpreter": {
    "hash": "d0a93a7fe683202793edfe4b36e658855b29d4363e84d08b437ae403e8c6b82e"
   }
  }
 },
 "nbformat": 4,
 "nbformat_minor": 2
}
