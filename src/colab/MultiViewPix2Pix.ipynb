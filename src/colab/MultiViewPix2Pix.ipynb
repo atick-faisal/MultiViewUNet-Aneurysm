{
  "cells": [
    {
      "cell_type": "markdown",
      "metadata": {
        "colab_type": "text",
        "id": "view-in-github"
      },
      "source": [
        "<a href=\"https://colab.research.google.com/github/atick-faisal/TAVI/blob/main/src/colab/MultiViewUNet.ipynb\" target=\"_parent\"><img src=\"https://colab.research.google.com/assets/colab-badge.svg\" alt=\"Open In Colab\"/></a>"
      ]
    },
    {
      "cell_type": "markdown",
      "metadata": {
        "id": "UVG0Xo17Xzdk"
      },
      "source": [
        "# Colab Info"
      ]
    },
    {
      "cell_type": "code",
      "execution_count": 1,
      "metadata": {
        "colab": {
          "base_uri": "https://localhost:8080/"
        },
        "id": "ZwwbESaiX2xi",
        "outputId": "8c5ba779-1443-4aa8-dccd-3fd61c0ed8b5"
      },
      "outputs": [
        {
          "name": "stdout",
          "output_type": "stream",
          "text": [
            "Sun Mar  5 16:07:11 2023       \n",
            "+-----------------------------------------------------------------------------+\n",
            "| NVIDIA-SMI 525.89.02    Driver Version: 525.89.02    CUDA Version: 12.0     |\n",
            "|-------------------------------+----------------------+----------------------+\n",
            "| GPU  Name        Persistence-M| Bus-Id        Disp.A | Volatile Uncorr. ECC |\n",
            "| Fan  Temp  Perf  Pwr:Usage/Cap|         Memory-Usage | GPU-Util  Compute M. |\n",
            "|                               |                      |               MIG M. |\n",
            "|===============================+======================+======================|\n",
            "|   0  NVIDIA GeForce ...  Off  | 00000000:02:00.0 Off |                  N/A |\n",
            "| N/A   51C    P8    N/A /  N/A |      4MiB /  2048MiB |      0%      Default |\n",
            "|                               |                      |                  N/A |\n",
            "+-------------------------------+----------------------+----------------------+\n",
            "                                                                               \n",
            "+-----------------------------------------------------------------------------+\n",
            "| Processes:                                                                  |\n",
            "|  GPU   GI   CI        PID   Type   Process name                  GPU Memory |\n",
            "|        ID   ID                                                   Usage      |\n",
            "|=============================================================================|\n",
            "|    0   N/A  N/A      1290      G   /usr/lib/Xorg                       4MiB |\n",
            "+-----------------------------------------------------------------------------+\n",
            "Your runtime has 16.5 gigabytes of available RAM\n",
            "\n",
            "Not using a high-RAM runtime\n"
          ]
        }
      ],
      "source": [
        "from psutil import virtual_memory\n",
        "\n",
        "gpu_info = !nvidia-smi\n",
        "gpu_info = '\\n'.join(gpu_info)\n",
        "if gpu_info.find('failed') >= 0:\n",
        "    print('Not connected to a GPU')\n",
        "else:\n",
        "    print(gpu_info)\n",
        "\n",
        "\n",
        "ram_gb = virtual_memory().total / 1e9\n",
        "print('Your runtime has {:.1f} gigabytes of available RAM\\n'.format(ram_gb))\n",
        "\n",
        "if ram_gb < 20:\n",
        "    print('Not using a high-RAM runtime')\n",
        "else:\n",
        "    print('You are using a high-RAM runtime!')\n"
      ]
    },
    {
      "cell_type": "markdown",
      "metadata": {
        "id": "0estJx3IDzz4"
      },
      "source": [
        "# Google Drive"
      ]
    },
    {
      "cell_type": "code",
      "execution_count": 2,
      "metadata": {
        "colab": {
          "base_uri": "https://localhost:8080/"
        },
        "id": "WsH9ydF7Dwpf",
        "outputId": "2d11d66c-7eaf-44d0-e4c0-629d6f1478fc"
      },
      "outputs": [
        {
          "name": "stdout",
          "output_type": "stream",
          "text": [
            "Mounted at /content/drive\n"
          ]
        }
      ],
      "source": [
        "from google.colab import drive\n",
        "drive.mount('/content/drive')\n"
      ]
    },
    {
      "cell_type": "markdown",
      "metadata": {
        "id": "MMf8mzRT0YxP"
      },
      "source": [
        "# Download Dataset"
      ]
    },
    {
      "cell_type": "code",
      "execution_count": 3,
      "metadata": {
        "colab": {
          "base_uri": "https://localhost:8080/"
        },
        "id": "UCAzYqWZgbFk",
        "outputId": "7ec33ca8-dff6-42e9-c3d2-babdf1fc1557"
      },
      "outputs": [
        {
          "name": "stdout",
          "output_type": "stream",
          "text": [
            "Looking in indexes: https://pypi.org/simple, https://us-python.pkg.dev/colab-wheels/public/simple/\n",
            "Requirement already satisfied: gdown in /usr/local/lib/python3.8/dist-packages (4.4.0)\n",
            "Collecting gdown\n",
            "  Downloading gdown-4.6.0-py3-none-any.whl (14 kB)\n",
            "Requirement already satisfied: beautifulsoup4 in /usr/local/lib/python3.8/dist-packages (from gdown) (4.6.3)\n",
            "Requirement already satisfied: tqdm in /usr/local/lib/python3.8/dist-packages (from gdown) (4.64.1)\n",
            "Requirement already satisfied: filelock in /usr/local/lib/python3.8/dist-packages (from gdown) (3.9.0)\n",
            "Requirement already satisfied: requests[socks] in /usr/local/lib/python3.8/dist-packages (from gdown) (2.25.1)\n",
            "Requirement already satisfied: six in /usr/local/lib/python3.8/dist-packages (from gdown) (1.15.0)\n",
            "Requirement already satisfied: idna<3,>=2.5 in /usr/local/lib/python3.8/dist-packages (from requests[socks]->gdown) (2.10)\n",
            "Requirement already satisfied: urllib3<1.27,>=1.21.1 in /usr/local/lib/python3.8/dist-packages (from requests[socks]->gdown) (1.24.3)\n",
            "Requirement already satisfied: chardet<5,>=3.0.2 in /usr/local/lib/python3.8/dist-packages (from requests[socks]->gdown) (4.0.0)\n",
            "Requirement already satisfied: certifi>=2017.4.17 in /usr/local/lib/python3.8/dist-packages (from requests[socks]->gdown) (2022.12.7)\n",
            "Requirement already satisfied: PySocks!=1.5.7,>=1.5.6 in /usr/local/lib/python3.8/dist-packages (from requests[socks]->gdown) (1.7.1)\n",
            "Installing collected packages: gdown\n",
            "  Attempting uninstall: gdown\n",
            "    Found existing installation: gdown 4.4.0\n",
            "    Uninstalling gdown-4.4.0:\n",
            "      Successfully uninstalled gdown-4.4.0\n",
            "Successfully installed gdown-4.6.0\n"
          ]
        }
      ],
      "source": [
        "!pip install - U - -no-cache-dir gdown - -pre\n"
      ]
    },
    {
      "cell_type": "code",
      "execution_count": 4,
      "metadata": {
        "colab": {
          "base_uri": "https://localhost:8080/"
        },
        "id": "Zm_HJEfM0YxS",
        "outputId": "350d20cd-37e5-4c9c-a295-22147b811f7a"
      },
      "outputs": [
        {
          "name": "stdout",
          "output_type": "stream",
          "text": [
            "Downloading...\n",
            "From: https://drive.google.com/uc?id=12CxxS2w7mprCnVX9Y_Kiti6vEPbTQW2l\n",
            "To: /content/UNet_2DCNN.py\n",
            "100% 58.6k/58.6k [00:00<00:00, 65.8MB/s]\n",
            "Downloading...\n",
            "From: https://drive.google.com/uc?id=1CN-7DANpVbSzkxmGOj_zGX6QC0q1HHDM\n",
            "To: /content/CurvToTAWSSJet.zip\n",
            "100% 942M/942M [00:09<00:00, 99.7MB/s]\n"
          ]
        }
      ],
      "source": [
        "!gdown \"1CN-7DANpVbSzkxmGOj_zGX6QC0q1HHDM\"\n",
        "!unzip - o \"CurvToTAWSSJet.zip\" > /dev/null\n"
      ]
    },
    {
      "cell_type": "markdown",
      "metadata": {
        "id": "Vemh_spU0YxT"
      },
      "source": [
        "# Imports"
      ]
    },
    {
      "cell_type": "code",
      "execution_count": 2,
      "metadata": {
        "id": "w0KYlE-90YxT"
      },
      "outputs": [
        {
          "name": "stderr",
          "output_type": "stream",
          "text": [
            "2023-03-05 16:30:18.893172: I tensorflow/core/util/util.cc:169] oneDNN custom operations are on. You may see slightly different numerical results due to floating-point round-off errors from different computation orders. To turn them off, set the environment variable `TF_ENABLE_ONEDNN_OPTS=0`.\n"
          ]
        }
      ],
      "source": [
        "import os\n",
        "import cv2\n",
        "import time\n",
        "import random\n",
        "import datetime\n",
        "import matplotlib\n",
        "import numpy as np\n",
        "import pandas as pd\n",
        "import tensorflow as tf\n",
        "import matplotlib.pyplot as plt\n",
        "\n",
        "from tqdm import tqdm\n",
        "from numpy.typing import NDArray\n",
        "\n",
        "matplotlib.use('Agg')\n",
        "plt.rcParams[\"font.size\"] = 16\n"
      ]
    },
    {
      "cell_type": "markdown",
      "metadata": {
        "id": "vE8WOTRj0YxT"
      },
      "source": [
        "# Config"
      ]
    },
    {
      "cell_type": "code",
      "execution_count": 3,
      "metadata": {
        "id": "O5Vvm79c0YxT"
      },
      "outputs": [],
      "source": [
        "DATASET = \"CurvToTAWSS\"\n",
        "MODEL_NAME = \"MultiViewUNet\"\n",
        "DATASET_PATH = \"/content/Images/\"\n",
        "TRAIN_DIR = \"Train/\"\n",
        "TEST_DIR = \"Test/\"\n",
        "INPUT_DIR = \"Input/\"\n",
        "TARGET_DIR = \"Target/\"\n",
        "MODEL_PATH = \"/content/drive/MyDrive/Research/TAVI/Models/\"\n",
        "PRED_PATH = \"/content/drive/MyDrive/Research/TAVI/Predictions/\"\n",
        "\n",
        "IMG_SIZE = 256\n",
        "BATCH_SIZE = 16\n",
        "BUFFER_SIZE = 1000\n",
        "VAL_SPLIT = 0.2\n",
        "LEARNING_RATE = 0.001\n",
        "N_EPOCHS = 300\n",
        "PATIENCE = 30\n",
        "\n",
        "EXP_NAME = f\"{MODEL_NAME}_I{IMG_SIZE}_B{BATCH_SIZE}_LR{LEARNING_RATE}_{DATASET}\"\n",
        "CHECKPOINT_PATH = os.path.join(MODEL_PATH, EXP_NAME)\n"
      ]
    },
    {
      "attachments": {},
      "cell_type": "markdown",
      "metadata": {},
      "source": [
        "# Architecture"
      ]
    },
    {
      "attachments": {},
      "cell_type": "markdown",
      "metadata": {},
      "source": [
        "## Generator"
      ]
    },
    {
      "cell_type": "code",
      "execution_count": 6,
      "metadata": {},
      "outputs": [],
      "source": [
        "class Generator:\n",
        "    def __init__(\n",
        "        self,\n",
        "        img_size: int,\n",
        "        n_channels: int\n",
        "    ):\n",
        "        self.img_size = img_size\n",
        "        self.n_channels = n_channels\n",
        "\n",
        "    @staticmethod\n",
        "    def downsample(\n",
        "        filters: int,\n",
        "        kernel_size: int,\n",
        "        apply_batchnorm: bool = True\n",
        "    ):\n",
        "        initializer = tf.random_normal_initializer(0., 0.02)\n",
        "        result = tf.keras.Sequential()\n",
        "        result.add(\n",
        "            tf.keras.layers.Conv2D(\n",
        "                filters=filters,\n",
        "                kernel_size=kernel_size,\n",
        "                strides=2,\n",
        "                padding=\"same\",\n",
        "                kernel_initializer=initializer,\n",
        "                use_bias=False\n",
        "            )\n",
        "        )\n",
        "\n",
        "        if apply_batchnorm:\n",
        "            result.add(tf.keras.layers.BatchNormalization())\n",
        "\n",
        "        result.add(tf.keras.layers.LeakyReLU())\n",
        "\n",
        "        return result\n",
        "\n",
        "    @staticmethod\n",
        "    def upsample(\n",
        "        filters: int,\n",
        "        kernel_size: int,\n",
        "        apply_dropout: bool = False\n",
        "    ):\n",
        "        initializer = tf.random_normal_initializer(0., 0.02)\n",
        "\n",
        "        result = tf.keras.Sequential()\n",
        "        result.add(\n",
        "            tf.keras.layers.Conv2DTranspose(\n",
        "                filters=filters,\n",
        "                kernel_size=kernel_size,\n",
        "                strides=2,\n",
        "                padding=\"same\",\n",
        "                kernel_initializer=initializer,\n",
        "                use_bias=False\n",
        "            )\n",
        "        )\n",
        "\n",
        "        result.add(tf.keras.layers.BatchNormalization())\n",
        "\n",
        "        if apply_dropout:\n",
        "            result.add(tf.keras.layers.Dropout(0.5))\n",
        "\n",
        "        result.add(tf.keras.layers.ReLU())\n",
        "\n",
        "        return result\n",
        "\n",
        "    def __call__(self):\n",
        "        inputs = tf.keras.layers.Input(\n",
        "            shape=(self.img_size, self.img_size, self.n_channels)\n",
        "        )\n",
        "\n",
        "        down_stack = [\n",
        "            # (batch_size, 128, 128, 64)\n",
        "            self.downsample(64, 4, apply_batchnorm=False),\n",
        "            self.downsample(128, 4),  # (batch_size, 64, 64, 128)\n",
        "            self.downsample(256, 4),  # (batch_size, 32, 32, 256)\n",
        "            self.downsample(512, 4),  # (batch_size, 16, 16, 512)\n",
        "            self.downsample(512, 4),  # (batch_size, 8, 8, 512)\n",
        "            self.downsample(512, 4),  # (batch_size, 4, 4, 512)\n",
        "            self.downsample(512, 4),  # (batch_size, 2, 2, 512)\n",
        "            self.downsample(512, 4),  # (batch_size, 1, 1, 512)\n",
        "        ]\n",
        "\n",
        "        up_stack = [\n",
        "            # (batch_size, 2, 2, 1024)\n",
        "            self.upsample(512, 4, apply_dropout=True),\n",
        "            # (batch_size, 4, 4, 1024)\n",
        "            self.upsample(512, 4, apply_dropout=True),\n",
        "            # (batch_size, 8, 8, 1024)\n",
        "            self.upsample(512, 4, apply_dropout=True),\n",
        "            self.upsample(512, 4),  # (batch_size, 16, 16, 1024)\n",
        "            self.upsample(256, 4),  # (batch_size, 32, 32, 512)\n",
        "            self.upsample(128, 4),  # (batch_size, 64, 64, 256)\n",
        "            self.upsample(64, 4),  # (batch_size, 128, 128, 128)\n",
        "        ]\n",
        "\n",
        "        initializer = tf.random_normal_initializer(0., 0.02)\n",
        "        last = tf.keras.layers.Conv2DTranspose(\n",
        "            filters=self.n_channels,\n",
        "            kernel_size=4,\n",
        "            strides=2,\n",
        "            padding=\"same\",\n",
        "            kernel_initializer=initializer,\n",
        "            activation=\"tanh\"\n",
        "        )  # (batch_size, 256, 256, 3)\n",
        "\n",
        "        x = inputs\n",
        "\n",
        "        # Downsampling through the model\n",
        "        skips = []\n",
        "        for down in down_stack:\n",
        "            x = down(x)\n",
        "            skips.append(x)\n",
        "\n",
        "        skips = reversed(skips[:-1])\n",
        "\n",
        "        # Upsampling and establishing the skip connections\n",
        "        for up, skip in zip(up_stack, skips):\n",
        "            x = up(x)\n",
        "            x = tf.keras.layers.Concatenate()([x, skip])\n",
        "\n",
        "        x = last(x)\n",
        "\n",
        "        return tf.keras.Model(inputs=inputs, outputs=x)\n"
      ]
    },
    {
      "cell_type": "code",
      "execution_count": 8,
      "metadata": {},
      "outputs": [],
      "source": [
        "# generator = Generator(IMG_SIZE, 3)()\n",
        "# tf.keras.utils.plot_model(generator, show_shapes=True, dpi=64)"
      ]
    },
    {
      "attachments": {},
      "cell_type": "markdown",
      "metadata": {},
      "source": [
        "## Discriminator"
      ]
    },
    {
      "cell_type": "code",
      "execution_count": null,
      "metadata": {},
      "outputs": [],
      "source": [
        "def Discriminator():\n",
        "    initializer = tf.random_normal_initializer(0., 0.02)\n",
        "\n",
        "    inp = tf.keras.layers.Input(shape=[256, 256, 3], name='input_image')\n",
        "    tar = tf.keras.layers.Input(shape=[256, 256, 3], name='target_image')\n",
        "\n",
        "    # (batch_size, 256, 256, channels*2)\n",
        "    x = tf.keras.layers.concatenate([inp, tar])\n",
        "\n",
        "    down1 = Generator.downsample(64, 4, False)(x)  # (batch_size, 128, 128, 64)\n",
        "    down2 = Generator.downsample(128, 4)(down1)  # (batch_size, 64, 64, 128)\n",
        "    down3 = Generator.downsample(256, 4)(down2)  # (batch_size, 32, 32, 256)\n",
        "\n",
        "    zero_pad1 = tf.keras.layers.ZeroPadding2D()(down3)  # (batch_size, 34, 34, 256)\n",
        "    conv = tf.keras.layers.Conv2D(512, 4, strides=1,\n",
        "                                  kernel_initializer=initializer,\n",
        "                                  use_bias=False)(zero_pad1)  # (batch_size, 31, 31, 512)\n",
        "\n",
        "    batchnorm1 = tf.keras.layers.BatchNormalization()(conv)\n",
        "\n",
        "    leaky_relu = tf.keras.layers.LeakyReLU()(batchnorm1)\n",
        "\n",
        "    zero_pad2 = tf.keras.layers.ZeroPadding2D()(\n",
        "        leaky_relu)  # (batch_size, 33, 33, 512)\n",
        "\n",
        "    last = tf.keras.layers.Conv2D(1, 4, strides=1,\n",
        "                                  kernel_initializer=initializer)(zero_pad2)  # (batch_size, 30, 30, 1)\n",
        "\n",
        "    return tf.keras.Model(inputs=[inp, tar], outputs=last)\n"
      ]
    },
    {
      "cell_type": "markdown",
      "metadata": {
        "id": "ga47oOoc0YxV"
      },
      "source": [
        "# Loss Functions"
      ]
    },
    {
      "cell_type": "code",
      "execution_count": 8,
      "metadata": {
        "id": "ooE90mpc0YxW"
      },
      "outputs": [],
      "source": [
        "def attention_mse(y_true, y_pred):\n",
        "    _y_true = y_true[y_true != 1.0]\n",
        "    _y_pred = y_pred[y_true != 1.0]\n",
        "    squared_difference = tf.square(_y_true - _y_pred)\n",
        "    return tf.reduce_mean(squared_difference, axis=-1)\n",
        "\n",
        "\n",
        "def attention_mae(y_true, y_pred):\n",
        "    _y_true = y_true[y_true != 1.0]\n",
        "    _y_pred = y_pred[y_true != 1.0]\n",
        "    squared_difference = tf.abs(_y_true - _y_pred)\n",
        "    return tf.reduce_mean(squared_difference, axis=-1)\n",
        "\n",
        "\n",
        "LAMBDA = 100\n",
        "loss_object = tf.keras.losses.BinaryCrossentropy(from_logits=True)\n",
        "\n",
        "\n",
        "def generator_loss(disc_generated_output, gen_output, target):\n",
        "    gan_loss = loss_object(tf.ones_like(\n",
        "        disc_generated_output), disc_generated_output)\n",
        "\n",
        "    # Mean absolute error\n",
        "    l1_loss = tf.reduce_mean(tf.abs(target - gen_output))\n",
        "\n",
        "    total_gen_loss = gan_loss + (LAMBDA * l1_loss)\n",
        "\n",
        "    return total_gen_loss, gan_loss, l1_loss\n",
        "\n",
        "\n",
        "def discriminator_loss(disc_real_output, disc_generated_output):\n",
        "    real_loss = loss_object(tf.ones_like(disc_real_output), disc_real_output)\n",
        "\n",
        "    generated_loss = loss_object(tf.zeros_like(\n",
        "        disc_generated_output), disc_generated_output)\n",
        "\n",
        "    total_disc_loss = real_loss + generated_loss\n",
        "\n",
        "    return total_disc_loss\n",
        "\n",
        "\n",
        "\n"
      ]
    },
    {
      "cell_type": "code",
      "execution_count": null,
      "metadata": {},
      "outputs": [],
      "source": [
        "generator_optimizer = tf.keras.optimizers.Adam(2e-4, beta_1=0.5)\n",
        "discriminator_optimizer = tf.keras.optimizers.Adam(2e-4, beta_1=0.5)\n",
        "\n"
      ]
    },
    {
      "cell_type": "code",
      "execution_count": null,
      "metadata": {},
      "outputs": [],
      "source": [
        "generator = Generator(256, 3)()\n",
        "discriminator = Discriminator()\n",
        "\n",
        "checkpoint_prefix = os.path.join(CHECKPOINT_PATH, \"ckpt\")\n",
        "checkpoint = tf.train.Checkpoint(\n",
        "    generator_optimizer=generator_optimizer,\n",
        "    discriminator_optimizer=discriminator_optimizer,\n",
        "    generator=generator,\n",
        "    discriminator=discriminator\n",
        ")\n"
      ]
    },
    {
      "cell_type": "code",
      "execution_count": null,
      "metadata": {},
      "outputs": [],
      "source": [
        "def generate_images(model, test_input, tar):\n",
        "    prediction = model(test_input, training=True)\n",
        "    plt.figure(figsize=(15, 15))\n",
        "\n",
        "    display_list = [test_input[0], tar[0], prediction[0]]\n",
        "    title = ['Input Image', 'Ground Truth', 'Predicted Image']\n",
        "\n",
        "    for i in range(3):\n",
        "        plt.subplot(1, 3, i+1)\n",
        "        plt.title(title[i])\n",
        "        # Getting the pixel values in the [0, 1] range to plot.\n",
        "        plt.imshow(display_list[i] * 0.5 + 0.5)\n",
        "        plt.axis('off')\n",
        "    plt.show()\n"
      ]
    },
    {
      "cell_type": "code",
      "execution_count": null,
      "metadata": {},
      "outputs": [],
      "source": [
        "log_dir = \"logs/\"\n",
        "\n",
        "summary_writer = tf.summary.create_file_writer(\n",
        "    log_dir + \"fit/\" + datetime.datetime.now().strftime(\"%Y%m%d-%H%M%S\"))\n"
      ]
    },
    {
      "cell_type": "code",
      "execution_count": null,
      "metadata": {},
      "outputs": [],
      "source": [
        "@tf.function\n",
        "def train_step(input_image, target, step):\n",
        "    with tf.GradientTape() as gen_tape, tf.GradientTape() as disc_tape:\n",
        "        gen_output = generator(input_image, training=True)\n",
        "\n",
        "        disc_real_output = discriminator([input_image, target], training=True)\n",
        "        disc_generated_output = discriminator(\n",
        "            [input_image, gen_output], training=True)\n",
        "\n",
        "        gen_total_loss, gen_gan_loss, gen_l1_loss = generator_loss(\n",
        "            disc_generated_output, gen_output, target)\n",
        "        disc_loss = discriminator_loss(disc_real_output, disc_generated_output)\n",
        "\n",
        "    generator_gradients = gen_tape.gradient(gen_total_loss,\n",
        "                                            generator.trainable_variables)\n",
        "    discriminator_gradients = disc_tape.gradient(disc_loss,\n",
        "                                                 discriminator.trainable_variables)\n",
        "\n",
        "    generator_optimizer.apply_gradients(zip(generator_gradients,\n",
        "                                            generator.trainable_variables))\n",
        "    discriminator_optimizer.apply_gradients(zip(discriminator_gradients,\n",
        "                                                discriminator.trainable_variables))\n",
        "\n",
        "    with summary_writer.as_default():\n",
        "        tf.summary.scalar('gen_total_loss', gen_total_loss, step=step//1000)\n",
        "        tf.summary.scalar('gen_gan_loss', gen_gan_loss, step=step//1000)\n",
        "        tf.summary.scalar('gen_l1_loss', gen_l1_loss, step=step//1000)\n",
        "        tf.summary.scalar('disc_loss', disc_loss, step=step//1000)\n"
      ]
    },
    {
      "cell_type": "code",
      "execution_count": null,
      "metadata": {},
      "outputs": [],
      "source": [
        "def fit(train_ds, test_ds, steps):\n",
        "    example_input, example_target = next(iter(test_ds.take(1)))\n",
        "    start = time.time()\n",
        "\n",
        "    for step, (input_image, target) in train_ds.repeat().take(steps).enumerate():\n",
        "        if (step) % 1000 == 0:\n",
        "            display.clear_output(wait=True)\n",
        "\n",
        "            if step != 0:\n",
        "                print(\n",
        "                    f'Time taken for 1000 steps: {time.time()-start:.2f} sec\\n')\n",
        "\n",
        "            start = time.time()\n",
        "\n",
        "            generate_images(generator, example_input, example_target)\n",
        "            print(f\"Step: {step//1000}k\")\n",
        "\n",
        "        train_step(input_image, target, step)\n",
        "\n",
        "        # Training step\n",
        "        if (step+1) % 10 == 0:\n",
        "            print('.', end='', flush=True)\n",
        "\n",
        "        # Save (checkpoint) the model every 5k steps\n",
        "        if (step + 1) % 5000 == 0:\n",
        "            checkpoint.save(file_prefix=checkpoint_prefix)\n"
      ]
    },
    {
      "cell_type": "code",
      "execution_count": null,
      "metadata": {},
      "outputs": [],
      "source": [
        "%load_ext tensorboard\n",
        "%tensorboard - -logdir {log_dir}\n"
      ]
    },
    {
      "cell_type": "markdown",
      "metadata": {
        "id": "wOgmHYSJ0YxW"
      },
      "source": [
        "# Utils"
      ]
    },
    {
      "cell_type": "code",
      "execution_count": 9,
      "metadata": {
        "id": "cSrfyX260YxW"
      },
      "outputs": [],
      "source": [
        "def load_data_from_dir(path: str) -> tf.data.Dataset:\n",
        "    return tf.keras.utils.image_dataset_from_directory(\n",
        "        directory=path,\n",
        "        labels=None,\n",
        "        color_mode='rgb',\n",
        "        batch_size=BATCH_SIZE,\n",
        "        image_size=(IMG_SIZE, IMG_SIZE),\n",
        "        shuffle=True,\n",
        "        seed=42,\n",
        "        # validation_split=VAL_SPLIT,\n",
        "        # subset=subset,\n",
        "        interpolation='bilinear',\n",
        "        follow_links=False,\n",
        "        crop_to_aspect_ratio=False\n",
        "    )\n"
      ]
    },
    {
      "cell_type": "markdown",
      "metadata": {
        "id": "CyS-63WI0YxX"
      },
      "source": [
        "# Dataloaders"
      ]
    },
    {
      "cell_type": "code",
      "execution_count": 10,
      "metadata": {
        "colab": {
          "base_uri": "https://localhost:8080/"
        },
        "id": "71Dxzfkf0YxX",
        "outputId": "24353822-7908-402f-fcd5-a02fce756fa4"
      },
      "outputs": [
        {
          "name": "stdout",
          "output_type": "stream",
          "text": [
            "Found 8208 files belonging to 1 classes.\n",
            "Found 8208 files belonging to 1 classes.\n",
            "Found 312 files belonging to 1 classes.\n",
            "Found 312 files belonging to 1 classes.\n",
            "(TensorSpec(shape=(None, 256, 256, 3), dtype=tf.float32, name=None), TensorSpec(shape=(None, 256, 256, 3), dtype=tf.float32, name=None))\n",
            "(TensorSpec(shape=(None, 256, 256, 3), dtype=tf.float32, name=None), TensorSpec(shape=(None, 256, 256, 3), dtype=tf.float32, name=None))\n"
          ]
        }
      ],
      "source": [
        "trainX = load_data_from_dir(os.path.join(DATASET_PATH, TRAIN_DIR, INPUT_DIR))\n",
        "trainY = load_data_from_dir(os.path.join(DATASET_PATH, TRAIN_DIR, TARGET_DIR))\n",
        "testX = load_data_from_dir(os.path.join(DATASET_PATH, TEST_DIR, INPUT_DIR))\n",
        "testY = load_data_from_dir(os.path.join(DATASET_PATH, TEST_DIR, TARGET_DIR))\n",
        "\n",
        "train_ds = tf.data.Dataset.zip((trainX, trainY))\n",
        "test_ds = tf.data.Dataset.zip((testX, testY))\n",
        "\n",
        "print(train_ds.element_spec)\n",
        "print(test_ds.element_spec)\n"
      ]
    },
    {
      "cell_type": "markdown",
      "metadata": {
        "id": "01HaegmR278r"
      },
      "source": [
        "# Normalization"
      ]
    },
    {
      "cell_type": "code",
      "execution_count": 11,
      "metadata": {
        "id": "E1oi3-RTqZV1"
      },
      "outputs": [],
      "source": [
        "# def normalize(input_image, output_image):\n",
        "#     input_image = tf.cast(input_image, tf.float32) / 255.0\n",
        "#     output_image = tf.cast(input_image, tf.float32) / 255.0\n",
        "#     return input_image, output_image\n"
      ]
    },
    {
      "cell_type": "code",
      "execution_count": 12,
      "metadata": {
        "id": "mDeZuH0p26pE"
      },
      "outputs": [],
      "source": [
        "normalization_layer = tf.keras.layers.Rescaling(1./255)\n",
        "train_ds = train_ds.map(lambda x, y: (\n",
        "    normalization_layer(x), normalization_layer(y)))\n",
        "test_ds = test_ds.map(lambda x, y: (\n",
        "    normalization_layer(x), normalization_layer(y)))\n"
      ]
    },
    {
      "cell_type": "code",
      "execution_count": null,
      "metadata": {},
      "outputs": [],
      "source": [
        "fit(train_ds, test_ds, steps=40000)\n"
      ]
    },
    {
      "cell_type": "code",
      "execution_count": 21,
      "metadata": {
        "id": "Clx7EdsW2yFf"
      },
      "outputs": [],
      "source": [
        "for inp, tar in test_ds.take(5):\n",
        "    generate_images(generator, inp, tar)\n"
      ]
    }
  ],
  "metadata": {
    "accelerator": "GPU",
    "colab": {
      "include_colab_link": true,
      "machine_shape": "hm",
      "provenance": [],
      "toc_visible": true
    },
    "gpuClass": "standard",
    "kernelspec": {
      "display_name": "Python 3.10.6 ('Ai')",
      "language": "python",
      "name": "python3"
    },
    "language_info": {
      "codemirror_mode": {
        "name": "ipython",
        "version": 3
      },
      "file_extension": ".py",
      "mimetype": "text/x-python",
      "name": "python",
      "nbconvert_exporter": "python",
      "pygments_lexer": "ipython3",
      "version": "3.10.9"
    },
    "orig_nbformat": 4,
    "vscode": {
      "interpreter": {
        "hash": "cc12dd51c08fff59e312c49b5273cbf2a12939660509ea1a4d83cd89b0463726"
      }
    }
  },
  "nbformat": 4,
  "nbformat_minor": 0
}
