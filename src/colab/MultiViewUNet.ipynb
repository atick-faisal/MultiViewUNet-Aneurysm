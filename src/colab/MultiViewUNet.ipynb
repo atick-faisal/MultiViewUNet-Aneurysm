{
  "cells": [
    {
      "cell_type": "markdown",
      "metadata": {
        "id": "view-in-github",
        "colab_type": "text"
      },
      "source": [
        "<a href=\"https://colab.research.google.com/github/atick-faisal/TAVI/blob/main/src/colab/MultiViewUNet.ipynb\" target=\"_parent\"><img src=\"https://colab.research.google.com/assets/colab-badge.svg\" alt=\"Open In Colab\"/></a>"
      ]
    },
    {
      "cell_type": "markdown",
      "source": [
        "# Colab Info"
      ],
      "metadata": {
        "id": "UVG0Xo17Xzdk"
      }
    },
    {
      "cell_type": "code",
      "source": [
        "from psutil import virtual_memory\n",
        "\n",
        "gpu_info = !nvidia-smi\n",
        "gpu_info = '\\n'.join(gpu_info)\n",
        "if gpu_info.find('failed') >= 0:\n",
        "  print('Not connected to a GPU')\n",
        "else:\n",
        "  print(gpu_info)\n",
        "\n",
        "\n",
        "ram_gb = virtual_memory().total / 1e9\n",
        "print('Your runtime has {:.1f} gigabytes of available RAM\\n'.format(ram_gb))\n",
        "\n",
        "if ram_gb < 20:\n",
        "  print('Not using a high-RAM runtime')\n",
        "else:\n",
        "  print('You are using a high-RAM runtime!')"
      ],
      "metadata": {
        "id": "ZwwbESaiX2xi",
        "outputId": "058765f0-acc2-4f23-f812-24b8fdd5019e",
        "colab": {
          "base_uri": "https://localhost:8080/"
        }
      },
      "execution_count": 1,
      "outputs": [
        {
          "output_type": "stream",
          "name": "stdout",
          "text": [
            "Fri Dec  9 10:34:17 2022       \n",
            "+-----------------------------------------------------------------------------+\n",
            "| NVIDIA-SMI 460.32.03    Driver Version: 460.32.03    CUDA Version: 11.2     |\n",
            "|-------------------------------+----------------------+----------------------+\n",
            "| GPU  Name        Persistence-M| Bus-Id        Disp.A | Volatile Uncorr. ECC |\n",
            "| Fan  Temp  Perf  Pwr:Usage/Cap|         Memory-Usage | GPU-Util  Compute M. |\n",
            "|                               |                      |               MIG M. |\n",
            "|===============================+======================+======================|\n",
            "|   0  Tesla T4            Off  | 00000000:00:04.0 Off |                    0 |\n",
            "| N/A   47C    P0    25W /  70W |      0MiB / 15109MiB |      0%      Default |\n",
            "|                               |                      |                  N/A |\n",
            "+-------------------------------+----------------------+----------------------+\n",
            "                                                                               \n",
            "+-----------------------------------------------------------------------------+\n",
            "| Processes:                                                                  |\n",
            "|  GPU   GI   CI        PID   Type   Process name                  GPU Memory |\n",
            "|        ID   ID                                                   Usage      |\n",
            "|=============================================================================|\n",
            "|  No running processes found                                                 |\n",
            "+-----------------------------------------------------------------------------+\n",
            "Your runtime has 27.3 gigabytes of available RAM\n",
            "\n",
            "You are using a high-RAM runtime!\n"
          ]
        }
      ]
    },
    {
      "cell_type": "markdown",
      "source": [
        "# Google Drive"
      ],
      "metadata": {
        "id": "0estJx3IDzz4"
      }
    },
    {
      "cell_type": "code",
      "source": [
        "from google.colab import drive\n",
        "drive.mount('/content/drive')"
      ],
      "metadata": {
        "id": "WsH9ydF7Dwpf",
        "outputId": "aad5de66-3043-43af-8c12-9067ec4e1ed0",
        "colab": {
          "base_uri": "https://localhost:8080/"
        }
      },
      "execution_count": 2,
      "outputs": [
        {
          "output_type": "stream",
          "name": "stdout",
          "text": [
            "Mounted at /content/drive\n"
          ]
        }
      ]
    },
    {
      "cell_type": "markdown",
      "metadata": {
        "id": "MMf8mzRT0YxP"
      },
      "source": [
        "# Download Dataset"
      ]
    },
    {
      "cell_type": "code",
      "source": [
        "!pip install -U --no-cache-dir gdown --pre\n",
        "!pip install image-similarity-measures > /dev/null"
      ],
      "metadata": {
        "id": "UCAzYqWZgbFk",
        "outputId": "f5ad0f26-c015-4663-b0d9-64f00e2218cd",
        "colab": {
          "base_uri": "https://localhost:8080/"
        }
      },
      "execution_count": 3,
      "outputs": [
        {
          "output_type": "stream",
          "name": "stdout",
          "text": [
            "Looking in indexes: https://pypi.org/simple, https://us-python.pkg.dev/colab-wheels/public/simple/\n",
            "Requirement already satisfied: gdown in /usr/local/lib/python3.8/dist-packages (4.4.0)\n",
            "Collecting gdown\n",
            "  Downloading gdown-4.6.0-py3-none-any.whl (14 kB)\n",
            "Requirement already satisfied: beautifulsoup4 in /usr/local/lib/python3.8/dist-packages (from gdown) (4.6.3)\n",
            "Requirement already satisfied: six in /usr/local/lib/python3.8/dist-packages (from gdown) (1.15.0)\n",
            "Requirement already satisfied: tqdm in /usr/local/lib/python3.8/dist-packages (from gdown) (4.64.1)\n",
            "Requirement already satisfied: requests[socks] in /usr/local/lib/python3.8/dist-packages (from gdown) (2.23.0)\n",
            "Requirement already satisfied: filelock in /usr/local/lib/python3.8/dist-packages (from gdown) (3.8.0)\n",
            "Requirement already satisfied: chardet<4,>=3.0.2 in /usr/local/lib/python3.8/dist-packages (from requests[socks]->gdown) (3.0.4)\n",
            "Requirement already satisfied: idna<3,>=2.5 in /usr/local/lib/python3.8/dist-packages (from requests[socks]->gdown) (2.10)\n",
            "Requirement already satisfied: urllib3!=1.25.0,!=1.25.1,<1.26,>=1.21.1 in /usr/local/lib/python3.8/dist-packages (from requests[socks]->gdown) (1.24.3)\n",
            "Requirement already satisfied: certifi>=2017.4.17 in /usr/local/lib/python3.8/dist-packages (from requests[socks]->gdown) (2022.9.24)\n",
            "Requirement already satisfied: PySocks!=1.5.7,>=1.5.6 in /usr/local/lib/python3.8/dist-packages (from requests[socks]->gdown) (1.7.1)\n",
            "Installing collected packages: gdown\n",
            "  Attempting uninstall: gdown\n",
            "    Found existing installation: gdown 4.4.0\n",
            "    Uninstalling gdown-4.4.0:\n",
            "      Successfully uninstalled gdown-4.4.0\n",
            "Successfully installed gdown-4.6.0\n"
          ]
        }
      ]
    },
    {
      "cell_type": "code",
      "execution_count": 4,
      "metadata": {
        "id": "Zm_HJEfM0YxS",
        "outputId": "6168542f-c3f3-49c0-c131-a7f4d96899ae",
        "colab": {
          "base_uri": "https://localhost:8080/"
        }
      },
      "outputs": [
        {
          "output_type": "stream",
          "name": "stdout",
          "text": [
            "Downloading...\n",
            "From: https://drive.google.com/uc?id=12CxxS2w7mprCnVX9Y_Kiti6vEPbTQW2l\n",
            "To: /content/UNet_2DCNN.py\n",
            "100% 58.6k/58.6k [00:00<00:00, 71.2MB/s]\n",
            "Downloading...\n",
            "From: https://drive.google.com/uc?id=1RjmcB2OV5g112ICxQ_VDRkn2zshQeY3C\n",
            "To: /content/CurvToTAWSSCFDCMAPRealTest.zip\n",
            "100% 833M/833M [00:22<00:00, 37.7MB/s]\n"
          ]
        }
      ],
      "source": [
        "!gdown \"12CxxS2w7mprCnVX9Y_Kiti6vEPbTQW2l\"\n",
        "!gdown \"1RjmcB2OV5g112ICxQ_VDRkn2zshQeY3C\"\n",
        "!unzip -o \"CurvToTAWSSCFDCMAPRealTest.zip\" > /dev/null\n"
      ]
    },
    {
      "cell_type": "markdown",
      "metadata": {
        "id": "Vemh_spU0YxT"
      },
      "source": [
        "# Imports"
      ]
    },
    {
      "cell_type": "code",
      "execution_count": 5,
      "metadata": {
        "id": "w0KYlE-90YxT"
      },
      "outputs": [],
      "source": [
        "import os\n",
        "import cv2\n",
        "import random\n",
        "import datetime\n",
        "import matplotlib\n",
        "import numpy as np\n",
        "import pandas as pd\n",
        "import tensorflow as tf\n",
        "import matplotlib.pyplot as plt\n",
        "\n",
        "from tqdm import tqdm\n",
        "from numpy.typing import NDArray\n",
        "from UNet_2DCNN import UNet as UNetSakib\n",
        "# from image_similarity_measures.quality_metrics import *\n",
        "\n",
        "matplotlib.use('Agg')\n",
        "plt.rcParams[\"font.size\"] = 16\n"
      ]
    },
    {
      "cell_type": "markdown",
      "metadata": {
        "id": "vE8WOTRj0YxT"
      },
      "source": [
        "# Config"
      ]
    },
    {
      "cell_type": "code",
      "execution_count": 6,
      "metadata": {
        "id": "O5Vvm79c0YxT"
      },
      "outputs": [],
      "source": [
        "DATASET         = \"CurvToTAWSSJetLog\"\n",
        "MODEL_NAME      = \"MultiviewUNet_4_32\"\n",
        "DATASET_PATH    = \"/content/Images/\"\n",
        "TRAIN_DIR       = \"Train/\"\n",
        "TEST_DIR        = \"Test/\"\n",
        "INPUT_DIR       = \"Input/\"\n",
        "TARGET_DIR      = \"Target/\"\n",
        "MODEL_PATH      = \"/content/drive/MyDrive/Research/TAVI/Models/\"\n",
        "PRED_PATH       = \"/content/drive/MyDrive/Research/TAVI/Predictions/\"\n",
        "\n",
        "IMG_SIZE        = 256\n",
        "BATCH_SIZE      = 16\n",
        "BUFFER_SIZE     = 1000\n",
        "VAL_SPLIT       = 0.2\n",
        "LEARNING_RATE   = 0.001\n",
        "N_EPOCHS        = 300\n",
        "PATIENCE        = 30\n",
        "\n",
        "EXP_NAME        = f\"{MODEL_NAME}_I{IMG_SIZE}_B{BATCH_SIZE}_LR{LEARNING_RATE}_{DATASET}\"\n"
      ]
    },
    {
      "cell_type": "markdown",
      "metadata": {
        "id": "YmMjbvFH0YxU"
      },
      "source": [
        "# Architecture"
      ]
    },
    {
      "cell_type": "code",
      "execution_count": 7,
      "metadata": {
        "id": "xecJpVUs0YxU"
      },
      "outputs": [],
      "source": [
        "class UNet:\n",
        "    def __init__(\n",
        "        self,\n",
        "        img_size: int,\n",
        "        n_channels: int = 3,\n",
        "        width: int = 32,\n",
        "        depth: int = 4,\n",
        "        kernel_size: int = 3\n",
        "    ):\n",
        "        self.img_size = img_size\n",
        "        self.n_channels = n_channels\n",
        "        self.width = width\n",
        "        self.depth = depth\n",
        "        self.kernel_size = kernel_size\n",
        "\n",
        "    @staticmethod\n",
        "    def conv(\n",
        "        x: tf.Tensor,\n",
        "        filters: int,\n",
        "        kernel_size: int\n",
        "    ) -> tf.Tensor:\n",
        "        for i in range(2):\n",
        "            x = tf.keras.layers.Conv2D(\n",
        "                filters=filters,\n",
        "                kernel_size=kernel_size,\n",
        "                strides=1,\n",
        "                padding=\"same\",\n",
        "                data_format=\"channels_last\",\n",
        "                dilation_rate=1,\n",
        "                groups=1,\n",
        "                activation=None,\n",
        "                use_bias=True,\n",
        "                kernel_initializer=\"glorot_uniform\",\n",
        "                bias_initializer=\"zeros\"\n",
        "            )(x)\n",
        "\n",
        "            x = tf.keras.layers.BatchNormalization()(x)\n",
        "            x = tf.keras.layers.Activation(\"relu\")(x)\n",
        "\n",
        "        return x\n",
        "\n",
        "    @staticmethod\n",
        "    def deconv(x: tf.Tensor, filters: int) -> tf.Tensor:\n",
        "        x = tf.keras.layers.Conv2DTranspose(\n",
        "            filters=filters,\n",
        "            kernel_size=2,\n",
        "            strides=2,\n",
        "            padding=\"same\",\n",
        "            output_padding=None,\n",
        "            data_format=None,\n",
        "            dilation_rate=1,\n",
        "            activation=None,\n",
        "            use_bias=True,\n",
        "            kernel_initializer=\"glorot_uniform\",\n",
        "            bias_initializer=\"zeros\"\n",
        "        )(x)\n",
        "\n",
        "        x = tf.keras.layers.BatchNormalization()(x)\n",
        "        x = tf.keras.layers.Activation(\"relu\")(x)\n",
        "\n",
        "        return x\n",
        "\n",
        "    @staticmethod\n",
        "    def output(x: tf.Tensor) -> tf.Tensor:\n",
        "        return tf.keras.layers.Conv2D(3, (1, 1), activation=\"sigmoid\")(x)\n",
        "\n",
        "    @staticmethod\n",
        "    def pool(x: tf.Tensor, pool_size: int = 2) -> tf.Tensor:\n",
        "        return tf.keras.layers.MaxPool2D(pool_size)(x)\n",
        "\n",
        "    def __call__(self) -> tf.keras.Model:\n",
        "        inputs = tf.keras.layers.Input(\n",
        "            shape=(self.img_size, self.img_size, self.n_channels)\n",
        "        )\n",
        "\n",
        "        # scaled = tf.keras.layers.Rescaling(1./255.0, offset=0)(inputs)\n",
        "\n",
        "        # ------------------ Downsampling ---------------------\n",
        "        downsample_layers = []\n",
        "        downsample_layers.append(\n",
        "            self.conv(\n",
        "                x=inputs,\n",
        "                filters=self.width,\n",
        "                kernel_size=self.kernel_size\n",
        "            )\n",
        "        )\n",
        "        for i in range(1, self.depth):\n",
        "            filters = int((2 ** i) * self.width)\n",
        "            downsample_layers.append(\n",
        "                self.pool(\n",
        "                    self.conv(\n",
        "                        x=downsample_layers[i - 1],\n",
        "                        filters=filters,\n",
        "                        kernel_size=self.kernel_size\n",
        "                    )\n",
        "                )\n",
        "            )\n",
        "\n",
        "        # ------------------- Features --------------------\n",
        "        n_features = int((2 ** self.depth) * self.width)\n",
        "        self.features = self.pool(\n",
        "            self.conv(\n",
        "                x=downsample_layers[-1],\n",
        "                filters=n_features,\n",
        "                kernel_size=self.kernel_size\n",
        "            )\n",
        "        )\n",
        "\n",
        "        # ------------------- Upsampling --------------------\n",
        "        upsample_layers = []\n",
        "        upsample_layers.append(self.features)\n",
        "        for i in range(1, self.depth + 1):\n",
        "            filters = int((2 ** (self.depth - i)) * self.width)\n",
        "            upsample_layers.append(\n",
        "                self.conv(\n",
        "                    x=tf.keras.layers.concatenate([\n",
        "                        downsample_layers[self.depth - i],\n",
        "                        self.deconv(\n",
        "                            x=upsample_layers[i - 1],\n",
        "                            filters=filters\n",
        "                        )\n",
        "                    ]),\n",
        "                    filters=filters,\n",
        "                    kernel_size=self.kernel_size\n",
        "                )\n",
        "            )\n",
        "\n",
        "        # ---------------------- Output -----------------------\n",
        "        outputs = self.output(upsample_layers[-1])\n",
        "\n",
        "        return tf.keras.Model(inputs, outputs)\n"
      ]
    },
    {
      "cell_type": "markdown",
      "metadata": {
        "id": "ga47oOoc0YxV"
      },
      "source": [
        "# Loss Functions"
      ]
    },
    {
      "cell_type": "code",
      "execution_count": 8,
      "metadata": {
        "id": "ooE90mpc0YxW"
      },
      "outputs": [],
      "source": [
        "def attention_mse(y_true, y_pred):\n",
        "    _y_true = y_true[y_true != 1.0]\n",
        "    _y_pred = y_pred[y_true != 1.0]\n",
        "    squared_difference = tf.square(_y_true - _y_pred)\n",
        "    return tf.reduce_mean(squared_difference, axis=-1)\n",
        "\n",
        "\n",
        "def attention_mae(y_true, y_pred):\n",
        "    _y_true = y_true[y_true != 1.0]\n",
        "    _y_pred = y_pred[y_true != 1.0]\n",
        "    squared_difference = tf.abs(_y_true - _y_pred)\n",
        "    return tf.reduce_mean(squared_difference, axis=-1)\n"
      ]
    },
    {
      "cell_type": "markdown",
      "metadata": {
        "id": "wOgmHYSJ0YxW"
      },
      "source": [
        "# Utils"
      ]
    },
    {
      "cell_type": "code",
      "execution_count": 9,
      "metadata": {
        "id": "cSrfyX260YxW"
      },
      "outputs": [],
      "source": [
        "def load_data_from_dir(path: str) -> tf.data.Dataset:\n",
        "    return tf.keras.utils.image_dataset_from_directory(\n",
        "        directory=path,\n",
        "        labels=None,\n",
        "        color_mode='rgb',\n",
        "        batch_size=BATCH_SIZE,\n",
        "        image_size=(IMG_SIZE, IMG_SIZE),\n",
        "        shuffle=True,\n",
        "        seed=42,\n",
        "        # validation_split=VAL_SPLIT,\n",
        "        # subset=subset,\n",
        "        interpolation='bilinear',\n",
        "        follow_links=False,\n",
        "        crop_to_aspect_ratio=False\n",
        "    )\n"
      ]
    },
    {
      "cell_type": "markdown",
      "metadata": {
        "id": "CyS-63WI0YxX"
      },
      "source": [
        "# Dataloaders"
      ]
    },
    {
      "cell_type": "code",
      "execution_count": 10,
      "metadata": {
        "id": "71Dxzfkf0YxX",
        "outputId": "c3c616c5-2f66-48b9-f874-ed287f9a3d68",
        "colab": {
          "base_uri": "https://localhost:8080/"
        }
      },
      "outputs": [
        {
          "output_type": "stream",
          "name": "stdout",
          "text": [
            "Found 8280 files belonging to 1 classes.\n",
            "Found 8280 files belonging to 1 classes.\n",
            "Found 288 files belonging to 1 classes.\n",
            "Found 288 files belonging to 1 classes.\n",
            "(TensorSpec(shape=(None, 256, 256, 3), dtype=tf.float32, name=None), TensorSpec(shape=(None, 256, 256, 3), dtype=tf.float32, name=None))\n",
            "(TensorSpec(shape=(None, 256, 256, 3), dtype=tf.float32, name=None), TensorSpec(shape=(None, 256, 256, 3), dtype=tf.float32, name=None))\n"
          ]
        }
      ],
      "source": [
        "trainX = load_data_from_dir(os.path.join(DATASET_PATH, TRAIN_DIR, INPUT_DIR))\n",
        "trainY = load_data_from_dir(os.path.join(DATASET_PATH, TRAIN_DIR, TARGET_DIR))\n",
        "testX = load_data_from_dir(os.path.join(DATASET_PATH, TEST_DIR, INPUT_DIR))\n",
        "testY = load_data_from_dir(os.path.join(DATASET_PATH, TEST_DIR, TARGET_DIR))\n",
        "\n",
        "train_ds = tf.data.Dataset.zip((trainX, trainY))\n",
        "test_ds = tf.data.Dataset.zip((testX, testY))\n",
        "\n",
        "print(train_ds.element_spec)\n",
        "print(test_ds.element_spec)\n"
      ]
    },
    {
      "cell_type": "markdown",
      "source": [
        "# Normalization"
      ],
      "metadata": {
        "id": "01HaegmR278r"
      }
    },
    {
      "cell_type": "code",
      "source": [
        "# def normalize(input_image, output_image):\n",
        "#     input_image = tf.cast(input_image, tf.float32) / 255.0\n",
        "#     output_image = tf.cast(input_image, tf.float32) / 255.0\n",
        "#     return input_image, output_image"
      ],
      "metadata": {
        "id": "E1oi3-RTqZV1"
      },
      "execution_count": 11,
      "outputs": []
    },
    {
      "cell_type": "code",
      "source": [
        "normalization_layer = tf.keras.layers.Rescaling(1./255)\n",
        "train_ds = train_ds.map(lambda x, y: (normalization_layer(x), normalization_layer(y)))\n",
        "test_ds = test_ds.map(lambda x, y: (normalization_layer(x), normalization_layer(y)))"
      ],
      "metadata": {
        "id": "mDeZuH0p26pE"
      },
      "execution_count": 12,
      "outputs": []
    },
    {
      "cell_type": "markdown",
      "source": [
        "# Augmentation"
      ],
      "metadata": {
        "id": "tySOuC8Hqvdm"
      }
    },
    {
      "cell_type": "code",
      "source": [
        "class Augment(tf.keras.layers.Layer):\n",
        "    def __init__(self, seed=42):\n",
        "        super().__init__()\n",
        "        # both use the same seed, so they'll make the same random changes.\n",
        "        self.augment_inputs = tf.keras.layers.RandomZoom((-0.1, -0.7), seed=seed)\n",
        "        self.augment_labels = tf.keras.layers.RandomZoom((-0.1, -0.7), seed=seed)\n",
        "\n",
        "    def call(self, inputs, labels):\n",
        "        inputs = self.augment_inputs(inputs)\n",
        "        labels = self.augment_labels(labels)\n",
        "        return inputs, labels"
      ],
      "metadata": {
        "id": "OHQFZ9kKqu6f"
      },
      "execution_count": 13,
      "outputs": []
    },
    {
      "cell_type": "markdown",
      "metadata": {
        "id": "eHlKefA_0YxX"
      },
      "source": [
        "# Optimization"
      ]
    },
    {
      "cell_type": "code",
      "execution_count": 14,
      "metadata": {
        "id": "U-HMkfOG0YxX"
      },
      "outputs": [],
      "source": [
        "AUTOTUNE = tf.data.AUTOTUNE\n",
        "\n",
        "train_batches = (\n",
        "    train_ds\n",
        "    .cache()\n",
        "    # .shuffle(BUFFER_SIZE)\n",
        "    # .batch(BATCH_SIZE)\n",
        "    # .repeat()\n",
        "    .map(Augment())\n",
        "    .prefetch(buffer_size=AUTOTUNE)\n",
        ")\n",
        "\n",
        "test_batches = (test_ds)\n"
      ]
    },
    {
      "cell_type": "markdown",
      "metadata": {
        "id": "w50akeqN0YxX"
      },
      "source": [
        "# Training Config"
      ]
    },
    {
      "cell_type": "code",
      "execution_count": 15,
      "metadata": {
        "id": "2YvF85Wg0YxY"
      },
      "outputs": [],
      "source": [
        "callbacks = [\n",
        "    tf.keras.callbacks.EarlyStopping(\n",
        "        monitor=\"val_loss\",\n",
        "        patience=PATIENCE,\n",
        "        restore_best_weights=True\n",
        "    )\n",
        "]\n",
        "\n",
        "optimizer = tf.keras.optimizers.Adam(\n",
        "    learning_rate=LEARNING_RATE\n",
        ")\n",
        "\n",
        "# model = UNet(IMG_SIZE)()\n",
        "# model = MobileUNet(IMG_SIZE)()\n",
        "model = UNetSakib(\n",
        "    length=IMG_SIZE, \n",
        "    width=IMG_SIZE, \n",
        "    model_depth=4, \n",
        "    num_channel=3, \n",
        "    model_width=32, \n",
        "    kernel_size=3, \n",
        "    problem_type='Regression',\n",
        "    output_nums=3, \n",
        "    ds=0, \n",
        "    ae=0, \n",
        "    ag=0, \n",
        "    lstm=0, \n",
        "    alpha=1, \n",
        "    feature_number=1024, \n",
        "    is_transconv=True\n",
        ").FSC_Net()\n",
        "\n",
        "model.compile(\n",
        "    loss=attention_mse,\n",
        "    optimizer=optimizer,\n",
        "    metrics=[attention_mae]\n",
        ")\n"
      ]
    },
    {
      "cell_type": "markdown",
      "metadata": {
        "id": "XrJPilPI0YxY"
      },
      "source": [
        "# Training"
      ]
    },
    {
      "cell_type": "code",
      "execution_count": null,
      "metadata": {
        "id": "y_b-8pkT0YxY",
        "outputId": "497b347a-b8c5-4aaa-8199-382ab189e552",
        "colab": {
          "base_uri": "https://localhost:8080/"
        }
      },
      "outputs": [
        {
          "output_type": "stream",
          "name": "stdout",
          "text": [
            "Epoch 1/300\n",
            "518/518 [==============================] - 421s 763ms/step - loss: 0.0136 - attention_mae: 0.0641 - val_loss: 0.0176 - val_attention_mae: 0.0807\n",
            "Epoch 2/300\n",
            "518/518 [==============================] - 386s 745ms/step - loss: 0.0109 - attention_mae: 0.0552 - val_loss: 0.0183 - val_attention_mae: 0.0801\n",
            "Epoch 3/300\n",
            "518/518 [==============================] - 386s 745ms/step - loss: 0.0103 - attention_mae: 0.0531 - val_loss: 0.0168 - val_attention_mae: 0.0717\n",
            "Epoch 4/300\n",
            "518/518 [==============================] - 386s 745ms/step - loss: 0.0098 - attention_mae: 0.0513 - val_loss: 0.0216 - val_attention_mae: 0.0913\n",
            "Epoch 5/300\n",
            "518/518 [==============================] - 386s 746ms/step - loss: 0.0096 - attention_mae: 0.0503 - val_loss: 0.0210 - val_attention_mae: 0.0767\n",
            "Epoch 6/300\n",
            "518/518 [==============================] - 386s 745ms/step - loss: 0.0092 - attention_mae: 0.0489 - val_loss: 0.0231 - val_attention_mae: 0.0798\n",
            "Epoch 7/300\n",
            "518/518 [==============================] - 386s 745ms/step - loss: 0.0090 - attention_mae: 0.0479 - val_loss: 0.0123 - val_attention_mae: 0.0579\n",
            "Epoch 8/300\n",
            "518/518 [==============================] - 386s 746ms/step - loss: 0.0087 - attention_mae: 0.0468 - val_loss: 0.0115 - val_attention_mae: 0.0579\n",
            "Epoch 9/300\n",
            "518/518 [==============================] - 386s 746ms/step - loss: 0.0084 - attention_mae: 0.0457 - val_loss: 0.0142 - val_attention_mae: 0.0592\n",
            "Epoch 10/300\n",
            "518/518 [==============================] - 386s 745ms/step - loss: 0.0082 - attention_mae: 0.0448 - val_loss: 0.0153 - val_attention_mae: 0.0701\n",
            "Epoch 11/300\n",
            "518/518 [==============================] - 387s 746ms/step - loss: 0.0081 - attention_mae: 0.0442 - val_loss: 0.0110 - val_attention_mae: 0.0555\n",
            "Epoch 12/300\n",
            "518/518 [==============================] - 386s 746ms/step - loss: 0.0078 - attention_mae: 0.0431 - val_loss: 0.0104 - val_attention_mae: 0.0552\n",
            "Epoch 13/300\n",
            "518/518 [==============================] - 386s 746ms/step - loss: 0.0076 - attention_mae: 0.0424 - val_loss: 0.0140 - val_attention_mae: 0.0625\n",
            "Epoch 14/300\n",
            "518/518 [==============================] - 386s 746ms/step - loss: 0.0074 - attention_mae: 0.0413 - val_loss: 0.0118 - val_attention_mae: 0.0568\n",
            "Epoch 15/300\n",
            "518/518 [==============================] - 386s 746ms/step - loss: 0.0072 - attention_mae: 0.0408 - val_loss: 0.0142 - val_attention_mae: 0.0624\n",
            "Epoch 16/300\n",
            "518/518 [==============================] - 386s 746ms/step - loss: 0.0070 - attention_mae: 0.0398 - val_loss: 0.0142 - val_attention_mae: 0.0594\n",
            "Epoch 17/300\n",
            "518/518 [==============================] - 386s 746ms/step - loss: 0.0069 - attention_mae: 0.0391 - val_loss: 0.0104 - val_attention_mae: 0.0523\n",
            "Epoch 18/300\n",
            "518/518 [==============================] - 386s 746ms/step - loss: 0.0066 - attention_mae: 0.0381 - val_loss: 0.0135 - val_attention_mae: 0.0581\n",
            "Epoch 19/300\n",
            "518/518 [==============================] - 386s 746ms/step - loss: 0.0064 - attention_mae: 0.0373 - val_loss: 0.0137 - val_attention_mae: 0.0661\n",
            "Epoch 20/300\n",
            "518/518 [==============================] - 386s 746ms/step - loss: 0.0063 - attention_mae: 0.0366 - val_loss: 0.0120 - val_attention_mae: 0.0568\n",
            "Epoch 21/300\n",
            "518/518 [==============================] - 386s 746ms/step - loss: 0.0061 - attention_mae: 0.0358 - val_loss: 0.0117 - val_attention_mae: 0.0572\n",
            "Epoch 22/300\n",
            "518/518 [==============================] - 386s 746ms/step - loss: 0.0060 - attention_mae: 0.0351 - val_loss: 0.0168 - val_attention_mae: 0.0642\n",
            "Epoch 23/300\n",
            "518/518 [==============================] - 386s 746ms/step - loss: 0.0058 - attention_mae: 0.0345 - val_loss: 0.0143 - val_attention_mae: 0.0570\n",
            "Epoch 24/300\n",
            "518/518 [==============================] - 386s 746ms/step - loss: 0.0057 - attention_mae: 0.0338 - val_loss: 0.0113 - val_attention_mae: 0.0513\n",
            "Epoch 25/300\n",
            "518/518 [==============================] - 386s 746ms/step - loss: 0.0055 - attention_mae: 0.0330 - val_loss: 0.0170 - val_attention_mae: 0.0635\n",
            "Epoch 26/300\n",
            "518/518 [==============================] - 386s 746ms/step - loss: 0.0055 - attention_mae: 0.0330 - val_loss: 0.0148 - val_attention_mae: 0.0569\n",
            "Epoch 27/300\n",
            "518/518 [==============================] - 386s 746ms/step - loss: 0.0053 - attention_mae: 0.0323 - val_loss: 0.0101 - val_attention_mae: 0.0482\n",
            "Epoch 28/300\n",
            "518/518 [==============================] - 387s 746ms/step - loss: 0.0052 - attention_mae: 0.0318 - val_loss: 0.0128 - val_attention_mae: 0.0547\n",
            "Epoch 29/300\n",
            "518/518 [==============================] - 386s 746ms/step - loss: 0.0050 - attention_mae: 0.0308 - val_loss: 0.0117 - val_attention_mae: 0.0509\n",
            "Epoch 30/300\n",
            "518/518 [==============================] - 387s 746ms/step - loss: 0.0050 - attention_mae: 0.0308 - val_loss: 0.0105 - val_attention_mae: 0.0515\n",
            "Epoch 31/300\n",
            "518/518 [==============================] - 386s 746ms/step - loss: 0.0049 - attention_mae: 0.0302 - val_loss: 0.0115 - val_attention_mae: 0.0551\n",
            "Epoch 32/300\n",
            "518/518 [==============================] - 387s 746ms/step - loss: 0.0048 - attention_mae: 0.0298 - val_loss: 0.0114 - val_attention_mae: 0.0504\n",
            "Epoch 33/300\n",
            "518/518 [==============================] - 386s 746ms/step - loss: 0.0046 - attention_mae: 0.0291 - val_loss: 0.0106 - val_attention_mae: 0.0494\n",
            "Epoch 34/300\n",
            "518/518 [==============================] - 386s 746ms/step - loss: 0.0046 - attention_mae: 0.0291 - val_loss: 0.0132 - val_attention_mae: 0.0561\n",
            "Epoch 35/300\n",
            "518/518 [==============================] - 386s 746ms/step - loss: 0.0046 - attention_mae: 0.0287 - val_loss: 0.0114 - val_attention_mae: 0.0492\n",
            "Epoch 36/300\n",
            "518/518 [==============================] - 386s 746ms/step - loss: 0.0044 - attention_mae: 0.0280 - val_loss: 0.0104 - val_attention_mae: 0.0507\n",
            "Epoch 37/300\n",
            "518/518 [==============================] - 386s 746ms/step - loss: 0.0043 - attention_mae: 0.0274 - val_loss: 0.0131 - val_attention_mae: 0.0526\n",
            "Epoch 38/300\n",
            "518/518 [==============================] - 386s 746ms/step - loss: 0.0043 - attention_mae: 0.0274 - val_loss: 0.0109 - val_attention_mae: 0.0483\n",
            "Epoch 39/300\n",
            "518/518 [==============================] - 386s 746ms/step - loss: 0.0042 - attention_mae: 0.0267 - val_loss: 0.0104 - val_attention_mae: 0.0466\n",
            "Epoch 40/300\n",
            "518/518 [==============================] - 386s 746ms/step - loss: 0.0041 - attention_mae: 0.0266 - val_loss: 0.0111 - val_attention_mae: 0.0505\n",
            "Epoch 41/300\n",
            "518/518 [==============================] - 387s 746ms/step - loss: 0.0039 - attention_mae: 0.0258 - val_loss: 0.0128 - val_attention_mae: 0.0528\n",
            "Epoch 42/300\n",
            "518/518 [==============================] - 386s 746ms/step - loss: 0.0039 - attention_mae: 0.0256 - val_loss: 0.0112 - val_attention_mae: 0.0514\n",
            "Epoch 43/300\n",
            "518/518 [==============================] - 387s 747ms/step - loss: 0.0039 - attention_mae: 0.0257 - val_loss: 0.0105 - val_attention_mae: 0.0465\n",
            "Epoch 44/300\n",
            "518/518 [==============================] - 387s 746ms/step - loss: 0.0038 - attention_mae: 0.0252 - val_loss: 0.0122 - val_attention_mae: 0.0522\n",
            "Epoch 45/300\n",
            "518/518 [==============================] - 386s 746ms/step - loss: 0.0038 - attention_mae: 0.0250 - val_loss: 0.0110 - val_attention_mae: 0.0479\n",
            "Epoch 46/300\n",
            "518/518 [==============================] - 386s 746ms/step - loss: 0.0038 - attention_mae: 0.0249 - val_loss: 0.0118 - val_attention_mae: 0.0511\n",
            "Epoch 47/300\n",
            "518/518 [==============================] - 386s 746ms/step - loss: 0.0037 - attention_mae: 0.0243 - val_loss: 0.0092 - val_attention_mae: 0.0442\n",
            "Epoch 48/300\n",
            "518/518 [==============================] - 386s 746ms/step - loss: 0.0036 - attention_mae: 0.0242 - val_loss: 0.0127 - val_attention_mae: 0.0520\n",
            "Epoch 49/300\n",
            "518/518 [==============================] - 386s 746ms/step - loss: 0.0035 - attention_mae: 0.0238 - val_loss: 0.0103 - val_attention_mae: 0.0477\n",
            "Epoch 50/300\n",
            "518/518 [==============================] - 386s 746ms/step - loss: 0.0035 - attention_mae: 0.0234 - val_loss: 0.0100 - val_attention_mae: 0.0461\n",
            "Epoch 51/300\n",
            "518/518 [==============================] - 386s 746ms/step - loss: 0.0035 - attention_mae: 0.0233 - val_loss: 0.0104 - val_attention_mae: 0.0468\n",
            "Epoch 52/300\n",
            "518/518 [==============================] - 386s 746ms/step - loss: 0.0034 - attention_mae: 0.0232 - val_loss: 0.0099 - val_attention_mae: 0.0446\n",
            "Epoch 53/300\n",
            "518/518 [==============================] - 386s 746ms/step - loss: 0.0034 - attention_mae: 0.0229 - val_loss: 0.0095 - val_attention_mae: 0.0439\n",
            "Epoch 54/300\n",
            "518/518 [==============================] - 386s 746ms/step - loss: 0.0033 - attention_mae: 0.0227 - val_loss: 0.0119 - val_attention_mae: 0.0506\n",
            "Epoch 55/300\n",
            "518/518 [==============================] - 387s 746ms/step - loss: 0.0033 - attention_mae: 0.0225 - val_loss: 0.0097 - val_attention_mae: 0.0432\n",
            "Epoch 56/300\n",
            "518/518 [==============================] - 386s 746ms/step - loss: 0.0032 - attention_mae: 0.0220 - val_loss: 0.0115 - val_attention_mae: 0.0489\n",
            "Epoch 57/300\n",
            "518/518 [==============================] - 386s 746ms/step - loss: 0.0031 - attention_mae: 0.0220 - val_loss: 0.0096 - val_attention_mae: 0.0451\n",
            "Epoch 58/300\n",
            "518/518 [==============================] - 386s 746ms/step - loss: 0.0031 - attention_mae: 0.0217 - val_loss: 0.0100 - val_attention_mae: 0.0463\n",
            "Epoch 59/300\n",
            "518/518 [==============================] - 387s 747ms/step - loss: 0.0031 - attention_mae: 0.0217 - val_loss: 0.0135 - val_attention_mae: 0.0551\n",
            "Epoch 60/300\n",
            "518/518 [==============================] - 387s 746ms/step - loss: 0.0031 - attention_mae: 0.0216 - val_loss: 0.0111 - val_attention_mae: 0.0503\n",
            "Epoch 61/300\n",
            "518/518 [==============================] - 386s 746ms/step - loss: 0.0030 - attention_mae: 0.0212 - val_loss: 0.0106 - val_attention_mae: 0.0451\n",
            "Epoch 62/300\n",
            "518/518 [==============================] - 386s 746ms/step - loss: 0.0030 - attention_mae: 0.0208 - val_loss: 0.0090 - val_attention_mae: 0.0422\n",
            "Epoch 63/300\n",
            "518/518 [==============================] - 387s 746ms/step - loss: 0.0029 - attention_mae: 0.0208 - val_loss: 0.0100 - val_attention_mae: 0.0456\n",
            "Epoch 64/300\n",
            "518/518 [==============================] - 386s 746ms/step - loss: 0.0028 - attention_mae: 0.0204 - val_loss: 0.0096 - val_attention_mae: 0.0444\n",
            "Epoch 65/300\n",
            "518/518 [==============================] - 386s 746ms/step - loss: 0.0028 - attention_mae: 0.0203 - val_loss: 0.0097 - val_attention_mae: 0.0464\n",
            "Epoch 66/300\n",
            "518/518 [==============================] - 386s 746ms/step - loss: 0.0029 - attention_mae: 0.0205 - val_loss: 0.0105 - val_attention_mae: 0.0475\n",
            "Epoch 67/300\n",
            "518/518 [==============================] - 386s 746ms/step - loss: 0.0028 - attention_mae: 0.0200 - val_loss: 0.0149 - val_attention_mae: 0.0583\n",
            "Epoch 68/300\n",
            "518/518 [==============================] - 386s 746ms/step - loss: 0.0028 - attention_mae: 0.0203 - val_loss: 0.0094 - val_attention_mae: 0.0428\n",
            "Epoch 69/300\n",
            "518/518 [==============================] - 386s 746ms/step - loss: 0.0027 - attention_mae: 0.0195 - val_loss: 0.0102 - val_attention_mae: 0.0442\n",
            "Epoch 70/300\n",
            "518/518 [==============================] - 386s 746ms/step - loss: 0.0027 - attention_mae: 0.0195 - val_loss: 0.0145 - val_attention_mae: 0.0557\n",
            "Epoch 71/300\n",
            "518/518 [==============================] - 386s 746ms/step - loss: 0.0027 - attention_mae: 0.0196 - val_loss: 0.0096 - val_attention_mae: 0.0431\n",
            "Epoch 72/300\n",
            "518/518 [==============================] - 386s 745ms/step - loss: 0.0026 - attention_mae: 0.0191 - val_loss: 0.0136 - val_attention_mae: 0.0541\n",
            "Epoch 73/300\n",
            "518/518 [==============================] - 386s 745ms/step - loss: 0.0026 - attention_mae: 0.0192 - val_loss: 0.0117 - val_attention_mae: 0.0481\n",
            "Epoch 74/300\n",
            "518/518 [==============================] - 386s 745ms/step - loss: 0.0026 - attention_mae: 0.0193 - val_loss: 0.0100 - val_attention_mae: 0.0440\n",
            "Epoch 75/300\n",
            "518/518 [==============================] - 386s 745ms/step - loss: 0.0026 - attention_mae: 0.0192 - val_loss: 0.0099 - val_attention_mae: 0.0440\n",
            "Epoch 76/300\n",
            "518/518 [==============================] - 386s 745ms/step - loss: 0.0025 - attention_mae: 0.0188 - val_loss: 0.0092 - val_attention_mae: 0.0412\n",
            "Epoch 77/300\n",
            "518/518 [==============================] - 386s 745ms/step - loss: 0.0025 - attention_mae: 0.0183 - val_loss: 0.0104 - val_attention_mae: 0.0458\n",
            "Epoch 78/300\n",
            "518/518 [==============================] - 386s 745ms/step - loss: 0.0025 - attention_mae: 0.0184 - val_loss: 0.0112 - val_attention_mae: 0.0474\n",
            "Epoch 79/300\n",
            "518/518 [==============================] - 386s 745ms/step - loss: 0.0025 - attention_mae: 0.0187 - val_loss: 0.0120 - val_attention_mae: 0.0482\n",
            "Epoch 80/300\n",
            "518/518 [==============================] - 386s 745ms/step - loss: 0.0024 - attention_mae: 0.0183 - val_loss: 0.0135 - val_attention_mae: 0.0514\n",
            "Epoch 81/300\n",
            "518/518 [==============================] - 386s 745ms/step - loss: 0.0024 - attention_mae: 0.0182 - val_loss: 0.0090 - val_attention_mae: 0.0406\n",
            "Epoch 82/300\n",
            "518/518 [==============================] - 386s 745ms/step - loss: 0.0024 - attention_mae: 0.0180 - val_loss: 0.0118 - val_attention_mae: 0.0479\n",
            "Epoch 83/300\n",
            "518/518 [==============================] - 386s 746ms/step - loss: 0.0024 - attention_mae: 0.0179 - val_loss: 0.0086 - val_attention_mae: 0.0389\n",
            "Epoch 84/300\n",
            "518/518 [==============================] - 386s 745ms/step - loss: 0.0024 - attention_mae: 0.0179 - val_loss: 0.0098 - val_attention_mae: 0.0426\n",
            "Epoch 85/300\n",
            "518/518 [==============================] - 386s 745ms/step - loss: 0.0023 - attention_mae: 0.0175 - val_loss: 0.0095 - val_attention_mae: 0.0417\n",
            "Epoch 86/300\n",
            "518/518 [==============================] - 386s 745ms/step - loss: 0.0023 - attention_mae: 0.0173 - val_loss: 0.0103 - val_attention_mae: 0.0420\n",
            "Epoch 87/300\n",
            "518/518 [==============================] - 386s 745ms/step - loss: 0.0023 - attention_mae: 0.0174 - val_loss: 0.0102 - val_attention_mae: 0.0433\n",
            "Epoch 88/300\n",
            "518/518 [==============================] - 386s 744ms/step - loss: 0.0023 - attention_mae: 0.0174 - val_loss: 0.0121 - val_attention_mae: 0.0494\n",
            "Epoch 89/300\n",
            "518/518 [==============================] - 386s 745ms/step - loss: 0.0023 - attention_mae: 0.0173 - val_loss: 0.0111 - val_attention_mae: 0.0461\n",
            "Epoch 90/300\n",
            "518/518 [==============================] - 386s 744ms/step - loss: 0.0022 - attention_mae: 0.0173 - val_loss: 0.0107 - val_attention_mae: 0.0439\n",
            "Epoch 91/300\n",
            "518/518 [==============================] - 386s 744ms/step - loss: 0.0022 - attention_mae: 0.0171 - val_loss: 0.0115 - val_attention_mae: 0.0457\n",
            "Epoch 92/300\n",
            "518/518 [==============================] - 386s 744ms/step - loss: 0.0023 - attention_mae: 0.0171 - val_loss: 0.0093 - val_attention_mae: 0.0408\n",
            "Epoch 93/300\n",
            "518/518 [==============================] - 385s 744ms/step - loss: 0.0022 - attention_mae: 0.0167 - val_loss: 0.0130 - val_attention_mae: 0.0488\n",
            "Epoch 94/300\n",
            "518/518 [==============================] - 386s 745ms/step - loss: 0.0022 - attention_mae: 0.0167 - val_loss: 0.0114 - val_attention_mae: 0.0456\n",
            "Epoch 95/300\n",
            "518/518 [==============================] - 386s 744ms/step - loss: 0.0022 - attention_mae: 0.0167 - val_loss: 0.0099 - val_attention_mae: 0.0428\n",
            "Epoch 96/300\n",
            "518/518 [==============================] - 386s 744ms/step - loss: 0.0021 - attention_mae: 0.0167 - val_loss: 0.0108 - val_attention_mae: 0.0437\n",
            "Epoch 97/300\n",
            "518/518 [==============================] - 386s 745ms/step - loss: 0.0021 - attention_mae: 0.0164 - val_loss: 0.0099 - val_attention_mae: 0.0411\n",
            "Epoch 98/300\n",
            " 31/518 [>.............................] - ETA: 5:58 - loss: 0.0021 - attention_mae: 0.0160"
          ]
        }
      ],
      "source": [
        "history = model.fit(\n",
        "    train_batches,\n",
        "    validation_data=test_batches,\n",
        "    epochs=N_EPOCHS,\n",
        "    batch_size=BATCH_SIZE,\n",
        "    callbacks=callbacks,\n",
        "    verbose=1\n",
        ")\n"
      ]
    },
    {
      "cell_type": "markdown",
      "source": [
        "# Save Model"
      ],
      "metadata": {
        "id": "HT68Jm8AEluI"
      }
    },
    {
      "cell_type": "code",
      "source": [
        "timestamp = datetime.datetime.now().strftime('%b-%d-%I:%M%p')\n",
        "model_path = os.path.join(MODEL_PATH, EXP_NAME)\n",
        "if not os.path.exists(model_path):\n",
        "    os.makedirs(model_path)\n",
        "\n",
        "model.save(os.path.join(model_path, timestamp))"
      ],
      "metadata": {
        "id": "xfUmF_1mEjXH"
      },
      "execution_count": null,
      "outputs": []
    },
    {
      "cell_type": "markdown",
      "source": [
        "# Save Predictions"
      ],
      "metadata": {
        "id": "-PWi28iOKpXe"
      }
    },
    {
      "cell_type": "code",
      "execution_count": null,
      "metadata": {
        "id": "LLDJf93Z0YxY"
      },
      "outputs": [],
      "source": [
        "test_ds_unbatched = test_batches.unbatch()\n",
        "\n",
        "pred_path = os.path.join(PRED_PATH, EXP_NAME, timestamp)\n",
        "if not os.path.exists(pred_path):\n",
        "    os.makedirs(pred_path)\n",
        "\n",
        "metrics = pd.DataFrame()\n",
        "\n",
        "for idx, (input, target) in enumerate(tqdm(test_ds_unbatched)):\n",
        "\n",
        "    # if not idx % 10 == 0:\n",
        "    #     continue\n",
        "\n",
        "    target = target.numpy()\n",
        "    prediction = tf.squeeze(\n",
        "        model.predict(\n",
        "            tf.expand_dims(input, axis=0)\n",
        "            )\n",
        "        ).numpy()\n",
        "    prediction[target == 1.0] = 1.0\n",
        "\n",
        "    # _metrics = pd.DataFrame([[\n",
        "    #         rmse(target, prediction),\n",
        "    #         psnr(target, prediction),\n",
        "    #         ssim(target, prediction),\n",
        "    #         fsim(target, prediction),\n",
        "    #         issm(target, prediction),\n",
        "    #         sre(target, prediction),\n",
        "    #         sam(target, prediction),\n",
        "    #         uiq(target, prediction),\n",
        "    #     ]],\n",
        "    #     columns=[\"RMSE\", \"PSNR\", \"SSIM\", \"FSIM\", \"ISSM\", \"SRE\", \"SAM\", \"UIQ\"]\n",
        "    # )\n",
        "\n",
        "    # metrics = pd.concat([metrics, _metrics], axis=0)\n",
        "\n",
        "    plt.figure(figsize=(7, 7))\n",
        "    plt.imshow(target)\n",
        "    plt.axis(\"off\")\n",
        "    plt.tight_layout()\n",
        "    plt.savefig(os.path.join(pred_path, f\"{idx}_T.png\"))\n",
        "    plt.close()\n",
        "\n",
        "    plt.figure(figsize=(7, 7))\n",
        "    plt.imshow(prediction)\n",
        "    plt.axis(\"off\")\n",
        "    plt.tight_layout()\n",
        "    plt.savefig(os.path.join(pred_path, f\"{idx}_P.png\"))\n",
        "    plt.close()\n",
        "\n",
        "    # plt.figure(figsize=(12, 4))\n",
        "    # plt.subplot(1, 3, 1)\n",
        "    # plt.imshow(input)\n",
        "    # plt.axis(\"off\")\n",
        "    # plt.title(\"INPUT\")\n",
        "    # plt.subplot(1, 3, 2)\n",
        "    # plt.imshow(target)\n",
        "    # plt.axis(\"off\")\n",
        "    # plt.title(\"TARGET\")\n",
        "    # plt.subplot(1, 3, 3)\n",
        "    # plt.imshow(prediction)\n",
        "    # plt.axis(\"off\")\n",
        "    # plt.title(\"PREDICTION\")\n",
        "    # plt.tight_layout()\n",
        "    # plt.savefig(os.path.join(pred_path, f\"{idx}.png\"))\n",
        "    # plt.close()  \n"
      ]
    },
    {
      "cell_type": "code",
      "source": [
        "loss = history.history['loss']\n",
        "val_loss = history.history['val_loss']\n",
        "\n",
        "plt.figure(figsize=(8, 6))\n",
        "plt.plot(loss, label='Training Loss')\n",
        "plt.plot(val_loss, label='Validation Loss')\n",
        "plt.legend(loc='upper right')\n",
        "plt.ylabel('Attention MAE')\n",
        "plt.title('Training and Validation Loss')\n",
        "plt.xlabel('Epoch')\n",
        "plt.tight_layout()\n",
        "plt.savefig(os.path.join(model_path, timestamp + \".png\"))\n",
        "plt.close()"
      ],
      "metadata": {
        "id": "dq-aXv2mIwA8"
      },
      "execution_count": null,
      "outputs": []
    },
    {
      "cell_type": "code",
      "source": [
        "model.evaluate(test_batches)"
      ],
      "metadata": {
        "id": "KghqZxOpWCWP"
      },
      "execution_count": null,
      "outputs": []
    },
    {
      "cell_type": "code",
      "source": [],
      "metadata": {
        "id": "Clx7EdsW2yFf"
      },
      "execution_count": null,
      "outputs": []
    }
  ],
  "metadata": {
    "kernelspec": {
      "display_name": "Python 3.10.6 ('Ai')",
      "language": "python",
      "name": "python3"
    },
    "language_info": {
      "codemirror_mode": {
        "name": "ipython",
        "version": 3
      },
      "file_extension": ".py",
      "mimetype": "text/x-python",
      "name": "python",
      "nbconvert_exporter": "python",
      "pygments_lexer": "ipython3",
      "version": "3.10.6"
    },
    "orig_nbformat": 4,
    "vscode": {
      "interpreter": {
        "hash": "cc12dd51c08fff59e312c49b5273cbf2a12939660509ea1a4d83cd89b0463726"
      }
    },
    "colab": {
      "provenance": [],
      "machine_shape": "hm",
      "include_colab_link": true
    },
    "accelerator": "GPU",
    "gpuClass": "standard"
  },
  "nbformat": 4,
  "nbformat_minor": 0
}