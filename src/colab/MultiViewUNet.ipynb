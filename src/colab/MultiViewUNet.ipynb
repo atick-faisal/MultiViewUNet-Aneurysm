{
  "cells": [
    {
      "cell_type": "markdown",
      "metadata": {
        "id": "view-in-github",
        "colab_type": "text"
      },
      "source": [
        "<a href=\"https://colab.research.google.com/github/atick-faisal/TAVI/blob/main/src/colab/MultiViewUNet.ipynb\" target=\"_parent\"><img src=\"https://colab.research.google.com/assets/colab-badge.svg\" alt=\"Open In Colab\"/></a>"
      ]
    },
    {
      "cell_type": "markdown",
      "source": [
        "# Google Drive"
      ],
      "metadata": {
        "id": "0estJx3IDzz4"
      }
    },
    {
      "cell_type": "code",
      "source": [
        "from google.colab import drive\n",
        "drive.mount('/content/drive')"
      ],
      "metadata": {
        "colab": {
          "base_uri": "https://localhost:8080/"
        },
        "id": "WsH9ydF7Dwpf",
        "outputId": "ba2b7be1-02d4-4c66-8796-8f8f95b26a7f"
      },
      "execution_count": 1,
      "outputs": [
        {
          "output_type": "stream",
          "name": "stdout",
          "text": [
            "Mounted at /content/drive\n"
          ]
        }
      ]
    },
    {
      "cell_type": "markdown",
      "metadata": {
        "id": "MMf8mzRT0YxP"
      },
      "source": [
        "# Download Dataset"
      ]
    },
    {
      "cell_type": "code",
      "execution_count": 2,
      "metadata": {
        "colab": {
          "base_uri": "https://localhost:8080/"
        },
        "id": "Zm_HJEfM0YxS",
        "outputId": "ad3c5e8b-baee-4704-d417-4fbaf225fa47"
      },
      "outputs": [
        {
          "output_type": "stream",
          "name": "stdout",
          "text": [
            "Downloading...\n",
            "From: https://drive.google.com/uc?id=1SAiWxbd4ECCfcJh3VWDvTSVaF-q5fsQh\n",
            "To: /content/Dataset_v4.zip\n",
            "100% 234M/234M [00:04<00:00, 54.3MB/s]\n"
          ]
        }
      ],
      "source": [
        "!gdown \"1SAiWxbd4ECCfcJh3VWDvTSVaF-q5fsQh\"\n",
        "!unzip -o \"Dataset_v4.zip\" > /dev/null\n"
      ]
    },
    {
      "cell_type": "markdown",
      "metadata": {
        "id": "Vemh_spU0YxT"
      },
      "source": [
        "# Imports"
      ]
    },
    {
      "cell_type": "code",
      "execution_count": 3,
      "metadata": {
        "id": "w0KYlE-90YxT"
      },
      "outputs": [],
      "source": [
        "import os\n",
        "import cv2\n",
        "import random\n",
        "import datetime\n",
        "import matplotlib\n",
        "import numpy as np\n",
        "import tensorflow as tf\n",
        "import matplotlib.pyplot as plt\n",
        "\n",
        "from tqdm import tqdm\n",
        "from numpy.typing import NDArray\n",
        "\n",
        "matplotlib.use('Agg')\n",
        "plt.rcParams[\"font.size\"] = 16\n"
      ]
    },
    {
      "cell_type": "markdown",
      "metadata": {
        "id": "vE8WOTRj0YxT"
      },
      "source": [
        "# Config"
      ]
    },
    {
      "cell_type": "code",
      "execution_count": 4,
      "metadata": {
        "id": "O5Vvm79c0YxT"
      },
      "outputs": [],
      "source": [
        "EXP_NAME        = \"MultiVewUNet-256x256-BS8-LR0.001-EP300-GEO_AUGXY\"\n",
        "\n",
        "DATASET_PATH    = \"/content/Images/\"\n",
        "TRAIN_DIR       = \"Train/\"\n",
        "TEST_DIR        = \"Test/\"\n",
        "INPUT_DIR       = \"Input/\"\n",
        "TARGET_DIR      = \"Target/\"\n",
        "MODEL_PATH      = \"/content/drive/MyDrive/Research/TAVI/Models/\"\n",
        "PRED_PATH       = \"/content/drive/MyDrive/Research/TAVI/Predictions/\"\n",
        "\n",
        "IMG_SIZE        = 256\n",
        "BATCH_SIZE      = 8\n",
        "VAL_SPLIT       = 0.2\n",
        "LEARNING_RATE   = 0.001\n",
        "N_EPOCHS        = 300\n",
        "PATIENCE        = 30\n"
      ]
    },
    {
      "cell_type": "markdown",
      "metadata": {
        "id": "YmMjbvFH0YxU"
      },
      "source": [
        "# Architecture"
      ]
    },
    {
      "cell_type": "code",
      "execution_count": 5,
      "metadata": {
        "id": "xecJpVUs0YxU"
      },
      "outputs": [],
      "source": [
        "class UNet:\n",
        "    def __init__(\n",
        "        self,\n",
        "        img_size: int,\n",
        "        n_channels: int = 3,\n",
        "        width: int = 32,\n",
        "        depth: int = 4,\n",
        "        kernel_size: int = 3\n",
        "    ):\n",
        "        self.img_size = img_size\n",
        "        self.n_channels = n_channels\n",
        "        self.width = width\n",
        "        self.depth = depth\n",
        "        self.kernel_size = kernel_size\n",
        "\n",
        "    @staticmethod\n",
        "    def conv(\n",
        "        x: tf.Tensor,\n",
        "        filters: int,\n",
        "        kernel_size: int\n",
        "    ) -> tf.Tensor:\n",
        "        for i in range(2):\n",
        "            x = tf.keras.layers.Conv2D(\n",
        "                filters=filters,\n",
        "                kernel_size=kernel_size,\n",
        "                strides=1,\n",
        "                padding=\"same\",\n",
        "                data_format=\"channels_last\",\n",
        "                dilation_rate=1,\n",
        "                groups=1,\n",
        "                activation=None,\n",
        "                use_bias=True,\n",
        "                kernel_initializer=\"glorot_uniform\",\n",
        "                bias_initializer=\"zeros\"\n",
        "            )(x)\n",
        "\n",
        "            x = tf.keras.layers.BatchNormalization()(x)\n",
        "            x = tf.keras.layers.Activation(\"relu\")(x)\n",
        "\n",
        "        return x\n",
        "\n",
        "    @staticmethod\n",
        "    def deconv(x: tf.Tensor, filters: int) -> tf.Tensor:\n",
        "        x = tf.keras.layers.Conv2DTranspose(\n",
        "            filters=filters,\n",
        "            kernel_size=2,\n",
        "            strides=2,\n",
        "            padding=\"same\",\n",
        "            output_padding=None,\n",
        "            data_format=None,\n",
        "            dilation_rate=1,\n",
        "            activation=None,\n",
        "            use_bias=True,\n",
        "            kernel_initializer=\"glorot_uniform\",\n",
        "            bias_initializer=\"zeros\"\n",
        "        )(x)\n",
        "\n",
        "        x = tf.keras.layers.BatchNormalization()(x)\n",
        "        x = tf.keras.layers.Activation(\"relu\")(x)\n",
        "\n",
        "        return x\n",
        "\n",
        "    @staticmethod\n",
        "    def output(x: tf.Tensor) -> tf.Tensor:\n",
        "        return tf.keras.layers.Conv2D(3, (1, 1), activation=\"sigmoid\")(x)\n",
        "\n",
        "    @staticmethod\n",
        "    def pool(x: tf.Tensor, pool_size: int = 2) -> tf.Tensor:\n",
        "        return tf.keras.layers.MaxPool2D(pool_size)(x)\n",
        "\n",
        "    def __call__(self) -> tf.keras.Model:\n",
        "        inputs = tf.keras.layers.Input(\n",
        "            shape=(self.img_size, self.img_size, self.n_channels)\n",
        "        )\n",
        "\n",
        "        # scaled = tf.keras.layers.Rescaling(1./255.0, offset=0)(inputs)\n",
        "\n",
        "        # ------------------ Downsampling ---------------------\n",
        "        downsample_layers = []\n",
        "        downsample_layers.append(\n",
        "            self.conv(\n",
        "                x=inputs,\n",
        "                filters=self.width,\n",
        "                kernel_size=self.kernel_size\n",
        "            )\n",
        "        )\n",
        "        for i in range(1, self.depth):\n",
        "            filters = int((2 ** i) * self.width)\n",
        "            downsample_layers.append(\n",
        "                self.pool(\n",
        "                    self.conv(\n",
        "                        x=downsample_layers[i - 1],\n",
        "                        filters=filters,\n",
        "                        kernel_size=self.kernel_size\n",
        "                    )\n",
        "                )\n",
        "            )\n",
        "\n",
        "        # ------------------- Features --------------------\n",
        "        n_features = int((2 ** self.depth) * self.width)\n",
        "        self.features = self.pool(\n",
        "            self.conv(\n",
        "                x=downsample_layers[-1],\n",
        "                filters=n_features,\n",
        "                kernel_size=self.kernel_size\n",
        "            )\n",
        "        )\n",
        "\n",
        "        # ------------------- Upsampling --------------------\n",
        "        upsample_layers = []\n",
        "        upsample_layers.append(self.features)\n",
        "        for i in range(1, self.depth + 1):\n",
        "            filters = int((2 ** (self.depth - i)) * self.width)\n",
        "            upsample_layers.append(\n",
        "                self.conv(\n",
        "                    x=tf.keras.layers.concatenate([\n",
        "                        downsample_layers[self.depth - i],\n",
        "                        self.deconv(\n",
        "                            x=upsample_layers[i - 1],\n",
        "                            filters=filters\n",
        "                        )\n",
        "                    ]),\n",
        "                    filters=filters,\n",
        "                    kernel_size=self.kernel_size\n",
        "                )\n",
        "            )\n",
        "\n",
        "        # ---------------------- Output -----------------------\n",
        "        outputs = self.output(upsample_layers[-1])\n",
        "\n",
        "        return tf.keras.Model(inputs, outputs)\n"
      ]
    },
    {
      "cell_type": "markdown",
      "metadata": {
        "id": "ga47oOoc0YxV"
      },
      "source": [
        "# Loss Functions"
      ]
    },
    {
      "cell_type": "code",
      "execution_count": 6,
      "metadata": {
        "id": "ooE90mpc0YxW"
      },
      "outputs": [],
      "source": [
        "def attention_mse(y_true, y_pred):\n",
        "    _y_true = y_true[y_true != 1.0]\n",
        "    _y_pred = y_pred[y_true != 1.0]\n",
        "    squared_difference = tf.square(_y_true - _y_pred)\n",
        "    return tf.reduce_mean(squared_difference, axis=-1)\n",
        "\n",
        "\n",
        "def attention_mae(y_true, y_pred):\n",
        "    _y_true = y_true[y_true != 1.0]\n",
        "    _y_pred = y_pred[y_true != 1.0]\n",
        "    squared_difference = tf.abs(_y_true - _y_pred)\n",
        "    return tf.reduce_mean(squared_difference, axis=-1)\n"
      ]
    },
    {
      "cell_type": "markdown",
      "metadata": {
        "id": "wOgmHYSJ0YxW"
      },
      "source": [
        "# Utils"
      ]
    },
    {
      "cell_type": "code",
      "execution_count": 7,
      "metadata": {
        "id": "cSrfyX260YxW"
      },
      "outputs": [],
      "source": [
        "def load_data_from_dir(path: str) -> tf.data.Dataset:\n",
        "    return tf.keras.utils.image_dataset_from_directory(\n",
        "        directory=path,\n",
        "        labels=None,\n",
        "        color_mode='rgb',\n",
        "        batch_size=BATCH_SIZE,\n",
        "        image_size=(IMG_SIZE, IMG_SIZE),\n",
        "        shuffle=True,\n",
        "        seed=42,\n",
        "        # validation_split=VAL_SPLIT,\n",
        "        # subset=subset,\n",
        "        interpolation='bilinear',\n",
        "        follow_links=False,\n",
        "        crop_to_aspect_ratio=False\n",
        "    )\n"
      ]
    },
    {
      "cell_type": "markdown",
      "metadata": {
        "id": "CyS-63WI0YxX"
      },
      "source": [
        "# Dataloaders"
      ]
    },
    {
      "cell_type": "code",
      "execution_count": 8,
      "metadata": {
        "colab": {
          "base_uri": "https://localhost:8080/"
        },
        "id": "71Dxzfkf0YxX",
        "outputId": "4941cec0-fbe5-4b16-9a6c-0d2d77af9f2e"
      },
      "outputs": [
        {
          "output_type": "stream",
          "name": "stdout",
          "text": [
            "Found 11040 files belonging to 1 classes.\n",
            "Found 11040 files belonging to 1 classes.\n",
            "Found 1656 files belonging to 1 classes.\n",
            "Found 1656 files belonging to 1 classes.\n",
            "(TensorSpec(shape=(None, 256, 256, 3), dtype=tf.float32, name=None), TensorSpec(shape=(None, 256, 256, 3), dtype=tf.float32, name=None))\n",
            "(TensorSpec(shape=(None, 256, 256, 3), dtype=tf.float32, name=None), TensorSpec(shape=(None, 256, 256, 3), dtype=tf.float32, name=None))\n"
          ]
        }
      ],
      "source": [
        "trainX = load_data_from_dir(os.path.join(DATASET_PATH, TRAIN_DIR, INPUT_DIR))\n",
        "trainY = load_data_from_dir(os.path.join(DATASET_PATH, TRAIN_DIR, TARGET_DIR))\n",
        "testX = load_data_from_dir(os.path.join(DATASET_PATH, TEST_DIR, INPUT_DIR))\n",
        "testY = load_data_from_dir(os.path.join(DATASET_PATH, TEST_DIR, TARGET_DIR))\n",
        "\n",
        "train_ds = tf.data.Dataset.zip((trainX, trainY))\n",
        "test_ds = tf.data.Dataset.zip((testX, testY))\n",
        "\n",
        "print(train_ds.element_spec)\n",
        "print(test_ds.element_spec)\n"
      ]
    },
    {
      "cell_type": "markdown",
      "source": [
        "# Normalization"
      ],
      "metadata": {
        "id": "01HaegmR278r"
      }
    },
    {
      "cell_type": "code",
      "source": [
        "normalization_layer = tf.keras.layers.Rescaling(1./255)\n",
        "train_ds = train_ds.map(lambda x, y: (normalization_layer(x), normalization_layer(y)))\n",
        "test_ds = test_ds.map(lambda x, y: (normalization_layer(x), normalization_layer(y)))"
      ],
      "metadata": {
        "id": "mDeZuH0p26pE"
      },
      "execution_count": 9,
      "outputs": []
    },
    {
      "cell_type": "markdown",
      "metadata": {
        "id": "eHlKefA_0YxX"
      },
      "source": [
        "# Optimization"
      ]
    },
    {
      "cell_type": "code",
      "execution_count": 10,
      "metadata": {
        "id": "U-HMkfOG0YxX"
      },
      "outputs": [],
      "source": [
        "AUTOTUNE = tf.data.AUTOTUNE\n",
        "\n",
        "train_ds = train_ds.cache().prefetch(buffer_size=AUTOTUNE)\n",
        "test_ds = test_ds.cache().prefetch(buffer_size=AUTOTUNE)\n"
      ]
    },
    {
      "cell_type": "markdown",
      "metadata": {
        "id": "w50akeqN0YxX"
      },
      "source": [
        "# Training Config"
      ]
    },
    {
      "cell_type": "code",
      "execution_count": 11,
      "metadata": {
        "id": "2YvF85Wg0YxY"
      },
      "outputs": [],
      "source": [
        "callbacks = [\n",
        "    tf.keras.callbacks.EarlyStopping(\n",
        "        monitor=\"val_loss\",\n",
        "        patience=PATIENCE,\n",
        "        restore_best_weights=True\n",
        "    )\n",
        "]\n",
        "\n",
        "optimizer = tf.keras.optimizers.Adam(\n",
        "    learning_rate=LEARNING_RATE\n",
        ")\n",
        "\n",
        "model = UNet(IMG_SIZE)()\n",
        "\n",
        "model.compile(\n",
        "    loss=attention_mse,\n",
        "    optimizer=optimizer,\n",
        "    metrics=['mean_squared_error']\n",
        ")\n"
      ]
    },
    {
      "cell_type": "markdown",
      "metadata": {
        "id": "XrJPilPI0YxY"
      },
      "source": [
        "# Training"
      ]
    },
    {
      "cell_type": "code",
      "execution_count": 12,
      "metadata": {
        "colab": {
          "base_uri": "https://localhost:8080/"
        },
        "id": "y_b-8pkT0YxY",
        "outputId": "4e467d4d-fe93-4ee7-a1fe-12b09df9c831"
      },
      "outputs": [
        {
          "output_type": "stream",
          "name": "stdout",
          "text": [
            "Epoch 1/300\n",
            "1380/1380 [==============================] - 237s 161ms/step - loss: 0.0285 - mean_squared_error: 0.2904 - val_loss: 0.0251 - val_mean_squared_error: 0.2882\n",
            "Epoch 2/300\n",
            "1380/1380 [==============================] - 216s 157ms/step - loss: 0.0263 - mean_squared_error: 0.2856 - val_loss: 0.0252 - val_mean_squared_error: 0.1424\n",
            "Epoch 3/300\n",
            "1380/1380 [==============================] - 216s 157ms/step - loss: 0.0252 - mean_squared_error: 0.2807 - val_loss: 0.0233 - val_mean_squared_error: 0.2854\n",
            "Epoch 4/300\n",
            "1380/1380 [==============================] - 216s 157ms/step - loss: 0.0243 - mean_squared_error: 0.2777 - val_loss: 0.0226 - val_mean_squared_error: 0.1053\n",
            "Epoch 5/300\n",
            "1380/1380 [==============================] - 216s 157ms/step - loss: 0.0234 - mean_squared_error: 0.2700 - val_loss: 0.0208 - val_mean_squared_error: 0.3045\n",
            "Epoch 6/300\n",
            "1380/1380 [==============================] - 216s 156ms/step - loss: 0.0226 - mean_squared_error: 0.2640 - val_loss: 0.0223 - val_mean_squared_error: 0.2931\n",
            "Epoch 7/300\n",
            "1380/1380 [==============================] - 216s 157ms/step - loss: 0.0216 - mean_squared_error: 0.2599 - val_loss: 0.0228 - val_mean_squared_error: 0.0026\n",
            "Epoch 8/300\n",
            "1380/1380 [==============================] - 216s 157ms/step - loss: 0.0207 - mean_squared_error: 0.2447 - val_loss: 0.0213 - val_mean_squared_error: 0.0603\n",
            "Epoch 9/300\n",
            "1380/1380 [==============================] - 216s 157ms/step - loss: 0.0198 - mean_squared_error: 0.2349 - val_loss: 0.0216 - val_mean_squared_error: 0.2021\n",
            "Epoch 10/300\n",
            "1380/1380 [==============================] - 216s 157ms/step - loss: 0.0189 - mean_squared_error: 0.2321 - val_loss: 0.0190 - val_mean_squared_error: 0.2319\n",
            "Epoch 11/300\n",
            "1380/1380 [==============================] - 216s 156ms/step - loss: 0.0180 - mean_squared_error: 0.2246 - val_loss: 0.0194 - val_mean_squared_error: 0.0025\n",
            "Epoch 12/300\n",
            "1380/1380 [==============================] - 216s 157ms/step - loss: 0.0172 - mean_squared_error: 0.2139 - val_loss: 0.0188 - val_mean_squared_error: 0.2597\n",
            "Epoch 13/300\n",
            "1380/1380 [==============================] - 216s 157ms/step - loss: 0.0162 - mean_squared_error: 0.2012 - val_loss: 0.0181 - val_mean_squared_error: 0.1923\n",
            "Epoch 14/300\n",
            "1380/1380 [==============================] - 216s 157ms/step - loss: 0.0155 - mean_squared_error: 0.1905 - val_loss: 0.0199 - val_mean_squared_error: 0.0021\n",
            "Epoch 15/300\n",
            "1380/1380 [==============================] - 216s 157ms/step - loss: 0.0148 - mean_squared_error: 0.1822 - val_loss: 0.0220 - val_mean_squared_error: 0.0023\n",
            "Epoch 16/300\n",
            "1380/1380 [==============================] - 216s 157ms/step - loss: 0.0140 - mean_squared_error: 0.1756 - val_loss: 0.0203 - val_mean_squared_error: 0.0021\n",
            "Epoch 17/300\n",
            "1380/1380 [==============================] - 216s 157ms/step - loss: 0.0134 - mean_squared_error: 0.1693 - val_loss: 0.0196 - val_mean_squared_error: 0.0021\n",
            "Epoch 18/300\n",
            "1380/1380 [==============================] - 216s 157ms/step - loss: 0.0128 - mean_squared_error: 0.1613 - val_loss: 0.0199 - val_mean_squared_error: 0.2439\n",
            "Epoch 19/300\n",
            "1380/1380 [==============================] - 216s 157ms/step - loss: 0.0121 - mean_squared_error: 0.1582 - val_loss: 0.0198 - val_mean_squared_error: 0.0021\n",
            "Epoch 20/300\n",
            "1380/1380 [==============================] - 216s 157ms/step - loss: 0.0115 - mean_squared_error: 0.1529 - val_loss: 0.0191 - val_mean_squared_error: 0.2687\n",
            "Epoch 21/300\n",
            "1380/1380 [==============================] - 216s 157ms/step - loss: 0.0111 - mean_squared_error: 0.1520 - val_loss: 0.0197 - val_mean_squared_error: 0.2371\n",
            "Epoch 22/300\n",
            "1380/1380 [==============================] - 216s 157ms/step - loss: 0.0106 - mean_squared_error: 0.1437 - val_loss: 0.0193 - val_mean_squared_error: 0.0023\n",
            "Epoch 23/300\n",
            "1380/1380 [==============================] - 216s 157ms/step - loss: 0.0102 - mean_squared_error: 0.1445 - val_loss: 0.0209 - val_mean_squared_error: 0.2844\n",
            "Epoch 24/300\n",
            "1380/1380 [==============================] - 216s 156ms/step - loss: 0.0097 - mean_squared_error: 0.1360 - val_loss: 0.0203 - val_mean_squared_error: 0.0023\n",
            "Epoch 25/300\n",
            "1380/1380 [==============================] - 216s 157ms/step - loss: 0.0092 - mean_squared_error: 0.1298 - val_loss: 0.0189 - val_mean_squared_error: 0.0022\n",
            "Epoch 26/300\n",
            "1380/1380 [==============================] - 216s 157ms/step - loss: 0.0089 - mean_squared_error: 0.1260 - val_loss: 0.0180 - val_mean_squared_error: 0.1970\n",
            "Epoch 27/300\n",
            "1380/1380 [==============================] - 216s 156ms/step - loss: 0.0085 - mean_squared_error: 0.1242 - val_loss: 0.0183 - val_mean_squared_error: 0.1801\n",
            "Epoch 28/300\n",
            "1380/1380 [==============================] - 215s 156ms/step - loss: 0.0082 - mean_squared_error: 0.1203 - val_loss: 0.0203 - val_mean_squared_error: 0.0030\n",
            "Epoch 29/300\n",
            "1380/1380 [==============================] - 215s 156ms/step - loss: 0.0079 - mean_squared_error: 0.1230 - val_loss: 0.0192 - val_mean_squared_error: 0.0026\n",
            "Epoch 30/300\n",
            "1380/1380 [==============================] - 215s 156ms/step - loss: 0.0075 - mean_squared_error: 0.1173 - val_loss: 0.0179 - val_mean_squared_error: 0.0032\n",
            "Epoch 31/300\n",
            "1380/1380 [==============================] - 215s 156ms/step - loss: 0.0073 - mean_squared_error: 0.1144 - val_loss: 0.0205 - val_mean_squared_error: 0.0033\n",
            "Epoch 32/300\n",
            "1380/1380 [==============================] - 215s 156ms/step - loss: 0.0070 - mean_squared_error: 0.1131 - val_loss: 0.0179 - val_mean_squared_error: 0.1520\n",
            "Epoch 33/300\n",
            "1380/1380 [==============================] - 215s 156ms/step - loss: 0.0067 - mean_squared_error: 0.1104 - val_loss: 0.0220 - val_mean_squared_error: 0.2606\n",
            "Epoch 34/300\n",
            "1380/1380 [==============================] - 215s 156ms/step - loss: 0.0066 - mean_squared_error: 0.1081 - val_loss: 0.0193 - val_mean_squared_error: 0.0498\n",
            "Epoch 35/300\n",
            "1380/1380 [==============================] - 216s 156ms/step - loss: 0.0063 - mean_squared_error: 0.1042 - val_loss: 0.0189 - val_mean_squared_error: 0.2730\n",
            "Epoch 36/300\n",
            "1380/1380 [==============================] - 216s 157ms/step - loss: 0.0061 - mean_squared_error: 0.1060 - val_loss: 0.0212 - val_mean_squared_error: 0.0024\n",
            "Epoch 37/300\n",
            "1380/1380 [==============================] - 215s 156ms/step - loss: 0.0059 - mean_squared_error: 0.1058 - val_loss: 0.0190 - val_mean_squared_error: 0.0043\n",
            "Epoch 38/300\n",
            "1380/1380 [==============================] - 216s 157ms/step - loss: 0.0057 - mean_squared_error: 0.1042 - val_loss: 0.0179 - val_mean_squared_error: 0.2075\n",
            "Epoch 39/300\n",
            "1380/1380 [==============================] - 216s 156ms/step - loss: 0.0055 - mean_squared_error: 0.1037 - val_loss: 0.0207 - val_mean_squared_error: 0.0026\n",
            "Epoch 40/300\n",
            "1380/1380 [==============================] - 216s 157ms/step - loss: 0.0053 - mean_squared_error: 0.1010 - val_loss: 0.0207 - val_mean_squared_error: 0.0023\n",
            "Epoch 41/300\n",
            "1380/1380 [==============================] - 216s 157ms/step - loss: 0.0052 - mean_squared_error: 0.0999 - val_loss: 0.0187 - val_mean_squared_error: 0.0020\n",
            "Epoch 42/300\n",
            "1380/1380 [==============================] - 216s 156ms/step - loss: 0.0051 - mean_squared_error: 0.1009 - val_loss: 0.0206 - val_mean_squared_error: 0.0022\n",
            "Epoch 43/300\n",
            "1380/1380 [==============================] - 215s 156ms/step - loss: 0.0049 - mean_squared_error: 0.1015 - val_loss: 0.0182 - val_mean_squared_error: 0.1827\n",
            "Epoch 44/300\n",
            "1380/1380 [==============================] - 216s 156ms/step - loss: 0.0048 - mean_squared_error: 0.1000 - val_loss: 0.0187 - val_mean_squared_error: 0.0032\n",
            "Epoch 45/300\n",
            "1380/1380 [==============================] - 216s 157ms/step - loss: 0.0047 - mean_squared_error: 0.0987 - val_loss: 0.0178 - val_mean_squared_error: 0.2147\n",
            "Epoch 46/300\n",
            "1380/1380 [==============================] - 216s 156ms/step - loss: 0.0046 - mean_squared_error: 0.0971 - val_loss: 0.0181 - val_mean_squared_error: 0.0020\n",
            "Epoch 47/300\n",
            "1380/1380 [==============================] - 216s 157ms/step - loss: 0.0045 - mean_squared_error: 0.0993 - val_loss: 0.0179 - val_mean_squared_error: 0.0033\n",
            "Epoch 48/300\n",
            "1380/1380 [==============================] - 216s 156ms/step - loss: 0.0043 - mean_squared_error: 0.1006 - val_loss: 0.0187 - val_mean_squared_error: 0.0045\n",
            "Epoch 49/300\n",
            "1380/1380 [==============================] - 216s 156ms/step - loss: 0.0043 - mean_squared_error: 0.1009 - val_loss: 0.0184 - val_mean_squared_error: 0.1778\n",
            "Epoch 50/300\n",
            "1380/1380 [==============================] - 216s 156ms/step - loss: 0.0042 - mean_squared_error: 0.1000 - val_loss: 0.0209 - val_mean_squared_error: 0.0022\n",
            "Epoch 51/300\n",
            "1380/1380 [==============================] - 216s 156ms/step - loss: 0.0041 - mean_squared_error: 0.1029 - val_loss: 0.0197 - val_mean_squared_error: 0.0035\n",
            "Epoch 52/300\n",
            "1380/1380 [==============================] - 216s 156ms/step - loss: 0.0040 - mean_squared_error: 0.1040 - val_loss: 0.0189 - val_mean_squared_error: 0.2084\n",
            "Epoch 53/300\n",
            "1380/1380 [==============================] - 216s 156ms/step - loss: 0.0039 - mean_squared_error: 0.1036 - val_loss: 0.0209 - val_mean_squared_error: 0.0022\n",
            "Epoch 54/300\n",
            "1380/1380 [==============================] - 216s 156ms/step - loss: 0.0038 - mean_squared_error: 0.1033 - val_loss: 0.0196 - val_mean_squared_error: 0.0020\n",
            "Epoch 55/300\n",
            "1380/1380 [==============================] - 216s 156ms/step - loss: 0.0037 - mean_squared_error: 0.1023 - val_loss: 0.0205 - val_mean_squared_error: 0.0021\n",
            "Epoch 56/300\n",
            "1380/1380 [==============================] - 216s 156ms/step - loss: 0.0036 - mean_squared_error: 0.1029 - val_loss: 0.0186 - val_mean_squared_error: 0.0148\n",
            "Epoch 57/300\n",
            "1380/1380 [==============================] - 216s 156ms/step - loss: 0.0035 - mean_squared_error: 0.1019 - val_loss: 0.0190 - val_mean_squared_error: 0.1963\n",
            "Epoch 58/300\n",
            "1380/1380 [==============================] - 216s 156ms/step - loss: 0.0035 - mean_squared_error: 0.1034 - val_loss: 0.0203 - val_mean_squared_error: 0.0031\n",
            "Epoch 59/300\n",
            "1380/1380 [==============================] - 216s 156ms/step - loss: 0.0034 - mean_squared_error: 0.1060 - val_loss: 0.0192 - val_mean_squared_error: 0.0049\n",
            "Epoch 60/300\n",
            "1380/1380 [==============================] - 216s 156ms/step - loss: 0.0033 - mean_squared_error: 0.1056 - val_loss: 0.0215 - val_mean_squared_error: 0.0028\n",
            "Epoch 61/300\n",
            "1380/1380 [==============================] - 216s 156ms/step - loss: 0.0033 - mean_squared_error: 0.1060 - val_loss: 0.0197 - val_mean_squared_error: 0.0023\n",
            "Epoch 62/300\n",
            "1380/1380 [==============================] - 216s 156ms/step - loss: 0.0032 - mean_squared_error: 0.1056 - val_loss: 0.0192 - val_mean_squared_error: 0.0055\n",
            "Epoch 63/300\n",
            "1380/1380 [==============================] - 216s 156ms/step - loss: 0.0031 - mean_squared_error: 0.1061 - val_loss: 0.0210 - val_mean_squared_error: 0.0026\n",
            "Epoch 64/300\n",
            "1380/1380 [==============================] - 216s 156ms/step - loss: 0.0031 - mean_squared_error: 0.1061 - val_loss: 0.0197 - val_mean_squared_error: 0.0031\n",
            "Epoch 65/300\n",
            "1380/1380 [==============================] - 216s 156ms/step - loss: 0.0031 - mean_squared_error: 0.1050 - val_loss: 0.0185 - val_mean_squared_error: 0.0883\n",
            "Epoch 66/300\n",
            "1380/1380 [==============================] - 216s 156ms/step - loss: 0.0030 - mean_squared_error: 0.1060 - val_loss: 0.0191 - val_mean_squared_error: 0.1879\n",
            "Epoch 67/300\n",
            "1380/1380 [==============================] - 216s 156ms/step - loss: 0.0030 - mean_squared_error: 0.1065 - val_loss: 0.0184 - val_mean_squared_error: 0.0022\n",
            "Epoch 68/300\n",
            "1380/1380 [==============================] - 216s 156ms/step - loss: 0.0029 - mean_squared_error: 0.1088 - val_loss: 0.0182 - val_mean_squared_error: 0.1428\n",
            "Epoch 69/300\n",
            "1380/1380 [==============================] - 216s 156ms/step - loss: 0.0029 - mean_squared_error: 0.1107 - val_loss: 0.0203 - val_mean_squared_error: 0.0021\n",
            "Epoch 70/300\n",
            "1380/1380 [==============================] - 215s 156ms/step - loss: 0.0028 - mean_squared_error: 0.1097 - val_loss: 0.0185 - val_mean_squared_error: 0.0043\n",
            "Epoch 71/300\n",
            "1380/1380 [==============================] - 215s 156ms/step - loss: 0.0028 - mean_squared_error: 0.1107 - val_loss: 0.0177 - val_mean_squared_error: 0.1911\n",
            "Epoch 72/300\n",
            "1380/1380 [==============================] - 215s 156ms/step - loss: 0.0027 - mean_squared_error: 0.1106 - val_loss: 0.0176 - val_mean_squared_error: 0.0942\n",
            "Epoch 73/300\n",
            "1380/1380 [==============================] - 215s 156ms/step - loss: 0.0027 - mean_squared_error: 0.1107 - val_loss: 0.0208 - val_mean_squared_error: 0.0028\n",
            "Epoch 74/300\n",
            "1380/1380 [==============================] - 215s 156ms/step - loss: 0.0026 - mean_squared_error: 0.1110 - val_loss: 0.0180 - val_mean_squared_error: 0.0049\n",
            "Epoch 75/300\n",
            "1380/1380 [==============================] - 215s 156ms/step - loss: 0.0026 - mean_squared_error: 0.1098 - val_loss: 0.0182 - val_mean_squared_error: 0.2360\n",
            "Epoch 76/300\n",
            "1380/1380 [==============================] - 215s 156ms/step - loss: 0.0026 - mean_squared_error: 0.1113 - val_loss: 0.0200 - val_mean_squared_error: 0.0022\n",
            "Epoch 77/300\n",
            "1380/1380 [==============================] - 215s 156ms/step - loss: 0.0025 - mean_squared_error: 0.1130 - val_loss: 0.0185 - val_mean_squared_error: 0.0022\n",
            "Epoch 78/300\n",
            "1380/1380 [==============================] - 215s 156ms/step - loss: 0.0025 - mean_squared_error: 0.1158 - val_loss: 0.0192 - val_mean_squared_error: 0.0038\n",
            "Epoch 79/300\n",
            "1380/1380 [==============================] - 215s 156ms/step - loss: 0.0025 - mean_squared_error: 0.1154 - val_loss: 0.0183 - val_mean_squared_error: 0.2085\n",
            "Epoch 80/300\n",
            "1380/1380 [==============================] - 217s 157ms/step - loss: 0.0024 - mean_squared_error: 0.1157 - val_loss: 0.0208 - val_mean_squared_error: 0.0025\n",
            "Epoch 81/300\n",
            "1380/1380 [==============================] - 216s 156ms/step - loss: 0.0024 - mean_squared_error: 0.1173 - val_loss: 0.0182 - val_mean_squared_error: 0.0028\n",
            "Epoch 82/300\n",
            "1380/1380 [==============================] - 216s 157ms/step - loss: 0.0024 - mean_squared_error: 0.1179 - val_loss: 0.0179 - val_mean_squared_error: 0.1551\n",
            "Epoch 83/300\n",
            "1380/1380 [==============================] - 216s 157ms/step - loss: 0.0023 - mean_squared_error: 0.1166 - val_loss: 0.0210 - val_mean_squared_error: 0.0022\n",
            "Epoch 84/300\n",
            "1380/1380 [==============================] - 216s 156ms/step - loss: 0.0023 - mean_squared_error: 0.1172 - val_loss: 0.0178 - val_mean_squared_error: 0.1221\n",
            "Epoch 85/300\n",
            "1380/1380 [==============================] - 216s 157ms/step - loss: 0.0024 - mean_squared_error: 0.1165 - val_loss: 0.0187 - val_mean_squared_error: 0.0022\n",
            "Epoch 86/300\n",
            "1380/1380 [==============================] - 216s 157ms/step - loss: 0.0023 - mean_squared_error: 0.1175 - val_loss: 0.0179 - val_mean_squared_error: 0.0026\n",
            "Epoch 87/300\n",
            "1380/1380 [==============================] - 216s 156ms/step - loss: 0.0022 - mean_squared_error: 0.1189 - val_loss: 0.0201 - val_mean_squared_error: 0.0022\n",
            "Epoch 88/300\n",
            "1380/1380 [==============================] - 216s 157ms/step - loss: 0.0022 - mean_squared_error: 0.1195 - val_loss: 0.0197 - val_mean_squared_error: 0.0021\n",
            "Epoch 89/300\n",
            "1380/1380 [==============================] - 216s 157ms/step - loss: 0.0022 - mean_squared_error: 0.1194 - val_loss: 0.0175 - val_mean_squared_error: 0.0748\n",
            "Epoch 90/300\n",
            "1380/1380 [==============================] - 216s 156ms/step - loss: 0.0021 - mean_squared_error: 0.1201 - val_loss: 0.0185 - val_mean_squared_error: 0.2211\n",
            "Epoch 91/300\n",
            "1380/1380 [==============================] - 216s 156ms/step - loss: 0.0021 - mean_squared_error: 0.1207 - val_loss: 0.0195 - val_mean_squared_error: 0.0022\n",
            "Epoch 92/300\n",
            "1380/1380 [==============================] - 216s 156ms/step - loss: 0.0021 - mean_squared_error: 0.1202 - val_loss: 0.0176 - val_mean_squared_error: 0.0043\n",
            "Epoch 93/300\n",
            "1380/1380 [==============================] - 216s 156ms/step - loss: 0.0021 - mean_squared_error: 0.1212 - val_loss: 0.0194 - val_mean_squared_error: 0.0021\n",
            "Epoch 94/300\n",
            "1380/1380 [==============================] - 216s 156ms/step - loss: 0.0021 - mean_squared_error: 0.1214 - val_loss: 0.0199 - val_mean_squared_error: 0.0024\n",
            "Epoch 95/300\n",
            "1380/1380 [==============================] - 216s 156ms/step - loss: 0.0020 - mean_squared_error: 0.1232 - val_loss: 0.0181 - val_mean_squared_error: 0.2271\n",
            "Epoch 96/300\n",
            "1380/1380 [==============================] - 216s 156ms/step - loss: 0.0020 - mean_squared_error: 0.1249 - val_loss: 0.0181 - val_mean_squared_error: 0.0084\n",
            "Epoch 97/300\n",
            "1380/1380 [==============================] - 216s 156ms/step - loss: 0.0020 - mean_squared_error: 0.1237 - val_loss: 0.0185 - val_mean_squared_error: 0.0024\n",
            "Epoch 98/300\n",
            "1380/1380 [==============================] - 216s 157ms/step - loss: 0.0020 - mean_squared_error: 0.1243 - val_loss: 0.0177 - val_mean_squared_error: 0.1772\n",
            "Epoch 99/300\n",
            "1380/1380 [==============================] - 216s 157ms/step - loss: 0.0019 - mean_squared_error: 0.1254 - val_loss: 0.0187 - val_mean_squared_error: 0.0022\n",
            "Epoch 100/300\n",
            "1380/1380 [==============================] - 216s 157ms/step - loss: 0.0019 - mean_squared_error: 0.1247 - val_loss: 0.0180 - val_mean_squared_error: 0.0435\n",
            "Epoch 101/300\n",
            "1380/1380 [==============================] - 216s 157ms/step - loss: 0.0019 - mean_squared_error: 0.1250 - val_loss: 0.0180 - val_mean_squared_error: 0.0034\n",
            "Epoch 102/300\n",
            "1380/1380 [==============================] - 217s 157ms/step - loss: 0.0019 - mean_squared_error: 0.1268 - val_loss: 0.0178 - val_mean_squared_error: 0.0055\n",
            "Epoch 103/300\n",
            "1380/1380 [==============================] - 216s 156ms/step - loss: 0.0019 - mean_squared_error: 0.1264 - val_loss: 0.0210 - val_mean_squared_error: 0.2519\n",
            "Epoch 104/300\n",
            "1380/1380 [==============================] - 216s 157ms/step - loss: 0.0018 - mean_squared_error: 0.1272 - val_loss: 0.0180 - val_mean_squared_error: 0.0034\n",
            "Epoch 105/300\n",
            "1380/1380 [==============================] - 216s 156ms/step - loss: 0.0018 - mean_squared_error: 0.1276 - val_loss: 0.0178 - val_mean_squared_error: 0.0072\n",
            "Epoch 106/300\n",
            "1380/1380 [==============================] - 216s 156ms/step - loss: 0.0018 - mean_squared_error: 0.1293 - val_loss: 0.0174 - val_mean_squared_error: 0.1194\n",
            "Epoch 107/300\n",
            "1380/1380 [==============================] - 216s 156ms/step - loss: 0.0018 - mean_squared_error: 0.1293 - val_loss: 0.0173 - val_mean_squared_error: 0.0025\n",
            "Epoch 108/300\n",
            "1380/1380 [==============================] - 216s 156ms/step - loss: 0.0018 - mean_squared_error: 0.1302 - val_loss: 0.0175 - val_mean_squared_error: 0.1224\n",
            "Epoch 109/300\n",
            "1380/1380 [==============================] - 217s 157ms/step - loss: 0.0017 - mean_squared_error: 0.1329 - val_loss: 0.0174 - val_mean_squared_error: 0.0849\n",
            "Epoch 110/300\n",
            "1380/1380 [==============================] - 216s 157ms/step - loss: 0.0017 - mean_squared_error: 0.1338 - val_loss: 0.0183 - val_mean_squared_error: 0.2245\n",
            "Epoch 111/300\n",
            "1380/1380 [==============================] - 216s 156ms/step - loss: 0.0017 - mean_squared_error: 0.1337 - val_loss: 0.0182 - val_mean_squared_error: 0.0023\n",
            "Epoch 112/300\n",
            "1380/1380 [==============================] - 216s 156ms/step - loss: 0.0017 - mean_squared_error: 0.1328 - val_loss: 0.0194 - val_mean_squared_error: 0.0023\n",
            "Epoch 113/300\n",
            "1380/1380 [==============================] - 216s 156ms/step - loss: 0.0017 - mean_squared_error: 0.1341 - val_loss: 0.0180 - val_mean_squared_error: 0.0019\n",
            "Epoch 114/300\n",
            "1380/1380 [==============================] - 216s 156ms/step - loss: 0.0017 - mean_squared_error: 0.1351 - val_loss: 0.0176 - val_mean_squared_error: 0.1171\n",
            "Epoch 115/300\n",
            "1380/1380 [==============================] - 216s 156ms/step - loss: 0.0016 - mean_squared_error: 0.1347 - val_loss: 0.0194 - val_mean_squared_error: 0.0021\n",
            "Epoch 116/300\n",
            "1380/1380 [==============================] - 216s 157ms/step - loss: 0.0017 - mean_squared_error: 0.1355 - val_loss: 0.0193 - val_mean_squared_error: 0.0026\n",
            "Epoch 117/300\n",
            "1380/1380 [==============================] - 216s 157ms/step - loss: 0.0017 - mean_squared_error: 0.1366 - val_loss: 0.0185 - val_mean_squared_error: 0.0022\n",
            "Epoch 118/300\n",
            "1380/1380 [==============================] - 216s 157ms/step - loss: 0.0016 - mean_squared_error: 0.1362 - val_loss: 0.0199 - val_mean_squared_error: 0.0023\n",
            "Epoch 119/300\n",
            "1380/1380 [==============================] - 216s 157ms/step - loss: 0.0016 - mean_squared_error: 0.1369 - val_loss: 0.0176 - val_mean_squared_error: 0.1822\n",
            "Epoch 120/300\n",
            "1380/1380 [==============================] - 216s 157ms/step - loss: 0.0016 - mean_squared_error: 0.1376 - val_loss: 0.0199 - val_mean_squared_error: 0.0022\n",
            "Epoch 121/300\n",
            "1380/1380 [==============================] - 216s 157ms/step - loss: 0.0016 - mean_squared_error: 0.1392 - val_loss: 0.0179 - val_mean_squared_error: 0.2270\n",
            "Epoch 122/300\n",
            "1380/1380 [==============================] - 216s 157ms/step - loss: 0.0016 - mean_squared_error: 0.1404 - val_loss: 0.0189 - val_mean_squared_error: 0.0022\n",
            "Epoch 123/300\n",
            "1380/1380 [==============================] - 216s 157ms/step - loss: 0.0016 - mean_squared_error: 0.1399 - val_loss: 0.0179 - val_mean_squared_error: 0.0020\n",
            "Epoch 124/300\n",
            "1380/1380 [==============================] - 216s 157ms/step - loss: 0.0015 - mean_squared_error: 0.1400 - val_loss: 0.0177 - val_mean_squared_error: 0.0028\n",
            "Epoch 125/300\n",
            "1380/1380 [==============================] - 216s 157ms/step - loss: 0.0015 - mean_squared_error: 0.1412 - val_loss: 0.0185 - val_mean_squared_error: 0.0023\n",
            "Epoch 126/300\n",
            "1380/1380 [==============================] - 216s 157ms/step - loss: 0.0015 - mean_squared_error: 0.1416 - val_loss: 0.0178 - val_mean_squared_error: 0.0304\n",
            "Epoch 127/300\n",
            "1380/1380 [==============================] - 216s 157ms/step - loss: 0.0015 - mean_squared_error: 0.1405 - val_loss: 0.0179 - val_mean_squared_error: 0.0020\n",
            "Epoch 128/300\n",
            "1380/1380 [==============================] - 216s 157ms/step - loss: 0.0015 - mean_squared_error: 0.1419 - val_loss: 0.0197 - val_mean_squared_error: 0.0024\n",
            "Epoch 129/300\n",
            "1380/1380 [==============================] - 216s 157ms/step - loss: 0.0015 - mean_squared_error: 0.1410 - val_loss: 0.0179 - val_mean_squared_error: 0.0320\n",
            "Epoch 130/300\n",
            "1380/1380 [==============================] - 216s 157ms/step - loss: 0.0015 - mean_squared_error: 0.1418 - val_loss: 0.0180 - val_mean_squared_error: 0.1513\n",
            "Epoch 131/300\n",
            "1380/1380 [==============================] - 216s 157ms/step - loss: 0.0015 - mean_squared_error: 0.1423 - val_loss: 0.0176 - val_mean_squared_error: 0.1242\n",
            "Epoch 132/300\n",
            "1380/1380 [==============================] - 216s 157ms/step - loss: 0.0015 - mean_squared_error: 0.1411 - val_loss: 0.0192 - val_mean_squared_error: 0.0023\n",
            "Epoch 133/300\n",
            "1380/1380 [==============================] - 216s 157ms/step - loss: 0.0014 - mean_squared_error: 0.1417 - val_loss: 0.0179 - val_mean_squared_error: 0.2100\n",
            "Epoch 134/300\n",
            "1380/1380 [==============================] - 216s 157ms/step - loss: 0.0014 - mean_squared_error: 0.1410 - val_loss: 0.0179 - val_mean_squared_error: 0.0062\n",
            "Epoch 135/300\n",
            "1380/1380 [==============================] - 216s 157ms/step - loss: 0.0014 - mean_squared_error: 0.1404 - val_loss: 0.0181 - val_mean_squared_error: 0.2380\n",
            "Epoch 136/300\n",
            "1380/1380 [==============================] - 216s 157ms/step - loss: 0.0014 - mean_squared_error: 0.1414 - val_loss: 0.0192 - val_mean_squared_error: 0.0022\n",
            "Epoch 137/300\n",
            "1380/1380 [==============================] - 216s 157ms/step - loss: 0.0014 - mean_squared_error: 0.1419 - val_loss: 0.0194 - val_mean_squared_error: 0.0023\n"
          ]
        }
      ],
      "source": [
        "history = model.fit(\n",
        "    train_ds,\n",
        "    validation_data=test_ds,\n",
        "    epochs=N_EPOCHS,\n",
        "    batch_size=BATCH_SIZE,\n",
        "    callbacks=callbacks,\n",
        "    verbose=1\n",
        ")\n"
      ]
    },
    {
      "cell_type": "markdown",
      "source": [
        "# Save Model"
      ],
      "metadata": {
        "id": "HT68Jm8AEluI"
      }
    },
    {
      "cell_type": "code",
      "source": [
        "timestamp = datetime.datetime.now().strftime('%b-%d-%I:%M%p')\n",
        "model_path = os.path.join(MODEL_PATH, EXP_NAME)\n",
        "if not os.path.exists(model_path):\n",
        "    os.makedirs(model_path)\n",
        "\n",
        "model.save(os.path.join(model_path, timestamp))"
      ],
      "metadata": {
        "id": "xfUmF_1mEjXH"
      },
      "execution_count": 13,
      "outputs": []
    },
    {
      "cell_type": "markdown",
      "source": [
        "# Save Predictions"
      ],
      "metadata": {
        "id": "-PWi28iOKpXe"
      }
    },
    {
      "cell_type": "code",
      "execution_count": 14,
      "metadata": {
        "colab": {
          "base_uri": "https://localhost:8080/"
        },
        "id": "LLDJf93Z0YxY",
        "outputId": "a4f5ff0b-673c-442d-c5e9-ed7d6b5b988d"
      },
      "outputs": [
        {
          "output_type": "stream",
          "name": "stderr",
          "text": [
            "1656it [00:09, 172.35it/s]\n"
          ]
        }
      ],
      "source": [
        "test_ds_unbatched = test_ds.unbatch()\n",
        "\n",
        "pred_path = os.path.join(PRED_PATH, EXP_NAME, timestamp)\n",
        "if not os.path.exists(pred_path):\n",
        "    os.makedirs(pred_path)\n",
        "\n",
        "for idx, (input, target) in enumerate(tqdm(test_ds_unbatched)):\n",
        "    if not idx % 40 == 0:\n",
        "        continue\n",
        "\n",
        "    prediction = tf.squeeze(\n",
        "        model.predict(\n",
        "            tf.expand_dims(input, axis=0)\n",
        "            )\n",
        "        ).numpy()\n",
        "    prediction[target > 0.9] = 1.0\n",
        "\n",
        "    plt.figure(figsize=(12, 4))\n",
        "    plt.subplot(1, 3, 1)\n",
        "    plt.imshow(input)\n",
        "    plt.axis(\"off\")\n",
        "    plt.title(\"INPUT\")\n",
        "    plt.subplot(1, 3, 2)\n",
        "    plt.imshow(target)\n",
        "    plt.axis(\"off\")\n",
        "    plt.title(\"TARGET\")\n",
        "    plt.subplot(1, 3, 3)\n",
        "    plt.imshow(prediction)\n",
        "    plt.axis(\"off\")\n",
        "    plt.title(\"PREDICTION\")\n",
        "    plt.tight_layout()\n",
        "    plt.savefig(os.path.join(pred_path, f\"{idx}.jpg\"))\n",
        "    plt.close()  \n"
      ]
    },
    {
      "cell_type": "code",
      "source": [],
      "metadata": {
        "id": "dq-aXv2mIwA8"
      },
      "execution_count": 14,
      "outputs": []
    }
  ],
  "metadata": {
    "kernelspec": {
      "display_name": "Python 3.10.6 ('Ai')",
      "language": "python",
      "name": "python3"
    },
    "language_info": {
      "codemirror_mode": {
        "name": "ipython",
        "version": 3
      },
      "file_extension": ".py",
      "mimetype": "text/x-python",
      "name": "python",
      "nbconvert_exporter": "python",
      "pygments_lexer": "ipython3",
      "version": "3.10.6"
    },
    "orig_nbformat": 4,
    "vscode": {
      "interpreter": {
        "hash": "cc12dd51c08fff59e312c49b5273cbf2a12939660509ea1a4d83cd89b0463726"
      }
    },
    "colab": {
      "provenance": [],
      "machine_shape": "hm",
      "include_colab_link": true
    },
    "accelerator": "GPU"
  },
  "nbformat": 4,
  "nbformat_minor": 0
}