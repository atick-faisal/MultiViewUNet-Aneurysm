{
  "cells": [
    {
      "cell_type": "markdown",
      "metadata": {
        "id": "view-in-github",
        "colab_type": "text"
      },
      "source": [
        "<a href=\"https://colab.research.google.com/github/atick-faisal/TAVI/blob/main/src/colab/MultiViewUNet.ipynb\" target=\"_parent\"><img src=\"https://colab.research.google.com/assets/colab-badge.svg\" alt=\"Open In Colab\"/></a>"
      ]
    },
    {
      "cell_type": "markdown",
      "source": [
        "# Google Drive"
      ],
      "metadata": {
        "id": "0estJx3IDzz4"
      }
    },
    {
      "cell_type": "code",
      "source": [
        "from google.colab import drive\n",
        "drive.mount('/content/drive')"
      ],
      "metadata": {
        "colab": {
          "base_uri": "https://localhost:8080/"
        },
        "id": "WsH9ydF7Dwpf",
        "outputId": "2a033d5e-c676-468a-f94f-25b52d9df71d"
      },
      "execution_count": 1,
      "outputs": [
        {
          "output_type": "stream",
          "name": "stdout",
          "text": [
            "Mounted at /content/drive\n"
          ]
        }
      ]
    },
    {
      "cell_type": "markdown",
      "metadata": {
        "id": "MMf8mzRT0YxP"
      },
      "source": [
        "# Download Dataset"
      ]
    },
    {
      "cell_type": "code",
      "execution_count": 2,
      "metadata": {
        "id": "Zm_HJEfM0YxS",
        "outputId": "c33b6bdb-cb01-456e-a76c-88366f8452c0",
        "colab": {
          "base_uri": "https://localhost:8080/"
        }
      },
      "outputs": [
        {
          "output_type": "stream",
          "name": "stdout",
          "text": [
            "Downloading...\n",
            "From: https://drive.google.com/uc?id=1YJk4Px0JLqnxSjbArOY1A1PQNPS6gNNd\n",
            "To: /content/Dataset_v11.zip\n",
            "100% 712M/712M [00:14<00:00, 48.1MB/s]\n"
          ]
        }
      ],
      "source": [
        "!gdown \"1YJk4Px0JLqnxSjbArOY1A1PQNPS6gNNd\"\n",
        "!unzip -o \"Dataset_v11.zip\" > /dev/null\n"
      ]
    },
    {
      "cell_type": "markdown",
      "metadata": {
        "id": "Vemh_spU0YxT"
      },
      "source": [
        "# Imports"
      ]
    },
    {
      "cell_type": "code",
      "execution_count": 3,
      "metadata": {
        "id": "w0KYlE-90YxT"
      },
      "outputs": [],
      "source": [
        "import os\n",
        "import cv2\n",
        "import random\n",
        "import datetime\n",
        "import matplotlib\n",
        "import numpy as np\n",
        "import tensorflow as tf\n",
        "import matplotlib.pyplot as plt\n",
        "\n",
        "from tqdm import tqdm\n",
        "from numpy.typing import NDArray\n",
        "\n",
        "matplotlib.use('Agg')\n",
        "plt.rcParams[\"font.size\"] = 16\n"
      ]
    },
    {
      "cell_type": "markdown",
      "metadata": {
        "id": "vE8WOTRj0YxT"
      },
      "source": [
        "# Config"
      ]
    },
    {
      "cell_type": "code",
      "execution_count": 4,
      "metadata": {
        "id": "O5Vvm79c0YxT"
      },
      "outputs": [],
      "source": [
        "DATASET         = \"v11\"\n",
        "MODEL_NAME      = \"MultiViewUNet\"\n",
        "DATASET_PATH    = \"/content/Images/\"\n",
        "TRAIN_DIR       = \"Train/\"\n",
        "TEST_DIR        = \"Test/\"\n",
        "INPUT_DIR       = \"Input/\"\n",
        "TARGET_DIR      = \"Target/\"\n",
        "MODEL_PATH      = \"/content/drive/MyDrive/Research/TAVI/Models/\"\n",
        "PRED_PATH       = \"/content/drive/MyDrive/Research/TAVI/Predictions/\"\n",
        "\n",
        "IMG_SIZE        = 256\n",
        "BATCH_SIZE      = 8\n",
        "VAL_SPLIT       = 0.2\n",
        "LEARNING_RATE   = 0.001\n",
        "N_EPOCHS        = 300\n",
        "PATIENCE        = 30\n",
        "\n",
        "EXP_NAME        = f\"{MODEL_NAME}_I{IMG_SIZE}_B{BATCH_SIZE}_LR{LEARNING_RATE}_{DATASET}\"\n"
      ]
    },
    {
      "cell_type": "markdown",
      "metadata": {
        "id": "YmMjbvFH0YxU"
      },
      "source": [
        "# Architecture"
      ]
    },
    {
      "cell_type": "code",
      "execution_count": 5,
      "metadata": {
        "id": "xecJpVUs0YxU"
      },
      "outputs": [],
      "source": [
        "class UNet:\n",
        "    def __init__(\n",
        "        self,\n",
        "        img_size: int,\n",
        "        n_channels: int = 3,\n",
        "        width: int = 32,\n",
        "        depth: int = 4,\n",
        "        kernel_size: int = 3\n",
        "    ):\n",
        "        self.img_size = img_size\n",
        "        self.n_channels = n_channels\n",
        "        self.width = width\n",
        "        self.depth = depth\n",
        "        self.kernel_size = kernel_size\n",
        "\n",
        "    @staticmethod\n",
        "    def conv(\n",
        "        x: tf.Tensor,\n",
        "        filters: int,\n",
        "        kernel_size: int\n",
        "    ) -> tf.Tensor:\n",
        "        for i in range(2):\n",
        "            x = tf.keras.layers.Conv2D(\n",
        "                filters=filters,\n",
        "                kernel_size=kernel_size,\n",
        "                strides=1,\n",
        "                padding=\"same\",\n",
        "                data_format=\"channels_last\",\n",
        "                dilation_rate=1,\n",
        "                groups=1,\n",
        "                activation=None,\n",
        "                use_bias=True,\n",
        "                kernel_initializer=\"glorot_uniform\",\n",
        "                bias_initializer=\"zeros\"\n",
        "            )(x)\n",
        "\n",
        "            x = tf.keras.layers.BatchNormalization()(x)\n",
        "            x = tf.keras.layers.Activation(\"relu\")(x)\n",
        "\n",
        "        return x\n",
        "\n",
        "    @staticmethod\n",
        "    def deconv(x: tf.Tensor, filters: int) -> tf.Tensor:\n",
        "        x = tf.keras.layers.Conv2DTranspose(\n",
        "            filters=filters,\n",
        "            kernel_size=2,\n",
        "            strides=2,\n",
        "            padding=\"same\",\n",
        "            output_padding=None,\n",
        "            data_format=None,\n",
        "            dilation_rate=1,\n",
        "            activation=None,\n",
        "            use_bias=True,\n",
        "            kernel_initializer=\"glorot_uniform\",\n",
        "            bias_initializer=\"zeros\"\n",
        "        )(x)\n",
        "\n",
        "        x = tf.keras.layers.BatchNormalization()(x)\n",
        "        x = tf.keras.layers.Activation(\"relu\")(x)\n",
        "\n",
        "        return x\n",
        "\n",
        "    @staticmethod\n",
        "    def output(x: tf.Tensor) -> tf.Tensor:\n",
        "        return tf.keras.layers.Conv2D(3, (1, 1), activation=\"sigmoid\")(x)\n",
        "\n",
        "    @staticmethod\n",
        "    def pool(x: tf.Tensor, pool_size: int = 2) -> tf.Tensor:\n",
        "        return tf.keras.layers.MaxPool2D(pool_size)(x)\n",
        "\n",
        "    def __call__(self) -> tf.keras.Model:\n",
        "        inputs = tf.keras.layers.Input(\n",
        "            shape=(self.img_size, self.img_size, self.n_channels)\n",
        "        )\n",
        "\n",
        "        # scaled = tf.keras.layers.Rescaling(1./255.0, offset=0)(inputs)\n",
        "\n",
        "        # ------------------ Downsampling ---------------------\n",
        "        downsample_layers = []\n",
        "        downsample_layers.append(\n",
        "            self.conv(\n",
        "                x=inputs,\n",
        "                filters=self.width,\n",
        "                kernel_size=self.kernel_size\n",
        "            )\n",
        "        )\n",
        "        for i in range(1, self.depth):\n",
        "            filters = int((2 ** i) * self.width)\n",
        "            downsample_layers.append(\n",
        "                self.pool(\n",
        "                    self.conv(\n",
        "                        x=downsample_layers[i - 1],\n",
        "                        filters=filters,\n",
        "                        kernel_size=self.kernel_size\n",
        "                    )\n",
        "                )\n",
        "            )\n",
        "\n",
        "        # ------------------- Features --------------------\n",
        "        n_features = int((2 ** self.depth) * self.width)\n",
        "        self.features = self.pool(\n",
        "            self.conv(\n",
        "                x=downsample_layers[-1],\n",
        "                filters=n_features,\n",
        "                kernel_size=self.kernel_size\n",
        "            )\n",
        "        )\n",
        "\n",
        "        # ------------------- Upsampling --------------------\n",
        "        upsample_layers = []\n",
        "        upsample_layers.append(self.features)\n",
        "        for i in range(1, self.depth + 1):\n",
        "            filters = int((2 ** (self.depth - i)) * self.width)\n",
        "            upsample_layers.append(\n",
        "                self.conv(\n",
        "                    x=tf.keras.layers.concatenate([\n",
        "                        downsample_layers[self.depth - i],\n",
        "                        self.deconv(\n",
        "                            x=upsample_layers[i - 1],\n",
        "                            filters=filters\n",
        "                        )\n",
        "                    ]),\n",
        "                    filters=filters,\n",
        "                    kernel_size=self.kernel_size\n",
        "                )\n",
        "            )\n",
        "\n",
        "        # ---------------------- Output -----------------------\n",
        "        outputs = self.output(upsample_layers[-1])\n",
        "\n",
        "        return tf.keras.Model(inputs, outputs)\n"
      ]
    },
    {
      "cell_type": "markdown",
      "metadata": {
        "id": "ga47oOoc0YxV"
      },
      "source": [
        "# Loss Functions"
      ]
    },
    {
      "cell_type": "code",
      "execution_count": 6,
      "metadata": {
        "id": "ooE90mpc0YxW"
      },
      "outputs": [],
      "source": [
        "def attention_mse(y_true, y_pred):\n",
        "    _y_true = y_true[y_true != 1.0]\n",
        "    _y_pred = y_pred[y_true != 1.0]\n",
        "    squared_difference = tf.square(_y_true - _y_pred)\n",
        "    return tf.reduce_mean(squared_difference, axis=-1)\n",
        "\n",
        "\n",
        "def attention_mae(y_true, y_pred):\n",
        "    _y_true = y_true[y_true != 1.0]\n",
        "    _y_pred = y_pred[y_true != 1.0]\n",
        "    squared_difference = tf.abs(_y_true - _y_pred)\n",
        "    return tf.reduce_mean(squared_difference, axis=-1)\n"
      ]
    },
    {
      "cell_type": "markdown",
      "metadata": {
        "id": "wOgmHYSJ0YxW"
      },
      "source": [
        "# Utils"
      ]
    },
    {
      "cell_type": "code",
      "execution_count": 7,
      "metadata": {
        "id": "cSrfyX260YxW"
      },
      "outputs": [],
      "source": [
        "def load_data_from_dir(path: str) -> tf.data.Dataset:\n",
        "    return tf.keras.utils.image_dataset_from_directory(\n",
        "        directory=path,\n",
        "        labels=None,\n",
        "        color_mode='rgb',\n",
        "        batch_size=BATCH_SIZE,\n",
        "        image_size=(IMG_SIZE, IMG_SIZE),\n",
        "        shuffle=True,\n",
        "        seed=42,\n",
        "        # validation_split=VAL_SPLIT,\n",
        "        # subset=subset,\n",
        "        interpolation='bilinear',\n",
        "        follow_links=False,\n",
        "        crop_to_aspect_ratio=False\n",
        "    )\n"
      ]
    },
    {
      "cell_type": "markdown",
      "metadata": {
        "id": "CyS-63WI0YxX"
      },
      "source": [
        "# Dataloaders"
      ]
    },
    {
      "cell_type": "code",
      "execution_count": 8,
      "metadata": {
        "id": "71Dxzfkf0YxX",
        "outputId": "3429dc02-2a77-422c-d19b-cbdfcecaa635",
        "colab": {
          "base_uri": "https://localhost:8080/"
        }
      },
      "outputs": [
        {
          "output_type": "stream",
          "name": "stdout",
          "text": [
            "Found 6624 files belonging to 1 classes.\n",
            "Found 6624 files belonging to 1 classes.\n",
            "Found 552 files belonging to 1 classes.\n",
            "Found 552 files belonging to 1 classes.\n",
            "(TensorSpec(shape=(None, 256, 256, 3), dtype=tf.float32, name=None), TensorSpec(shape=(None, 256, 256, 3), dtype=tf.float32, name=None))\n",
            "(TensorSpec(shape=(None, 256, 256, 3), dtype=tf.float32, name=None), TensorSpec(shape=(None, 256, 256, 3), dtype=tf.float32, name=None))\n"
          ]
        }
      ],
      "source": [
        "trainX = load_data_from_dir(os.path.join(DATASET_PATH, TRAIN_DIR, INPUT_DIR))\n",
        "trainY = load_data_from_dir(os.path.join(DATASET_PATH, TRAIN_DIR, TARGET_DIR))\n",
        "testX = load_data_from_dir(os.path.join(DATASET_PATH, TEST_DIR, INPUT_DIR))\n",
        "testY = load_data_from_dir(os.path.join(DATASET_PATH, TEST_DIR, TARGET_DIR))\n",
        "\n",
        "train_ds = tf.data.Dataset.zip((trainX, trainY))\n",
        "test_ds = tf.data.Dataset.zip((testX, testY))\n",
        "\n",
        "print(train_ds.element_spec)\n",
        "print(test_ds.element_spec)\n"
      ]
    },
    {
      "cell_type": "markdown",
      "source": [
        "# Normalization"
      ],
      "metadata": {
        "id": "01HaegmR278r"
      }
    },
    {
      "cell_type": "code",
      "source": [
        "normalization_layer = tf.keras.layers.Rescaling(1./255)\n",
        "train_ds = train_ds.map(lambda x, y: (normalization_layer(x), normalization_layer(y)))\n",
        "test_ds = test_ds.map(lambda x, y: (normalization_layer(x), normalization_layer(y)))"
      ],
      "metadata": {
        "id": "mDeZuH0p26pE"
      },
      "execution_count": 9,
      "outputs": []
    },
    {
      "cell_type": "markdown",
      "metadata": {
        "id": "eHlKefA_0YxX"
      },
      "source": [
        "# Optimization"
      ]
    },
    {
      "cell_type": "code",
      "execution_count": 10,
      "metadata": {
        "id": "U-HMkfOG0YxX"
      },
      "outputs": [],
      "source": [
        "AUTOTUNE = tf.data.AUTOTUNE\n",
        "\n",
        "train_ds = train_ds.cache().prefetch(buffer_size=AUTOTUNE)\n",
        "test_ds = test_ds.cache().prefetch(buffer_size=AUTOTUNE)\n"
      ]
    },
    {
      "cell_type": "markdown",
      "metadata": {
        "id": "w50akeqN0YxX"
      },
      "source": [
        "# Training Config"
      ]
    },
    {
      "cell_type": "code",
      "execution_count": 11,
      "metadata": {
        "id": "2YvF85Wg0YxY"
      },
      "outputs": [],
      "source": [
        "callbacks = [\n",
        "    tf.keras.callbacks.EarlyStopping(\n",
        "        monitor=\"val_loss\",\n",
        "        patience=PATIENCE,\n",
        "        restore_best_weights=True\n",
        "    )\n",
        "]\n",
        "\n",
        "optimizer = tf.keras.optimizers.Adam(\n",
        "    learning_rate=LEARNING_RATE\n",
        ")\n",
        "\n",
        "model = UNet(IMG_SIZE)()\n",
        "\n",
        "model.compile(\n",
        "    loss=attention_mse,\n",
        "    optimizer=optimizer,\n",
        "    metrics=['mean_squared_error']\n",
        ")\n"
      ]
    },
    {
      "cell_type": "markdown",
      "metadata": {
        "id": "XrJPilPI0YxY"
      },
      "source": [
        "# Training"
      ]
    },
    {
      "cell_type": "code",
      "execution_count": 12,
      "metadata": {
        "id": "y_b-8pkT0YxY",
        "outputId": "2ce8521a-bbd5-4daa-8eac-169d7e7fb328",
        "colab": {
          "base_uri": "https://localhost:8080/"
        }
      },
      "outputs": [
        {
          "output_type": "stream",
          "name": "stdout",
          "text": [
            "Epoch 1/300\n",
            "828/828 [==============================] - 278s 312ms/step - loss: 0.0595 - mean_squared_error: 0.1660 - val_loss: 0.0596 - val_mean_squared_error: 0.2317\n",
            "Epoch 2/300\n",
            "828/828 [==============================] - 258s 311ms/step - loss: 0.0528 - mean_squared_error: 0.1746 - val_loss: 0.0616 - val_mean_squared_error: 0.1911\n",
            "Epoch 3/300\n",
            "828/828 [==============================] - 257s 311ms/step - loss: 0.0505 - mean_squared_error: 0.1759 - val_loss: 0.0592 - val_mean_squared_error: 0.3870\n",
            "Epoch 4/300\n",
            "828/828 [==============================] - 257s 311ms/step - loss: 0.0494 - mean_squared_error: 0.1828 - val_loss: 0.0559 - val_mean_squared_error: 0.2119\n",
            "Epoch 5/300\n",
            "828/828 [==============================] - 257s 311ms/step - loss: 0.0487 - mean_squared_error: 0.1918 - val_loss: 0.0505 - val_mean_squared_error: 0.2185\n",
            "Epoch 6/300\n",
            "828/828 [==============================] - 257s 311ms/step - loss: 0.0480 - mean_squared_error: 0.2034 - val_loss: 0.0508 - val_mean_squared_error: 0.1340\n",
            "Epoch 7/300\n",
            "828/828 [==============================] - 257s 311ms/step - loss: 0.0474 - mean_squared_error: 0.2132 - val_loss: 0.0476 - val_mean_squared_error: 0.2333\n",
            "Epoch 8/300\n",
            "828/828 [==============================] - 257s 311ms/step - loss: 0.0468 - mean_squared_error: 0.2219 - val_loss: 0.0463 - val_mean_squared_error: 0.2104\n",
            "Epoch 9/300\n",
            "828/828 [==============================] - 257s 311ms/step - loss: 0.0462 - mean_squared_error: 0.2264 - val_loss: 0.0494 - val_mean_squared_error: 0.2477\n",
            "Epoch 10/300\n",
            "828/828 [==============================] - 258s 311ms/step - loss: 0.0454 - mean_squared_error: 0.2322 - val_loss: 0.0546 - val_mean_squared_error: 0.3007\n",
            "Epoch 11/300\n",
            "828/828 [==============================] - 257s 311ms/step - loss: 0.0446 - mean_squared_error: 0.2335 - val_loss: 0.0535 - val_mean_squared_error: 0.2694\n",
            "Epoch 12/300\n",
            "828/828 [==============================] - 258s 312ms/step - loss: 0.0437 - mean_squared_error: 0.2330 - val_loss: 0.0528 - val_mean_squared_error: 0.2529\n",
            "Epoch 13/300\n",
            "828/828 [==============================] - 257s 311ms/step - loss: 0.0427 - mean_squared_error: 0.2384 - val_loss: 0.0445 - val_mean_squared_error: 0.2454\n",
            "Epoch 14/300\n",
            "828/828 [==============================] - 257s 311ms/step - loss: 0.0415 - mean_squared_error: 0.2421 - val_loss: 0.0592 - val_mean_squared_error: 0.2223\n",
            "Epoch 15/300\n",
            "828/828 [==============================] - 257s 311ms/step - loss: 0.0403 - mean_squared_error: 0.2428 - val_loss: 0.0487 - val_mean_squared_error: 0.2330\n",
            "Epoch 16/300\n",
            "828/828 [==============================] - 258s 311ms/step - loss: 0.0392 - mean_squared_error: 0.2465 - val_loss: 0.0439 - val_mean_squared_error: 0.0743\n",
            "Epoch 17/300\n",
            "828/828 [==============================] - 257s 310ms/step - loss: 0.0381 - mean_squared_error: 0.2549 - val_loss: 0.0496 - val_mean_squared_error: 0.2286\n",
            "Epoch 18/300\n",
            "828/828 [==============================] - 258s 311ms/step - loss: 0.0371 - mean_squared_error: 0.2609 - val_loss: 0.0446 - val_mean_squared_error: 0.2546\n",
            "Epoch 19/300\n",
            "828/828 [==============================] - 257s 311ms/step - loss: 0.0361 - mean_squared_error: 0.2649 - val_loss: 0.0465 - val_mean_squared_error: 0.3299\n",
            "Epoch 20/300\n",
            "828/828 [==============================] - 257s 311ms/step - loss: 0.0353 - mean_squared_error: 0.2699 - val_loss: 0.0521 - val_mean_squared_error: 0.1656\n",
            "Epoch 21/300\n",
            "828/828 [==============================] - 257s 311ms/step - loss: 0.0343 - mean_squared_error: 0.2769 - val_loss: 0.0468 - val_mean_squared_error: 0.2210\n",
            "Epoch 22/300\n",
            "828/828 [==============================] - 257s 310ms/step - loss: 0.0332 - mean_squared_error: 0.2835 - val_loss: 0.0459 - val_mean_squared_error: 0.1595\n",
            "Epoch 23/300\n",
            "828/828 [==============================] - 257s 311ms/step - loss: 0.0326 - mean_squared_error: 0.2918 - val_loss: 0.0467 - val_mean_squared_error: 0.2103\n",
            "Epoch 24/300\n",
            "828/828 [==============================] - 257s 311ms/step - loss: 0.0317 - mean_squared_error: 0.2982 - val_loss: 0.0449 - val_mean_squared_error: 0.2810\n",
            "Epoch 25/300\n",
            "828/828 [==============================] - 257s 311ms/step - loss: 0.0310 - mean_squared_error: 0.3020 - val_loss: 0.0462 - val_mean_squared_error: 0.3100\n",
            "Epoch 26/300\n",
            "828/828 [==============================] - 258s 311ms/step - loss: 0.0303 - mean_squared_error: 0.3083 - val_loss: 0.0445 - val_mean_squared_error: 0.3049\n",
            "Epoch 27/300\n",
            "828/828 [==============================] - 257s 310ms/step - loss: 0.0295 - mean_squared_error: 0.3115 - val_loss: 0.0443 - val_mean_squared_error: 0.3251\n",
            "Epoch 28/300\n",
            "828/828 [==============================] - 257s 311ms/step - loss: 0.0289 - mean_squared_error: 0.3150 - val_loss: 0.0499 - val_mean_squared_error: 0.3328\n",
            "Epoch 29/300\n",
            "828/828 [==============================] - 257s 310ms/step - loss: 0.0279 - mean_squared_error: 0.3185 - val_loss: 0.0426 - val_mean_squared_error: 0.3238\n",
            "Epoch 30/300\n",
            "828/828 [==============================] - 257s 311ms/step - loss: 0.0274 - mean_squared_error: 0.3214 - val_loss: 0.0438 - val_mean_squared_error: 0.3434\n",
            "Epoch 31/300\n",
            "828/828 [==============================] - 258s 311ms/step - loss: 0.0268 - mean_squared_error: 0.3243 - val_loss: 0.0416 - val_mean_squared_error: 0.3460\n",
            "Epoch 32/300\n",
            "828/828 [==============================] - 258s 311ms/step - loss: 0.0259 - mean_squared_error: 0.3304 - val_loss: 0.0434 - val_mean_squared_error: 0.3478\n",
            "Epoch 33/300\n",
            "828/828 [==============================] - 257s 311ms/step - loss: 0.0253 - mean_squared_error: 0.3328 - val_loss: 0.0530 - val_mean_squared_error: 0.3522\n",
            "Epoch 34/300\n",
            "828/828 [==============================] - 257s 311ms/step - loss: 0.0248 - mean_squared_error: 0.3352 - val_loss: 0.0475 - val_mean_squared_error: 0.3551\n",
            "Epoch 35/300\n",
            "828/828 [==============================] - 257s 311ms/step - loss: 0.0239 - mean_squared_error: 0.3379 - val_loss: 0.0425 - val_mean_squared_error: 0.3524\n",
            "Epoch 36/300\n",
            "828/828 [==============================] - 257s 310ms/step - loss: 0.0234 - mean_squared_error: 0.3416 - val_loss: 0.0472 - val_mean_squared_error: 0.3531\n",
            "Epoch 37/300\n",
            "828/828 [==============================] - 258s 311ms/step - loss: 0.0226 - mean_squared_error: 0.3458 - val_loss: 0.0421 - val_mean_squared_error: 0.3392\n",
            "Epoch 38/300\n",
            "828/828 [==============================] - 257s 311ms/step - loss: 0.0220 - mean_squared_error: 0.3499 - val_loss: 0.0418 - val_mean_squared_error: 0.3600\n",
            "Epoch 39/300\n",
            "828/828 [==============================] - 258s 311ms/step - loss: 0.0214 - mean_squared_error: 0.3523 - val_loss: 0.0403 - val_mean_squared_error: 0.3351\n",
            "Epoch 40/300\n",
            "828/828 [==============================] - 258s 312ms/step - loss: 0.0207 - mean_squared_error: 0.3548 - val_loss: 0.0442 - val_mean_squared_error: 0.3662\n",
            "Epoch 41/300\n",
            "828/828 [==============================] - 258s 312ms/step - loss: 0.0202 - mean_squared_error: 0.3572 - val_loss: 0.0407 - val_mean_squared_error: 0.3277\n",
            "Epoch 42/300\n",
            "828/828 [==============================] - 258s 312ms/step - loss: 0.0195 - mean_squared_error: 0.3606 - val_loss: 0.0425 - val_mean_squared_error: 0.3734\n",
            "Epoch 43/300\n",
            "828/828 [==============================] - 258s 311ms/step - loss: 0.0189 - mean_squared_error: 0.3627 - val_loss: 0.0441 - val_mean_squared_error: 0.3435\n",
            "Epoch 44/300\n",
            "828/828 [==============================] - 258s 312ms/step - loss: 0.0183 - mean_squared_error: 0.3668 - val_loss: 0.0431 - val_mean_squared_error: 0.3738\n",
            "Epoch 45/300\n",
            "828/828 [==============================] - 258s 311ms/step - loss: 0.0178 - mean_squared_error: 0.3690 - val_loss: 0.0436 - val_mean_squared_error: 0.3784\n",
            "Epoch 46/300\n",
            "828/828 [==============================] - 258s 311ms/step - loss: 0.0174 - mean_squared_error: 0.3705 - val_loss: 0.0417 - val_mean_squared_error: 0.3772\n",
            "Epoch 47/300\n",
            "828/828 [==============================] - 258s 312ms/step - loss: 0.0168 - mean_squared_error: 0.3711 - val_loss: 0.0420 - val_mean_squared_error: 0.3844\n",
            "Epoch 48/300\n",
            "828/828 [==============================] - 258s 311ms/step - loss: 0.0163 - mean_squared_error: 0.3733 - val_loss: 0.0467 - val_mean_squared_error: 0.3800\n",
            "Epoch 49/300\n",
            "828/828 [==============================] - 258s 311ms/step - loss: 0.0158 - mean_squared_error: 0.3730 - val_loss: 0.0427 - val_mean_squared_error: 0.3645\n",
            "Epoch 50/300\n",
            "828/828 [==============================] - 258s 311ms/step - loss: 0.0154 - mean_squared_error: 0.3724 - val_loss: 0.0440 - val_mean_squared_error: 0.3636\n",
            "Epoch 51/300\n",
            "828/828 [==============================] - 258s 311ms/step - loss: 0.0150 - mean_squared_error: 0.3722 - val_loss: 0.0469 - val_mean_squared_error: 0.3770\n",
            "Epoch 52/300\n",
            "828/828 [==============================] - 258s 311ms/step - loss: 0.0146 - mean_squared_error: 0.3718 - val_loss: 0.0439 - val_mean_squared_error: 0.3845\n",
            "Epoch 53/300\n",
            "828/828 [==============================] - 258s 311ms/step - loss: 0.0141 - mean_squared_error: 0.3721 - val_loss: 0.0416 - val_mean_squared_error: 0.3839\n",
            "Epoch 54/300\n",
            "828/828 [==============================] - 258s 311ms/step - loss: 0.0137 - mean_squared_error: 0.3720 - val_loss: 0.0438 - val_mean_squared_error: 0.3865\n",
            "Epoch 55/300\n",
            "828/828 [==============================] - 258s 311ms/step - loss: 0.0134 - mean_squared_error: 0.3723 - val_loss: 0.0431 - val_mean_squared_error: 0.3914\n",
            "Epoch 56/300\n",
            "828/828 [==============================] - 257s 311ms/step - loss: 0.0132 - mean_squared_error: 0.3717 - val_loss: 0.0422 - val_mean_squared_error: 0.3848\n",
            "Epoch 57/300\n",
            "828/828 [==============================] - 258s 311ms/step - loss: 0.0127 - mean_squared_error: 0.3728 - val_loss: 0.0436 - val_mean_squared_error: 0.3797\n",
            "Epoch 58/300\n",
            "828/828 [==============================] - 258s 311ms/step - loss: 0.0125 - mean_squared_error: 0.3735 - val_loss: 0.0432 - val_mean_squared_error: 0.3862\n",
            "Epoch 59/300\n",
            "828/828 [==============================] - 257s 310ms/step - loss: 0.0124 - mean_squared_error: 0.3740 - val_loss: 0.0430 - val_mean_squared_error: 0.3800\n",
            "Epoch 60/300\n",
            "828/828 [==============================] - 257s 311ms/step - loss: 0.0121 - mean_squared_error: 0.3736 - val_loss: 0.0428 - val_mean_squared_error: 0.3800\n",
            "Epoch 61/300\n",
            "828/828 [==============================] - 257s 310ms/step - loss: 0.0118 - mean_squared_error: 0.3741 - val_loss: 0.0443 - val_mean_squared_error: 0.3851\n",
            "Epoch 62/300\n",
            "828/828 [==============================] - 257s 311ms/step - loss: 0.0117 - mean_squared_error: 0.3758 - val_loss: 0.0441 - val_mean_squared_error: 0.3757\n",
            "Epoch 63/300\n",
            "828/828 [==============================] - 257s 310ms/step - loss: 0.0114 - mean_squared_error: 0.3756 - val_loss: 0.0428 - val_mean_squared_error: 0.3807\n",
            "Epoch 64/300\n",
            "828/828 [==============================] - 257s 310ms/step - loss: 0.0110 - mean_squared_error: 0.3754 - val_loss: 0.0423 - val_mean_squared_error: 0.3805\n",
            "Epoch 65/300\n",
            "828/828 [==============================] - 257s 310ms/step - loss: 0.0108 - mean_squared_error: 0.3767 - val_loss: 0.0439 - val_mean_squared_error: 0.3850\n",
            "Epoch 66/300\n",
            "828/828 [==============================] - 257s 311ms/step - loss: 0.0108 - mean_squared_error: 0.3766 - val_loss: 0.0433 - val_mean_squared_error: 0.3871\n",
            "Epoch 67/300\n",
            "828/828 [==============================] - 257s 310ms/step - loss: 0.0104 - mean_squared_error: 0.3765 - val_loss: 0.0480 - val_mean_squared_error: 0.3673\n",
            "Epoch 68/300\n",
            "828/828 [==============================] - 257s 310ms/step - loss: 0.0102 - mean_squared_error: 0.3780 - val_loss: 0.0420 - val_mean_squared_error: 0.3856\n",
            "Epoch 69/300\n",
            "828/828 [==============================] - 257s 310ms/step - loss: 0.0102 - mean_squared_error: 0.3771 - val_loss: 0.0417 - val_mean_squared_error: 0.3829\n"
          ]
        }
      ],
      "source": [
        "history = model.fit(\n",
        "    train_ds,\n",
        "    validation_data=test_ds,\n",
        "    epochs=N_EPOCHS,\n",
        "    batch_size=BATCH_SIZE,\n",
        "    callbacks=callbacks,\n",
        "    verbose=1\n",
        ")\n"
      ]
    },
    {
      "cell_type": "markdown",
      "source": [
        "# Save Model"
      ],
      "metadata": {
        "id": "HT68Jm8AEluI"
      }
    },
    {
      "cell_type": "code",
      "source": [
        "timestamp = datetime.datetime.now().strftime('%b-%d-%I:%M%p')\n",
        "model_path = os.path.join(MODEL_PATH, EXP_NAME)\n",
        "if not os.path.exists(model_path):\n",
        "    os.makedirs(model_path)\n",
        "\n",
        "model.save(os.path.join(model_path, timestamp))"
      ],
      "metadata": {
        "id": "xfUmF_1mEjXH"
      },
      "execution_count": 13,
      "outputs": []
    },
    {
      "cell_type": "markdown",
      "source": [
        "# Save Predictions"
      ],
      "metadata": {
        "id": "-PWi28iOKpXe"
      }
    },
    {
      "cell_type": "code",
      "execution_count": 14,
      "metadata": {
        "id": "LLDJf93Z0YxY",
        "outputId": "9dff7eb8-0fae-4b1c-c2eb-714874c972cb",
        "colab": {
          "base_uri": "https://localhost:8080/"
        }
      },
      "outputs": [
        {
          "output_type": "stream",
          "name": "stderr",
          "text": [
            "552it [00:05, 109.48it/s]\n"
          ]
        }
      ],
      "source": [
        "test_ds_unbatched = test_ds.unbatch()\n",
        "\n",
        "pred_path = os.path.join(PRED_PATH, EXP_NAME, timestamp)\n",
        "if not os.path.exists(pred_path):\n",
        "    os.makedirs(pred_path)\n",
        "\n",
        "for idx, (input, target) in enumerate(tqdm(test_ds_unbatched)):\n",
        "    if not idx % 40 == 0:\n",
        "        continue\n",
        "\n",
        "    prediction = tf.squeeze(\n",
        "        model.predict(\n",
        "            tf.expand_dims(input, axis=0)\n",
        "            )\n",
        "        ).numpy()\n",
        "    prediction[target == 1.0] = 1.0\n",
        "\n",
        "    plt.figure(figsize=(12, 4))\n",
        "    plt.subplot(1, 3, 1)\n",
        "    plt.imshow(input)\n",
        "    plt.axis(\"off\")\n",
        "    plt.title(\"INPUT\")\n",
        "    plt.subplot(1, 3, 2)\n",
        "    plt.imshow(target)\n",
        "    plt.axis(\"off\")\n",
        "    plt.title(\"TARGET\")\n",
        "    plt.subplot(1, 3, 3)\n",
        "    plt.imshow(prediction)\n",
        "    plt.axis(\"off\")\n",
        "    plt.title(\"PREDICTION\")\n",
        "    plt.tight_layout()\n",
        "    plt.savefig(os.path.join(pred_path, f\"{idx}.png\"))\n",
        "    plt.close()  \n"
      ]
    },
    {
      "cell_type": "code",
      "source": [
        "loss = history.history['loss']\n",
        "val_loss = history.history['val_loss']\n",
        "\n",
        "plt.figure(figsize=(8, 6))\n",
        "plt.plot(loss, label='Training Loss')\n",
        "plt.plot(val_loss, label='Validation Loss')\n",
        "plt.legend(loc='upper right')\n",
        "plt.ylabel('Attention MAE')\n",
        "plt.title('Training and Validation Loss')\n",
        "plt.xlabel('Epoch')\n",
        "plt.tight_layout()\n",
        "plt.savefig(os.path.join(model_path, timestamp + \".png\"))\n",
        "plt.close()"
      ],
      "metadata": {
        "id": "dq-aXv2mIwA8"
      },
      "execution_count": 15,
      "outputs": []
    }
  ],
  "metadata": {
    "kernelspec": {
      "display_name": "Python 3.10.6 ('Ai')",
      "language": "python",
      "name": "python3"
    },
    "language_info": {
      "codemirror_mode": {
        "name": "ipython",
        "version": 3
      },
      "file_extension": ".py",
      "mimetype": "text/x-python",
      "name": "python",
      "nbconvert_exporter": "python",
      "pygments_lexer": "ipython3",
      "version": "3.10.6"
    },
    "orig_nbformat": 4,
    "vscode": {
      "interpreter": {
        "hash": "cc12dd51c08fff59e312c49b5273cbf2a12939660509ea1a4d83cd89b0463726"
      }
    },
    "colab": {
      "provenance": [],
      "machine_shape": "hm",
      "include_colab_link": true
    },
    "accelerator": "GPU",
    "gpuClass": "standard"
  },
  "nbformat": 4,
  "nbformat_minor": 0
}