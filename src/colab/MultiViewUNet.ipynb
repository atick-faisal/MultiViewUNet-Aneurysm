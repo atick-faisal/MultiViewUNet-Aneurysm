{
  "cells": [
    {
      "cell_type": "markdown",
      "metadata": {
        "id": "view-in-github",
        "colab_type": "text"
      },
      "source": [
        "<a href=\"https://colab.research.google.com/github/atick-faisal/TAVI/blob/main/src/colab/MultiViewUNet.ipynb\" target=\"_parent\"><img src=\"https://colab.research.google.com/assets/colab-badge.svg\" alt=\"Open In Colab\"/></a>"
      ]
    },
    {
      "cell_type": "markdown",
      "source": [
        "# Colab Info"
      ],
      "metadata": {
        "id": "UVG0Xo17Xzdk"
      }
    },
    {
      "cell_type": "code",
      "source": [
        "from psutil import virtual_memory\n",
        "\n",
        "gpu_info = !nvidia-smi\n",
        "gpu_info = '\\n'.join(gpu_info)\n",
        "if gpu_info.find('failed') >= 0:\n",
        "  print('Not connected to a GPU')\n",
        "else:\n",
        "  print(gpu_info)\n",
        "\n",
        "\n",
        "ram_gb = virtual_memory().total / 1e9\n",
        "print('Your runtime has {:.1f} gigabytes of available RAM\\n'.format(ram_gb))\n",
        "\n",
        "if ram_gb < 20:\n",
        "  print('Not using a high-RAM runtime')\n",
        "else:\n",
        "  print('You are using a high-RAM runtime!')"
      ],
      "metadata": {
        "id": "ZwwbESaiX2xi",
        "outputId": "0226e2e0-373c-43db-8abc-2c4c3168f239",
        "colab": {
          "base_uri": "https://localhost:8080/"
        }
      },
      "execution_count": 1,
      "outputs": [
        {
          "output_type": "stream",
          "name": "stdout",
          "text": [
            "Sun Nov 27 00:34:50 2022       \n",
            "+-----------------------------------------------------------------------------+\n",
            "| NVIDIA-SMI 460.32.03    Driver Version: 460.32.03    CUDA Version: 11.2     |\n",
            "|-------------------------------+----------------------+----------------------+\n",
            "| GPU  Name        Persistence-M| Bus-Id        Disp.A | Volatile Uncorr. ECC |\n",
            "| Fan  Temp  Perf  Pwr:Usage/Cap|         Memory-Usage | GPU-Util  Compute M. |\n",
            "|                               |                      |               MIG M. |\n",
            "|===============================+======================+======================|\n",
            "|   0  Tesla T4            Off  | 00000000:00:04.0 Off |                    0 |\n",
            "| N/A   36C    P8    12W /  70W |      0MiB / 15109MiB |      0%      Default |\n",
            "|                               |                      |                  N/A |\n",
            "+-------------------------------+----------------------+----------------------+\n",
            "                                                                               \n",
            "+-----------------------------------------------------------------------------+\n",
            "| Processes:                                                                  |\n",
            "|  GPU   GI   CI        PID   Type   Process name                  GPU Memory |\n",
            "|        ID   ID                                                   Usage      |\n",
            "|=============================================================================|\n",
            "|  No running processes found                                                 |\n",
            "+-----------------------------------------------------------------------------+\n",
            "Your runtime has 27.3 gigabytes of available RAM\n",
            "\n",
            "You are using a high-RAM runtime!\n"
          ]
        }
      ]
    },
    {
      "cell_type": "markdown",
      "source": [
        "# Google Drive"
      ],
      "metadata": {
        "id": "0estJx3IDzz4"
      }
    },
    {
      "cell_type": "code",
      "source": [
        "from google.colab import drive\n",
        "drive.mount('/content/drive')"
      ],
      "metadata": {
        "id": "WsH9ydF7Dwpf",
        "outputId": "1fbfcb2a-efa5-4388-e84d-8f56f8bcd18e",
        "colab": {
          "base_uri": "https://localhost:8080/"
        }
      },
      "execution_count": 2,
      "outputs": [
        {
          "output_type": "stream",
          "name": "stdout",
          "text": [
            "Drive already mounted at /content/drive; to attempt to forcibly remount, call drive.mount(\"/content/drive\", force_remount=True).\n"
          ]
        }
      ]
    },
    {
      "cell_type": "markdown",
      "metadata": {
        "id": "MMf8mzRT0YxP"
      },
      "source": [
        "# Download Dataset"
      ]
    },
    {
      "cell_type": "code",
      "source": [
        "!pip install -U --no-cache-dir gdown --pre\n",
        "!pip install image-similarity-measures > /dev/null"
      ],
      "metadata": {
        "id": "UCAzYqWZgbFk",
        "outputId": "783b2b34-c6e2-4e69-db7a-454e56317313",
        "colab": {
          "base_uri": "https://localhost:8080/"
        }
      },
      "execution_count": 3,
      "outputs": [
        {
          "output_type": "stream",
          "name": "stdout",
          "text": [
            "Looking in indexes: https://pypi.org/simple, https://us-python.pkg.dev/colab-wheels/public/simple/\n",
            "Requirement already satisfied: gdown in /usr/local/lib/python3.7/dist-packages (4.4.0)\n",
            "Collecting gdown\n",
            "  Downloading gdown-4.5.4-py3-none-any.whl (14 kB)\n",
            "Requirement already satisfied: requests[socks] in /usr/local/lib/python3.7/dist-packages (from gdown) (2.23.0)\n",
            "Requirement already satisfied: six in /usr/local/lib/python3.7/dist-packages (from gdown) (1.15.0)\n",
            "Requirement already satisfied: beautifulsoup4 in /usr/local/lib/python3.7/dist-packages (from gdown) (4.6.3)\n",
            "Requirement already satisfied: filelock in /usr/local/lib/python3.7/dist-packages (from gdown) (3.8.0)\n",
            "Requirement already satisfied: tqdm in /usr/local/lib/python3.7/dist-packages (from gdown) (4.64.1)\n",
            "Requirement already satisfied: chardet<4,>=3.0.2 in /usr/local/lib/python3.7/dist-packages (from requests[socks]->gdown) (3.0.4)\n",
            "Requirement already satisfied: urllib3!=1.25.0,!=1.25.1,<1.26,>=1.21.1 in /usr/local/lib/python3.7/dist-packages (from requests[socks]->gdown) (1.24.3)\n",
            "Requirement already satisfied: idna<3,>=2.5 in /usr/local/lib/python3.7/dist-packages (from requests[socks]->gdown) (2.10)\n",
            "Requirement already satisfied: certifi>=2017.4.17 in /usr/local/lib/python3.7/dist-packages (from requests[socks]->gdown) (2022.9.24)\n",
            "Requirement already satisfied: PySocks!=1.5.7,>=1.5.6 in /usr/local/lib/python3.7/dist-packages (from requests[socks]->gdown) (1.7.1)\n",
            "Installing collected packages: gdown\n",
            "  Attempting uninstall: gdown\n",
            "    Found existing installation: gdown 4.4.0\n",
            "    Uninstalling gdown-4.4.0:\n",
            "      Successfully uninstalled gdown-4.4.0\n",
            "Successfully installed gdown-4.5.4\n"
          ]
        }
      ]
    },
    {
      "cell_type": "code",
      "execution_count": 4,
      "metadata": {
        "id": "Zm_HJEfM0YxS",
        "outputId": "0e121bd5-65d8-4453-86cb-70c576a8a3c5",
        "colab": {
          "base_uri": "https://localhost:8080/"
        }
      },
      "outputs": [
        {
          "output_type": "stream",
          "name": "stdout",
          "text": [
            "Downloading...\n",
            "From: https://drive.google.com/uc?id=12CxxS2w7mprCnVX9Y_Kiti6vEPbTQW2l\n",
            "To: /content/UNet_2DCNN.py\n",
            "100% 58.6k/58.6k [00:00<00:00, 72.8MB/s]\n",
            "Downloading...\n",
            "From: https://drive.google.com/uc?id=10-sSvDKedHiZhOEp8jTGpiTaFyUngfS-\n",
            "To: /content/CurvToTAWSSJetLog.zip\n",
            "100% 1.29G/1.29G [00:21<00:00, 60.4MB/s]\n"
          ]
        }
      ],
      "source": [
        "!gdown \"12CxxS2w7mprCnVX9Y_Kiti6vEPbTQW2l\"\n",
        "!gdown \"10-sSvDKedHiZhOEp8jTGpiTaFyUngfS-\"\n",
        "!unzip -o \"CurvToTAWSSJetLog.zip\" > /dev/null\n"
      ]
    },
    {
      "cell_type": "markdown",
      "metadata": {
        "id": "Vemh_spU0YxT"
      },
      "source": [
        "# Imports"
      ]
    },
    {
      "cell_type": "code",
      "execution_count": 5,
      "metadata": {
        "id": "w0KYlE-90YxT"
      },
      "outputs": [],
      "source": [
        "import os\n",
        "import cv2\n",
        "import random\n",
        "import datetime\n",
        "import matplotlib\n",
        "import numpy as np\n",
        "import pandas as pd\n",
        "import tensorflow as tf\n",
        "import matplotlib.pyplot as plt\n",
        "\n",
        "from tqdm import tqdm\n",
        "from numpy.typing import NDArray\n",
        "from UNet_2DCNN import UNet as UNetSakib\n",
        "# from image_similarity_measures.quality_metrics import *\n",
        "\n",
        "matplotlib.use('Agg')\n",
        "plt.rcParams[\"font.size\"] = 16\n"
      ]
    },
    {
      "cell_type": "markdown",
      "metadata": {
        "id": "vE8WOTRj0YxT"
      },
      "source": [
        "# Config"
      ]
    },
    {
      "cell_type": "code",
      "execution_count": 6,
      "metadata": {
        "id": "O5Vvm79c0YxT"
      },
      "outputs": [],
      "source": [
        "DATASET         = \"CurvToTAWSSJetLog\"\n",
        "MODEL_NAME      = \"MultiviewUNet_4_32\"\n",
        "DATASET_PATH    = \"/content/Images/\"\n",
        "TRAIN_DIR       = \"Train/\"\n",
        "TEST_DIR        = \"Test/\"\n",
        "INPUT_DIR       = \"Input/\"\n",
        "TARGET_DIR      = \"Target/\"\n",
        "MODEL_PATH      = \"/content/drive/MyDrive/Research/TAVI/Models/\"\n",
        "PRED_PATH       = \"/content/drive/MyDrive/Research/TAVI/Predictions/\"\n",
        "\n",
        "IMG_SIZE        = 256\n",
        "BATCH_SIZE      = 16\n",
        "BUFFER_SIZE     = 1000\n",
        "VAL_SPLIT       = 0.2\n",
        "LEARNING_RATE   = 0.001\n",
        "N_EPOCHS        = 300\n",
        "PATIENCE        = 30\n",
        "\n",
        "EXP_NAME        = f\"{MODEL_NAME}_I{IMG_SIZE}_B{BATCH_SIZE}_LR{LEARNING_RATE}_{DATASET}\"\n"
      ]
    },
    {
      "cell_type": "markdown",
      "metadata": {
        "id": "YmMjbvFH0YxU"
      },
      "source": [
        "# Architecture"
      ]
    },
    {
      "cell_type": "code",
      "execution_count": 7,
      "metadata": {
        "id": "xecJpVUs0YxU"
      },
      "outputs": [],
      "source": [
        "class UNet:\n",
        "    def __init__(\n",
        "        self,\n",
        "        img_size: int,\n",
        "        n_channels: int = 3,\n",
        "        width: int = 32,\n",
        "        depth: int = 4,\n",
        "        kernel_size: int = 3\n",
        "    ):\n",
        "        self.img_size = img_size\n",
        "        self.n_channels = n_channels\n",
        "        self.width = width\n",
        "        self.depth = depth\n",
        "        self.kernel_size = kernel_size\n",
        "\n",
        "    @staticmethod\n",
        "    def conv(\n",
        "        x: tf.Tensor,\n",
        "        filters: int,\n",
        "        kernel_size: int\n",
        "    ) -> tf.Tensor:\n",
        "        for i in range(2):\n",
        "            x = tf.keras.layers.Conv2D(\n",
        "                filters=filters,\n",
        "                kernel_size=kernel_size,\n",
        "                strides=1,\n",
        "                padding=\"same\",\n",
        "                data_format=\"channels_last\",\n",
        "                dilation_rate=1,\n",
        "                groups=1,\n",
        "                activation=None,\n",
        "                use_bias=True,\n",
        "                kernel_initializer=\"glorot_uniform\",\n",
        "                bias_initializer=\"zeros\"\n",
        "            )(x)\n",
        "\n",
        "            x = tf.keras.layers.BatchNormalization()(x)\n",
        "            x = tf.keras.layers.Activation(\"relu\")(x)\n",
        "\n",
        "        return x\n",
        "\n",
        "    @staticmethod\n",
        "    def deconv(x: tf.Tensor, filters: int) -> tf.Tensor:\n",
        "        x = tf.keras.layers.Conv2DTranspose(\n",
        "            filters=filters,\n",
        "            kernel_size=2,\n",
        "            strides=2,\n",
        "            padding=\"same\",\n",
        "            output_padding=None,\n",
        "            data_format=None,\n",
        "            dilation_rate=1,\n",
        "            activation=None,\n",
        "            use_bias=True,\n",
        "            kernel_initializer=\"glorot_uniform\",\n",
        "            bias_initializer=\"zeros\"\n",
        "        )(x)\n",
        "\n",
        "        x = tf.keras.layers.BatchNormalization()(x)\n",
        "        x = tf.keras.layers.Activation(\"relu\")(x)\n",
        "\n",
        "        return x\n",
        "\n",
        "    @staticmethod\n",
        "    def output(x: tf.Tensor) -> tf.Tensor:\n",
        "        return tf.keras.layers.Conv2D(3, (1, 1), activation=\"sigmoid\")(x)\n",
        "\n",
        "    @staticmethod\n",
        "    def pool(x: tf.Tensor, pool_size: int = 2) -> tf.Tensor:\n",
        "        return tf.keras.layers.MaxPool2D(pool_size)(x)\n",
        "\n",
        "    def __call__(self) -> tf.keras.Model:\n",
        "        inputs = tf.keras.layers.Input(\n",
        "            shape=(self.img_size, self.img_size, self.n_channels)\n",
        "        )\n",
        "\n",
        "        # scaled = tf.keras.layers.Rescaling(1./255.0, offset=0)(inputs)\n",
        "\n",
        "        # ------------------ Downsampling ---------------------\n",
        "        downsample_layers = []\n",
        "        downsample_layers.append(\n",
        "            self.conv(\n",
        "                x=inputs,\n",
        "                filters=self.width,\n",
        "                kernel_size=self.kernel_size\n",
        "            )\n",
        "        )\n",
        "        for i in range(1, self.depth):\n",
        "            filters = int((2 ** i) * self.width)\n",
        "            downsample_layers.append(\n",
        "                self.pool(\n",
        "                    self.conv(\n",
        "                        x=downsample_layers[i - 1],\n",
        "                        filters=filters,\n",
        "                        kernel_size=self.kernel_size\n",
        "                    )\n",
        "                )\n",
        "            )\n",
        "\n",
        "        # ------------------- Features --------------------\n",
        "        n_features = int((2 ** self.depth) * self.width)\n",
        "        self.features = self.pool(\n",
        "            self.conv(\n",
        "                x=downsample_layers[-1],\n",
        "                filters=n_features,\n",
        "                kernel_size=self.kernel_size\n",
        "            )\n",
        "        )\n",
        "\n",
        "        # ------------------- Upsampling --------------------\n",
        "        upsample_layers = []\n",
        "        upsample_layers.append(self.features)\n",
        "        for i in range(1, self.depth + 1):\n",
        "            filters = int((2 ** (self.depth - i)) * self.width)\n",
        "            upsample_layers.append(\n",
        "                self.conv(\n",
        "                    x=tf.keras.layers.concatenate([\n",
        "                        downsample_layers[self.depth - i],\n",
        "                        self.deconv(\n",
        "                            x=upsample_layers[i - 1],\n",
        "                            filters=filters\n",
        "                        )\n",
        "                    ]),\n",
        "                    filters=filters,\n",
        "                    kernel_size=self.kernel_size\n",
        "                )\n",
        "            )\n",
        "\n",
        "        # ---------------------- Output -----------------------\n",
        "        outputs = self.output(upsample_layers[-1])\n",
        "\n",
        "        return tf.keras.Model(inputs, outputs)\n"
      ]
    },
    {
      "cell_type": "markdown",
      "metadata": {
        "id": "ga47oOoc0YxV"
      },
      "source": [
        "# Loss Functions"
      ]
    },
    {
      "cell_type": "code",
      "execution_count": 8,
      "metadata": {
        "id": "ooE90mpc0YxW"
      },
      "outputs": [],
      "source": [
        "def attention_mse(y_true, y_pred):\n",
        "    _y_true = y_true[y_true != 1.0]\n",
        "    _y_pred = y_pred[y_true != 1.0]\n",
        "    squared_difference = tf.square(_y_true - _y_pred)\n",
        "    return tf.reduce_mean(squared_difference, axis=-1)\n",
        "\n",
        "\n",
        "def attention_mae(y_true, y_pred):\n",
        "    _y_true = y_true[y_true != 1.0]\n",
        "    _y_pred = y_pred[y_true != 1.0]\n",
        "    squared_difference = tf.abs(_y_true - _y_pred)\n",
        "    return tf.reduce_mean(squared_difference, axis=-1)\n"
      ]
    },
    {
      "cell_type": "markdown",
      "metadata": {
        "id": "wOgmHYSJ0YxW"
      },
      "source": [
        "# Utils"
      ]
    },
    {
      "cell_type": "code",
      "execution_count": 9,
      "metadata": {
        "id": "cSrfyX260YxW"
      },
      "outputs": [],
      "source": [
        "def load_data_from_dir(path: str) -> tf.data.Dataset:\n",
        "    return tf.keras.utils.image_dataset_from_directory(\n",
        "        directory=path,\n",
        "        labels=None,\n",
        "        color_mode='rgb',\n",
        "        batch_size=BATCH_SIZE,\n",
        "        image_size=(IMG_SIZE, IMG_SIZE),\n",
        "        shuffle=True,\n",
        "        seed=42,\n",
        "        # validation_split=VAL_SPLIT,\n",
        "        # subset=subset,\n",
        "        interpolation='bilinear',\n",
        "        follow_links=False,\n",
        "        crop_to_aspect_ratio=False\n",
        "    )\n"
      ]
    },
    {
      "cell_type": "markdown",
      "metadata": {
        "id": "CyS-63WI0YxX"
      },
      "source": [
        "# Dataloaders"
      ]
    },
    {
      "cell_type": "code",
      "execution_count": 10,
      "metadata": {
        "id": "71Dxzfkf0YxX",
        "outputId": "15ce520f-08fb-475d-a919-062c511095fe",
        "colab": {
          "base_uri": "https://localhost:8080/"
        }
      },
      "outputs": [
        {
          "output_type": "stream",
          "name": "stdout",
          "text": [
            "Found 8208 files belonging to 1 classes.\n",
            "Found 8208 files belonging to 1 classes.\n",
            "Found 312 files belonging to 1 classes.\n",
            "Found 312 files belonging to 1 classes.\n",
            "(TensorSpec(shape=(None, 256, 256, 3), dtype=tf.float32, name=None), TensorSpec(shape=(None, 256, 256, 3), dtype=tf.float32, name=None))\n",
            "(TensorSpec(shape=(None, 256, 256, 3), dtype=tf.float32, name=None), TensorSpec(shape=(None, 256, 256, 3), dtype=tf.float32, name=None))\n"
          ]
        }
      ],
      "source": [
        "trainX = load_data_from_dir(os.path.join(DATASET_PATH, TRAIN_DIR, INPUT_DIR))\n",
        "trainY = load_data_from_dir(os.path.join(DATASET_PATH, TRAIN_DIR, TARGET_DIR))\n",
        "testX = load_data_from_dir(os.path.join(DATASET_PATH, TEST_DIR, INPUT_DIR))\n",
        "testY = load_data_from_dir(os.path.join(DATASET_PATH, TEST_DIR, TARGET_DIR))\n",
        "\n",
        "train_ds = tf.data.Dataset.zip((trainX, trainY))\n",
        "test_ds = tf.data.Dataset.zip((testX, testY))\n",
        "\n",
        "print(train_ds.element_spec)\n",
        "print(test_ds.element_spec)\n"
      ]
    },
    {
      "cell_type": "markdown",
      "source": [
        "# Normalization"
      ],
      "metadata": {
        "id": "01HaegmR278r"
      }
    },
    {
      "cell_type": "code",
      "source": [
        "# def normalize(input_image, output_image):\n",
        "#     input_image = tf.cast(input_image, tf.float32) / 255.0\n",
        "#     output_image = tf.cast(input_image, tf.float32) / 255.0\n",
        "#     return input_image, output_image"
      ],
      "metadata": {
        "id": "E1oi3-RTqZV1"
      },
      "execution_count": 11,
      "outputs": []
    },
    {
      "cell_type": "code",
      "source": [
        "normalization_layer = tf.keras.layers.Rescaling(1./255)\n",
        "train_ds = train_ds.map(lambda x, y: (normalization_layer(x), normalization_layer(y)))\n",
        "test_ds = test_ds.map(lambda x, y: (normalization_layer(x), normalization_layer(y)))"
      ],
      "metadata": {
        "id": "mDeZuH0p26pE"
      },
      "execution_count": 12,
      "outputs": []
    },
    {
      "cell_type": "markdown",
      "source": [
        "# Augmentation"
      ],
      "metadata": {
        "id": "tySOuC8Hqvdm"
      }
    },
    {
      "cell_type": "code",
      "source": [
        "class Augment(tf.keras.layers.Layer):\n",
        "    def __init__(self, seed=42):\n",
        "        super().__init__()\n",
        "        # both use the same seed, so they'll make the same random changes.\n",
        "        self.augment_inputs = tf.keras.layers.RandomZoom((-0.1, -0.7), seed=seed)\n",
        "        self.augment_labels = tf.keras.layers.RandomZoom((-0.1, -0.7), seed=seed)\n",
        "\n",
        "    def call(self, inputs, labels):\n",
        "        inputs = self.augment_inputs(inputs)\n",
        "        labels = self.augment_labels(labels)\n",
        "        return inputs, labels"
      ],
      "metadata": {
        "id": "OHQFZ9kKqu6f"
      },
      "execution_count": 13,
      "outputs": []
    },
    {
      "cell_type": "markdown",
      "metadata": {
        "id": "eHlKefA_0YxX"
      },
      "source": [
        "# Optimization"
      ]
    },
    {
      "cell_type": "code",
      "execution_count": 14,
      "metadata": {
        "id": "U-HMkfOG0YxX"
      },
      "outputs": [],
      "source": [
        "AUTOTUNE = tf.data.AUTOTUNE\n",
        "\n",
        "train_batches = (\n",
        "    train_ds\n",
        "    .cache()\n",
        "    # .shuffle(BUFFER_SIZE)\n",
        "    # .batch(BATCH_SIZE)\n",
        "    # .repeat()\n",
        "    .map(Augment())\n",
        "    .prefetch(buffer_size=AUTOTUNE)\n",
        ")\n",
        "\n",
        "test_batches = (test_ds)\n"
      ]
    },
    {
      "cell_type": "markdown",
      "metadata": {
        "id": "w50akeqN0YxX"
      },
      "source": [
        "# Training Config"
      ]
    },
    {
      "cell_type": "code",
      "execution_count": 15,
      "metadata": {
        "id": "2YvF85Wg0YxY"
      },
      "outputs": [],
      "source": [
        "callbacks = [\n",
        "    tf.keras.callbacks.EarlyStopping(\n",
        "        monitor=\"val_loss\",\n",
        "        patience=PATIENCE,\n",
        "        restore_best_weights=True\n",
        "    )\n",
        "]\n",
        "\n",
        "optimizer = tf.keras.optimizers.Adam(\n",
        "    learning_rate=LEARNING_RATE\n",
        ")\n",
        "\n",
        "model = UNet(IMG_SIZE)()\n",
        "# model = MobileUNet(IMG_SIZE)()\n",
        "# model = UNetSakib(\n",
        "#     length=IMG_SIZE, \n",
        "#     width=IMG_SIZE, \n",
        "#     model_depth=4, \n",
        "#     num_channel=3, \n",
        "#     model_width=32, \n",
        "#     kernel_size=3, \n",
        "#     problem_type='Regression',\n",
        "#     output_nums=3, \n",
        "#     ds=0, \n",
        "#     ae=0, \n",
        "#     ag=0, \n",
        "#     lstm=0, \n",
        "#     alpha=1, \n",
        "#     feature_number=1024, \n",
        "#     is_transconv=True\n",
        "# ).UNet4P()\n",
        "\n",
        "model.compile(\n",
        "    loss=attention_mse,\n",
        "    optimizer=optimizer,\n",
        "    metrics=[attention_mae]\n",
        ")\n"
      ]
    },
    {
      "cell_type": "markdown",
      "metadata": {
        "id": "XrJPilPI0YxY"
      },
      "source": [
        "# Training"
      ]
    },
    {
      "cell_type": "code",
      "execution_count": 16,
      "metadata": {
        "id": "y_b-8pkT0YxY",
        "outputId": "ca617b1f-afcc-46e6-8ca2-de3e2a53ef6d",
        "colab": {
          "base_uri": "https://localhost:8080/"
        }
      },
      "outputs": [
        {
          "output_type": "stream",
          "name": "stdout",
          "text": [
            "Epoch 1/300\n",
            "513/513 [==============================] - 304s 553ms/step - loss: 0.0370 - attention_mae: 0.1382 - val_loss: 0.4691 - val_attention_mae: 0.6212\n",
            "Epoch 2/300\n",
            "513/513 [==============================] - 286s 557ms/step - loss: 0.0309 - attention_mae: 0.1244 - val_loss: 0.0294 - val_attention_mae: 0.1135\n",
            "Epoch 3/300\n",
            "513/513 [==============================] - 286s 557ms/step - loss: 0.0289 - attention_mae: 0.1192 - val_loss: 0.2004 - val_attention_mae: 0.3906\n",
            "Epoch 4/300\n",
            "513/513 [==============================] - 286s 557ms/step - loss: 0.0276 - attention_mae: 0.1156 - val_loss: 0.0799 - val_attention_mae: 0.2336\n",
            "Epoch 5/300\n",
            "513/513 [==============================] - 285s 556ms/step - loss: 0.0268 - attention_mae: 0.1134 - val_loss: 0.1612 - val_attention_mae: 0.3437\n",
            "Epoch 6/300\n",
            "513/513 [==============================] - 286s 557ms/step - loss: 0.0258 - attention_mae: 0.1106 - val_loss: 0.0245 - val_attention_mae: 0.1096\n",
            "Epoch 7/300\n",
            "513/513 [==============================] - 286s 557ms/step - loss: 0.0252 - attention_mae: 0.1089 - val_loss: 0.0253 - val_attention_mae: 0.1128\n",
            "Epoch 8/300\n",
            "513/513 [==============================] - 286s 557ms/step - loss: 0.0249 - attention_mae: 0.1079 - val_loss: 0.1385 - val_attention_mae: 0.3143\n",
            "Epoch 9/300\n",
            "513/513 [==============================] - 286s 557ms/step - loss: 0.0243 - attention_mae: 0.1062 - val_loss: 0.0228 - val_attention_mae: 0.0976\n",
            "Epoch 10/300\n",
            "513/513 [==============================] - 285s 556ms/step - loss: 0.0235 - attention_mae: 0.1040 - val_loss: 0.0209 - val_attention_mae: 0.1000\n",
            "Epoch 11/300\n",
            "513/513 [==============================] - 285s 556ms/step - loss: 0.0234 - attention_mae: 0.1037 - val_loss: 0.0235 - val_attention_mae: 0.1019\n",
            "Epoch 12/300\n",
            "513/513 [==============================] - 285s 556ms/step - loss: 0.0227 - attention_mae: 0.1015 - val_loss: 0.0219 - val_attention_mae: 0.0953\n",
            "Epoch 13/300\n",
            "513/513 [==============================] - 285s 556ms/step - loss: 0.0223 - attention_mae: 0.1002 - val_loss: 0.0396 - val_attention_mae: 0.1548\n",
            "Epoch 14/300\n",
            "513/513 [==============================] - 285s 556ms/step - loss: 0.0220 - attention_mae: 0.0992 - val_loss: 0.0250 - val_attention_mae: 0.0987\n",
            "Epoch 15/300\n",
            "513/513 [==============================] - 285s 556ms/step - loss: 0.0217 - attention_mae: 0.0985 - val_loss: 0.0226 - val_attention_mae: 0.0929\n",
            "Epoch 16/300\n",
            "513/513 [==============================] - 285s 556ms/step - loss: 0.0212 - attention_mae: 0.0968 - val_loss: 0.0192 - val_attention_mae: 0.0896\n",
            "Epoch 17/300\n",
            "513/513 [==============================] - 285s 556ms/step - loss: 0.0209 - attention_mae: 0.0960 - val_loss: 0.0299 - val_attention_mae: 0.1297\n",
            "Epoch 18/300\n",
            "513/513 [==============================] - 286s 557ms/step - loss: 0.0207 - attention_mae: 0.0955 - val_loss: 0.0203 - val_attention_mae: 0.0895\n",
            "Epoch 19/300\n",
            "513/513 [==============================] - 286s 557ms/step - loss: 0.0199 - attention_mae: 0.0932 - val_loss: 0.0251 - val_attention_mae: 0.0951\n",
            "Epoch 20/300\n",
            "513/513 [==============================] - 286s 557ms/step - loss: 0.0198 - attention_mae: 0.0927 - val_loss: 0.0227 - val_attention_mae: 0.0913\n",
            "Epoch 21/300\n",
            "513/513 [==============================] - 285s 556ms/step - loss: 0.0195 - attention_mae: 0.0919 - val_loss: 0.0195 - val_attention_mae: 0.0868\n",
            "Epoch 22/300\n",
            "513/513 [==============================] - 285s 556ms/step - loss: 0.0192 - attention_mae: 0.0911 - val_loss: 0.0184 - val_attention_mae: 0.0844\n",
            "Epoch 23/300\n",
            "513/513 [==============================] - 286s 557ms/step - loss: 0.0188 - attention_mae: 0.0897 - val_loss: 0.0228 - val_attention_mae: 0.0901\n",
            "Epoch 24/300\n",
            "513/513 [==============================] - 285s 556ms/step - loss: 0.0187 - attention_mae: 0.0891 - val_loss: 0.0172 - val_attention_mae: 0.0804\n",
            "Epoch 25/300\n",
            "513/513 [==============================] - 285s 556ms/step - loss: 0.0184 - attention_mae: 0.0883 - val_loss: 0.0161 - val_attention_mae: 0.0799\n",
            "Epoch 26/300\n",
            "513/513 [==============================] - 286s 556ms/step - loss: 0.0178 - attention_mae: 0.0868 - val_loss: 0.0187 - val_attention_mae: 0.0845\n",
            "Epoch 27/300\n",
            "513/513 [==============================] - 285s 556ms/step - loss: 0.0178 - attention_mae: 0.0865 - val_loss: 0.0255 - val_attention_mae: 0.1129\n",
            "Epoch 28/300\n",
            "513/513 [==============================] - 286s 557ms/step - loss: 0.0177 - attention_mae: 0.0860 - val_loss: 0.0160 - val_attention_mae: 0.0798\n",
            "Epoch 29/300\n",
            "513/513 [==============================] - 285s 556ms/step - loss: 0.0170 - attention_mae: 0.0839 - val_loss: 0.0313 - val_attention_mae: 0.1285\n",
            "Epoch 30/300\n",
            "513/513 [==============================] - 286s 556ms/step - loss: 0.0169 - attention_mae: 0.0835 - val_loss: 0.0155 - val_attention_mae: 0.0779\n",
            "Epoch 31/300\n",
            "513/513 [==============================] - 286s 556ms/step - loss: 0.0166 - attention_mae: 0.0826 - val_loss: 0.0161 - val_attention_mae: 0.0784\n",
            "Epoch 32/300\n",
            "513/513 [==============================] - 285s 556ms/step - loss: 0.0163 - attention_mae: 0.0818 - val_loss: 0.0167 - val_attention_mae: 0.0839\n",
            "Epoch 33/300\n",
            "513/513 [==============================] - 285s 556ms/step - loss: 0.0162 - attention_mae: 0.0812 - val_loss: 0.0164 - val_attention_mae: 0.0813\n",
            "Epoch 34/300\n",
            "513/513 [==============================] - 285s 555ms/step - loss: 0.0158 - attention_mae: 0.0803 - val_loss: 0.0264 - val_attention_mae: 0.1116\n",
            "Epoch 35/300\n",
            "513/513 [==============================] - 285s 556ms/step - loss: 0.0155 - attention_mae: 0.0794 - val_loss: 0.0182 - val_attention_mae: 0.0810\n",
            "Epoch 36/300\n",
            "513/513 [==============================] - 285s 555ms/step - loss: 0.0151 - attention_mae: 0.0782 - val_loss: 0.0181 - val_attention_mae: 0.0805\n",
            "Epoch 37/300\n",
            "513/513 [==============================] - 285s 555ms/step - loss: 0.0150 - attention_mae: 0.0776 - val_loss: 0.0209 - val_attention_mae: 0.0844\n",
            "Epoch 38/300\n",
            "513/513 [==============================] - 285s 556ms/step - loss: 0.0149 - attention_mae: 0.0775 - val_loss: 0.0162 - val_attention_mae: 0.0803\n",
            "Epoch 39/300\n",
            "513/513 [==============================] - 285s 556ms/step - loss: 0.0144 - attention_mae: 0.0761 - val_loss: 0.0189 - val_attention_mae: 0.0876\n",
            "Epoch 40/300\n",
            "513/513 [==============================] - 285s 556ms/step - loss: 0.0144 - attention_mae: 0.0758 - val_loss: 0.0153 - val_attention_mae: 0.0762\n",
            "Epoch 41/300\n",
            "513/513 [==============================] - 285s 556ms/step - loss: 0.0140 - attention_mae: 0.0747 - val_loss: 0.0144 - val_attention_mae: 0.0741\n",
            "Epoch 42/300\n",
            "513/513 [==============================] - 285s 556ms/step - loss: 0.0137 - attention_mae: 0.0735 - val_loss: 0.0135 - val_attention_mae: 0.0708\n",
            "Epoch 43/300\n",
            "513/513 [==============================] - 285s 556ms/step - loss: 0.0134 - attention_mae: 0.0728 - val_loss: 0.0136 - val_attention_mae: 0.0709\n",
            "Epoch 44/300\n",
            "513/513 [==============================] - 285s 556ms/step - loss: 0.0132 - attention_mae: 0.0721 - val_loss: 0.0141 - val_attention_mae: 0.0702\n",
            "Epoch 45/300\n",
            "513/513 [==============================] - 285s 556ms/step - loss: 0.0130 - attention_mae: 0.0714 - val_loss: 0.0202 - val_attention_mae: 0.0930\n",
            "Epoch 46/300\n",
            "513/513 [==============================] - 285s 556ms/step - loss: 0.0127 - attention_mae: 0.0703 - val_loss: 0.0146 - val_attention_mae: 0.0709\n",
            "Epoch 47/300\n",
            "513/513 [==============================] - 286s 557ms/step - loss: 0.0125 - attention_mae: 0.0698 - val_loss: 0.0153 - val_attention_mae: 0.0760\n",
            "Epoch 48/300\n",
            "513/513 [==============================] - 285s 556ms/step - loss: 0.0123 - attention_mae: 0.0692 - val_loss: 0.0141 - val_attention_mae: 0.0701\n",
            "Epoch 49/300\n",
            "513/513 [==============================] - 286s 556ms/step - loss: 0.0121 - attention_mae: 0.0685 - val_loss: 0.0154 - val_attention_mae: 0.0722\n",
            "Epoch 50/300\n",
            "513/513 [==============================] - 285s 556ms/step - loss: 0.0119 - attention_mae: 0.0677 - val_loss: 0.0170 - val_attention_mae: 0.0766\n",
            "Epoch 51/300\n",
            "513/513 [==============================] - 285s 556ms/step - loss: 0.0119 - attention_mae: 0.0677 - val_loss: 0.0154 - val_attention_mae: 0.0755\n",
            "Epoch 52/300\n",
            "513/513 [==============================] - 285s 555ms/step - loss: 0.0113 - attention_mae: 0.0660 - val_loss: 0.0168 - val_attention_mae: 0.0761\n",
            "Epoch 53/300\n",
            "513/513 [==============================] - 285s 555ms/step - loss: 0.0113 - attention_mae: 0.0656 - val_loss: 0.0165 - val_attention_mae: 0.0747\n",
            "Epoch 54/300\n",
            "513/513 [==============================] - 285s 556ms/step - loss: 0.0111 - attention_mae: 0.0653 - val_loss: 0.0143 - val_attention_mae: 0.0699\n",
            "Epoch 55/300\n",
            "513/513 [==============================] - 285s 556ms/step - loss: 0.0110 - attention_mae: 0.0647 - val_loss: 0.0182 - val_attention_mae: 0.0787\n",
            "Epoch 56/300\n",
            "513/513 [==============================] - 285s 556ms/step - loss: 0.0108 - attention_mae: 0.0642 - val_loss: 0.0154 - val_attention_mae: 0.0763\n",
            "Epoch 57/300\n",
            "513/513 [==============================] - 285s 556ms/step - loss: 0.0107 - attention_mae: 0.0635 - val_loss: 0.0136 - val_attention_mae: 0.0688\n",
            "Epoch 58/300\n",
            "513/513 [==============================] - 285s 556ms/step - loss: 0.0106 - attention_mae: 0.0632 - val_loss: 0.0162 - val_attention_mae: 0.0735\n",
            "Epoch 59/300\n",
            "513/513 [==============================] - 285s 556ms/step - loss: 0.0103 - attention_mae: 0.0624 - val_loss: 0.0137 - val_attention_mae: 0.0683\n",
            "Epoch 60/300\n",
            "513/513 [==============================] - 285s 556ms/step - loss: 0.0102 - attention_mae: 0.0619 - val_loss: 0.0153 - val_attention_mae: 0.0716\n",
            "Epoch 61/300\n",
            "513/513 [==============================] - 285s 556ms/step - loss: 0.0102 - attention_mae: 0.0619 - val_loss: 0.0152 - val_attention_mae: 0.0718\n",
            "Epoch 62/300\n",
            "513/513 [==============================] - 285s 555ms/step - loss: 0.0097 - attention_mae: 0.0604 - val_loss: 0.0135 - val_attention_mae: 0.0694\n",
            "Epoch 63/300\n",
            "513/513 [==============================] - 285s 556ms/step - loss: 0.0096 - attention_mae: 0.0600 - val_loss: 0.0164 - val_attention_mae: 0.0736\n",
            "Epoch 64/300\n",
            "513/513 [==============================] - 285s 556ms/step - loss: 0.0095 - attention_mae: 0.0593 - val_loss: 0.0149 - val_attention_mae: 0.0703\n",
            "Epoch 65/300\n",
            "513/513 [==============================] - 285s 555ms/step - loss: 0.0094 - attention_mae: 0.0592 - val_loss: 0.0140 - val_attention_mae: 0.0680\n",
            "Epoch 66/300\n",
            "513/513 [==============================] - 285s 555ms/step - loss: 0.0092 - attention_mae: 0.0586 - val_loss: 0.0168 - val_attention_mae: 0.0757\n",
            "Epoch 67/300\n",
            "513/513 [==============================] - 285s 556ms/step - loss: 0.0092 - attention_mae: 0.0584 - val_loss: 0.0141 - val_attention_mae: 0.0688\n",
            "Epoch 68/300\n",
            "513/513 [==============================] - 285s 556ms/step - loss: 0.0091 - attention_mae: 0.0580 - val_loss: 0.0157 - val_attention_mae: 0.0729\n",
            "Epoch 69/300\n",
            "513/513 [==============================] - 285s 556ms/step - loss: 0.0088 - attention_mae: 0.0570 - val_loss: 0.0129 - val_attention_mae: 0.0665\n",
            "Epoch 70/300\n",
            "513/513 [==============================] - 285s 556ms/step - loss: 0.0087 - attention_mae: 0.0568 - val_loss: 0.0152 - val_attention_mae: 0.0724\n",
            "Epoch 71/300\n",
            "513/513 [==============================] - 285s 556ms/step - loss: 0.0087 - attention_mae: 0.0564 - val_loss: 0.0144 - val_attention_mae: 0.0704\n",
            "Epoch 72/300\n",
            "513/513 [==============================] - 285s 556ms/step - loss: 0.0083 - attention_mae: 0.0554 - val_loss: 0.0137 - val_attention_mae: 0.0683\n",
            "Epoch 73/300\n",
            "513/513 [==============================] - 285s 556ms/step - loss: 0.0085 - attention_mae: 0.0556 - val_loss: 0.0141 - val_attention_mae: 0.0680\n",
            "Epoch 74/300\n",
            "513/513 [==============================] - 285s 555ms/step - loss: 0.0084 - attention_mae: 0.0554 - val_loss: 0.0162 - val_attention_mae: 0.0751\n",
            "Epoch 75/300\n",
            "513/513 [==============================] - 285s 556ms/step - loss: 0.0081 - attention_mae: 0.0545 - val_loss: 0.0159 - val_attention_mae: 0.0741\n",
            "Epoch 76/300\n",
            "513/513 [==============================] - 285s 556ms/step - loss: 0.0080 - attention_mae: 0.0540 - val_loss: 0.0170 - val_attention_mae: 0.0794\n",
            "Epoch 77/300\n",
            "513/513 [==============================] - 285s 556ms/step - loss: 0.0080 - attention_mae: 0.0540 - val_loss: 0.0153 - val_attention_mae: 0.0715\n",
            "Epoch 78/300\n",
            "513/513 [==============================] - 285s 555ms/step - loss: 0.0080 - attention_mae: 0.0537 - val_loss: 0.0173 - val_attention_mae: 0.0772\n",
            "Epoch 79/300\n",
            "513/513 [==============================] - 285s 556ms/step - loss: 0.0076 - attention_mae: 0.0525 - val_loss: 0.0126 - val_attention_mae: 0.0634\n",
            "Epoch 80/300\n",
            "513/513 [==============================] - 286s 557ms/step - loss: 0.0076 - attention_mae: 0.0526 - val_loss: 0.0125 - val_attention_mae: 0.0646\n",
            "Epoch 81/300\n",
            "513/513 [==============================] - 285s 556ms/step - loss: 0.0075 - attention_mae: 0.0522 - val_loss: 0.0128 - val_attention_mae: 0.0647\n",
            "Epoch 82/300\n",
            "513/513 [==============================] - 285s 556ms/step - loss: 0.0075 - attention_mae: 0.0520 - val_loss: 0.0125 - val_attention_mae: 0.0642\n",
            "Epoch 83/300\n",
            "513/513 [==============================] - 285s 556ms/step - loss: 0.0073 - attention_mae: 0.0513 - val_loss: 0.0129 - val_attention_mae: 0.0647\n",
            "Epoch 84/300\n",
            "513/513 [==============================] - 285s 555ms/step - loss: 0.0073 - attention_mae: 0.0511 - val_loss: 0.0143 - val_attention_mae: 0.0682\n",
            "Epoch 85/300\n",
            "513/513 [==============================] - 285s 556ms/step - loss: 0.0073 - attention_mae: 0.0510 - val_loss: 0.0134 - val_attention_mae: 0.0646\n",
            "Epoch 86/300\n",
            "513/513 [==============================] - 285s 556ms/step - loss: 0.0070 - attention_mae: 0.0503 - val_loss: 0.0160 - val_attention_mae: 0.0726\n",
            "Epoch 87/300\n",
            "513/513 [==============================] - 285s 556ms/step - loss: 0.0070 - attention_mae: 0.0499 - val_loss: 0.0131 - val_attention_mae: 0.0645\n",
            "Epoch 88/300\n",
            "513/513 [==============================] - 285s 556ms/step - loss: 0.0070 - attention_mae: 0.0499 - val_loss: 0.0134 - val_attention_mae: 0.0672\n",
            "Epoch 89/300\n",
            "513/513 [==============================] - 285s 556ms/step - loss: 0.0068 - attention_mae: 0.0492 - val_loss: 0.0127 - val_attention_mae: 0.0640\n",
            "Epoch 90/300\n",
            "513/513 [==============================] - 285s 556ms/step - loss: 0.0067 - attention_mae: 0.0490 - val_loss: 0.0124 - val_attention_mae: 0.0630\n",
            "Epoch 91/300\n",
            "513/513 [==============================] - 285s 556ms/step - loss: 0.0065 - attention_mae: 0.0482 - val_loss: 0.0137 - val_attention_mae: 0.0673\n",
            "Epoch 92/300\n",
            "513/513 [==============================] - 285s 556ms/step - loss: 0.0066 - attention_mae: 0.0485 - val_loss: 0.0156 - val_attention_mae: 0.0703\n",
            "Epoch 93/300\n",
            "513/513 [==============================] - 285s 556ms/step - loss: 0.0065 - attention_mae: 0.0479 - val_loss: 0.0123 - val_attention_mae: 0.0620\n",
            "Epoch 94/300\n",
            "513/513 [==============================] - 285s 556ms/step - loss: 0.0064 - attention_mae: 0.0476 - val_loss: 0.0150 - val_attention_mae: 0.0676\n",
            "Epoch 95/300\n",
            "513/513 [==============================] - 285s 556ms/step - loss: 0.0062 - attention_mae: 0.0469 - val_loss: 0.0145 - val_attention_mae: 0.0678\n",
            "Epoch 96/300\n",
            "513/513 [==============================] - 285s 556ms/step - loss: 0.0063 - attention_mae: 0.0474 - val_loss: 0.0137 - val_attention_mae: 0.0651\n",
            "Epoch 97/300\n",
            "513/513 [==============================] - 285s 556ms/step - loss: 0.0062 - attention_mae: 0.0468 - val_loss: 0.0128 - val_attention_mae: 0.0621\n",
            "Epoch 98/300\n",
            "513/513 [==============================] - 285s 556ms/step - loss: 0.0062 - attention_mae: 0.0466 - val_loss: 0.0132 - val_attention_mae: 0.0647\n",
            "Epoch 99/300\n",
            "513/513 [==============================] - 285s 556ms/step - loss: 0.0061 - attention_mae: 0.0462 - val_loss: 0.0122 - val_attention_mae: 0.0615\n",
            "Epoch 100/300\n",
            "513/513 [==============================] - 285s 556ms/step - loss: 0.0059 - attention_mae: 0.0455 - val_loss: 0.0156 - val_attention_mae: 0.0695\n",
            "Epoch 101/300\n",
            "513/513 [==============================] - 285s 556ms/step - loss: 0.0059 - attention_mae: 0.0454 - val_loss: 0.0132 - val_attention_mae: 0.0648\n",
            "Epoch 102/300\n",
            "513/513 [==============================] - 285s 556ms/step - loss: 0.0060 - attention_mae: 0.0458 - val_loss: 0.0127 - val_attention_mae: 0.0634\n",
            "Epoch 103/300\n",
            "513/513 [==============================] - 285s 556ms/step - loss: 0.0059 - attention_mae: 0.0456 - val_loss: 0.0137 - val_attention_mae: 0.0650\n",
            "Epoch 104/300\n",
            "513/513 [==============================] - 285s 556ms/step - loss: 0.0058 - attention_mae: 0.0450 - val_loss: 0.0166 - val_attention_mae: 0.0719\n",
            "Epoch 105/300\n",
            "513/513 [==============================] - 285s 556ms/step - loss: 0.0055 - attention_mae: 0.0437 - val_loss: 0.0145 - val_attention_mae: 0.0669\n",
            "Epoch 106/300\n",
            "513/513 [==============================] - 285s 556ms/step - loss: 0.0056 - attention_mae: 0.0440 - val_loss: 0.0155 - val_attention_mae: 0.0701\n",
            "Epoch 107/300\n",
            "513/513 [==============================] - 285s 556ms/step - loss: 0.0055 - attention_mae: 0.0437 - val_loss: 0.0153 - val_attention_mae: 0.0681\n",
            "Epoch 108/300\n",
            "513/513 [==============================] - 285s 556ms/step - loss: 0.0055 - attention_mae: 0.0438 - val_loss: 0.0150 - val_attention_mae: 0.0660\n",
            "Epoch 109/300\n",
            "513/513 [==============================] - 285s 556ms/step - loss: 0.0055 - attention_mae: 0.0438 - val_loss: 0.0159 - val_attention_mae: 0.0712\n",
            "Epoch 110/300\n",
            "513/513 [==============================] - 285s 556ms/step - loss: 0.0053 - attention_mae: 0.0429 - val_loss: 0.0123 - val_attention_mae: 0.0613\n",
            "Epoch 111/300\n",
            "513/513 [==============================] - 285s 556ms/step - loss: 0.0054 - attention_mae: 0.0433 - val_loss: 0.0126 - val_attention_mae: 0.0614\n",
            "Epoch 112/300\n",
            "513/513 [==============================] - 285s 556ms/step - loss: 0.0053 - attention_mae: 0.0429 - val_loss: 0.0136 - val_attention_mae: 0.0642\n",
            "Epoch 113/300\n",
            "513/513 [==============================] - 285s 556ms/step - loss: 0.0054 - attention_mae: 0.0432 - val_loss: 0.0145 - val_attention_mae: 0.0664\n",
            "Epoch 114/300\n",
            "513/513 [==============================] - 286s 557ms/step - loss: 0.0052 - attention_mae: 0.0423 - val_loss: 0.0140 - val_attention_mae: 0.0649\n",
            "Epoch 115/300\n",
            "513/513 [==============================] - 286s 557ms/step - loss: 0.0051 - attention_mae: 0.0422 - val_loss: 0.0150 - val_attention_mae: 0.0687\n",
            "Epoch 116/300\n",
            "513/513 [==============================] - 286s 557ms/step - loss: 0.0050 - attention_mae: 0.0417 - val_loss: 0.0151 - val_attention_mae: 0.0676\n",
            "Epoch 117/300\n",
            "513/513 [==============================] - 286s 556ms/step - loss: 0.0050 - attention_mae: 0.0416 - val_loss: 0.0126 - val_attention_mae: 0.0633\n",
            "Epoch 118/300\n",
            "513/513 [==============================] - 286s 557ms/step - loss: 0.0050 - attention_mae: 0.0414 - val_loss: 0.0137 - val_attention_mae: 0.0651\n",
            "Epoch 119/300\n",
            "513/513 [==============================] - 286s 557ms/step - loss: 0.0049 - attention_mae: 0.0413 - val_loss: 0.0151 - val_attention_mae: 0.0669\n",
            "Epoch 120/300\n",
            "513/513 [==============================] - 286s 557ms/step - loss: 0.0048 - attention_mae: 0.0405 - val_loss: 0.0151 - val_attention_mae: 0.0668\n",
            "Epoch 121/300\n",
            "513/513 [==============================] - 286s 557ms/step - loss: 0.0048 - attention_mae: 0.0405 - val_loss: 0.0125 - val_attention_mae: 0.0609\n",
            "Epoch 122/300\n",
            "513/513 [==============================] - 286s 557ms/step - loss: 0.0048 - attention_mae: 0.0405 - val_loss: 0.0133 - val_attention_mae: 0.0638\n",
            "Epoch 123/300\n",
            "513/513 [==============================] - 286s 556ms/step - loss: 0.0047 - attention_mae: 0.0400 - val_loss: 0.0131 - val_attention_mae: 0.0632\n",
            "Epoch 124/300\n",
            "513/513 [==============================] - 286s 557ms/step - loss: 0.0048 - attention_mae: 0.0407 - val_loss: 0.0148 - val_attention_mae: 0.0665\n",
            "Epoch 125/300\n",
            "513/513 [==============================] - 285s 556ms/step - loss: 0.0047 - attention_mae: 0.0403 - val_loss: 0.0137 - val_attention_mae: 0.0639\n",
            "Epoch 126/300\n",
            "513/513 [==============================] - 286s 557ms/step - loss: 0.0046 - attention_mae: 0.0398 - val_loss: 0.0126 - val_attention_mae: 0.0603\n",
            "Epoch 127/300\n",
            "513/513 [==============================] - 284s 554ms/step - loss: 0.0047 - attention_mae: 0.0402 - val_loss: 0.0152 - val_attention_mae: 0.0680\n",
            "Epoch 128/300\n",
            "513/513 [==============================] - 281s 547ms/step - loss: 0.0045 - attention_mae: 0.0393 - val_loss: 0.0159 - val_attention_mae: 0.0689\n",
            "Epoch 129/300\n",
            "513/513 [==============================] - 282s 549ms/step - loss: 0.0045 - attention_mae: 0.0395 - val_loss: 0.0142 - val_attention_mae: 0.0650\n"
          ]
        }
      ],
      "source": [
        "history = model.fit(\n",
        "    train_batches,\n",
        "    validation_data=test_batches,\n",
        "    epochs=N_EPOCHS,\n",
        "    batch_size=BATCH_SIZE,\n",
        "    callbacks=callbacks,\n",
        "    verbose=1\n",
        ")\n"
      ]
    },
    {
      "cell_type": "markdown",
      "source": [
        "# Save Model"
      ],
      "metadata": {
        "id": "HT68Jm8AEluI"
      }
    },
    {
      "cell_type": "code",
      "source": [
        "timestamp = datetime.datetime.now().strftime('%b-%d-%I:%M%p')\n",
        "model_path = os.path.join(MODEL_PATH, EXP_NAME)\n",
        "if not os.path.exists(model_path):\n",
        "    os.makedirs(model_path)\n",
        "\n",
        "model.save(os.path.join(model_path, timestamp))"
      ],
      "metadata": {
        "id": "xfUmF_1mEjXH",
        "outputId": "1f6b7d34-f994-40cb-d024-cfeb91776b3d",
        "colab": {
          "base_uri": "https://localhost:8080/"
        }
      },
      "execution_count": 17,
      "outputs": [
        {
          "output_type": "stream",
          "name": "stderr",
          "text": [
            "WARNING:absl:Found untraced functions such as _jit_compiled_convolution_op, _jit_compiled_convolution_op, _jit_compiled_convolution_op, _jit_compiled_convolution_op, _jit_compiled_convolution_op while saving (showing 5 of 23). These functions will not be directly callable after loading.\n"
          ]
        }
      ]
    },
    {
      "cell_type": "markdown",
      "source": [
        "# Save Predictions"
      ],
      "metadata": {
        "id": "-PWi28iOKpXe"
      }
    },
    {
      "cell_type": "code",
      "execution_count": 18,
      "metadata": {
        "id": "LLDJf93Z0YxY",
        "outputId": "080e2727-9dcb-4e87-e03a-4ca9d67bf7f0",
        "colab": {
          "base_uri": "https://localhost:8080/"
        }
      },
      "outputs": [
        {
          "output_type": "stream",
          "name": "stderr",
          "text": [
            "\r0it [00:00, ?it/s]"
          ]
        },
        {
          "output_type": "stream",
          "name": "stdout",
          "text": [
            "1/1 [==============================] - 2s 2s/step\n"
          ]
        },
        {
          "output_type": "stream",
          "name": "stderr",
          "text": [
            "\r1it [00:02,  2.94s/it]"
          ]
        },
        {
          "output_type": "stream",
          "name": "stdout",
          "text": [
            "1/1 [==============================] - 0s 17ms/step\n"
          ]
        },
        {
          "output_type": "stream",
          "name": "stderr",
          "text": [
            "\r11it [00:03,  4.67it/s]"
          ]
        },
        {
          "output_type": "stream",
          "name": "stdout",
          "text": [
            "1/1 [==============================] - 0s 24ms/step\n"
          ]
        },
        {
          "output_type": "stream",
          "name": "stderr",
          "text": [
            "\r21it [00:03,  9.24it/s]"
          ]
        },
        {
          "output_type": "stream",
          "name": "stdout",
          "text": [
            "1/1 [==============================] - 0s 17ms/step\n"
          ]
        },
        {
          "output_type": "stream",
          "name": "stderr",
          "text": [
            "\r31it [00:03, 14.41it/s]"
          ]
        },
        {
          "output_type": "stream",
          "name": "stdout",
          "text": [
            "1/1 [==============================] - 0s 41ms/step\n"
          ]
        },
        {
          "output_type": "stream",
          "name": "stderr",
          "text": [
            "\r41it [00:03, 18.77it/s]"
          ]
        },
        {
          "output_type": "stream",
          "name": "stdout",
          "text": [
            "1/1 [==============================] - 0s 40ms/step\n"
          ]
        },
        {
          "output_type": "stream",
          "name": "stderr",
          "text": [
            "\r51it [00:04, 22.33it/s]"
          ]
        },
        {
          "output_type": "stream",
          "name": "stdout",
          "text": [
            "1/1 [==============================] - 0s 17ms/step\n"
          ]
        },
        {
          "output_type": "stream",
          "name": "stderr",
          "text": [
            "\r61it [00:04, 26.80it/s]"
          ]
        },
        {
          "output_type": "stream",
          "name": "stdout",
          "text": [
            "1/1 [==============================] - 0s 35ms/step\n"
          ]
        },
        {
          "output_type": "stream",
          "name": "stderr",
          "text": [
            "\r71it [00:04, 29.19it/s]"
          ]
        },
        {
          "output_type": "stream",
          "name": "stdout",
          "text": [
            "1/1 [==============================] - 0s 37ms/step\n"
          ]
        },
        {
          "output_type": "stream",
          "name": "stderr",
          "text": [
            "\r81it [00:05, 31.62it/s]"
          ]
        },
        {
          "output_type": "stream",
          "name": "stdout",
          "text": [
            "1/1 [==============================] - 0s 18ms/step\n"
          ]
        },
        {
          "output_type": "stream",
          "name": "stderr",
          "text": [
            "\r91it [00:05, 34.30it/s]"
          ]
        },
        {
          "output_type": "stream",
          "name": "stdout",
          "text": [
            "1/1 [==============================] - 0s 18ms/step\n"
          ]
        },
        {
          "output_type": "stream",
          "name": "stderr",
          "text": [
            "\r101it [00:05, 35.71it/s]"
          ]
        },
        {
          "output_type": "stream",
          "name": "stdout",
          "text": [
            "1/1 [==============================] - 0s 17ms/step\n"
          ]
        },
        {
          "output_type": "stream",
          "name": "stderr",
          "text": [
            "\r111it [00:05, 37.77it/s]"
          ]
        },
        {
          "output_type": "stream",
          "name": "stdout",
          "text": [
            "1/1 [==============================] - 0s 18ms/step\n"
          ]
        },
        {
          "output_type": "stream",
          "name": "stderr",
          "text": [
            "\r121it [00:05, 39.13it/s]"
          ]
        },
        {
          "output_type": "stream",
          "name": "stdout",
          "text": [
            "1/1 [==============================] - 0s 18ms/step\n"
          ]
        },
        {
          "output_type": "stream",
          "name": "stderr",
          "text": [
            "\r131it [00:06, 41.21it/s]"
          ]
        },
        {
          "output_type": "stream",
          "name": "stdout",
          "text": [
            "1/1 [==============================] - 0s 17ms/step\n"
          ]
        },
        {
          "output_type": "stream",
          "name": "stderr",
          "text": [
            "\r141it [00:06, 41.79it/s]"
          ]
        },
        {
          "output_type": "stream",
          "name": "stdout",
          "text": [
            "1/1 [==============================] - 0s 18ms/step\n"
          ]
        },
        {
          "output_type": "stream",
          "name": "stderr",
          "text": [
            "\r151it [00:06, 41.92it/s]"
          ]
        },
        {
          "output_type": "stream",
          "name": "stdout",
          "text": [
            "1/1 [==============================] - 0s 18ms/step\n"
          ]
        },
        {
          "output_type": "stream",
          "name": "stderr",
          "text": [
            "\r161it [00:06, 43.71it/s]"
          ]
        },
        {
          "output_type": "stream",
          "name": "stdout",
          "text": [
            "1/1 [==============================] - 0s 18ms/step\n"
          ]
        },
        {
          "output_type": "stream",
          "name": "stderr",
          "text": [
            "\r171it [00:07, 45.45it/s]"
          ]
        },
        {
          "output_type": "stream",
          "name": "stdout",
          "text": [
            "1/1 [==============================] - 0s 18ms/step\n"
          ]
        },
        {
          "output_type": "stream",
          "name": "stderr",
          "text": [
            "\r181it [00:07, 46.37it/s]"
          ]
        },
        {
          "output_type": "stream",
          "name": "stdout",
          "text": [
            "1/1 [==============================] - 0s 17ms/step\n"
          ]
        },
        {
          "output_type": "stream",
          "name": "stderr",
          "text": [
            "\r191it [00:07, 44.42it/s]"
          ]
        },
        {
          "output_type": "stream",
          "name": "stdout",
          "text": [
            "1/1 [==============================] - 0s 17ms/step\n"
          ]
        },
        {
          "output_type": "stream",
          "name": "stderr",
          "text": [
            "\r201it [00:07, 43.61it/s]"
          ]
        },
        {
          "output_type": "stream",
          "name": "stdout",
          "text": [
            "1/1 [==============================] - 0s 21ms/step\n"
          ]
        },
        {
          "output_type": "stream",
          "name": "stderr",
          "text": [
            "\r211it [00:08, 42.05it/s]"
          ]
        },
        {
          "output_type": "stream",
          "name": "stdout",
          "text": [
            "1/1 [==============================] - 0s 23ms/step\n"
          ]
        },
        {
          "output_type": "stream",
          "name": "stderr",
          "text": [
            "\r221it [00:08, 40.14it/s]"
          ]
        },
        {
          "output_type": "stream",
          "name": "stdout",
          "text": [
            "1/1 [==============================] - 0s 18ms/step\n"
          ]
        },
        {
          "output_type": "stream",
          "name": "stderr",
          "text": [
            "\r231it [00:08, 28.76it/s]"
          ]
        },
        {
          "output_type": "stream",
          "name": "stdout",
          "text": [
            "1/1 [==============================] - 0s 18ms/step\n"
          ]
        },
        {
          "output_type": "stream",
          "name": "stderr",
          "text": [
            "\r241it [00:09, 31.89it/s]"
          ]
        },
        {
          "output_type": "stream",
          "name": "stdout",
          "text": [
            "1/1 [==============================] - 0s 19ms/step\n"
          ]
        },
        {
          "output_type": "stream",
          "name": "stderr",
          "text": [
            "\r251it [00:09, 34.30it/s]"
          ]
        },
        {
          "output_type": "stream",
          "name": "stdout",
          "text": [
            "1/1 [==============================] - 0s 17ms/step\n"
          ]
        },
        {
          "output_type": "stream",
          "name": "stderr",
          "text": [
            "\r261it [00:09, 36.51it/s]"
          ]
        },
        {
          "output_type": "stream",
          "name": "stdout",
          "text": [
            "1/1 [==============================] - 0s 18ms/step\n"
          ]
        },
        {
          "output_type": "stream",
          "name": "stderr",
          "text": [
            "\r271it [00:09, 39.56it/s]"
          ]
        },
        {
          "output_type": "stream",
          "name": "stdout",
          "text": [
            "1/1 [==============================] - 0s 18ms/step\n"
          ]
        },
        {
          "output_type": "stream",
          "name": "stderr",
          "text": [
            "\r281it [00:09, 42.12it/s]"
          ]
        },
        {
          "output_type": "stream",
          "name": "stdout",
          "text": [
            "1/1 [==============================] - 0s 19ms/step\n"
          ]
        },
        {
          "output_type": "stream",
          "name": "stderr",
          "text": [
            "\r291it [00:10, 41.35it/s]"
          ]
        },
        {
          "output_type": "stream",
          "name": "stdout",
          "text": [
            "1/1 [==============================] - 0s 17ms/step\n"
          ]
        },
        {
          "output_type": "stream",
          "name": "stderr",
          "text": [
            "\r301it [00:10, 42.07it/s]"
          ]
        },
        {
          "output_type": "stream",
          "name": "stdout",
          "text": [
            "1/1 [==============================] - 0s 17ms/step\n"
          ]
        },
        {
          "output_type": "stream",
          "name": "stderr",
          "text": [
            "312it [00:10, 29.16it/s]\n"
          ]
        }
      ],
      "source": [
        "test_ds_unbatched = test_batches.unbatch()\n",
        "\n",
        "pred_path = os.path.join(PRED_PATH, EXP_NAME, timestamp)\n",
        "if not os.path.exists(pred_path):\n",
        "    os.makedirs(pred_path)\n",
        "\n",
        "metrics = pd.DataFrame()\n",
        "\n",
        "for idx, (input, target) in enumerate(tqdm(test_ds_unbatched)):\n",
        "\n",
        "    if not idx % 10 == 0:\n",
        "        continue\n",
        "\n",
        "    target = target.numpy()\n",
        "    prediction = tf.squeeze(\n",
        "        model.predict(\n",
        "            tf.expand_dims(input, axis=0)\n",
        "            )\n",
        "        ).numpy()\n",
        "    prediction[target == 1.0] = 1.0\n",
        "\n",
        "    # _metrics = pd.DataFrame([[\n",
        "    #         rmse(target, prediction),\n",
        "    #         psnr(target, prediction),\n",
        "    #         ssim(target, prediction),\n",
        "    #         fsim(target, prediction),\n",
        "    #         issm(target, prediction),\n",
        "    #         sre(target, prediction),\n",
        "    #         sam(target, prediction),\n",
        "    #         uiq(target, prediction),\n",
        "    #     ]],\n",
        "    #     columns=[\"RMSE\", \"PSNR\", \"SSIM\", \"FSIM\", \"ISSM\", \"SRE\", \"SAM\", \"UIQ\"]\n",
        "    # )\n",
        "\n",
        "    # metrics = pd.concat([metrics, _metrics], axis=0)\n",
        "\n",
        "    plt.figure(figsize=(12, 4))\n",
        "    plt.subplot(1, 3, 1)\n",
        "    plt.imshow(input)\n",
        "    plt.axis(\"off\")\n",
        "    plt.title(\"INPUT\")\n",
        "    plt.subplot(1, 3, 2)\n",
        "    plt.imshow(target)\n",
        "    plt.axis(\"off\")\n",
        "    plt.title(\"TARGET\")\n",
        "    plt.subplot(1, 3, 3)\n",
        "    plt.imshow(prediction)\n",
        "    plt.axis(\"off\")\n",
        "    plt.title(\"PREDICTION\")\n",
        "    plt.tight_layout()\n",
        "    plt.savefig(os.path.join(pred_path, f\"{idx}.png\"))\n",
        "    plt.close()  \n"
      ]
    },
    {
      "cell_type": "code",
      "source": [
        "loss = history.history['loss']\n",
        "val_loss = history.history['val_loss']\n",
        "\n",
        "plt.figure(figsize=(8, 6))\n",
        "plt.plot(loss, label='Training Loss')\n",
        "plt.plot(val_loss, label='Validation Loss')\n",
        "plt.legend(loc='upper right')\n",
        "plt.ylabel('Attention MAE')\n",
        "plt.title('Training and Validation Loss')\n",
        "plt.xlabel('Epoch')\n",
        "plt.tight_layout()\n",
        "plt.savefig(os.path.join(model_path, timestamp + \".png\"))\n",
        "plt.close()"
      ],
      "metadata": {
        "id": "dq-aXv2mIwA8"
      },
      "execution_count": 19,
      "outputs": []
    },
    {
      "cell_type": "code",
      "source": [
        "model.evaluate(test_batches)"
      ],
      "metadata": {
        "id": "KghqZxOpWCWP",
        "outputId": "cf7091da-17bb-4a60-dea9-04b8f560ea00",
        "colab": {
          "base_uri": "https://localhost:8080/"
        }
      },
      "execution_count": 20,
      "outputs": [
        {
          "output_type": "stream",
          "name": "stdout",
          "text": [
            "20/20 [==============================] - 4s 158ms/step - loss: 0.0122 - attention_mae: 0.0617\n"
          ]
        },
        {
          "output_type": "execute_result",
          "data": {
            "text/plain": [
              "[0.01221096608787775, 0.061701349914073944]"
            ]
          },
          "metadata": {},
          "execution_count": 20
        }
      ]
    },
    {
      "cell_type": "code",
      "source": [],
      "metadata": {
        "id": "Clx7EdsW2yFf"
      },
      "execution_count": 20,
      "outputs": []
    }
  ],
  "metadata": {
    "kernelspec": {
      "display_name": "Python 3.10.6 ('Ai')",
      "language": "python",
      "name": "python3"
    },
    "language_info": {
      "codemirror_mode": {
        "name": "ipython",
        "version": 3
      },
      "file_extension": ".py",
      "mimetype": "text/x-python",
      "name": "python",
      "nbconvert_exporter": "python",
      "pygments_lexer": "ipython3",
      "version": "3.10.6"
    },
    "orig_nbformat": 4,
    "vscode": {
      "interpreter": {
        "hash": "cc12dd51c08fff59e312c49b5273cbf2a12939660509ea1a4d83cd89b0463726"
      }
    },
    "colab": {
      "provenance": [],
      "machine_shape": "hm",
      "include_colab_link": true
    },
    "accelerator": "GPU",
    "gpuClass": "standard"
  },
  "nbformat": 4,
  "nbformat_minor": 0
}