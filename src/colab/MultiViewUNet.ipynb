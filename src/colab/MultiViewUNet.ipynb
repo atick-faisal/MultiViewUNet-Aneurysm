{
  "cells": [
    {
      "cell_type": "markdown",
      "metadata": {
        "id": "view-in-github",
        "colab_type": "text"
      },
      "source": [
        "<a href=\"https://colab.research.google.com/github/atick-faisal/TAVI/blob/main/src/colab/MultiViewUNet.ipynb\" target=\"_parent\"><img src=\"https://colab.research.google.com/assets/colab-badge.svg\" alt=\"Open In Colab\"/></a>"
      ]
    },
    {
      "cell_type": "markdown",
      "source": [
        "# Google Drive"
      ],
      "metadata": {
        "id": "0estJx3IDzz4"
      }
    },
    {
      "cell_type": "code",
      "source": [
        "from google.colab import drive\n",
        "drive.mount('/content/drive')"
      ],
      "metadata": {
        "colab": {
          "base_uri": "https://localhost:8080/"
        },
        "id": "WsH9ydF7Dwpf",
        "outputId": "ba2b7be1-02d4-4c66-8796-8f8f95b26a7f"
      },
      "execution_count": null,
      "outputs": [
        {
          "output_type": "stream",
          "name": "stdout",
          "text": [
            "Mounted at /content/drive\n"
          ]
        }
      ]
    },
    {
      "cell_type": "markdown",
      "metadata": {
        "id": "MMf8mzRT0YxP"
      },
      "source": [
        "# Download Dataset"
      ]
    },
    {
      "cell_type": "code",
      "execution_count": null,
      "metadata": {
        "colab": {
          "base_uri": "https://localhost:8080/"
        },
        "id": "Zm_HJEfM0YxS",
        "outputId": "ad3c5e8b-baee-4704-d417-4fbaf225fa47"
      },
      "outputs": [
        {
          "output_type": "stream",
          "name": "stdout",
          "text": [
            "Downloading...\n",
            "From: https://drive.google.com/uc?id=1SAiWxbd4ECCfcJh3VWDvTSVaF-q5fsQh\n",
            "To: /content/Dataset_v4.zip\n",
            "100% 234M/234M [00:04<00:00, 54.3MB/s]\n"
          ]
        }
      ],
      "source": [
        "!gdown \"1SAiWxbd4ECCfcJh3VWDvTSVaF-q5fsQh\"\n",
        "!unzip -o \"Dataset_v4.zip\" > /dev/null\n"
      ]
    },
    {
      "cell_type": "markdown",
      "metadata": {
        "id": "Vemh_spU0YxT"
      },
      "source": [
        "# Imports"
      ]
    },
    {
      "cell_type": "code",
      "execution_count": null,
      "metadata": {
        "id": "w0KYlE-90YxT"
      },
      "outputs": [],
      "source": [
        "import os\n",
        "import cv2\n",
        "import random\n",
        "import datetime\n",
        "import matplotlib\n",
        "import numpy as np\n",
        "import tensorflow as tf\n",
        "import matplotlib.pyplot as plt\n",
        "\n",
        "from tqdm import tqdm\n",
        "from numpy.typing import NDArray\n",
        "\n",
        "matplotlib.use('Agg')\n",
        "plt.rcParams[\"font.size\"] = 16\n"
      ]
    },
    {
      "cell_type": "markdown",
      "metadata": {
        "id": "vE8WOTRj0YxT"
      },
      "source": [
        "# Config"
      ]
    },
    {
      "cell_type": "code",
      "execution_count": null,
      "metadata": {
        "id": "O5Vvm79c0YxT"
      },
      "outputs": [],
      "source": [
        "EXP_NAME        = \"MultiVewUNet-256x256-BS8-LR0.001-EP300-GEO_AUGXY\"\n",
        "\n",
        "DATASET_PATH    = \"/content/Images/\"\n",
        "TRAIN_DIR       = \"Train/\"\n",
        "TEST_DIR        = \"Test/\"\n",
        "INPUT_DIR       = \"Input/\"\n",
        "TARGET_DIR      = \"Target/\"\n",
        "MODEL_PATH      = \"/content/drive/MyDrive/Research/TAVI/Models/\"\n",
        "PRED_PATH       = \"/content/drive/MyDrive/Research/TAVI/Predictions/\"\n",
        "\n",
        "IMG_SIZE        = 256\n",
        "BATCH_SIZE      = 8\n",
        "VAL_SPLIT       = 0.2\n",
        "LEARNING_RATE   = 0.001\n",
        "N_EPOCHS        = 300\n",
        "PATIENCE        = 30\n"
      ]
    },
    {
      "cell_type": "markdown",
      "metadata": {
        "id": "YmMjbvFH0YxU"
      },
      "source": [
        "# Architecture"
      ]
    },
    {
      "cell_type": "code",
      "execution_count": null,
      "metadata": {
        "id": "xecJpVUs0YxU"
      },
      "outputs": [],
      "source": [
        "class UNet:\n",
        "    def __init__(\n",
        "        self,\n",
        "        img_size: int,\n",
        "        n_channels: int = 3,\n",
        "        width: int = 32,\n",
        "        depth: int = 4,\n",
        "        kernel_size: int = 3\n",
        "    ):\n",
        "        self.img_size = img_size\n",
        "        self.n_channels = n_channels\n",
        "        self.width = width\n",
        "        self.depth = depth\n",
        "        self.kernel_size = kernel_size\n",
        "\n",
        "    @staticmethod\n",
        "    def conv(\n",
        "        x: tf.Tensor,\n",
        "        filters: int,\n",
        "        kernel_size: int\n",
        "    ) -> tf.Tensor:\n",
        "        for i in range(2):\n",
        "            x = tf.keras.layers.Conv2D(\n",
        "                filters=filters,\n",
        "                kernel_size=kernel_size,\n",
        "                strides=1,\n",
        "                padding=\"same\",\n",
        "                data_format=\"channels_last\",\n",
        "                dilation_rate=1,\n",
        "                groups=1,\n",
        "                activation=None,\n",
        "                use_bias=True,\n",
        "                kernel_initializer=\"glorot_uniform\",\n",
        "                bias_initializer=\"zeros\"\n",
        "            )(x)\n",
        "\n",
        "            x = tf.keras.layers.BatchNormalization()(x)\n",
        "            x = tf.keras.layers.Activation(\"relu\")(x)\n",
        "\n",
        "        return x\n",
        "\n",
        "    @staticmethod\n",
        "    def deconv(x: tf.Tensor, filters: int) -> tf.Tensor:\n",
        "        x = tf.keras.layers.Conv2DTranspose(\n",
        "            filters=filters,\n",
        "            kernel_size=2,\n",
        "            strides=2,\n",
        "            padding=\"same\",\n",
        "            output_padding=None,\n",
        "            data_format=None,\n",
        "            dilation_rate=1,\n",
        "            activation=None,\n",
        "            use_bias=True,\n",
        "            kernel_initializer=\"glorot_uniform\",\n",
        "            bias_initializer=\"zeros\"\n",
        "        )(x)\n",
        "\n",
        "        x = tf.keras.layers.BatchNormalization()(x)\n",
        "        x = tf.keras.layers.Activation(\"relu\")(x)\n",
        "\n",
        "        return x\n",
        "\n",
        "    @staticmethod\n",
        "    def output(x: tf.Tensor) -> tf.Tensor:\n",
        "        return tf.keras.layers.Conv2D(3, (1, 1), activation=\"sigmoid\")(x)\n",
        "\n",
        "    @staticmethod\n",
        "    def pool(x: tf.Tensor, pool_size: int = 2) -> tf.Tensor:\n",
        "        return tf.keras.layers.MaxPool2D(pool_size)(x)\n",
        "\n",
        "    def __call__(self) -> tf.keras.Model:\n",
        "        inputs = tf.keras.layers.Input(\n",
        "            shape=(self.img_size, self.img_size, self.n_channels)\n",
        "        )\n",
        "\n",
        "        # scaled = tf.keras.layers.Rescaling(1./255.0, offset=0)(inputs)\n",
        "\n",
        "        # ------------------ Downsampling ---------------------\n",
        "        downsample_layers = []\n",
        "        downsample_layers.append(\n",
        "            self.conv(\n",
        "                x=inputs,\n",
        "                filters=self.width,\n",
        "                kernel_size=self.kernel_size\n",
        "            )\n",
        "        )\n",
        "        for i in range(1, self.depth):\n",
        "            filters = int((2 ** i) * self.width)\n",
        "            downsample_layers.append(\n",
        "                self.pool(\n",
        "                    self.conv(\n",
        "                        x=downsample_layers[i - 1],\n",
        "                        filters=filters,\n",
        "                        kernel_size=self.kernel_size\n",
        "                    )\n",
        "                )\n",
        "            )\n",
        "\n",
        "        # ------------------- Features --------------------\n",
        "        n_features = int((2 ** self.depth) * self.width)\n",
        "        self.features = self.pool(\n",
        "            self.conv(\n",
        "                x=downsample_layers[-1],\n",
        "                filters=n_features,\n",
        "                kernel_size=self.kernel_size\n",
        "            )\n",
        "        )\n",
        "\n",
        "        # ------------------- Upsampling --------------------\n",
        "        upsample_layers = []\n",
        "        upsample_layers.append(self.features)\n",
        "        for i in range(1, self.depth + 1):\n",
        "            filters = int((2 ** (self.depth - i)) * self.width)\n",
        "            upsample_layers.append(\n",
        "                self.conv(\n",
        "                    x=tf.keras.layers.concatenate([\n",
        "                        downsample_layers[self.depth - i],\n",
        "                        self.deconv(\n",
        "                            x=upsample_layers[i - 1],\n",
        "                            filters=filters\n",
        "                        )\n",
        "                    ]),\n",
        "                    filters=filters,\n",
        "                    kernel_size=self.kernel_size\n",
        "                )\n",
        "            )\n",
        "\n",
        "        # ---------------------- Output -----------------------\n",
        "        outputs = self.output(upsample_layers[-1])\n",
        "\n",
        "        return tf.keras.Model(inputs, outputs)\n"
      ]
    },
    {
      "cell_type": "markdown",
      "metadata": {
        "id": "ga47oOoc0YxV"
      },
      "source": [
        "# Loss Functions"
      ]
    },
    {
      "cell_type": "code",
      "execution_count": null,
      "metadata": {
        "id": "ooE90mpc0YxW"
      },
      "outputs": [],
      "source": [
        "def attention_mse(y_true, y_pred):\n",
        "    _y_true = y_true[y_true != 1.0]\n",
        "    _y_pred = y_pred[y_true != 1.0]\n",
        "    squared_difference = tf.square(_y_true - _y_pred)\n",
        "    return tf.reduce_mean(squared_difference, axis=-1)\n",
        "\n",
        "\n",
        "def attention_mae(y_true, y_pred):\n",
        "    _y_true = y_true[y_true != 1.0]\n",
        "    _y_pred = y_pred[y_true != 1.0]\n",
        "    squared_difference = tf.abs(_y_true - _y_pred)\n",
        "    return tf.reduce_mean(squared_difference, axis=-1)\n"
      ]
    },
    {
      "cell_type": "markdown",
      "metadata": {
        "id": "wOgmHYSJ0YxW"
      },
      "source": [
        "# Utils"
      ]
    },
    {
      "cell_type": "code",
      "execution_count": null,
      "metadata": {
        "id": "cSrfyX260YxW"
      },
      "outputs": [],
      "source": [
        "def load_data_from_dir(path: str) -> tf.data.Dataset:\n",
        "    return tf.keras.utils.image_dataset_from_directory(\n",
        "        directory=path,\n",
        "        labels=None,\n",
        "        color_mode='rgb',\n",
        "        batch_size=BATCH_SIZE,\n",
        "        image_size=(IMG_SIZE, IMG_SIZE),\n",
        "        shuffle=True,\n",
        "        seed=42,\n",
        "        # validation_split=VAL_SPLIT,\n",
        "        # subset=subset,\n",
        "        interpolation='bilinear',\n",
        "        follow_links=False,\n",
        "        crop_to_aspect_ratio=False\n",
        "    )\n"
      ]
    },
    {
      "cell_type": "markdown",
      "metadata": {
        "id": "CyS-63WI0YxX"
      },
      "source": [
        "# Dataloaders"
      ]
    },
    {
      "cell_type": "code",
      "execution_count": null,
      "metadata": {
        "colab": {
          "base_uri": "https://localhost:8080/"
        },
        "id": "71Dxzfkf0YxX",
        "outputId": "4941cec0-fbe5-4b16-9a6c-0d2d77af9f2e"
      },
      "outputs": [
        {
          "output_type": "stream",
          "name": "stdout",
          "text": [
            "Found 11040 files belonging to 1 classes.\n",
            "Found 11040 files belonging to 1 classes.\n",
            "Found 1656 files belonging to 1 classes.\n",
            "Found 1656 files belonging to 1 classes.\n",
            "(TensorSpec(shape=(None, 256, 256, 3), dtype=tf.float32, name=None), TensorSpec(shape=(None, 256, 256, 3), dtype=tf.float32, name=None))\n",
            "(TensorSpec(shape=(None, 256, 256, 3), dtype=tf.float32, name=None), TensorSpec(shape=(None, 256, 256, 3), dtype=tf.float32, name=None))\n"
          ]
        }
      ],
      "source": [
        "trainX = load_data_from_dir(os.path.join(DATASET_PATH, TRAIN_DIR, INPUT_DIR))\n",
        "trainY = load_data_from_dir(os.path.join(DATASET_PATH, TRAIN_DIR, TARGET_DIR))\n",
        "testX = load_data_from_dir(os.path.join(DATASET_PATH, TEST_DIR, INPUT_DIR))\n",
        "testY = load_data_from_dir(os.path.join(DATASET_PATH, TEST_DIR, TARGET_DIR))\n",
        "\n",
        "train_ds = tf.data.Dataset.zip((trainX, trainY))\n",
        "test_ds = tf.data.Dataset.zip((testX, testY))\n",
        "\n",
        "print(train_ds.element_spec)\n",
        "print(test_ds.element_spec)\n"
      ]
    },
    {
      "cell_type": "markdown",
      "source": [
        "# Normalization"
      ],
      "metadata": {
        "id": "01HaegmR278r"
      }
    },
    {
      "cell_type": "code",
      "source": [
        "normalization_layer = tf.keras.layers.Rescaling(1./255)\n",
        "train_ds = train_ds.map(lambda x, y: (normalization_layer(x), normalization_layer(y)))\n",
        "test_ds = test_ds.map(lambda x, y: (normalization_layer(x), normalization_layer(y)))"
      ],
      "metadata": {
        "id": "mDeZuH0p26pE"
      },
      "execution_count": null,
      "outputs": []
    },
    {
      "cell_type": "markdown",
      "metadata": {
        "id": "eHlKefA_0YxX"
      },
      "source": [
        "# Optimization"
      ]
    },
    {
      "cell_type": "code",
      "execution_count": null,
      "metadata": {
        "id": "U-HMkfOG0YxX"
      },
      "outputs": [],
      "source": [
        "AUTOTUNE = tf.data.AUTOTUNE\n",
        "\n",
        "train_ds = train_ds.cache().prefetch(buffer_size=AUTOTUNE)\n",
        "test_ds = test_ds.cache().prefetch(buffer_size=AUTOTUNE)\n"
      ]
    },
    {
      "cell_type": "markdown",
      "metadata": {
        "id": "w50akeqN0YxX"
      },
      "source": [
        "# Training Config"
      ]
    },
    {
      "cell_type": "code",
      "execution_count": null,
      "metadata": {
        "id": "2YvF85Wg0YxY"
      },
      "outputs": [],
      "source": [
        "callbacks = [\n",
        "    tf.keras.callbacks.EarlyStopping(\n",
        "        monitor=\"val_loss\",\n",
        "        patience=PATIENCE,\n",
        "        restore_best_weights=True\n",
        "    )\n",
        "]\n",
        "\n",
        "optimizer = tf.keras.optimizers.Adam(\n",
        "    learning_rate=LEARNING_RATE\n",
        ")\n",
        "\n",
        "model = UNet(IMG_SIZE)()\n",
        "\n",
        "model.compile(\n",
        "    loss=attention_mse,\n",
        "    optimizer=optimizer,\n",
        "    metrics=['mean_squared_error']\n",
        ")\n"
      ]
    },
    {
      "cell_type": "markdown",
      "metadata": {
        "id": "XrJPilPI0YxY"
      },
      "source": [
        "# Training"
      ]
    },
    {
      "cell_type": "code",
      "execution_count": 27,
      "metadata": {
        "colab": {
          "base_uri": "https://localhost:8080/"
        },
        "id": "y_b-8pkT0YxY",
        "outputId": "6b9b5ba1-546f-4416-e7dc-d3bfe46ca0b9"
      },
      "outputs": [
        {
          "output_type": "stream",
          "name": "stdout",
          "text": [
            "Epoch 1/300\n",
            "828/828 [==============================] - 284s 321ms/step - loss: 0.0253 - mean_squared_error: 0.3079 - val_loss: 0.0284 - val_mean_squared_error: 0.0864\n",
            "Epoch 2/300\n",
            "828/828 [==============================] - 268s 324ms/step - loss: 0.0210 - mean_squared_error: 0.3049 - val_loss: 0.0327 - val_mean_squared_error: 0.0177\n",
            "Epoch 3/300\n",
            "828/828 [==============================] - 268s 324ms/step - loss: 0.0191 - mean_squared_error: 0.3017 - val_loss: 0.0234 - val_mean_squared_error: 0.0038\n",
            "Epoch 4/300\n",
            "828/828 [==============================] - 268s 324ms/step - loss: 0.0174 - mean_squared_error: 0.2987 - val_loss: 0.0183 - val_mean_squared_error: 0.0056\n",
            "Epoch 5/300\n",
            "828/828 [==============================] - 268s 324ms/step - loss: 0.0158 - mean_squared_error: 0.2956 - val_loss: 0.0174 - val_mean_squared_error: 0.0043\n",
            "Epoch 6/300\n",
            "828/828 [==============================] - 268s 324ms/step - loss: 0.0142 - mean_squared_error: 0.2935 - val_loss: 0.0186 - val_mean_squared_error: 0.0060\n",
            "Epoch 7/300\n",
            "828/828 [==============================] - 268s 324ms/step - loss: 0.0129 - mean_squared_error: 0.2948 - val_loss: 0.0239 - val_mean_squared_error: 0.0070\n",
            "Epoch 8/300\n",
            "828/828 [==============================] - 268s 324ms/step - loss: 0.0117 - mean_squared_error: 0.2966 - val_loss: 0.0141 - val_mean_squared_error: 0.0058\n",
            "Epoch 9/300\n",
            "828/828 [==============================] - 269s 325ms/step - loss: 0.0105 - mean_squared_error: 0.2996 - val_loss: 0.0123 - val_mean_squared_error: 0.2414\n",
            "Epoch 10/300\n",
            "828/828 [==============================] - 268s 324ms/step - loss: 0.0096 - mean_squared_error: 0.3034 - val_loss: 0.0127 - val_mean_squared_error: 0.0095\n",
            "Epoch 11/300\n",
            "828/828 [==============================] - 269s 324ms/step - loss: 0.0087 - mean_squared_error: 0.3085 - val_loss: 0.0122 - val_mean_squared_error: 0.0038\n",
            "Epoch 12/300\n",
            "828/828 [==============================] - 268s 324ms/step - loss: 0.0081 - mean_squared_error: 0.3148 - val_loss: 0.0116 - val_mean_squared_error: 0.0230\n",
            "Epoch 13/300\n",
            "828/828 [==============================] - 268s 324ms/step - loss: 0.0076 - mean_squared_error: 0.3213 - val_loss: 0.0110 - val_mean_squared_error: 0.0050\n",
            "Epoch 14/300\n",
            "828/828 [==============================] - 268s 324ms/step - loss: 0.0071 - mean_squared_error: 0.3286 - val_loss: 0.0114 - val_mean_squared_error: 0.0039\n",
            "Epoch 15/300\n",
            "828/828 [==============================] - 268s 324ms/step - loss: 0.0065 - mean_squared_error: 0.3346 - val_loss: 0.0108 - val_mean_squared_error: 0.0027\n",
            "Epoch 16/300\n",
            "828/828 [==============================] - 268s 324ms/step - loss: 0.0061 - mean_squared_error: 0.3403 - val_loss: 0.0126 - val_mean_squared_error: 0.0040\n",
            "Epoch 17/300\n",
            "828/828 [==============================] - 268s 324ms/step - loss: 0.0057 - mean_squared_error: 0.3465 - val_loss: 0.0093 - val_mean_squared_error: 0.2692\n",
            "Epoch 18/300\n",
            "828/828 [==============================] - 268s 324ms/step - loss: 0.0054 - mean_squared_error: 0.3531 - val_loss: 0.0098 - val_mean_squared_error: 0.1354\n",
            "Epoch 19/300\n",
            "828/828 [==============================] - 268s 324ms/step - loss: 0.0051 - mean_squared_error: 0.3571 - val_loss: 0.0107 - val_mean_squared_error: 0.0096\n",
            "Epoch 20/300\n",
            "828/828 [==============================] - 268s 324ms/step - loss: 0.0048 - mean_squared_error: 0.3627 - val_loss: 0.0120 - val_mean_squared_error: 0.0342\n",
            "Epoch 21/300\n",
            "828/828 [==============================] - 268s 324ms/step - loss: 0.0046 - mean_squared_error: 0.3684 - val_loss: 0.0086 - val_mean_squared_error: 0.1199\n",
            "Epoch 22/300\n",
            "828/828 [==============================] - 268s 324ms/step - loss: 0.0043 - mean_squared_error: 0.3726 - val_loss: 0.0080 - val_mean_squared_error: 0.2475\n",
            "Epoch 23/300\n",
            "828/828 [==============================] - 269s 325ms/step - loss: 0.0042 - mean_squared_error: 0.3774 - val_loss: 0.0089 - val_mean_squared_error: 0.2423\n",
            "Epoch 24/300\n",
            "828/828 [==============================] - 269s 325ms/step - loss: 0.0042 - mean_squared_error: 0.3825 - val_loss: 0.0093 - val_mean_squared_error: 0.0502\n",
            "Epoch 25/300\n",
            "828/828 [==============================] - 268s 324ms/step - loss: 0.0038 - mean_squared_error: 0.3860 - val_loss: 0.0173 - val_mean_squared_error: 0.0034\n",
            "Epoch 26/300\n",
            "828/828 [==============================] - 268s 324ms/step - loss: 0.0036 - mean_squared_error: 0.3886 - val_loss: 0.0087 - val_mean_squared_error: 0.2287\n",
            "Epoch 27/300\n",
            "828/828 [==============================] - 268s 324ms/step - loss: 0.0036 - mean_squared_error: 0.3917 - val_loss: 0.0078 - val_mean_squared_error: 0.2582\n",
            "Epoch 28/300\n",
            "828/828 [==============================] - 268s 324ms/step - loss: 0.0036 - mean_squared_error: 0.3932 - val_loss: 0.0142 - val_mean_squared_error: 0.0335\n",
            "Epoch 29/300\n",
            "828/828 [==============================] - 268s 324ms/step - loss: 0.0035 - mean_squared_error: 0.3949 - val_loss: 0.0095 - val_mean_squared_error: 0.2628\n",
            "Epoch 30/300\n",
            "828/828 [==============================] - 269s 324ms/step - loss: 0.0033 - mean_squared_error: 0.3969 - val_loss: 0.0072 - val_mean_squared_error: 0.2990\n",
            "Epoch 31/300\n",
            "828/828 [==============================] - 269s 325ms/step - loss: 0.0031 - mean_squared_error: 0.3988 - val_loss: 0.0218 - val_mean_squared_error: 0.0180\n",
            "Epoch 32/300\n",
            "828/828 [==============================] - 269s 325ms/step - loss: 0.0029 - mean_squared_error: 0.4011 - val_loss: 0.0083 - val_mean_squared_error: 0.2485\n",
            "Epoch 33/300\n",
            "828/828 [==============================] - 268s 324ms/step - loss: 0.0029 - mean_squared_error: 0.4042 - val_loss: 0.0079 - val_mean_squared_error: 0.1558\n",
            "Epoch 34/300\n",
            "828/828 [==============================] - 268s 323ms/step - loss: 0.0029 - mean_squared_error: 0.4068 - val_loss: 0.0070 - val_mean_squared_error: 0.2015\n",
            "Epoch 35/300\n",
            "828/828 [==============================] - 268s 324ms/step - loss: 0.0027 - mean_squared_error: 0.4088 - val_loss: 0.0157 - val_mean_squared_error: 0.0032\n",
            "Epoch 36/300\n",
            "828/828 [==============================] - 268s 324ms/step - loss: 0.0027 - mean_squared_error: 0.4096 - val_loss: 0.0082 - val_mean_squared_error: 0.0089\n",
            "Epoch 37/300\n",
            "828/828 [==============================] - 268s 323ms/step - loss: 0.0027 - mean_squared_error: 0.4108 - val_loss: 0.0151 - val_mean_squared_error: 0.0329\n",
            "Epoch 38/300\n",
            "828/828 [==============================] - 268s 323ms/step - loss: 0.0026 - mean_squared_error: 0.4111 - val_loss: 0.0103 - val_mean_squared_error: 0.0814\n",
            "Epoch 39/300\n",
            "828/828 [==============================] - 268s 324ms/step - loss: 0.0025 - mean_squared_error: 0.4128 - val_loss: 0.0156 - val_mean_squared_error: 0.0703\n",
            "Epoch 40/300\n",
            "828/828 [==============================] - 268s 324ms/step - loss: 0.0025 - mean_squared_error: 0.4144 - val_loss: 0.0204 - val_mean_squared_error: 0.0200\n",
            "Epoch 41/300\n",
            "828/828 [==============================] - 268s 324ms/step - loss: 0.0024 - mean_squared_error: 0.4148 - val_loss: 0.0166 - val_mean_squared_error: 0.1643\n",
            "Epoch 42/300\n",
            "828/828 [==============================] - 268s 323ms/step - loss: 0.0023 - mean_squared_error: 0.4163 - val_loss: 0.0117 - val_mean_squared_error: 0.1085\n",
            "Epoch 43/300\n",
            "828/828 [==============================] - 268s 324ms/step - loss: 0.0022 - mean_squared_error: 0.4172 - val_loss: 0.0068 - val_mean_squared_error: 0.1650\n",
            "Epoch 44/300\n",
            "828/828 [==============================] - 267s 323ms/step - loss: 0.0022 - mean_squared_error: 0.4187 - val_loss: 0.0146 - val_mean_squared_error: 0.0799\n",
            "Epoch 45/300\n",
            "828/828 [==============================] - 268s 323ms/step - loss: 0.0021 - mean_squared_error: 0.4198 - val_loss: 0.0078 - val_mean_squared_error: 0.2877\n",
            "Epoch 46/300\n",
            "828/828 [==============================] - 268s 323ms/step - loss: 0.0020 - mean_squared_error: 0.4205 - val_loss: 0.0075 - val_mean_squared_error: 0.2482\n",
            "Epoch 47/300\n",
            "828/828 [==============================] - 267s 323ms/step - loss: 0.0019 - mean_squared_error: 0.4224 - val_loss: 0.0150 - val_mean_squared_error: 0.0205\n",
            "Epoch 48/300\n",
            "828/828 [==============================] - 267s 323ms/step - loss: 0.0019 - mean_squared_error: 0.4228 - val_loss: 0.0225 - val_mean_squared_error: 0.0048\n",
            "Epoch 49/300\n",
            "828/828 [==============================] - 268s 323ms/step - loss: 0.0019 - mean_squared_error: 0.4241 - val_loss: 0.0170 - val_mean_squared_error: 0.0135\n",
            "Epoch 50/300\n",
            "828/828 [==============================] - 268s 324ms/step - loss: 0.0018 - mean_squared_error: 0.4255 - val_loss: 0.0062 - val_mean_squared_error: 0.2623\n",
            "Epoch 51/300\n",
            "828/828 [==============================] - 268s 324ms/step - loss: 0.0018 - mean_squared_error: 0.4275 - val_loss: 0.0180 - val_mean_squared_error: 0.0711\n",
            "Epoch 52/300\n",
            "828/828 [==============================] - 268s 324ms/step - loss: 0.0017 - mean_squared_error: 0.4287 - val_loss: 0.0062 - val_mean_squared_error: 0.2296\n",
            "Epoch 53/300\n",
            "828/828 [==============================] - 268s 324ms/step - loss: 0.0017 - mean_squared_error: 0.4300 - val_loss: 0.0075 - val_mean_squared_error: 0.0030\n",
            "Epoch 54/300\n",
            "828/828 [==============================] - 268s 324ms/step - loss: 0.0017 - mean_squared_error: 0.4315 - val_loss: 0.0060 - val_mean_squared_error: 0.2819\n",
            "Epoch 55/300\n",
            "828/828 [==============================] - 268s 324ms/step - loss: 0.0017 - mean_squared_error: 0.4337 - val_loss: 0.0092 - val_mean_squared_error: 0.0031\n",
            "Epoch 56/300\n",
            "828/828 [==============================] - 268s 324ms/step - loss: 0.0016 - mean_squared_error: 0.4360 - val_loss: 0.0199 - val_mean_squared_error: 0.0428\n",
            "Epoch 57/300\n",
            "828/828 [==============================] - 268s 324ms/step - loss: 0.0015 - mean_squared_error: 0.4380 - val_loss: 0.0084 - val_mean_squared_error: 0.1774\n",
            "Epoch 58/300\n",
            "828/828 [==============================] - 268s 324ms/step - loss: 0.0015 - mean_squared_error: 0.4395 - val_loss: 0.0062 - val_mean_squared_error: 0.2771\n",
            "Epoch 59/300\n",
            "828/828 [==============================] - 268s 324ms/step - loss: 0.0015 - mean_squared_error: 0.4408 - val_loss: 0.0061 - val_mean_squared_error: 0.3117\n",
            "Epoch 60/300\n",
            "828/828 [==============================] - 268s 324ms/step - loss: 0.0015 - mean_squared_error: 0.4414 - val_loss: 0.0058 - val_mean_squared_error: 0.1952\n",
            "Epoch 61/300\n",
            "828/828 [==============================] - 268s 324ms/step - loss: 0.0015 - mean_squared_error: 0.4430 - val_loss: 0.0114 - val_mean_squared_error: 0.0210\n",
            "Epoch 62/300\n",
            "828/828 [==============================] - 268s 324ms/step - loss: 0.0015 - mean_squared_error: 0.4441 - val_loss: 0.0058 - val_mean_squared_error: 0.2476\n",
            "Epoch 63/300\n",
            "828/828 [==============================] - 268s 324ms/step - loss: 0.0014 - mean_squared_error: 0.4455 - val_loss: 0.0056 - val_mean_squared_error: 0.3740\n",
            "Epoch 64/300\n",
            "828/828 [==============================] - 268s 324ms/step - loss: 0.0014 - mean_squared_error: 0.4463 - val_loss: 0.0062 - val_mean_squared_error: 0.3574\n",
            "Epoch 65/300\n",
            "828/828 [==============================] - 268s 324ms/step - loss: 0.0014 - mean_squared_error: 0.4472 - val_loss: 0.0060 - val_mean_squared_error: 0.2302\n",
            "Epoch 66/300\n",
            "828/828 [==============================] - 268s 323ms/step - loss: 0.0014 - mean_squared_error: 0.4476 - val_loss: 0.0057 - val_mean_squared_error: 0.2616\n",
            "Epoch 67/300\n",
            "828/828 [==============================] - 268s 324ms/step - loss: 0.0014 - mean_squared_error: 0.4491 - val_loss: 0.0059 - val_mean_squared_error: 0.2408\n",
            "Epoch 68/300\n",
            "828/828 [==============================] - 268s 324ms/step - loss: 0.0013 - mean_squared_error: 0.4492 - val_loss: 0.0060 - val_mean_squared_error: 0.2253\n",
            "Epoch 69/300\n",
            "828/828 [==============================] - 268s 324ms/step - loss: 0.0013 - mean_squared_error: 0.4499 - val_loss: 0.0057 - val_mean_squared_error: 0.2653\n",
            "Epoch 70/300\n",
            "828/828 [==============================] - 268s 324ms/step - loss: 0.0013 - mean_squared_error: 0.4510 - val_loss: 0.0056 - val_mean_squared_error: 0.2973\n",
            "Epoch 71/300\n",
            "828/828 [==============================] - 268s 324ms/step - loss: 0.0013 - mean_squared_error: 0.4509 - val_loss: 0.0058 - val_mean_squared_error: 0.2681\n",
            "Epoch 72/300\n",
            "828/828 [==============================] - 268s 323ms/step - loss: 0.0013 - mean_squared_error: 0.4522 - val_loss: 0.0056 - val_mean_squared_error: 0.2349\n",
            "Epoch 73/300\n",
            "828/828 [==============================] - 268s 324ms/step - loss: 0.0013 - mean_squared_error: 0.4531 - val_loss: 0.0053 - val_mean_squared_error: 0.4442\n",
            "Epoch 74/300\n",
            "828/828 [==============================] - 268s 324ms/step - loss: 0.0013 - mean_squared_error: 0.4540 - val_loss: 0.0059 - val_mean_squared_error: 0.2716\n",
            "Epoch 75/300\n",
            "828/828 [==============================] - 268s 324ms/step - loss: 0.0012 - mean_squared_error: 0.4545 - val_loss: 0.0063 - val_mean_squared_error: 0.0094\n",
            "Epoch 76/300\n",
            "828/828 [==============================] - 268s 324ms/step - loss: 0.0012 - mean_squared_error: 0.4553 - val_loss: 0.0054 - val_mean_squared_error: 0.3241\n",
            "Epoch 77/300\n",
            "828/828 [==============================] - 268s 323ms/step - loss: 0.0012 - mean_squared_error: 0.4560 - val_loss: 0.0056 - val_mean_squared_error: 0.3241\n",
            "Epoch 78/300\n",
            "828/828 [==============================] - 268s 323ms/step - loss: 0.0012 - mean_squared_error: 0.4565 - val_loss: 0.0057 - val_mean_squared_error: 0.3363\n",
            "Epoch 79/300\n",
            "828/828 [==============================] - 268s 323ms/step - loss: 0.0012 - mean_squared_error: 0.4564 - val_loss: 0.0057 - val_mean_squared_error: 0.2370\n",
            "Epoch 80/300\n",
            "828/828 [==============================] - 268s 324ms/step - loss: 0.0012 - mean_squared_error: 0.4561 - val_loss: 0.0056 - val_mean_squared_error: 0.3059\n",
            "Epoch 81/300\n",
            "828/828 [==============================] - 268s 324ms/step - loss: 0.0012 - mean_squared_error: 0.4572 - val_loss: 0.0053 - val_mean_squared_error: 0.3061\n",
            "Epoch 82/300\n",
            "828/828 [==============================] - 268s 323ms/step - loss: 0.0011 - mean_squared_error: 0.4579 - val_loss: 0.0053 - val_mean_squared_error: 0.2148\n",
            "Epoch 83/300\n",
            "828/828 [==============================] - 268s 324ms/step - loss: 0.0011 - mean_squared_error: 0.4584 - val_loss: 0.0056 - val_mean_squared_error: 0.2611\n",
            "Epoch 84/300\n",
            "828/828 [==============================] - 268s 323ms/step - loss: 0.0011 - mean_squared_error: 0.4592 - val_loss: 0.0087 - val_mean_squared_error: 0.0062\n",
            "Epoch 85/300\n",
            "828/828 [==============================] - 268s 323ms/step - loss: 0.0011 - mean_squared_error: 0.4589 - val_loss: 0.0052 - val_mean_squared_error: 0.2738\n",
            "Epoch 86/300\n",
            "828/828 [==============================] - 268s 324ms/step - loss: 0.0011 - mean_squared_error: 0.4594 - val_loss: 0.0051 - val_mean_squared_error: 0.3057\n",
            "Epoch 87/300\n",
            "828/828 [==============================] - 268s 323ms/step - loss: 0.0011 - mean_squared_error: 0.4599 - val_loss: 0.0056 - val_mean_squared_error: 0.2181\n",
            "Epoch 88/300\n",
            "828/828 [==============================] - 268s 323ms/step - loss: 0.0010 - mean_squared_error: 0.4598 - val_loss: 0.0054 - val_mean_squared_error: 0.2619\n",
            "Epoch 89/300\n",
            "828/828 [==============================] - 267s 323ms/step - loss: 0.0010 - mean_squared_error: 0.4598 - val_loss: 0.0057 - val_mean_squared_error: 0.2225\n",
            "Epoch 90/300\n",
            "828/828 [==============================] - 268s 323ms/step - loss: 0.0010 - mean_squared_error: 0.4596 - val_loss: 0.0050 - val_mean_squared_error: 0.4057\n",
            "Epoch 91/300\n",
            "828/828 [==============================] - 268s 323ms/step - loss: 0.0010 - mean_squared_error: 0.4599 - val_loss: 0.0097 - val_mean_squared_error: 0.0098\n",
            "Epoch 92/300\n",
            "828/828 [==============================] - 267s 323ms/step - loss: 0.0010 - mean_squared_error: 0.4596 - val_loss: 0.0154 - val_mean_squared_error: 0.0089\n",
            "Epoch 93/300\n",
            "828/828 [==============================] - 267s 323ms/step - loss: 9.9515e-04 - mean_squared_error: 0.4593 - val_loss: 0.0058 - val_mean_squared_error: 0.2761\n",
            "Epoch 94/300\n",
            "828/828 [==============================] - 268s 323ms/step - loss: 9.5606e-04 - mean_squared_error: 0.4590 - val_loss: 0.0058 - val_mean_squared_error: 0.3099\n",
            "Epoch 95/300\n",
            "828/828 [==============================] - 268s 323ms/step - loss: 9.4990e-04 - mean_squared_error: 0.4582 - val_loss: 0.0059 - val_mean_squared_error: 0.3611\n",
            "Epoch 96/300\n",
            "828/828 [==============================] - 268s 323ms/step - loss: 9.5958e-04 - mean_squared_error: 0.4575 - val_loss: 0.0051 - val_mean_squared_error: 0.4745\n",
            "Epoch 97/300\n",
            "828/828 [==============================] - 268s 323ms/step - loss: 9.7285e-04 - mean_squared_error: 0.4585 - val_loss: 0.0068 - val_mean_squared_error: 0.3761\n",
            "Epoch 98/300\n",
            "828/828 [==============================] - 267s 323ms/step - loss: 9.7797e-04 - mean_squared_error: 0.4587 - val_loss: 0.0052 - val_mean_squared_error: 0.3917\n",
            "Epoch 99/300\n",
            "828/828 [==============================] - 268s 323ms/step - loss: 9.6379e-04 - mean_squared_error: 0.4587 - val_loss: 0.0054 - val_mean_squared_error: 0.3181\n",
            "Epoch 100/300\n",
            "828/828 [==============================] - 268s 323ms/step - loss: 9.5863e-04 - mean_squared_error: 0.4588 - val_loss: 0.0052 - val_mean_squared_error: 0.3589\n",
            "Epoch 101/300\n",
            "828/828 [==============================] - 268s 323ms/step - loss: 9.4974e-04 - mean_squared_error: 0.4580 - val_loss: 0.0050 - val_mean_squared_error: 0.3505\n",
            "Epoch 102/300\n",
            "828/828 [==============================] - 268s 324ms/step - loss: 9.4158e-04 - mean_squared_error: 0.4587 - val_loss: 0.0051 - val_mean_squared_error: 0.0655\n",
            "Epoch 103/300\n",
            "828/828 [==============================] - 268s 324ms/step - loss: 9.3237e-04 - mean_squared_error: 0.4582 - val_loss: 0.0055 - val_mean_squared_error: 0.0027\n",
            "Epoch 104/300\n",
            "828/828 [==============================] - 268s 323ms/step - loss: 9.0640e-04 - mean_squared_error: 0.4571 - val_loss: 0.0063 - val_mean_squared_error: 0.3665\n",
            "Epoch 105/300\n",
            "828/828 [==============================] - 268s 324ms/step - loss: 8.8811e-04 - mean_squared_error: 0.4574 - val_loss: 0.0061 - val_mean_squared_error: 0.0066\n",
            "Epoch 106/300\n",
            "828/828 [==============================] - 268s 324ms/step - loss: 8.8955e-04 - mean_squared_error: 0.4578 - val_loss: 0.0088 - val_mean_squared_error: 0.0141\n",
            "Epoch 107/300\n",
            "828/828 [==============================] - 268s 324ms/step - loss: 8.7562e-04 - mean_squared_error: 0.4580 - val_loss: 0.0061 - val_mean_squared_error: 0.0148\n",
            "Epoch 108/300\n",
            "828/828 [==============================] - 268s 324ms/step - loss: 8.6201e-04 - mean_squared_error: 0.4573 - val_loss: 0.0071 - val_mean_squared_error: 0.0314\n",
            "Epoch 109/300\n",
            "828/828 [==============================] - 268s 324ms/step - loss: 8.8874e-04 - mean_squared_error: 0.4570 - val_loss: 0.0051 - val_mean_squared_error: 0.3210\n",
            "Epoch 110/300\n",
            "828/828 [==============================] - 268s 324ms/step - loss: 8.8881e-04 - mean_squared_error: 0.4570 - val_loss: 0.0049 - val_mean_squared_error: 0.3138\n",
            "Epoch 111/300\n",
            "828/828 [==============================] - 268s 324ms/step - loss: 8.9784e-04 - mean_squared_error: 0.4566 - val_loss: 0.0051 - val_mean_squared_error: 0.3425\n",
            "Epoch 112/300\n",
            "828/828 [==============================] - 268s 324ms/step - loss: 8.5087e-04 - mean_squared_error: 0.4572 - val_loss: 0.0053 - val_mean_squared_error: 0.2370\n",
            "Epoch 113/300\n",
            "828/828 [==============================] - 268s 324ms/step - loss: 8.2901e-04 - mean_squared_error: 0.4571 - val_loss: 0.0050 - val_mean_squared_error: 0.4835\n",
            "Epoch 114/300\n",
            "828/828 [==============================] - 268s 324ms/step - loss: 8.2182e-04 - mean_squared_error: 0.4570 - val_loss: 0.0060 - val_mean_squared_error: 0.0066\n",
            "Epoch 115/300\n",
            "828/828 [==============================] - 268s 324ms/step - loss: 8.3157e-04 - mean_squared_error: 0.4558 - val_loss: 0.0053 - val_mean_squared_error: 0.3087\n",
            "Epoch 116/300\n",
            "828/828 [==============================] - 268s 324ms/step - loss: 9.2198e-04 - mean_squared_error: 0.4553 - val_loss: 0.0067 - val_mean_squared_error: 0.0037\n",
            "Epoch 117/300\n",
            "828/828 [==============================] - 268s 324ms/step - loss: 9.6993e-04 - mean_squared_error: 0.4536 - val_loss: 0.0071 - val_mean_squared_error: 0.0091\n",
            "Epoch 118/300\n",
            "828/828 [==============================] - 268s 324ms/step - loss: 8.3920e-04 - mean_squared_error: 0.4542 - val_loss: 0.0056 - val_mean_squared_error: 0.0020\n",
            "Epoch 119/300\n",
            "828/828 [==============================] - 268s 324ms/step - loss: 7.2886e-04 - mean_squared_error: 0.4550 - val_loss: 0.0052 - val_mean_squared_error: 0.0187\n",
            "Epoch 120/300\n",
            "828/828 [==============================] - 268s 324ms/step - loss: 6.9730e-04 - mean_squared_error: 0.4553 - val_loss: 0.0048 - val_mean_squared_error: 0.1862\n",
            "Epoch 121/300\n",
            "828/828 [==============================] - 268s 324ms/step - loss: 7.2496e-04 - mean_squared_error: 0.4552 - val_loss: 0.0091 - val_mean_squared_error: 0.0132\n",
            "Epoch 122/300\n",
            "828/828 [==============================] - 268s 324ms/step - loss: 7.7394e-04 - mean_squared_error: 0.4545 - val_loss: 0.0049 - val_mean_squared_error: 0.2686\n",
            "Epoch 123/300\n",
            "828/828 [==============================] - 268s 324ms/step - loss: 7.8452e-04 - mean_squared_error: 0.4537 - val_loss: 0.0047 - val_mean_squared_error: 0.4585\n",
            "Epoch 124/300\n",
            "828/828 [==============================] - 268s 324ms/step - loss: 7.7088e-04 - mean_squared_error: 0.4539 - val_loss: 0.0048 - val_mean_squared_error: 0.3618\n",
            "Epoch 125/300\n",
            "828/828 [==============================] - 268s 324ms/step - loss: 7.4880e-04 - mean_squared_error: 0.4534 - val_loss: 0.0048 - val_mean_squared_error: 0.3270\n",
            "Epoch 126/300\n",
            "828/828 [==============================] - 268s 323ms/step - loss: 7.4172e-04 - mean_squared_error: 0.4539 - val_loss: 0.0050 - val_mean_squared_error: 0.2635\n",
            "Epoch 127/300\n",
            "828/828 [==============================] - 268s 324ms/step - loss: 7.3783e-04 - mean_squared_error: 0.4541 - val_loss: 0.0052 - val_mean_squared_error: 0.0075\n",
            "Epoch 128/300\n",
            "828/828 [==============================] - 268s 324ms/step - loss: 7.3593e-04 - mean_squared_error: 0.4542 - val_loss: 0.0047 - val_mean_squared_error: 0.4140\n",
            "Epoch 129/300\n",
            "828/828 [==============================] - 268s 324ms/step - loss: 7.2822e-04 - mean_squared_error: 0.4540 - val_loss: 0.0050 - val_mean_squared_error: 0.1344\n",
            "Epoch 130/300\n",
            "828/828 [==============================] - 268s 323ms/step - loss: 7.2886e-04 - mean_squared_error: 0.4533 - val_loss: 0.0065 - val_mean_squared_error: 0.0050\n",
            "Epoch 131/300\n",
            "828/828 [==============================] - 268s 324ms/step - loss: 7.3095e-04 - mean_squared_error: 0.4527 - val_loss: 0.0047 - val_mean_squared_error: 0.3264\n",
            "Epoch 132/300\n",
            "828/828 [==============================] - 268s 324ms/step - loss: 7.3384e-04 - mean_squared_error: 0.4522 - val_loss: 0.0052 - val_mean_squared_error: 0.3284\n",
            "Epoch 133/300\n",
            "828/828 [==============================] - 268s 324ms/step - loss: 7.2825e-04 - mean_squared_error: 0.4525 - val_loss: 0.0070 - val_mean_squared_error: 0.0708\n",
            "Epoch 134/300\n",
            "828/828 [==============================] - 269s 324ms/step - loss: 7.2802e-04 - mean_squared_error: 0.4525 - val_loss: 0.0050 - val_mean_squared_error: 0.3286\n",
            "Epoch 135/300\n",
            "828/828 [==============================] - 268s 324ms/step - loss: 7.2805e-04 - mean_squared_error: 0.4519 - val_loss: 0.0065 - val_mean_squared_error: 0.0068\n",
            "Epoch 136/300\n",
            "828/828 [==============================] - 268s 324ms/step - loss: 7.1694e-04 - mean_squared_error: 0.4519 - val_loss: 0.0080 - val_mean_squared_error: 0.2436\n",
            "Epoch 137/300\n",
            "828/828 [==============================] - 270s 326ms/step - loss: 7.1091e-04 - mean_squared_error: 0.4515 - val_loss: 0.0061 - val_mean_squared_error: 0.0773\n",
            "Epoch 138/300\n",
            "828/828 [==============================] - 269s 324ms/step - loss: 7.0288e-04 - mean_squared_error: 0.4516 - val_loss: 0.0066 - val_mean_squared_error: 0.0064\n",
            "Epoch 139/300\n",
            "828/828 [==============================] - 269s 324ms/step - loss: 7.0465e-04 - mean_squared_error: 0.4506 - val_loss: 0.0051 - val_mean_squared_error: 0.0023\n",
            "Epoch 140/300\n",
            "828/828 [==============================] - 269s 325ms/step - loss: 7.0740e-04 - mean_squared_error: 0.4502 - val_loss: 0.0062 - val_mean_squared_error: 0.0084\n",
            "Epoch 141/300\n",
            "828/828 [==============================] - 269s 324ms/step - loss: 6.7616e-04 - mean_squared_error: 0.4495 - val_loss: 0.0050 - val_mean_squared_error: 0.0090\n",
            "Epoch 142/300\n",
            "828/828 [==============================] - 269s 324ms/step - loss: 6.5810e-04 - mean_squared_error: 0.4484 - val_loss: 0.0056 - val_mean_squared_error: 0.0042\n",
            "Epoch 143/300\n",
            "828/828 [==============================] - 269s 325ms/step - loss: 6.5841e-04 - mean_squared_error: 0.4484 - val_loss: 0.0059 - val_mean_squared_error: 0.0306\n",
            "Epoch 144/300\n",
            "828/828 [==============================] - 269s 325ms/step - loss: 6.7560e-04 - mean_squared_error: 0.4471 - val_loss: 0.0067 - val_mean_squared_error: 0.0313\n",
            "Epoch 145/300\n",
            "828/828 [==============================] - 269s 324ms/step - loss: 6.8921e-04 - mean_squared_error: 0.4477 - val_loss: 0.0051 - val_mean_squared_error: 0.3115\n",
            "Epoch 146/300\n",
            "828/828 [==============================] - 269s 325ms/step - loss: 6.8252e-04 - mean_squared_error: 0.4482 - val_loss: 0.0047 - val_mean_squared_error: 0.4090\n",
            "Epoch 147/300\n",
            "828/828 [==============================] - 269s 325ms/step - loss: 6.7292e-04 - mean_squared_error: 0.4479 - val_loss: 0.0066 - val_mean_squared_error: 0.0084\n",
            "Epoch 148/300\n",
            "828/828 [==============================] - 269s 325ms/step - loss: 6.6174e-04 - mean_squared_error: 0.4477 - val_loss: 0.0049 - val_mean_squared_error: 0.3158\n",
            "Epoch 149/300\n",
            "828/828 [==============================] - 269s 325ms/step - loss: 6.5710e-04 - mean_squared_error: 0.4483 - val_loss: 0.0061 - val_mean_squared_error: 0.0082\n",
            "Epoch 150/300\n",
            "828/828 [==============================] - 269s 325ms/step - loss: 6.6504e-04 - mean_squared_error: 0.4489 - val_loss: 0.0066 - val_mean_squared_error: 0.0089\n",
            "Epoch 151/300\n",
            "828/828 [==============================] - 269s 325ms/step - loss: 6.5922e-04 - mean_squared_error: 0.4484 - val_loss: 0.0059 - val_mean_squared_error: 0.0127\n",
            "Epoch 152/300\n",
            "828/828 [==============================] - 269s 325ms/step - loss: 6.5585e-04 - mean_squared_error: 0.4483 - val_loss: 0.0048 - val_mean_squared_error: 0.3803\n",
            "Epoch 153/300\n",
            "828/828 [==============================] - 269s 325ms/step - loss: 6.4724e-04 - mean_squared_error: 0.4483 - val_loss: 0.0058 - val_mean_squared_error: 0.0239\n"
          ]
        }
      ],
      "source": [
        "history = model.fit(\n",
        "    train_ds,\n",
        "    validation_data=test_ds,\n",
        "    epochs=N_EPOCHS,\n",
        "    batch_size=BATCH_SIZE,\n",
        "    callbacks=callbacks,\n",
        "    verbose=1\n",
        ")\n"
      ]
    },
    {
      "cell_type": "markdown",
      "source": [
        "# Save Model"
      ],
      "metadata": {
        "id": "HT68Jm8AEluI"
      }
    },
    {
      "cell_type": "code",
      "source": [
        "timestamp = datetime.datetime.now().strftime('%b-%d-%I:%M%p')\n",
        "model_path = os.path.join(MODEL_PATH, EXP_NAME)\n",
        "if not os.path.exists(model_path):\n",
        "    os.makedirs(model_path)\n",
        "\n",
        "model.save(os.path.join(model_path, timestamp))"
      ],
      "metadata": {
        "id": "xfUmF_1mEjXH"
      },
      "execution_count": 28,
      "outputs": []
    },
    {
      "cell_type": "markdown",
      "source": [
        "# Save Predictions"
      ],
      "metadata": {
        "id": "-PWi28iOKpXe"
      }
    },
    {
      "cell_type": "code",
      "execution_count": null,
      "metadata": {
        "colab": {
          "base_uri": "https://localhost:8080/"
        },
        "id": "LLDJf93Z0YxY",
        "outputId": "a4f5ff0b-673c-442d-c5e9-ed7d6b5b988d"
      },
      "outputs": [
        {
          "output_type": "stream",
          "name": "stderr",
          "text": [
            "1656it [00:09, 172.35it/s]\n"
          ]
        }
      ],
      "source": [
        "test_ds_unbatched = test_ds.unbatch()\n",
        "\n",
        "pred_path = os.path.join(PRED_PATH, EXP_NAME, timestamp)\n",
        "if not os.path.exists(pred_path):\n",
        "    os.makedirs(pred_path)\n",
        "\n",
        "for idx, (input, target) in enumerate(tqdm(test_ds_unbatched)):\n",
        "    if not idx % 40 == 0:\n",
        "        continue\n",
        "\n",
        "    prediction = tf.squeeze(\n",
        "        model.predict(\n",
        "            tf.expand_dims(input, axis=0)\n",
        "            )\n",
        "        ).numpy()\n",
        "    prediction[target > 0.9] = 1.0\n",
        "\n",
        "    plt.figure(figsize=(12, 4))\n",
        "    plt.subplot(1, 3, 1)\n",
        "    plt.imshow(input)\n",
        "    plt.axis(\"off\")\n",
        "    plt.title(\"INPUT\")\n",
        "    plt.subplot(1, 3, 2)\n",
        "    plt.imshow(target)\n",
        "    plt.axis(\"off\")\n",
        "    plt.title(\"TARGET\")\n",
        "    plt.subplot(1, 3, 3)\n",
        "    plt.imshow(prediction)\n",
        "    plt.axis(\"off\")\n",
        "    plt.title(\"PREDICTION\")\n",
        "    plt.tight_layout()\n",
        "    plt.savefig(os.path.join(pred_path, f\"{idx}.jpg\"))\n",
        "    plt.close()  \n"
      ]
    },
    {
      "cell_type": "code",
      "source": [
        "loss = history.history['loss']\n",
        "val_loss = history.history['val_loss']\n",
        "\n",
        "plt.figure(figsize=(8, 6))\n",
        "plt.plot(loss, label='Training Loss')\n",
        "plt.plot(val_loss, label='Validation Loss')\n",
        "plt.legend(loc='upper right')\n",
        "plt.ylabel('Attention MAE')\n",
        "plt.title('Training and Validation Loss')\n",
        "plt.xlabel('Epoch')\n",
        "plt.tight_layout()\n",
        "plt.savefig(os.path.join(model_path, timestamp + \".jpg\"))\n",
        "plt.close()"
      ],
      "metadata": {
        "id": "dq-aXv2mIwA8"
      },
      "execution_count": 31,
      "outputs": []
    }
  ],
  "metadata": {
    "kernelspec": {
      "display_name": "Python 3.10.6 ('Ai')",
      "language": "python",
      "name": "python3"
    },
    "language_info": {
      "codemirror_mode": {
        "name": "ipython",
        "version": 3
      },
      "file_extension": ".py",
      "mimetype": "text/x-python",
      "name": "python",
      "nbconvert_exporter": "python",
      "pygments_lexer": "ipython3",
      "version": "3.10.6"
    },
    "orig_nbformat": 4,
    "vscode": {
      "interpreter": {
        "hash": "cc12dd51c08fff59e312c49b5273cbf2a12939660509ea1a4d83cd89b0463726"
      }
    },
    "colab": {
      "provenance": [],
      "machine_shape": "hm",
      "include_colab_link": true
    },
    "accelerator": "GPU"
  },
  "nbformat": 4,
  "nbformat_minor": 0
}