{
  "cells": [
    {
      "cell_type": "markdown",
      "metadata": {
        "id": "view-in-github",
        "colab_type": "text"
      },
      "source": [
        "<a href=\"https://colab.research.google.com/github/atick-faisal/TAVI/blob/main/src/colab/MultiViewUNet.ipynb\" target=\"_parent\"><img src=\"https://colab.research.google.com/assets/colab-badge.svg\" alt=\"Open In Colab\"/></a>"
      ]
    },
    {
      "cell_type": "markdown",
      "source": [
        "# Google Drive"
      ],
      "metadata": {
        "id": "0estJx3IDzz4"
      }
    },
    {
      "cell_type": "code",
      "source": [
        "from google.colab import drive\n",
        "drive.mount('/content/drive')"
      ],
      "metadata": {
        "colab": {
          "base_uri": "https://localhost:8080/"
        },
        "id": "WsH9ydF7Dwpf",
        "outputId": "ba2b7be1-02d4-4c66-8796-8f8f95b26a7f"
      },
      "execution_count": null,
      "outputs": [
        {
          "output_type": "stream",
          "name": "stdout",
          "text": [
            "Mounted at /content/drive\n"
          ]
        }
      ]
    },
    {
      "cell_type": "markdown",
      "metadata": {
        "id": "MMf8mzRT0YxP"
      },
      "source": [
        "# Download Dataset"
      ]
    },
    {
      "cell_type": "code",
      "execution_count": null,
      "metadata": {
        "colab": {
          "base_uri": "https://localhost:8080/"
        },
        "id": "Zm_HJEfM0YxS",
        "outputId": "ad3c5e8b-baee-4704-d417-4fbaf225fa47"
      },
      "outputs": [
        {
          "output_type": "stream",
          "name": "stdout",
          "text": [
            "Downloading...\n",
            "From: https://drive.google.com/uc?id=1SAiWxbd4ECCfcJh3VWDvTSVaF-q5fsQh\n",
            "To: /content/Dataset_v4.zip\n",
            "100% 234M/234M [00:04<00:00, 54.3MB/s]\n"
          ]
        }
      ],
      "source": [
        "!gdown \"1SAiWxbd4ECCfcJh3VWDvTSVaF-q5fsQh\"\n",
        "!unzip -o \"Dataset_v4.zip\" > /dev/null\n"
      ]
    },
    {
      "cell_type": "markdown",
      "metadata": {
        "id": "Vemh_spU0YxT"
      },
      "source": [
        "# Imports"
      ]
    },
    {
      "cell_type": "code",
      "execution_count": null,
      "metadata": {
        "id": "w0KYlE-90YxT"
      },
      "outputs": [],
      "source": [
        "import os\n",
        "import cv2\n",
        "import random\n",
        "import datetime\n",
        "import matplotlib\n",
        "import numpy as np\n",
        "import tensorflow as tf\n",
        "import matplotlib.pyplot as plt\n",
        "\n",
        "from tqdm import tqdm\n",
        "from numpy.typing import NDArray\n",
        "\n",
        "matplotlib.use('Agg')\n",
        "plt.rcParams[\"font.size\"] = 16\n"
      ]
    },
    {
      "cell_type": "markdown",
      "metadata": {
        "id": "vE8WOTRj0YxT"
      },
      "source": [
        "# Config"
      ]
    },
    {
      "cell_type": "code",
      "execution_count": null,
      "metadata": {
        "id": "O5Vvm79c0YxT"
      },
      "outputs": [],
      "source": [
        "EXP_NAME        = \"MultiVewUNet-256x256-BS8-LR0.001-EP300-GEO_AUGXY\"\n",
        "\n",
        "DATASET_PATH    = \"/content/Images/\"\n",
        "TRAIN_DIR       = \"Train/\"\n",
        "TEST_DIR        = \"Test/\"\n",
        "INPUT_DIR       = \"Input/\"\n",
        "TARGET_DIR      = \"Target/\"\n",
        "MODEL_PATH      = \"/content/drive/MyDrive/Research/TAVI/Models/\"\n",
        "PRED_PATH       = \"/content/drive/MyDrive/Research/TAVI/Predictions/\"\n",
        "\n",
        "IMG_SIZE        = 256\n",
        "BATCH_SIZE      = 8\n",
        "VAL_SPLIT       = 0.2\n",
        "LEARNING_RATE   = 0.001\n",
        "N_EPOCHS        = 300\n",
        "PATIENCE        = 30\n"
      ]
    },
    {
      "cell_type": "markdown",
      "metadata": {
        "id": "YmMjbvFH0YxU"
      },
      "source": [
        "# Architecture"
      ]
    },
    {
      "cell_type": "code",
      "execution_count": null,
      "metadata": {
        "id": "xecJpVUs0YxU"
      },
      "outputs": [],
      "source": [
        "class UNet:\n",
        "    def __init__(\n",
        "        self,\n",
        "        img_size: int,\n",
        "        n_channels: int = 3,\n",
        "        width: int = 32,\n",
        "        depth: int = 4,\n",
        "        kernel_size: int = 3\n",
        "    ):\n",
        "        self.img_size = img_size\n",
        "        self.n_channels = n_channels\n",
        "        self.width = width\n",
        "        self.depth = depth\n",
        "        self.kernel_size = kernel_size\n",
        "\n",
        "    @staticmethod\n",
        "    def conv(\n",
        "        x: tf.Tensor,\n",
        "        filters: int,\n",
        "        kernel_size: int\n",
        "    ) -> tf.Tensor:\n",
        "        for i in range(2):\n",
        "            x = tf.keras.layers.Conv2D(\n",
        "                filters=filters,\n",
        "                kernel_size=kernel_size,\n",
        "                strides=1,\n",
        "                padding=\"same\",\n",
        "                data_format=\"channels_last\",\n",
        "                dilation_rate=1,\n",
        "                groups=1,\n",
        "                activation=None,\n",
        "                use_bias=True,\n",
        "                kernel_initializer=\"glorot_uniform\",\n",
        "                bias_initializer=\"zeros\"\n",
        "            )(x)\n",
        "\n",
        "            x = tf.keras.layers.BatchNormalization()(x)\n",
        "            x = tf.keras.layers.Activation(\"relu\")(x)\n",
        "\n",
        "        return x\n",
        "\n",
        "    @staticmethod\n",
        "    def deconv(x: tf.Tensor, filters: int) -> tf.Tensor:\n",
        "        x = tf.keras.layers.Conv2DTranspose(\n",
        "            filters=filters,\n",
        "            kernel_size=2,\n",
        "            strides=2,\n",
        "            padding=\"same\",\n",
        "            output_padding=None,\n",
        "            data_format=None,\n",
        "            dilation_rate=1,\n",
        "            activation=None,\n",
        "            use_bias=True,\n",
        "            kernel_initializer=\"glorot_uniform\",\n",
        "            bias_initializer=\"zeros\"\n",
        "        )(x)\n",
        "\n",
        "        x = tf.keras.layers.BatchNormalization()(x)\n",
        "        x = tf.keras.layers.Activation(\"relu\")(x)\n",
        "\n",
        "        return x\n",
        "\n",
        "    @staticmethod\n",
        "    def output(x: tf.Tensor) -> tf.Tensor:\n",
        "        return tf.keras.layers.Conv2D(3, (1, 1), activation=\"sigmoid\")(x)\n",
        "\n",
        "    @staticmethod\n",
        "    def pool(x: tf.Tensor, pool_size: int = 2) -> tf.Tensor:\n",
        "        return tf.keras.layers.MaxPool2D(pool_size)(x)\n",
        "\n",
        "    def __call__(self) -> tf.keras.Model:\n",
        "        inputs = tf.keras.layers.Input(\n",
        "            shape=(self.img_size, self.img_size, self.n_channels)\n",
        "        )\n",
        "\n",
        "        # scaled = tf.keras.layers.Rescaling(1./255.0, offset=0)(inputs)\n",
        "\n",
        "        # ------------------ Downsampling ---------------------\n",
        "        downsample_layers = []\n",
        "        downsample_layers.append(\n",
        "            self.conv(\n",
        "                x=inputs,\n",
        "                filters=self.width,\n",
        "                kernel_size=self.kernel_size\n",
        "            )\n",
        "        )\n",
        "        for i in range(1, self.depth):\n",
        "            filters = int((2 ** i) * self.width)\n",
        "            downsample_layers.append(\n",
        "                self.pool(\n",
        "                    self.conv(\n",
        "                        x=downsample_layers[i - 1],\n",
        "                        filters=filters,\n",
        "                        kernel_size=self.kernel_size\n",
        "                    )\n",
        "                )\n",
        "            )\n",
        "\n",
        "        # ------------------- Features --------------------\n",
        "        n_features = int((2 ** self.depth) * self.width)\n",
        "        self.features = self.pool(\n",
        "            self.conv(\n",
        "                x=downsample_layers[-1],\n",
        "                filters=n_features,\n",
        "                kernel_size=self.kernel_size\n",
        "            )\n",
        "        )\n",
        "\n",
        "        # ------------------- Upsampling --------------------\n",
        "        upsample_layers = []\n",
        "        upsample_layers.append(self.features)\n",
        "        for i in range(1, self.depth + 1):\n",
        "            filters = int((2 ** (self.depth - i)) * self.width)\n",
        "            upsample_layers.append(\n",
        "                self.conv(\n",
        "                    x=tf.keras.layers.concatenate([\n",
        "                        downsample_layers[self.depth - i],\n",
        "                        self.deconv(\n",
        "                            x=upsample_layers[i - 1],\n",
        "                            filters=filters\n",
        "                        )\n",
        "                    ]),\n",
        "                    filters=filters,\n",
        "                    kernel_size=self.kernel_size\n",
        "                )\n",
        "            )\n",
        "\n",
        "        # ---------------------- Output -----------------------\n",
        "        outputs = self.output(upsample_layers[-1])\n",
        "\n",
        "        return tf.keras.Model(inputs, outputs)\n"
      ]
    },
    {
      "cell_type": "markdown",
      "metadata": {
        "id": "ga47oOoc0YxV"
      },
      "source": [
        "# Loss Functions"
      ]
    },
    {
      "cell_type": "code",
      "execution_count": null,
      "metadata": {
        "id": "ooE90mpc0YxW"
      },
      "outputs": [],
      "source": [
        "def attention_mse(y_true, y_pred):\n",
        "    _y_true = y_true[y_true != 1.0]\n",
        "    _y_pred = y_pred[y_true != 1.0]\n",
        "    squared_difference = tf.square(_y_true - _y_pred)\n",
        "    return tf.reduce_mean(squared_difference, axis=-1)\n",
        "\n",
        "\n",
        "def attention_mae(y_true, y_pred):\n",
        "    _y_true = y_true[y_true != 1.0]\n",
        "    _y_pred = y_pred[y_true != 1.0]\n",
        "    squared_difference = tf.abs(_y_true - _y_pred)\n",
        "    return tf.reduce_mean(squared_difference, axis=-1)\n"
      ]
    },
    {
      "cell_type": "markdown",
      "metadata": {
        "id": "wOgmHYSJ0YxW"
      },
      "source": [
        "# Utils"
      ]
    },
    {
      "cell_type": "code",
      "execution_count": null,
      "metadata": {
        "id": "cSrfyX260YxW"
      },
      "outputs": [],
      "source": [
        "def load_data_from_dir(path: str) -> tf.data.Dataset:\n",
        "    return tf.keras.utils.image_dataset_from_directory(\n",
        "        directory=path,\n",
        "        labels=None,\n",
        "        color_mode='rgb',\n",
        "        batch_size=BATCH_SIZE,\n",
        "        image_size=(IMG_SIZE, IMG_SIZE),\n",
        "        shuffle=True,\n",
        "        seed=42,\n",
        "        # validation_split=VAL_SPLIT,\n",
        "        # subset=subset,\n",
        "        interpolation='bilinear',\n",
        "        follow_links=False,\n",
        "        crop_to_aspect_ratio=False\n",
        "    )\n"
      ]
    },
    {
      "cell_type": "markdown",
      "metadata": {
        "id": "CyS-63WI0YxX"
      },
      "source": [
        "# Dataloaders"
      ]
    },
    {
      "cell_type": "code",
      "execution_count": null,
      "metadata": {
        "colab": {
          "base_uri": "https://localhost:8080/"
        },
        "id": "71Dxzfkf0YxX",
        "outputId": "4941cec0-fbe5-4b16-9a6c-0d2d77af9f2e"
      },
      "outputs": [
        {
          "output_type": "stream",
          "name": "stdout",
          "text": [
            "Found 11040 files belonging to 1 classes.\n",
            "Found 11040 files belonging to 1 classes.\n",
            "Found 1656 files belonging to 1 classes.\n",
            "Found 1656 files belonging to 1 classes.\n",
            "(TensorSpec(shape=(None, 256, 256, 3), dtype=tf.float32, name=None), TensorSpec(shape=(None, 256, 256, 3), dtype=tf.float32, name=None))\n",
            "(TensorSpec(shape=(None, 256, 256, 3), dtype=tf.float32, name=None), TensorSpec(shape=(None, 256, 256, 3), dtype=tf.float32, name=None))\n"
          ]
        }
      ],
      "source": [
        "trainX = load_data_from_dir(os.path.join(DATASET_PATH, TRAIN_DIR, INPUT_DIR))\n",
        "trainY = load_data_from_dir(os.path.join(DATASET_PATH, TRAIN_DIR, TARGET_DIR))\n",
        "testX = load_data_from_dir(os.path.join(DATASET_PATH, TEST_DIR, INPUT_DIR))\n",
        "testY = load_data_from_dir(os.path.join(DATASET_PATH, TEST_DIR, TARGET_DIR))\n",
        "\n",
        "train_ds = tf.data.Dataset.zip((trainX, trainY))\n",
        "test_ds = tf.data.Dataset.zip((testX, testY))\n",
        "\n",
        "print(train_ds.element_spec)\n",
        "print(test_ds.element_spec)\n"
      ]
    },
    {
      "cell_type": "markdown",
      "source": [
        "# Normalization"
      ],
      "metadata": {
        "id": "01HaegmR278r"
      }
    },
    {
      "cell_type": "code",
      "source": [
        "normalization_layer = tf.keras.layers.Rescaling(1./255)\n",
        "train_ds = train_ds.map(lambda x, y: (normalization_layer(x), normalization_layer(y)))\n",
        "test_ds = test_ds.map(lambda x, y: (normalization_layer(x), normalization_layer(y)))"
      ],
      "metadata": {
        "id": "mDeZuH0p26pE"
      },
      "execution_count": null,
      "outputs": []
    },
    {
      "cell_type": "markdown",
      "metadata": {
        "id": "eHlKefA_0YxX"
      },
      "source": [
        "# Optimization"
      ]
    },
    {
      "cell_type": "code",
      "execution_count": null,
      "metadata": {
        "id": "U-HMkfOG0YxX"
      },
      "outputs": [],
      "source": [
        "AUTOTUNE = tf.data.AUTOTUNE\n",
        "\n",
        "train_ds = train_ds.cache().prefetch(buffer_size=AUTOTUNE)\n",
        "test_ds = test_ds.cache().prefetch(buffer_size=AUTOTUNE)\n"
      ]
    },
    {
      "cell_type": "markdown",
      "metadata": {
        "id": "w50akeqN0YxX"
      },
      "source": [
        "# Training Config"
      ]
    },
    {
      "cell_type": "code",
      "execution_count": null,
      "metadata": {
        "id": "2YvF85Wg0YxY"
      },
      "outputs": [],
      "source": [
        "callbacks = [\n",
        "    tf.keras.callbacks.EarlyStopping(\n",
        "        monitor=\"val_loss\",\n",
        "        patience=PATIENCE,\n",
        "        restore_best_weights=True\n",
        "    )\n",
        "]\n",
        "\n",
        "optimizer = tf.keras.optimizers.Adam(\n",
        "    learning_rate=LEARNING_RATE\n",
        ")\n",
        "\n",
        "model = UNet(IMG_SIZE)()\n",
        "\n",
        "model.compile(\n",
        "    loss=attention_mse,\n",
        "    optimizer=optimizer,\n",
        "    metrics=['mean_squared_error']\n",
        ")\n"
      ]
    },
    {
      "cell_type": "markdown",
      "metadata": {
        "id": "XrJPilPI0YxY"
      },
      "source": [
        "# Training"
      ]
    },
    {
      "cell_type": "code",
      "execution_count": 12,
      "metadata": {
        "colab": {
          "base_uri": "https://localhost:8080/"
        },
        "id": "y_b-8pkT0YxY",
        "outputId": "6578c5cd-3d17-4c01-f45e-2dc321a92f95"
      },
      "outputs": [
        {
          "output_type": "stream",
          "name": "stdout",
          "text": [
            "Epoch 1/300\n",
            "1380/1380 [==============================] - 238s 162ms/step - loss: 0.0288 - mean_squared_error: 0.2760 - val_loss: 0.0248 - val_mean_squared_error: 0.2807\n",
            "Epoch 2/300\n",
            "1380/1380 [==============================] - 218s 158ms/step - loss: 0.0257 - mean_squared_error: 0.2692 - val_loss: 0.0253 - val_mean_squared_error: 0.2362\n",
            "Epoch 3/300\n",
            "1380/1380 [==============================] - 218s 158ms/step - loss: 0.0244 - mean_squared_error: 0.2595 - val_loss: 0.0221 - val_mean_squared_error: 0.2189\n",
            "Epoch 4/300\n",
            "1380/1380 [==============================] - 218s 158ms/step - loss: 0.0232 - mean_squared_error: 0.2520 - val_loss: 0.0205 - val_mean_squared_error: 0.1165\n",
            "Epoch 5/300\n",
            "1380/1380 [==============================] - 217s 158ms/step - loss: 0.0221 - mean_squared_error: 0.2488 - val_loss: 0.0212 - val_mean_squared_error: 0.0683\n",
            "Epoch 6/300\n",
            "1380/1380 [==============================] - 217s 157ms/step - loss: 0.0209 - mean_squared_error: 0.2454 - val_loss: 0.0215 - val_mean_squared_error: 0.0234\n",
            "Epoch 7/300\n",
            "1380/1380 [==============================] - 217s 157ms/step - loss: 0.0199 - mean_squared_error: 0.2422 - val_loss: 0.0294 - val_mean_squared_error: 0.0101\n",
            "Epoch 8/300\n",
            "1380/1380 [==============================] - 218s 158ms/step - loss: 0.0188 - mean_squared_error: 0.2357 - val_loss: 0.0254 - val_mean_squared_error: 0.0073\n",
            "Epoch 9/300\n",
            "1380/1380 [==============================] - 217s 157ms/step - loss: 0.0178 - mean_squared_error: 0.2282 - val_loss: 0.0231 - val_mean_squared_error: 0.0092\n",
            "Epoch 10/300\n",
            "1380/1380 [==============================] - 217s 157ms/step - loss: 0.0168 - mean_squared_error: 0.2203 - val_loss: 0.0214 - val_mean_squared_error: 0.0314\n",
            "Epoch 11/300\n",
            "1380/1380 [==============================] - 217s 157ms/step - loss: 0.0160 - mean_squared_error: 0.2125 - val_loss: 0.0218 - val_mean_squared_error: 0.0262\n",
            "Epoch 12/300\n",
            "1380/1380 [==============================] - 217s 157ms/step - loss: 0.0151 - mean_squared_error: 0.2057 - val_loss: 0.0195 - val_mean_squared_error: 0.0569\n",
            "Epoch 13/300\n",
            "1380/1380 [==============================] - 217s 157ms/step - loss: 0.0144 - mean_squared_error: 0.2023 - val_loss: 0.0195 - val_mean_squared_error: 0.0108\n",
            "Epoch 14/300\n",
            "1380/1380 [==============================] - 217s 158ms/step - loss: 0.0136 - mean_squared_error: 0.2021 - val_loss: 0.0226 - val_mean_squared_error: 0.0052\n",
            "Epoch 15/300\n",
            "1380/1380 [==============================] - 217s 158ms/step - loss: 0.0129 - mean_squared_error: 0.2033 - val_loss: 0.0189 - val_mean_squared_error: 0.0241\n",
            "Epoch 16/300\n",
            "1380/1380 [==============================] - 217s 158ms/step - loss: 0.0123 - mean_squared_error: 0.2032 - val_loss: 0.0200 - val_mean_squared_error: 0.0030\n",
            "Epoch 17/300\n",
            "1380/1380 [==============================] - 217s 157ms/step - loss: 0.0117 - mean_squared_error: 0.2024 - val_loss: 0.0191 - val_mean_squared_error: 0.0023\n",
            "Epoch 18/300\n",
            "1380/1380 [==============================] - 217s 157ms/step - loss: 0.0111 - mean_squared_error: 0.2031 - val_loss: 0.0193 - val_mean_squared_error: 0.0233\n",
            "Epoch 19/300\n",
            "1380/1380 [==============================] - 217s 157ms/step - loss: 0.0106 - mean_squared_error: 0.2036 - val_loss: 0.0184 - val_mean_squared_error: 0.0153\n",
            "Epoch 20/300\n",
            "1380/1380 [==============================] - 217s 157ms/step - loss: 0.0100 - mean_squared_error: 0.2037 - val_loss: 0.0189 - val_mean_squared_error: 0.0953\n",
            "Epoch 21/300\n",
            "1380/1380 [==============================] - 217s 157ms/step - loss: 0.0096 - mean_squared_error: 0.2043 - val_loss: 0.0191 - val_mean_squared_error: 0.0155\n",
            "Epoch 22/300\n",
            "1380/1380 [==============================] - 217s 157ms/step - loss: 0.0093 - mean_squared_error: 0.2033 - val_loss: 0.0206 - val_mean_squared_error: 0.1082\n",
            "Epoch 23/300\n",
            "1380/1380 [==============================] - 217s 157ms/step - loss: 0.0087 - mean_squared_error: 0.2030 - val_loss: 0.0193 - val_mean_squared_error: 0.2616\n",
            "Epoch 24/300\n",
            "1380/1380 [==============================] - 217s 157ms/step - loss: 0.0084 - mean_squared_error: 0.2011 - val_loss: 0.0194 - val_mean_squared_error: 0.1791\n",
            "Epoch 25/300\n",
            "1380/1380 [==============================] - 217s 157ms/step - loss: 0.0080 - mean_squared_error: 0.2011 - val_loss: 0.0194 - val_mean_squared_error: 0.0283\n",
            "Epoch 26/300\n",
            "1380/1380 [==============================] - 217s 157ms/step - loss: 0.0077 - mean_squared_error: 0.2011 - val_loss: 0.0190 - val_mean_squared_error: 0.0889\n",
            "Epoch 27/300\n",
            "1380/1380 [==============================] - 217s 157ms/step - loss: 0.0074 - mean_squared_error: 0.2021 - val_loss: 0.0195 - val_mean_squared_error: 0.2274\n",
            "Epoch 28/300\n",
            "1380/1380 [==============================] - 217s 157ms/step - loss: 0.0071 - mean_squared_error: 0.2032 - val_loss: 0.0197 - val_mean_squared_error: 0.2464\n",
            "Epoch 29/300\n",
            "1380/1380 [==============================] - 217s 157ms/step - loss: 0.0068 - mean_squared_error: 0.2041 - val_loss: 0.0187 - val_mean_squared_error: 0.1795\n",
            "Epoch 30/300\n",
            "1380/1380 [==============================] - 217s 158ms/step - loss: 0.0066 - mean_squared_error: 0.2045 - val_loss: 0.0187 - val_mean_squared_error: 0.0137\n",
            "Epoch 31/300\n",
            "1380/1380 [==============================] - 218s 158ms/step - loss: 0.0063 - mean_squared_error: 0.2040 - val_loss: 0.0200 - val_mean_squared_error: 0.2295\n",
            "Epoch 32/300\n",
            "1380/1380 [==============================] - 218s 158ms/step - loss: 0.0061 - mean_squared_error: 0.2040 - val_loss: 0.0190 - val_mean_squared_error: 0.1237\n",
            "Epoch 33/300\n",
            "1380/1380 [==============================] - 218s 158ms/step - loss: 0.0058 - mean_squared_error: 0.2049 - val_loss: 0.0191 - val_mean_squared_error: 0.0127\n",
            "Epoch 34/300\n",
            "1380/1380 [==============================] - 218s 158ms/step - loss: 0.0057 - mean_squared_error: 0.2054 - val_loss: 0.0199 - val_mean_squared_error: 0.0555\n",
            "Epoch 35/300\n",
            "1380/1380 [==============================] - 218s 158ms/step - loss: 0.0055 - mean_squared_error: 0.2062 - val_loss: 0.0188 - val_mean_squared_error: 0.0107\n",
            "Epoch 36/300\n",
            "1380/1380 [==============================] - 218s 158ms/step - loss: 0.0053 - mean_squared_error: 0.2063 - val_loss: 0.0186 - val_mean_squared_error: 0.0076\n",
            "Epoch 37/300\n",
            "1380/1380 [==============================] - 218s 158ms/step - loss: 0.0053 - mean_squared_error: 0.2079 - val_loss: 0.0182 - val_mean_squared_error: 0.0032\n",
            "Epoch 38/300\n",
            "1380/1380 [==============================] - 218s 158ms/step - loss: 0.0050 - mean_squared_error: 0.2083 - val_loss: 0.0184 - val_mean_squared_error: 0.1024\n",
            "Epoch 39/300\n",
            "1380/1380 [==============================] - 218s 158ms/step - loss: 0.0048 - mean_squared_error: 0.2082 - val_loss: 0.0186 - val_mean_squared_error: 0.2590\n",
            "Epoch 40/300\n",
            "1380/1380 [==============================] - 218s 158ms/step - loss: 0.0047 - mean_squared_error: 0.2079 - val_loss: 0.0187 - val_mean_squared_error: 0.0047\n",
            "Epoch 41/300\n",
            "1380/1380 [==============================] - 218s 158ms/step - loss: 0.0046 - mean_squared_error: 0.2073 - val_loss: 0.0187 - val_mean_squared_error: 0.0151\n",
            "Epoch 42/300\n",
            "1380/1380 [==============================] - 218s 158ms/step - loss: 0.0045 - mean_squared_error: 0.2088 - val_loss: 0.0191 - val_mean_squared_error: 0.2242\n",
            "Epoch 43/300\n",
            "1380/1380 [==============================] - 218s 158ms/step - loss: 0.0044 - mean_squared_error: 0.2076 - val_loss: 0.0182 - val_mean_squared_error: 0.0769\n",
            "Epoch 44/300\n",
            "1380/1380 [==============================] - 218s 158ms/step - loss: 0.0043 - mean_squared_error: 0.2066 - val_loss: 0.0184 - val_mean_squared_error: 0.0245\n",
            "Epoch 45/300\n",
            "1380/1380 [==============================] - 218s 158ms/step - loss: 0.0042 - mean_squared_error: 0.2062 - val_loss: 0.0183 - val_mean_squared_error: 0.0168\n",
            "Epoch 46/300\n",
            "1380/1380 [==============================] - 218s 158ms/step - loss: 0.0041 - mean_squared_error: 0.2055 - val_loss: 0.0187 - val_mean_squared_error: 0.0024\n",
            "Epoch 47/300\n",
            "1380/1380 [==============================] - 217s 157ms/step - loss: 0.0040 - mean_squared_error: 0.2053 - val_loss: 0.0192 - val_mean_squared_error: 0.0043\n",
            "Epoch 48/300\n",
            "1380/1380 [==============================] - 217s 157ms/step - loss: 0.0039 - mean_squared_error: 0.2058 - val_loss: 0.0196 - val_mean_squared_error: 0.0064\n",
            "Epoch 49/300\n",
            "1380/1380 [==============================] - 217s 157ms/step - loss: 0.0038 - mean_squared_error: 0.2065 - val_loss: 0.0207 - val_mean_squared_error: 0.0140\n",
            "Epoch 50/300\n",
            "1380/1380 [==============================] - 217s 157ms/step - loss: 0.0037 - mean_squared_error: 0.2074 - val_loss: 0.0194 - val_mean_squared_error: 0.0034\n",
            "Epoch 51/300\n",
            "1380/1380 [==============================] - 217s 157ms/step - loss: 0.0036 - mean_squared_error: 0.2076 - val_loss: 0.0191 - val_mean_squared_error: 0.0043\n",
            "Epoch 52/300\n",
            "1380/1380 [==============================] - 217s 157ms/step - loss: 0.0035 - mean_squared_error: 0.2077 - val_loss: 0.0181 - val_mean_squared_error: 0.0023\n",
            "Epoch 53/300\n",
            "1380/1380 [==============================] - 217s 157ms/step - loss: 0.0034 - mean_squared_error: 0.2085 - val_loss: 0.0192 - val_mean_squared_error: 0.0364\n",
            "Epoch 54/300\n",
            "1380/1380 [==============================] - 217s 157ms/step - loss: 0.0034 - mean_squared_error: 0.2095 - val_loss: 0.0185 - val_mean_squared_error: 0.0045\n",
            "Epoch 55/300\n",
            "1380/1380 [==============================] - 217s 157ms/step - loss: 0.0033 - mean_squared_error: 0.2105 - val_loss: 0.0189 - val_mean_squared_error: 0.0184\n",
            "Epoch 56/300\n",
            "1380/1380 [==============================] - 217s 157ms/step - loss: 0.0033 - mean_squared_error: 0.2109 - val_loss: 0.0184 - val_mean_squared_error: 0.0421\n",
            "Epoch 57/300\n",
            "1380/1380 [==============================] - 217s 157ms/step - loss: 0.0032 - mean_squared_error: 0.2111 - val_loss: 0.0177 - val_mean_squared_error: 0.0054\n",
            "Epoch 58/300\n",
            "1380/1380 [==============================] - 217s 157ms/step - loss: 0.0031 - mean_squared_error: 0.2122 - val_loss: 0.0187 - val_mean_squared_error: 0.0064\n",
            "Epoch 59/300\n",
            "1380/1380 [==============================] - 216s 157ms/step - loss: 0.0031 - mean_squared_error: 0.2127 - val_loss: 0.0186 - val_mean_squared_error: 0.0205\n",
            "Epoch 60/300\n",
            "1380/1380 [==============================] - 216s 157ms/step - loss: 0.0030 - mean_squared_error: 0.2130 - val_loss: 0.0189 - val_mean_squared_error: 0.0984\n",
            "Epoch 61/300\n",
            "1380/1380 [==============================] - 216s 157ms/step - loss: 0.0030 - mean_squared_error: 0.2131 - val_loss: 0.0190 - val_mean_squared_error: 0.0423\n",
            "Epoch 62/300\n",
            "1380/1380 [==============================] - 216s 157ms/step - loss: 0.0029 - mean_squared_error: 0.2138 - val_loss: 0.0191 - val_mean_squared_error: 0.0082\n",
            "Epoch 63/300\n",
            "1380/1380 [==============================] - 216s 157ms/step - loss: 0.0029 - mean_squared_error: 0.2135 - val_loss: 0.0203 - val_mean_squared_error: 0.0045\n",
            "Epoch 64/300\n",
            "1380/1380 [==============================] - 216s 157ms/step - loss: 0.0028 - mean_squared_error: 0.2143 - val_loss: 0.0186 - val_mean_squared_error: 0.0074\n",
            "Epoch 65/300\n",
            "1380/1380 [==============================] - 216s 157ms/step - loss: 0.0027 - mean_squared_error: 0.2160 - val_loss: 0.0191 - val_mean_squared_error: 0.0068\n",
            "Epoch 66/300\n",
            "1380/1380 [==============================] - 216s 157ms/step - loss: 0.0027 - mean_squared_error: 0.2163 - val_loss: 0.0196 - val_mean_squared_error: 0.0290\n",
            "Epoch 67/300\n",
            "1380/1380 [==============================] - 216s 157ms/step - loss: 0.0027 - mean_squared_error: 0.2167 - val_loss: 0.0198 - val_mean_squared_error: 0.0101\n",
            "Epoch 68/300\n",
            "1380/1380 [==============================] - 216s 157ms/step - loss: 0.0026 - mean_squared_error: 0.2173 - val_loss: 0.0189 - val_mean_squared_error: 0.0131\n",
            "Epoch 69/300\n",
            "1380/1380 [==============================] - 216s 157ms/step - loss: 0.0026 - mean_squared_error: 0.2177 - val_loss: 0.0188 - val_mean_squared_error: 0.0380\n",
            "Epoch 70/300\n",
            "1380/1380 [==============================] - 216s 157ms/step - loss: 0.0027 - mean_squared_error: 0.2193 - val_loss: 0.0194 - val_mean_squared_error: 0.0073\n",
            "Epoch 71/300\n",
            "1380/1380 [==============================] - 216s 157ms/step - loss: 0.0025 - mean_squared_error: 0.2202 - val_loss: 0.0182 - val_mean_squared_error: 0.2100\n",
            "Epoch 72/300\n",
            "1380/1380 [==============================] - 216s 157ms/step - loss: 0.0024 - mean_squared_error: 0.2221 - val_loss: 0.0193 - val_mean_squared_error: 0.0048\n",
            "Epoch 73/300\n",
            "1380/1380 [==============================] - 216s 157ms/step - loss: 0.0025 - mean_squared_error: 0.2213 - val_loss: 0.0196 - val_mean_squared_error: 0.0036\n",
            "Epoch 74/300\n",
            "1380/1380 [==============================] - 216s 157ms/step - loss: 0.0024 - mean_squared_error: 0.2219 - val_loss: 0.0191 - val_mean_squared_error: 0.0026\n",
            "Epoch 75/300\n",
            "1380/1380 [==============================] - 216s 157ms/step - loss: 0.0024 - mean_squared_error: 0.2221 - val_loss: 0.0207 - val_mean_squared_error: 0.0028\n",
            "Epoch 76/300\n",
            "1380/1380 [==============================] - 216s 157ms/step - loss: 0.0023 - mean_squared_error: 0.2218 - val_loss: 0.0180 - val_mean_squared_error: 0.0548\n",
            "Epoch 77/300\n",
            "1380/1380 [==============================] - 216s 157ms/step - loss: 0.0023 - mean_squared_error: 0.2227 - val_loss: 0.0179 - val_mean_squared_error: 0.0251\n",
            "Epoch 78/300\n",
            "1380/1380 [==============================] - 216s 157ms/step - loss: 0.0023 - mean_squared_error: 0.2227 - val_loss: 0.0186 - val_mean_squared_error: 0.0782\n",
            "Epoch 79/300\n",
            "1380/1380 [==============================] - 216s 157ms/step - loss: 0.0022 - mean_squared_error: 0.2231 - val_loss: 0.0182 - val_mean_squared_error: 0.0044\n",
            "Epoch 80/300\n",
            "1380/1380 [==============================] - 216s 157ms/step - loss: 0.0022 - mean_squared_error: 0.2229 - val_loss: 0.0185 - val_mean_squared_error: 0.0105\n",
            "Epoch 81/300\n",
            "1380/1380 [==============================] - 217s 157ms/step - loss: 0.0022 - mean_squared_error: 0.2241 - val_loss: 0.0185 - val_mean_squared_error: 0.0348\n",
            "Epoch 82/300\n",
            "1380/1380 [==============================] - 217s 157ms/step - loss: 0.0021 - mean_squared_error: 0.2246 - val_loss: 0.0198 - val_mean_squared_error: 0.0485\n",
            "Epoch 83/300\n",
            "1380/1380 [==============================] - 217s 157ms/step - loss: 0.0021 - mean_squared_error: 0.2257 - val_loss: 0.0187 - val_mean_squared_error: 0.0067\n",
            "Epoch 84/300\n",
            "1380/1380 [==============================] - 217s 157ms/step - loss: 0.0021 - mean_squared_error: 0.2262 - val_loss: 0.0192 - val_mean_squared_error: 0.0023\n",
            "Epoch 85/300\n",
            "1380/1380 [==============================] - 217s 157ms/step - loss: 0.0021 - mean_squared_error: 0.2256 - val_loss: 0.0196 - val_mean_squared_error: 0.0175\n",
            "Epoch 86/300\n",
            "1380/1380 [==============================] - 217s 157ms/step - loss: 0.0021 - mean_squared_error: 0.2254 - val_loss: 0.0180 - val_mean_squared_error: 0.0669\n",
            "Epoch 87/300\n",
            "1380/1380 [==============================] - 217s 157ms/step - loss: 0.0021 - mean_squared_error: 0.2247 - val_loss: 0.0173 - val_mean_squared_error: 0.0909\n",
            "Epoch 88/300\n",
            "1380/1380 [==============================] - 217s 157ms/step - loss: 0.0020 - mean_squared_error: 0.2246 - val_loss: 0.0182 - val_mean_squared_error: 0.0386\n",
            "Epoch 89/300\n",
            "1380/1380 [==============================] - 217s 157ms/step - loss: 0.0020 - mean_squared_error: 0.2249 - val_loss: 0.0188 - val_mean_squared_error: 0.0489\n",
            "Epoch 90/300\n",
            "1380/1380 [==============================] - 217s 157ms/step - loss: 0.0020 - mean_squared_error: 0.2260 - val_loss: 0.0176 - val_mean_squared_error: 0.0036\n",
            "Epoch 91/300\n",
            "1380/1380 [==============================] - 217s 157ms/step - loss: 0.0019 - mean_squared_error: 0.2276 - val_loss: 0.0184 - val_mean_squared_error: 0.0029\n",
            "Epoch 92/300\n",
            "1380/1380 [==============================] - 217s 157ms/step - loss: 0.0019 - mean_squared_error: 0.2286 - val_loss: 0.0185 - val_mean_squared_error: 0.1985\n",
            "Epoch 93/300\n",
            "1380/1380 [==============================] - 217s 157ms/step - loss: 0.0019 - mean_squared_error: 0.2301 - val_loss: 0.0191 - val_mean_squared_error: 0.0047\n",
            "Epoch 94/300\n",
            "1380/1380 [==============================] - 217s 157ms/step - loss: 0.0019 - mean_squared_error: 0.2300 - val_loss: 0.0185 - val_mean_squared_error: 0.0079\n",
            "Epoch 95/300\n",
            "1380/1380 [==============================] - 217s 157ms/step - loss: 0.0019 - mean_squared_error: 0.2310 - val_loss: 0.0182 - val_mean_squared_error: 0.0031\n",
            "Epoch 96/300\n",
            "1380/1380 [==============================] - 217s 157ms/step - loss: 0.0018 - mean_squared_error: 0.2313 - val_loss: 0.0188 - val_mean_squared_error: 0.0170\n",
            "Epoch 97/300\n",
            "1380/1380 [==============================] - 217s 157ms/step - loss: 0.0018 - mean_squared_error: 0.2323 - val_loss: 0.0189 - val_mean_squared_error: 0.0196\n",
            "Epoch 98/300\n",
            "1380/1380 [==============================] - 217s 157ms/step - loss: 0.0018 - mean_squared_error: 0.2327 - val_loss: 0.0179 - val_mean_squared_error: 0.2382\n",
            "Epoch 99/300\n",
            "1380/1380 [==============================] - 217s 157ms/step - loss: 0.0018 - mean_squared_error: 0.2327 - val_loss: 0.0183 - val_mean_squared_error: 0.0026\n",
            "Epoch 100/300\n",
            "1380/1380 [==============================] - 217s 157ms/step - loss: 0.0018 - mean_squared_error: 0.2336 - val_loss: 0.0180 - val_mean_squared_error: 0.0022\n",
            "Epoch 101/300\n",
            "1380/1380 [==============================] - 217s 158ms/step - loss: 0.0018 - mean_squared_error: 0.2351 - val_loss: 0.0175 - val_mean_squared_error: 0.0716\n",
            "Epoch 102/300\n",
            "1380/1380 [==============================] - 217s 157ms/step - loss: 0.0017 - mean_squared_error: 0.2352 - val_loss: 0.0178 - val_mean_squared_error: 0.2360\n",
            "Epoch 103/300\n",
            "1380/1380 [==============================] - 217s 157ms/step - loss: 0.0017 - mean_squared_error: 0.2359 - val_loss: 0.0175 - val_mean_squared_error: 0.1912\n",
            "Epoch 104/300\n",
            "1380/1380 [==============================] - 217s 157ms/step - loss: 0.0017 - mean_squared_error: 0.2364 - val_loss: 0.0182 - val_mean_squared_error: 0.0564\n",
            "Epoch 105/300\n",
            "1380/1380 [==============================] - 217s 157ms/step - loss: 0.0017 - mean_squared_error: 0.2375 - val_loss: 0.0182 - val_mean_squared_error: 0.0491\n",
            "Epoch 106/300\n",
            "1380/1380 [==============================] - 217s 157ms/step - loss: 0.0017 - mean_squared_error: 0.2373 - val_loss: 0.0188 - val_mean_squared_error: 0.0410\n",
            "Epoch 107/300\n",
            "1380/1380 [==============================] - 217s 157ms/step - loss: 0.0016 - mean_squared_error: 0.2378 - val_loss: 0.0180 - val_mean_squared_error: 0.0196\n",
            "Epoch 108/300\n",
            "1380/1380 [==============================] - 217s 157ms/step - loss: 0.0016 - mean_squared_error: 0.2384 - val_loss: 0.0180 - val_mean_squared_error: 0.0110\n",
            "Epoch 109/300\n",
            "1380/1380 [==============================] - 217s 157ms/step - loss: 0.0017 - mean_squared_error: 0.2386 - val_loss: 0.0174 - val_mean_squared_error: 0.2383\n",
            "Epoch 110/300\n",
            "1380/1380 [==============================] - 217s 157ms/step - loss: 0.0016 - mean_squared_error: 0.2395 - val_loss: 0.0184 - val_mean_squared_error: 0.1716\n",
            "Epoch 111/300\n",
            "1380/1380 [==============================] - 217s 157ms/step - loss: 0.0016 - mean_squared_error: 0.2399 - val_loss: 0.0179 - val_mean_squared_error: 0.0448\n",
            "Epoch 112/300\n",
            "1380/1380 [==============================] - 217s 157ms/step - loss: 0.0016 - mean_squared_error: 0.2400 - val_loss: 0.0179 - val_mean_squared_error: 0.0064\n",
            "Epoch 113/300\n",
            "1380/1380 [==============================] - 217s 158ms/step - loss: 0.0016 - mean_squared_error: 0.2406 - val_loss: 0.0175 - val_mean_squared_error: 0.0647\n",
            "Epoch 114/300\n",
            "1380/1380 [==============================] - 217s 157ms/step - loss: 0.0016 - mean_squared_error: 0.2408 - val_loss: 0.0180 - val_mean_squared_error: 0.0023\n",
            "Epoch 115/300\n",
            "1380/1380 [==============================] - 217s 157ms/step - loss: 0.0016 - mean_squared_error: 0.2420 - val_loss: 0.0178 - val_mean_squared_error: 0.2122\n",
            "Epoch 116/300\n",
            "1380/1380 [==============================] - 217s 157ms/step - loss: 0.0015 - mean_squared_error: 0.2423 - val_loss: 0.0175 - val_mean_squared_error: 0.0389\n",
            "Epoch 117/300\n",
            "1380/1380 [==============================] - 217s 157ms/step - loss: 0.0015 - mean_squared_error: 0.2431 - val_loss: 0.0182 - val_mean_squared_error: 0.0150\n"
          ]
        }
      ],
      "source": [
        "history = model.fit(\n",
        "    train_ds,\n",
        "    validation_data=test_ds,\n",
        "    epochs=N_EPOCHS,\n",
        "    batch_size=BATCH_SIZE,\n",
        "    callbacks=callbacks,\n",
        "    verbose=1\n",
        ")\n"
      ]
    },
    {
      "cell_type": "markdown",
      "source": [
        "# Save Model"
      ],
      "metadata": {
        "id": "HT68Jm8AEluI"
      }
    },
    {
      "cell_type": "code",
      "source": [
        "timestamp = datetime.datetime.now().strftime('%b-%d-%I:%M%p')\n",
        "model_path = os.path.join(MODEL_PATH, EXP_NAME)\n",
        "if not os.path.exists(model_path):\n",
        "    os.makedirs(model_path)\n",
        "\n",
        "model.save(os.path.join(model_path, timestamp))"
      ],
      "metadata": {
        "id": "xfUmF_1mEjXH"
      },
      "execution_count": 13,
      "outputs": []
    },
    {
      "cell_type": "markdown",
      "source": [
        "# Save Predictions"
      ],
      "metadata": {
        "id": "-PWi28iOKpXe"
      }
    },
    {
      "cell_type": "code",
      "execution_count": null,
      "metadata": {
        "colab": {
          "base_uri": "https://localhost:8080/"
        },
        "id": "LLDJf93Z0YxY",
        "outputId": "a4f5ff0b-673c-442d-c5e9-ed7d6b5b988d"
      },
      "outputs": [
        {
          "output_type": "stream",
          "name": "stderr",
          "text": [
            "1656it [00:09, 172.35it/s]\n"
          ]
        }
      ],
      "source": [
        "test_ds_unbatched = test_ds.unbatch()\n",
        "\n",
        "pred_path = os.path.join(PRED_PATH, EXP_NAME, timestamp)\n",
        "if not os.path.exists(pred_path):\n",
        "    os.makedirs(pred_path)\n",
        "\n",
        "for idx, (input, target) in enumerate(tqdm(test_ds_unbatched)):\n",
        "    if not idx % 40 == 0:\n",
        "        continue\n",
        "\n",
        "    prediction = tf.squeeze(\n",
        "        model.predict(\n",
        "            tf.expand_dims(input, axis=0)\n",
        "            )\n",
        "        ).numpy()\n",
        "    prediction[target > 0.9] = 1.0\n",
        "\n",
        "    plt.figure(figsize=(12, 4))\n",
        "    plt.subplot(1, 3, 1)\n",
        "    plt.imshow(input)\n",
        "    plt.axis(\"off\")\n",
        "    plt.title(\"INPUT\")\n",
        "    plt.subplot(1, 3, 2)\n",
        "    plt.imshow(target)\n",
        "    plt.axis(\"off\")\n",
        "    plt.title(\"TARGET\")\n",
        "    plt.subplot(1, 3, 3)\n",
        "    plt.imshow(prediction)\n",
        "    plt.axis(\"off\")\n",
        "    plt.title(\"PREDICTION\")\n",
        "    plt.tight_layout()\n",
        "    plt.savefig(os.path.join(pred_path, f\"{idx}.jpg\"))\n",
        "    plt.close()  \n"
      ]
    },
    {
      "cell_type": "code",
      "source": [],
      "metadata": {
        "id": "dq-aXv2mIwA8"
      },
      "execution_count": 14,
      "outputs": []
    }
  ],
  "metadata": {
    "kernelspec": {
      "display_name": "Python 3.10.6 ('Ai')",
      "language": "python",
      "name": "python3"
    },
    "language_info": {
      "codemirror_mode": {
        "name": "ipython",
        "version": 3
      },
      "file_extension": ".py",
      "mimetype": "text/x-python",
      "name": "python",
      "nbconvert_exporter": "python",
      "pygments_lexer": "ipython3",
      "version": "3.10.6"
    },
    "orig_nbformat": 4,
    "vscode": {
      "interpreter": {
        "hash": "cc12dd51c08fff59e312c49b5273cbf2a12939660509ea1a4d83cd89b0463726"
      }
    },
    "colab": {
      "provenance": [],
      "machine_shape": "hm",
      "include_colab_link": true
    },
    "accelerator": "GPU"
  },
  "nbformat": 4,
  "nbformat_minor": 0
}