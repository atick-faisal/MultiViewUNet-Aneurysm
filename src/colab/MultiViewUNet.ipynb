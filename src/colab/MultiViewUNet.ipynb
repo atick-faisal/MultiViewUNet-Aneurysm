{
  "cells": [
    {
      "cell_type": "markdown",
      "metadata": {
        "id": "view-in-github",
        "colab_type": "text"
      },
      "source": [
        "<a href=\"https://colab.research.google.com/github/atick-faisal/TAVI/blob/main/src/colab/MultiViewUNet.ipynb\" target=\"_parent\"><img src=\"https://colab.research.google.com/assets/colab-badge.svg\" alt=\"Open In Colab\"/></a>"
      ]
    },
    {
      "cell_type": "markdown",
      "source": [
        "# Colab Info"
      ],
      "metadata": {
        "id": "UVG0Xo17Xzdk"
      }
    },
    {
      "cell_type": "code",
      "source": [
        "from psutil import virtual_memory\n",
        "\n",
        "gpu_info = !nvidia-smi\n",
        "gpu_info = '\\n'.join(gpu_info)\n",
        "if gpu_info.find('failed') >= 0:\n",
        "  print('Not connected to a GPU')\n",
        "else:\n",
        "  print(gpu_info)\n",
        "\n",
        "\n",
        "ram_gb = virtual_memory().total / 1e9\n",
        "print('Your runtime has {:.1f} gigabytes of available RAM\\n'.format(ram_gb))\n",
        "\n",
        "if ram_gb < 20:\n",
        "  print('Not using a high-RAM runtime')\n",
        "else:\n",
        "  print('You are using a high-RAM runtime!')"
      ],
      "metadata": {
        "id": "ZwwbESaiX2xi",
        "outputId": "2deae7fd-c5bf-4194-eb01-fa2104999172",
        "colab": {
          "base_uri": "https://localhost:8080/"
        }
      },
      "execution_count": 1,
      "outputs": [
        {
          "output_type": "stream",
          "name": "stdout",
          "text": [
            "Mon Nov 14 22:58:29 2022       \n",
            "+-----------------------------------------------------------------------------+\n",
            "| NVIDIA-SMI 460.32.03    Driver Version: 460.32.03    CUDA Version: 11.2     |\n",
            "|-------------------------------+----------------------+----------------------+\n",
            "| GPU  Name        Persistence-M| Bus-Id        Disp.A | Volatile Uncorr. ECC |\n",
            "| Fan  Temp  Perf  Pwr:Usage/Cap|         Memory-Usage | GPU-Util  Compute M. |\n",
            "|                               |                      |               MIG M. |\n",
            "|===============================+======================+======================|\n",
            "|   0  Tesla T4            Off  | 00000000:00:04.0 Off |                    0 |\n",
            "| N/A   72C    P8    11W /  70W |      0MiB / 15109MiB |      0%      Default |\n",
            "|                               |                      |                  N/A |\n",
            "+-------------------------------+----------------------+----------------------+\n",
            "                                                                               \n",
            "+-----------------------------------------------------------------------------+\n",
            "| Processes:                                                                  |\n",
            "|  GPU   GI   CI        PID   Type   Process name                  GPU Memory |\n",
            "|        ID   ID                                                   Usage      |\n",
            "|=============================================================================|\n",
            "|  No running processes found                                                 |\n",
            "+-----------------------------------------------------------------------------+\n",
            "Your runtime has 27.3 gigabytes of available RAM\n",
            "\n",
            "You are using a high-RAM runtime!\n"
          ]
        }
      ]
    },
    {
      "cell_type": "markdown",
      "source": [
        "# Google Drive"
      ],
      "metadata": {
        "id": "0estJx3IDzz4"
      }
    },
    {
      "cell_type": "code",
      "source": [
        "from google.colab import drive\n",
        "drive.mount('/content/drive')"
      ],
      "metadata": {
        "id": "WsH9ydF7Dwpf",
        "outputId": "6593ea51-a738-4ce9-df6d-b3cc011b11a1",
        "colab": {
          "base_uri": "https://localhost:8080/"
        }
      },
      "execution_count": 2,
      "outputs": [
        {
          "output_type": "stream",
          "name": "stdout",
          "text": [
            "Drive already mounted at /content/drive; to attempt to forcibly remount, call drive.mount(\"/content/drive\", force_remount=True).\n"
          ]
        }
      ]
    },
    {
      "cell_type": "markdown",
      "metadata": {
        "id": "MMf8mzRT0YxP"
      },
      "source": [
        "# Download Dataset"
      ]
    },
    {
      "cell_type": "code",
      "execution_count": 3,
      "metadata": {
        "id": "Zm_HJEfM0YxS",
        "outputId": "95c35711-a6c2-470f-d7a0-7125c227490b",
        "colab": {
          "base_uri": "https://localhost:8080/"
        }
      },
      "outputs": [
        {
          "output_type": "stream",
          "name": "stdout",
          "text": [
            "Downloading...\n",
            "From: https://drive.google.com/uc?id=12CxxS2w7mprCnVX9Y_Kiti6vEPbTQW2l\n",
            "To: /content/UNet_2DCNN.py\n",
            "100% 58.6k/58.6k [00:00<00:00, 69.3MB/s]\n",
            "Downloading...\n",
            "From: https://drive.google.com/uc?id=1CN-7DANpVbSzkxmGOj_zGX6QC0q1HHDM\n",
            "To: /content/CurvToTAWSSJet.zip\n",
            "100% 942M/942M [00:03<00:00, 301MB/s]\n"
          ]
        }
      ],
      "source": [
        "!gdown \"12CxxS2w7mprCnVX9Y_Kiti6vEPbTQW2l\"\n",
        "!gdown \"1CN-7DANpVbSzkxmGOj_zGX6QC0q1HHDM\"\n",
        "!unzip -o \"CurvToTAWSSJet.zip\" > /dev/null\n"
      ]
    },
    {
      "cell_type": "markdown",
      "metadata": {
        "id": "Vemh_spU0YxT"
      },
      "source": [
        "# Imports"
      ]
    },
    {
      "cell_type": "code",
      "source": [
        "!pip install image-similarity-measures > /dev/null"
      ],
      "metadata": {
        "id": "6R23-7Fgp4K2"
      },
      "execution_count": 4,
      "outputs": []
    },
    {
      "cell_type": "code",
      "execution_count": 5,
      "metadata": {
        "id": "w0KYlE-90YxT"
      },
      "outputs": [],
      "source": [
        "import os\n",
        "import cv2\n",
        "import random\n",
        "import datetime\n",
        "import matplotlib\n",
        "import numpy as np\n",
        "import pandas as pd\n",
        "import tensorflow as tf\n",
        "import matplotlib.pyplot as plt\n",
        "\n",
        "from tqdm import tqdm\n",
        "from numpy.typing import NDArray\n",
        "from UNet_2DCNN import UNet as UNetSakib\n",
        "# from image_similarity_measures.quality_metrics import *\n",
        "\n",
        "matplotlib.use('Agg')\n",
        "plt.rcParams[\"font.size\"] = 16\n"
      ]
    },
    {
      "cell_type": "markdown",
      "metadata": {
        "id": "vE8WOTRj0YxT"
      },
      "source": [
        "# Config"
      ]
    },
    {
      "cell_type": "code",
      "execution_count": 6,
      "metadata": {
        "id": "O5Vvm79c0YxT"
      },
      "outputs": [],
      "source": [
        "DATASET         = \"CurvToTAWSSJet\"\n",
        "MODEL_NAME      = \"UNet4P_4_32\"\n",
        "DATASET_PATH    = \"/content/Images/\"\n",
        "TRAIN_DIR       = \"Train/\"\n",
        "TEST_DIR        = \"Test/\"\n",
        "INPUT_DIR       = \"Input/\"\n",
        "TARGET_DIR      = \"Target/\"\n",
        "MODEL_PATH      = \"/content/drive/MyDrive/Research/TAVI/Models/\"\n",
        "PRED_PATH       = \"/content/drive/MyDrive/Research/TAVI/Predictions/\"\n",
        "\n",
        "IMG_SIZE        = 256\n",
        "BATCH_SIZE      = 8\n",
        "BUFFER_SIZE     = 1000\n",
        "VAL_SPLIT       = 0.2\n",
        "LEARNING_RATE   = 0.001\n",
        "N_EPOCHS        = 300\n",
        "PATIENCE        = 30\n",
        "\n",
        "EXP_NAME        = f\"{MODEL_NAME}_I{IMG_SIZE}_B{BATCH_SIZE}_LR{LEARNING_RATE}_{DATASET}\"\n"
      ]
    },
    {
      "cell_type": "markdown",
      "metadata": {
        "id": "YmMjbvFH0YxU"
      },
      "source": [
        "# Architecture"
      ]
    },
    {
      "cell_type": "code",
      "execution_count": 7,
      "metadata": {
        "id": "xecJpVUs0YxU"
      },
      "outputs": [],
      "source": [
        "class UNet:\n",
        "    def __init__(\n",
        "        self,\n",
        "        img_size: int,\n",
        "        n_channels: int = 3,\n",
        "        width: int = 32,\n",
        "        depth: int = 4,\n",
        "        kernel_size: int = 3\n",
        "    ):\n",
        "        self.img_size = img_size\n",
        "        self.n_channels = n_channels\n",
        "        self.width = width\n",
        "        self.depth = depth\n",
        "        self.kernel_size = kernel_size\n",
        "\n",
        "    @staticmethod\n",
        "    def conv(\n",
        "        x: tf.Tensor,\n",
        "        filters: int,\n",
        "        kernel_size: int\n",
        "    ) -> tf.Tensor:\n",
        "        for i in range(2):\n",
        "            x = tf.keras.layers.Conv2D(\n",
        "                filters=filters,\n",
        "                kernel_size=kernel_size,\n",
        "                strides=1,\n",
        "                padding=\"same\",\n",
        "                data_format=\"channels_last\",\n",
        "                dilation_rate=1,\n",
        "                groups=1,\n",
        "                activation=None,\n",
        "                use_bias=True,\n",
        "                kernel_initializer=\"glorot_uniform\",\n",
        "                bias_initializer=\"zeros\"\n",
        "            )(x)\n",
        "\n",
        "            x = tf.keras.layers.BatchNormalization()(x)\n",
        "            x = tf.keras.layers.Activation(\"relu\")(x)\n",
        "\n",
        "        return x\n",
        "\n",
        "    @staticmethod\n",
        "    def deconv(x: tf.Tensor, filters: int) -> tf.Tensor:\n",
        "        x = tf.keras.layers.Conv2DTranspose(\n",
        "            filters=filters,\n",
        "            kernel_size=2,\n",
        "            strides=2,\n",
        "            padding=\"same\",\n",
        "            output_padding=None,\n",
        "            data_format=None,\n",
        "            dilation_rate=1,\n",
        "            activation=None,\n",
        "            use_bias=True,\n",
        "            kernel_initializer=\"glorot_uniform\",\n",
        "            bias_initializer=\"zeros\"\n",
        "        )(x)\n",
        "\n",
        "        x = tf.keras.layers.BatchNormalization()(x)\n",
        "        x = tf.keras.layers.Activation(\"relu\")(x)\n",
        "\n",
        "        return x\n",
        "\n",
        "    @staticmethod\n",
        "    def output(x: tf.Tensor) -> tf.Tensor:\n",
        "        return tf.keras.layers.Conv2D(3, (1, 1), activation=\"sigmoid\")(x)\n",
        "\n",
        "    @staticmethod\n",
        "    def pool(x: tf.Tensor, pool_size: int = 2) -> tf.Tensor:\n",
        "        return tf.keras.layers.MaxPool2D(pool_size)(x)\n",
        "\n",
        "    def __call__(self) -> tf.keras.Model:\n",
        "        inputs = tf.keras.layers.Input(\n",
        "            shape=(self.img_size, self.img_size, self.n_channels)\n",
        "        )\n",
        "\n",
        "        # scaled = tf.keras.layers.Rescaling(1./255.0, offset=0)(inputs)\n",
        "\n",
        "        # ------------------ Downsampling ---------------------\n",
        "        downsample_layers = []\n",
        "        downsample_layers.append(\n",
        "            self.conv(\n",
        "                x=inputs,\n",
        "                filters=self.width,\n",
        "                kernel_size=self.kernel_size\n",
        "            )\n",
        "        )\n",
        "        for i in range(1, self.depth):\n",
        "            filters = int((2 ** i) * self.width)\n",
        "            downsample_layers.append(\n",
        "                self.pool(\n",
        "                    self.conv(\n",
        "                        x=downsample_layers[i - 1],\n",
        "                        filters=filters,\n",
        "                        kernel_size=self.kernel_size\n",
        "                    )\n",
        "                )\n",
        "            )\n",
        "\n",
        "        # ------------------- Features --------------------\n",
        "        n_features = int((2 ** self.depth) * self.width)\n",
        "        self.features = self.pool(\n",
        "            self.conv(\n",
        "                x=downsample_layers[-1],\n",
        "                filters=n_features,\n",
        "                kernel_size=self.kernel_size\n",
        "            )\n",
        "        )\n",
        "\n",
        "        # ------------------- Upsampling --------------------\n",
        "        upsample_layers = []\n",
        "        upsample_layers.append(self.features)\n",
        "        for i in range(1, self.depth + 1):\n",
        "            filters = int((2 ** (self.depth - i)) * self.width)\n",
        "            upsample_layers.append(\n",
        "                self.conv(\n",
        "                    x=tf.keras.layers.concatenate([\n",
        "                        downsample_layers[self.depth - i],\n",
        "                        self.deconv(\n",
        "                            x=upsample_layers[i - 1],\n",
        "                            filters=filters\n",
        "                        )\n",
        "                    ]),\n",
        "                    filters=filters,\n",
        "                    kernel_size=self.kernel_size\n",
        "                )\n",
        "            )\n",
        "\n",
        "        # ---------------------- Output -----------------------\n",
        "        outputs = self.output(upsample_layers[-1])\n",
        "\n",
        "        return tf.keras.Model(inputs, outputs)\n"
      ]
    },
    {
      "cell_type": "markdown",
      "metadata": {
        "id": "ga47oOoc0YxV"
      },
      "source": [
        "# Loss Functions"
      ]
    },
    {
      "cell_type": "code",
      "execution_count": 8,
      "metadata": {
        "id": "ooE90mpc0YxW"
      },
      "outputs": [],
      "source": [
        "def attention_mse(y_true, y_pred):\n",
        "    _y_true = y_true[y_true != 1.0]\n",
        "    _y_pred = y_pred[y_true != 1.0]\n",
        "    squared_difference = tf.square(_y_true - _y_pred)\n",
        "    return tf.reduce_mean(squared_difference, axis=-1)\n",
        "\n",
        "\n",
        "def attention_mae(y_true, y_pred):\n",
        "    _y_true = y_true[y_true != 1.0]\n",
        "    _y_pred = y_pred[y_true != 1.0]\n",
        "    squared_difference = tf.abs(_y_true - _y_pred)\n",
        "    return tf.reduce_mean(squared_difference, axis=-1)\n"
      ]
    },
    {
      "cell_type": "markdown",
      "metadata": {
        "id": "wOgmHYSJ0YxW"
      },
      "source": [
        "# Utils"
      ]
    },
    {
      "cell_type": "code",
      "execution_count": 9,
      "metadata": {
        "id": "cSrfyX260YxW"
      },
      "outputs": [],
      "source": [
        "def load_data_from_dir(path: str) -> tf.data.Dataset:\n",
        "    return tf.keras.utils.image_dataset_from_directory(\n",
        "        directory=path,\n",
        "        labels=None,\n",
        "        color_mode='rgb',\n",
        "        batch_size=BATCH_SIZE,\n",
        "        image_size=(IMG_SIZE, IMG_SIZE),\n",
        "        shuffle=True,\n",
        "        seed=42,\n",
        "        # validation_split=VAL_SPLIT,\n",
        "        # subset=subset,\n",
        "        interpolation='bilinear',\n",
        "        follow_links=False,\n",
        "        crop_to_aspect_ratio=False\n",
        "    )\n"
      ]
    },
    {
      "cell_type": "markdown",
      "metadata": {
        "id": "CyS-63WI0YxX"
      },
      "source": [
        "# Dataloaders"
      ]
    },
    {
      "cell_type": "code",
      "execution_count": 10,
      "metadata": {
        "id": "71Dxzfkf0YxX",
        "outputId": "dc5fe58f-bd78-4115-8704-7662679fdf63",
        "colab": {
          "base_uri": "https://localhost:8080/"
        }
      },
      "outputs": [
        {
          "output_type": "stream",
          "name": "stdout",
          "text": [
            "Found 8208 files belonging to 1 classes.\n",
            "Found 8208 files belonging to 1 classes.\n",
            "Found 312 files belonging to 1 classes.\n",
            "Found 312 files belonging to 1 classes.\n",
            "(TensorSpec(shape=(None, 256, 256, 3), dtype=tf.float32, name=None), TensorSpec(shape=(None, 256, 256, 3), dtype=tf.float32, name=None))\n",
            "(TensorSpec(shape=(None, 256, 256, 3), dtype=tf.float32, name=None), TensorSpec(shape=(None, 256, 256, 3), dtype=tf.float32, name=None))\n"
          ]
        }
      ],
      "source": [
        "trainX = load_data_from_dir(os.path.join(DATASET_PATH, TRAIN_DIR, INPUT_DIR))\n",
        "trainY = load_data_from_dir(os.path.join(DATASET_PATH, TRAIN_DIR, TARGET_DIR))\n",
        "testX = load_data_from_dir(os.path.join(DATASET_PATH, TEST_DIR, INPUT_DIR))\n",
        "testY = load_data_from_dir(os.path.join(DATASET_PATH, TEST_DIR, TARGET_DIR))\n",
        "\n",
        "train_ds = tf.data.Dataset.zip((trainX, trainY))\n",
        "test_ds = tf.data.Dataset.zip((testX, testY))\n",
        "\n",
        "print(train_ds.element_spec)\n",
        "print(test_ds.element_spec)\n"
      ]
    },
    {
      "cell_type": "markdown",
      "source": [
        "# Normalization"
      ],
      "metadata": {
        "id": "01HaegmR278r"
      }
    },
    {
      "cell_type": "code",
      "source": [
        "# def normalize(input_image, output_image):\n",
        "#     input_image = tf.cast(input_image, tf.float32) / 255.0\n",
        "#     output_image = tf.cast(input_image, tf.float32) / 255.0\n",
        "#     return input_image, output_image"
      ],
      "metadata": {
        "id": "E1oi3-RTqZV1"
      },
      "execution_count": 11,
      "outputs": []
    },
    {
      "cell_type": "code",
      "source": [
        "normalization_layer = tf.keras.layers.Rescaling(1./255)\n",
        "train_ds = train_ds.map(lambda x, y: (normalization_layer(x), normalization_layer(y)))\n",
        "test_ds = test_ds.map(lambda x, y: (normalization_layer(x), normalization_layer(y)))"
      ],
      "metadata": {
        "id": "mDeZuH0p26pE"
      },
      "execution_count": 12,
      "outputs": []
    },
    {
      "cell_type": "markdown",
      "source": [
        "# Augmentation"
      ],
      "metadata": {
        "id": "tySOuC8Hqvdm"
      }
    },
    {
      "cell_type": "code",
      "source": [
        "class Augment(tf.keras.layers.Layer):\n",
        "    def __init__(self, seed=42):\n",
        "        super().__init__()\n",
        "        # both use the same seed, so they'll make the same random changes.\n",
        "        self.augment_inputs = tf.keras.layers.RandomZoom((-0.1, -0.7), seed=seed)\n",
        "        self.augment_labels = tf.keras.layers.RandomZoom((-0.1, -0.7), seed=seed)\n",
        "\n",
        "    def call(self, inputs, labels):\n",
        "        inputs = self.augment_inputs(inputs)\n",
        "        labels = self.augment_labels(labels)\n",
        "        return inputs, labels"
      ],
      "metadata": {
        "id": "OHQFZ9kKqu6f"
      },
      "execution_count": 13,
      "outputs": []
    },
    {
      "cell_type": "markdown",
      "metadata": {
        "id": "eHlKefA_0YxX"
      },
      "source": [
        "# Optimization"
      ]
    },
    {
      "cell_type": "code",
      "execution_count": 14,
      "metadata": {
        "id": "U-HMkfOG0YxX"
      },
      "outputs": [],
      "source": [
        "AUTOTUNE = tf.data.AUTOTUNE\n",
        "\n",
        "train_batches = (\n",
        "    train_ds\n",
        "    .cache()\n",
        "    # .shuffle(BUFFER_SIZE)\n",
        "    # .batch(BATCH_SIZE)\n",
        "    # .repeat()\n",
        "    .map(Augment())\n",
        "    .prefetch(buffer_size=AUTOTUNE)\n",
        ")\n",
        "\n",
        "test_batches = (test_ds)\n"
      ]
    },
    {
      "cell_type": "markdown",
      "metadata": {
        "id": "w50akeqN0YxX"
      },
      "source": [
        "# Training Config"
      ]
    },
    {
      "cell_type": "code",
      "execution_count": 15,
      "metadata": {
        "id": "2YvF85Wg0YxY",
        "outputId": "a3170401-c5e0-4911-a882-e9f2e003b6c1",
        "colab": {
          "base_uri": "https://localhost:8080/"
        }
      },
      "outputs": [
        {
          "output_type": "stream",
          "name": "stdout",
          "text": [
            "{'conv0': <KerasTensor: shape=(None, 256, 256, 32) dtype=float32 (created by layer 'activation_1')>}\n",
            "{'conv0': <KerasTensor: shape=(None, 256, 256, 32) dtype=float32 (created by layer 'activation_1')>, 'conv1': <KerasTensor: shape=(None, 128, 128, 64) dtype=float32 (created by layer 'activation_3')>}\n",
            "{'conv0': <KerasTensor: shape=(None, 256, 256, 32) dtype=float32 (created by layer 'activation_1')>, 'conv1': <KerasTensor: shape=(None, 128, 128, 64) dtype=float32 (created by layer 'activation_3')>, 'conv2': <KerasTensor: shape=(None, 64, 64, 128) dtype=float32 (created by layer 'activation_5')>}\n",
            "{'conv0': <KerasTensor: shape=(None, 256, 256, 32) dtype=float32 (created by layer 'activation_1')>, 'conv1': <KerasTensor: shape=(None, 128, 128, 64) dtype=float32 (created by layer 'activation_3')>, 'conv2': <KerasTensor: shape=(None, 64, 64, 128) dtype=float32 (created by layer 'activation_5')>, 'conv3': <KerasTensor: shape=(None, 32, 32, 256) dtype=float32 (created by layer 'activation_7')>}\n"
          ]
        }
      ],
      "source": [
        "callbacks = [\n",
        "    tf.keras.callbacks.EarlyStopping(\n",
        "        monitor=\"val_loss\",\n",
        "        patience=PATIENCE,\n",
        "        restore_best_weights=True\n",
        "    )\n",
        "]\n",
        "\n",
        "optimizer = tf.keras.optimizers.Adam(\n",
        "    learning_rate=LEARNING_RATE\n",
        ")\n",
        "\n",
        "# model = UNet(IMG_SIZE)()\n",
        "# model = MobileUNet(IMG_SIZE)()\n",
        "model = UNetSakib(\n",
        "    length=IMG_SIZE, \n",
        "    width=IMG_SIZE, \n",
        "    model_depth=4, \n",
        "    num_channel=3, \n",
        "    model_width=32, \n",
        "    kernel_size=3, \n",
        "    problem_type='Regression',\n",
        "    output_nums=3, \n",
        "    ds=0, \n",
        "    ae=0, \n",
        "    ag=0, \n",
        "    lstm=0, \n",
        "    alpha=1, \n",
        "    feature_number=1024, \n",
        "    is_transconv=True\n",
        ").UNet4P()\n",
        "\n",
        "model.compile(\n",
        "    loss=attention_mse,\n",
        "    optimizer=optimizer,\n",
        "    metrics=[attention_mae]\n",
        ")\n"
      ]
    },
    {
      "cell_type": "markdown",
      "metadata": {
        "id": "XrJPilPI0YxY"
      },
      "source": [
        "# Training"
      ]
    },
    {
      "cell_type": "code",
      "execution_count": null,
      "metadata": {
        "id": "y_b-8pkT0YxY",
        "outputId": "179d5d5e-c035-4fb7-8a0c-81f90be4fc04",
        "colab": {
          "base_uri": "https://localhost:8080/"
        }
      },
      "outputs": [
        {
          "output_type": "stream",
          "name": "stdout",
          "text": [
            "Epoch 1/300\n",
            "1026/1026 [==============================] - 791s 756ms/step - loss: 0.0100 - attention_mae: 0.0572 - val_loss: 0.0095 - val_attention_mae: 0.0544\n",
            "Epoch 2/300\n",
            "1026/1026 [==============================] - 769s 749ms/step - loss: 0.0077 - attention_mae: 0.0457 - val_loss: 0.0113 - val_attention_mae: 0.0642\n",
            "Epoch 3/300\n",
            "1026/1026 [==============================] - 768s 749ms/step - loss: 0.0071 - attention_mae: 0.0432 - val_loss: 0.0093 - val_attention_mae: 0.0491\n",
            "Epoch 4/300\n",
            "1026/1026 [==============================] - 769s 750ms/step - loss: 0.0067 - attention_mae: 0.0413 - val_loss: 0.0089 - val_attention_mae: 0.0472\n",
            "Epoch 5/300\n",
            "1026/1026 [==============================] - 769s 750ms/step - loss: 0.0064 - attention_mae: 0.0403 - val_loss: 0.0083 - val_attention_mae: 0.0445\n",
            "Epoch 6/300\n",
            "1026/1026 [==============================] - 769s 750ms/step - loss: 0.0062 - attention_mae: 0.0393 - val_loss: 0.0084 - val_attention_mae: 0.0466\n",
            "Epoch 7/300\n",
            "1026/1026 [==============================] - 768s 748ms/step - loss: 0.0060 - attention_mae: 0.0385 - val_loss: 0.0076 - val_attention_mae: 0.0430\n",
            "Epoch 8/300\n",
            "1026/1026 [==============================] - 767s 747ms/step - loss: 0.0057 - attention_mae: 0.0374 - val_loss: 0.0103 - val_attention_mae: 0.0544\n",
            "Epoch 9/300\n",
            "1026/1026 [==============================] - 766s 747ms/step - loss: 0.0056 - attention_mae: 0.0368 - val_loss: 0.0060 - val_attention_mae: 0.0387\n",
            "Epoch 10/300\n",
            "1026/1026 [==============================] - 766s 746ms/step - loss: 0.0055 - attention_mae: 0.0361 - val_loss: 0.0062 - val_attention_mae: 0.0395\n",
            "Epoch 11/300\n",
            "1026/1026 [==============================] - 767s 747ms/step - loss: 0.0052 - attention_mae: 0.0352 - val_loss: 0.0065 - val_attention_mae: 0.0408\n",
            "Epoch 12/300\n",
            "1026/1026 [==============================] - 768s 749ms/step - loss: 0.0050 - attention_mae: 0.0343 - val_loss: 0.0063 - val_attention_mae: 0.0383\n",
            "Epoch 13/300\n",
            "1026/1026 [==============================] - 767s 748ms/step - loss: 0.0049 - attention_mae: 0.0336 - val_loss: 0.0085 - val_attention_mae: 0.0451\n",
            "Epoch 14/300\n",
            "1026/1026 [==============================] - 766s 746ms/step - loss: 0.0047 - attention_mae: 0.0332 - val_loss: 0.0076 - val_attention_mae: 0.0404\n",
            "Epoch 15/300\n",
            "1026/1026 [==============================] - 767s 747ms/step - loss: 0.0045 - attention_mae: 0.0323 - val_loss: 0.0056 - val_attention_mae: 0.0341\n",
            "Epoch 16/300\n",
            "1026/1026 [==============================] - 768s 748ms/step - loss: 0.0044 - attention_mae: 0.0319 - val_loss: 0.0052 - val_attention_mae: 0.0344\n",
            "Epoch 17/300\n",
            "1026/1026 [==============================] - 767s 747ms/step - loss: 0.0042 - attention_mae: 0.0311 - val_loss: 0.0057 - val_attention_mae: 0.0355\n",
            "Epoch 18/300\n",
            "1026/1026 [==============================] - 767s 747ms/step - loss: 0.0042 - attention_mae: 0.0307 - val_loss: 0.0056 - val_attention_mae: 0.0343\n",
            "Epoch 19/300\n",
            "1026/1026 [==============================] - 767s 748ms/step - loss: 0.0040 - attention_mae: 0.0302 - val_loss: 0.0060 - val_attention_mae: 0.0347\n",
            "Epoch 20/300\n",
            "1026/1026 [==============================] - 766s 747ms/step - loss: 0.0039 - attention_mae: 0.0295 - val_loss: 0.0055 - val_attention_mae: 0.0328\n",
            "Epoch 21/300\n",
            "1026/1026 [==============================] - 768s 748ms/step - loss: 0.0037 - attention_mae: 0.0289 - val_loss: 0.0050 - val_attention_mae: 0.0331\n",
            "Epoch 22/300\n",
            "1026/1026 [==============================] - 767s 747ms/step - loss: 0.0037 - attention_mae: 0.0286 - val_loss: 0.0048 - val_attention_mae: 0.0329\n",
            "Epoch 23/300\n",
            "1026/1026 [==============================] - 766s 747ms/step - loss: 0.0035 - attention_mae: 0.0278 - val_loss: 0.0048 - val_attention_mae: 0.0311\n",
            "Epoch 24/300\n",
            "1026/1026 [==============================] - 767s 747ms/step - loss: 0.0034 - attention_mae: 0.0274 - val_loss: 0.0051 - val_attention_mae: 0.0327\n",
            "Epoch 25/300\n",
            "1026/1026 [==============================] - 767s 747ms/step - loss: 0.0033 - attention_mae: 0.0270 - val_loss: 0.0046 - val_attention_mae: 0.0311\n",
            "Epoch 26/300\n",
            "1026/1026 [==============================] - 767s 748ms/step - loss: 0.0032 - attention_mae: 0.0265 - val_loss: 0.0048 - val_attention_mae: 0.0303\n",
            "Epoch 27/300\n",
            "1026/1026 [==============================] - 766s 747ms/step - loss: 0.0031 - attention_mae: 0.0263 - val_loss: 0.0047 - val_attention_mae: 0.0305\n",
            "Epoch 28/300\n",
            "1026/1026 [==============================] - 766s 747ms/step - loss: 0.0030 - attention_mae: 0.0257 - val_loss: 0.0049 - val_attention_mae: 0.0314\n",
            "Epoch 29/300\n",
            "1026/1026 [==============================] - 767s 747ms/step - loss: 0.0029 - attention_mae: 0.0251 - val_loss: 0.0045 - val_attention_mae: 0.0292\n",
            "Epoch 30/300\n",
            "1026/1026 [==============================] - 764s 745ms/step - loss: 0.0028 - attention_mae: 0.0248 - val_loss: 0.0043 - val_attention_mae: 0.0293\n",
            "Epoch 31/300\n",
            "1026/1026 [==============================] - 767s 747ms/step - loss: 0.0028 - attention_mae: 0.0246 - val_loss: 0.0042 - val_attention_mae: 0.0292\n",
            "Epoch 32/300\n",
            "1026/1026 [==============================] - 767s 747ms/step - loss: 0.0027 - attention_mae: 0.0240 - val_loss: 0.0040 - val_attention_mae: 0.0282\n",
            "Epoch 33/300\n",
            "1026/1026 [==============================] - 766s 747ms/step - loss: 0.0027 - attention_mae: 0.0239 - val_loss: 0.0047 - val_attention_mae: 0.0309\n",
            "Epoch 34/300\n",
            "1026/1026 [==============================] - 766s 746ms/step - loss: 0.0026 - attention_mae: 0.0235 - val_loss: 0.0047 - val_attention_mae: 0.0333\n",
            "Epoch 35/300\n",
            "1026/1026 [==============================] - 766s 747ms/step - loss: 0.0025 - attention_mae: 0.0230 - val_loss: 0.0042 - val_attention_mae: 0.0284\n",
            "Epoch 36/300\n",
            "1026/1026 [==============================] - 767s 748ms/step - loss: 0.0025 - attention_mae: 0.0233 - val_loss: 0.0041 - val_attention_mae: 0.0283\n",
            "Epoch 37/300\n",
            "1026/1026 [==============================] - 766s 746ms/step - loss: 0.0023 - attention_mae: 0.0225 - val_loss: 0.0041 - val_attention_mae: 0.0282\n",
            "Epoch 38/300\n",
            "1026/1026 [==============================] - 766s 747ms/step - loss: 0.0023 - attention_mae: 0.0220 - val_loss: 0.0039 - val_attention_mae: 0.0278\n",
            "Epoch 39/300\n",
            "1026/1026 [==============================] - 766s 747ms/step - loss: 0.0022 - attention_mae: 0.0217 - val_loss: 0.0044 - val_attention_mae: 0.0287\n",
            "Epoch 40/300\n",
            "1026/1026 [==============================] - 766s 747ms/step - loss: 0.0022 - attention_mae: 0.0215 - val_loss: 0.0042 - val_attention_mae: 0.0294\n",
            "Epoch 41/300\n",
            "1026/1026 [==============================] - 766s 747ms/step - loss: 0.0021 - attention_mae: 0.0213 - val_loss: 0.0051 - val_attention_mae: 0.0312\n",
            "Epoch 42/300\n",
            "1026/1026 [==============================] - 766s 747ms/step - loss: 0.0021 - attention_mae: 0.0211 - val_loss: 0.0052 - val_attention_mae: 0.0328\n",
            "Epoch 43/300\n",
            "1026/1026 [==============================] - 766s 746ms/step - loss: 0.0020 - attention_mae: 0.0208 - val_loss: 0.0042 - val_attention_mae: 0.0295\n",
            "Epoch 44/300\n",
            "1026/1026 [==============================] - 766s 746ms/step - loss: 0.0020 - attention_mae: 0.0207 - val_loss: 0.0040 - val_attention_mae: 0.0270\n",
            "Epoch 45/300\n",
            "1026/1026 [==============================] - 766s 747ms/step - loss: 0.0019 - attention_mae: 0.0201 - val_loss: 0.0041 - val_attention_mae: 0.0287\n",
            "Epoch 46/300\n",
            "1026/1026 [==============================] - 766s 747ms/step - loss: 0.0019 - attention_mae: 0.0202 - val_loss: 0.0036 - val_attention_mae: 0.0265\n",
            "Epoch 47/300\n",
            "1026/1026 [==============================] - 765s 746ms/step - loss: 0.0019 - attention_mae: 0.0200 - val_loss: 0.0040 - val_attention_mae: 0.0279\n",
            "Epoch 48/300\n",
            "1026/1026 [==============================] - 766s 747ms/step - loss: 0.0018 - attention_mae: 0.0196 - val_loss: 0.0042 - val_attention_mae: 0.0279\n",
            "Epoch 49/300\n",
            "1026/1026 [==============================] - 767s 747ms/step - loss: 0.0018 - attention_mae: 0.0193 - val_loss: 0.0042 - val_attention_mae: 0.0276\n",
            "Epoch 50/300\n",
            "1026/1026 [==============================] - 767s 747ms/step - loss: 0.0018 - attention_mae: 0.0193 - val_loss: 0.0037 - val_attention_mae: 0.0262\n",
            "Epoch 51/300\n",
            "1026/1026 [==============================] - 768s 748ms/step - loss: 0.0017 - attention_mae: 0.0190 - val_loss: 0.0037 - val_attention_mae: 0.0258\n",
            "Epoch 52/300\n",
            "1026/1026 [==============================] - 767s 748ms/step - loss: 0.0017 - attention_mae: 0.0187 - val_loss: 0.0041 - val_attention_mae: 0.0269\n",
            "Epoch 53/300\n",
            "1026/1026 [==============================] - 766s 747ms/step - loss: 0.0016 - attention_mae: 0.0185 - val_loss: 0.0040 - val_attention_mae: 0.0273\n",
            "Epoch 54/300\n",
            "1026/1026 [==============================] - 765s 745ms/step - loss: 0.0016 - attention_mae: 0.0184 - val_loss: 0.0047 - val_attention_mae: 0.0294\n",
            "Epoch 55/300\n",
            "1026/1026 [==============================] - 766s 747ms/step - loss: 0.0016 - attention_mae: 0.0182 - val_loss: 0.0038 - val_attention_mae: 0.0263\n",
            "Epoch 56/300\n",
            "1026/1026 [==============================] - 765s 746ms/step - loss: 0.0016 - attention_mae: 0.0181 - val_loss: 0.0044 - val_attention_mae: 0.0281\n",
            "Epoch 57/300\n",
            "1026/1026 [==============================] - 766s 746ms/step - loss: 0.0015 - attention_mae: 0.0179 - val_loss: 0.0040 - val_attention_mae: 0.0266\n",
            "Epoch 58/300\n",
            "1026/1026 [==============================] - 765s 746ms/step - loss: 0.0015 - attention_mae: 0.0177 - val_loss: 0.0039 - val_attention_mae: 0.0265\n",
            "Epoch 59/300\n",
            "1026/1026 [==============================] - 766s 746ms/step - loss: 0.0015 - attention_mae: 0.0174 - val_loss: 0.0039 - val_attention_mae: 0.0269\n",
            "Epoch 60/300\n",
            "1026/1026 [==============================] - 768s 749ms/step - loss: 0.0015 - attention_mae: 0.0175 - val_loss: 0.0041 - val_attention_mae: 0.0272\n",
            "Epoch 61/300\n",
            "1026/1026 [==============================] - 767s 747ms/step - loss: 0.0015 - attention_mae: 0.0174 - val_loss: 0.0036 - val_attention_mae: 0.0256\n",
            "Epoch 62/300\n",
            "1026/1026 [==============================] - 766s 746ms/step - loss: 0.0014 - attention_mae: 0.0172 - val_loss: 0.0045 - val_attention_mae: 0.0288\n",
            "Epoch 63/300\n",
            "1026/1026 [==============================] - 765s 745ms/step - loss: 0.0014 - attention_mae: 0.0169 - val_loss: 0.0042 - val_attention_mae: 0.0275\n",
            "Epoch 64/300\n",
            "1026/1026 [==============================] - 765s 745ms/step - loss: 0.0014 - attention_mae: 0.0168 - val_loss: 0.0038 - val_attention_mae: 0.0263\n",
            "Epoch 65/300\n",
            "1026/1026 [==============================] - 765s 746ms/step - loss: 0.0013 - attention_mae: 0.0167 - val_loss: 0.0033 - val_attention_mae: 0.0242\n",
            "Epoch 66/300\n",
            "1026/1026 [==============================] - 766s 746ms/step - loss: 0.0014 - attention_mae: 0.0167 - val_loss: 0.0034 - val_attention_mae: 0.0257\n",
            "Epoch 67/300\n",
            "1026/1026 [==============================] - 766s 746ms/step - loss: 0.0013 - attention_mae: 0.0166 - val_loss: 0.0038 - val_attention_mae: 0.0267\n",
            "Epoch 68/300\n",
            "1026/1026 [==============================] - 766s 747ms/step - loss: 0.0013 - attention_mae: 0.0164 - val_loss: 0.0038 - val_attention_mae: 0.0256\n",
            "Epoch 69/300\n",
            "1026/1026 [==============================] - 765s 746ms/step - loss: 0.0013 - attention_mae: 0.0162 - val_loss: 0.0036 - val_attention_mae: 0.0258\n",
            "Epoch 70/300\n",
            "1026/1026 [==============================] - 765s 745ms/step - loss: 0.0013 - attention_mae: 0.0164 - val_loss: 0.0033 - val_attention_mae: 0.0245\n",
            "Epoch 71/300\n",
            "1026/1026 [==============================] - 766s 746ms/step - loss: 0.0012 - attention_mae: 0.0158 - val_loss: 0.0032 - val_attention_mae: 0.0241\n",
            "Epoch 72/300\n",
            "1026/1026 [==============================] - 766s 747ms/step - loss: 0.0012 - attention_mae: 0.0158 - val_loss: 0.0034 - val_attention_mae: 0.0249\n",
            "Epoch 73/300\n",
            "1026/1026 [==============================] - 766s 746ms/step - loss: 0.0012 - attention_mae: 0.0158 - val_loss: 0.0040 - val_attention_mae: 0.0263\n",
            "Epoch 74/300\n",
            "1026/1026 [==============================] - 767s 747ms/step - loss: 0.0012 - attention_mae: 0.0156 - val_loss: 0.0036 - val_attention_mae: 0.0255\n",
            "Epoch 75/300\n",
            "1026/1026 [==============================] - 766s 747ms/step - loss: 0.0012 - attention_mae: 0.0155 - val_loss: 0.0034 - val_attention_mae: 0.0247\n",
            "Epoch 76/300\n",
            "1026/1026 [==============================] - 766s 746ms/step - loss: 0.0012 - attention_mae: 0.0156 - val_loss: 0.0043 - val_attention_mae: 0.0277\n",
            "Epoch 77/300\n",
            "1026/1026 [==============================] - 766s 747ms/step - loss: 0.0012 - attention_mae: 0.0154 - val_loss: 0.0036 - val_attention_mae: 0.0249\n",
            "Epoch 78/300\n",
            "1026/1026 [==============================] - 766s 746ms/step - loss: 0.0012 - attention_mae: 0.0154 - val_loss: 0.0038 - val_attention_mae: 0.0259\n",
            "Epoch 79/300\n",
            "1026/1026 [==============================] - 765s 746ms/step - loss: 0.0011 - attention_mae: 0.0152 - val_loss: 0.0039 - val_attention_mae: 0.0260\n",
            "Epoch 80/300\n",
            "1026/1026 [==============================] - 764s 745ms/step - loss: 0.0011 - attention_mae: 0.0150 - val_loss: 0.0040 - val_attention_mae: 0.0267\n",
            "Epoch 81/300\n",
            "1026/1026 [==============================] - 766s 747ms/step - loss: 0.0011 - attention_mae: 0.0148 - val_loss: 0.0041 - val_attention_mae: 0.0269\n",
            "Epoch 82/300\n",
            "1026/1026 [==============================] - 767s 748ms/step - loss: 0.0011 - attention_mae: 0.0147 - val_loss: 0.0037 - val_attention_mae: 0.0255\n",
            "Epoch 83/300\n",
            "1026/1026 [==============================] - 768s 748ms/step - loss: 0.0011 - attention_mae: 0.0147 - val_loss: 0.0036 - val_attention_mae: 0.0253\n",
            "Epoch 84/300\n",
            "1026/1026 [==============================] - 767s 748ms/step - loss: 0.0011 - attention_mae: 0.0147 - val_loss: 0.0033 - val_attention_mae: 0.0241\n",
            "Epoch 85/300\n",
            "1026/1026 [==============================] - 767s 748ms/step - loss: 0.0010 - attention_mae: 0.0145 - val_loss: 0.0040 - val_attention_mae: 0.0262\n",
            "Epoch 86/300\n",
            "1026/1026 [==============================] - 768s 748ms/step - loss: 0.0010 - attention_mae: 0.0144 - val_loss: 0.0032 - val_attention_mae: 0.0236\n",
            "Epoch 87/300\n",
            "1026/1026 [==============================] - 768s 749ms/step - loss: 0.0010 - attention_mae: 0.0144 - val_loss: 0.0034 - val_attention_mae: 0.0245\n",
            "Epoch 88/300\n",
            "1026/1026 [==============================] - 767s 747ms/step - loss: 9.8932e-04 - attention_mae: 0.0142 - val_loss: 0.0035 - val_attention_mae: 0.0243\n",
            "Epoch 89/300\n",
            "1026/1026 [==============================] - 768s 748ms/step - loss: 9.9137e-04 - attention_mae: 0.0142 - val_loss: 0.0034 - val_attention_mae: 0.0245\n",
            "Epoch 90/300\n",
            "1026/1026 [==============================] - 767s 747ms/step - loss: 9.6485e-04 - attention_mae: 0.0140 - val_loss: 0.0034 - val_attention_mae: 0.0246\n",
            "Epoch 91/300\n",
            "1026/1026 [==============================] - 768s 748ms/step - loss: 9.7529e-04 - attention_mae: 0.0141 - val_loss: 0.0033 - val_attention_mae: 0.0238\n",
            "Epoch 92/300\n",
            "1026/1026 [==============================] - 768s 749ms/step - loss: 9.6651e-04 - attention_mae: 0.0140 - val_loss: 0.0033 - val_attention_mae: 0.0240\n",
            "Epoch 93/300\n",
            " 804/1026 [======================>.......] - ETA: 2:44 - loss: 9.5021e-04 - attention_mae: 0.0139"
          ]
        }
      ],
      "source": [
        "history = model.fit(\n",
        "    train_batches,\n",
        "    validation_data=test_batches,\n",
        "    epochs=N_EPOCHS,\n",
        "    batch_size=BATCH_SIZE,\n",
        "    callbacks=callbacks,\n",
        "    verbose=1\n",
        ")\n"
      ]
    },
    {
      "cell_type": "markdown",
      "source": [
        "# Save Model"
      ],
      "metadata": {
        "id": "HT68Jm8AEluI"
      }
    },
    {
      "cell_type": "code",
      "source": [
        "timestamp = datetime.datetime.now().strftime('%b-%d-%I:%M%p')\n",
        "model_path = os.path.join(MODEL_PATH, EXP_NAME)\n",
        "if not os.path.exists(model_path):\n",
        "    os.makedirs(model_path)\n",
        "\n",
        "model.save(os.path.join(model_path, timestamp))"
      ],
      "metadata": {
        "id": "xfUmF_1mEjXH"
      },
      "execution_count": null,
      "outputs": []
    },
    {
      "cell_type": "markdown",
      "source": [
        "# Save Predictions"
      ],
      "metadata": {
        "id": "-PWi28iOKpXe"
      }
    },
    {
      "cell_type": "code",
      "execution_count": null,
      "metadata": {
        "id": "LLDJf93Z0YxY"
      },
      "outputs": [],
      "source": [
        "test_ds_unbatched = test_batches.unbatch()\n",
        "\n",
        "pred_path = os.path.join(PRED_PATH, EXP_NAME, timestamp)\n",
        "if not os.path.exists(pred_path):\n",
        "    os.makedirs(pred_path)\n",
        "\n",
        "metrics = pd.DataFrame()\n",
        "\n",
        "for idx, (input, target) in enumerate(tqdm(test_ds_unbatched)):\n",
        "\n",
        "    if not idx % 10 == 0:\n",
        "        continue\n",
        "\n",
        "    target = target.numpy()\n",
        "    prediction = tf.squeeze(\n",
        "        model.predict(\n",
        "            tf.expand_dims(input, axis=0)\n",
        "            )\n",
        "        ).numpy()\n",
        "    prediction[target == 1.0] = 1.0\n",
        "\n",
        "    # _metrics = pd.DataFrame([[\n",
        "    #         rmse(target, prediction),\n",
        "    #         psnr(target, prediction),\n",
        "    #         ssim(target, prediction),\n",
        "    #         fsim(target, prediction),\n",
        "    #         issm(target, prediction),\n",
        "    #         sre(target, prediction),\n",
        "    #         sam(target, prediction),\n",
        "    #         uiq(target, prediction),\n",
        "    #     ]],\n",
        "    #     columns=[\"RMSE\", \"PSNR\", \"SSIM\", \"FSIM\", \"ISSM\", \"SRE\", \"SAM\", \"UIQ\"]\n",
        "    # )\n",
        "\n",
        "    # metrics = pd.concat([metrics, _metrics], axis=0)\n",
        "\n",
        "    plt.figure(figsize=(12, 4))\n",
        "    plt.subplot(1, 3, 1)\n",
        "    plt.imshow(input)\n",
        "    plt.axis(\"off\")\n",
        "    plt.title(\"INPUT\")\n",
        "    plt.subplot(1, 3, 2)\n",
        "    plt.imshow(target)\n",
        "    plt.axis(\"off\")\n",
        "    plt.title(\"TARGET\")\n",
        "    plt.subplot(1, 3, 3)\n",
        "    plt.imshow(prediction)\n",
        "    plt.axis(\"off\")\n",
        "    plt.title(\"PREDICTION\")\n",
        "    plt.tight_layout()\n",
        "    plt.savefig(os.path.join(pred_path, f\"{idx}.png\"))\n",
        "    plt.close()  \n"
      ]
    },
    {
      "cell_type": "code",
      "source": [
        "loss = history.history['loss']\n",
        "val_loss = history.history['val_loss']\n",
        "\n",
        "plt.figure(figsize=(8, 6))\n",
        "plt.plot(loss, label='Training Loss')\n",
        "plt.plot(val_loss, label='Validation Loss')\n",
        "plt.legend(loc='upper right')\n",
        "plt.ylabel('Attention MAE')\n",
        "plt.title('Training and Validation Loss')\n",
        "plt.xlabel('Epoch')\n",
        "plt.tight_layout()\n",
        "plt.savefig(os.path.join(model_path, timestamp + \".png\"))\n",
        "plt.close()"
      ],
      "metadata": {
        "id": "dq-aXv2mIwA8"
      },
      "execution_count": null,
      "outputs": []
    },
    {
      "cell_type": "code",
      "source": [
        "model.evaluate(test_batches)"
      ],
      "metadata": {
        "id": "KghqZxOpWCWP"
      },
      "execution_count": null,
      "outputs": []
    },
    {
      "cell_type": "code",
      "source": [],
      "metadata": {
        "id": "Clx7EdsW2yFf"
      },
      "execution_count": null,
      "outputs": []
    }
  ],
  "metadata": {
    "kernelspec": {
      "display_name": "Python 3.10.6 ('Ai')",
      "language": "python",
      "name": "python3"
    },
    "language_info": {
      "codemirror_mode": {
        "name": "ipython",
        "version": 3
      },
      "file_extension": ".py",
      "mimetype": "text/x-python",
      "name": "python",
      "nbconvert_exporter": "python",
      "pygments_lexer": "ipython3",
      "version": "3.10.6"
    },
    "orig_nbformat": 4,
    "vscode": {
      "interpreter": {
        "hash": "cc12dd51c08fff59e312c49b5273cbf2a12939660509ea1a4d83cd89b0463726"
      }
    },
    "colab": {
      "provenance": [],
      "machine_shape": "hm",
      "toc_visible": true,
      "include_colab_link": true
    },
    "accelerator": "GPU",
    "gpuClass": "standard"
  },
  "nbformat": 4,
  "nbformat_minor": 0
}