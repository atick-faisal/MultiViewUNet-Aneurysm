{
  "cells": [
    {
      "cell_type": "markdown",
      "metadata": {
        "id": "view-in-github",
        "colab_type": "text"
      },
      "source": [
        "<a href=\"https://colab.research.google.com/github/atick-faisal/TAVI/blob/main/src/colab/MultiViewUNet.ipynb\" target=\"_parent\"><img src=\"https://colab.research.google.com/assets/colab-badge.svg\" alt=\"Open In Colab\"/></a>"
      ]
    },
    {
      "cell_type": "markdown",
      "source": [
        "# Google Drive"
      ],
      "metadata": {
        "id": "0estJx3IDzz4"
      }
    },
    {
      "cell_type": "code",
      "source": [
        "from google.colab import drive\n",
        "drive.mount('/content/drive')"
      ],
      "metadata": {
        "colab": {
          "base_uri": "https://localhost:8080/"
        },
        "id": "WsH9ydF7Dwpf",
        "outputId": "9a791b0e-54ad-4cea-c9e5-7e476f1b66a9"
      },
      "execution_count": 1,
      "outputs": [
        {
          "output_type": "stream",
          "name": "stdout",
          "text": [
            "Mounted at /content/drive\n"
          ]
        }
      ]
    },
    {
      "cell_type": "markdown",
      "metadata": {
        "id": "MMf8mzRT0YxP"
      },
      "source": [
        "# Download Dataset"
      ]
    },
    {
      "cell_type": "code",
      "execution_count": 2,
      "metadata": {
        "id": "Zm_HJEfM0YxS",
        "outputId": "619fb4ac-d89c-4f92-9d75-03e02adaccd4",
        "colab": {
          "base_uri": "https://localhost:8080/"
        }
      },
      "outputs": [
        {
          "output_type": "stream",
          "name": "stdout",
          "text": [
            "Downloading...\n",
            "From: https://drive.google.com/uc?id=1Iy1CKw0jvOT2aooY5fvL34Ky8ousqBtm\n",
            "To: /content/Dataset_v9.zip\n",
            "100% 694M/694M [00:13<00:00, 50.1MB/s]\n"
          ]
        }
      ],
      "source": [
        "!gdown \"1Iy1CKw0jvOT2aooY5fvL34Ky8ousqBtm\"\n",
        "!unzip -o \"Dataset_v9.zip\" > /dev/null\n"
      ]
    },
    {
      "cell_type": "markdown",
      "metadata": {
        "id": "Vemh_spU0YxT"
      },
      "source": [
        "# Imports"
      ]
    },
    {
      "cell_type": "code",
      "execution_count": 3,
      "metadata": {
        "id": "w0KYlE-90YxT"
      },
      "outputs": [],
      "source": [
        "import os\n",
        "import cv2\n",
        "import random\n",
        "import datetime\n",
        "import matplotlib\n",
        "import numpy as np\n",
        "import tensorflow as tf\n",
        "import matplotlib.pyplot as plt\n",
        "\n",
        "from tqdm import tqdm\n",
        "from numpy.typing import NDArray\n",
        "\n",
        "matplotlib.use('Agg')\n",
        "plt.rcParams[\"font.size\"] = 16\n"
      ]
    },
    {
      "cell_type": "markdown",
      "metadata": {
        "id": "vE8WOTRj0YxT"
      },
      "source": [
        "# Config"
      ]
    },
    {
      "cell_type": "code",
      "execution_count": 4,
      "metadata": {
        "id": "O5Vvm79c0YxT"
      },
      "outputs": [],
      "source": [
        "DATASET         = \"v9\"\n",
        "MODEL_NAME      = \"MultiViewUNet\"\n",
        "DATASET_PATH    = \"/content/Images/\"\n",
        "TRAIN_DIR       = \"Train/\"\n",
        "TEST_DIR        = \"Test/\"\n",
        "INPUT_DIR       = \"Input/\"\n",
        "TARGET_DIR      = \"Target/\"\n",
        "MODEL_PATH      = \"/content/drive/MyDrive/Research/TAVI/Models/\"\n",
        "PRED_PATH       = \"/content/drive/MyDrive/Research/TAVI/Predictions/\"\n",
        "\n",
        "IMG_SIZE        = 256\n",
        "BATCH_SIZE      = 8\n",
        "VAL_SPLIT       = 0.2\n",
        "LEARNING_RATE   = 0.001\n",
        "N_EPOCHS        = 300\n",
        "PATIENCE        = 30\n",
        "\n",
        "EXP_NAME        = f\"{MODEL_NAME}_I{IMG_SIZE}_B{BATCH_SIZE}_LR{LEARNING_RATE}_{DATASET}\"\n"
      ]
    },
    {
      "cell_type": "markdown",
      "metadata": {
        "id": "YmMjbvFH0YxU"
      },
      "source": [
        "# Architecture"
      ]
    },
    {
      "cell_type": "code",
      "execution_count": 5,
      "metadata": {
        "id": "xecJpVUs0YxU"
      },
      "outputs": [],
      "source": [
        "class UNet:\n",
        "    def __init__(\n",
        "        self,\n",
        "        img_size: int,\n",
        "        n_channels: int = 3,\n",
        "        width: int = 32,\n",
        "        depth: int = 4,\n",
        "        kernel_size: int = 3\n",
        "    ):\n",
        "        self.img_size = img_size\n",
        "        self.n_channels = n_channels\n",
        "        self.width = width\n",
        "        self.depth = depth\n",
        "        self.kernel_size = kernel_size\n",
        "\n",
        "    @staticmethod\n",
        "    def conv(\n",
        "        x: tf.Tensor,\n",
        "        filters: int,\n",
        "        kernel_size: int\n",
        "    ) -> tf.Tensor:\n",
        "        for i in range(2):\n",
        "            x = tf.keras.layers.Conv2D(\n",
        "                filters=filters,\n",
        "                kernel_size=kernel_size,\n",
        "                strides=1,\n",
        "                padding=\"same\",\n",
        "                data_format=\"channels_last\",\n",
        "                dilation_rate=1,\n",
        "                groups=1,\n",
        "                activation=None,\n",
        "                use_bias=True,\n",
        "                kernel_initializer=\"glorot_uniform\",\n",
        "                bias_initializer=\"zeros\"\n",
        "            )(x)\n",
        "\n",
        "            x = tf.keras.layers.BatchNormalization()(x)\n",
        "            x = tf.keras.layers.Activation(\"relu\")(x)\n",
        "\n",
        "        return x\n",
        "\n",
        "    @staticmethod\n",
        "    def deconv(x: tf.Tensor, filters: int) -> tf.Tensor:\n",
        "        x = tf.keras.layers.Conv2DTranspose(\n",
        "            filters=filters,\n",
        "            kernel_size=2,\n",
        "            strides=2,\n",
        "            padding=\"same\",\n",
        "            output_padding=None,\n",
        "            data_format=None,\n",
        "            dilation_rate=1,\n",
        "            activation=None,\n",
        "            use_bias=True,\n",
        "            kernel_initializer=\"glorot_uniform\",\n",
        "            bias_initializer=\"zeros\"\n",
        "        )(x)\n",
        "\n",
        "        x = tf.keras.layers.BatchNormalization()(x)\n",
        "        x = tf.keras.layers.Activation(\"relu\")(x)\n",
        "\n",
        "        return x\n",
        "\n",
        "    @staticmethod\n",
        "    def output(x: tf.Tensor) -> tf.Tensor:\n",
        "        return tf.keras.layers.Conv2D(3, (1, 1), activation=\"sigmoid\")(x)\n",
        "\n",
        "    @staticmethod\n",
        "    def pool(x: tf.Tensor, pool_size: int = 2) -> tf.Tensor:\n",
        "        return tf.keras.layers.MaxPool2D(pool_size)(x)\n",
        "\n",
        "    def __call__(self) -> tf.keras.Model:\n",
        "        inputs = tf.keras.layers.Input(\n",
        "            shape=(self.img_size, self.img_size, self.n_channels)\n",
        "        )\n",
        "\n",
        "        # scaled = tf.keras.layers.Rescaling(1./255.0, offset=0)(inputs)\n",
        "\n",
        "        # ------------------ Downsampling ---------------------\n",
        "        downsample_layers = []\n",
        "        downsample_layers.append(\n",
        "            self.conv(\n",
        "                x=inputs,\n",
        "                filters=self.width,\n",
        "                kernel_size=self.kernel_size\n",
        "            )\n",
        "        )\n",
        "        for i in range(1, self.depth):\n",
        "            filters = int((2 ** i) * self.width)\n",
        "            downsample_layers.append(\n",
        "                self.pool(\n",
        "                    self.conv(\n",
        "                        x=downsample_layers[i - 1],\n",
        "                        filters=filters,\n",
        "                        kernel_size=self.kernel_size\n",
        "                    )\n",
        "                )\n",
        "            )\n",
        "\n",
        "        # ------------------- Features --------------------\n",
        "        n_features = int((2 ** self.depth) * self.width)\n",
        "        self.features = self.pool(\n",
        "            self.conv(\n",
        "                x=downsample_layers[-1],\n",
        "                filters=n_features,\n",
        "                kernel_size=self.kernel_size\n",
        "            )\n",
        "        )\n",
        "\n",
        "        # ------------------- Upsampling --------------------\n",
        "        upsample_layers = []\n",
        "        upsample_layers.append(self.features)\n",
        "        for i in range(1, self.depth + 1):\n",
        "            filters = int((2 ** (self.depth - i)) * self.width)\n",
        "            upsample_layers.append(\n",
        "                self.conv(\n",
        "                    x=tf.keras.layers.concatenate([\n",
        "                        downsample_layers[self.depth - i],\n",
        "                        self.deconv(\n",
        "                            x=upsample_layers[i - 1],\n",
        "                            filters=filters\n",
        "                        )\n",
        "                    ]),\n",
        "                    filters=filters,\n",
        "                    kernel_size=self.kernel_size\n",
        "                )\n",
        "            )\n",
        "\n",
        "        # ---------------------- Output -----------------------\n",
        "        outputs = self.output(upsample_layers[-1])\n",
        "\n",
        "        return tf.keras.Model(inputs, outputs)\n"
      ]
    },
    {
      "cell_type": "markdown",
      "metadata": {
        "id": "ga47oOoc0YxV"
      },
      "source": [
        "# Loss Functions"
      ]
    },
    {
      "cell_type": "code",
      "execution_count": 6,
      "metadata": {
        "id": "ooE90mpc0YxW"
      },
      "outputs": [],
      "source": [
        "def attention_mse(y_true, y_pred):\n",
        "    _y_true = y_true[y_true != 1.0]\n",
        "    _y_pred = y_pred[y_true != 1.0]\n",
        "    squared_difference = tf.square(_y_true - _y_pred)\n",
        "    return tf.reduce_mean(squared_difference, axis=-1)\n",
        "\n",
        "\n",
        "def attention_mae(y_true, y_pred):\n",
        "    _y_true = y_true[y_true != 1.0]\n",
        "    _y_pred = y_pred[y_true != 1.0]\n",
        "    squared_difference = tf.abs(_y_true - _y_pred)\n",
        "    return tf.reduce_mean(squared_difference, axis=-1)\n"
      ]
    },
    {
      "cell_type": "markdown",
      "metadata": {
        "id": "wOgmHYSJ0YxW"
      },
      "source": [
        "# Utils"
      ]
    },
    {
      "cell_type": "code",
      "execution_count": 7,
      "metadata": {
        "id": "cSrfyX260YxW"
      },
      "outputs": [],
      "source": [
        "def load_data_from_dir(path: str) -> tf.data.Dataset:\n",
        "    return tf.keras.utils.image_dataset_from_directory(\n",
        "        directory=path,\n",
        "        labels=None,\n",
        "        color_mode='rgb',\n",
        "        batch_size=BATCH_SIZE,\n",
        "        image_size=(IMG_SIZE, IMG_SIZE),\n",
        "        shuffle=True,\n",
        "        seed=42,\n",
        "        # validation_split=VAL_SPLIT,\n",
        "        # subset=subset,\n",
        "        interpolation='bilinear',\n",
        "        follow_links=False,\n",
        "        crop_to_aspect_ratio=False\n",
        "    )\n"
      ]
    },
    {
      "cell_type": "markdown",
      "metadata": {
        "id": "CyS-63WI0YxX"
      },
      "source": [
        "# Dataloaders"
      ]
    },
    {
      "cell_type": "code",
      "execution_count": 8,
      "metadata": {
        "id": "71Dxzfkf0YxX",
        "outputId": "8f6e36f4-e30e-4846-f724-f8a4e30955ac",
        "colab": {
          "base_uri": "https://localhost:8080/"
        }
      },
      "outputs": [
        {
          "output_type": "stream",
          "name": "stdout",
          "text": [
            "Found 6624 files belonging to 1 classes.\n",
            "Found 6624 files belonging to 1 classes.\n",
            "Found 552 files belonging to 1 classes.\n",
            "Found 552 files belonging to 1 classes.\n",
            "(TensorSpec(shape=(None, 256, 256, 3), dtype=tf.float32, name=None), TensorSpec(shape=(None, 256, 256, 3), dtype=tf.float32, name=None))\n",
            "(TensorSpec(shape=(None, 256, 256, 3), dtype=tf.float32, name=None), TensorSpec(shape=(None, 256, 256, 3), dtype=tf.float32, name=None))\n"
          ]
        }
      ],
      "source": [
        "trainX = load_data_from_dir(os.path.join(DATASET_PATH, TRAIN_DIR, INPUT_DIR))\n",
        "trainY = load_data_from_dir(os.path.join(DATASET_PATH, TRAIN_DIR, TARGET_DIR))\n",
        "testX = load_data_from_dir(os.path.join(DATASET_PATH, TEST_DIR, INPUT_DIR))\n",
        "testY = load_data_from_dir(os.path.join(DATASET_PATH, TEST_DIR, TARGET_DIR))\n",
        "\n",
        "train_ds = tf.data.Dataset.zip((trainX, trainY))\n",
        "test_ds = tf.data.Dataset.zip((testX, testY))\n",
        "\n",
        "print(train_ds.element_spec)\n",
        "print(test_ds.element_spec)\n"
      ]
    },
    {
      "cell_type": "markdown",
      "source": [
        "# Normalization"
      ],
      "metadata": {
        "id": "01HaegmR278r"
      }
    },
    {
      "cell_type": "code",
      "source": [
        "normalization_layer = tf.keras.layers.Rescaling(1./255)\n",
        "train_ds = train_ds.map(lambda x, y: (normalization_layer(x), normalization_layer(y)))\n",
        "test_ds = test_ds.map(lambda x, y: (normalization_layer(x), normalization_layer(y)))"
      ],
      "metadata": {
        "id": "mDeZuH0p26pE"
      },
      "execution_count": 9,
      "outputs": []
    },
    {
      "cell_type": "markdown",
      "metadata": {
        "id": "eHlKefA_0YxX"
      },
      "source": [
        "# Optimization"
      ]
    },
    {
      "cell_type": "code",
      "execution_count": 10,
      "metadata": {
        "id": "U-HMkfOG0YxX"
      },
      "outputs": [],
      "source": [
        "AUTOTUNE = tf.data.AUTOTUNE\n",
        "\n",
        "train_ds = train_ds.cache().prefetch(buffer_size=AUTOTUNE)\n",
        "test_ds = test_ds.cache().prefetch(buffer_size=AUTOTUNE)\n"
      ]
    },
    {
      "cell_type": "markdown",
      "metadata": {
        "id": "w50akeqN0YxX"
      },
      "source": [
        "# Training Config"
      ]
    },
    {
      "cell_type": "code",
      "execution_count": 11,
      "metadata": {
        "id": "2YvF85Wg0YxY"
      },
      "outputs": [],
      "source": [
        "callbacks = [\n",
        "    tf.keras.callbacks.EarlyStopping(\n",
        "        monitor=\"val_loss\",\n",
        "        patience=PATIENCE,\n",
        "        restore_best_weights=True\n",
        "    )\n",
        "]\n",
        "\n",
        "optimizer = tf.keras.optimizers.Adam(\n",
        "    learning_rate=LEARNING_RATE\n",
        ")\n",
        "\n",
        "model = UNet(IMG_SIZE)()\n",
        "\n",
        "model.compile(\n",
        "    loss=attention_mse,\n",
        "    optimizer=optimizer,\n",
        "    metrics=['mean_squared_error']\n",
        ")\n"
      ]
    },
    {
      "cell_type": "markdown",
      "metadata": {
        "id": "XrJPilPI0YxY"
      },
      "source": [
        "# Training"
      ]
    },
    {
      "cell_type": "code",
      "execution_count": 12,
      "metadata": {
        "id": "y_b-8pkT0YxY",
        "outputId": "91e2282d-ef6c-4bf3-ebde-d7774c72dad2",
        "colab": {
          "base_uri": "https://localhost:8080/"
        }
      },
      "outputs": [
        {
          "output_type": "stream",
          "name": "stdout",
          "text": [
            "Epoch 1/300\n",
            "828/828 [==============================] - 152s 163ms/step - loss: 0.0160 - mean_squared_error: 0.2091 - val_loss: 0.0377 - val_mean_squared_error: 0.1716\n",
            "Epoch 2/300\n",
            "828/828 [==============================] - 130s 157ms/step - loss: 0.0130 - mean_squared_error: 0.2029 - val_loss: 0.0267 - val_mean_squared_error: 0.0841\n",
            "Epoch 3/300\n",
            "828/828 [==============================] - 130s 157ms/step - loss: 0.0122 - mean_squared_error: 0.1994 - val_loss: 0.0154 - val_mean_squared_error: 0.1563\n",
            "Epoch 4/300\n",
            "828/828 [==============================] - 130s 157ms/step - loss: 0.0116 - mean_squared_error: 0.1988 - val_loss: 0.0116 - val_mean_squared_error: 0.1764\n",
            "Epoch 5/300\n",
            "828/828 [==============================] - 130s 157ms/step - loss: 0.0110 - mean_squared_error: 0.1995 - val_loss: 0.0085 - val_mean_squared_error: 0.1997\n",
            "Epoch 6/300\n",
            "828/828 [==============================] - 130s 157ms/step - loss: 0.0105 - mean_squared_error: 0.2006 - val_loss: 0.0084 - val_mean_squared_error: 0.1834\n",
            "Epoch 7/300\n",
            "828/828 [==============================] - 130s 157ms/step - loss: 0.0099 - mean_squared_error: 0.2068 - val_loss: 0.0095 - val_mean_squared_error: 0.2303\n",
            "Epoch 8/300\n",
            "828/828 [==============================] - 130s 157ms/step - loss: 0.0094 - mean_squared_error: 0.2162 - val_loss: 0.0079 - val_mean_squared_error: 0.3298\n",
            "Epoch 9/300\n",
            "828/828 [==============================] - 129s 156ms/step - loss: 0.0089 - mean_squared_error: 0.2252 - val_loss: 0.0073 - val_mean_squared_error: 0.3501\n",
            "Epoch 10/300\n",
            "828/828 [==============================] - 129s 156ms/step - loss: 0.0084 - mean_squared_error: 0.2352 - val_loss: 0.0071 - val_mean_squared_error: 0.3646\n",
            "Epoch 11/300\n",
            "828/828 [==============================] - 130s 156ms/step - loss: 0.0079 - mean_squared_error: 0.2480 - val_loss: 0.0066 - val_mean_squared_error: 0.3041\n",
            "Epoch 12/300\n",
            "828/828 [==============================] - 130s 156ms/step - loss: 0.0074 - mean_squared_error: 0.2591 - val_loss: 0.0066 - val_mean_squared_error: 0.2387\n",
            "Epoch 13/300\n",
            "828/828 [==============================] - 129s 156ms/step - loss: 0.0070 - mean_squared_error: 0.2673 - val_loss: 0.0064 - val_mean_squared_error: 0.3902\n",
            "Epoch 14/300\n",
            "828/828 [==============================] - 130s 156ms/step - loss: 0.0066 - mean_squared_error: 0.2724 - val_loss: 0.0064 - val_mean_squared_error: 0.2897\n",
            "Epoch 15/300\n",
            "828/828 [==============================] - 129s 156ms/step - loss: 0.0062 - mean_squared_error: 0.2735 - val_loss: 0.0061 - val_mean_squared_error: 0.2817\n",
            "Epoch 16/300\n",
            "828/828 [==============================] - 130s 156ms/step - loss: 0.0059 - mean_squared_error: 0.2794 - val_loss: 0.0067 - val_mean_squared_error: 0.4216\n",
            "Epoch 17/300\n",
            "828/828 [==============================] - 129s 156ms/step - loss: 0.0057 - mean_squared_error: 0.2850 - val_loss: 0.0063 - val_mean_squared_error: 0.2759\n",
            "Epoch 18/300\n",
            "828/828 [==============================] - 130s 157ms/step - loss: 0.0053 - mean_squared_error: 0.2880 - val_loss: 0.0064 - val_mean_squared_error: 0.2220\n",
            "Epoch 19/300\n",
            "828/828 [==============================] - 130s 157ms/step - loss: 0.0051 - mean_squared_error: 0.2854 - val_loss: 0.0060 - val_mean_squared_error: 0.2992\n",
            "Epoch 20/300\n",
            "828/828 [==============================] - 130s 157ms/step - loss: 0.0048 - mean_squared_error: 0.2904 - val_loss: 0.0058 - val_mean_squared_error: 0.3710\n",
            "Epoch 21/300\n",
            "828/828 [==============================] - 130s 157ms/step - loss: 0.0047 - mean_squared_error: 0.2909 - val_loss: 0.0063 - val_mean_squared_error: 0.2506\n",
            "Epoch 22/300\n",
            "828/828 [==============================] - 130s 157ms/step - loss: 0.0044 - mean_squared_error: 0.2950 - val_loss: 0.0067 - val_mean_squared_error: 0.3196\n",
            "Epoch 23/300\n",
            "828/828 [==============================] - 130s 157ms/step - loss: 0.0043 - mean_squared_error: 0.2985 - val_loss: 0.0061 - val_mean_squared_error: 0.2820\n",
            "Epoch 24/300\n",
            "828/828 [==============================] - 130s 157ms/step - loss: 0.0041 - mean_squared_error: 0.3018 - val_loss: 0.0057 - val_mean_squared_error: 0.3070\n",
            "Epoch 25/300\n",
            "828/828 [==============================] - 130s 157ms/step - loss: 0.0040 - mean_squared_error: 0.3047 - val_loss: 0.0057 - val_mean_squared_error: 0.3037\n",
            "Epoch 26/300\n",
            "828/828 [==============================] - 130s 157ms/step - loss: 0.0038 - mean_squared_error: 0.3062 - val_loss: 0.0060 - val_mean_squared_error: 0.4060\n",
            "Epoch 27/300\n",
            "828/828 [==============================] - 130s 157ms/step - loss: 0.0037 - mean_squared_error: 0.3086 - val_loss: 0.0059 - val_mean_squared_error: 0.3796\n",
            "Epoch 28/300\n",
            "828/828 [==============================] - 130s 157ms/step - loss: 0.0036 - mean_squared_error: 0.3081 - val_loss: 0.0056 - val_mean_squared_error: 0.3201\n",
            "Epoch 29/300\n",
            "828/828 [==============================] - 130s 157ms/step - loss: 0.0035 - mean_squared_error: 0.3076 - val_loss: 0.0055 - val_mean_squared_error: 0.3824\n",
            "Epoch 30/300\n",
            "828/828 [==============================] - 130s 157ms/step - loss: 0.0034 - mean_squared_error: 0.3098 - val_loss: 0.0054 - val_mean_squared_error: 0.4256\n",
            "Epoch 31/300\n",
            "828/828 [==============================] - 130s 157ms/step - loss: 0.0032 - mean_squared_error: 0.3098 - val_loss: 0.0056 - val_mean_squared_error: 0.3745\n",
            "Epoch 32/300\n",
            "828/828 [==============================] - 130s 157ms/step - loss: 0.0031 - mean_squared_error: 0.3115 - val_loss: 0.0057 - val_mean_squared_error: 0.3521\n",
            "Epoch 33/300\n",
            "828/828 [==============================] - 130s 156ms/step - loss: 0.0030 - mean_squared_error: 0.3126 - val_loss: 0.0061 - val_mean_squared_error: 0.4185\n",
            "Epoch 34/300\n",
            "828/828 [==============================] - 130s 157ms/step - loss: 0.0029 - mean_squared_error: 0.3127 - val_loss: 0.0056 - val_mean_squared_error: 0.3219\n",
            "Epoch 35/300\n",
            "828/828 [==============================] - 130s 157ms/step - loss: 0.0029 - mean_squared_error: 0.3127 - val_loss: 0.0053 - val_mean_squared_error: 0.3392\n",
            "Epoch 36/300\n",
            "828/828 [==============================] - 130s 157ms/step - loss: 0.0027 - mean_squared_error: 0.3125 - val_loss: 0.0053 - val_mean_squared_error: 0.3337\n",
            "Epoch 37/300\n",
            "828/828 [==============================] - 130s 157ms/step - loss: 0.0026 - mean_squared_error: 0.3129 - val_loss: 0.0054 - val_mean_squared_error: 0.3205\n",
            "Epoch 38/300\n",
            "828/828 [==============================] - 130s 157ms/step - loss: 0.0026 - mean_squared_error: 0.3106 - val_loss: 0.0056 - val_mean_squared_error: 0.4528\n",
            "Epoch 39/300\n",
            "828/828 [==============================] - 130s 156ms/step - loss: 0.0025 - mean_squared_error: 0.3107 - val_loss: 0.0054 - val_mean_squared_error: 0.3164\n",
            "Epoch 40/300\n",
            "828/828 [==============================] - 129s 156ms/step - loss: 0.0025 - mean_squared_error: 0.3103 - val_loss: 0.0054 - val_mean_squared_error: 0.2831\n",
            "Epoch 41/300\n",
            "828/828 [==============================] - 129s 156ms/step - loss: 0.0024 - mean_squared_error: 0.3085 - val_loss: 0.0053 - val_mean_squared_error: 0.3117\n",
            "Epoch 42/300\n",
            "828/828 [==============================] - 130s 157ms/step - loss: 0.0024 - mean_squared_error: 0.3073 - val_loss: 0.0052 - val_mean_squared_error: 0.2936\n",
            "Epoch 43/300\n",
            "828/828 [==============================] - 130s 157ms/step - loss: 0.0024 - mean_squared_error: 0.3056 - val_loss: 0.0054 - val_mean_squared_error: 0.3049\n",
            "Epoch 44/300\n",
            "828/828 [==============================] - 130s 157ms/step - loss: 0.0023 - mean_squared_error: 0.3059 - val_loss: 0.0053 - val_mean_squared_error: 0.3896\n",
            "Epoch 45/300\n",
            "828/828 [==============================] - 130s 157ms/step - loss: 0.0022 - mean_squared_error: 0.3038 - val_loss: 0.0054 - val_mean_squared_error: 0.3446\n",
            "Epoch 46/300\n",
            "828/828 [==============================] - 130s 157ms/step - loss: 0.0022 - mean_squared_error: 0.3021 - val_loss: 0.0052 - val_mean_squared_error: 0.3324\n",
            "Epoch 47/300\n",
            "828/828 [==============================] - 130s 157ms/step - loss: 0.0021 - mean_squared_error: 0.3009 - val_loss: 0.0054 - val_mean_squared_error: 0.3292\n",
            "Epoch 48/300\n",
            "828/828 [==============================] - 130s 157ms/step - loss: 0.0021 - mean_squared_error: 0.3008 - val_loss: 0.0055 - val_mean_squared_error: 0.3029\n",
            "Epoch 49/300\n",
            "828/828 [==============================] - 130s 157ms/step - loss: 0.0021 - mean_squared_error: 0.3002 - val_loss: 0.0056 - val_mean_squared_error: 0.3898\n",
            "Epoch 50/300\n",
            "828/828 [==============================] - 130s 157ms/step - loss: 0.0020 - mean_squared_error: 0.2993 - val_loss: 0.0054 - val_mean_squared_error: 0.2943\n",
            "Epoch 51/300\n",
            "828/828 [==============================] - 130s 157ms/step - loss: 0.0020 - mean_squared_error: 0.3005 - val_loss: 0.0053 - val_mean_squared_error: 0.3448\n",
            "Epoch 52/300\n",
            "828/828 [==============================] - 130s 157ms/step - loss: 0.0020 - mean_squared_error: 0.3023 - val_loss: 0.0053 - val_mean_squared_error: 0.4190\n",
            "Epoch 53/300\n",
            "828/828 [==============================] - 130s 157ms/step - loss: 0.0019 - mean_squared_error: 0.3033 - val_loss: 0.0053 - val_mean_squared_error: 0.2742\n",
            "Epoch 54/300\n",
            "828/828 [==============================] - 130s 156ms/step - loss: 0.0019 - mean_squared_error: 0.3040 - val_loss: 0.0053 - val_mean_squared_error: 0.3206\n",
            "Epoch 55/300\n",
            "828/828 [==============================] - 130s 157ms/step - loss: 0.0019 - mean_squared_error: 0.3042 - val_loss: 0.0055 - val_mean_squared_error: 0.2839\n",
            "Epoch 56/300\n",
            "828/828 [==============================] - 130s 157ms/step - loss: 0.0018 - mean_squared_error: 0.3049 - val_loss: 0.0053 - val_mean_squared_error: 0.2907\n",
            "Epoch 57/300\n",
            "828/828 [==============================] - 130s 157ms/step - loss: 0.0018 - mean_squared_error: 0.3044 - val_loss: 0.0052 - val_mean_squared_error: 0.3530\n",
            "Epoch 58/300\n",
            "828/828 [==============================] - 130s 157ms/step - loss: 0.0018 - mean_squared_error: 0.3054 - val_loss: 0.0053 - val_mean_squared_error: 0.3046\n",
            "Epoch 59/300\n",
            "828/828 [==============================] - 130s 157ms/step - loss: 0.0018 - mean_squared_error: 0.3062 - val_loss: 0.0053 - val_mean_squared_error: 0.2995\n",
            "Epoch 60/300\n",
            "828/828 [==============================] - 130s 157ms/step - loss: 0.0017 - mean_squared_error: 0.3054 - val_loss: 0.0053 - val_mean_squared_error: 0.2887\n",
            "Epoch 61/300\n",
            "828/828 [==============================] - 130s 157ms/step - loss: 0.0017 - mean_squared_error: 0.3047 - val_loss: 0.0051 - val_mean_squared_error: 0.3078\n",
            "Epoch 62/300\n",
            "828/828 [==============================] - 130s 157ms/step - loss: 0.0017 - mean_squared_error: 0.3043 - val_loss: 0.0051 - val_mean_squared_error: 0.3317\n",
            "Epoch 63/300\n",
            "828/828 [==============================] - 130s 157ms/step - loss: 0.0017 - mean_squared_error: 0.3048 - val_loss: 0.0053 - val_mean_squared_error: 0.2870\n",
            "Epoch 64/300\n",
            "828/828 [==============================] - 130s 157ms/step - loss: 0.0016 - mean_squared_error: 0.3057 - val_loss: 0.0051 - val_mean_squared_error: 0.3312\n",
            "Epoch 65/300\n",
            "828/828 [==============================] - 130s 157ms/step - loss: 0.0016 - mean_squared_error: 0.3052 - val_loss: 0.0052 - val_mean_squared_error: 0.3075\n",
            "Epoch 66/300\n",
            "828/828 [==============================] - 130s 157ms/step - loss: 0.0016 - mean_squared_error: 0.3052 - val_loss: 0.0051 - val_mean_squared_error: 0.2905\n",
            "Epoch 67/300\n",
            "828/828 [==============================] - 130s 157ms/step - loss: 0.0015 - mean_squared_error: 0.3062 - val_loss: 0.0053 - val_mean_squared_error: 0.3094\n",
            "Epoch 68/300\n",
            "828/828 [==============================] - 130s 157ms/step - loss: 0.0015 - mean_squared_error: 0.3060 - val_loss: 0.0052 - val_mean_squared_error: 0.4150\n",
            "Epoch 69/300\n",
            "828/828 [==============================] - 130s 157ms/step - loss: 0.0015 - mean_squared_error: 0.3061 - val_loss: 0.0052 - val_mean_squared_error: 0.3030\n",
            "Epoch 70/300\n",
            "828/828 [==============================] - 130s 157ms/step - loss: 0.0015 - mean_squared_error: 0.3054 - val_loss: 0.0051 - val_mean_squared_error: 0.4393\n",
            "Epoch 71/300\n",
            "828/828 [==============================] - 130s 157ms/step - loss: 0.0015 - mean_squared_error: 0.3058 - val_loss: 0.0051 - val_mean_squared_error: 0.4343\n",
            "Epoch 72/300\n",
            "828/828 [==============================] - 130s 157ms/step - loss: 0.0015 - mean_squared_error: 0.3065 - val_loss: 0.0051 - val_mean_squared_error: 0.3569\n",
            "Epoch 73/300\n",
            "828/828 [==============================] - 130s 157ms/step - loss: 0.0015 - mean_squared_error: 0.3069 - val_loss: 0.0051 - val_mean_squared_error: 0.2968\n",
            "Epoch 74/300\n",
            "828/828 [==============================] - 130s 157ms/step - loss: 0.0015 - mean_squared_error: 0.3060 - val_loss: 0.0051 - val_mean_squared_error: 0.2967\n",
            "Epoch 75/300\n",
            "828/828 [==============================] - 130s 157ms/step - loss: 0.0014 - mean_squared_error: 0.3063 - val_loss: 0.0053 - val_mean_squared_error: 0.3721\n",
            "Epoch 76/300\n",
            "828/828 [==============================] - 130s 157ms/step - loss: 0.0014 - mean_squared_error: 0.3059 - val_loss: 0.0052 - val_mean_squared_error: 0.3163\n",
            "Epoch 77/300\n",
            "828/828 [==============================] - 130s 157ms/step - loss: 0.0014 - mean_squared_error: 0.3062 - val_loss: 0.0053 - val_mean_squared_error: 0.2958\n",
            "Epoch 78/300\n",
            "828/828 [==============================] - 130s 157ms/step - loss: 0.0014 - mean_squared_error: 0.3059 - val_loss: 0.0052 - val_mean_squared_error: 0.3399\n",
            "Epoch 79/300\n",
            "828/828 [==============================] - 130s 157ms/step - loss: 0.0013 - mean_squared_error: 0.3060 - val_loss: 0.0052 - val_mean_squared_error: 0.3037\n",
            "Epoch 80/300\n",
            "828/828 [==============================] - 130s 157ms/step - loss: 0.0013 - mean_squared_error: 0.3063 - val_loss: 0.0052 - val_mean_squared_error: 0.3129\n",
            "Epoch 81/300\n",
            "828/828 [==============================] - 130s 157ms/step - loss: 0.0013 - mean_squared_error: 0.3049 - val_loss: 0.0051 - val_mean_squared_error: 0.2994\n",
            "Epoch 82/300\n",
            "828/828 [==============================] - 130s 157ms/step - loss: 0.0013 - mean_squared_error: 0.3055 - val_loss: 0.0052 - val_mean_squared_error: 0.3862\n",
            "Epoch 83/300\n",
            "828/828 [==============================] - 130s 157ms/step - loss: 0.0013 - mean_squared_error: 0.3051 - val_loss: 0.0052 - val_mean_squared_error: 0.3909\n",
            "Epoch 84/300\n",
            "828/828 [==============================] - 130s 157ms/step - loss: 0.0013 - mean_squared_error: 0.3053 - val_loss: 0.0053 - val_mean_squared_error: 0.2971\n",
            "Epoch 85/300\n",
            "828/828 [==============================] - 130s 157ms/step - loss: 0.0013 - mean_squared_error: 0.3044 - val_loss: 0.0052 - val_mean_squared_error: 0.3703\n",
            "Epoch 86/300\n",
            "828/828 [==============================] - 130s 157ms/step - loss: 0.0013 - mean_squared_error: 0.3044 - val_loss: 0.0053 - val_mean_squared_error: 0.3597\n",
            "Epoch 87/300\n",
            "828/828 [==============================] - 130s 157ms/step - loss: 0.0012 - mean_squared_error: 0.3034 - val_loss: 0.0052 - val_mean_squared_error: 0.3163\n",
            "Epoch 88/300\n",
            "828/828 [==============================] - 130s 157ms/step - loss: 0.0012 - mean_squared_error: 0.3044 - val_loss: 0.0052 - val_mean_squared_error: 0.3131\n",
            "Epoch 89/300\n",
            "828/828 [==============================] - 130s 157ms/step - loss: 0.0012 - mean_squared_error: 0.3041 - val_loss: 0.0053 - val_mean_squared_error: 0.3122\n",
            "Epoch 90/300\n",
            "828/828 [==============================] - 130s 157ms/step - loss: 0.0012 - mean_squared_error: 0.3033 - val_loss: 0.0052 - val_mean_squared_error: 0.3092\n",
            "Epoch 91/300\n",
            "828/828 [==============================] - 130s 157ms/step - loss: 0.0012 - mean_squared_error: 0.3041 - val_loss: 0.0053 - val_mean_squared_error: 0.3944\n",
            "Epoch 92/300\n",
            "828/828 [==============================] - 130s 157ms/step - loss: 0.0012 - mean_squared_error: 0.3047 - val_loss: 0.0053 - val_mean_squared_error: 0.3036\n",
            "Epoch 93/300\n",
            "828/828 [==============================] - 130s 157ms/step - loss: 0.0012 - mean_squared_error: 0.3037 - val_loss: 0.0053 - val_mean_squared_error: 0.3253\n",
            "Epoch 94/300\n",
            "828/828 [==============================] - 130s 157ms/step - loss: 0.0012 - mean_squared_error: 0.3026 - val_loss: 0.0053 - val_mean_squared_error: 0.3066\n",
            "Epoch 95/300\n",
            "828/828 [==============================] - 130s 157ms/step - loss: 0.0012 - mean_squared_error: 0.3022 - val_loss: 0.0052 - val_mean_squared_error: 0.2943\n",
            "Epoch 96/300\n",
            "828/828 [==============================] - 130s 157ms/step - loss: 0.0012 - mean_squared_error: 0.3019 - val_loss: 0.0052 - val_mean_squared_error: 0.2866\n"
          ]
        }
      ],
      "source": [
        "history = model.fit(\n",
        "    train_ds,\n",
        "    validation_data=test_ds,\n",
        "    epochs=N_EPOCHS,\n",
        "    batch_size=BATCH_SIZE,\n",
        "    callbacks=callbacks,\n",
        "    verbose=1\n",
        ")\n"
      ]
    },
    {
      "cell_type": "markdown",
      "source": [
        "# Save Model"
      ],
      "metadata": {
        "id": "HT68Jm8AEluI"
      }
    },
    {
      "cell_type": "code",
      "source": [
        "timestamp = datetime.datetime.now().strftime('%b-%d-%I:%M%p')\n",
        "model_path = os.path.join(MODEL_PATH, EXP_NAME)\n",
        "if not os.path.exists(model_path):\n",
        "    os.makedirs(model_path)\n",
        "\n",
        "model.save(os.path.join(model_path, timestamp))"
      ],
      "metadata": {
        "id": "xfUmF_1mEjXH"
      },
      "execution_count": 13,
      "outputs": []
    },
    {
      "cell_type": "markdown",
      "source": [
        "# Save Predictions"
      ],
      "metadata": {
        "id": "-PWi28iOKpXe"
      }
    },
    {
      "cell_type": "code",
      "execution_count": 14,
      "metadata": {
        "id": "LLDJf93Z0YxY",
        "outputId": "1d123b7b-6a6b-4675-922e-1d201dd752bb",
        "colab": {
          "base_uri": "https://localhost:8080/"
        }
      },
      "outputs": [
        {
          "output_type": "stream",
          "name": "stderr",
          "text": [
            "552it [00:04, 121.67it/s]\n"
          ]
        }
      ],
      "source": [
        "test_ds_unbatched = test_ds.unbatch()\n",
        "\n",
        "pred_path = os.path.join(PRED_PATH, EXP_NAME, timestamp)\n",
        "if not os.path.exists(pred_path):\n",
        "    os.makedirs(pred_path)\n",
        "\n",
        "for idx, (input, target) in enumerate(tqdm(test_ds_unbatched)):\n",
        "    if not idx % 40 == 0:\n",
        "        continue\n",
        "\n",
        "    prediction = tf.squeeze(\n",
        "        model.predict(\n",
        "            tf.expand_dims(input, axis=0)\n",
        "            )\n",
        "        ).numpy()\n",
        "    prediction[target > 0.9] = 1.0\n",
        "\n",
        "    plt.figure(figsize=(12, 4))\n",
        "    plt.subplot(1, 3, 1)\n",
        "    plt.imshow(input)\n",
        "    plt.axis(\"off\")\n",
        "    plt.title(\"INPUT\")\n",
        "    plt.subplot(1, 3, 2)\n",
        "    plt.imshow(target)\n",
        "    plt.axis(\"off\")\n",
        "    plt.title(\"TARGET\")\n",
        "    plt.subplot(1, 3, 3)\n",
        "    plt.imshow(prediction)\n",
        "    plt.axis(\"off\")\n",
        "    plt.title(\"PREDICTION\")\n",
        "    plt.tight_layout()\n",
        "    plt.savefig(os.path.join(pred_path, f\"{idx}.jpg\"))\n",
        "    plt.close()  \n"
      ]
    },
    {
      "cell_type": "code",
      "source": [
        "loss = history.history['loss']\n",
        "val_loss = history.history['val_loss']\n",
        "\n",
        "plt.figure(figsize=(8, 6))\n",
        "plt.plot(loss, label='Training Loss')\n",
        "plt.plot(val_loss, label='Validation Loss')\n",
        "plt.legend(loc='upper right')\n",
        "plt.ylabel('Attention MAE')\n",
        "plt.title('Training and Validation Loss')\n",
        "plt.xlabel('Epoch')\n",
        "plt.tight_layout()\n",
        "plt.savefig(os.path.join(model_path, timestamp + \".jpg\"))\n",
        "plt.close()"
      ],
      "metadata": {
        "id": "dq-aXv2mIwA8"
      },
      "execution_count": 15,
      "outputs": []
    }
  ],
  "metadata": {
    "kernelspec": {
      "display_name": "Python 3.10.6 ('Ai')",
      "language": "python",
      "name": "python3"
    },
    "language_info": {
      "codemirror_mode": {
        "name": "ipython",
        "version": 3
      },
      "file_extension": ".py",
      "mimetype": "text/x-python",
      "name": "python",
      "nbconvert_exporter": "python",
      "pygments_lexer": "ipython3",
      "version": "3.10.6"
    },
    "orig_nbformat": 4,
    "vscode": {
      "interpreter": {
        "hash": "cc12dd51c08fff59e312c49b5273cbf2a12939660509ea1a4d83cd89b0463726"
      }
    },
    "colab": {
      "provenance": [],
      "machine_shape": "hm",
      "include_colab_link": true
    },
    "accelerator": "GPU",
    "gpuClass": "premium"
  },
  "nbformat": 4,
  "nbformat_minor": 0
}