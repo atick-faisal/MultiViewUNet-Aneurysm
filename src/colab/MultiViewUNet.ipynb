{
  "cells": [
    {
      "cell_type": "markdown",
      "metadata": {
        "id": "view-in-github",
        "colab_type": "text"
      },
      "source": [
        "<a href=\"https://colab.research.google.com/github/atick-faisal/TAVI/blob/main/src/colab/MultiViewUNet.ipynb\" target=\"_parent\"><img src=\"https://colab.research.google.com/assets/colab-badge.svg\" alt=\"Open In Colab\"/></a>"
      ]
    },
    {
      "cell_type": "markdown",
      "source": [
        "# Google Drive"
      ],
      "metadata": {
        "id": "0estJx3IDzz4"
      }
    },
    {
      "cell_type": "code",
      "source": [
        "from google.colab import drive\n",
        "drive.mount('/content/drive')"
      ],
      "metadata": {
        "colab": {
          "base_uri": "https://localhost:8080/"
        },
        "id": "WsH9ydF7Dwpf",
        "outputId": "57d46c08-b219-4ef7-b1fb-3c72e93bbdc6"
      },
      "execution_count": 1,
      "outputs": [
        {
          "output_type": "stream",
          "name": "stdout",
          "text": [
            "Mounted at /content/drive\n"
          ]
        }
      ]
    },
    {
      "cell_type": "markdown",
      "metadata": {
        "id": "MMf8mzRT0YxP"
      },
      "source": [
        "# Download Dataset"
      ]
    },
    {
      "cell_type": "code",
      "execution_count": 2,
      "metadata": {
        "colab": {
          "base_uri": "https://localhost:8080/"
        },
        "id": "Zm_HJEfM0YxS",
        "outputId": "7bd8c4bc-a9bf-4176-e13d-22e870aae514"
      },
      "outputs": [
        {
          "output_type": "stream",
          "name": "stdout",
          "text": [
            "Downloading...\n",
            "From: https://drive.google.com/uc?id=1BqknDp9btODXELYBJzJhYyunhWblUT6v\n",
            "To: /content/Dataset_v3.zip\n",
            "100% 132M/132M [00:02<00:00, 50.4MB/s]\n"
          ]
        }
      ],
      "source": [
        "!gdown \"1BqknDp9btODXELYBJzJhYyunhWblUT6v\"\n",
        "!unzip -o \"Dataset_v3.zip\" > /dev/null\n"
      ]
    },
    {
      "cell_type": "markdown",
      "metadata": {
        "id": "Vemh_spU0YxT"
      },
      "source": [
        "# Imports"
      ]
    },
    {
      "cell_type": "code",
      "execution_count": 3,
      "metadata": {
        "id": "w0KYlE-90YxT"
      },
      "outputs": [],
      "source": [
        "import os\n",
        "import cv2\n",
        "import random\n",
        "import datetime\n",
        "import matplotlib\n",
        "import numpy as np\n",
        "import tensorflow as tf\n",
        "import matplotlib.pyplot as plt\n",
        "\n",
        "from tqdm import tqdm\n",
        "from numpy.typing import NDArray\n",
        "\n",
        "matplotlib.use('Agg')\n",
        "plt.rcParams[\"font.size\"] = 16\n"
      ]
    },
    {
      "cell_type": "markdown",
      "metadata": {
        "id": "vE8WOTRj0YxT"
      },
      "source": [
        "# Config"
      ]
    },
    {
      "cell_type": "code",
      "execution_count": 4,
      "metadata": {
        "id": "O5Vvm79c0YxT"
      },
      "outputs": [],
      "source": [
        "EXP_NAME        = \"MultiVewUNet-256x256-BS8-LR3e4-EP300-GEO_AUGXY\"\n",
        "\n",
        "DATASET_PATH    = \"/content/Images/\"\n",
        "TRAIN_DIR       = \"Train/\"\n",
        "TEST_DIR        = \"Test/\"\n",
        "INPUT_DIR       = \"Input/\"\n",
        "TARGET_DIR      = \"Target/\"\n",
        "MODEL_PATH      = \"/content/drive/MyDrive/Research/TAVI/Models/\"\n",
        "PRED_PATH       = \"/content/drive/MyDrive/Research/TAVI/Predictions/\"\n",
        "\n",
        "IMG_SIZE        = 256\n",
        "BATCH_SIZE      = 8\n",
        "VAL_SPLIT       = 0.2\n",
        "LEARNING_RATE   = 3e-4\n",
        "N_EPOCHS        = 300\n",
        "PATIENCE        = 30\n"
      ]
    },
    {
      "cell_type": "markdown",
      "metadata": {
        "id": "YmMjbvFH0YxU"
      },
      "source": [
        "# Architecture"
      ]
    },
    {
      "cell_type": "code",
      "execution_count": 5,
      "metadata": {
        "id": "xecJpVUs0YxU"
      },
      "outputs": [],
      "source": [
        "class UNet:\n",
        "    def __init__(\n",
        "        self,\n",
        "        img_size: int,\n",
        "        n_channels: int = 3,\n",
        "        width: int = 32,\n",
        "        depth: int = 4,\n",
        "        kernel_size: int = 3\n",
        "    ):\n",
        "        self.img_size = img_size\n",
        "        self.n_channels = n_channels\n",
        "        self.width = width\n",
        "        self.depth = depth\n",
        "        self.kernel_size = kernel_size\n",
        "\n",
        "    @staticmethod\n",
        "    def conv(\n",
        "        x: tf.Tensor,\n",
        "        filters: int,\n",
        "        kernel_size: int\n",
        "    ) -> tf.Tensor:\n",
        "        for i in range(2):\n",
        "            x = tf.keras.layers.Conv2D(\n",
        "                filters=filters,\n",
        "                kernel_size=kernel_size,\n",
        "                strides=1,\n",
        "                padding=\"same\",\n",
        "                data_format=\"channels_last\",\n",
        "                dilation_rate=1,\n",
        "                groups=1,\n",
        "                activation=None,\n",
        "                use_bias=True,\n",
        "                kernel_initializer=\"glorot_uniform\",\n",
        "                bias_initializer=\"zeros\"\n",
        "            )(x)\n",
        "\n",
        "            x = tf.keras.layers.BatchNormalization()(x)\n",
        "            x = tf.keras.layers.Activation(\"relu\")(x)\n",
        "\n",
        "        return x\n",
        "\n",
        "    @staticmethod\n",
        "    def deconv(x: tf.Tensor, filters: int) -> tf.Tensor:\n",
        "        x = tf.keras.layers.Conv2DTranspose(\n",
        "            filters=filters,\n",
        "            kernel_size=2,\n",
        "            strides=2,\n",
        "            padding=\"same\",\n",
        "            output_padding=None,\n",
        "            data_format=None,\n",
        "            dilation_rate=1,\n",
        "            activation=None,\n",
        "            use_bias=True,\n",
        "            kernel_initializer=\"glorot_uniform\",\n",
        "            bias_initializer=\"zeros\"\n",
        "        )(x)\n",
        "\n",
        "        x = tf.keras.layers.BatchNormalization()(x)\n",
        "        x = tf.keras.layers.Activation(\"relu\")(x)\n",
        "\n",
        "        return x\n",
        "\n",
        "    @staticmethod\n",
        "    def output(x: tf.Tensor) -> tf.Tensor:\n",
        "        return tf.keras.layers.Conv2D(3, (1, 1), activation=\"sigmoid\")(x)\n",
        "\n",
        "    @staticmethod\n",
        "    def pool(x: tf.Tensor, pool_size: int = 2) -> tf.Tensor:\n",
        "        return tf.keras.layers.MaxPool2D(pool_size)(x)\n",
        "\n",
        "    def __call__(self) -> tf.keras.Model:\n",
        "        inputs = tf.keras.layers.Input(\n",
        "            shape=(self.img_size, self.img_size, self.n_channels)\n",
        "        )\n",
        "\n",
        "        # scaled = tf.keras.layers.Rescaling(1./255.0, offset=0)(inputs)\n",
        "\n",
        "        # ------------------ Downsampling ---------------------\n",
        "        downsample_layers = []\n",
        "        downsample_layers.append(\n",
        "            self.conv(\n",
        "                x=inputs,\n",
        "                filters=self.width,\n",
        "                kernel_size=self.kernel_size\n",
        "            )\n",
        "        )\n",
        "        for i in range(1, self.depth):\n",
        "            filters = int((2 ** i) * self.width)\n",
        "            downsample_layers.append(\n",
        "                self.pool(\n",
        "                    self.conv(\n",
        "                        x=downsample_layers[i - 1],\n",
        "                        filters=filters,\n",
        "                        kernel_size=self.kernel_size\n",
        "                    )\n",
        "                )\n",
        "            )\n",
        "\n",
        "        # ------------------- Features --------------------\n",
        "        n_features = int((2 ** self.depth) * self.width)\n",
        "        self.features = self.pool(\n",
        "            self.conv(\n",
        "                x=downsample_layers[-1],\n",
        "                filters=n_features,\n",
        "                kernel_size=self.kernel_size\n",
        "            )\n",
        "        )\n",
        "\n",
        "        # ------------------- Upsampling --------------------\n",
        "        upsample_layers = []\n",
        "        upsample_layers.append(self.features)\n",
        "        for i in range(1, self.depth + 1):\n",
        "            filters = int((2 ** (self.depth - i)) * self.width)\n",
        "            upsample_layers.append(\n",
        "                self.conv(\n",
        "                    x=tf.keras.layers.concatenate([\n",
        "                        downsample_layers[self.depth - i],\n",
        "                        self.deconv(\n",
        "                            x=upsample_layers[i - 1],\n",
        "                            filters=filters\n",
        "                        )\n",
        "                    ]),\n",
        "                    filters=filters,\n",
        "                    kernel_size=self.kernel_size\n",
        "                )\n",
        "            )\n",
        "\n",
        "        # ---------------------- Output -----------------------\n",
        "        outputs = self.output(upsample_layers[-1])\n",
        "\n",
        "        return tf.keras.Model(inputs, outputs)\n"
      ]
    },
    {
      "cell_type": "markdown",
      "metadata": {
        "id": "ga47oOoc0YxV"
      },
      "source": [
        "# Loss Functions"
      ]
    },
    {
      "cell_type": "code",
      "execution_count": 6,
      "metadata": {
        "id": "ooE90mpc0YxW"
      },
      "outputs": [],
      "source": [
        "def attention_mse(y_true, y_pred):\n",
        "    _y_true = y_true[y_true != 1.0]\n",
        "    _y_pred = y_pred[y_true != 1.0]\n",
        "    squared_difference = tf.square(_y_true - _y_pred)\n",
        "    return tf.reduce_mean(squared_difference, axis=-1)\n",
        "\n",
        "\n",
        "def attention_mae(y_true, y_pred):\n",
        "    _y_true = y_true[y_true != 1.0]\n",
        "    _y_pred = y_pred[y_true != 1.0]\n",
        "    squared_difference = tf.abs(_y_true - _y_pred)\n",
        "    return tf.reduce_mean(squared_difference, axis=-1)\n"
      ]
    },
    {
      "cell_type": "markdown",
      "metadata": {
        "id": "wOgmHYSJ0YxW"
      },
      "source": [
        "# Utils"
      ]
    },
    {
      "cell_type": "code",
      "execution_count": 7,
      "metadata": {
        "id": "cSrfyX260YxW"
      },
      "outputs": [],
      "source": [
        "def load_data_from_dir(path: str) -> tf.data.Dataset:\n",
        "    return tf.keras.utils.image_dataset_from_directory(\n",
        "        directory=path,\n",
        "        labels=None,\n",
        "        color_mode='rgb',\n",
        "        batch_size=BATCH_SIZE,\n",
        "        image_size=(IMG_SIZE, IMG_SIZE),\n",
        "        shuffle=True,\n",
        "        seed=42,\n",
        "        # validation_split=VAL_SPLIT,\n",
        "        # subset=subset,\n",
        "        interpolation='bilinear',\n",
        "        follow_links=False,\n",
        "        crop_to_aspect_ratio=False\n",
        "    )\n"
      ]
    },
    {
      "cell_type": "markdown",
      "metadata": {
        "id": "CyS-63WI0YxX"
      },
      "source": [
        "# Dataloaders"
      ]
    },
    {
      "cell_type": "code",
      "execution_count": 8,
      "metadata": {
        "colab": {
          "base_uri": "https://localhost:8080/"
        },
        "id": "71Dxzfkf0YxX",
        "outputId": "bbe5f7a3-ad3a-43e5-d5dd-00b427f20c7c"
      },
      "outputs": [
        {
          "output_type": "stream",
          "name": "stdout",
          "text": [
            "Found 6624 files belonging to 1 classes.\n",
            "Found 6624 files belonging to 1 classes.\n",
            "Found 552 files belonging to 1 classes.\n",
            "Found 552 files belonging to 1 classes.\n",
            "(TensorSpec(shape=(None, 256, 256, 3), dtype=tf.float32, name=None), TensorSpec(shape=(None, 256, 256, 3), dtype=tf.float32, name=None))\n",
            "(TensorSpec(shape=(None, 256, 256, 3), dtype=tf.float32, name=None), TensorSpec(shape=(None, 256, 256, 3), dtype=tf.float32, name=None))\n"
          ]
        }
      ],
      "source": [
        "trainX = load_data_from_dir(os.path.join(DATASET_PATH, TRAIN_DIR, INPUT_DIR))\n",
        "trainY = load_data_from_dir(os.path.join(DATASET_PATH, TRAIN_DIR, TARGET_DIR))\n",
        "testX = load_data_from_dir(os.path.join(DATASET_PATH, TEST_DIR, INPUT_DIR))\n",
        "testY = load_data_from_dir(os.path.join(DATASET_PATH, TEST_DIR, TARGET_DIR))\n",
        "\n",
        "train_ds = tf.data.Dataset.zip((trainX, trainY))\n",
        "test_ds = tf.data.Dataset.zip((testX, testY))\n",
        "\n",
        "print(train_ds.element_spec)\n",
        "print(test_ds.element_spec)\n"
      ]
    },
    {
      "cell_type": "markdown",
      "source": [
        "# Normalization"
      ],
      "metadata": {
        "id": "01HaegmR278r"
      }
    },
    {
      "cell_type": "code",
      "source": [
        "normalization_layer = tf.keras.layers.Rescaling(1./255)\n",
        "train_ds = train_ds.map(lambda x, y: (normalization_layer(x), normalization_layer(y)))\n",
        "test_ds = test_ds.map(lambda x, y: (normalization_layer(x), normalization_layer(y)))"
      ],
      "metadata": {
        "id": "mDeZuH0p26pE"
      },
      "execution_count": 9,
      "outputs": []
    },
    {
      "cell_type": "markdown",
      "metadata": {
        "id": "eHlKefA_0YxX"
      },
      "source": [
        "# Optimization"
      ]
    },
    {
      "cell_type": "code",
      "execution_count": 10,
      "metadata": {
        "id": "U-HMkfOG0YxX"
      },
      "outputs": [],
      "source": [
        "AUTOTUNE = tf.data.AUTOTUNE\n",
        "\n",
        "train_ds = train_ds.cache().prefetch(buffer_size=AUTOTUNE)\n",
        "test_ds = test_ds.cache().prefetch(buffer_size=AUTOTUNE)\n"
      ]
    },
    {
      "cell_type": "markdown",
      "metadata": {
        "id": "w50akeqN0YxX"
      },
      "source": [
        "# Training Config"
      ]
    },
    {
      "cell_type": "code",
      "execution_count": 11,
      "metadata": {
        "id": "2YvF85Wg0YxY"
      },
      "outputs": [],
      "source": [
        "callbacks = [\n",
        "    tf.keras.callbacks.EarlyStopping(\n",
        "        monitor=\"val_loss\",\n",
        "        patience=PATIENCE,\n",
        "        restore_best_weights=True\n",
        "    )\n",
        "]\n",
        "\n",
        "optimizer = tf.keras.optimizers.Adam(\n",
        "    learning_rate=LEARNING_RATE\n",
        ")\n",
        "\n",
        "model = UNet(IMG_SIZE)()\n",
        "\n",
        "model.compile(\n",
        "    loss=attention_mse,\n",
        "    optimizer=optimizer,\n",
        "    metrics=['mean_squared_error']\n",
        ")\n"
      ]
    },
    {
      "cell_type": "markdown",
      "metadata": {
        "id": "XrJPilPI0YxY"
      },
      "source": [
        "# Training"
      ]
    },
    {
      "cell_type": "code",
      "execution_count": 12,
      "metadata": {
        "colab": {
          "base_uri": "https://localhost:8080/"
        },
        "id": "y_b-8pkT0YxY",
        "outputId": "cadf02b4-735b-4d08-c08f-4198181598f6"
      },
      "outputs": [
        {
          "output_type": "stream",
          "name": "stdout",
          "text": [
            "Epoch 1/300\n",
            "828/828 [==============================] - 147s 160ms/step - loss: 0.0325 - mean_squared_error: 0.2029 - val_loss: 0.0277 - val_mean_squared_error: 0.1644\n",
            "Epoch 2/300\n",
            "828/828 [==============================] - 129s 155ms/step - loss: 0.0288 - mean_squared_error: 0.2035 - val_loss: 0.0251 - val_mean_squared_error: 0.2067\n",
            "Epoch 3/300\n",
            "828/828 [==============================] - 128s 155ms/step - loss: 0.0279 - mean_squared_error: 0.2026 - val_loss: 0.0231 - val_mean_squared_error: 0.0063\n",
            "Epoch 4/300\n",
            "828/828 [==============================] - 129s 155ms/step - loss: 0.0272 - mean_squared_error: 0.2024 - val_loss: 0.0239 - val_mean_squared_error: 0.2192\n",
            "Epoch 5/300\n",
            "828/828 [==============================] - 128s 155ms/step - loss: 0.0264 - mean_squared_error: 0.2028 - val_loss: 0.0248 - val_mean_squared_error: 0.2668\n",
            "Epoch 6/300\n",
            "828/828 [==============================] - 129s 155ms/step - loss: 0.0258 - mean_squared_error: 0.2040 - val_loss: 0.0228 - val_mean_squared_error: 0.2138\n",
            "Epoch 7/300\n",
            "828/828 [==============================] - 128s 155ms/step - loss: 0.0252 - mean_squared_error: 0.2049 - val_loss: 0.0340 - val_mean_squared_error: 0.3540\n",
            "Epoch 8/300\n",
            "828/828 [==============================] - 128s 155ms/step - loss: 0.0246 - mean_squared_error: 0.2051 - val_loss: 0.0262 - val_mean_squared_error: 0.3016\n",
            "Epoch 9/300\n",
            "828/828 [==============================] - 128s 155ms/step - loss: 0.0240 - mean_squared_error: 0.2059 - val_loss: 0.0217 - val_mean_squared_error: 0.0706\n",
            "Epoch 10/300\n",
            "828/828 [==============================] - 128s 155ms/step - loss: 0.0233 - mean_squared_error: 0.2065 - val_loss: 0.0219 - val_mean_squared_error: 0.0626\n",
            "Epoch 11/300\n",
            "828/828 [==============================] - 128s 155ms/step - loss: 0.0226 - mean_squared_error: 0.2066 - val_loss: 0.0221 - val_mean_squared_error: 0.3214\n",
            "Epoch 12/300\n",
            "828/828 [==============================] - 128s 155ms/step - loss: 0.0220 - mean_squared_error: 0.2066 - val_loss: 0.0251 - val_mean_squared_error: 0.3472\n",
            "Epoch 13/300\n",
            "828/828 [==============================] - 128s 155ms/step - loss: 0.0212 - mean_squared_error: 0.2054 - val_loss: 0.0242 - val_mean_squared_error: 0.2451\n",
            "Epoch 14/300\n",
            "828/828 [==============================] - 128s 155ms/step - loss: 0.0205 - mean_squared_error: 0.2051 - val_loss: 0.0277 - val_mean_squared_error: 0.3459\n",
            "Epoch 15/300\n",
            "828/828 [==============================] - 128s 155ms/step - loss: 0.0197 - mean_squared_error: 0.2056 - val_loss: 0.0239 - val_mean_squared_error: 0.2887\n",
            "Epoch 16/300\n",
            "828/828 [==============================] - 128s 155ms/step - loss: 0.0188 - mean_squared_error: 0.2079 - val_loss: 0.0352 - val_mean_squared_error: 0.2953\n",
            "Epoch 17/300\n",
            "828/828 [==============================] - 128s 155ms/step - loss: 0.0181 - mean_squared_error: 0.2168 - val_loss: 0.0368 - val_mean_squared_error: 0.3432\n",
            "Epoch 18/300\n",
            "828/828 [==============================] - 128s 155ms/step - loss: 0.0174 - mean_squared_error: 0.2232 - val_loss: 0.0305 - val_mean_squared_error: 0.3497\n",
            "Epoch 19/300\n",
            "828/828 [==============================] - 128s 155ms/step - loss: 0.0168 - mean_squared_error: 0.2277 - val_loss: 0.0248 - val_mean_squared_error: 0.3474\n",
            "Epoch 20/300\n",
            "828/828 [==============================] - 128s 155ms/step - loss: 0.0160 - mean_squared_error: 0.2325 - val_loss: 0.0246 - val_mean_squared_error: 0.2949\n",
            "Epoch 21/300\n",
            "828/828 [==============================] - 128s 155ms/step - loss: 0.0154 - mean_squared_error: 0.2347 - val_loss: 0.0209 - val_mean_squared_error: 0.1898\n",
            "Epoch 22/300\n",
            "828/828 [==============================] - 128s 155ms/step - loss: 0.0147 - mean_squared_error: 0.2360 - val_loss: 0.0323 - val_mean_squared_error: 0.3506\n",
            "Epoch 23/300\n",
            "828/828 [==============================] - 128s 155ms/step - loss: 0.0141 - mean_squared_error: 0.2359 - val_loss: 0.0236 - val_mean_squared_error: 0.3563\n",
            "Epoch 24/300\n",
            "828/828 [==============================] - 128s 155ms/step - loss: 0.0136 - mean_squared_error: 0.2366 - val_loss: 0.0226 - val_mean_squared_error: 0.0028\n",
            "Epoch 25/300\n",
            "828/828 [==============================] - 128s 155ms/step - loss: 0.0130 - mean_squared_error: 0.2375 - val_loss: 0.0226 - val_mean_squared_error: 0.2776\n",
            "Epoch 26/300\n",
            "828/828 [==============================] - 128s 155ms/step - loss: 0.0126 - mean_squared_error: 0.2385 - val_loss: 0.0220 - val_mean_squared_error: 0.0031\n",
            "Epoch 27/300\n",
            "828/828 [==============================] - 127s 154ms/step - loss: 0.0121 - mean_squared_error: 0.2385 - val_loss: 0.0220 - val_mean_squared_error: 0.0026\n",
            "Epoch 28/300\n",
            "828/828 [==============================] - 127s 153ms/step - loss: 0.0117 - mean_squared_error: 0.2395 - val_loss: 0.0226 - val_mean_squared_error: 0.2580\n",
            "Epoch 29/300\n",
            "828/828 [==============================] - 127s 153ms/step - loss: 0.0112 - mean_squared_error: 0.2423 - val_loss: 0.0223 - val_mean_squared_error: 0.0028\n",
            "Epoch 30/300\n",
            "828/828 [==============================] - 127s 153ms/step - loss: 0.0107 - mean_squared_error: 0.2413 - val_loss: 0.0217 - val_mean_squared_error: 0.0383\n",
            "Epoch 31/300\n",
            "828/828 [==============================] - 127s 153ms/step - loss: 0.0103 - mean_squared_error: 0.2433 - val_loss: 0.0211 - val_mean_squared_error: 0.0027\n",
            "Epoch 32/300\n",
            "828/828 [==============================] - 127s 153ms/step - loss: 0.0102 - mean_squared_error: 0.2439 - val_loss: 0.0210 - val_mean_squared_error: 0.0025\n",
            "Epoch 33/300\n",
            "828/828 [==============================] - 127s 153ms/step - loss: 0.0098 - mean_squared_error: 0.2478 - val_loss: 0.0216 - val_mean_squared_error: 0.0026\n",
            "Epoch 34/300\n",
            "828/828 [==============================] - 127s 153ms/step - loss: 0.0093 - mean_squared_error: 0.2481 - val_loss: 0.0222 - val_mean_squared_error: 0.0458\n",
            "Epoch 35/300\n",
            "828/828 [==============================] - 127s 154ms/step - loss: 0.0090 - mean_squared_error: 0.2492 - val_loss: 0.0226 - val_mean_squared_error: 0.0025\n",
            "Epoch 36/300\n",
            "828/828 [==============================] - 128s 155ms/step - loss: 0.0087 - mean_squared_error: 0.2493 - val_loss: 0.0217 - val_mean_squared_error: 0.0023\n",
            "Epoch 37/300\n",
            "828/828 [==============================] - 128s 155ms/step - loss: 0.0084 - mean_squared_error: 0.2510 - val_loss: 0.0218 - val_mean_squared_error: 0.0024\n",
            "Epoch 38/300\n",
            "828/828 [==============================] - 128s 155ms/step - loss: 0.0082 - mean_squared_error: 0.2528 - val_loss: 0.0215 - val_mean_squared_error: 0.0026\n",
            "Epoch 39/300\n",
            "828/828 [==============================] - 128s 155ms/step - loss: 0.0079 - mean_squared_error: 0.2540 - val_loss: 0.0210 - val_mean_squared_error: 0.0109\n",
            "Epoch 40/300\n",
            "828/828 [==============================] - 128s 155ms/step - loss: 0.0077 - mean_squared_error: 0.2556 - val_loss: 0.0214 - val_mean_squared_error: 0.0030\n",
            "Epoch 41/300\n",
            "828/828 [==============================] - 128s 155ms/step - loss: 0.0075 - mean_squared_error: 0.2604 - val_loss: 0.0212 - val_mean_squared_error: 0.0026\n",
            "Epoch 42/300\n",
            "828/828 [==============================] - 128s 155ms/step - loss: 0.0072 - mean_squared_error: 0.2592 - val_loss: 0.0206 - val_mean_squared_error: 0.0025\n",
            "Epoch 43/300\n",
            "828/828 [==============================] - 128s 155ms/step - loss: 0.0071 - mean_squared_error: 0.2578 - val_loss: 0.0242 - val_mean_squared_error: 0.3684\n",
            "Epoch 44/300\n",
            "828/828 [==============================] - 128s 155ms/step - loss: 0.0069 - mean_squared_error: 0.2605 - val_loss: 0.0215 - val_mean_squared_error: 0.0023\n",
            "Epoch 45/300\n",
            "828/828 [==============================] - 128s 155ms/step - loss: 0.0066 - mean_squared_error: 0.2628 - val_loss: 0.0218 - val_mean_squared_error: 0.0025\n",
            "Epoch 46/300\n",
            "828/828 [==============================] - 128s 155ms/step - loss: 0.0064 - mean_squared_error: 0.2639 - val_loss: 0.0204 - val_mean_squared_error: 0.0024\n",
            "Epoch 47/300\n",
            "828/828 [==============================] - 128s 155ms/step - loss: 0.0063 - mean_squared_error: 0.2650 - val_loss: 0.0229 - val_mean_squared_error: 0.0025\n",
            "Epoch 48/300\n",
            "828/828 [==============================] - 128s 155ms/step - loss: 0.0062 - mean_squared_error: 0.2651 - val_loss: 0.0215 - val_mean_squared_error: 0.0455\n",
            "Epoch 49/300\n",
            "828/828 [==============================] - 128s 155ms/step - loss: 0.0059 - mean_squared_error: 0.2664 - val_loss: 0.0210 - val_mean_squared_error: 0.0070\n",
            "Epoch 50/300\n",
            "828/828 [==============================] - 128s 155ms/step - loss: 0.0057 - mean_squared_error: 0.2685 - val_loss: 0.0214 - val_mean_squared_error: 0.0032\n",
            "Epoch 51/300\n",
            "828/828 [==============================] - 128s 155ms/step - loss: 0.0057 - mean_squared_error: 0.2691 - val_loss: 0.0214 - val_mean_squared_error: 0.0026\n",
            "Epoch 52/300\n",
            "828/828 [==============================] - 128s 155ms/step - loss: 0.0056 - mean_squared_error: 0.2701 - val_loss: 0.0224 - val_mean_squared_error: 0.0510\n",
            "Epoch 53/300\n",
            "828/828 [==============================] - 128s 155ms/step - loss: 0.0055 - mean_squared_error: 0.2711 - val_loss: 0.0209 - val_mean_squared_error: 0.0036\n",
            "Epoch 54/300\n",
            "828/828 [==============================] - 128s 155ms/step - loss: 0.0052 - mean_squared_error: 0.2735 - val_loss: 0.0214 - val_mean_squared_error: 0.0095\n",
            "Epoch 55/300\n",
            "828/828 [==============================] - 128s 155ms/step - loss: 0.0052 - mean_squared_error: 0.2742 - val_loss: 0.0218 - val_mean_squared_error: 0.0026\n",
            "Epoch 56/300\n",
            "828/828 [==============================] - 128s 155ms/step - loss: 0.0050 - mean_squared_error: 0.2753 - val_loss: 0.0226 - val_mean_squared_error: 0.0025\n",
            "Epoch 57/300\n",
            "828/828 [==============================] - 128s 155ms/step - loss: 0.0050 - mean_squared_error: 0.2785 - val_loss: 0.0219 - val_mean_squared_error: 0.0026\n",
            "Epoch 58/300\n",
            "828/828 [==============================] - 128s 155ms/step - loss: 0.0048 - mean_squared_error: 0.2799 - val_loss: 0.0227 - val_mean_squared_error: 0.0027\n",
            "Epoch 59/300\n",
            "828/828 [==============================] - 128s 155ms/step - loss: 0.0047 - mean_squared_error: 0.2823 - val_loss: 0.0219 - val_mean_squared_error: 0.0024\n",
            "Epoch 60/300\n",
            "828/828 [==============================] - 128s 155ms/step - loss: 0.0046 - mean_squared_error: 0.2847 - val_loss: 0.0228 - val_mean_squared_error: 0.0133\n",
            "Epoch 61/300\n",
            "828/828 [==============================] - 128s 155ms/step - loss: 0.0045 - mean_squared_error: 0.2862 - val_loss: 0.0220 - val_mean_squared_error: 0.0028\n",
            "Epoch 62/300\n",
            "828/828 [==============================] - 128s 155ms/step - loss: 0.0045 - mean_squared_error: 0.2883 - val_loss: 0.0224 - val_mean_squared_error: 0.0030\n",
            "Epoch 63/300\n",
            "828/828 [==============================] - 128s 155ms/step - loss: 0.0044 - mean_squared_error: 0.2899 - val_loss: 0.0222 - val_mean_squared_error: 0.0043\n",
            "Epoch 64/300\n",
            "828/828 [==============================] - 128s 155ms/step - loss: 0.0043 - mean_squared_error: 0.2927 - val_loss: 0.0214 - val_mean_squared_error: 0.2457\n",
            "Epoch 65/300\n",
            "828/828 [==============================] - 128s 155ms/step - loss: 0.0042 - mean_squared_error: 0.2942 - val_loss: 0.0223 - val_mean_squared_error: 0.0028\n",
            "Epoch 66/300\n",
            "828/828 [==============================] - 128s 155ms/step - loss: 0.0042 - mean_squared_error: 0.2942 - val_loss: 0.0220 - val_mean_squared_error: 0.0027\n",
            "Epoch 67/300\n",
            "828/828 [==============================] - 128s 155ms/step - loss: 0.0041 - mean_squared_error: 0.2961 - val_loss: 0.0221 - val_mean_squared_error: 0.0027\n",
            "Epoch 68/300\n",
            "828/828 [==============================] - 128s 155ms/step - loss: 0.0039 - mean_squared_error: 0.2979 - val_loss: 0.0224 - val_mean_squared_error: 0.0028\n",
            "Epoch 69/300\n",
            "828/828 [==============================] - 128s 155ms/step - loss: 0.0038 - mean_squared_error: 0.2988 - val_loss: 0.0221 - val_mean_squared_error: 0.0027\n",
            "Epoch 70/300\n",
            "828/828 [==============================] - 128s 155ms/step - loss: 0.0037 - mean_squared_error: 0.3012 - val_loss: 0.0211 - val_mean_squared_error: 0.0251\n",
            "Epoch 71/300\n",
            "828/828 [==============================] - 128s 155ms/step - loss: 0.0037 - mean_squared_error: 0.3018 - val_loss: 0.0214 - val_mean_squared_error: 0.2144\n",
            "Epoch 72/300\n",
            "828/828 [==============================] - 128s 155ms/step - loss: 0.0036 - mean_squared_error: 0.3032 - val_loss: 0.0216 - val_mean_squared_error: 0.0025\n",
            "Epoch 73/300\n",
            "828/828 [==============================] - 128s 155ms/step - loss: 0.0036 - mean_squared_error: 0.3053 - val_loss: 0.0223 - val_mean_squared_error: 0.1398\n",
            "Epoch 74/300\n",
            "828/828 [==============================] - 128s 155ms/step - loss: 0.0035 - mean_squared_error: 0.3069 - val_loss: 0.0220 - val_mean_squared_error: 0.0026\n",
            "Epoch 75/300\n",
            "828/828 [==============================] - 128s 155ms/step - loss: 0.0035 - mean_squared_error: 0.3074 - val_loss: 0.0230 - val_mean_squared_error: 0.2519\n",
            "Epoch 76/300\n",
            "828/828 [==============================] - 128s 155ms/step - loss: 0.0034 - mean_squared_error: 0.3082 - val_loss: 0.0234 - val_mean_squared_error: 0.0026\n"
          ]
        }
      ],
      "source": [
        "history = model.fit(\n",
        "    train_ds,\n",
        "    validation_data=test_ds,\n",
        "    epochs=N_EPOCHS,\n",
        "    batch_size=BATCH_SIZE,\n",
        "    callbacks=callbacks,\n",
        "    verbose=1\n",
        ")\n"
      ]
    },
    {
      "cell_type": "markdown",
      "source": [
        "# Save Model"
      ],
      "metadata": {
        "id": "HT68Jm8AEluI"
      }
    },
    {
      "cell_type": "code",
      "source": [
        "timestamp = datetime.datetime.now().strftime('%b-%d-%I:%M%p')\n",
        "model_path = os.path.join(MODEL_PATH, EXP_NAME)\n",
        "if not os.path.exists(model_path):\n",
        "    os.makedirs(model_path)\n",
        "\n",
        "model.save(os.path.join(model_path, timestamp))"
      ],
      "metadata": {
        "id": "xfUmF_1mEjXH"
      },
      "execution_count": 13,
      "outputs": []
    },
    {
      "cell_type": "markdown",
      "source": [
        "# Save Predictions"
      ],
      "metadata": {
        "id": "-PWi28iOKpXe"
      }
    },
    {
      "cell_type": "code",
      "execution_count": 14,
      "metadata": {
        "colab": {
          "base_uri": "https://localhost:8080/"
        },
        "id": "LLDJf93Z0YxY",
        "outputId": "96e964ac-6c64-43f6-d983-f0ff9f672fb3"
      },
      "outputs": [
        {
          "output_type": "stream",
          "name": "stderr",
          "text": [
            "552it [00:03, 149.62it/s]\n"
          ]
        }
      ],
      "source": [
        "test_ds_unbatched = test_ds.unbatch()\n",
        "\n",
        "pred_path = os.path.join(PRED_PATH, EXP_NAME, timestamp)\n",
        "if not os.path.exists(pred_path):\n",
        "    os.makedirs(pred_path)\n",
        "\n",
        "for idx, (input, target) in enumerate(tqdm(test_ds_unbatched)):\n",
        "    if not idx % 40 == 0:\n",
        "        continue\n",
        "\n",
        "    prediction = tf.squeeze(\n",
        "        model.predict(\n",
        "            tf.expand_dims(input, axis=0)\n",
        "            )\n",
        "        ).numpy()\n",
        "    prediction[target > 0.9] = 1.0\n",
        "\n",
        "    plt.figure(figsize=(12, 4))\n",
        "    plt.subplot(1, 3, 1)\n",
        "    plt.imshow(input)\n",
        "    plt.axis(\"off\")\n",
        "    plt.title(\"INPUT\")\n",
        "    plt.subplot(1, 3, 2)\n",
        "    plt.imshow(target)\n",
        "    plt.axis(\"off\")\n",
        "    plt.title(\"TARGET\")\n",
        "    plt.subplot(1, 3, 3)\n",
        "    plt.imshow(prediction)\n",
        "    plt.axis(\"off\")\n",
        "    plt.title(\"PREDICTION\")\n",
        "    plt.tight_layout()\n",
        "    plt.savefig(os.path.join(pred_path, f\"{idx}.jpg\"))\n",
        "    plt.close()  \n"
      ]
    },
    {
      "cell_type": "code",
      "source": [],
      "metadata": {
        "id": "dq-aXv2mIwA8"
      },
      "execution_count": 14,
      "outputs": []
    }
  ],
  "metadata": {
    "kernelspec": {
      "display_name": "Python 3.10.6 ('Ai')",
      "language": "python",
      "name": "python3"
    },
    "language_info": {
      "codemirror_mode": {
        "name": "ipython",
        "version": 3
      },
      "file_extension": ".py",
      "mimetype": "text/x-python",
      "name": "python",
      "nbconvert_exporter": "python",
      "pygments_lexer": "ipython3",
      "version": "3.10.6"
    },
    "orig_nbformat": 4,
    "vscode": {
      "interpreter": {
        "hash": "cc12dd51c08fff59e312c49b5273cbf2a12939660509ea1a4d83cd89b0463726"
      }
    },
    "colab": {
      "provenance": [],
      "machine_shape": "hm",
      "include_colab_link": true
    },
    "accelerator": "GPU"
  },
  "nbformat": 4,
  "nbformat_minor": 0
}