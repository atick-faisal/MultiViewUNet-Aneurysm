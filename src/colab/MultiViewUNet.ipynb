{
  "cells": [
    {
      "cell_type": "markdown",
      "metadata": {
        "id": "view-in-github",
        "colab_type": "text"
      },
      "source": [
        "<a href=\"https://colab.research.google.com/github/atick-faisal/TAVI/blob/main/src/colab/MultiViewUNet.ipynb\" target=\"_parent\"><img src=\"https://colab.research.google.com/assets/colab-badge.svg\" alt=\"Open In Colab\"/></a>"
      ]
    },
    {
      "cell_type": "markdown",
      "source": [
        "# Google Drive"
      ],
      "metadata": {
        "id": "0estJx3IDzz4"
      }
    },
    {
      "cell_type": "code",
      "source": [
        "from google.colab import drive\n",
        "drive.mount('/content/drive')"
      ],
      "metadata": {
        "colab": {
          "base_uri": "https://localhost:8080/"
        },
        "id": "WsH9ydF7Dwpf",
        "outputId": "3d63057e-3e93-4d23-e42e-4820a679219b"
      },
      "execution_count": null,
      "outputs": [
        {
          "output_type": "stream",
          "name": "stdout",
          "text": [
            "Mounted at /content/drive\n"
          ]
        }
      ]
    },
    {
      "cell_type": "markdown",
      "metadata": {
        "id": "MMf8mzRT0YxP"
      },
      "source": [
        "# Download Dataset"
      ]
    },
    {
      "cell_type": "code",
      "execution_count": null,
      "metadata": {
        "id": "Zm_HJEfM0YxS",
        "outputId": "0eba8b6a-05f3-40fb-a7b9-9951ad6c9fc0",
        "colab": {
          "base_uri": "https://localhost:8080/"
        }
      },
      "outputs": [
        {
          "output_type": "stream",
          "name": "stdout",
          "text": [
            "Downloading...\n",
            "From: https://drive.google.com/uc?id=1vWlt8HzveMv2-1Qdgi5EqjX_EfquKoN9\n",
            "To: /content/Dataset_v10.zip\n",
            "100% 741M/741M [00:09<00:00, 77.4MB/s]\n"
          ]
        }
      ],
      "source": [
        "!gdown \"1YJk4Px0JLqnxSjbArOY1A1PQNPS6gNNd\"\n",
        "!unzip -o \"Dataset_v11.zip\" > /dev/null\n"
      ]
    },
    {
      "cell_type": "markdown",
      "metadata": {
        "id": "Vemh_spU0YxT"
      },
      "source": [
        "# Imports"
      ]
    },
    {
      "cell_type": "code",
      "execution_count": null,
      "metadata": {
        "id": "w0KYlE-90YxT"
      },
      "outputs": [],
      "source": [
        "import os\n",
        "import cv2\n",
        "import random\n",
        "import datetime\n",
        "import matplotlib\n",
        "import numpy as np\n",
        "import tensorflow as tf\n",
        "import matplotlib.pyplot as plt\n",
        "\n",
        "from tqdm import tqdm\n",
        "from numpy.typing import NDArray\n",
        "\n",
        "matplotlib.use('Agg')\n",
        "plt.rcParams[\"font.size\"] = 16\n"
      ]
    },
    {
      "cell_type": "markdown",
      "metadata": {
        "id": "vE8WOTRj0YxT"
      },
      "source": [
        "# Config"
      ]
    },
    {
      "cell_type": "code",
      "execution_count": null,
      "metadata": {
        "id": "O5Vvm79c0YxT"
      },
      "outputs": [],
      "source": [
        "DATASET         = \"v11\"\n",
        "MODEL_NAME      = \"MultiViewUNet\"\n",
        "DATASET_PATH    = \"/content/Images/\"\n",
        "TRAIN_DIR       = \"Train/\"\n",
        "TEST_DIR        = \"Test/\"\n",
        "INPUT_DIR       = \"Input/\"\n",
        "TARGET_DIR      = \"Target/\"\n",
        "MODEL_PATH      = \"/content/drive/MyDrive/Research/TAVI/Models/\"\n",
        "PRED_PATH       = \"/content/drive/MyDrive/Research/TAVI/Predictions/\"\n",
        "\n",
        "IMG_SIZE        = 256\n",
        "BATCH_SIZE      = 8\n",
        "VAL_SPLIT       = 0.2\n",
        "LEARNING_RATE   = 0.001\n",
        "N_EPOCHS        = 300\n",
        "PATIENCE        = 30\n",
        "\n",
        "EXP_NAME        = f\"{MODEL_NAME}_I{IMG_SIZE}_B{BATCH_SIZE}_LR{LEARNING_RATE}_{DATASET}\"\n"
      ]
    },
    {
      "cell_type": "markdown",
      "metadata": {
        "id": "YmMjbvFH0YxU"
      },
      "source": [
        "# Architecture"
      ]
    },
    {
      "cell_type": "code",
      "execution_count": null,
      "metadata": {
        "id": "xecJpVUs0YxU"
      },
      "outputs": [],
      "source": [
        "class UNet:\n",
        "    def __init__(\n",
        "        self,\n",
        "        img_size: int,\n",
        "        n_channels: int = 3,\n",
        "        width: int = 32,\n",
        "        depth: int = 4,\n",
        "        kernel_size: int = 3\n",
        "    ):\n",
        "        self.img_size = img_size\n",
        "        self.n_channels = n_channels\n",
        "        self.width = width\n",
        "        self.depth = depth\n",
        "        self.kernel_size = kernel_size\n",
        "\n",
        "    @staticmethod\n",
        "    def conv(\n",
        "        x: tf.Tensor,\n",
        "        filters: int,\n",
        "        kernel_size: int\n",
        "    ) -> tf.Tensor:\n",
        "        for i in range(2):\n",
        "            x = tf.keras.layers.Conv2D(\n",
        "                filters=filters,\n",
        "                kernel_size=kernel_size,\n",
        "                strides=1,\n",
        "                padding=\"same\",\n",
        "                data_format=\"channels_last\",\n",
        "                dilation_rate=1,\n",
        "                groups=1,\n",
        "                activation=None,\n",
        "                use_bias=True,\n",
        "                kernel_initializer=\"glorot_uniform\",\n",
        "                bias_initializer=\"zeros\"\n",
        "            )(x)\n",
        "\n",
        "            x = tf.keras.layers.BatchNormalization()(x)\n",
        "            x = tf.keras.layers.Activation(\"relu\")(x)\n",
        "\n",
        "        return x\n",
        "\n",
        "    @staticmethod\n",
        "    def deconv(x: tf.Tensor, filters: int) -> tf.Tensor:\n",
        "        x = tf.keras.layers.Conv2DTranspose(\n",
        "            filters=filters,\n",
        "            kernel_size=2,\n",
        "            strides=2,\n",
        "            padding=\"same\",\n",
        "            output_padding=None,\n",
        "            data_format=None,\n",
        "            dilation_rate=1,\n",
        "            activation=None,\n",
        "            use_bias=True,\n",
        "            kernel_initializer=\"glorot_uniform\",\n",
        "            bias_initializer=\"zeros\"\n",
        "        )(x)\n",
        "\n",
        "        x = tf.keras.layers.BatchNormalization()(x)\n",
        "        x = tf.keras.layers.Activation(\"relu\")(x)\n",
        "\n",
        "        return x\n",
        "\n",
        "    @staticmethod\n",
        "    def output(x: tf.Tensor) -> tf.Tensor:\n",
        "        return tf.keras.layers.Conv2D(3, (1, 1), activation=\"sigmoid\")(x)\n",
        "\n",
        "    @staticmethod\n",
        "    def pool(x: tf.Tensor, pool_size: int = 2) -> tf.Tensor:\n",
        "        return tf.keras.layers.MaxPool2D(pool_size)(x)\n",
        "\n",
        "    def __call__(self) -> tf.keras.Model:\n",
        "        inputs = tf.keras.layers.Input(\n",
        "            shape=(self.img_size, self.img_size, self.n_channels)\n",
        "        )\n",
        "\n",
        "        # scaled = tf.keras.layers.Rescaling(1./255.0, offset=0)(inputs)\n",
        "\n",
        "        # ------------------ Downsampling ---------------------\n",
        "        downsample_layers = []\n",
        "        downsample_layers.append(\n",
        "            self.conv(\n",
        "                x=inputs,\n",
        "                filters=self.width,\n",
        "                kernel_size=self.kernel_size\n",
        "            )\n",
        "        )\n",
        "        for i in range(1, self.depth):\n",
        "            filters = int((2 ** i) * self.width)\n",
        "            downsample_layers.append(\n",
        "                self.pool(\n",
        "                    self.conv(\n",
        "                        x=downsample_layers[i - 1],\n",
        "                        filters=filters,\n",
        "                        kernel_size=self.kernel_size\n",
        "                    )\n",
        "                )\n",
        "            )\n",
        "\n",
        "        # ------------------- Features --------------------\n",
        "        n_features = int((2 ** self.depth) * self.width)\n",
        "        self.features = self.pool(\n",
        "            self.conv(\n",
        "                x=downsample_layers[-1],\n",
        "                filters=n_features,\n",
        "                kernel_size=self.kernel_size\n",
        "            )\n",
        "        )\n",
        "\n",
        "        # ------------------- Upsampling --------------------\n",
        "        upsample_layers = []\n",
        "        upsample_layers.append(self.features)\n",
        "        for i in range(1, self.depth + 1):\n",
        "            filters = int((2 ** (self.depth - i)) * self.width)\n",
        "            upsample_layers.append(\n",
        "                self.conv(\n",
        "                    x=tf.keras.layers.concatenate([\n",
        "                        downsample_layers[self.depth - i],\n",
        "                        self.deconv(\n",
        "                            x=upsample_layers[i - 1],\n",
        "                            filters=filters\n",
        "                        )\n",
        "                    ]),\n",
        "                    filters=filters,\n",
        "                    kernel_size=self.kernel_size\n",
        "                )\n",
        "            )\n",
        "\n",
        "        # ---------------------- Output -----------------------\n",
        "        outputs = self.output(upsample_layers[-1])\n",
        "\n",
        "        return tf.keras.Model(inputs, outputs)\n"
      ]
    },
    {
      "cell_type": "markdown",
      "metadata": {
        "id": "ga47oOoc0YxV"
      },
      "source": [
        "# Loss Functions"
      ]
    },
    {
      "cell_type": "code",
      "execution_count": null,
      "metadata": {
        "id": "ooE90mpc0YxW"
      },
      "outputs": [],
      "source": [
        "def attention_mse(y_true, y_pred):\n",
        "    _y_true = y_true[y_true != 1.0]\n",
        "    _y_pred = y_pred[y_true != 1.0]\n",
        "    squared_difference = tf.square(_y_true - _y_pred)\n",
        "    return tf.reduce_mean(squared_difference, axis=-1)\n",
        "\n",
        "\n",
        "def attention_mae(y_true, y_pred):\n",
        "    _y_true = y_true[y_true != 1.0]\n",
        "    _y_pred = y_pred[y_true != 1.0]\n",
        "    squared_difference = tf.abs(_y_true - _y_pred)\n",
        "    return tf.reduce_mean(squared_difference, axis=-1)\n"
      ]
    },
    {
      "cell_type": "markdown",
      "metadata": {
        "id": "wOgmHYSJ0YxW"
      },
      "source": [
        "# Utils"
      ]
    },
    {
      "cell_type": "code",
      "execution_count": null,
      "metadata": {
        "id": "cSrfyX260YxW"
      },
      "outputs": [],
      "source": [
        "def load_data_from_dir(path: str) -> tf.data.Dataset:\n",
        "    return tf.keras.utils.image_dataset_from_directory(\n",
        "        directory=path,\n",
        "        labels=None,\n",
        "        color_mode='rgb',\n",
        "        batch_size=BATCH_SIZE,\n",
        "        image_size=(IMG_SIZE, IMG_SIZE),\n",
        "        shuffle=True,\n",
        "        seed=42,\n",
        "        # validation_split=VAL_SPLIT,\n",
        "        # subset=subset,\n",
        "        interpolation='bilinear',\n",
        "        follow_links=False,\n",
        "        crop_to_aspect_ratio=False\n",
        "    )\n"
      ]
    },
    {
      "cell_type": "markdown",
      "metadata": {
        "id": "CyS-63WI0YxX"
      },
      "source": [
        "# Dataloaders"
      ]
    },
    {
      "cell_type": "code",
      "execution_count": null,
      "metadata": {
        "id": "71Dxzfkf0YxX",
        "outputId": "a4342e4a-61e7-46c9-bf3c-5da3eb62572e",
        "colab": {
          "base_uri": "https://localhost:8080/"
        }
      },
      "outputs": [
        {
          "output_type": "stream",
          "name": "stdout",
          "text": [
            "Found 6624 files belonging to 1 classes.\n",
            "Found 6624 files belonging to 1 classes.\n",
            "Found 552 files belonging to 1 classes.\n",
            "Found 552 files belonging to 1 classes.\n",
            "(TensorSpec(shape=(None, 256, 256, 3), dtype=tf.float32, name=None), TensorSpec(shape=(None, 256, 256, 3), dtype=tf.float32, name=None))\n",
            "(TensorSpec(shape=(None, 256, 256, 3), dtype=tf.float32, name=None), TensorSpec(shape=(None, 256, 256, 3), dtype=tf.float32, name=None))\n"
          ]
        }
      ],
      "source": [
        "trainX = load_data_from_dir(os.path.join(DATASET_PATH, TRAIN_DIR, INPUT_DIR))\n",
        "trainY = load_data_from_dir(os.path.join(DATASET_PATH, TRAIN_DIR, TARGET_DIR))\n",
        "testX = load_data_from_dir(os.path.join(DATASET_PATH, TEST_DIR, INPUT_DIR))\n",
        "testY = load_data_from_dir(os.path.join(DATASET_PATH, TEST_DIR, TARGET_DIR))\n",
        "\n",
        "train_ds = tf.data.Dataset.zip((trainX, trainY))\n",
        "test_ds = tf.data.Dataset.zip((testX, testY))\n",
        "\n",
        "print(train_ds.element_spec)\n",
        "print(test_ds.element_spec)\n"
      ]
    },
    {
      "cell_type": "markdown",
      "source": [
        "# Normalization"
      ],
      "metadata": {
        "id": "01HaegmR278r"
      }
    },
    {
      "cell_type": "code",
      "source": [
        "normalization_layer = tf.keras.layers.Rescaling(1./255)\n",
        "train_ds = train_ds.map(lambda x, y: (normalization_layer(x), normalization_layer(y)))\n",
        "test_ds = test_ds.map(lambda x, y: (normalization_layer(x), normalization_layer(y)))"
      ],
      "metadata": {
        "id": "mDeZuH0p26pE"
      },
      "execution_count": null,
      "outputs": []
    },
    {
      "cell_type": "markdown",
      "metadata": {
        "id": "eHlKefA_0YxX"
      },
      "source": [
        "# Optimization"
      ]
    },
    {
      "cell_type": "code",
      "execution_count": null,
      "metadata": {
        "id": "U-HMkfOG0YxX"
      },
      "outputs": [],
      "source": [
        "AUTOTUNE = tf.data.AUTOTUNE\n",
        "\n",
        "train_ds = train_ds.cache().prefetch(buffer_size=AUTOTUNE)\n",
        "test_ds = test_ds.cache().prefetch(buffer_size=AUTOTUNE)\n"
      ]
    },
    {
      "cell_type": "markdown",
      "metadata": {
        "id": "w50akeqN0YxX"
      },
      "source": [
        "# Training Config"
      ]
    },
    {
      "cell_type": "code",
      "execution_count": null,
      "metadata": {
        "id": "2YvF85Wg0YxY"
      },
      "outputs": [],
      "source": [
        "callbacks = [\n",
        "    tf.keras.callbacks.EarlyStopping(\n",
        "        monitor=\"val_loss\",\n",
        "        patience=PATIENCE,\n",
        "        restore_best_weights=True\n",
        "    )\n",
        "]\n",
        "\n",
        "optimizer = tf.keras.optimizers.Adam(\n",
        "    learning_rate=LEARNING_RATE\n",
        ")\n",
        "\n",
        "model = UNet(IMG_SIZE)()\n",
        "\n",
        "model.compile(\n",
        "    loss=attention_mse,\n",
        "    optimizer=optimizer,\n",
        "    metrics=['mean_squared_error']\n",
        ")\n"
      ]
    },
    {
      "cell_type": "markdown",
      "metadata": {
        "id": "XrJPilPI0YxY"
      },
      "source": [
        "# Training"
      ]
    },
    {
      "cell_type": "code",
      "execution_count": null,
      "metadata": {
        "id": "y_b-8pkT0YxY",
        "outputId": "077c22cb-d58d-44f8-f6be-299414b97f9e",
        "colab": {
          "base_uri": "https://localhost:8080/"
        }
      },
      "outputs": [
        {
          "output_type": "stream",
          "name": "stdout",
          "text": [
            "Epoch 1/300\n",
            "828/828 [==============================] - 149s 160ms/step - loss: 0.0532 - mean_squared_error: 0.1666 - val_loss: 0.0606 - val_mean_squared_error: 0.2176\n",
            "Epoch 2/300\n",
            "828/828 [==============================] - 128s 154ms/step - loss: 0.0480 - mean_squared_error: 0.1765 - val_loss: 0.0541 - val_mean_squared_error: 0.1999\n",
            "Epoch 3/300\n",
            "828/828 [==============================] - 128s 154ms/step - loss: 0.0466 - mean_squared_error: 0.1851 - val_loss: 0.0511 - val_mean_squared_error: 0.2584\n",
            "Epoch 4/300\n",
            "828/828 [==============================] - 127s 154ms/step - loss: 0.0455 - mean_squared_error: 0.1925 - val_loss: 0.0563 - val_mean_squared_error: 0.2449\n",
            "Epoch 5/300\n",
            "828/828 [==============================] - 127s 154ms/step - loss: 0.0447 - mean_squared_error: 0.2032 - val_loss: 0.0513 - val_mean_squared_error: 0.2537\n",
            "Epoch 6/300\n",
            "828/828 [==============================] - 127s 154ms/step - loss: 0.0440 - mean_squared_error: 0.2107 - val_loss: 0.0490 - val_mean_squared_error: 0.2577\n",
            "Epoch 7/300\n",
            "828/828 [==============================] - 127s 154ms/step - loss: 0.0432 - mean_squared_error: 0.2192 - val_loss: 0.0567 - val_mean_squared_error: 0.2993\n",
            "Epoch 8/300\n",
            "828/828 [==============================] - 127s 154ms/step - loss: 0.0425 - mean_squared_error: 0.2300 - val_loss: 0.0476 - val_mean_squared_error: 0.3309\n",
            "Epoch 9/300\n",
            "828/828 [==============================] - 127s 154ms/step - loss: 0.0417 - mean_squared_error: 0.2399 - val_loss: 0.0466 - val_mean_squared_error: 0.3929\n",
            "Epoch 10/300\n",
            "828/828 [==============================] - 127s 154ms/step - loss: 0.0410 - mean_squared_error: 0.2494 - val_loss: 0.0462 - val_mean_squared_error: 0.4009\n",
            "Epoch 11/300\n",
            "828/828 [==============================] - 127s 154ms/step - loss: 0.0403 - mean_squared_error: 0.2592 - val_loss: 0.0463 - val_mean_squared_error: 0.3627\n",
            "Epoch 12/300\n",
            "828/828 [==============================] - 127s 154ms/step - loss: 0.0395 - mean_squared_error: 0.2685 - val_loss: 0.0460 - val_mean_squared_error: 0.3282\n",
            "Epoch 13/300\n",
            "828/828 [==============================] - 127s 154ms/step - loss: 0.0387 - mean_squared_error: 0.2724 - val_loss: 0.0493 - val_mean_squared_error: 0.2024\n",
            "Epoch 14/300\n",
            "828/828 [==============================] - 127s 154ms/step - loss: 0.0380 - mean_squared_error: 0.2724 - val_loss: 0.0547 - val_mean_squared_error: 0.1442\n",
            "Epoch 15/300\n",
            "828/828 [==============================] - 127s 154ms/step - loss: 0.0372 - mean_squared_error: 0.2768 - val_loss: 0.0547 - val_mean_squared_error: 0.1363\n",
            "Epoch 16/300\n",
            "828/828 [==============================] - 127s 154ms/step - loss: 0.0363 - mean_squared_error: 0.2812 - val_loss: 0.0670 - val_mean_squared_error: 0.1410\n",
            "Epoch 17/300\n",
            "828/828 [==============================] - 127s 154ms/step - loss: 0.0357 - mean_squared_error: 0.2841 - val_loss: 0.0570 - val_mean_squared_error: 0.1389\n",
            "Epoch 18/300\n",
            "828/828 [==============================] - 127s 154ms/step - loss: 0.0347 - mean_squared_error: 0.2880 - val_loss: 0.0585 - val_mean_squared_error: 0.1220\n",
            "Epoch 19/300\n",
            "828/828 [==============================] - 127s 154ms/step - loss: 0.0339 - mean_squared_error: 0.2903 - val_loss: 0.0537 - val_mean_squared_error: 0.1510\n",
            "Epoch 20/300\n",
            "828/828 [==============================] - 127s 154ms/step - loss: 0.0330 - mean_squared_error: 0.2939 - val_loss: 0.0470 - val_mean_squared_error: 0.1613\n",
            "Epoch 21/300\n",
            "828/828 [==============================] - 127s 154ms/step - loss: 0.0322 - mean_squared_error: 0.2969 - val_loss: 0.0434 - val_mean_squared_error: 0.3564\n",
            "Epoch 22/300\n",
            "828/828 [==============================] - 127s 154ms/step - loss: 0.0313 - mean_squared_error: 0.2986 - val_loss: 0.0428 - val_mean_squared_error: 0.1863\n",
            "Epoch 23/300\n",
            "828/828 [==============================] - 127s 154ms/step - loss: 0.0303 - mean_squared_error: 0.3019 - val_loss: 0.0400 - val_mean_squared_error: 0.3198\n",
            "Epoch 24/300\n",
            "828/828 [==============================] - 127s 154ms/step - loss: 0.0296 - mean_squared_error: 0.3040 - val_loss: 0.0536 - val_mean_squared_error: 0.2258\n",
            "Epoch 25/300\n",
            "828/828 [==============================] - 127s 154ms/step - loss: 0.0287 - mean_squared_error: 0.3058 - val_loss: 0.0412 - val_mean_squared_error: 0.2628\n",
            "Epoch 26/300\n",
            "828/828 [==============================] - 127s 154ms/step - loss: 0.0279 - mean_squared_error: 0.3077 - val_loss: 0.0420 - val_mean_squared_error: 0.2743\n",
            "Epoch 27/300\n",
            "828/828 [==============================] - 127s 154ms/step - loss: 0.0274 - mean_squared_error: 0.3097 - val_loss: 0.0403 - val_mean_squared_error: 0.2629\n",
            "Epoch 28/300\n",
            "828/828 [==============================] - 127s 154ms/step - loss: 0.0264 - mean_squared_error: 0.3125 - val_loss: 0.0384 - val_mean_squared_error: 0.2782\n",
            "Epoch 29/300\n",
            "828/828 [==============================] - 127s 154ms/step - loss: 0.0258 - mean_squared_error: 0.3144 - val_loss: 0.0415 - val_mean_squared_error: 0.0749\n",
            "Epoch 30/300\n",
            "828/828 [==============================] - 127s 154ms/step - loss: 0.0251 - mean_squared_error: 0.3172 - val_loss: 0.0392 - val_mean_squared_error: 0.1744\n",
            "Epoch 31/300\n",
            "828/828 [==============================] - 127s 154ms/step - loss: 0.0247 - mean_squared_error: 0.3186 - val_loss: 0.0415 - val_mean_squared_error: 0.2052\n",
            "Epoch 32/300\n",
            "828/828 [==============================] - 127s 154ms/step - loss: 0.0240 - mean_squared_error: 0.3206 - val_loss: 0.0422 - val_mean_squared_error: 0.1330\n",
            "Epoch 33/300\n",
            "828/828 [==============================] - 127s 154ms/step - loss: 0.0233 - mean_squared_error: 0.3216 - val_loss: 0.0398 - val_mean_squared_error: 0.3241\n",
            "Epoch 34/300\n",
            "828/828 [==============================] - 129s 156ms/step - loss: 0.0226 - mean_squared_error: 0.3219 - val_loss: 0.0401 - val_mean_squared_error: 0.3348\n",
            "Epoch 35/300\n",
            "828/828 [==============================] - 127s 154ms/step - loss: 0.0219 - mean_squared_error: 0.3229 - val_loss: 0.0390 - val_mean_squared_error: 0.3846\n",
            "Epoch 36/300\n",
            "828/828 [==============================] - 127s 154ms/step - loss: 0.0214 - mean_squared_error: 0.3234 - val_loss: 0.0517 - val_mean_squared_error: 0.2601\n",
            "Epoch 37/300\n",
            "828/828 [==============================] - 127s 154ms/step - loss: 0.0209 - mean_squared_error: 0.3245 - val_loss: 0.0401 - val_mean_squared_error: 0.3286\n",
            "Epoch 38/300\n",
            "828/828 [==============================] - 127s 154ms/step - loss: 0.0204 - mean_squared_error: 0.3247 - val_loss: 0.0431 - val_mean_squared_error: 0.3012\n",
            "Epoch 39/300\n",
            "828/828 [==============================] - 127s 154ms/step - loss: 0.0197 - mean_squared_error: 0.3256 - val_loss: 0.0381 - val_mean_squared_error: 0.2776\n",
            "Epoch 40/300\n",
            "828/828 [==============================] - 127s 154ms/step - loss: 0.0192 - mean_squared_error: 0.3266 - val_loss: 0.0414 - val_mean_squared_error: 0.2016\n",
            "Epoch 41/300\n",
            "828/828 [==============================] - 127s 154ms/step - loss: 0.0187 - mean_squared_error: 0.3270 - val_loss: 0.0432 - val_mean_squared_error: 0.2769\n",
            "Epoch 42/300\n",
            "828/828 [==============================] - 127s 154ms/step - loss: 0.0181 - mean_squared_error: 0.3281 - val_loss: 0.0425 - val_mean_squared_error: 0.2582\n",
            "Epoch 43/300\n",
            "828/828 [==============================] - 127s 154ms/step - loss: 0.0178 - mean_squared_error: 0.3287 - val_loss: 0.0381 - val_mean_squared_error: 0.3386\n",
            "Epoch 44/300\n",
            "828/828 [==============================] - 127s 154ms/step - loss: 0.0172 - mean_squared_error: 0.3293 - val_loss: 0.0419 - val_mean_squared_error: 0.1639\n",
            "Epoch 45/300\n",
            "828/828 [==============================] - 127s 154ms/step - loss: 0.0167 - mean_squared_error: 0.3291 - val_loss: 0.0434 - val_mean_squared_error: 0.1361\n",
            "Epoch 46/300\n",
            "828/828 [==============================] - 127s 154ms/step - loss: 0.0164 - mean_squared_error: 0.3297 - val_loss: 0.0382 - val_mean_squared_error: 0.3534\n",
            "Epoch 47/300\n",
            "828/828 [==============================] - 127s 154ms/step - loss: 0.0161 - mean_squared_error: 0.3302 - val_loss: 0.0424 - val_mean_squared_error: 0.0975\n",
            "Epoch 48/300\n",
            "828/828 [==============================] - 127s 154ms/step - loss: 0.0154 - mean_squared_error: 0.3300 - val_loss: 0.0390 - val_mean_squared_error: 0.2218\n",
            "Epoch 49/300\n",
            "828/828 [==============================] - 127s 154ms/step - loss: 0.0153 - mean_squared_error: 0.3300 - val_loss: 0.0411 - val_mean_squared_error: 0.1114\n",
            "Epoch 50/300\n",
            "828/828 [==============================] - 127s 154ms/step - loss: 0.0146 - mean_squared_error: 0.3309 - val_loss: 0.0412 - val_mean_squared_error: 0.1026\n",
            "Epoch 51/300\n",
            "828/828 [==============================] - 127s 154ms/step - loss: 0.0143 - mean_squared_error: 0.3318 - val_loss: 0.0383 - val_mean_squared_error: 0.3381\n",
            "Epoch 52/300\n",
            "828/828 [==============================] - 127s 154ms/step - loss: 0.0140 - mean_squared_error: 0.3324 - val_loss: 0.0423 - val_mean_squared_error: 0.0640\n",
            "Epoch 53/300\n",
            "828/828 [==============================] - 127s 154ms/step - loss: 0.0136 - mean_squared_error: 0.3327 - val_loss: 0.0443 - val_mean_squared_error: 0.1864\n",
            "Epoch 54/300\n",
            "828/828 [==============================] - 127s 154ms/step - loss: 0.0133 - mean_squared_error: 0.3322 - val_loss: 0.0373 - val_mean_squared_error: 0.3419\n",
            "Epoch 55/300\n",
            "828/828 [==============================] - 127s 154ms/step - loss: 0.0130 - mean_squared_error: 0.3327 - val_loss: 0.0435 - val_mean_squared_error: 0.0923\n",
            "Epoch 56/300\n",
            "828/828 [==============================] - 127s 154ms/step - loss: 0.0129 - mean_squared_error: 0.3332 - val_loss: 0.0381 - val_mean_squared_error: 0.3362\n",
            "Epoch 57/300\n",
            "828/828 [==============================] - 127s 154ms/step - loss: 0.0124 - mean_squared_error: 0.3337 - val_loss: 0.0381 - val_mean_squared_error: 0.3416\n",
            "Epoch 58/300\n",
            "828/828 [==============================] - 127s 154ms/step - loss: 0.0122 - mean_squared_error: 0.3337 - val_loss: 0.0392 - val_mean_squared_error: 0.3158\n",
            "Epoch 59/300\n",
            "828/828 [==============================] - 127s 154ms/step - loss: 0.0117 - mean_squared_error: 0.3347 - val_loss: 0.0392 - val_mean_squared_error: 0.3350\n",
            "Epoch 60/300\n",
            "828/828 [==============================] - 127s 154ms/step - loss: 0.0115 - mean_squared_error: 0.3348 - val_loss: 0.0384 - val_mean_squared_error: 0.3205\n",
            "Epoch 61/300\n",
            "828/828 [==============================] - 127s 154ms/step - loss: 0.0114 - mean_squared_error: 0.3342 - val_loss: 0.0380 - val_mean_squared_error: 0.3368\n",
            "Epoch 62/300\n",
            "828/828 [==============================] - 127s 154ms/step - loss: 0.0111 - mean_squared_error: 0.3342 - val_loss: 0.0485 - val_mean_squared_error: 0.0431\n",
            "Epoch 63/300\n",
            "828/828 [==============================] - 127s 154ms/step - loss: 0.0108 - mean_squared_error: 0.3343 - val_loss: 0.0446 - val_mean_squared_error: 0.1088\n",
            "Epoch 64/300\n",
            "828/828 [==============================] - 127s 154ms/step - loss: 0.0107 - mean_squared_error: 0.3343 - val_loss: 0.0379 - val_mean_squared_error: 0.3253\n",
            "Epoch 65/300\n",
            "828/828 [==============================] - 127s 154ms/step - loss: 0.0105 - mean_squared_error: 0.3335 - val_loss: 0.0417 - val_mean_squared_error: 0.2837\n",
            "Epoch 66/300\n",
            "828/828 [==============================] - 127s 154ms/step - loss: 0.0104 - mean_squared_error: 0.3333 - val_loss: 0.0430 - val_mean_squared_error: 0.1039\n",
            "Epoch 67/300\n",
            "828/828 [==============================] - 127s 154ms/step - loss: 0.0102 - mean_squared_error: 0.3326 - val_loss: 0.0410 - val_mean_squared_error: 0.2061\n",
            "Epoch 68/300\n",
            "828/828 [==============================] - 127s 154ms/step - loss: 0.0100 - mean_squared_error: 0.3327 - val_loss: 0.0415 - val_mean_squared_error: 0.0758\n",
            "Epoch 69/300\n",
            "828/828 [==============================] - 127s 154ms/step - loss: 0.0098 - mean_squared_error: 0.3326 - val_loss: 0.0412 - val_mean_squared_error: 0.3245\n",
            "Epoch 70/300\n",
            "828/828 [==============================] - 127s 154ms/step - loss: 0.0098 - mean_squared_error: 0.3312 - val_loss: 0.0421 - val_mean_squared_error: 0.3523\n",
            "Epoch 71/300\n",
            "828/828 [==============================] - 127s 154ms/step - loss: 0.0096 - mean_squared_error: 0.3311 - val_loss: 0.0376 - val_mean_squared_error: 0.3271\n",
            "Epoch 72/300\n",
            "828/828 [==============================] - 127s 154ms/step - loss: 0.0094 - mean_squared_error: 0.3305 - val_loss: 0.0409 - val_mean_squared_error: 0.3723\n",
            "Epoch 73/300\n",
            "828/828 [==============================] - 127s 154ms/step - loss: 0.0092 - mean_squared_error: 0.3304 - val_loss: 0.0421 - val_mean_squared_error: 0.0880\n",
            "Epoch 74/300\n",
            "828/828 [==============================] - 127s 154ms/step - loss: 0.0090 - mean_squared_error: 0.3306 - val_loss: 0.0422 - val_mean_squared_error: 0.2825\n",
            "Epoch 75/300\n",
            "828/828 [==============================] - 127s 154ms/step - loss: 0.0088 - mean_squared_error: 0.3302 - val_loss: 0.0405 - val_mean_squared_error: 0.3576\n",
            "Epoch 76/300\n",
            "828/828 [==============================] - 127s 154ms/step - loss: 0.0087 - mean_squared_error: 0.3298 - val_loss: 0.0407 - val_mean_squared_error: 0.1121\n",
            "Epoch 77/300\n",
            "828/828 [==============================] - 127s 154ms/step - loss: 0.0085 - mean_squared_error: 0.3306 - val_loss: 0.0428 - val_mean_squared_error: 0.2738\n",
            "Epoch 78/300\n",
            "828/828 [==============================] - 127s 154ms/step - loss: 0.0084 - mean_squared_error: 0.3299 - val_loss: 0.0437 - val_mean_squared_error: 0.1068\n",
            "Epoch 79/300\n",
            "828/828 [==============================] - 127s 154ms/step - loss: 0.0082 - mean_squared_error: 0.3302 - val_loss: 0.0395 - val_mean_squared_error: 0.3647\n",
            "Epoch 80/300\n",
            "828/828 [==============================] - 127s 154ms/step - loss: 0.0082 - mean_squared_error: 0.3302 - val_loss: 0.0419 - val_mean_squared_error: 0.3433\n",
            "Epoch 81/300\n",
            "828/828 [==============================] - 127s 154ms/step - loss: 0.0081 - mean_squared_error: 0.3299 - val_loss: 0.0424 - val_mean_squared_error: 0.2387\n",
            "Epoch 82/300\n",
            "828/828 [==============================] - 127s 154ms/step - loss: 0.0080 - mean_squared_error: 0.3301 - val_loss: 0.0414 - val_mean_squared_error: 0.0850\n",
            "Epoch 83/300\n",
            "828/828 [==============================] - 127s 154ms/step - loss: 0.0079 - mean_squared_error: 0.3300 - val_loss: 0.0383 - val_mean_squared_error: 0.3517\n",
            "Epoch 84/300\n",
            "828/828 [==============================] - 127s 154ms/step - loss: 0.0077 - mean_squared_error: 0.3295 - val_loss: 0.0375 - val_mean_squared_error: 0.3310\n"
          ]
        }
      ],
      "source": [
        "history = model.fit(\n",
        "    train_ds,\n",
        "    validation_data=test_ds,\n",
        "    epochs=N_EPOCHS,\n",
        "    batch_size=BATCH_SIZE,\n",
        "    callbacks=callbacks,\n",
        "    verbose=1\n",
        ")\n"
      ]
    },
    {
      "cell_type": "markdown",
      "source": [
        "# Save Model"
      ],
      "metadata": {
        "id": "HT68Jm8AEluI"
      }
    },
    {
      "cell_type": "code",
      "source": [
        "timestamp = datetime.datetime.now().strftime('%b-%d-%I:%M%p')\n",
        "model_path = os.path.join(MODEL_PATH, EXP_NAME)\n",
        "if not os.path.exists(model_path):\n",
        "    os.makedirs(model_path)\n",
        "\n",
        "model.save(os.path.join(model_path, timestamp))"
      ],
      "metadata": {
        "id": "xfUmF_1mEjXH"
      },
      "execution_count": null,
      "outputs": []
    },
    {
      "cell_type": "markdown",
      "source": [
        "# Save Predictions"
      ],
      "metadata": {
        "id": "-PWi28iOKpXe"
      }
    },
    {
      "cell_type": "code",
      "execution_count": null,
      "metadata": {
        "id": "LLDJf93Z0YxY",
        "outputId": "4a1ec41d-3568-4dfc-911f-86562874e85e",
        "colab": {
          "base_uri": "https://localhost:8080/"
        }
      },
      "outputs": [
        {
          "output_type": "stream",
          "name": "stderr",
          "text": [
            "552it [00:03, 140.94it/s]\n"
          ]
        }
      ],
      "source": [
        "test_ds_unbatched = test_ds.unbatch()\n",
        "\n",
        "pred_path = os.path.join(PRED_PATH, EXP_NAME, timestamp)\n",
        "if not os.path.exists(pred_path):\n",
        "    os.makedirs(pred_path)\n",
        "\n",
        "for idx, (input, target) in enumerate(tqdm(test_ds_unbatched)):\n",
        "    if not idx % 40 == 0:\n",
        "        continue\n",
        "\n",
        "    prediction = tf.squeeze(\n",
        "        model.predict(\n",
        "            tf.expand_dims(input, axis=0)\n",
        "            )\n",
        "        ).numpy()\n",
        "    prediction[target > 0.9] = 1.0\n",
        "\n",
        "    plt.figure(figsize=(12, 4))\n",
        "    plt.subplot(1, 3, 1)\n",
        "    plt.imshow(input)\n",
        "    plt.axis(\"off\")\n",
        "    plt.title(\"INPUT\")\n",
        "    plt.subplot(1, 3, 2)\n",
        "    plt.imshow(target)\n",
        "    plt.axis(\"off\")\n",
        "    plt.title(\"TARGET\")\n",
        "    plt.subplot(1, 3, 3)\n",
        "    plt.imshow(prediction)\n",
        "    plt.axis(\"off\")\n",
        "    plt.title(\"PREDICTION\")\n",
        "    plt.tight_layout()\n",
        "    plt.savefig(os.path.join(pred_path, f\"{idx}.png\"))\n",
        "    plt.close()  \n"
      ]
    },
    {
      "cell_type": "code",
      "source": [
        "loss = history.history['loss']\n",
        "val_loss = history.history['val_loss']\n",
        "\n",
        "plt.figure(figsize=(8, 6))\n",
        "plt.plot(loss, label='Training Loss')\n",
        "plt.plot(val_loss, label='Validation Loss')\n",
        "plt.legend(loc='upper right')\n",
        "plt.ylabel('Attention MAE')\n",
        "plt.title('Training and Validation Loss')\n",
        "plt.xlabel('Epoch')\n",
        "plt.tight_layout()\n",
        "plt.savefig(os.path.join(model_path, timestamp + \".png\"))\n",
        "plt.close()"
      ],
      "metadata": {
        "id": "dq-aXv2mIwA8"
      },
      "execution_count": null,
      "outputs": []
    }
  ],
  "metadata": {
    "kernelspec": {
      "display_name": "Python 3.10.6 ('Ai')",
      "language": "python",
      "name": "python3"
    },
    "language_info": {
      "codemirror_mode": {
        "name": "ipython",
        "version": 3
      },
      "file_extension": ".py",
      "mimetype": "text/x-python",
      "name": "python",
      "nbconvert_exporter": "python",
      "pygments_lexer": "ipython3",
      "version": "3.10.6"
    },
    "orig_nbformat": 4,
    "vscode": {
      "interpreter": {
        "hash": "cc12dd51c08fff59e312c49b5273cbf2a12939660509ea1a4d83cd89b0463726"
      }
    },
    "colab": {
      "provenance": [],
      "machine_shape": "hm",
      "include_colab_link": true
    },
    "accelerator": "GPU",
    "gpuClass": "premium"
  },
  "nbformat": 4,
  "nbformat_minor": 0
}