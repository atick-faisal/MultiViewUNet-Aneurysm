{
  "cells": [
    {
      "cell_type": "markdown",
      "metadata": {
        "id": "view-in-github",
        "colab_type": "text"
      },
      "source": [
        "<a href=\"https://colab.research.google.com/github/atick-faisal/TAVI/blob/main/src/colab/MultiViewUNet.ipynb\" target=\"_parent\"><img src=\"https://colab.research.google.com/assets/colab-badge.svg\" alt=\"Open In Colab\"/></a>"
      ]
    },
    {
      "cell_type": "markdown",
      "source": [
        "# Colab Info"
      ],
      "metadata": {
        "id": "UVG0Xo17Xzdk"
      }
    },
    {
      "cell_type": "code",
      "source": [
        "from psutil import virtual_memory\n",
        "\n",
        "gpu_info = !nvidia-smi\n",
        "gpu_info = '\\n'.join(gpu_info)\n",
        "if gpu_info.find('failed') >= 0:\n",
        "  print('Not connected to a GPU')\n",
        "else:\n",
        "  print(gpu_info)\n",
        "\n",
        "\n",
        "ram_gb = virtual_memory().total / 1e9\n",
        "print('Your runtime has {:.1f} gigabytes of available RAM\\n'.format(ram_gb))\n",
        "\n",
        "if ram_gb < 20:\n",
        "  print('Not using a high-RAM runtime')\n",
        "else:\n",
        "  print('You are using a high-RAM runtime!')"
      ],
      "metadata": {
        "id": "ZwwbESaiX2xi",
        "outputId": "5f183bba-5953-4f63-e448-bc35a5263b5b",
        "colab": {
          "base_uri": "https://localhost:8080/"
        }
      },
      "execution_count": null,
      "outputs": [
        {
          "output_type": "stream",
          "name": "stdout",
          "text": [
            "Mon Jan 23 19:31:59 2023       \n",
            "+-----------------------------------------------------------------------------+\n",
            "| NVIDIA-SMI 460.32.03    Driver Version: 460.32.03    CUDA Version: 11.2     |\n",
            "|-------------------------------+----------------------+----------------------+\n",
            "| GPU  Name        Persistence-M| Bus-Id        Disp.A | Volatile Uncorr. ECC |\n",
            "| Fan  Temp  Perf  Pwr:Usage/Cap|         Memory-Usage | GPU-Util  Compute M. |\n",
            "|                               |                      |               MIG M. |\n",
            "|===============================+======================+======================|\n",
            "|   0  Tesla T4            Off  | 00000000:00:04.0 Off |                    0 |\n",
            "| N/A   44C    P0    25W /  70W |      0MiB / 15109MiB |      0%      Default |\n",
            "|                               |                      |                  N/A |\n",
            "+-------------------------------+----------------------+----------------------+\n",
            "                                                                               \n",
            "+-----------------------------------------------------------------------------+\n",
            "| Processes:                                                                  |\n",
            "|  GPU   GI   CI        PID   Type   Process name                  GPU Memory |\n",
            "|        ID   ID                                                   Usage      |\n",
            "|=============================================================================|\n",
            "|  No running processes found                                                 |\n",
            "+-----------------------------------------------------------------------------+\n",
            "Your runtime has 27.3 gigabytes of available RAM\n",
            "\n",
            "You are using a high-RAM runtime!\n"
          ]
        }
      ]
    },
    {
      "cell_type": "markdown",
      "source": [
        "# Google Drive"
      ],
      "metadata": {
        "id": "0estJx3IDzz4"
      }
    },
    {
      "cell_type": "code",
      "source": [
        "from google.colab import drive\n",
        "drive.mount('/content/drive')"
      ],
      "metadata": {
        "id": "WsH9ydF7Dwpf",
        "outputId": "2aeec522-3391-41dd-ae04-faa25a4724e3",
        "colab": {
          "base_uri": "https://localhost:8080/"
        }
      },
      "execution_count": null,
      "outputs": [
        {
          "output_type": "stream",
          "name": "stdout",
          "text": [
            "Mounted at /content/drive\n"
          ]
        }
      ]
    },
    {
      "cell_type": "markdown",
      "metadata": {
        "id": "MMf8mzRT0YxP"
      },
      "source": [
        "# Download Dataset"
      ]
    },
    {
      "cell_type": "code",
      "source": [
        "!pip install -U --no-cache-dir gdown --pre\n",
        "!pip install image-similarity-measures > /dev/null"
      ],
      "metadata": {
        "id": "UCAzYqWZgbFk",
        "outputId": "9276a441-8123-4901-da46-0095d7c0cb7d",
        "colab": {
          "base_uri": "https://localhost:8080/"
        }
      },
      "execution_count": null,
      "outputs": [
        {
          "output_type": "stream",
          "name": "stdout",
          "text": [
            "Looking in indexes: https://pypi.org/simple, https://us-python.pkg.dev/colab-wheels/public/simple/\n",
            "Requirement already satisfied: gdown in /usr/local/lib/python3.8/dist-packages (4.4.0)\n",
            "Collecting gdown\n",
            "  Downloading gdown-4.6.0-py3-none-any.whl (14 kB)\n",
            "Requirement already satisfied: filelock in /usr/local/lib/python3.8/dist-packages (from gdown) (3.9.0)\n",
            "Requirement already satisfied: six in /usr/local/lib/python3.8/dist-packages (from gdown) (1.15.0)\n",
            "Requirement already satisfied: beautifulsoup4 in /usr/local/lib/python3.8/dist-packages (from gdown) (4.6.3)\n",
            "Requirement already satisfied: tqdm in /usr/local/lib/python3.8/dist-packages (from gdown) (4.64.1)\n",
            "Requirement already satisfied: requests[socks] in /usr/local/lib/python3.8/dist-packages (from gdown) (2.25.1)\n",
            "Requirement already satisfied: certifi>=2017.4.17 in /usr/local/lib/python3.8/dist-packages (from requests[socks]->gdown) (2022.12.7)\n",
            "Requirement already satisfied: chardet<5,>=3.0.2 in /usr/local/lib/python3.8/dist-packages (from requests[socks]->gdown) (4.0.0)\n",
            "Requirement already satisfied: idna<3,>=2.5 in /usr/local/lib/python3.8/dist-packages (from requests[socks]->gdown) (2.10)\n",
            "Requirement already satisfied: urllib3<1.27,>=1.21.1 in /usr/local/lib/python3.8/dist-packages (from requests[socks]->gdown) (1.24.3)\n",
            "Requirement already satisfied: PySocks!=1.5.7,>=1.5.6 in /usr/local/lib/python3.8/dist-packages (from requests[socks]->gdown) (1.7.1)\n",
            "Installing collected packages: gdown\n",
            "  Attempting uninstall: gdown\n",
            "    Found existing installation: gdown 4.4.0\n",
            "    Uninstalling gdown-4.4.0:\n",
            "      Successfully uninstalled gdown-4.4.0\n",
            "Successfully installed gdown-4.6.0\n"
          ]
        }
      ]
    },
    {
      "cell_type": "code",
      "execution_count": null,
      "metadata": {
        "id": "Zm_HJEfM0YxS",
        "outputId": "272e4842-7174-431b-85b3-27170582eebd",
        "colab": {
          "base_uri": "https://localhost:8080/"
        }
      },
      "outputs": [
        {
          "output_type": "stream",
          "name": "stdout",
          "text": [
            "Downloading...\n",
            "From: https://drive.google.com/uc?id=12CxxS2w7mprCnVX9Y_Kiti6vEPbTQW2l\n",
            "To: /content/UNet_2DCNN.py\n",
            "100% 58.6k/58.6k [00:00<00:00, 74.5MB/s]\n",
            "Downloading...\n",
            "From: https://drive.google.com/uc?id=1GfS5qapaM5Ci7ykHQW_4B-kWqk_tmvSd\n",
            "To: /content/TAWSS2ECAP_v1.zip\n",
            "100% 1.06G/1.06G [00:06<00:00, 165MB/s]\n"
          ]
        }
      ],
      "source": [
        "!gdown \"12CxxS2w7mprCnVX9Y_Kiti6vEPbTQW2l\"\n",
        "!gdown \"1CN-7DANpVbSzkxmGOj_zGX6QC0q1HHDM\"\n",
        "!unzip -o \"CurvToTAWSSJet.zip\" > /dev/null\n"
      ]
    },
    {
      "cell_type": "markdown",
      "metadata": {
        "id": "Vemh_spU0YxT"
      },
      "source": [
        "# Imports"
      ]
    },
    {
      "cell_type": "code",
      "execution_count": null,
      "metadata": {
        "id": "w0KYlE-90YxT"
      },
      "outputs": [],
      "source": [
        "import os\n",
        "import cv2\n",
        "import random\n",
        "import datetime\n",
        "import matplotlib\n",
        "import numpy as np\n",
        "import pandas as pd\n",
        "import tensorflow as tf\n",
        "import matplotlib.pyplot as plt\n",
        "\n",
        "from tqdm import tqdm\n",
        "from numpy.typing import NDArray\n",
        "from UNet_2DCNN import UNet as UNetSakib\n",
        "# from image_similarity_measures.quality_metrics import *\n",
        "\n",
        "matplotlib.use('Agg')\n",
        "plt.rcParams[\"font.size\"] = 16\n"
      ]
    },
    {
      "cell_type": "markdown",
      "metadata": {
        "id": "vE8WOTRj0YxT"
      },
      "source": [
        "# Config"
      ]
    },
    {
      "cell_type": "code",
      "execution_count": null,
      "metadata": {
        "id": "O5Vvm79c0YxT"
      },
      "outputs": [],
      "source": [
        "DATASET         = \"CurvToTAWSS\"\n",
        "MODEL_NAME      = \"MultiViewUNet\"\n",
        "DATASET_PATH    = \"/content/Images/\"\n",
        "TRAIN_DIR       = \"Train/\"\n",
        "TEST_DIR        = \"Test/\"\n",
        "INPUT_DIR       = \"Input/\"\n",
        "TARGET_DIR      = \"Target/\"\n",
        "MODEL_PATH      = \"/content/drive/MyDrive/Research/TAVI/Models/\"\n",
        "PRED_PATH       = \"/content/drive/MyDrive/Research/TAVI/Predictions/\"\n",
        "\n",
        "IMG_SIZE        = 256\n",
        "BATCH_SIZE      = 16\n",
        "BUFFER_SIZE     = 1000\n",
        "VAL_SPLIT       = 0.2\n",
        "LEARNING_RATE   = 0.001\n",
        "N_EPOCHS        = 300\n",
        "PATIENCE        = 30\n",
        "\n",
        "EXP_NAME        = f\"{MODEL_NAME}_I{IMG_SIZE}_B{BATCH_SIZE}_LR{LEARNING_RATE}_{DATASET}\"\n"
      ]
    },
    {
      "cell_type": "markdown",
      "metadata": {
        "id": "YmMjbvFH0YxU"
      },
      "source": [
        "# Architecture"
      ]
    },
    {
      "cell_type": "code",
      "execution_count": null,
      "metadata": {
        "id": "xecJpVUs0YxU"
      },
      "outputs": [],
      "source": [
        "class UNet:\n",
        "    def __init__(\n",
        "        self,\n",
        "        img_size: int,\n",
        "        n_channels: int = 3,\n",
        "        width: int = 32,\n",
        "        depth: int = 4,\n",
        "        kernel_size: int = 3\n",
        "    ):\n",
        "        self.img_size = img_size\n",
        "        self.n_channels = n_channels\n",
        "        self.width = width\n",
        "        self.depth = depth\n",
        "        self.kernel_size = kernel_size\n",
        "\n",
        "    @staticmethod\n",
        "    def conv(\n",
        "        x: tf.Tensor,\n",
        "        filters: int,\n",
        "        kernel_size: int\n",
        "    ) -> tf.Tensor:\n",
        "        for i in range(2):\n",
        "            x = tf.keras.layers.Conv2D(\n",
        "                filters=filters,\n",
        "                kernel_size=kernel_size,\n",
        "                strides=1,\n",
        "                padding=\"same\",\n",
        "                data_format=\"channels_last\",\n",
        "                dilation_rate=1,\n",
        "                groups=1,\n",
        "                activation=None,\n",
        "                use_bias=True,\n",
        "                kernel_initializer=\"glorot_uniform\",\n",
        "                bias_initializer=\"zeros\",\n",
        "            )(x)\n",
        "\n",
        "            x = tf.keras.layers.BatchNormalization()(x)\n",
        "            x = tf.keras.layers.Activation(\"relu\")(x)\n",
        "\n",
        "        return x\n",
        "\n",
        "    @staticmethod\n",
        "    def deconv(x: tf.Tensor, filters: int) -> tf.Tensor:\n",
        "        x = tf.keras.layers.Conv2DTranspose(\n",
        "            filters=filters,\n",
        "            kernel_size=2,\n",
        "            strides=2,\n",
        "            padding=\"same\",\n",
        "            output_padding=None,\n",
        "            data_format=None,\n",
        "            dilation_rate=1,\n",
        "            activation=None,\n",
        "            use_bias=True,\n",
        "            kernel_initializer=\"glorot_uniform\",\n",
        "            bias_initializer=\"zeros\",\n",
        "        )(x)\n",
        "\n",
        "        x = tf.keras.layers.BatchNormalization()(x)\n",
        "        x = tf.keras.layers.Activation(\"relu\")(x)\n",
        "\n",
        "        return x\n",
        "\n",
        "    @staticmethod\n",
        "    def output(x: tf.Tensor) -> tf.Tensor:\n",
        "        return tf.keras.layers.Conv2D(3, (1, 1), activation=\"sigmoid\")(x)\n",
        "\n",
        "    @staticmethod\n",
        "    def pool(x: tf.Tensor, pool_size: int = 2) -> tf.Tensor:\n",
        "        return tf.keras.layers.MaxPool2D(pool_size)(x)\n",
        "\n",
        "    @staticmethod\n",
        "    def dropout(x: tf.Tensor, amount: float = 0.5) -> tf.Tensor:\n",
        "        return tf.keras.layers.Dropout(amount)(x)\n",
        "\n",
        "    def __call__(self) -> tf.keras.Model:\n",
        "        inputs = tf.keras.layers.Input(\n",
        "            shape=(self.img_size, self.img_size, self.n_channels)\n",
        "        )\n",
        "\n",
        "        # scaled = tf.keras.layers.Rescaling(1./255.0, offset=0)(inputs)\n",
        "\n",
        "        # ------------------ Downsampling ---------------------\n",
        "        downsample_layers = []\n",
        "        downsample_layers.append(\n",
        "            self.conv(\n",
        "                x=inputs,\n",
        "                filters=self.width,\n",
        "                kernel_size=self.kernel_size\n",
        "            )\n",
        "        )\n",
        "        for i in range(1, self.depth):\n",
        "            dropout_amount = 0.2 if i == 1 else 0.5\n",
        "            filters = int((2 ** i) * self.width)\n",
        "            downsample_layers.append(\n",
        "                self.dropout(\n",
        "                    self.pool(\n",
        "                        self.conv(\n",
        "                            x=downsample_layers[i - 1],\n",
        "                            filters=filters,\n",
        "                            kernel_size=self.kernel_size\n",
        "                        )\n",
        "                    ),\n",
        "                    amount=dropout_amount\n",
        "                )\n",
        "            )\n",
        "\n",
        "        # ------------------- Features --------------------\n",
        "        n_features = int((2 ** self.depth) * self.width)\n",
        "        self.features = self.pool(\n",
        "            self.conv(\n",
        "                x=downsample_layers[-1],\n",
        "                filters=n_features,\n",
        "                kernel_size=self.kernel_size\n",
        "            )\n",
        "        )\n",
        "\n",
        "        # ------------------- Upsampling --------------------\n",
        "        upsample_layers = []\n",
        "        upsample_layers.append(self.features)\n",
        "        for i in range(1, self.depth + 1):\n",
        "            filters = int((2 ** (self.depth - i)) * self.width)\n",
        "            upsample_layers.append(\n",
        "                self.conv(\n",
        "                    x=self.dropout(\n",
        "                        tf.keras.layers.concatenate([\n",
        "                            downsample_layers[self.depth - i],\n",
        "                            self.deconv(\n",
        "                                x=upsample_layers[i - 1],\n",
        "                                filters=filters\n",
        "                            )\n",
        "                        ])\n",
        "                    ),\n",
        "                    filters=filters,\n",
        "                    kernel_size=self.kernel_size\n",
        "                )\n",
        "            )\n",
        "\n",
        "        # ---------------------- Output -----------------------\n",
        "        outputs = self.output(upsample_layers[-1])\n",
        "\n",
        "        return tf.keras.Model(inputs, outputs)\n"
      ]
    },
    {
      "cell_type": "markdown",
      "metadata": {
        "id": "ga47oOoc0YxV"
      },
      "source": [
        "# Loss Functions"
      ]
    },
    {
      "cell_type": "code",
      "execution_count": null,
      "metadata": {
        "id": "ooE90mpc0YxW"
      },
      "outputs": [],
      "source": [
        "def attention_mse(y_true, y_pred):\n",
        "    _y_true = y_true[y_true != 1.0]\n",
        "    _y_pred = y_pred[y_true != 1.0]\n",
        "    squared_difference = tf.square(_y_true - _y_pred)\n",
        "    return tf.reduce_mean(squared_difference, axis=-1)\n",
        "\n",
        "\n",
        "def attention_mae(y_true, y_pred):\n",
        "    _y_true = y_true[y_true != 1.0]\n",
        "    _y_pred = y_pred[y_true != 1.0]\n",
        "    squared_difference = tf.abs(_y_true - _y_pred)\n",
        "    return tf.reduce_mean(squared_difference, axis=-1)\n"
      ]
    },
    {
      "cell_type": "markdown",
      "metadata": {
        "id": "wOgmHYSJ0YxW"
      },
      "source": [
        "# Utils"
      ]
    },
    {
      "cell_type": "code",
      "execution_count": null,
      "metadata": {
        "id": "cSrfyX260YxW"
      },
      "outputs": [],
      "source": [
        "def load_data_from_dir(path: str) -> tf.data.Dataset:\n",
        "    return tf.keras.utils.image_dataset_from_directory(\n",
        "        directory=path,\n",
        "        labels=None,\n",
        "        color_mode='rgb',\n",
        "        batch_size=BATCH_SIZE,\n",
        "        image_size=(IMG_SIZE, IMG_SIZE),\n",
        "        shuffle=True,\n",
        "        seed=42,\n",
        "        # validation_split=VAL_SPLIT,\n",
        "        # subset=subset,\n",
        "        interpolation='bilinear',\n",
        "        follow_links=False,\n",
        "        crop_to_aspect_ratio=False\n",
        "    )\n"
      ]
    },
    {
      "cell_type": "markdown",
      "metadata": {
        "id": "CyS-63WI0YxX"
      },
      "source": [
        "# Dataloaders"
      ]
    },
    {
      "cell_type": "code",
      "execution_count": null,
      "metadata": {
        "id": "71Dxzfkf0YxX",
        "outputId": "d23f96ee-a0d5-4c2a-d56b-bc35a88bb6f9",
        "colab": {
          "base_uri": "https://localhost:8080/"
        }
      },
      "outputs": [
        {
          "output_type": "stream",
          "name": "stdout",
          "text": [
            "Found 8208 files belonging to 1 classes.\n",
            "Found 8208 files belonging to 1 classes.\n",
            "Found 312 files belonging to 1 classes.\n",
            "Found 312 files belonging to 1 classes.\n",
            "(TensorSpec(shape=(None, 256, 256, 3), dtype=tf.float32, name=None), TensorSpec(shape=(None, 256, 256, 3), dtype=tf.float32, name=None))\n",
            "(TensorSpec(shape=(None, 256, 256, 3), dtype=tf.float32, name=None), TensorSpec(shape=(None, 256, 256, 3), dtype=tf.float32, name=None))\n"
          ]
        }
      ],
      "source": [
        "trainX = load_data_from_dir(os.path.join(DATASET_PATH, TRAIN_DIR, INPUT_DIR))\n",
        "trainY = load_data_from_dir(os.path.join(DATASET_PATH, TRAIN_DIR, TARGET_DIR))\n",
        "testX = load_data_from_dir(os.path.join(DATASET_PATH, TEST_DIR, INPUT_DIR))\n",
        "testY = load_data_from_dir(os.path.join(DATASET_PATH, TEST_DIR, TARGET_DIR))\n",
        "\n",
        "train_ds = tf.data.Dataset.zip((trainX, trainY))\n",
        "test_ds = tf.data.Dataset.zip((testX, testY))\n",
        "\n",
        "print(train_ds.element_spec)\n",
        "print(test_ds.element_spec)\n"
      ]
    },
    {
      "cell_type": "markdown",
      "source": [
        "# Normalization"
      ],
      "metadata": {
        "id": "01HaegmR278r"
      }
    },
    {
      "cell_type": "code",
      "source": [
        "# def normalize(input_image, output_image):\n",
        "#     input_image = tf.cast(input_image, tf.float32) / 255.0\n",
        "#     output_image = tf.cast(input_image, tf.float32) / 255.0\n",
        "#     return input_image, output_image"
      ],
      "metadata": {
        "id": "E1oi3-RTqZV1"
      },
      "execution_count": null,
      "outputs": []
    },
    {
      "cell_type": "code",
      "source": [
        "normalization_layer = tf.keras.layers.Rescaling(1./255)\n",
        "train_ds = train_ds.map(lambda x, y: (normalization_layer(x), normalization_layer(y)))\n",
        "test_ds = test_ds.map(lambda x, y: (normalization_layer(x), normalization_layer(y)))"
      ],
      "metadata": {
        "id": "mDeZuH0p26pE"
      },
      "execution_count": null,
      "outputs": []
    },
    {
      "cell_type": "markdown",
      "source": [
        "# Augmentation"
      ],
      "metadata": {
        "id": "tySOuC8Hqvdm"
      }
    },
    {
      "cell_type": "code",
      "source": [
        "class Augment(tf.keras.layers.Layer):\n",
        "    def __init__(self, seed=42):\n",
        "        super().__init__()\n",
        "        # both use the same seed, so they'll make the same random changes.\n",
        "        self.augment_inputs = tf.keras.layers.RandomZoom((-0.1, -0.7), seed=seed)\n",
        "        self.augment_labels = tf.keras.layers.RandomZoom((-0.1, -0.7), seed=seed)\n",
        "\n",
        "    def call(self, inputs, labels):\n",
        "        inputs = self.augment_inputs(inputs)\n",
        "        labels = self.augment_labels(labels)\n",
        "        return inputs, labels"
      ],
      "metadata": {
        "id": "OHQFZ9kKqu6f"
      },
      "execution_count": null,
      "outputs": []
    },
    {
      "cell_type": "markdown",
      "metadata": {
        "id": "eHlKefA_0YxX"
      },
      "source": [
        "# Optimization"
      ]
    },
    {
      "cell_type": "code",
      "execution_count": null,
      "metadata": {
        "id": "U-HMkfOG0YxX"
      },
      "outputs": [],
      "source": [
        "AUTOTUNE = tf.data.AUTOTUNE\n",
        "\n",
        "train_batches = (\n",
        "    train_ds\n",
        "    .cache()\n",
        "    # .shuffle(BUFFER_SIZE)\n",
        "    # .batch(BATCH_SIZE)\n",
        "    # .repeat()\n",
        "    # .map(Augment())\n",
        "    .prefetch(buffer_size=AUTOTUNE)\n",
        ")\n",
        "\n",
        "test_batches = (test_ds)\n"
      ]
    },
    {
      "cell_type": "markdown",
      "metadata": {
        "id": "w50akeqN0YxX"
      },
      "source": [
        "# Training Config"
      ]
    },
    {
      "cell_type": "code",
      "source": [
        "model_path = os.path.join(MODEL_PATH, EXP_NAME)"
      ],
      "metadata": {
        "id": "PUzocJOBo8R4"
      },
      "execution_count": null,
      "outputs": []
    },
    {
      "cell_type": "code",
      "execution_count": null,
      "metadata": {
        "id": "2YvF85Wg0YxY"
      },
      "outputs": [],
      "source": [
        "callbacks = [\n",
        "    tf.keras.callbacks.EarlyStopping(\n",
        "        monitor=\"val_loss\",\n",
        "        patience=PATIENCE,\n",
        "        restore_best_weights=True\n",
        "    ),\n",
        "    tf.keras.callbacks.ModelCheckpoint(\n",
        "        model_path,\n",
        "        monitor = 'val_loss',\n",
        "        verbose = 1,\n",
        "        save_best_only = True,\n",
        "        save_weights_only = True\n",
        "    )\n",
        "]\n",
        "\n",
        "optimizer = tf.keras.optimizers.Adam(\n",
        "    learning_rate=LEARNING_RATE\n",
        ")\n",
        "\n",
        "model = UNet(IMG_SIZE)()\n",
        "# model = MobileUNet(IMG_SIZE)()\n",
        "# model = UNetSakib(\n",
        "#     length=IMG_SIZE, \n",
        "#     width=IMG_SIZE, \n",
        "#     model_depth=4, \n",
        "#     num_channel=1, \n",
        "#     model_width=32, \n",
        "#     kernel_size=3, \n",
        "#     problem_type='Regression',\n",
        "#     output_nums=1, \n",
        "#     ds=0, \n",
        "#     ae=0, \n",
        "#     ag=0, \n",
        "#     lstm=0, \n",
        "#     alpha=1, \n",
        "#     feature_number=1024, \n",
        "#     is_transconv=True\n",
        "# ).FSC_Net()\n",
        "\n",
        "model.compile(\n",
        "    loss=attention_mse,\n",
        "    optimizer=optimizer,\n",
        "    metrics=[attention_mae]\n",
        ")\n",
        "\n",
        "# try:\n",
        "#     model.load_weights(model_path)\n",
        "# except:\n",
        "#     print(\"Checkpoint not found\")\n",
        "#     pass\n"
      ]
    },
    {
      "cell_type": "markdown",
      "metadata": {
        "id": "XrJPilPI0YxY"
      },
      "source": [
        "# Training"
      ]
    },
    {
      "cell_type": "code",
      "execution_count": null,
      "metadata": {
        "id": "y_b-8pkT0YxY",
        "outputId": "ce96171c-b0b0-4541-b0fc-6a249c89818f",
        "colab": {
          "base_uri": "https://localhost:8080/"
        }
      },
      "outputs": [
        {
          "output_type": "stream",
          "name": "stdout",
          "text": [
            "Epoch 1/300\n",
            "513/513 [==============================] - ETA: 0s - loss: 0.0385 - attention_mae: 0.1331\n",
            "Epoch 1: val_loss improved from inf to 0.03887, saving model to /content/drive/MyDrive/Research/TAVI/Models/MultiViewUNet_I256_B16_LR0.001_TAWSS2ECAP\n",
            "513/513 [==============================] - 311s 568ms/step - loss: 0.0385 - attention_mae: 0.1331 - val_loss: 0.0389 - val_attention_mae: 0.1435\n",
            "Epoch 2/300\n",
            "513/513 [==============================] - ETA: 0s - loss: 0.0320 - attention_mae: 0.1172\n",
            "Epoch 2: val_loss improved from 0.03887 to 0.03146, saving model to /content/drive/MyDrive/Research/TAVI/Models/MultiViewUNet_I256_B16_LR0.001_TAWSS2ECAP\n",
            "513/513 [==============================] - 288s 561ms/step - loss: 0.0320 - attention_mae: 0.1172 - val_loss: 0.0315 - val_attention_mae: 0.1099\n",
            "Epoch 3/300\n",
            "513/513 [==============================] - ETA: 0s - loss: 0.0302 - attention_mae: 0.1124\n",
            "Epoch 3: val_loss did not improve from 0.03146\n",
            "513/513 [==============================] - 287s 560ms/step - loss: 0.0302 - attention_mae: 0.1124 - val_loss: 0.0319 - val_attention_mae: 0.1092\n",
            "Epoch 4/300\n",
            "513/513 [==============================] - ETA: 0s - loss: 0.0286 - attention_mae: 0.1084\n",
            "Epoch 4: val_loss improved from 0.03146 to 0.02826, saving model to /content/drive/MyDrive/Research/TAVI/Models/MultiViewUNet_I256_B16_LR0.001_TAWSS2ECAP\n",
            "513/513 [==============================] - 288s 561ms/step - loss: 0.0286 - attention_mae: 0.1084 - val_loss: 0.0283 - val_attention_mae: 0.1040\n",
            "Epoch 5/300\n",
            "513/513 [==============================] - ETA: 0s - loss: 0.0272 - attention_mae: 0.1049\n",
            "Epoch 5: val_loss improved from 0.02826 to 0.02592, saving model to /content/drive/MyDrive/Research/TAVI/Models/MultiViewUNet_I256_B16_LR0.001_TAWSS2ECAP\n",
            "513/513 [==============================] - 288s 561ms/step - loss: 0.0272 - attention_mae: 0.1049 - val_loss: 0.0259 - val_attention_mae: 0.0986\n",
            "Epoch 6/300\n",
            "513/513 [==============================] - ETA: 0s - loss: 0.0261 - attention_mae: 0.1018\n",
            "Epoch 6: val_loss improved from 0.02592 to 0.02444, saving model to /content/drive/MyDrive/Research/TAVI/Models/MultiViewUNet_I256_B16_LR0.001_TAWSS2ECAP\n",
            "513/513 [==============================] - 288s 561ms/step - loss: 0.0261 - attention_mae: 0.1018 - val_loss: 0.0244 - val_attention_mae: 0.0958\n",
            "Epoch 7/300\n",
            "513/513 [==============================] - ETA: 0s - loss: 0.0251 - attention_mae: 0.0992\n",
            "Epoch 7: val_loss did not improve from 0.02444\n",
            "513/513 [==============================] - 288s 561ms/step - loss: 0.0251 - attention_mae: 0.0992 - val_loss: 0.0245 - val_attention_mae: 0.0952\n",
            "Epoch 8/300\n",
            "513/513 [==============================] - ETA: 0s - loss: 0.0244 - attention_mae: 0.0971\n",
            "Epoch 8: val_loss improved from 0.02444 to 0.02325, saving model to /content/drive/MyDrive/Research/TAVI/Models/MultiViewUNet_I256_B16_LR0.001_TAWSS2ECAP\n",
            "513/513 [==============================] - 288s 562ms/step - loss: 0.0244 - attention_mae: 0.0971 - val_loss: 0.0232 - val_attention_mae: 0.0904\n",
            "Epoch 9/300\n",
            "513/513 [==============================] - ETA: 0s - loss: 0.0235 - attention_mae: 0.0948\n",
            "Epoch 9: val_loss improved from 0.02325 to 0.02269, saving model to /content/drive/MyDrive/Research/TAVI/Models/MultiViewUNet_I256_B16_LR0.001_TAWSS2ECAP\n",
            "513/513 [==============================] - 288s 562ms/step - loss: 0.0235 - attention_mae: 0.0948 - val_loss: 0.0227 - val_attention_mae: 0.0911\n",
            "Epoch 10/300\n",
            "513/513 [==============================] - ETA: 0s - loss: 0.0229 - attention_mae: 0.0930\n",
            "Epoch 10: val_loss improved from 0.02269 to 0.02241, saving model to /content/drive/MyDrive/Research/TAVI/Models/MultiViewUNet_I256_B16_LR0.001_TAWSS2ECAP\n",
            "513/513 [==============================] - 288s 562ms/step - loss: 0.0229 - attention_mae: 0.0930 - val_loss: 0.0224 - val_attention_mae: 0.0869\n",
            "Epoch 11/300\n",
            "513/513 [==============================] - ETA: 0s - loss: 0.0223 - attention_mae: 0.0914\n",
            "Epoch 11: val_loss improved from 0.02241 to 0.02240, saving model to /content/drive/MyDrive/Research/TAVI/Models/MultiViewUNet_I256_B16_LR0.001_TAWSS2ECAP\n",
            "513/513 [==============================] - 288s 562ms/step - loss: 0.0223 - attention_mae: 0.0914 - val_loss: 0.0224 - val_attention_mae: 0.0881\n",
            "Epoch 12/300\n",
            "513/513 [==============================] - ETA: 0s - loss: 0.0217 - attention_mae: 0.0898\n",
            "Epoch 12: val_loss improved from 0.02240 to 0.02138, saving model to /content/drive/MyDrive/Research/TAVI/Models/MultiViewUNet_I256_B16_LR0.001_TAWSS2ECAP\n",
            "513/513 [==============================] - 288s 562ms/step - loss: 0.0217 - attention_mae: 0.0898 - val_loss: 0.0214 - val_attention_mae: 0.0854\n",
            "Epoch 13/300\n",
            "513/513 [==============================] - ETA: 0s - loss: 0.0212 - attention_mae: 0.0886\n",
            "Epoch 13: val_loss improved from 0.02138 to 0.02132, saving model to /content/drive/MyDrive/Research/TAVI/Models/MultiViewUNet_I256_B16_LR0.001_TAWSS2ECAP\n",
            "513/513 [==============================] - 288s 561ms/step - loss: 0.0212 - attention_mae: 0.0886 - val_loss: 0.0213 - val_attention_mae: 0.0838\n",
            "Epoch 14/300\n",
            "513/513 [==============================] - ETA: 0s - loss: 0.0207 - attention_mae: 0.0872\n",
            "Epoch 14: val_loss did not improve from 0.02132\n",
            "513/513 [==============================] - 288s 561ms/step - loss: 0.0207 - attention_mae: 0.0872 - val_loss: 0.0225 - val_attention_mae: 0.0863\n",
            "Epoch 15/300\n",
            "513/513 [==============================] - ETA: 0s - loss: 0.0201 - attention_mae: 0.0856\n",
            "Epoch 15: val_loss improved from 0.02132 to 0.02029, saving model to /content/drive/MyDrive/Research/TAVI/Models/MultiViewUNet_I256_B16_LR0.001_TAWSS2ECAP\n",
            "513/513 [==============================] - 288s 561ms/step - loss: 0.0201 - attention_mae: 0.0856 - val_loss: 0.0203 - val_attention_mae: 0.0818\n",
            "Epoch 16/300\n",
            "513/513 [==============================] - ETA: 0s - loss: 0.0197 - attention_mae: 0.0844\n",
            "Epoch 16: val_loss did not improve from 0.02029\n",
            "513/513 [==============================] - 287s 560ms/step - loss: 0.0197 - attention_mae: 0.0844 - val_loss: 0.0215 - val_attention_mae: 0.0818\n",
            "Epoch 17/300\n",
            "513/513 [==============================] - ETA: 0s - loss: 0.0194 - attention_mae: 0.0834\n",
            "Epoch 17: val_loss did not improve from 0.02029\n",
            "513/513 [==============================] - 288s 561ms/step - loss: 0.0194 - attention_mae: 0.0834 - val_loss: 0.0208 - val_attention_mae: 0.0827\n",
            "Epoch 18/300\n",
            "513/513 [==============================] - ETA: 0s - loss: 0.0188 - attention_mae: 0.0820\n",
            "Epoch 18: val_loss did not improve from 0.02029\n",
            "513/513 [==============================] - 288s 560ms/step - loss: 0.0188 - attention_mae: 0.0820 - val_loss: 0.0217 - val_attention_mae: 0.0838\n",
            "Epoch 19/300\n",
            "513/513 [==============================] - ETA: 0s - loss: 0.0186 - attention_mae: 0.0813\n",
            "Epoch 19: val_loss did not improve from 0.02029\n",
            "513/513 [==============================] - 288s 560ms/step - loss: 0.0186 - attention_mae: 0.0813 - val_loss: 0.0213 - val_attention_mae: 0.0819\n",
            "Epoch 20/300\n",
            "513/513 [==============================] - ETA: 0s - loss: 0.0182 - attention_mae: 0.0802\n",
            "Epoch 20: val_loss improved from 0.02029 to 0.01953, saving model to /content/drive/MyDrive/Research/TAVI/Models/MultiViewUNet_I256_B16_LR0.001_TAWSS2ECAP\n",
            "513/513 [==============================] - 288s 561ms/step - loss: 0.0182 - attention_mae: 0.0802 - val_loss: 0.0195 - val_attention_mae: 0.0789\n",
            "Epoch 21/300\n",
            "513/513 [==============================] - ETA: 0s - loss: 0.0177 - attention_mae: 0.0790\n",
            "Epoch 21: val_loss did not improve from 0.01953\n",
            "513/513 [==============================] - 287s 560ms/step - loss: 0.0177 - attention_mae: 0.0790 - val_loss: 0.0203 - val_attention_mae: 0.0795\n",
            "Epoch 22/300\n",
            "513/513 [==============================] - ETA: 0s - loss: 0.0173 - attention_mae: 0.0779\n",
            "Epoch 22: val_loss did not improve from 0.01953\n",
            "513/513 [==============================] - 287s 560ms/step - loss: 0.0173 - attention_mae: 0.0779 - val_loss: 0.0204 - val_attention_mae: 0.0796\n",
            "Epoch 23/300\n",
            "513/513 [==============================] - ETA: 0s - loss: 0.0171 - attention_mae: 0.0773\n",
            "Epoch 23: val_loss improved from 0.01953 to 0.01940, saving model to /content/drive/MyDrive/Research/TAVI/Models/MultiViewUNet_I256_B16_LR0.001_TAWSS2ECAP\n",
            "513/513 [==============================] - 288s 561ms/step - loss: 0.0171 - attention_mae: 0.0773 - val_loss: 0.0194 - val_attention_mae: 0.0774\n",
            "Epoch 24/300\n",
            "513/513 [==============================] - ETA: 0s - loss: 0.0168 - attention_mae: 0.0765\n",
            "Epoch 24: val_loss did not improve from 0.01940\n",
            "513/513 [==============================] - 287s 560ms/step - loss: 0.0168 - attention_mae: 0.0765 - val_loss: 0.0201 - val_attention_mae: 0.0785\n",
            "Epoch 25/300\n",
            "513/513 [==============================] - ETA: 0s - loss: 0.0164 - attention_mae: 0.0752\n",
            "Epoch 25: val_loss did not improve from 0.01940\n",
            "513/513 [==============================] - 287s 560ms/step - loss: 0.0164 - attention_mae: 0.0752 - val_loss: 0.0195 - val_attention_mae: 0.0781\n",
            "Epoch 26/300\n",
            "513/513 [==============================] - ETA: 0s - loss: 0.0161 - attention_mae: 0.0746\n",
            "Epoch 26: val_loss did not improve from 0.01940\n",
            "513/513 [==============================] - 287s 560ms/step - loss: 0.0161 - attention_mae: 0.0746 - val_loss: 0.0194 - val_attention_mae: 0.0765\n",
            "Epoch 27/300\n",
            "513/513 [==============================] - ETA: 0s - loss: 0.0159 - attention_mae: 0.0740\n",
            "Epoch 27: val_loss did not improve from 0.01940\n",
            "513/513 [==============================] - 287s 560ms/step - loss: 0.0159 - attention_mae: 0.0740 - val_loss: 0.0198 - val_attention_mae: 0.0775\n",
            "Epoch 28/300\n",
            "513/513 [==============================] - ETA: 0s - loss: 0.0156 - attention_mae: 0.0732\n",
            "Epoch 28: val_loss improved from 0.01940 to 0.01887, saving model to /content/drive/MyDrive/Research/TAVI/Models/MultiViewUNet_I256_B16_LR0.001_TAWSS2ECAP\n",
            "513/513 [==============================] - 288s 562ms/step - loss: 0.0156 - attention_mae: 0.0732 - val_loss: 0.0189 - val_attention_mae: 0.0766\n",
            "Epoch 29/300\n",
            "513/513 [==============================] - ETA: 0s - loss: 0.0154 - attention_mae: 0.0723\n",
            "Epoch 29: val_loss did not improve from 0.01887\n",
            "513/513 [==============================] - 287s 560ms/step - loss: 0.0154 - attention_mae: 0.0723 - val_loss: 0.0205 - val_attention_mae: 0.0804\n",
            "Epoch 30/300\n",
            "513/513 [==============================] - ETA: 0s - loss: 0.0151 - attention_mae: 0.0717\n",
            "Epoch 30: val_loss did not improve from 0.01887\n",
            "513/513 [==============================] - 287s 560ms/step - loss: 0.0151 - attention_mae: 0.0717 - val_loss: 0.0198 - val_attention_mae: 0.0778\n",
            "Epoch 31/300\n",
            "513/513 [==============================] - ETA: 0s - loss: 0.0149 - attention_mae: 0.0711\n",
            "Epoch 31: val_loss improved from 0.01887 to 0.01841, saving model to /content/drive/MyDrive/Research/TAVI/Models/MultiViewUNet_I256_B16_LR0.001_TAWSS2ECAP\n",
            "513/513 [==============================] - 288s 561ms/step - loss: 0.0149 - attention_mae: 0.0711 - val_loss: 0.0184 - val_attention_mae: 0.0741\n",
            "Epoch 32/300\n",
            "513/513 [==============================] - ETA: 0s - loss: 0.0146 - attention_mae: 0.0704\n",
            "Epoch 32: val_loss did not improve from 0.01841\n",
            "513/513 [==============================] - 287s 560ms/step - loss: 0.0146 - attention_mae: 0.0704 - val_loss: 0.0191 - val_attention_mae: 0.0756\n",
            "Epoch 33/300\n",
            "513/513 [==============================] - ETA: 0s - loss: 0.0144 - attention_mae: 0.0696\n",
            "Epoch 33: val_loss did not improve from 0.01841\n",
            "513/513 [==============================] - 287s 560ms/step - loss: 0.0144 - attention_mae: 0.0696 - val_loss: 0.0184 - val_attention_mae: 0.0737\n",
            "Epoch 34/300\n",
            "513/513 [==============================] - ETA: 0s - loss: 0.0143 - attention_mae: 0.0694\n",
            "Epoch 34: val_loss did not improve from 0.01841\n",
            "513/513 [==============================] - 287s 560ms/step - loss: 0.0143 - attention_mae: 0.0694 - val_loss: 0.0187 - val_attention_mae: 0.0750\n",
            "Epoch 35/300\n",
            "513/513 [==============================] - ETA: 0s - loss: 0.0140 - attention_mae: 0.0685\n",
            "Epoch 35: val_loss did not improve from 0.01841\n",
            "513/513 [==============================] - 287s 560ms/step - loss: 0.0140 - attention_mae: 0.0685 - val_loss: 0.0193 - val_attention_mae: 0.0753\n",
            "Epoch 36/300\n",
            "513/513 [==============================] - ETA: 0s - loss: 0.0139 - attention_mae: 0.0683\n",
            "Epoch 36: val_loss did not improve from 0.01841\n",
            "513/513 [==============================] - 287s 560ms/step - loss: 0.0139 - attention_mae: 0.0683 - val_loss: 0.0193 - val_attention_mae: 0.0747\n",
            "Epoch 37/300\n",
            "513/513 [==============================] - ETA: 0s - loss: 0.0137 - attention_mae: 0.0675\n",
            "Epoch 37: val_loss did not improve from 0.01841\n",
            "513/513 [==============================] - 287s 560ms/step - loss: 0.0137 - attention_mae: 0.0675 - val_loss: 0.0187 - val_attention_mae: 0.0735\n",
            "Epoch 38/300\n",
            "513/513 [==============================] - ETA: 0s - loss: 0.0135 - attention_mae: 0.0670\n",
            "Epoch 38: val_loss improved from 0.01841 to 0.01819, saving model to /content/drive/MyDrive/Research/TAVI/Models/MultiViewUNet_I256_B16_LR0.001_TAWSS2ECAP\n",
            "513/513 [==============================] - 288s 561ms/step - loss: 0.0135 - attention_mae: 0.0670 - val_loss: 0.0182 - val_attention_mae: 0.0728\n",
            "Epoch 39/300\n",
            "513/513 [==============================] - ETA: 0s - loss: 0.0133 - attention_mae: 0.0665\n",
            "Epoch 39: val_loss did not improve from 0.01819\n",
            "513/513 [==============================] - 287s 560ms/step - loss: 0.0133 - attention_mae: 0.0665 - val_loss: 0.0183 - val_attention_mae: 0.0733\n",
            "Epoch 40/300\n",
            "513/513 [==============================] - ETA: 0s - loss: 0.0131 - attention_mae: 0.0658\n",
            "Epoch 40: val_loss did not improve from 0.01819\n",
            "513/513 [==============================] - 287s 560ms/step - loss: 0.0131 - attention_mae: 0.0658 - val_loss: 0.0190 - val_attention_mae: 0.0747\n",
            "Epoch 41/300\n",
            "513/513 [==============================] - ETA: 0s - loss: 0.0131 - attention_mae: 0.0658\n",
            "Epoch 41: val_loss did not improve from 0.01819\n",
            "513/513 [==============================] - 287s 560ms/step - loss: 0.0131 - attention_mae: 0.0658 - val_loss: 0.0196 - val_attention_mae: 0.0767\n",
            "Epoch 42/300\n",
            "513/513 [==============================] - ETA: 0s - loss: 0.0129 - attention_mae: 0.0652\n",
            "Epoch 42: val_loss did not improve from 0.01819\n",
            "513/513 [==============================] - 287s 560ms/step - loss: 0.0129 - attention_mae: 0.0652 - val_loss: 0.0187 - val_attention_mae: 0.0735\n",
            "Epoch 43/300\n",
            "513/513 [==============================] - ETA: 0s - loss: 0.0127 - attention_mae: 0.0647\n",
            "Epoch 43: val_loss did not improve from 0.01819\n",
            "513/513 [==============================] - 287s 560ms/step - loss: 0.0127 - attention_mae: 0.0647 - val_loss: 0.0190 - val_attention_mae: 0.0733\n",
            "Epoch 44/300\n",
            "513/513 [==============================] - ETA: 0s - loss: 0.0125 - attention_mae: 0.0641\n",
            "Epoch 44: val_loss improved from 0.01819 to 0.01781, saving model to /content/drive/MyDrive/Research/TAVI/Models/MultiViewUNet_I256_B16_LR0.001_TAWSS2ECAP\n",
            "513/513 [==============================] - 287s 560ms/step - loss: 0.0125 - attention_mae: 0.0641 - val_loss: 0.0178 - val_attention_mae: 0.0710\n",
            "Epoch 45/300\n",
            "513/513 [==============================] - ETA: 0s - loss: 0.0124 - attention_mae: 0.0639\n",
            "Epoch 45: val_loss improved from 0.01781 to 0.01753, saving model to /content/drive/MyDrive/Research/TAVI/Models/MultiViewUNet_I256_B16_LR0.001_TAWSS2ECAP\n",
            "513/513 [==============================] - 288s 561ms/step - loss: 0.0124 - attention_mae: 0.0639 - val_loss: 0.0175 - val_attention_mae: 0.0699\n",
            "Epoch 46/300\n",
            "513/513 [==============================] - ETA: 0s - loss: 0.0122 - attention_mae: 0.0633\n",
            "Epoch 46: val_loss did not improve from 0.01753\n",
            "513/513 [==============================] - 287s 560ms/step - loss: 0.0122 - attention_mae: 0.0633 - val_loss: 0.0177 - val_attention_mae: 0.0699\n",
            "Epoch 47/300\n",
            "513/513 [==============================] - ETA: 0s - loss: 0.0121 - attention_mae: 0.0629\n",
            "Epoch 47: val_loss did not improve from 0.01753\n",
            "513/513 [==============================] - 287s 560ms/step - loss: 0.0121 - attention_mae: 0.0629 - val_loss: 0.0181 - val_attention_mae: 0.0705\n",
            "Epoch 48/300\n",
            "513/513 [==============================] - ETA: 0s - loss: 0.0120 - attention_mae: 0.0624\n",
            "Epoch 48: val_loss improved from 0.01753 to 0.01739, saving model to /content/drive/MyDrive/Research/TAVI/Models/MultiViewUNet_I256_B16_LR0.001_TAWSS2ECAP\n",
            "513/513 [==============================] - 288s 561ms/step - loss: 0.0120 - attention_mae: 0.0624 - val_loss: 0.0174 - val_attention_mae: 0.0691\n",
            "Epoch 49/300\n",
            "513/513 [==============================] - ETA: 0s - loss: 0.0119 - attention_mae: 0.0623\n",
            "Epoch 49: val_loss did not improve from 0.01739\n",
            "513/513 [==============================] - 287s 560ms/step - loss: 0.0119 - attention_mae: 0.0623 - val_loss: 0.0176 - val_attention_mae: 0.0691\n",
            "Epoch 50/300\n",
            "513/513 [==============================] - ETA: 0s - loss: 0.0117 - attention_mae: 0.0617\n",
            "Epoch 50: val_loss improved from 0.01739 to 0.01723, saving model to /content/drive/MyDrive/Research/TAVI/Models/MultiViewUNet_I256_B16_LR0.001_TAWSS2ECAP\n",
            "513/513 [==============================] - 287s 560ms/step - loss: 0.0117 - attention_mae: 0.0617 - val_loss: 0.0172 - val_attention_mae: 0.0678\n",
            "Epoch 51/300\n",
            "513/513 [==============================] - ETA: 0s - loss: 0.0117 - attention_mae: 0.0617\n",
            "Epoch 51: val_loss did not improve from 0.01723\n",
            "513/513 [==============================] - 287s 560ms/step - loss: 0.0117 - attention_mae: 0.0617 - val_loss: 0.0182 - val_attention_mae: 0.0710\n",
            "Epoch 52/300\n",
            "513/513 [==============================] - ETA: 0s - loss: 0.0114 - attention_mae: 0.0609\n",
            "Epoch 52: val_loss did not improve from 0.01723\n",
            "513/513 [==============================] - 287s 560ms/step - loss: 0.0114 - attention_mae: 0.0609 - val_loss: 0.0175 - val_attention_mae: 0.0683\n",
            "Epoch 53/300\n",
            "513/513 [==============================] - ETA: 0s - loss: 0.0113 - attention_mae: 0.0606\n",
            "Epoch 53: val_loss did not improve from 0.01723\n",
            "513/513 [==============================] - 287s 560ms/step - loss: 0.0113 - attention_mae: 0.0606 - val_loss: 0.0179 - val_attention_mae: 0.0704\n",
            "Epoch 54/300\n",
            "513/513 [==============================] - ETA: 0s - loss: 0.0112 - attention_mae: 0.0603\n",
            "Epoch 54: val_loss did not improve from 0.01723\n",
            "513/513 [==============================] - 287s 559ms/step - loss: 0.0112 - attention_mae: 0.0603 - val_loss: 0.0178 - val_attention_mae: 0.0692\n",
            "Epoch 55/300\n",
            "513/513 [==============================] - ETA: 0s - loss: 0.0111 - attention_mae: 0.0600\n",
            "Epoch 55: val_loss did not improve from 0.01723\n",
            "513/513 [==============================] - 287s 560ms/step - loss: 0.0111 - attention_mae: 0.0600 - val_loss: 0.0174 - val_attention_mae: 0.0687\n",
            "Epoch 56/300\n",
            "513/513 [==============================] - ETA: 0s - loss: 0.0110 - attention_mae: 0.0594\n",
            "Epoch 56: val_loss did not improve from 0.01723\n",
            "513/513 [==============================] - 287s 560ms/step - loss: 0.0110 - attention_mae: 0.0594 - val_loss: 0.0174 - val_attention_mae: 0.0692\n",
            "Epoch 57/300\n",
            "513/513 [==============================] - ETA: 0s - loss: 0.0109 - attention_mae: 0.0591\n",
            "Epoch 57: val_loss did not improve from 0.01723\n",
            "513/513 [==============================] - 287s 560ms/step - loss: 0.0109 - attention_mae: 0.0591 - val_loss: 0.0184 - val_attention_mae: 0.0710\n",
            "Epoch 58/300\n",
            "513/513 [==============================] - ETA: 0s - loss: 0.0108 - attention_mae: 0.0590\n",
            "Epoch 58: val_loss improved from 0.01723 to 0.01712, saving model to /content/drive/MyDrive/Research/TAVI/Models/MultiViewUNet_I256_B16_LR0.001_TAWSS2ECAP\n",
            "513/513 [==============================] - 288s 561ms/step - loss: 0.0108 - attention_mae: 0.0590 - val_loss: 0.0171 - val_attention_mae: 0.0679\n",
            "Epoch 59/300\n",
            "513/513 [==============================] - ETA: 0s - loss: 0.0107 - attention_mae: 0.0585\n",
            "Epoch 59: val_loss did not improve from 0.01712\n",
            "513/513 [==============================] - 287s 560ms/step - loss: 0.0107 - attention_mae: 0.0585 - val_loss: 0.0177 - val_attention_mae: 0.0677\n",
            "Epoch 60/300\n",
            "513/513 [==============================] - ETA: 0s - loss: 0.0106 - attention_mae: 0.0583\n",
            "Epoch 60: val_loss did not improve from 0.01712\n",
            "513/513 [==============================] - 287s 560ms/step - loss: 0.0106 - attention_mae: 0.0583 - val_loss: 0.0173 - val_attention_mae: 0.0688\n",
            "Epoch 61/300\n",
            "513/513 [==============================] - ETA: 0s - loss: 0.0105 - attention_mae: 0.0579\n",
            "Epoch 61: val_loss did not improve from 0.01712\n",
            "513/513 [==============================] - 287s 560ms/step - loss: 0.0105 - attention_mae: 0.0579 - val_loss: 0.0174 - val_attention_mae: 0.0682\n",
            "Epoch 62/300\n",
            "513/513 [==============================] - ETA: 0s - loss: 0.0104 - attention_mae: 0.0576\n",
            "Epoch 62: val_loss did not improve from 0.01712\n",
            "513/513 [==============================] - 287s 559ms/step - loss: 0.0104 - attention_mae: 0.0576 - val_loss: 0.0172 - val_attention_mae: 0.0676\n",
            "Epoch 63/300\n",
            "513/513 [==============================] - ETA: 0s - loss: 0.0103 - attention_mae: 0.0572\n",
            "Epoch 63: val_loss did not improve from 0.01712\n",
            "513/513 [==============================] - 287s 560ms/step - loss: 0.0103 - attention_mae: 0.0572 - val_loss: 0.0172 - val_attention_mae: 0.0679\n",
            "Epoch 64/300\n",
            "513/513 [==============================] - ETA: 0s - loss: 0.0102 - attention_mae: 0.0570\n",
            "Epoch 64: val_loss did not improve from 0.01712\n",
            "513/513 [==============================] - 287s 560ms/step - loss: 0.0102 - attention_mae: 0.0570 - val_loss: 0.0172 - val_attention_mae: 0.0669\n",
            "Epoch 65/300\n",
            "513/513 [==============================] - ETA: 0s - loss: 0.0101 - attention_mae: 0.0568\n",
            "Epoch 65: val_loss improved from 0.01712 to 0.01698, saving model to /content/drive/MyDrive/Research/TAVI/Models/MultiViewUNet_I256_B16_LR0.001_TAWSS2ECAP\n",
            "513/513 [==============================] - 287s 560ms/step - loss: 0.0101 - attention_mae: 0.0568 - val_loss: 0.0170 - val_attention_mae: 0.0669\n",
            "Epoch 66/300\n",
            "513/513 [==============================] - ETA: 0s - loss: 0.0101 - attention_mae: 0.0565\n",
            "Epoch 66: val_loss did not improve from 0.01698\n",
            "513/513 [==============================] - 287s 559ms/step - loss: 0.0101 - attention_mae: 0.0565 - val_loss: 0.0173 - val_attention_mae: 0.0663\n",
            "Epoch 67/300\n",
            "513/513 [==============================] - ETA: 0s - loss: 0.0099 - attention_mae: 0.0561\n",
            "Epoch 67: val_loss improved from 0.01698 to 0.01695, saving model to /content/drive/MyDrive/Research/TAVI/Models/MultiViewUNet_I256_B16_LR0.001_TAWSS2ECAP\n",
            "513/513 [==============================] - 287s 560ms/step - loss: 0.0099 - attention_mae: 0.0561 - val_loss: 0.0169 - val_attention_mae: 0.0658\n",
            "Epoch 68/300\n",
            "513/513 [==============================] - ETA: 0s - loss: 0.0099 - attention_mae: 0.0559\n",
            "Epoch 68: val_loss did not improve from 0.01695\n",
            "513/513 [==============================] - 287s 559ms/step - loss: 0.0099 - attention_mae: 0.0559 - val_loss: 0.0173 - val_attention_mae: 0.0659\n",
            "Epoch 69/300\n",
            "513/513 [==============================] - ETA: 0s - loss: 0.0097 - attention_mae: 0.0555\n",
            "Epoch 69: val_loss did not improve from 0.01695\n",
            "513/513 [==============================] - 287s 559ms/step - loss: 0.0097 - attention_mae: 0.0555 - val_loss: 0.0176 - val_attention_mae: 0.0684\n",
            "Epoch 70/300\n",
            "513/513 [==============================] - ETA: 0s - loss: 0.0097 - attention_mae: 0.0553\n",
            "Epoch 70: val_loss did not improve from 0.01695\n",
            "513/513 [==============================] - 287s 559ms/step - loss: 0.0097 - attention_mae: 0.0553 - val_loss: 0.0176 - val_attention_mae: 0.0674\n",
            "Epoch 71/300\n",
            "513/513 [==============================] - ETA: 0s - loss: 0.0096 - attention_mae: 0.0551\n",
            "Epoch 71: val_loss did not improve from 0.01695\n",
            "513/513 [==============================] - 287s 559ms/step - loss: 0.0096 - attention_mae: 0.0551 - val_loss: 0.0184 - val_attention_mae: 0.0686\n",
            "Epoch 72/300\n",
            "513/513 [==============================] - ETA: 0s - loss: 0.0097 - attention_mae: 0.0553\n",
            "Epoch 72: val_loss did not improve from 0.01695\n",
            "513/513 [==============================] - 287s 559ms/step - loss: 0.0097 - attention_mae: 0.0553 - val_loss: 0.0177 - val_attention_mae: 0.0675\n",
            "Epoch 73/300\n",
            "513/513 [==============================] - ETA: 0s - loss: 0.0095 - attention_mae: 0.0547\n",
            "Epoch 73: val_loss did not improve from 0.01695\n",
            "513/513 [==============================] - 287s 559ms/step - loss: 0.0095 - attention_mae: 0.0547 - val_loss: 0.0173 - val_attention_mae: 0.0665\n",
            "Epoch 74/300\n",
            "513/513 [==============================] - ETA: 0s - loss: 0.0094 - attention_mae: 0.0544\n",
            "Epoch 74: val_loss did not improve from 0.01695\n",
            "513/513 [==============================] - 287s 559ms/step - loss: 0.0094 - attention_mae: 0.0544 - val_loss: 0.0178 - val_attention_mae: 0.0668\n",
            "Epoch 75/300\n",
            "513/513 [==============================] - ETA: 0s - loss: 0.0094 - attention_mae: 0.0543\n",
            "Epoch 75: val_loss did not improve from 0.01695\n",
            "513/513 [==============================] - 287s 559ms/step - loss: 0.0094 - attention_mae: 0.0543 - val_loss: 0.0171 - val_attention_mae: 0.0667\n",
            "Epoch 76/300\n",
            "513/513 [==============================] - ETA: 0s - loss: 0.0093 - attention_mae: 0.0539\n",
            "Epoch 76: val_loss did not improve from 0.01695\n",
            "513/513 [==============================] - 287s 559ms/step - loss: 0.0093 - attention_mae: 0.0539 - val_loss: 0.0173 - val_attention_mae: 0.0659\n",
            "Epoch 77/300\n",
            "513/513 [==============================] - ETA: 0s - loss: 0.0092 - attention_mae: 0.0537\n",
            "Epoch 77: val_loss did not improve from 0.01695\n",
            "513/513 [==============================] - 287s 559ms/step - loss: 0.0092 - attention_mae: 0.0537 - val_loss: 0.0174 - val_attention_mae: 0.0661\n",
            "Epoch 78/300\n",
            "513/513 [==============================] - ETA: 0s - loss: 0.0092 - attention_mae: 0.0536\n",
            "Epoch 78: val_loss improved from 0.01695 to 0.01695, saving model to /content/drive/MyDrive/Research/TAVI/Models/MultiViewUNet_I256_B16_LR0.001_TAWSS2ECAP\n",
            "513/513 [==============================] - 287s 560ms/step - loss: 0.0092 - attention_mae: 0.0536 - val_loss: 0.0169 - val_attention_mae: 0.0651\n",
            "Epoch 79/300\n",
            "513/513 [==============================] - ETA: 0s - loss: 0.0090 - attention_mae: 0.0532\n",
            "Epoch 79: val_loss did not improve from 0.01695\n",
            "513/513 [==============================] - 287s 559ms/step - loss: 0.0090 - attention_mae: 0.0532 - val_loss: 0.0172 - val_attention_mae: 0.0672\n",
            "Epoch 80/300\n",
            "513/513 [==============================] - ETA: 0s - loss: 0.0090 - attention_mae: 0.0530\n",
            "Epoch 80: val_loss did not improve from 0.01695\n",
            "513/513 [==============================] - 287s 559ms/step - loss: 0.0090 - attention_mae: 0.0530 - val_loss: 0.0172 - val_attention_mae: 0.0654\n",
            "Epoch 81/300\n",
            "513/513 [==============================] - ETA: 0s - loss: 0.0089 - attention_mae: 0.0527\n",
            "Epoch 81: val_loss did not improve from 0.01695\n",
            "513/513 [==============================] - 287s 559ms/step - loss: 0.0089 - attention_mae: 0.0527 - val_loss: 0.0176 - val_attention_mae: 0.0661\n",
            "Epoch 82/300\n",
            "513/513 [==============================] - ETA: 0s - loss: 0.0089 - attention_mae: 0.0526\n",
            "Epoch 82: val_loss did not improve from 0.01695\n",
            "513/513 [==============================] - 287s 559ms/step - loss: 0.0089 - attention_mae: 0.0526 - val_loss: 0.0172 - val_attention_mae: 0.0652\n",
            "Epoch 83/300\n",
            "513/513 [==============================] - ETA: 0s - loss: 0.0088 - attention_mae: 0.0524\n",
            "Epoch 83: val_loss did not improve from 0.01695\n",
            "513/513 [==============================] - 287s 559ms/step - loss: 0.0088 - attention_mae: 0.0524 - val_loss: 0.0170 - val_attention_mae: 0.0652\n",
            "Epoch 84/300\n",
            "513/513 [==============================] - ETA: 0s - loss: 0.0088 - attention_mae: 0.0523\n",
            "Epoch 84: val_loss did not improve from 0.01695\n",
            "513/513 [==============================] - 287s 559ms/step - loss: 0.0088 - attention_mae: 0.0523 - val_loss: 0.0172 - val_attention_mae: 0.0660\n",
            "Epoch 85/300\n",
            "513/513 [==============================] - ETA: 0s - loss: 0.0087 - attention_mae: 0.0521\n",
            "Epoch 85: val_loss improved from 0.01695 to 0.01688, saving model to /content/drive/MyDrive/Research/TAVI/Models/MultiViewUNet_I256_B16_LR0.001_TAWSS2ECAP\n",
            "513/513 [==============================] - 287s 560ms/step - loss: 0.0087 - attention_mae: 0.0521 - val_loss: 0.0169 - val_attention_mae: 0.0636\n",
            "Epoch 86/300\n",
            "513/513 [==============================] - ETA: 0s - loss: 0.0086 - attention_mae: 0.0518\n",
            "Epoch 86: val_loss did not improve from 0.01688\n",
            "513/513 [==============================] - 287s 559ms/step - loss: 0.0086 - attention_mae: 0.0518 - val_loss: 0.0170 - val_attention_mae: 0.0648\n",
            "Epoch 87/300\n",
            "513/513 [==============================] - ETA: 0s - loss: 0.0086 - attention_mae: 0.0517\n",
            "Epoch 87: val_loss improved from 0.01688 to 0.01636, saving model to /content/drive/MyDrive/Research/TAVI/Models/MultiViewUNet_I256_B16_LR0.001_TAWSS2ECAP\n",
            "513/513 [==============================] - 287s 560ms/step - loss: 0.0086 - attention_mae: 0.0517 - val_loss: 0.0164 - val_attention_mae: 0.0627\n",
            "Epoch 88/300\n",
            "513/513 [==============================] - ETA: 0s - loss: 0.0085 - attention_mae: 0.0514\n",
            "Epoch 88: val_loss did not improve from 0.01636\n",
            "513/513 [==============================] - 287s 559ms/step - loss: 0.0085 - attention_mae: 0.0514 - val_loss: 0.0164 - val_attention_mae: 0.0632\n",
            "Epoch 89/300\n",
            "513/513 [==============================] - ETA: 0s - loss: 0.0084 - attention_mae: 0.0511\n",
            "Epoch 89: val_loss did not improve from 0.01636\n",
            "513/513 [==============================] - 287s 559ms/step - loss: 0.0084 - attention_mae: 0.0511 - val_loss: 0.0172 - val_attention_mae: 0.0657\n",
            "Epoch 90/300\n",
            "513/513 [==============================] - ETA: 0s - loss: 0.0084 - attention_mae: 0.0510\n",
            "Epoch 90: val_loss did not improve from 0.01636\n",
            "513/513 [==============================] - 287s 559ms/step - loss: 0.0084 - attention_mae: 0.0510 - val_loss: 0.0172 - val_attention_mae: 0.0650\n",
            "Epoch 91/300\n",
            "513/513 [==============================] - ETA: 0s - loss: 0.0084 - attention_mae: 0.0510\n",
            "Epoch 91: val_loss did not improve from 0.01636\n",
            "513/513 [==============================] - 287s 559ms/step - loss: 0.0084 - attention_mae: 0.0510 - val_loss: 0.0167 - val_attention_mae: 0.0639\n",
            "Epoch 92/300\n",
            "513/513 [==============================] - ETA: 0s - loss: 0.0083 - attention_mae: 0.0508\n",
            "Epoch 92: val_loss did not improve from 0.01636\n",
            "513/513 [==============================] - 287s 559ms/step - loss: 0.0083 - attention_mae: 0.0508 - val_loss: 0.0169 - val_attention_mae: 0.0654\n",
            "Epoch 93/300\n",
            "513/513 [==============================] - ETA: 0s - loss: 0.0082 - attention_mae: 0.0505\n",
            "Epoch 93: val_loss did not improve from 0.01636\n",
            "513/513 [==============================] - 287s 559ms/step - loss: 0.0082 - attention_mae: 0.0505 - val_loss: 0.0166 - val_attention_mae: 0.0634\n",
            "Epoch 94/300\n",
            "513/513 [==============================] - ETA: 0s - loss: 0.0081 - attention_mae: 0.0501\n",
            "Epoch 94: val_loss did not improve from 0.01636\n",
            "513/513 [==============================] - 287s 559ms/step - loss: 0.0081 - attention_mae: 0.0501 - val_loss: 0.0170 - val_attention_mae: 0.0649\n",
            "Epoch 95/300\n",
            "513/513 [==============================] - ETA: 0s - loss: 0.0082 - attention_mae: 0.0503\n",
            "Epoch 95: val_loss did not improve from 0.01636\n",
            "513/513 [==============================] - 287s 559ms/step - loss: 0.0082 - attention_mae: 0.0503 - val_loss: 0.0174 - val_attention_mae: 0.0650\n",
            "Epoch 96/300\n",
            "513/513 [==============================] - ETA: 0s - loss: 0.0081 - attention_mae: 0.0499\n",
            "Epoch 96: val_loss did not improve from 0.01636\n",
            "513/513 [==============================] - 286s 558ms/step - loss: 0.0081 - attention_mae: 0.0499 - val_loss: 0.0167 - val_attention_mae: 0.0632\n",
            "Epoch 97/300\n",
            "513/513 [==============================] - ETA: 0s - loss: 0.0080 - attention_mae: 0.0497\n",
            "Epoch 97: val_loss did not improve from 0.01636\n",
            "513/513 [==============================] - 287s 559ms/step - loss: 0.0080 - attention_mae: 0.0497 - val_loss: 0.0164 - val_attention_mae: 0.0637\n",
            "Epoch 98/300\n",
            "513/513 [==============================] - ETA: 0s - loss: 0.0080 - attention_mae: 0.0497\n",
            "Epoch 98: val_loss did not improve from 0.01636\n",
            "513/513 [==============================] - 287s 559ms/step - loss: 0.0080 - attention_mae: 0.0497 - val_loss: 0.0165 - val_attention_mae: 0.0637\n",
            "Epoch 99/300\n",
            "513/513 [==============================] - ETA: 0s - loss: 0.0080 - attention_mae: 0.0495\n",
            "Epoch 99: val_loss did not improve from 0.01636\n",
            "513/513 [==============================] - 286s 558ms/step - loss: 0.0080 - attention_mae: 0.0495 - val_loss: 0.0172 - val_attention_mae: 0.0651\n",
            "Epoch 100/300\n",
            "513/513 [==============================] - ETA: 0s - loss: 0.0079 - attention_mae: 0.0494\n",
            "Epoch 100: val_loss did not improve from 0.01636\n",
            "513/513 [==============================] - 287s 559ms/step - loss: 0.0079 - attention_mae: 0.0494 - val_loss: 0.0171 - val_attention_mae: 0.0649\n",
            "Epoch 101/300\n",
            "513/513 [==============================] - ETA: 0s - loss: 0.0079 - attention_mae: 0.0493\n",
            "Epoch 101: val_loss did not improve from 0.01636\n",
            "513/513 [==============================] - 287s 559ms/step - loss: 0.0079 - attention_mae: 0.0493 - val_loss: 0.0169 - val_attention_mae: 0.0647\n",
            "Epoch 102/300\n",
            "513/513 [==============================] - ETA: 0s - loss: 0.0078 - attention_mae: 0.0491\n",
            "Epoch 102: val_loss did not improve from 0.01636\n",
            "513/513 [==============================] - 287s 559ms/step - loss: 0.0078 - attention_mae: 0.0491 - val_loss: 0.0168 - val_attention_mae: 0.0636\n",
            "Epoch 103/300\n",
            "513/513 [==============================] - ETA: 0s - loss: 0.0078 - attention_mae: 0.0489\n",
            "Epoch 103: val_loss did not improve from 0.01636\n",
            "513/513 [==============================] - 287s 559ms/step - loss: 0.0078 - attention_mae: 0.0489 - val_loss: 0.0172 - val_attention_mae: 0.0647\n",
            "Epoch 104/300\n",
            "513/513 [==============================] - ETA: 0s - loss: 0.0077 - attention_mae: 0.0488\n",
            "Epoch 104: val_loss improved from 0.01636 to 0.01627, saving model to /content/drive/MyDrive/Research/TAVI/Models/MultiViewUNet_I256_B16_LR0.001_TAWSS2ECAP\n",
            "513/513 [==============================] - 287s 560ms/step - loss: 0.0077 - attention_mae: 0.0488 - val_loss: 0.0163 - val_attention_mae: 0.0632\n",
            "Epoch 105/300\n",
            "513/513 [==============================] - ETA: 0s - loss: 0.0076 - attention_mae: 0.0484\n",
            "Epoch 105: val_loss did not improve from 0.01627\n",
            "513/513 [==============================] - 287s 559ms/step - loss: 0.0076 - attention_mae: 0.0484 - val_loss: 0.0164 - val_attention_mae: 0.0629\n",
            "Epoch 106/300\n",
            "513/513 [==============================] - ETA: 0s - loss: 0.0076 - attention_mae: 0.0484\n",
            "Epoch 106: val_loss did not improve from 0.01627\n",
            "513/513 [==============================] - 287s 559ms/step - loss: 0.0076 - attention_mae: 0.0484 - val_loss: 0.0166 - val_attention_mae: 0.0628\n",
            "Epoch 107/300\n",
            "513/513 [==============================] - ETA: 0s - loss: 0.0076 - attention_mae: 0.0482\n",
            "Epoch 107: val_loss did not improve from 0.01627\n",
            "513/513 [==============================] - 287s 559ms/step - loss: 0.0076 - attention_mae: 0.0482 - val_loss: 0.0164 - val_attention_mae: 0.0631\n",
            "Epoch 108/300\n",
            "513/513 [==============================] - ETA: 0s - loss: 0.0076 - attention_mae: 0.0482\n",
            "Epoch 108: val_loss did not improve from 0.01627\n",
            "513/513 [==============================] - 287s 559ms/step - loss: 0.0076 - attention_mae: 0.0482 - val_loss: 0.0168 - val_attention_mae: 0.0641\n",
            "Epoch 109/300\n",
            "513/513 [==============================] - ETA: 0s - loss: 0.0075 - attention_mae: 0.0480\n",
            "Epoch 109: val_loss did not improve from 0.01627\n",
            "513/513 [==============================] - 287s 559ms/step - loss: 0.0075 - attention_mae: 0.0480 - val_loss: 0.0165 - val_attention_mae: 0.0629\n",
            "Epoch 110/300\n",
            "513/513 [==============================] - ETA: 0s - loss: 0.0075 - attention_mae: 0.0478\n",
            "Epoch 110: val_loss did not improve from 0.01627\n",
            "513/513 [==============================] - 287s 559ms/step - loss: 0.0075 - attention_mae: 0.0478 - val_loss: 0.0178 - val_attention_mae: 0.0667\n",
            "Epoch 111/300\n",
            "513/513 [==============================] - ETA: 0s - loss: 0.0074 - attention_mae: 0.0477\n",
            "Epoch 111: val_loss did not improve from 0.01627\n",
            "513/513 [==============================] - 287s 559ms/step - loss: 0.0074 - attention_mae: 0.0477 - val_loss: 0.0164 - val_attention_mae: 0.0621\n",
            "Epoch 112/300\n",
            "513/513 [==============================] - ETA: 0s - loss: 0.0074 - attention_mae: 0.0476\n",
            "Epoch 112: val_loss did not improve from 0.01627\n",
            "513/513 [==============================] - 287s 559ms/step - loss: 0.0074 - attention_mae: 0.0476 - val_loss: 0.0170 - val_attention_mae: 0.0642\n",
            "Epoch 113/300\n",
            "513/513 [==============================] - ETA: 0s - loss: 0.0074 - attention_mae: 0.0475\n",
            "Epoch 113: val_loss did not improve from 0.01627\n",
            "513/513 [==============================] - 287s 559ms/step - loss: 0.0074 - attention_mae: 0.0475 - val_loss: 0.0173 - val_attention_mae: 0.0640\n",
            "Epoch 114/300\n",
            "513/513 [==============================] - ETA: 0s - loss: 0.0073 - attention_mae: 0.0473\n",
            "Epoch 114: val_loss did not improve from 0.01627\n",
            "513/513 [==============================] - 287s 559ms/step - loss: 0.0073 - attention_mae: 0.0473 - val_loss: 0.0171 - val_attention_mae: 0.0643\n",
            "Epoch 115/300\n",
            "513/513 [==============================] - ETA: 0s - loss: 0.0073 - attention_mae: 0.0471\n",
            "Epoch 115: val_loss improved from 0.01627 to 0.01613, saving model to /content/drive/MyDrive/Research/TAVI/Models/MultiViewUNet_I256_B16_LR0.001_TAWSS2ECAP\n",
            "513/513 [==============================] - 287s 560ms/step - loss: 0.0073 - attention_mae: 0.0471 - val_loss: 0.0161 - val_attention_mae: 0.0622\n",
            "Epoch 116/300\n",
            "513/513 [==============================] - ETA: 0s - loss: 0.0073 - attention_mae: 0.0470\n",
            "Epoch 116: val_loss did not improve from 0.01613\n",
            "513/513 [==============================] - 287s 559ms/step - loss: 0.0073 - attention_mae: 0.0470 - val_loss: 0.0162 - val_attention_mae: 0.0620\n",
            "Epoch 117/300\n",
            "513/513 [==============================] - ETA: 0s - loss: 0.0073 - attention_mae: 0.0470\n",
            "Epoch 117: val_loss did not improve from 0.01613\n",
            "513/513 [==============================] - 287s 559ms/step - loss: 0.0073 - attention_mae: 0.0470 - val_loss: 0.0164 - val_attention_mae: 0.0620\n",
            "Epoch 118/300\n",
            "513/513 [==============================] - ETA: 0s - loss: 0.0072 - attention_mae: 0.0467\n",
            "Epoch 118: val_loss did not improve from 0.01613\n",
            "513/513 [==============================] - 287s 559ms/step - loss: 0.0072 - attention_mae: 0.0467 - val_loss: 0.0164 - val_attention_mae: 0.0632\n",
            "Epoch 119/300\n",
            "513/513 [==============================] - ETA: 0s - loss: 0.0072 - attention_mae: 0.0468\n",
            "Epoch 119: val_loss did not improve from 0.01613\n",
            "513/513 [==============================] - 287s 559ms/step - loss: 0.0072 - attention_mae: 0.0468 - val_loss: 0.0165 - val_attention_mae: 0.0620\n",
            "Epoch 120/300\n",
            "513/513 [==============================] - ETA: 0s - loss: 0.0072 - attention_mae: 0.0468\n",
            "Epoch 120: val_loss did not improve from 0.01613\n",
            "513/513 [==============================] - 286s 558ms/step - loss: 0.0072 - attention_mae: 0.0468 - val_loss: 0.0166 - val_attention_mae: 0.0621\n",
            "Epoch 121/300\n",
            "513/513 [==============================] - ETA: 0s - loss: 0.0071 - attention_mae: 0.0464\n",
            "Epoch 121: val_loss did not improve from 0.01613\n",
            "513/513 [==============================] - 287s 559ms/step - loss: 0.0071 - attention_mae: 0.0464 - val_loss: 0.0166 - val_attention_mae: 0.0623\n",
            "Epoch 122/300\n",
            "513/513 [==============================] - ETA: 0s - loss: 0.0070 - attention_mae: 0.0462\n",
            "Epoch 122: val_loss improved from 0.01613 to 0.01610, saving model to /content/drive/MyDrive/Research/TAVI/Models/MultiViewUNet_I256_B16_LR0.001_TAWSS2ECAP\n",
            "513/513 [==============================] - 287s 560ms/step - loss: 0.0070 - attention_mae: 0.0462 - val_loss: 0.0161 - val_attention_mae: 0.0613\n",
            "Epoch 123/300\n",
            "513/513 [==============================] - ETA: 0s - loss: 0.0070 - attention_mae: 0.0462\n",
            "Epoch 123: val_loss did not improve from 0.01610\n",
            "513/513 [==============================] - 287s 559ms/step - loss: 0.0070 - attention_mae: 0.0462 - val_loss: 0.0172 - val_attention_mae: 0.0654\n",
            "Epoch 124/300\n",
            "513/513 [==============================] - ETA: 0s - loss: 0.0070 - attention_mae: 0.0461\n",
            "Epoch 124: val_loss did not improve from 0.01610\n",
            "513/513 [==============================] - 286s 558ms/step - loss: 0.0070 - attention_mae: 0.0461 - val_loss: 0.0162 - val_attention_mae: 0.0616\n",
            "Epoch 125/300\n",
            "513/513 [==============================] - ETA: 0s - loss: 0.0069 - attention_mae: 0.0459\n",
            "Epoch 125: val_loss did not improve from 0.01610\n",
            "513/513 [==============================] - 286s 558ms/step - loss: 0.0069 - attention_mae: 0.0459 - val_loss: 0.0163 - val_attention_mae: 0.0613\n",
            "Epoch 126/300\n",
            "513/513 [==============================] - ETA: 0s - loss: 0.0069 - attention_mae: 0.0458\n",
            "Epoch 126: val_loss did not improve from 0.01610\n",
            "513/513 [==============================] - 287s 559ms/step - loss: 0.0069 - attention_mae: 0.0458 - val_loss: 0.0161 - val_attention_mae: 0.0625\n",
            "Epoch 127/300\n",
            "513/513 [==============================] - ETA: 0s - loss: 0.0069 - attention_mae: 0.0458\n",
            "Epoch 127: val_loss improved from 0.01610 to 0.01601, saving model to /content/drive/MyDrive/Research/TAVI/Models/MultiViewUNet_I256_B16_LR0.001_TAWSS2ECAP\n",
            "513/513 [==============================] - 287s 560ms/step - loss: 0.0069 - attention_mae: 0.0458 - val_loss: 0.0160 - val_attention_mae: 0.0607\n",
            "Epoch 128/300\n",
            "513/513 [==============================] - ETA: 0s - loss: 0.0069 - attention_mae: 0.0457\n",
            "Epoch 128: val_loss did not improve from 0.01601\n",
            "513/513 [==============================] - 287s 559ms/step - loss: 0.0069 - attention_mae: 0.0457 - val_loss: 0.0163 - val_attention_mae: 0.0623\n",
            "Epoch 129/300\n",
            "513/513 [==============================] - ETA: 0s - loss: 0.0069 - attention_mae: 0.0456\n",
            "Epoch 129: val_loss did not improve from 0.01601\n",
            "513/513 [==============================] - 287s 558ms/step - loss: 0.0069 - attention_mae: 0.0456 - val_loss: 0.0163 - val_attention_mae: 0.0616\n",
            "Epoch 130/300\n",
            "513/513 [==============================] - ETA: 0s - loss: 0.0068 - attention_mae: 0.0453\n",
            "Epoch 130: val_loss did not improve from 0.01601\n",
            "513/513 [==============================] - 286s 558ms/step - loss: 0.0068 - attention_mae: 0.0453 - val_loss: 0.0162 - val_attention_mae: 0.0611\n",
            "Epoch 131/300\n",
            "513/513 [==============================] - ETA: 0s - loss: 0.0068 - attention_mae: 0.0455\n",
            "Epoch 131: val_loss improved from 0.01601 to 0.01574, saving model to /content/drive/MyDrive/Research/TAVI/Models/MultiViewUNet_I256_B16_LR0.001_TAWSS2ECAP\n",
            "513/513 [==============================] - 287s 559ms/step - loss: 0.0068 - attention_mae: 0.0455 - val_loss: 0.0157 - val_attention_mae: 0.0608\n",
            "Epoch 132/300\n",
            "513/513 [==============================] - ETA: 0s - loss: 0.0068 - attention_mae: 0.0453\n",
            "Epoch 132: val_loss improved from 0.01574 to 0.01572, saving model to /content/drive/MyDrive/Research/TAVI/Models/MultiViewUNet_I256_B16_LR0.001_TAWSS2ECAP\n",
            "513/513 [==============================] - 287s 560ms/step - loss: 0.0068 - attention_mae: 0.0453 - val_loss: 0.0157 - val_attention_mae: 0.0598\n",
            "Epoch 133/300\n",
            "513/513 [==============================] - ETA: 0s - loss: 0.0068 - attention_mae: 0.0452\n",
            "Epoch 133: val_loss did not improve from 0.01572\n",
            "513/513 [==============================] - 287s 559ms/step - loss: 0.0068 - attention_mae: 0.0452 - val_loss: 0.0161 - val_attention_mae: 0.0611\n",
            "Epoch 134/300\n",
            "513/513 [==============================] - ETA: 0s - loss: 0.0067 - attention_mae: 0.0450\n",
            "Epoch 134: val_loss did not improve from 0.01572\n",
            "513/513 [==============================] - 287s 559ms/step - loss: 0.0067 - attention_mae: 0.0450 - val_loss: 0.0161 - val_attention_mae: 0.0600\n",
            "Epoch 135/300\n",
            "513/513 [==============================] - ETA: 0s - loss: 0.0066 - attention_mae: 0.0448\n",
            "Epoch 135: val_loss did not improve from 0.01572\n",
            "513/513 [==============================] - 287s 559ms/step - loss: 0.0066 - attention_mae: 0.0448 - val_loss: 0.0159 - val_attention_mae: 0.0613\n",
            "Epoch 136/300\n",
            "513/513 [==============================] - ETA: 0s - loss: 0.0067 - attention_mae: 0.0449\n",
            "Epoch 136: val_loss did not improve from 0.01572\n",
            "513/513 [==============================] - 287s 559ms/step - loss: 0.0067 - attention_mae: 0.0449 - val_loss: 0.0159 - val_attention_mae: 0.0603\n",
            "Epoch 137/300\n",
            "513/513 [==============================] - ETA: 0s - loss: 0.0066 - attention_mae: 0.0447\n",
            "Epoch 137: val_loss improved from 0.01572 to 0.01564, saving model to /content/drive/MyDrive/Research/TAVI/Models/MultiViewUNet_I256_B16_LR0.001_TAWSS2ECAP\n",
            "513/513 [==============================] - 287s 560ms/step - loss: 0.0066 - attention_mae: 0.0447 - val_loss: 0.0156 - val_attention_mae: 0.0606\n",
            "Epoch 138/300\n",
            "513/513 [==============================] - ETA: 0s - loss: 0.0066 - attention_mae: 0.0445\n",
            "Epoch 138: val_loss did not improve from 0.01564\n",
            "513/513 [==============================] - 287s 559ms/step - loss: 0.0066 - attention_mae: 0.0445 - val_loss: 0.0157 - val_attention_mae: 0.0598\n",
            "Epoch 139/300\n",
            "513/513 [==============================] - ETA: 0s - loss: 0.0066 - attention_mae: 0.0447\n",
            "Epoch 139: val_loss did not improve from 0.01564\n",
            "513/513 [==============================] - 287s 559ms/step - loss: 0.0066 - attention_mae: 0.0447 - val_loss: 0.0157 - val_attention_mae: 0.0596\n",
            "Epoch 140/300\n",
            "513/513 [==============================] - ETA: 0s - loss: 0.0066 - attention_mae: 0.0445\n",
            "Epoch 140: val_loss did not improve from 0.01564\n",
            "513/513 [==============================] - 286s 558ms/step - loss: 0.0066 - attention_mae: 0.0445 - val_loss: 0.0161 - val_attention_mae: 0.0609\n",
            "Epoch 141/300\n",
            "513/513 [==============================] - ETA: 0s - loss: 0.0065 - attention_mae: 0.0444\n",
            "Epoch 141: val_loss did not improve from 0.01564\n",
            "513/513 [==============================] - 287s 559ms/step - loss: 0.0065 - attention_mae: 0.0444 - val_loss: 0.0162 - val_attention_mae: 0.0605\n",
            "Epoch 142/300\n",
            "513/513 [==============================] - ETA: 0s - loss: 0.0065 - attention_mae: 0.0443\n",
            "Epoch 142: val_loss did not improve from 0.01564\n",
            "513/513 [==============================] - 287s 559ms/step - loss: 0.0065 - attention_mae: 0.0443 - val_loss: 0.0162 - val_attention_mae: 0.0610\n",
            "Epoch 143/300\n",
            "513/513 [==============================] - ETA: 0s - loss: 0.0065 - attention_mae: 0.0441\n",
            "Epoch 143: val_loss did not improve from 0.01564\n",
            "513/513 [==============================] - 287s 559ms/step - loss: 0.0065 - attention_mae: 0.0441 - val_loss: 0.0163 - val_attention_mae: 0.0613\n",
            "Epoch 144/300\n",
            "513/513 [==============================] - ETA: 0s - loss: 0.0065 - attention_mae: 0.0440\n",
            "Epoch 144: val_loss did not improve from 0.01564\n",
            "513/513 [==============================] - 287s 559ms/step - loss: 0.0065 - attention_mae: 0.0440 - val_loss: 0.0160 - val_attention_mae: 0.0603\n",
            "Epoch 145/300\n",
            "513/513 [==============================] - ETA: 0s - loss: 0.0064 - attention_mae: 0.0438\n",
            "Epoch 145: val_loss did not improve from 0.01564\n",
            "513/513 [==============================] - 287s 559ms/step - loss: 0.0064 - attention_mae: 0.0438 - val_loss: 0.0158 - val_attention_mae: 0.0600\n",
            "Epoch 146/300\n",
            "513/513 [==============================] - ETA: 0s - loss: 0.0064 - attention_mae: 0.0439\n",
            "Epoch 146: val_loss did not improve from 0.01564\n",
            "513/513 [==============================] - 287s 559ms/step - loss: 0.0064 - attention_mae: 0.0439 - val_loss: 0.0167 - val_attention_mae: 0.0615\n",
            "Epoch 147/300\n",
            "513/513 [==============================] - ETA: 0s - loss: 0.0064 - attention_mae: 0.0438\n",
            "Epoch 147: val_loss did not improve from 0.01564\n",
            "513/513 [==============================] - 287s 559ms/step - loss: 0.0064 - attention_mae: 0.0438 - val_loss: 0.0169 - val_attention_mae: 0.0622\n",
            "Epoch 148/300\n",
            "513/513 [==============================] - ETA: 0s - loss: 0.0063 - attention_mae: 0.0437\n",
            "Epoch 148: val_loss did not improve from 0.01564\n",
            "513/513 [==============================] - 287s 559ms/step - loss: 0.0063 - attention_mae: 0.0437 - val_loss: 0.0162 - val_attention_mae: 0.0609\n",
            "Epoch 149/300\n",
            "513/513 [==============================] - ETA: 0s - loss: 0.0063 - attention_mae: 0.0436\n",
            "Epoch 149: val_loss did not improve from 0.01564\n",
            "513/513 [==============================] - 286s 558ms/step - loss: 0.0063 - attention_mae: 0.0436 - val_loss: 0.0165 - val_attention_mae: 0.0614\n",
            "Epoch 150/300\n",
            "513/513 [==============================] - ETA: 0s - loss: 0.0063 - attention_mae: 0.0435\n",
            "Epoch 150: val_loss did not improve from 0.01564\n",
            "513/513 [==============================] - 287s 559ms/step - loss: 0.0063 - attention_mae: 0.0435 - val_loss: 0.0158 - val_attention_mae: 0.0601\n",
            "Epoch 151/300\n",
            "513/513 [==============================] - ETA: 0s - loss: 0.0063 - attention_mae: 0.0434\n",
            "Epoch 151: val_loss did not improve from 0.01564\n",
            "513/513 [==============================] - 287s 559ms/step - loss: 0.0063 - attention_mae: 0.0434 - val_loss: 0.0163 - val_attention_mae: 0.0608\n",
            "Epoch 152/300\n",
            "513/513 [==============================] - ETA: 0s - loss: 0.0063 - attention_mae: 0.0434\n",
            "Epoch 152: val_loss did not improve from 0.01564\n",
            "513/513 [==============================] - 287s 559ms/step - loss: 0.0063 - attention_mae: 0.0434 - val_loss: 0.0163 - val_attention_mae: 0.0603\n",
            "Epoch 153/300\n",
            "513/513 [==============================] - ETA: 0s - loss: 0.0063 - attention_mae: 0.0433\n",
            "Epoch 153: val_loss did not improve from 0.01564\n",
            "513/513 [==============================] - 287s 559ms/step - loss: 0.0063 - attention_mae: 0.0433 - val_loss: 0.0165 - val_attention_mae: 0.0609\n",
            "Epoch 154/300\n",
            "513/513 [==============================] - ETA: 0s - loss: 0.0062 - attention_mae: 0.0432\n",
            "Epoch 154: val_loss did not improve from 0.01564\n",
            "513/513 [==============================] - 287s 559ms/step - loss: 0.0062 - attention_mae: 0.0432 - val_loss: 0.0165 - val_attention_mae: 0.0612\n",
            "Epoch 155/300\n",
            "513/513 [==============================] - ETA: 0s - loss: 0.0062 - attention_mae: 0.0431\n",
            "Epoch 155: val_loss did not improve from 0.01564\n",
            "513/513 [==============================] - 287s 559ms/step - loss: 0.0062 - attention_mae: 0.0431 - val_loss: 0.0163 - val_attention_mae: 0.0611\n",
            "Epoch 156/300\n",
            "513/513 [==============================] - ETA: 0s - loss: 0.0062 - attention_mae: 0.0430\n",
            "Epoch 156: val_loss did not improve from 0.01564\n",
            "513/513 [==============================] - 287s 559ms/step - loss: 0.0062 - attention_mae: 0.0430 - val_loss: 0.0160 - val_attention_mae: 0.0605\n",
            "Epoch 157/300\n",
            "513/513 [==============================] - ETA: 0s - loss: 0.0062 - attention_mae: 0.0430\n",
            "Epoch 157: val_loss did not improve from 0.01564\n",
            "513/513 [==============================] - 286s 558ms/step - loss: 0.0062 - attention_mae: 0.0430 - val_loss: 0.0165 - val_attention_mae: 0.0613\n",
            "Epoch 158/300\n",
            "513/513 [==============================] - ETA: 0s - loss: 0.0061 - attention_mae: 0.0429\n",
            "Epoch 158: val_loss did not improve from 0.01564\n",
            "513/513 [==============================] - 287s 559ms/step - loss: 0.0061 - attention_mae: 0.0429 - val_loss: 0.0158 - val_attention_mae: 0.0597\n",
            "Epoch 159/300\n",
            "513/513 [==============================] - ETA: 0s - loss: 0.0061 - attention_mae: 0.0428\n",
            "Epoch 159: val_loss did not improve from 0.01564\n",
            "513/513 [==============================] - 287s 559ms/step - loss: 0.0061 - attention_mae: 0.0428 - val_loss: 0.0162 - val_attention_mae: 0.0601\n",
            "Epoch 160/300\n",
            "513/513 [==============================] - ETA: 0s - loss: 0.0061 - attention_mae: 0.0426\n",
            "Epoch 160: val_loss did not improve from 0.01564\n",
            "513/513 [==============================] - 287s 559ms/step - loss: 0.0061 - attention_mae: 0.0426 - val_loss: 0.0163 - val_attention_mae: 0.0610\n",
            "Epoch 161/300\n",
            "513/513 [==============================] - ETA: 0s - loss: 0.0061 - attention_mae: 0.0426\n",
            "Epoch 161: val_loss did not improve from 0.01564\n",
            "513/513 [==============================] - 287s 559ms/step - loss: 0.0061 - attention_mae: 0.0426 - val_loss: 0.0160 - val_attention_mae: 0.0596\n",
            "Epoch 162/300\n",
            "513/513 [==============================] - ETA: 0s - loss: 0.0061 - attention_mae: 0.0426\n",
            "Epoch 162: val_loss did not improve from 0.01564\n",
            "513/513 [==============================] - 287s 559ms/step - loss: 0.0061 - attention_mae: 0.0426 - val_loss: 0.0164 - val_attention_mae: 0.0607\n",
            "Epoch 163/300\n",
            "513/513 [==============================] - ETA: 0s - loss: 0.0060 - attention_mae: 0.0424\n",
            "Epoch 163: val_loss did not improve from 0.01564\n",
            "513/513 [==============================] - 287s 559ms/step - loss: 0.0060 - attention_mae: 0.0424 - val_loss: 0.0161 - val_attention_mae: 0.0604\n",
            "Epoch 164/300\n",
            "513/513 [==============================] - ETA: 0s - loss: 0.0060 - attention_mae: 0.0423\n",
            "Epoch 164: val_loss did not improve from 0.01564\n",
            "513/513 [==============================] - 287s 559ms/step - loss: 0.0060 - attention_mae: 0.0423 - val_loss: 0.0163 - val_attention_mae: 0.0605\n",
            "Epoch 165/300\n",
            "513/513 [==============================] - ETA: 0s - loss: 0.0060 - attention_mae: 0.0422\n",
            "Epoch 165: val_loss did not improve from 0.01564\n",
            "513/513 [==============================] - 287s 559ms/step - loss: 0.0060 - attention_mae: 0.0422 - val_loss: 0.0162 - val_attention_mae: 0.0598\n",
            "Epoch 166/300\n",
            "513/513 [==============================] - ETA: 0s - loss: 0.0060 - attention_mae: 0.0423\n",
            "Epoch 166: val_loss did not improve from 0.01564\n",
            "513/513 [==============================] - 287s 559ms/step - loss: 0.0060 - attention_mae: 0.0423 - val_loss: 0.0167 - val_attention_mae: 0.0605\n",
            "Epoch 167/300\n",
            "513/513 [==============================] - ETA: 0s - loss: 0.0060 - attention_mae: 0.0423\n",
            "Epoch 167: val_loss did not improve from 0.01564\n",
            "513/513 [==============================] - 287s 559ms/step - loss: 0.0060 - attention_mae: 0.0423 - val_loss: 0.0159 - val_attention_mae: 0.0595\n"
          ]
        }
      ],
      "source": [
        "history = model.fit(\n",
        "    train_batches,\n",
        "    validation_data=test_batches,\n",
        "    epochs=N_EPOCHS,\n",
        "    batch_size=BATCH_SIZE,\n",
        "    callbacks=callbacks,\n",
        "    verbose=1\n",
        ")\n"
      ]
    },
    {
      "cell_type": "markdown",
      "source": [
        "# Save Model"
      ],
      "metadata": {
        "id": "HT68Jm8AEluI"
      }
    },
    {
      "cell_type": "code",
      "source": [
        "timestamp = datetime.datetime.now().strftime('%b-%d-%I:%M%p')\n",
        "if not os.path.exists(model_path):\n",
        "    os.makedirs(model_path)\n",
        "\n",
        "model.save(os.path.join(model_path, timestamp))"
      ],
      "metadata": {
        "id": "xfUmF_1mEjXH",
        "colab": {
          "base_uri": "https://localhost:8080/"
        },
        "outputId": "7cf5a2d9-7e6c-4d51-b6ce-7784f63ff04f"
      },
      "execution_count": null,
      "outputs": [
        {
          "output_type": "stream",
          "name": "stderr",
          "text": [
            "WARNING:absl:Found untraced functions such as _jit_compiled_convolution_op, _jit_compiled_convolution_op, _jit_compiled_convolution_op, _jit_compiled_convolution_op, _jit_compiled_convolution_op while saving (showing 5 of 23). These functions will not be directly callable after loading.\n"
          ]
        }
      ]
    },
    {
      "cell_type": "markdown",
      "source": [
        "# Save Predictions"
      ],
      "metadata": {
        "id": "-PWi28iOKpXe"
      }
    },
    {
      "cell_type": "code",
      "execution_count": null,
      "metadata": {
        "id": "LLDJf93Z0YxY",
        "colab": {
          "base_uri": "https://localhost:8080/"
        },
        "outputId": "8843e3b7-461d-4eaf-9c5d-5ae25e88080f"
      },
      "outputs": [
        {
          "output_type": "stream",
          "name": "stderr",
          "text": [
            "\r0it [00:00, ?it/s]"
          ]
        },
        {
          "output_type": "stream",
          "name": "stdout",
          "text": [
            "1/1 [==============================] - 2s 2s/step\n"
          ]
        },
        {
          "output_type": "stream",
          "name": "stderr",
          "text": [
            "\r1it [00:02,  2.90s/it]"
          ]
        },
        {
          "output_type": "stream",
          "name": "stdout",
          "text": [
            "1/1 [==============================] - 0s 18ms/step\n"
          ]
        },
        {
          "output_type": "stream",
          "name": "stderr",
          "text": [
            "\r2it [00:03,  1.37s/it]"
          ]
        },
        {
          "output_type": "stream",
          "name": "stdout",
          "text": [
            "1/1 [==============================] - 0s 19ms/step\n"
          ]
        },
        {
          "output_type": "stream",
          "name": "stderr",
          "text": [
            "\r3it [00:03,  1.11it/s]"
          ]
        },
        {
          "output_type": "stream",
          "name": "stdout",
          "text": [
            "1/1 [==============================] - 0s 19ms/step\n"
          ]
        },
        {
          "output_type": "stream",
          "name": "stderr",
          "text": [
            "\r4it [00:03,  1.48it/s]"
          ]
        },
        {
          "output_type": "stream",
          "name": "stdout",
          "text": [
            "1/1 [==============================] - 0s 18ms/step\n"
          ]
        },
        {
          "output_type": "stream",
          "name": "stderr",
          "text": [
            "\r5it [00:04,  1.81it/s]"
          ]
        },
        {
          "output_type": "stream",
          "name": "stdout",
          "text": [
            "1/1 [==============================] - 0s 18ms/step\n"
          ]
        },
        {
          "output_type": "stream",
          "name": "stderr",
          "text": [
            "\r6it [00:04,  2.16it/s]"
          ]
        },
        {
          "output_type": "stream",
          "name": "stdout",
          "text": [
            "1/1 [==============================] - 0s 18ms/step\n"
          ]
        },
        {
          "output_type": "stream",
          "name": "stderr",
          "text": [
            "\r7it [00:04,  2.48it/s]"
          ]
        },
        {
          "output_type": "stream",
          "name": "stdout",
          "text": [
            "1/1 [==============================] - 0s 20ms/step\n"
          ]
        },
        {
          "output_type": "stream",
          "name": "stderr",
          "text": [
            "\r8it [00:05,  2.74it/s]"
          ]
        },
        {
          "output_type": "stream",
          "name": "stdout",
          "text": [
            "1/1 [==============================] - 0s 19ms/step\n"
          ]
        },
        {
          "output_type": "stream",
          "name": "stderr",
          "text": [
            "\r9it [00:05,  2.91it/s]"
          ]
        },
        {
          "output_type": "stream",
          "name": "stdout",
          "text": [
            "1/1 [==============================] - 0s 23ms/step\n"
          ]
        },
        {
          "output_type": "stream",
          "name": "stderr",
          "text": [
            "\r10it [00:05,  2.83it/s]"
          ]
        },
        {
          "output_type": "stream",
          "name": "stdout",
          "text": [
            "1/1 [==============================] - 0s 17ms/step\n"
          ]
        },
        {
          "output_type": "stream",
          "name": "stderr",
          "text": [
            "\r11it [00:06,  2.85it/s]"
          ]
        },
        {
          "output_type": "stream",
          "name": "stdout",
          "text": [
            "1/1 [==============================] - 0s 18ms/step\n"
          ]
        },
        {
          "output_type": "stream",
          "name": "stderr",
          "text": [
            "\r12it [00:06,  3.03it/s]"
          ]
        },
        {
          "output_type": "stream",
          "name": "stdout",
          "text": [
            "1/1 [==============================] - 0s 18ms/step\n"
          ]
        },
        {
          "output_type": "stream",
          "name": "stderr",
          "text": [
            "\r13it [00:06,  2.97it/s]"
          ]
        },
        {
          "output_type": "stream",
          "name": "stdout",
          "text": [
            "1/1 [==============================] - 0s 18ms/step\n"
          ]
        },
        {
          "output_type": "stream",
          "name": "stderr",
          "text": [
            "\r14it [00:07,  2.95it/s]"
          ]
        },
        {
          "output_type": "stream",
          "name": "stdout",
          "text": [
            "1/1 [==============================] - 0s 18ms/step\n"
          ]
        },
        {
          "output_type": "stream",
          "name": "stderr",
          "text": [
            "\r15it [00:07,  2.99it/s]"
          ]
        },
        {
          "output_type": "stream",
          "name": "stdout",
          "text": [
            "1/1 [==============================] - 0s 30ms/step\n"
          ]
        },
        {
          "output_type": "stream",
          "name": "stderr",
          "text": [
            "\r16it [00:08,  2.19it/s]"
          ]
        },
        {
          "output_type": "stream",
          "name": "stdout",
          "text": [
            "1/1 [==============================] - 0s 27ms/step\n"
          ]
        },
        {
          "output_type": "stream",
          "name": "stderr",
          "text": [
            "\r17it [00:08,  2.22it/s]"
          ]
        },
        {
          "output_type": "stream",
          "name": "stdout",
          "text": [
            "1/1 [==============================] - 0s 21ms/step\n"
          ]
        },
        {
          "output_type": "stream",
          "name": "stderr",
          "text": [
            "\r18it [00:08,  2.35it/s]"
          ]
        },
        {
          "output_type": "stream",
          "name": "stdout",
          "text": [
            "1/1 [==============================] - 0s 18ms/step\n"
          ]
        },
        {
          "output_type": "stream",
          "name": "stderr",
          "text": [
            "\r19it [00:09,  2.59it/s]"
          ]
        },
        {
          "output_type": "stream",
          "name": "stdout",
          "text": [
            "1/1 [==============================] - 0s 18ms/step\n"
          ]
        },
        {
          "output_type": "stream",
          "name": "stderr",
          "text": [
            "\r20it [00:09,  2.70it/s]"
          ]
        },
        {
          "output_type": "stream",
          "name": "stdout",
          "text": [
            "1/1 [==============================] - 0s 18ms/step\n"
          ]
        },
        {
          "output_type": "stream",
          "name": "stderr",
          "text": [
            "\r21it [00:09,  2.89it/s]"
          ]
        },
        {
          "output_type": "stream",
          "name": "stdout",
          "text": [
            "1/1 [==============================] - 0s 18ms/step\n"
          ]
        },
        {
          "output_type": "stream",
          "name": "stderr",
          "text": [
            "\r22it [00:10,  3.03it/s]"
          ]
        },
        {
          "output_type": "stream",
          "name": "stdout",
          "text": [
            "1/1 [==============================] - 0s 20ms/step\n"
          ]
        },
        {
          "output_type": "stream",
          "name": "stderr",
          "text": [
            "\r23it [00:10,  3.00it/s]"
          ]
        },
        {
          "output_type": "stream",
          "name": "stdout",
          "text": [
            "1/1 [==============================] - 0s 17ms/step\n"
          ]
        },
        {
          "output_type": "stream",
          "name": "stderr",
          "text": [
            "\r24it [00:10,  3.00it/s]"
          ]
        },
        {
          "output_type": "stream",
          "name": "stdout",
          "text": [
            "1/1 [==============================] - 0s 18ms/step\n"
          ]
        },
        {
          "output_type": "stream",
          "name": "stderr",
          "text": [
            "\r25it [00:11,  2.96it/s]"
          ]
        },
        {
          "output_type": "stream",
          "name": "stdout",
          "text": [
            "1/1 [==============================] - 0s 18ms/step\n"
          ]
        },
        {
          "output_type": "stream",
          "name": "stderr",
          "text": [
            "\r26it [00:11,  3.12it/s]"
          ]
        },
        {
          "output_type": "stream",
          "name": "stdout",
          "text": [
            "1/1 [==============================] - 0s 19ms/step\n"
          ]
        },
        {
          "output_type": "stream",
          "name": "stderr",
          "text": [
            "\r27it [00:11,  3.04it/s]"
          ]
        },
        {
          "output_type": "stream",
          "name": "stdout",
          "text": [
            "1/1 [==============================] - 0s 17ms/step\n"
          ]
        },
        {
          "output_type": "stream",
          "name": "stderr",
          "text": [
            "\r28it [00:12,  2.99it/s]"
          ]
        },
        {
          "output_type": "stream",
          "name": "stdout",
          "text": [
            "1/1 [==============================] - 0s 17ms/step\n"
          ]
        },
        {
          "output_type": "stream",
          "name": "stderr",
          "text": [
            "\r29it [00:12,  3.00it/s]"
          ]
        },
        {
          "output_type": "stream",
          "name": "stdout",
          "text": [
            "1/1 [==============================] - 0s 18ms/step\n"
          ]
        },
        {
          "output_type": "stream",
          "name": "stderr",
          "text": [
            "\r30it [00:12,  2.96it/s]"
          ]
        },
        {
          "output_type": "stream",
          "name": "stdout",
          "text": [
            "1/1 [==============================] - 0s 19ms/step\n"
          ]
        },
        {
          "output_type": "stream",
          "name": "stderr",
          "text": [
            "\r31it [00:13,  2.94it/s]"
          ]
        },
        {
          "output_type": "stream",
          "name": "stdout",
          "text": [
            "1/1 [==============================] - 0s 18ms/step\n"
          ]
        },
        {
          "output_type": "stream",
          "name": "stderr",
          "text": [
            "\r32it [00:13,  2.90it/s]"
          ]
        },
        {
          "output_type": "stream",
          "name": "stdout",
          "text": [
            "1/1 [==============================] - 0s 26ms/step\n"
          ]
        },
        {
          "output_type": "stream",
          "name": "stderr",
          "text": [
            "\r33it [00:13,  2.73it/s]"
          ]
        },
        {
          "output_type": "stream",
          "name": "stdout",
          "text": [
            "1/1 [==============================] - 0s 18ms/step\n"
          ]
        },
        {
          "output_type": "stream",
          "name": "stderr",
          "text": [
            "\r34it [00:14,  2.78it/s]"
          ]
        },
        {
          "output_type": "stream",
          "name": "stdout",
          "text": [
            "1/1 [==============================] - 0s 18ms/step\n"
          ]
        },
        {
          "output_type": "stream",
          "name": "stderr",
          "text": [
            "\r35it [00:14,  2.97it/s]"
          ]
        },
        {
          "output_type": "stream",
          "name": "stdout",
          "text": [
            "1/1 [==============================] - 0s 18ms/step\n"
          ]
        },
        {
          "output_type": "stream",
          "name": "stderr",
          "text": [
            "\r36it [00:14,  3.09it/s]"
          ]
        },
        {
          "output_type": "stream",
          "name": "stdout",
          "text": [
            "1/1 [==============================] - 0s 18ms/step\n"
          ]
        },
        {
          "output_type": "stream",
          "name": "stderr",
          "text": [
            "\r37it [00:15,  3.18it/s]"
          ]
        },
        {
          "output_type": "stream",
          "name": "stdout",
          "text": [
            "1/1 [==============================] - 0s 18ms/step\n"
          ]
        },
        {
          "output_type": "stream",
          "name": "stderr",
          "text": [
            "\r38it [00:15,  3.05it/s]"
          ]
        },
        {
          "output_type": "stream",
          "name": "stdout",
          "text": [
            "1/1 [==============================] - 0s 18ms/step\n"
          ]
        },
        {
          "output_type": "stream",
          "name": "stderr",
          "text": [
            "\r39it [00:15,  3.01it/s]"
          ]
        },
        {
          "output_type": "stream",
          "name": "stdout",
          "text": [
            "1/1 [==============================] - 0s 17ms/step\n"
          ]
        },
        {
          "output_type": "stream",
          "name": "stderr",
          "text": [
            "\r40it [00:16,  2.98it/s]"
          ]
        },
        {
          "output_type": "stream",
          "name": "stdout",
          "text": [
            "1/1 [==============================] - 0s 19ms/step\n"
          ]
        },
        {
          "output_type": "stream",
          "name": "stderr",
          "text": [
            "\r41it [00:16,  3.00it/s]"
          ]
        },
        {
          "output_type": "stream",
          "name": "stdout",
          "text": [
            "1/1 [==============================] - 0s 18ms/step\n"
          ]
        },
        {
          "output_type": "stream",
          "name": "stderr",
          "text": [
            "\r42it [00:16,  3.11it/s]"
          ]
        },
        {
          "output_type": "stream",
          "name": "stdout",
          "text": [
            "1/1 [==============================] - 0s 22ms/step\n"
          ]
        },
        {
          "output_type": "stream",
          "name": "stderr",
          "text": [
            "\r43it [00:17,  2.97it/s]"
          ]
        },
        {
          "output_type": "stream",
          "name": "stdout",
          "text": [
            "1/1 [==============================] - 0s 19ms/step\n"
          ]
        },
        {
          "output_type": "stream",
          "name": "stderr",
          "text": [
            "\r44it [00:17,  3.01it/s]"
          ]
        },
        {
          "output_type": "stream",
          "name": "stdout",
          "text": [
            "1/1 [==============================] - 0s 19ms/step\n"
          ]
        },
        {
          "output_type": "stream",
          "name": "stderr",
          "text": [
            "\r45it [00:17,  2.92it/s]"
          ]
        },
        {
          "output_type": "stream",
          "name": "stdout",
          "text": [
            "1/1 [==============================] - 0s 18ms/step\n"
          ]
        },
        {
          "output_type": "stream",
          "name": "stderr",
          "text": [
            "\r46it [00:18,  3.07it/s]"
          ]
        },
        {
          "output_type": "stream",
          "name": "stdout",
          "text": [
            "1/1 [==============================] - 0s 18ms/step\n"
          ]
        },
        {
          "output_type": "stream",
          "name": "stderr",
          "text": [
            "\r47it [00:18,  3.00it/s]"
          ]
        },
        {
          "output_type": "stream",
          "name": "stdout",
          "text": [
            "1/1 [==============================] - 0s 19ms/step\n"
          ]
        },
        {
          "output_type": "stream",
          "name": "stderr",
          "text": [
            "\r48it [00:19,  2.49it/s]"
          ]
        },
        {
          "output_type": "stream",
          "name": "stdout",
          "text": [
            "1/1 [==============================] - 0s 39ms/step\n"
          ]
        },
        {
          "output_type": "stream",
          "name": "stderr",
          "text": [
            "\r49it [00:19,  2.47it/s]"
          ]
        },
        {
          "output_type": "stream",
          "name": "stdout",
          "text": [
            "1/1 [==============================] - 0s 19ms/step\n"
          ]
        },
        {
          "output_type": "stream",
          "name": "stderr",
          "text": [
            "\r50it [00:19,  2.69it/s]"
          ]
        },
        {
          "output_type": "stream",
          "name": "stdout",
          "text": [
            "1/1 [==============================] - 0s 19ms/step\n"
          ]
        },
        {
          "output_type": "stream",
          "name": "stderr",
          "text": [
            "\r51it [00:20,  2.86it/s]"
          ]
        },
        {
          "output_type": "stream",
          "name": "stdout",
          "text": [
            "1/1 [==============================] - 0s 19ms/step\n"
          ]
        },
        {
          "output_type": "stream",
          "name": "stderr",
          "text": [
            "\r52it [00:20,  2.92it/s]"
          ]
        },
        {
          "output_type": "stream",
          "name": "stdout",
          "text": [
            "1/1 [==============================] - 0s 17ms/step\n"
          ]
        },
        {
          "output_type": "stream",
          "name": "stderr",
          "text": [
            "\r53it [00:20,  2.90it/s]"
          ]
        },
        {
          "output_type": "stream",
          "name": "stdout",
          "text": [
            "1/1 [==============================] - 0s 18ms/step\n"
          ]
        },
        {
          "output_type": "stream",
          "name": "stderr",
          "text": [
            "\r54it [00:21,  3.05it/s]"
          ]
        },
        {
          "output_type": "stream",
          "name": "stdout",
          "text": [
            "1/1 [==============================] - 0s 18ms/step\n"
          ]
        },
        {
          "output_type": "stream",
          "name": "stderr",
          "text": [
            "\r55it [00:21,  3.00it/s]"
          ]
        },
        {
          "output_type": "stream",
          "name": "stdout",
          "text": [
            "1/1 [==============================] - 0s 20ms/step\n"
          ]
        },
        {
          "output_type": "stream",
          "name": "stderr",
          "text": [
            "\r56it [00:21,  2.92it/s]"
          ]
        },
        {
          "output_type": "stream",
          "name": "stdout",
          "text": [
            "1/1 [==============================] - 0s 18ms/step\n"
          ]
        },
        {
          "output_type": "stream",
          "name": "stderr",
          "text": [
            "\r57it [00:22,  3.05it/s]"
          ]
        },
        {
          "output_type": "stream",
          "name": "stdout",
          "text": [
            "1/1 [==============================] - 0s 18ms/step\n"
          ]
        },
        {
          "output_type": "stream",
          "name": "stderr",
          "text": [
            "\r58it [00:22,  3.15it/s]"
          ]
        },
        {
          "output_type": "stream",
          "name": "stdout",
          "text": [
            "1/1 [==============================] - 0s 19ms/step\n"
          ]
        },
        {
          "output_type": "stream",
          "name": "stderr",
          "text": [
            "\r59it [00:22,  3.04it/s]"
          ]
        },
        {
          "output_type": "stream",
          "name": "stdout",
          "text": [
            "1/1 [==============================] - 0s 18ms/step\n"
          ]
        },
        {
          "output_type": "stream",
          "name": "stderr",
          "text": [
            "\r60it [00:22,  3.17it/s]"
          ]
        },
        {
          "output_type": "stream",
          "name": "stdout",
          "text": [
            "1/1 [==============================] - 0s 18ms/step\n"
          ]
        },
        {
          "output_type": "stream",
          "name": "stderr",
          "text": [
            "\r61it [00:23,  3.23it/s]"
          ]
        },
        {
          "output_type": "stream",
          "name": "stdout",
          "text": [
            "1/1 [==============================] - 0s 17ms/step\n"
          ]
        },
        {
          "output_type": "stream",
          "name": "stderr",
          "text": [
            "\r62it [00:23,  3.26it/s]"
          ]
        },
        {
          "output_type": "stream",
          "name": "stdout",
          "text": [
            "1/1 [==============================] - 0s 19ms/step\n"
          ]
        },
        {
          "output_type": "stream",
          "name": "stderr",
          "text": [
            "\r63it [00:23,  3.33it/s]"
          ]
        },
        {
          "output_type": "stream",
          "name": "stdout",
          "text": [
            "1/1 [==============================] - 0s 18ms/step\n"
          ]
        },
        {
          "output_type": "stream",
          "name": "stderr",
          "text": [
            "\r64it [00:24,  3.18it/s]"
          ]
        },
        {
          "output_type": "stream",
          "name": "stdout",
          "text": [
            "1/1 [==============================] - 0s 33ms/step\n"
          ]
        },
        {
          "output_type": "stream",
          "name": "stderr",
          "text": [
            "\r65it [00:24,  2.99it/s]"
          ]
        },
        {
          "output_type": "stream",
          "name": "stdout",
          "text": [
            "1/1 [==============================] - 0s 20ms/step\n"
          ]
        },
        {
          "output_type": "stream",
          "name": "stderr",
          "text": [
            "\r66it [00:24,  2.96it/s]"
          ]
        },
        {
          "output_type": "stream",
          "name": "stdout",
          "text": [
            "1/1 [==============================] - 0s 17ms/step\n"
          ]
        },
        {
          "output_type": "stream",
          "name": "stderr",
          "text": [
            "\r67it [00:25,  3.09it/s]"
          ]
        },
        {
          "output_type": "stream",
          "name": "stdout",
          "text": [
            "1/1 [==============================] - 0s 18ms/step\n"
          ]
        },
        {
          "output_type": "stream",
          "name": "stderr",
          "text": [
            "\r68it [00:25,  3.09it/s]"
          ]
        },
        {
          "output_type": "stream",
          "name": "stdout",
          "text": [
            "1/1 [==============================] - 0s 22ms/step\n"
          ]
        },
        {
          "output_type": "stream",
          "name": "stderr",
          "text": [
            "\r69it [00:25,  3.00it/s]"
          ]
        },
        {
          "output_type": "stream",
          "name": "stdout",
          "text": [
            "1/1 [==============================] - 0s 18ms/step\n"
          ]
        },
        {
          "output_type": "stream",
          "name": "stderr",
          "text": [
            "\r70it [00:26,  3.12it/s]"
          ]
        },
        {
          "output_type": "stream",
          "name": "stdout",
          "text": [
            "1/1 [==============================] - 0s 18ms/step\n"
          ]
        },
        {
          "output_type": "stream",
          "name": "stderr",
          "text": [
            "\r71it [00:26,  3.11it/s]"
          ]
        },
        {
          "output_type": "stream",
          "name": "stdout",
          "text": [
            "1/1 [==============================] - 0s 18ms/step\n"
          ]
        },
        {
          "output_type": "stream",
          "name": "stderr",
          "text": [
            "\r72it [00:26,  3.18it/s]"
          ]
        },
        {
          "output_type": "stream",
          "name": "stdout",
          "text": [
            "1/1 [==============================] - 0s 19ms/step\n"
          ]
        },
        {
          "output_type": "stream",
          "name": "stderr",
          "text": [
            "\r73it [00:27,  3.28it/s]"
          ]
        },
        {
          "output_type": "stream",
          "name": "stdout",
          "text": [
            "1/1 [==============================] - 0s 19ms/step\n"
          ]
        },
        {
          "output_type": "stream",
          "name": "stderr",
          "text": [
            "\r74it [00:27,  3.32it/s]"
          ]
        },
        {
          "output_type": "stream",
          "name": "stdout",
          "text": [
            "1/1 [==============================] - 0s 20ms/step\n"
          ]
        },
        {
          "output_type": "stream",
          "name": "stderr",
          "text": [
            "\r75it [00:27,  3.09it/s]"
          ]
        },
        {
          "output_type": "stream",
          "name": "stdout",
          "text": [
            "1/1 [==============================] - 0s 19ms/step\n"
          ]
        },
        {
          "output_type": "stream",
          "name": "stderr",
          "text": [
            "\r76it [00:28,  3.01it/s]"
          ]
        },
        {
          "output_type": "stream",
          "name": "stdout",
          "text": [
            "1/1 [==============================] - 0s 18ms/step\n"
          ]
        },
        {
          "output_type": "stream",
          "name": "stderr",
          "text": [
            "\r77it [00:28,  3.15it/s]"
          ]
        },
        {
          "output_type": "stream",
          "name": "stdout",
          "text": [
            "1/1 [==============================] - 0s 18ms/step\n"
          ]
        },
        {
          "output_type": "stream",
          "name": "stderr",
          "text": [
            "\r78it [00:28,  3.09it/s]"
          ]
        },
        {
          "output_type": "stream",
          "name": "stdout",
          "text": [
            "1/1 [==============================] - 0s 18ms/step\n"
          ]
        },
        {
          "output_type": "stream",
          "name": "stderr",
          "text": [
            "\r79it [00:29,  3.05it/s]"
          ]
        },
        {
          "output_type": "stream",
          "name": "stdout",
          "text": [
            "1/1 [==============================] - 0s 18ms/step\n"
          ]
        },
        {
          "output_type": "stream",
          "name": "stderr",
          "text": [
            "\r80it [00:29,  2.54it/s]"
          ]
        },
        {
          "output_type": "stream",
          "name": "stdout",
          "text": [
            "1/1 [==============================] - 0s 34ms/step\n"
          ]
        },
        {
          "output_type": "stream",
          "name": "stderr",
          "text": [
            "\r81it [00:29,  2.63it/s]"
          ]
        },
        {
          "output_type": "stream",
          "name": "stdout",
          "text": [
            "1/1 [==============================] - 0s 18ms/step\n"
          ]
        },
        {
          "output_type": "stream",
          "name": "stderr",
          "text": [
            "\r82it [00:30,  2.74it/s]"
          ]
        },
        {
          "output_type": "stream",
          "name": "stdout",
          "text": [
            "1/1 [==============================] - 0s 18ms/step\n"
          ]
        },
        {
          "output_type": "stream",
          "name": "stderr",
          "text": [
            "\r83it [00:30,  2.77it/s]"
          ]
        },
        {
          "output_type": "stream",
          "name": "stdout",
          "text": [
            "1/1 [==============================] - 0s 18ms/step\n"
          ]
        },
        {
          "output_type": "stream",
          "name": "stderr",
          "text": [
            "\r84it [00:31,  2.77it/s]"
          ]
        },
        {
          "output_type": "stream",
          "name": "stdout",
          "text": [
            "1/1 [==============================] - 0s 17ms/step\n"
          ]
        },
        {
          "output_type": "stream",
          "name": "stderr",
          "text": [
            "\r85it [00:31,  2.80it/s]"
          ]
        },
        {
          "output_type": "stream",
          "name": "stdout",
          "text": [
            "1/1 [==============================] - 0s 18ms/step\n"
          ]
        },
        {
          "output_type": "stream",
          "name": "stderr",
          "text": [
            "\r86it [00:31,  2.82it/s]"
          ]
        },
        {
          "output_type": "stream",
          "name": "stdout",
          "text": [
            "1/1 [==============================] - 0s 18ms/step\n"
          ]
        },
        {
          "output_type": "stream",
          "name": "stderr",
          "text": [
            "\r87it [00:32,  2.85it/s]"
          ]
        },
        {
          "output_type": "stream",
          "name": "stdout",
          "text": [
            "1/1 [==============================] - 0s 18ms/step\n"
          ]
        },
        {
          "output_type": "stream",
          "name": "stderr",
          "text": [
            "\r88it [00:32,  2.86it/s]"
          ]
        },
        {
          "output_type": "stream",
          "name": "stdout",
          "text": [
            "1/1 [==============================] - 0s 18ms/step\n"
          ]
        },
        {
          "output_type": "stream",
          "name": "stderr",
          "text": [
            "\r89it [00:32,  2.87it/s]"
          ]
        },
        {
          "output_type": "stream",
          "name": "stdout",
          "text": [
            "1/1 [==============================] - 0s 18ms/step\n"
          ]
        },
        {
          "output_type": "stream",
          "name": "stderr",
          "text": [
            "\r90it [00:33,  2.88it/s]"
          ]
        },
        {
          "output_type": "stream",
          "name": "stdout",
          "text": [
            "1/1 [==============================] - 0s 18ms/step\n"
          ]
        },
        {
          "output_type": "stream",
          "name": "stderr",
          "text": [
            "\r91it [00:33,  2.84it/s]"
          ]
        },
        {
          "output_type": "stream",
          "name": "stdout",
          "text": [
            "1/1 [==============================] - 0s 18ms/step\n"
          ]
        },
        {
          "output_type": "stream",
          "name": "stderr",
          "text": [
            "\r92it [00:33,  2.86it/s]"
          ]
        },
        {
          "output_type": "stream",
          "name": "stdout",
          "text": [
            "1/1 [==============================] - 0s 18ms/step\n"
          ]
        },
        {
          "output_type": "stream",
          "name": "stderr",
          "text": [
            "\r93it [00:34,  2.86it/s]"
          ]
        },
        {
          "output_type": "stream",
          "name": "stdout",
          "text": [
            "1/1 [==============================] - 0s 20ms/step\n"
          ]
        },
        {
          "output_type": "stream",
          "name": "stderr",
          "text": [
            "\r94it [00:34,  2.84it/s]"
          ]
        },
        {
          "output_type": "stream",
          "name": "stdout",
          "text": [
            "1/1 [==============================] - 0s 17ms/step\n"
          ]
        },
        {
          "output_type": "stream",
          "name": "stderr",
          "text": [
            "\r95it [00:34,  2.88it/s]"
          ]
        },
        {
          "output_type": "stream",
          "name": "stdout",
          "text": [
            "1/1 [==============================] - 0s 18ms/step\n"
          ]
        },
        {
          "output_type": "stream",
          "name": "stderr",
          "text": [
            "\r96it [00:35,  3.07it/s]"
          ]
        },
        {
          "output_type": "stream",
          "name": "stdout",
          "text": [
            "1/1 [==============================] - 0s 20ms/step\n"
          ]
        },
        {
          "output_type": "stream",
          "name": "stderr",
          "text": [
            "\r97it [00:35,  2.89it/s]"
          ]
        },
        {
          "output_type": "stream",
          "name": "stdout",
          "text": [
            "1/1 [==============================] - 0s 18ms/step\n"
          ]
        },
        {
          "output_type": "stream",
          "name": "stderr",
          "text": [
            "\r98it [00:35,  3.02it/s]"
          ]
        },
        {
          "output_type": "stream",
          "name": "stdout",
          "text": [
            "1/1 [==============================] - 0s 18ms/step\n"
          ]
        },
        {
          "output_type": "stream",
          "name": "stderr",
          "text": [
            "\r99it [00:36,  3.15it/s]"
          ]
        },
        {
          "output_type": "stream",
          "name": "stdout",
          "text": [
            "1/1 [==============================] - 0s 17ms/step\n"
          ]
        },
        {
          "output_type": "stream",
          "name": "stderr",
          "text": [
            "\r100it [00:36,  3.24it/s]"
          ]
        },
        {
          "output_type": "stream",
          "name": "stdout",
          "text": [
            "1/1 [==============================] - 0s 17ms/step\n"
          ]
        },
        {
          "output_type": "stream",
          "name": "stderr",
          "text": [
            "\r101it [00:36,  3.11it/s]"
          ]
        },
        {
          "output_type": "stream",
          "name": "stdout",
          "text": [
            "1/1 [==============================] - 0s 18ms/step\n"
          ]
        },
        {
          "output_type": "stream",
          "name": "stderr",
          "text": [
            "\r102it [00:37,  3.02it/s]"
          ]
        },
        {
          "output_type": "stream",
          "name": "stdout",
          "text": [
            "1/1 [==============================] - 0s 17ms/step\n"
          ]
        },
        {
          "output_type": "stream",
          "name": "stderr",
          "text": [
            "\r103it [00:37,  2.97it/s]"
          ]
        },
        {
          "output_type": "stream",
          "name": "stdout",
          "text": [
            "1/1 [==============================] - 0s 18ms/step\n"
          ]
        },
        {
          "output_type": "stream",
          "name": "stderr",
          "text": [
            "\r104it [00:37,  2.98it/s]"
          ]
        },
        {
          "output_type": "stream",
          "name": "stdout",
          "text": [
            "1/1 [==============================] - 0s 20ms/step\n"
          ]
        },
        {
          "output_type": "stream",
          "name": "stderr",
          "text": [
            "\r105it [00:38,  2.92it/s]"
          ]
        },
        {
          "output_type": "stream",
          "name": "stdout",
          "text": [
            "1/1 [==============================] - 0s 19ms/step\n"
          ]
        },
        {
          "output_type": "stream",
          "name": "stderr",
          "text": [
            "\r106it [00:38,  3.08it/s]"
          ]
        },
        {
          "output_type": "stream",
          "name": "stdout",
          "text": [
            "1/1 [==============================] - 0s 17ms/step\n"
          ]
        },
        {
          "output_type": "stream",
          "name": "stderr",
          "text": [
            "\r107it [00:38,  3.04it/s]"
          ]
        },
        {
          "output_type": "stream",
          "name": "stdout",
          "text": [
            "1/1 [==============================] - 0s 17ms/step\n"
          ]
        },
        {
          "output_type": "stream",
          "name": "stderr",
          "text": [
            "\r108it [00:39,  3.15it/s]"
          ]
        },
        {
          "output_type": "stream",
          "name": "stdout",
          "text": [
            "1/1 [==============================] - 0s 18ms/step\n"
          ]
        },
        {
          "output_type": "stream",
          "name": "stderr",
          "text": [
            "\r109it [00:39,  3.21it/s]"
          ]
        },
        {
          "output_type": "stream",
          "name": "stdout",
          "text": [
            "1/1 [==============================] - 0s 19ms/step\n"
          ]
        },
        {
          "output_type": "stream",
          "name": "stderr",
          "text": [
            "\r110it [00:39,  3.09it/s]"
          ]
        },
        {
          "output_type": "stream",
          "name": "stdout",
          "text": [
            "1/1 [==============================] - 0s 19ms/step\n"
          ]
        },
        {
          "output_type": "stream",
          "name": "stderr",
          "text": [
            "\r111it [00:40,  3.05it/s]"
          ]
        },
        {
          "output_type": "stream",
          "name": "stdout",
          "text": [
            "1/1 [==============================] - 0s 18ms/step\n"
          ]
        },
        {
          "output_type": "stream",
          "name": "stderr",
          "text": [
            "\r112it [00:40,  2.54it/s]"
          ]
        },
        {
          "output_type": "stream",
          "name": "stdout",
          "text": [
            "1/1 [==============================] - 0s 18ms/step\n"
          ]
        },
        {
          "output_type": "stream",
          "name": "stderr",
          "text": [
            "\r113it [00:40,  2.70it/s]"
          ]
        },
        {
          "output_type": "stream",
          "name": "stdout",
          "text": [
            "1/1 [==============================] - 0s 18ms/step\n"
          ]
        },
        {
          "output_type": "stream",
          "name": "stderr",
          "text": [
            "\r114it [00:41,  2.74it/s]"
          ]
        },
        {
          "output_type": "stream",
          "name": "stdout",
          "text": [
            "1/1 [==============================] - 0s 19ms/step\n"
          ]
        },
        {
          "output_type": "stream",
          "name": "stderr",
          "text": [
            "\r115it [00:41,  2.72it/s]"
          ]
        },
        {
          "output_type": "stream",
          "name": "stdout",
          "text": [
            "1/1 [==============================] - 0s 19ms/step\n"
          ]
        },
        {
          "output_type": "stream",
          "name": "stderr",
          "text": [
            "\r116it [00:41,  2.76it/s]"
          ]
        },
        {
          "output_type": "stream",
          "name": "stdout",
          "text": [
            "1/1 [==============================] - 0s 18ms/step\n"
          ]
        },
        {
          "output_type": "stream",
          "name": "stderr",
          "text": [
            "\r117it [00:42,  2.81it/s]"
          ]
        },
        {
          "output_type": "stream",
          "name": "stdout",
          "text": [
            "1/1 [==============================] - 0s 17ms/step\n"
          ]
        },
        {
          "output_type": "stream",
          "name": "stderr",
          "text": [
            "\r118it [00:42,  2.85it/s]"
          ]
        },
        {
          "output_type": "stream",
          "name": "stdout",
          "text": [
            "1/1 [==============================] - 0s 18ms/step\n"
          ]
        },
        {
          "output_type": "stream",
          "name": "stderr",
          "text": [
            "\r119it [00:42,  2.83it/s]"
          ]
        },
        {
          "output_type": "stream",
          "name": "stdout",
          "text": [
            "1/1 [==============================] - 0s 19ms/step\n"
          ]
        },
        {
          "output_type": "stream",
          "name": "stderr",
          "text": [
            "\r120it [00:43,  3.02it/s]"
          ]
        },
        {
          "output_type": "stream",
          "name": "stdout",
          "text": [
            "1/1 [==============================] - 0s 22ms/step\n"
          ]
        },
        {
          "output_type": "stream",
          "name": "stderr",
          "text": [
            "\r121it [00:43,  3.13it/s]"
          ]
        },
        {
          "output_type": "stream",
          "name": "stdout",
          "text": [
            "1/1 [==============================] - 0s 19ms/step\n"
          ]
        },
        {
          "output_type": "stream",
          "name": "stderr",
          "text": [
            "\r122it [00:43,  3.04it/s]"
          ]
        },
        {
          "output_type": "stream",
          "name": "stdout",
          "text": [
            "1/1 [==============================] - 0s 17ms/step\n"
          ]
        },
        {
          "output_type": "stream",
          "name": "stderr",
          "text": [
            "\r123it [00:44,  3.14it/s]"
          ]
        },
        {
          "output_type": "stream",
          "name": "stdout",
          "text": [
            "1/1 [==============================] - 0s 18ms/step\n"
          ]
        },
        {
          "output_type": "stream",
          "name": "stderr",
          "text": [
            "\r124it [00:44,  3.04it/s]"
          ]
        },
        {
          "output_type": "stream",
          "name": "stdout",
          "text": [
            "1/1 [==============================] - 0s 18ms/step\n"
          ]
        },
        {
          "output_type": "stream",
          "name": "stderr",
          "text": [
            "\r125it [00:44,  2.96it/s]"
          ]
        },
        {
          "output_type": "stream",
          "name": "stdout",
          "text": [
            "1/1 [==============================] - 0s 18ms/step\n"
          ]
        },
        {
          "output_type": "stream",
          "name": "stderr",
          "text": [
            "\r126it [00:45,  2.77it/s]"
          ]
        },
        {
          "output_type": "stream",
          "name": "stdout",
          "text": [
            "1/1 [==============================] - 0s 18ms/step\n"
          ]
        },
        {
          "output_type": "stream",
          "name": "stderr",
          "text": [
            "\r127it [00:45,  2.76it/s]"
          ]
        },
        {
          "output_type": "stream",
          "name": "stdout",
          "text": [
            "1/1 [==============================] - 0s 19ms/step\n"
          ]
        },
        {
          "output_type": "stream",
          "name": "stderr",
          "text": [
            "\r128it [00:46,  2.76it/s]"
          ]
        },
        {
          "output_type": "stream",
          "name": "stdout",
          "text": [
            "1/1 [==============================] - 0s 19ms/step\n"
          ]
        },
        {
          "output_type": "stream",
          "name": "stderr",
          "text": [
            "\r129it [00:46,  2.76it/s]"
          ]
        },
        {
          "output_type": "stream",
          "name": "stdout",
          "text": [
            "1/1 [==============================] - 0s 17ms/step\n"
          ]
        },
        {
          "output_type": "stream",
          "name": "stderr",
          "text": [
            "\r130it [00:46,  2.77it/s]"
          ]
        },
        {
          "output_type": "stream",
          "name": "stdout",
          "text": [
            "1/1 [==============================] - 0s 18ms/step\n"
          ]
        },
        {
          "output_type": "stream",
          "name": "stderr",
          "text": [
            "\r131it [00:47,  2.78it/s]"
          ]
        },
        {
          "output_type": "stream",
          "name": "stdout",
          "text": [
            "1/1 [==============================] - 0s 19ms/step\n"
          ]
        },
        {
          "output_type": "stream",
          "name": "stderr",
          "text": [
            "\r132it [00:47,  2.75it/s]"
          ]
        },
        {
          "output_type": "stream",
          "name": "stdout",
          "text": [
            "1/1 [==============================] - 0s 22ms/step\n"
          ]
        },
        {
          "output_type": "stream",
          "name": "stderr",
          "text": [
            "\r133it [00:47,  2.74it/s]"
          ]
        },
        {
          "output_type": "stream",
          "name": "stdout",
          "text": [
            "1/1 [==============================] - 0s 19ms/step\n"
          ]
        },
        {
          "output_type": "stream",
          "name": "stderr",
          "text": [
            "\r134it [00:48,  2.75it/s]"
          ]
        },
        {
          "output_type": "stream",
          "name": "stdout",
          "text": [
            "1/1 [==============================] - 0s 18ms/step\n"
          ]
        },
        {
          "output_type": "stream",
          "name": "stderr",
          "text": [
            "\r135it [00:48,  2.93it/s]"
          ]
        },
        {
          "output_type": "stream",
          "name": "stdout",
          "text": [
            "1/1 [==============================] - 0s 19ms/step\n"
          ]
        },
        {
          "output_type": "stream",
          "name": "stderr",
          "text": [
            "\r136it [00:48,  3.06it/s]"
          ]
        },
        {
          "output_type": "stream",
          "name": "stdout",
          "text": [
            "1/1 [==============================] - 0s 20ms/step\n"
          ]
        },
        {
          "output_type": "stream",
          "name": "stderr",
          "text": [
            "\r137it [00:49,  3.04it/s]"
          ]
        },
        {
          "output_type": "stream",
          "name": "stdout",
          "text": [
            "1/1 [==============================] - 0s 18ms/step\n"
          ]
        },
        {
          "output_type": "stream",
          "name": "stderr",
          "text": [
            "\r138it [00:49,  3.12it/s]"
          ]
        },
        {
          "output_type": "stream",
          "name": "stdout",
          "text": [
            "1/1 [==============================] - 0s 18ms/step\n"
          ]
        },
        {
          "output_type": "stream",
          "name": "stderr",
          "text": [
            "\r139it [00:49,  3.15it/s]"
          ]
        },
        {
          "output_type": "stream",
          "name": "stdout",
          "text": [
            "1/1 [==============================] - 0s 18ms/step\n"
          ]
        },
        {
          "output_type": "stream",
          "name": "stderr",
          "text": [
            "\r140it [00:50,  3.04it/s]"
          ]
        },
        {
          "output_type": "stream",
          "name": "stdout",
          "text": [
            "1/1 [==============================] - 0s 18ms/step\n"
          ]
        },
        {
          "output_type": "stream",
          "name": "stderr",
          "text": [
            "\r141it [00:50,  2.99it/s]"
          ]
        },
        {
          "output_type": "stream",
          "name": "stdout",
          "text": [
            "1/1 [==============================] - 0s 18ms/step\n"
          ]
        },
        {
          "output_type": "stream",
          "name": "stderr",
          "text": [
            "\r142it [00:50,  3.06it/s]"
          ]
        },
        {
          "output_type": "stream",
          "name": "stdout",
          "text": [
            "1/1 [==============================] - 0s 18ms/step\n"
          ]
        },
        {
          "output_type": "stream",
          "name": "stderr",
          "text": [
            "\r143it [00:51,  3.05it/s]"
          ]
        },
        {
          "output_type": "stream",
          "name": "stdout",
          "text": [
            "1/1 [==============================] - 0s 18ms/step\n"
          ]
        },
        {
          "output_type": "stream",
          "name": "stderr",
          "text": [
            "\r144it [00:51,  2.64it/s]"
          ]
        },
        {
          "output_type": "stream",
          "name": "stdout",
          "text": [
            "1/1 [==============================] - 0s 18ms/step\n"
          ]
        },
        {
          "output_type": "stream",
          "name": "stderr",
          "text": [
            "\r145it [00:51,  2.69it/s]"
          ]
        },
        {
          "output_type": "stream",
          "name": "stdout",
          "text": [
            "1/1 [==============================] - 0s 19ms/step\n"
          ]
        },
        {
          "output_type": "stream",
          "name": "stderr",
          "text": [
            "\r146it [00:52,  2.74it/s]"
          ]
        },
        {
          "output_type": "stream",
          "name": "stdout",
          "text": [
            "1/1 [==============================] - 0s 18ms/step\n"
          ]
        },
        {
          "output_type": "stream",
          "name": "stderr",
          "text": [
            "\r147it [00:52,  2.78it/s]"
          ]
        },
        {
          "output_type": "stream",
          "name": "stdout",
          "text": [
            "1/1 [==============================] - 0s 20ms/step\n"
          ]
        },
        {
          "output_type": "stream",
          "name": "stderr",
          "text": [
            "\r148it [00:53,  2.79it/s]"
          ]
        },
        {
          "output_type": "stream",
          "name": "stdout",
          "text": [
            "1/1 [==============================] - 0s 18ms/step\n"
          ]
        },
        {
          "output_type": "stream",
          "name": "stderr",
          "text": [
            "\r149it [00:53,  2.80it/s]"
          ]
        },
        {
          "output_type": "stream",
          "name": "stdout",
          "text": [
            "1/1 [==============================] - 0s 18ms/step\n"
          ]
        },
        {
          "output_type": "stream",
          "name": "stderr",
          "text": [
            "\r150it [00:53,  2.99it/s]"
          ]
        },
        {
          "output_type": "stream",
          "name": "stdout",
          "text": [
            "1/1 [==============================] - 0s 19ms/step\n"
          ]
        },
        {
          "output_type": "stream",
          "name": "stderr",
          "text": [
            "\r151it [00:53,  3.12it/s]"
          ]
        },
        {
          "output_type": "stream",
          "name": "stdout",
          "text": [
            "1/1 [==============================] - 0s 18ms/step\n"
          ]
        },
        {
          "output_type": "stream",
          "name": "stderr",
          "text": [
            "\r152it [00:54,  3.05it/s]"
          ]
        },
        {
          "output_type": "stream",
          "name": "stdout",
          "text": [
            "1/1 [==============================] - 0s 18ms/step\n"
          ]
        },
        {
          "output_type": "stream",
          "name": "stderr",
          "text": [
            "\r153it [00:54,  2.99it/s]"
          ]
        },
        {
          "output_type": "stream",
          "name": "stdout",
          "text": [
            "1/1 [==============================] - 0s 18ms/step\n"
          ]
        },
        {
          "output_type": "stream",
          "name": "stderr",
          "text": [
            "\r154it [00:54,  2.96it/s]"
          ]
        },
        {
          "output_type": "stream",
          "name": "stdout",
          "text": [
            "1/1 [==============================] - 0s 19ms/step\n"
          ]
        },
        {
          "output_type": "stream",
          "name": "stderr",
          "text": [
            "\r155it [00:55,  3.11it/s]"
          ]
        },
        {
          "output_type": "stream",
          "name": "stdout",
          "text": [
            "1/1 [==============================] - 0s 18ms/step\n"
          ]
        },
        {
          "output_type": "stream",
          "name": "stderr",
          "text": [
            "\r156it [00:55,  3.02it/s]"
          ]
        },
        {
          "output_type": "stream",
          "name": "stdout",
          "text": [
            "1/1 [==============================] - 0s 18ms/step\n"
          ]
        },
        {
          "output_type": "stream",
          "name": "stderr",
          "text": [
            "\r157it [00:55,  2.96it/s]"
          ]
        },
        {
          "output_type": "stream",
          "name": "stdout",
          "text": [
            "1/1 [==============================] - 0s 22ms/step\n"
          ]
        },
        {
          "output_type": "stream",
          "name": "stderr",
          "text": [
            "\r158it [00:56,  2.91it/s]"
          ]
        },
        {
          "output_type": "stream",
          "name": "stdout",
          "text": [
            "1/1 [==============================] - 0s 17ms/step\n"
          ]
        },
        {
          "output_type": "stream",
          "name": "stderr",
          "text": [
            "\r159it [00:56,  2.89it/s]"
          ]
        },
        {
          "output_type": "stream",
          "name": "stdout",
          "text": [
            "1/1 [==============================] - 0s 18ms/step\n"
          ]
        },
        {
          "output_type": "stream",
          "name": "stderr",
          "text": [
            "\r160it [00:57,  2.89it/s]"
          ]
        },
        {
          "output_type": "stream",
          "name": "stdout",
          "text": [
            "1/1 [==============================] - 0s 18ms/step\n"
          ]
        },
        {
          "output_type": "stream",
          "name": "stderr",
          "text": [
            "\r161it [00:57,  2.86it/s]"
          ]
        },
        {
          "output_type": "stream",
          "name": "stdout",
          "text": [
            "1/1 [==============================] - 0s 19ms/step\n"
          ]
        },
        {
          "output_type": "stream",
          "name": "stderr",
          "text": [
            "\r162it [00:57,  2.83it/s]"
          ]
        },
        {
          "output_type": "stream",
          "name": "stdout",
          "text": [
            "1/1 [==============================] - 0s 20ms/step\n"
          ]
        },
        {
          "output_type": "stream",
          "name": "stderr",
          "text": [
            "\r163it [00:58,  2.99it/s]"
          ]
        },
        {
          "output_type": "stream",
          "name": "stdout",
          "text": [
            "1/1 [==============================] - 0s 18ms/step\n"
          ]
        },
        {
          "output_type": "stream",
          "name": "stderr",
          "text": [
            "\r164it [00:58,  3.10it/s]"
          ]
        },
        {
          "output_type": "stream",
          "name": "stdout",
          "text": [
            "1/1 [==============================] - 0s 19ms/step\n"
          ]
        },
        {
          "output_type": "stream",
          "name": "stderr",
          "text": [
            "\r165it [00:58,  3.13it/s]"
          ]
        },
        {
          "output_type": "stream",
          "name": "stdout",
          "text": [
            "1/1 [==============================] - 0s 18ms/step\n"
          ]
        },
        {
          "output_type": "stream",
          "name": "stderr",
          "text": [
            "\r166it [00:58,  3.07it/s]"
          ]
        },
        {
          "output_type": "stream",
          "name": "stdout",
          "text": [
            "1/1 [==============================] - 0s 18ms/step\n"
          ]
        },
        {
          "output_type": "stream",
          "name": "stderr",
          "text": [
            "\r167it [00:59,  3.11it/s]"
          ]
        },
        {
          "output_type": "stream",
          "name": "stdout",
          "text": [
            "1/1 [==============================] - 0s 18ms/step\n"
          ]
        },
        {
          "output_type": "stream",
          "name": "stderr",
          "text": [
            "\r168it [00:59,  3.04it/s]"
          ]
        },
        {
          "output_type": "stream",
          "name": "stdout",
          "text": [
            "1/1 [==============================] - 0s 20ms/step\n"
          ]
        },
        {
          "output_type": "stream",
          "name": "stderr",
          "text": [
            "\r169it [00:59,  2.99it/s]"
          ]
        },
        {
          "output_type": "stream",
          "name": "stdout",
          "text": [
            "1/1 [==============================] - 0s 18ms/step\n"
          ]
        },
        {
          "output_type": "stream",
          "name": "stderr",
          "text": [
            "\r170it [01:00,  2.98it/s]"
          ]
        },
        {
          "output_type": "stream",
          "name": "stdout",
          "text": [
            "1/1 [==============================] - 0s 18ms/step\n"
          ]
        },
        {
          "output_type": "stream",
          "name": "stderr",
          "text": [
            "\r171it [01:00,  2.93it/s]"
          ]
        },
        {
          "output_type": "stream",
          "name": "stdout",
          "text": [
            "1/1 [==============================] - 0s 18ms/step\n"
          ]
        },
        {
          "output_type": "stream",
          "name": "stderr",
          "text": [
            "\r172it [01:01,  2.91it/s]"
          ]
        },
        {
          "output_type": "stream",
          "name": "stdout",
          "text": [
            "1/1 [==============================] - 0s 18ms/step\n"
          ]
        },
        {
          "output_type": "stream",
          "name": "stderr",
          "text": [
            "\r173it [01:01,  2.88it/s]"
          ]
        },
        {
          "output_type": "stream",
          "name": "stdout",
          "text": [
            "1/1 [==============================] - 0s 18ms/step\n"
          ]
        },
        {
          "output_type": "stream",
          "name": "stderr",
          "text": [
            "\r174it [01:01,  2.88it/s]"
          ]
        },
        {
          "output_type": "stream",
          "name": "stdout",
          "text": [
            "1/1 [==============================] - 0s 18ms/step\n"
          ]
        },
        {
          "output_type": "stream",
          "name": "stderr",
          "text": [
            "\r175it [01:02,  3.05it/s]"
          ]
        },
        {
          "output_type": "stream",
          "name": "stdout",
          "text": [
            "1/1 [==============================] - 0s 17ms/step\n"
          ]
        },
        {
          "output_type": "stream",
          "name": "stderr",
          "text": [
            "\r176it [01:02,  2.65it/s]"
          ]
        },
        {
          "output_type": "stream",
          "name": "stdout",
          "text": [
            "1/1 [==============================] - 0s 18ms/step\n"
          ]
        },
        {
          "output_type": "stream",
          "name": "stderr",
          "text": [
            "\r177it [01:02,  2.63it/s]"
          ]
        },
        {
          "output_type": "stream",
          "name": "stdout",
          "text": [
            "1/1 [==============================] - 0s 18ms/step\n"
          ]
        },
        {
          "output_type": "stream",
          "name": "stderr",
          "text": [
            "\r178it [01:03,  2.71it/s]"
          ]
        },
        {
          "output_type": "stream",
          "name": "stdout",
          "text": [
            "1/1 [==============================] - 0s 18ms/step\n"
          ]
        },
        {
          "output_type": "stream",
          "name": "stderr",
          "text": [
            "\r179it [01:03,  2.89it/s]"
          ]
        },
        {
          "output_type": "stream",
          "name": "stdout",
          "text": [
            "1/1 [==============================] - 0s 21ms/step\n"
          ]
        },
        {
          "output_type": "stream",
          "name": "stderr",
          "text": [
            "\r180it [01:03,  2.82it/s]"
          ]
        },
        {
          "output_type": "stream",
          "name": "stdout",
          "text": [
            "1/1 [==============================] - 0s 18ms/step\n"
          ]
        },
        {
          "output_type": "stream",
          "name": "stderr",
          "text": [
            "\r181it [01:04,  3.00it/s]"
          ]
        },
        {
          "output_type": "stream",
          "name": "stdout",
          "text": [
            "1/1 [==============================] - 0s 19ms/step\n"
          ]
        },
        {
          "output_type": "stream",
          "name": "stderr",
          "text": [
            "\r182it [01:04,  2.95it/s]"
          ]
        },
        {
          "output_type": "stream",
          "name": "stdout",
          "text": [
            "1/1 [==============================] - 0s 18ms/step\n"
          ]
        },
        {
          "output_type": "stream",
          "name": "stderr",
          "text": [
            "\r183it [01:04,  3.07it/s]"
          ]
        },
        {
          "output_type": "stream",
          "name": "stdout",
          "text": [
            "1/1 [==============================] - 0s 19ms/step\n"
          ]
        },
        {
          "output_type": "stream",
          "name": "stderr",
          "text": [
            "\r184it [01:05,  2.99it/s]"
          ]
        },
        {
          "output_type": "stream",
          "name": "stdout",
          "text": [
            "1/1 [==============================] - 0s 17ms/step\n"
          ]
        },
        {
          "output_type": "stream",
          "name": "stderr",
          "text": [
            "\r185it [01:05,  2.94it/s]"
          ]
        },
        {
          "output_type": "stream",
          "name": "stdout",
          "text": [
            "1/1 [==============================] - 0s 18ms/step\n"
          ]
        },
        {
          "output_type": "stream",
          "name": "stderr",
          "text": [
            "\r186it [01:05,  2.93it/s]"
          ]
        },
        {
          "output_type": "stream",
          "name": "stdout",
          "text": [
            "1/1 [==============================] - 0s 20ms/step\n"
          ]
        },
        {
          "output_type": "stream",
          "name": "stderr",
          "text": [
            "\r187it [01:06,  2.91it/s]"
          ]
        },
        {
          "output_type": "stream",
          "name": "stdout",
          "text": [
            "1/1 [==============================] - 0s 17ms/step\n"
          ]
        },
        {
          "output_type": "stream",
          "name": "stderr",
          "text": [
            "\r188it [01:06,  2.84it/s]"
          ]
        },
        {
          "output_type": "stream",
          "name": "stdout",
          "text": [
            "1/1 [==============================] - 0s 18ms/step\n"
          ]
        },
        {
          "output_type": "stream",
          "name": "stderr",
          "text": [
            "\r189it [01:06,  2.95it/s]"
          ]
        },
        {
          "output_type": "stream",
          "name": "stdout",
          "text": [
            "1/1 [==============================] - 0s 18ms/step\n"
          ]
        },
        {
          "output_type": "stream",
          "name": "stderr",
          "text": [
            "\r190it [01:07,  3.10it/s]"
          ]
        },
        {
          "output_type": "stream",
          "name": "stdout",
          "text": [
            "1/1 [==============================] - 0s 19ms/step\n"
          ]
        },
        {
          "output_type": "stream",
          "name": "stderr",
          "text": [
            "\r191it [01:07,  2.98it/s]"
          ]
        },
        {
          "output_type": "stream",
          "name": "stdout",
          "text": [
            "1/1 [==============================] - 0s 19ms/step\n"
          ]
        },
        {
          "output_type": "stream",
          "name": "stderr",
          "text": [
            "\r192it [01:07,  2.98it/s]"
          ]
        },
        {
          "output_type": "stream",
          "name": "stdout",
          "text": [
            "1/1 [==============================] - 0s 19ms/step\n"
          ]
        },
        {
          "output_type": "stream",
          "name": "stderr",
          "text": [
            "\r193it [01:08,  3.04it/s]"
          ]
        },
        {
          "output_type": "stream",
          "name": "stdout",
          "text": [
            "1/1 [==============================] - 0s 19ms/step\n"
          ]
        },
        {
          "output_type": "stream",
          "name": "stderr",
          "text": [
            "\r194it [01:08,  2.98it/s]"
          ]
        },
        {
          "output_type": "stream",
          "name": "stdout",
          "text": [
            "1/1 [==============================] - 0s 18ms/step\n"
          ]
        },
        {
          "output_type": "stream",
          "name": "stderr",
          "text": [
            "\r195it [01:08,  2.98it/s]"
          ]
        },
        {
          "output_type": "stream",
          "name": "stdout",
          "text": [
            "1/1 [==============================] - 0s 18ms/step\n"
          ]
        },
        {
          "output_type": "stream",
          "name": "stderr",
          "text": [
            "\r196it [01:09,  2.96it/s]"
          ]
        },
        {
          "output_type": "stream",
          "name": "stdout",
          "text": [
            "1/1 [==============================] - 0s 17ms/step\n"
          ]
        },
        {
          "output_type": "stream",
          "name": "stderr",
          "text": [
            "\r197it [01:09,  2.93it/s]"
          ]
        },
        {
          "output_type": "stream",
          "name": "stdout",
          "text": [
            "1/1 [==============================] - 0s 18ms/step\n"
          ]
        },
        {
          "output_type": "stream",
          "name": "stderr",
          "text": [
            "\r198it [01:09,  2.91it/s]"
          ]
        },
        {
          "output_type": "stream",
          "name": "stdout",
          "text": [
            "1/1 [==============================] - 0s 18ms/step\n"
          ]
        },
        {
          "output_type": "stream",
          "name": "stderr",
          "text": [
            "\r199it [01:10,  3.05it/s]"
          ]
        },
        {
          "output_type": "stream",
          "name": "stdout",
          "text": [
            "1/1 [==============================] - 0s 20ms/step\n"
          ]
        },
        {
          "output_type": "stream",
          "name": "stderr",
          "text": [
            "\r200it [01:10,  3.00it/s]"
          ]
        },
        {
          "output_type": "stream",
          "name": "stdout",
          "text": [
            "1/1 [==============================] - 0s 18ms/step\n"
          ]
        },
        {
          "output_type": "stream",
          "name": "stderr",
          "text": [
            "\r201it [01:10,  3.02it/s]"
          ]
        },
        {
          "output_type": "stream",
          "name": "stdout",
          "text": [
            "1/1 [==============================] - 0s 18ms/step\n"
          ]
        },
        {
          "output_type": "stream",
          "name": "stderr",
          "text": [
            "\r202it [01:11,  2.98it/s]"
          ]
        },
        {
          "output_type": "stream",
          "name": "stdout",
          "text": [
            "1/1 [==============================] - 0s 19ms/step\n"
          ]
        },
        {
          "output_type": "stream",
          "name": "stderr",
          "text": [
            "\r203it [01:11,  2.96it/s]"
          ]
        },
        {
          "output_type": "stream",
          "name": "stdout",
          "text": [
            "1/1 [==============================] - 0s 18ms/step\n"
          ]
        },
        {
          "output_type": "stream",
          "name": "stderr",
          "text": [
            "\r204it [01:11,  3.08it/s]"
          ]
        },
        {
          "output_type": "stream",
          "name": "stdout",
          "text": [
            "1/1 [==============================] - 0s 17ms/step\n"
          ]
        },
        {
          "output_type": "stream",
          "name": "stderr",
          "text": [
            "\r205it [01:12,  3.05it/s]"
          ]
        },
        {
          "output_type": "stream",
          "name": "stdout",
          "text": [
            "1/1 [==============================] - 0s 17ms/step\n"
          ]
        },
        {
          "output_type": "stream",
          "name": "stderr",
          "text": [
            "\r206it [01:12,  3.00it/s]"
          ]
        },
        {
          "output_type": "stream",
          "name": "stdout",
          "text": [
            "1/1 [==============================] - 0s 18ms/step\n"
          ]
        },
        {
          "output_type": "stream",
          "name": "stderr",
          "text": [
            "\r207it [01:12,  2.98it/s]"
          ]
        },
        {
          "output_type": "stream",
          "name": "stdout",
          "text": [
            "1/1 [==============================] - 0s 19ms/step\n"
          ]
        },
        {
          "output_type": "stream",
          "name": "stderr",
          "text": [
            "\r208it [01:13,  2.58it/s]"
          ]
        },
        {
          "output_type": "stream",
          "name": "stdout",
          "text": [
            "1/1 [==============================] - 0s 18ms/step\n"
          ]
        },
        {
          "output_type": "stream",
          "name": "stderr",
          "text": [
            "\r209it [01:13,  2.76it/s]"
          ]
        },
        {
          "output_type": "stream",
          "name": "stdout",
          "text": [
            "1/1 [==============================] - 0s 18ms/step\n"
          ]
        },
        {
          "output_type": "stream",
          "name": "stderr",
          "text": [
            "\r210it [01:14,  2.92it/s]"
          ]
        },
        {
          "output_type": "stream",
          "name": "stdout",
          "text": [
            "1/1 [==============================] - 0s 18ms/step\n"
          ]
        },
        {
          "output_type": "stream",
          "name": "stderr",
          "text": [
            "\r211it [01:14,  2.85it/s]"
          ]
        },
        {
          "output_type": "stream",
          "name": "stdout",
          "text": [
            "1/1 [==============================] - 0s 19ms/step\n"
          ]
        },
        {
          "output_type": "stream",
          "name": "stderr",
          "text": [
            "\r212it [01:14,  2.82it/s]"
          ]
        },
        {
          "output_type": "stream",
          "name": "stdout",
          "text": [
            "1/1 [==============================] - 0s 17ms/step\n"
          ]
        },
        {
          "output_type": "stream",
          "name": "stderr",
          "text": [
            "\r213it [01:15,  2.96it/s]"
          ]
        },
        {
          "output_type": "stream",
          "name": "stdout",
          "text": [
            "1/1 [==============================] - 0s 18ms/step\n"
          ]
        },
        {
          "output_type": "stream",
          "name": "stderr",
          "text": [
            "\r214it [01:15,  2.94it/s]"
          ]
        },
        {
          "output_type": "stream",
          "name": "stdout",
          "text": [
            "1/1 [==============================] - 0s 19ms/step\n"
          ]
        },
        {
          "output_type": "stream",
          "name": "stderr",
          "text": [
            "\r215it [01:15,  2.92it/s]"
          ]
        },
        {
          "output_type": "stream",
          "name": "stdout",
          "text": [
            "1/1 [==============================] - 0s 18ms/step\n"
          ]
        },
        {
          "output_type": "stream",
          "name": "stderr",
          "text": [
            "\r216it [01:16,  2.90it/s]"
          ]
        },
        {
          "output_type": "stream",
          "name": "stdout",
          "text": [
            "1/1 [==============================] - 0s 18ms/step\n"
          ]
        },
        {
          "output_type": "stream",
          "name": "stderr",
          "text": [
            "\r217it [01:16,  3.05it/s]"
          ]
        },
        {
          "output_type": "stream",
          "name": "stdout",
          "text": [
            "1/1 [==============================] - 0s 20ms/step\n"
          ]
        },
        {
          "output_type": "stream",
          "name": "stderr",
          "text": [
            "\r218it [01:16,  3.16it/s]"
          ]
        },
        {
          "output_type": "stream",
          "name": "stdout",
          "text": [
            "1/1 [==============================] - 0s 17ms/step\n"
          ]
        },
        {
          "output_type": "stream",
          "name": "stderr",
          "text": [
            "\r219it [01:17,  3.14it/s]"
          ]
        },
        {
          "output_type": "stream",
          "name": "stdout",
          "text": [
            "1/1 [==============================] - 0s 18ms/step\n"
          ]
        },
        {
          "output_type": "stream",
          "name": "stderr",
          "text": [
            "\r220it [01:17,  3.23it/s]"
          ]
        },
        {
          "output_type": "stream",
          "name": "stdout",
          "text": [
            "1/1 [==============================] - 0s 19ms/step\n"
          ]
        },
        {
          "output_type": "stream",
          "name": "stderr",
          "text": [
            "\r221it [01:17,  3.06it/s]"
          ]
        },
        {
          "output_type": "stream",
          "name": "stdout",
          "text": [
            "1/1 [==============================] - 0s 20ms/step\n"
          ]
        },
        {
          "output_type": "stream",
          "name": "stderr",
          "text": [
            "\r222it [01:18,  3.00it/s]"
          ]
        },
        {
          "output_type": "stream",
          "name": "stdout",
          "text": [
            "1/1 [==============================] - 0s 18ms/step\n"
          ]
        },
        {
          "output_type": "stream",
          "name": "stderr",
          "text": [
            "\r223it [01:18,  3.13it/s]"
          ]
        },
        {
          "output_type": "stream",
          "name": "stdout",
          "text": [
            "1/1 [==============================] - 0s 19ms/step\n"
          ]
        },
        {
          "output_type": "stream",
          "name": "stderr",
          "text": [
            "\r224it [01:18,  3.05it/s]"
          ]
        },
        {
          "output_type": "stream",
          "name": "stdout",
          "text": [
            "1/1 [==============================] - 0s 17ms/step\n"
          ]
        },
        {
          "output_type": "stream",
          "name": "stderr",
          "text": [
            "\r225it [01:18,  3.03it/s]"
          ]
        },
        {
          "output_type": "stream",
          "name": "stdout",
          "text": [
            "1/1 [==============================] - 0s 17ms/step\n"
          ]
        },
        {
          "output_type": "stream",
          "name": "stderr",
          "text": [
            "\r226it [01:19,  3.15it/s]"
          ]
        },
        {
          "output_type": "stream",
          "name": "stdout",
          "text": [
            "1/1 [==============================] - 0s 19ms/step\n"
          ]
        },
        {
          "output_type": "stream",
          "name": "stderr",
          "text": [
            "\r227it [01:19,  3.13it/s]"
          ]
        },
        {
          "output_type": "stream",
          "name": "stdout",
          "text": [
            "1/1 [==============================] - 0s 20ms/step\n"
          ]
        },
        {
          "output_type": "stream",
          "name": "stderr",
          "text": [
            "\r228it [01:19,  3.18it/s]"
          ]
        },
        {
          "output_type": "stream",
          "name": "stdout",
          "text": [
            "1/1 [==============================] - 0s 18ms/step\n"
          ]
        },
        {
          "output_type": "stream",
          "name": "stderr",
          "text": [
            "\r229it [01:20,  3.08it/s]"
          ]
        },
        {
          "output_type": "stream",
          "name": "stdout",
          "text": [
            "1/1 [==============================] - 0s 17ms/step\n"
          ]
        },
        {
          "output_type": "stream",
          "name": "stderr",
          "text": [
            "\r230it [01:20,  3.02it/s]"
          ]
        },
        {
          "output_type": "stream",
          "name": "stdout",
          "text": [
            "1/1 [==============================] - 0s 18ms/step\n"
          ]
        },
        {
          "output_type": "stream",
          "name": "stderr",
          "text": [
            "\r231it [01:20,  2.97it/s]"
          ]
        },
        {
          "output_type": "stream",
          "name": "stdout",
          "text": [
            "1/1 [==============================] - 0s 18ms/step\n"
          ]
        },
        {
          "output_type": "stream",
          "name": "stderr",
          "text": [
            "\r232it [01:21,  3.03it/s]"
          ]
        },
        {
          "output_type": "stream",
          "name": "stdout",
          "text": [
            "1/1 [==============================] - 0s 19ms/step\n"
          ]
        },
        {
          "output_type": "stream",
          "name": "stderr",
          "text": [
            "\r233it [01:21,  3.15it/s]"
          ]
        },
        {
          "output_type": "stream",
          "name": "stdout",
          "text": [
            "1/1 [==============================] - 0s 20ms/step\n"
          ]
        },
        {
          "output_type": "stream",
          "name": "stderr",
          "text": [
            "\r234it [01:21,  3.24it/s]"
          ]
        },
        {
          "output_type": "stream",
          "name": "stdout",
          "text": [
            "1/1 [==============================] - 0s 18ms/step\n"
          ]
        },
        {
          "output_type": "stream",
          "name": "stderr",
          "text": [
            "\r235it [01:22,  3.16it/s]"
          ]
        },
        {
          "output_type": "stream",
          "name": "stdout",
          "text": [
            "1/1 [==============================] - 0s 18ms/step\n"
          ]
        },
        {
          "output_type": "stream",
          "name": "stderr",
          "text": [
            "\r236it [01:22,  3.08it/s]"
          ]
        },
        {
          "output_type": "stream",
          "name": "stdout",
          "text": [
            "1/1 [==============================] - 0s 17ms/step\n"
          ]
        },
        {
          "output_type": "stream",
          "name": "stderr",
          "text": [
            "\r237it [01:22,  2.97it/s]"
          ]
        },
        {
          "output_type": "stream",
          "name": "stdout",
          "text": [
            "1/1 [==============================] - 0s 18ms/step\n"
          ]
        },
        {
          "output_type": "stream",
          "name": "stderr",
          "text": [
            "\r238it [01:23,  3.12it/s]"
          ]
        },
        {
          "output_type": "stream",
          "name": "stdout",
          "text": [
            "1/1 [==============================] - 0s 20ms/step\n"
          ]
        },
        {
          "output_type": "stream",
          "name": "stderr",
          "text": [
            "\r239it [01:23,  3.04it/s]"
          ]
        },
        {
          "output_type": "stream",
          "name": "stdout",
          "text": [
            "1/1 [==============================] - 0s 18ms/step\n"
          ]
        },
        {
          "output_type": "stream",
          "name": "stderr",
          "text": [
            "\r240it [01:24,  2.54it/s]"
          ]
        },
        {
          "output_type": "stream",
          "name": "stdout",
          "text": [
            "1/1 [==============================] - 0s 18ms/step\n"
          ]
        },
        {
          "output_type": "stream",
          "name": "stderr",
          "text": [
            "\r241it [01:24,  2.61it/s]"
          ]
        },
        {
          "output_type": "stream",
          "name": "stdout",
          "text": [
            "1/1 [==============================] - 0s 18ms/step\n"
          ]
        },
        {
          "output_type": "stream",
          "name": "stderr",
          "text": [
            "\r242it [01:24,  2.77it/s]"
          ]
        },
        {
          "output_type": "stream",
          "name": "stdout",
          "text": [
            "1/1 [==============================] - 0s 19ms/step\n"
          ]
        },
        {
          "output_type": "stream",
          "name": "stderr",
          "text": [
            "\r243it [01:25,  2.91it/s]"
          ]
        },
        {
          "output_type": "stream",
          "name": "stdout",
          "text": [
            "1/1 [==============================] - 0s 22ms/step\n"
          ]
        },
        {
          "output_type": "stream",
          "name": "stderr",
          "text": [
            "\r244it [01:25,  2.89it/s]"
          ]
        },
        {
          "output_type": "stream",
          "name": "stdout",
          "text": [
            "1/1 [==============================] - 0s 18ms/step\n"
          ]
        },
        {
          "output_type": "stream",
          "name": "stderr",
          "text": [
            "\r245it [01:25,  2.91it/s]"
          ]
        },
        {
          "output_type": "stream",
          "name": "stdout",
          "text": [
            "1/1 [==============================] - 0s 19ms/step\n"
          ]
        },
        {
          "output_type": "stream",
          "name": "stderr",
          "text": [
            "\r246it [01:25,  3.06it/s]"
          ]
        },
        {
          "output_type": "stream",
          "name": "stdout",
          "text": [
            "1/1 [==============================] - 0s 19ms/step\n"
          ]
        },
        {
          "output_type": "stream",
          "name": "stderr",
          "text": [
            "\r247it [01:26,  2.98it/s]"
          ]
        },
        {
          "output_type": "stream",
          "name": "stdout",
          "text": [
            "1/1 [==============================] - 0s 17ms/step\n"
          ]
        },
        {
          "output_type": "stream",
          "name": "stderr",
          "text": [
            "\r248it [01:26,  3.12it/s]"
          ]
        },
        {
          "output_type": "stream",
          "name": "stdout",
          "text": [
            "1/1 [==============================] - 0s 18ms/step\n"
          ]
        },
        {
          "output_type": "stream",
          "name": "stderr",
          "text": [
            "\r249it [01:26,  3.05it/s]"
          ]
        },
        {
          "output_type": "stream",
          "name": "stdout",
          "text": [
            "1/1 [==============================] - 0s 18ms/step\n"
          ]
        },
        {
          "output_type": "stream",
          "name": "stderr",
          "text": [
            "\r250it [01:27,  2.98it/s]"
          ]
        },
        {
          "output_type": "stream",
          "name": "stdout",
          "text": [
            "1/1 [==============================] - 0s 19ms/step\n"
          ]
        },
        {
          "output_type": "stream",
          "name": "stderr",
          "text": [
            "\r251it [01:27,  2.94it/s]"
          ]
        },
        {
          "output_type": "stream",
          "name": "stdout",
          "text": [
            "1/1 [==============================] - 0s 19ms/step\n"
          ]
        },
        {
          "output_type": "stream",
          "name": "stderr",
          "text": [
            "\r252it [01:28,  2.92it/s]"
          ]
        },
        {
          "output_type": "stream",
          "name": "stdout",
          "text": [
            "1/1 [==============================] - 0s 18ms/step\n"
          ]
        },
        {
          "output_type": "stream",
          "name": "stderr",
          "text": [
            "\r253it [01:28,  3.02it/s]"
          ]
        },
        {
          "output_type": "stream",
          "name": "stdout",
          "text": [
            "1/1 [==============================] - 0s 18ms/step\n"
          ]
        },
        {
          "output_type": "stream",
          "name": "stderr",
          "text": [
            "\r254it [01:28,  3.00it/s]"
          ]
        },
        {
          "output_type": "stream",
          "name": "stdout",
          "text": [
            "1/1 [==============================] - 0s 18ms/step\n"
          ]
        },
        {
          "output_type": "stream",
          "name": "stderr",
          "text": [
            "\r255it [01:28,  3.15it/s]"
          ]
        },
        {
          "output_type": "stream",
          "name": "stdout",
          "text": [
            "1/1 [==============================] - 0s 18ms/step\n"
          ]
        },
        {
          "output_type": "stream",
          "name": "stderr",
          "text": [
            "\r256it [01:29,  3.05it/s]"
          ]
        },
        {
          "output_type": "stream",
          "name": "stdout",
          "text": [
            "1/1 [==============================] - 0s 17ms/step\n"
          ]
        },
        {
          "output_type": "stream",
          "name": "stderr",
          "text": [
            "\r257it [01:29,  2.98it/s]"
          ]
        },
        {
          "output_type": "stream",
          "name": "stdout",
          "text": [
            "1/1 [==============================] - 0s 21ms/step\n"
          ]
        },
        {
          "output_type": "stream",
          "name": "stderr",
          "text": [
            "\r258it [01:30,  2.94it/s]"
          ]
        },
        {
          "output_type": "stream",
          "name": "stdout",
          "text": [
            "1/1 [==============================] - 0s 18ms/step\n"
          ]
        },
        {
          "output_type": "stream",
          "name": "stderr",
          "text": [
            "\r259it [01:30,  2.92it/s]"
          ]
        },
        {
          "output_type": "stream",
          "name": "stdout",
          "text": [
            "1/1 [==============================] - 0s 18ms/step\n"
          ]
        },
        {
          "output_type": "stream",
          "name": "stderr",
          "text": [
            "\r260it [01:30,  3.08it/s]"
          ]
        },
        {
          "output_type": "stream",
          "name": "stdout",
          "text": [
            "1/1 [==============================] - 0s 18ms/step\n"
          ]
        },
        {
          "output_type": "stream",
          "name": "stderr",
          "text": [
            "\r261it [01:31,  2.97it/s]"
          ]
        },
        {
          "output_type": "stream",
          "name": "stdout",
          "text": [
            "1/1 [==============================] - 0s 20ms/step\n"
          ]
        },
        {
          "output_type": "stream",
          "name": "stderr",
          "text": [
            "\r262it [01:31,  2.95it/s]"
          ]
        },
        {
          "output_type": "stream",
          "name": "stdout",
          "text": [
            "1/1 [==============================] - 0s 18ms/step\n"
          ]
        },
        {
          "output_type": "stream",
          "name": "stderr",
          "text": [
            "\r263it [01:31,  2.94it/s]"
          ]
        },
        {
          "output_type": "stream",
          "name": "stdout",
          "text": [
            "1/1 [==============================] - 0s 17ms/step\n"
          ]
        },
        {
          "output_type": "stream",
          "name": "stderr",
          "text": [
            "\r264it [01:32,  2.93it/s]"
          ]
        },
        {
          "output_type": "stream",
          "name": "stdout",
          "text": [
            "1/1 [==============================] - 0s 18ms/step\n"
          ]
        },
        {
          "output_type": "stream",
          "name": "stderr",
          "text": [
            "\r265it [01:32,  3.09it/s]"
          ]
        },
        {
          "output_type": "stream",
          "name": "stdout",
          "text": [
            "1/1 [==============================] - 0s 19ms/step\n"
          ]
        },
        {
          "output_type": "stream",
          "name": "stderr",
          "text": [
            "\r266it [01:32,  3.03it/s]"
          ]
        },
        {
          "output_type": "stream",
          "name": "stdout",
          "text": [
            "1/1 [==============================] - 0s 20ms/step\n"
          ]
        },
        {
          "output_type": "stream",
          "name": "stderr",
          "text": [
            "\r267it [01:32,  3.16it/s]"
          ]
        },
        {
          "output_type": "stream",
          "name": "stdout",
          "text": [
            "1/1 [==============================] - 0s 18ms/step\n"
          ]
        },
        {
          "output_type": "stream",
          "name": "stderr",
          "text": [
            "\r268it [01:33,  3.06it/s]"
          ]
        },
        {
          "output_type": "stream",
          "name": "stdout",
          "text": [
            "1/1 [==============================] - 0s 18ms/step\n"
          ]
        },
        {
          "output_type": "stream",
          "name": "stderr",
          "text": [
            "\r269it [01:33,  3.13it/s]"
          ]
        },
        {
          "output_type": "stream",
          "name": "stdout",
          "text": [
            "1/1 [==============================] - 0s 18ms/step\n"
          ]
        },
        {
          "output_type": "stream",
          "name": "stderr",
          "text": [
            "\r270it [01:33,  3.18it/s]"
          ]
        },
        {
          "output_type": "stream",
          "name": "stdout",
          "text": [
            "1/1 [==============================] - 0s 18ms/step\n"
          ]
        },
        {
          "output_type": "stream",
          "name": "stderr",
          "text": [
            "\r271it [01:34,  3.28it/s]"
          ]
        },
        {
          "output_type": "stream",
          "name": "stdout",
          "text": [
            "1/1 [==============================] - 0s 18ms/step\n"
          ]
        },
        {
          "output_type": "stream",
          "name": "stderr",
          "text": [
            "\r272it [01:34,  2.78it/s]"
          ]
        },
        {
          "output_type": "stream",
          "name": "stdout",
          "text": [
            "1/1 [==============================] - 0s 18ms/step\n"
          ]
        },
        {
          "output_type": "stream",
          "name": "stderr",
          "text": [
            "\r273it [01:35,  2.83it/s]"
          ]
        },
        {
          "output_type": "stream",
          "name": "stdout",
          "text": [
            "1/1 [==============================] - 0s 17ms/step\n"
          ]
        },
        {
          "output_type": "stream",
          "name": "stderr",
          "text": [
            "\r274it [01:35,  2.85it/s]"
          ]
        },
        {
          "output_type": "stream",
          "name": "stdout",
          "text": [
            "1/1 [==============================] - 0s 18ms/step\n"
          ]
        },
        {
          "output_type": "stream",
          "name": "stderr",
          "text": [
            "\r275it [01:35,  2.90it/s]"
          ]
        },
        {
          "output_type": "stream",
          "name": "stdout",
          "text": [
            "1/1 [==============================] - 0s 18ms/step\n"
          ]
        },
        {
          "output_type": "stream",
          "name": "stderr",
          "text": [
            "\r276it [01:35,  3.03it/s]"
          ]
        },
        {
          "output_type": "stream",
          "name": "stdout",
          "text": [
            "1/1 [==============================] - 0s 18ms/step\n"
          ]
        },
        {
          "output_type": "stream",
          "name": "stderr",
          "text": [
            "\r277it [01:36,  2.98it/s]"
          ]
        },
        {
          "output_type": "stream",
          "name": "stdout",
          "text": [
            "1/1 [==============================] - 0s 18ms/step\n"
          ]
        },
        {
          "output_type": "stream",
          "name": "stderr",
          "text": [
            "\r278it [01:36,  2.91it/s]"
          ]
        },
        {
          "output_type": "stream",
          "name": "stdout",
          "text": [
            "1/1 [==============================] - 0s 19ms/step\n"
          ]
        },
        {
          "output_type": "stream",
          "name": "stderr",
          "text": [
            "\r279it [01:37,  2.91it/s]"
          ]
        },
        {
          "output_type": "stream",
          "name": "stdout",
          "text": [
            "1/1 [==============================] - 0s 19ms/step\n"
          ]
        },
        {
          "output_type": "stream",
          "name": "stderr",
          "text": [
            "\r280it [01:37,  2.90it/s]"
          ]
        },
        {
          "output_type": "stream",
          "name": "stdout",
          "text": [
            "1/1 [==============================] - 0s 19ms/step\n"
          ]
        },
        {
          "output_type": "stream",
          "name": "stderr",
          "text": [
            "\r281it [01:37,  2.86it/s]"
          ]
        },
        {
          "output_type": "stream",
          "name": "stdout",
          "text": [
            "1/1 [==============================] - 0s 21ms/step\n"
          ]
        },
        {
          "output_type": "stream",
          "name": "stderr",
          "text": [
            "\r282it [01:38,  3.00it/s]"
          ]
        },
        {
          "output_type": "stream",
          "name": "stdout",
          "text": [
            "1/1 [==============================] - 0s 19ms/step\n"
          ]
        },
        {
          "output_type": "stream",
          "name": "stderr",
          "text": [
            "\r283it [01:38,  3.10it/s]"
          ]
        },
        {
          "output_type": "stream",
          "name": "stdout",
          "text": [
            "1/1 [==============================] - 0s 18ms/step\n"
          ]
        },
        {
          "output_type": "stream",
          "name": "stderr",
          "text": [
            "\r284it [01:38,  3.04it/s]"
          ]
        },
        {
          "output_type": "stream",
          "name": "stdout",
          "text": [
            "1/1 [==============================] - 0s 19ms/step\n"
          ]
        },
        {
          "output_type": "stream",
          "name": "stderr",
          "text": [
            "\r285it [01:39,  2.94it/s]"
          ]
        },
        {
          "output_type": "stream",
          "name": "stdout",
          "text": [
            "1/1 [==============================] - 0s 18ms/step\n"
          ]
        },
        {
          "output_type": "stream",
          "name": "stderr",
          "text": [
            "\r286it [01:39,  2.93it/s]"
          ]
        },
        {
          "output_type": "stream",
          "name": "stdout",
          "text": [
            "1/1 [==============================] - 0s 18ms/step\n"
          ]
        },
        {
          "output_type": "stream",
          "name": "stderr",
          "text": [
            "\r287it [01:39,  2.92it/s]"
          ]
        },
        {
          "output_type": "stream",
          "name": "stdout",
          "text": [
            "1/1 [==============================] - 0s 18ms/step\n"
          ]
        },
        {
          "output_type": "stream",
          "name": "stderr",
          "text": [
            "\r288it [01:40,  3.06it/s]"
          ]
        },
        {
          "output_type": "stream",
          "name": "stdout",
          "text": [
            "1/1 [==============================] - 0s 18ms/step\n"
          ]
        },
        {
          "output_type": "stream",
          "name": "stderr",
          "text": [
            "\r289it [01:40,  3.16it/s]"
          ]
        },
        {
          "output_type": "stream",
          "name": "stdout",
          "text": [
            "1/1 [==============================] - 0s 19ms/step\n"
          ]
        },
        {
          "output_type": "stream",
          "name": "stderr",
          "text": [
            "\r290it [01:40,  3.21it/s]"
          ]
        },
        {
          "output_type": "stream",
          "name": "stdout",
          "text": [
            "1/1 [==============================] - 0s 17ms/step\n"
          ]
        },
        {
          "output_type": "stream",
          "name": "stderr",
          "text": [
            "\r291it [01:40,  3.10it/s]"
          ]
        },
        {
          "output_type": "stream",
          "name": "stdout",
          "text": [
            "1/1 [==============================] - 0s 18ms/step\n"
          ]
        },
        {
          "output_type": "stream",
          "name": "stderr",
          "text": [
            "\r292it [01:41,  3.20it/s]"
          ]
        },
        {
          "output_type": "stream",
          "name": "stdout",
          "text": [
            "1/1 [==============================] - 0s 17ms/step\n"
          ]
        },
        {
          "output_type": "stream",
          "name": "stderr",
          "text": [
            "\r293it [01:41,  3.30it/s]"
          ]
        },
        {
          "output_type": "stream",
          "name": "stdout",
          "text": [
            "1/1 [==============================] - 0s 19ms/step\n"
          ]
        },
        {
          "output_type": "stream",
          "name": "stderr",
          "text": [
            "\r294it [01:41,  3.16it/s]"
          ]
        },
        {
          "output_type": "stream",
          "name": "stdout",
          "text": [
            "1/1 [==============================] - 0s 18ms/step\n"
          ]
        },
        {
          "output_type": "stream",
          "name": "stderr",
          "text": [
            "\r295it [01:42,  3.13it/s]"
          ]
        },
        {
          "output_type": "stream",
          "name": "stdout",
          "text": [
            "1/1 [==============================] - 0s 18ms/step\n"
          ]
        },
        {
          "output_type": "stream",
          "name": "stderr",
          "text": [
            "\r296it [01:42,  3.24it/s]"
          ]
        },
        {
          "output_type": "stream",
          "name": "stdout",
          "text": [
            "1/1 [==============================] - 0s 17ms/step\n"
          ]
        },
        {
          "output_type": "stream",
          "name": "stderr",
          "text": [
            "\r297it [01:42,  3.17it/s]"
          ]
        },
        {
          "output_type": "stream",
          "name": "stdout",
          "text": [
            "1/1 [==============================] - 0s 20ms/step\n"
          ]
        },
        {
          "output_type": "stream",
          "name": "stderr",
          "text": [
            "\r298it [01:43,  3.06it/s]"
          ]
        },
        {
          "output_type": "stream",
          "name": "stdout",
          "text": [
            "1/1 [==============================] - 0s 18ms/step\n"
          ]
        },
        {
          "output_type": "stream",
          "name": "stderr",
          "text": [
            "\r299it [01:43,  3.02it/s]"
          ]
        },
        {
          "output_type": "stream",
          "name": "stdout",
          "text": [
            "1/1 [==============================] - 0s 19ms/step\n"
          ]
        },
        {
          "output_type": "stream",
          "name": "stderr",
          "text": [
            "\r300it [01:43,  3.00it/s]"
          ]
        },
        {
          "output_type": "stream",
          "name": "stdout",
          "text": [
            "1/1 [==============================] - 0s 18ms/step\n"
          ]
        },
        {
          "output_type": "stream",
          "name": "stderr",
          "text": [
            "\r301it [01:44,  3.14it/s]"
          ]
        },
        {
          "output_type": "stream",
          "name": "stdout",
          "text": [
            "1/1 [==============================] - 0s 18ms/step\n"
          ]
        },
        {
          "output_type": "stream",
          "name": "stderr",
          "text": [
            "\r302it [01:44,  3.17it/s]"
          ]
        },
        {
          "output_type": "stream",
          "name": "stdout",
          "text": [
            "1/1 [==============================] - 0s 19ms/step\n"
          ]
        },
        {
          "output_type": "stream",
          "name": "stderr",
          "text": [
            "\r303it [01:44,  3.07it/s]"
          ]
        },
        {
          "output_type": "stream",
          "name": "stdout",
          "text": [
            "1/1 [==============================] - 0s 18ms/step\n"
          ]
        },
        {
          "output_type": "stream",
          "name": "stderr",
          "text": [
            "\r304it [01:45,  2.52it/s]"
          ]
        },
        {
          "output_type": "stream",
          "name": "stdout",
          "text": [
            "1/1 [==============================] - 0s 18ms/step\n"
          ]
        },
        {
          "output_type": "stream",
          "name": "stderr",
          "text": [
            "\r305it [01:45,  2.62it/s]"
          ]
        },
        {
          "output_type": "stream",
          "name": "stdout",
          "text": [
            "1/1 [==============================] - 0s 19ms/step\n"
          ]
        },
        {
          "output_type": "stream",
          "name": "stderr",
          "text": [
            "\r306it [01:46,  2.81it/s]"
          ]
        },
        {
          "output_type": "stream",
          "name": "stdout",
          "text": [
            "1/1 [==============================] - 0s 18ms/step\n"
          ]
        },
        {
          "output_type": "stream",
          "name": "stderr",
          "text": [
            "\r307it [01:46,  2.89it/s]"
          ]
        },
        {
          "output_type": "stream",
          "name": "stdout",
          "text": [
            "1/1 [==============================] - 0s 18ms/step\n"
          ]
        },
        {
          "output_type": "stream",
          "name": "stderr",
          "text": [
            "\r308it [01:46,  3.05it/s]"
          ]
        },
        {
          "output_type": "stream",
          "name": "stdout",
          "text": [
            "1/1 [==============================] - 0s 18ms/step\n"
          ]
        },
        {
          "output_type": "stream",
          "name": "stderr",
          "text": [
            "\r309it [01:46,  2.96it/s]"
          ]
        },
        {
          "output_type": "stream",
          "name": "stdout",
          "text": [
            "1/1 [==============================] - 0s 19ms/step\n"
          ]
        },
        {
          "output_type": "stream",
          "name": "stderr",
          "text": [
            "\r310it [01:47,  3.02it/s]"
          ]
        },
        {
          "output_type": "stream",
          "name": "stdout",
          "text": [
            "1/1 [==============================] - 0s 19ms/step\n"
          ]
        },
        {
          "output_type": "stream",
          "name": "stderr",
          "text": [
            "\r311it [01:47,  2.93it/s]"
          ]
        },
        {
          "output_type": "stream",
          "name": "stdout",
          "text": [
            "1/1 [==============================] - 0s 19ms/step\n"
          ]
        },
        {
          "output_type": "stream",
          "name": "stderr",
          "text": [
            "312it [02:21,  2.20it/s]\n"
          ]
        }
      ],
      "source": [
        "test_ds_unbatched = test_batches.unbatch()\n",
        "\n",
        "pred_path = os.path.join(PRED_PATH, EXP_NAME, timestamp)\n",
        "if not os.path.exists(pred_path):\n",
        "    os.makedirs(pred_path)\n",
        "\n",
        "metrics = pd.DataFrame()\n",
        "\n",
        "for idx, (input, target) in enumerate(tqdm(test_ds_unbatched)):\n",
        "\n",
        "    # if not idx % 10 == 0:\n",
        "    #     continue\n",
        "\n",
        "    target = tf.squeeze(target).numpy()\n",
        "    prediction = tf.squeeze(\n",
        "        model.predict(\n",
        "            tf.expand_dims(input, axis=0)\n",
        "            )\n",
        "        ).numpy()\n",
        "    prediction[target == 1.0] = 1.0\n",
        "\n",
        "    # _metrics = pd.DataFrame([[\n",
        "    #         rmse(target, prediction),\n",
        "    #         psnr(target, prediction),\n",
        "    #         ssim(target, prediction),\n",
        "    #         fsim(target, prediction),\n",
        "    #         issm(target, prediction),\n",
        "    #         sre(target, prediction),\n",
        "    #         sam(target, prediction),\n",
        "    #         uiq(target, prediction),\n",
        "    #     ]],\n",
        "    #     columns=[\"RMSE\", \"PSNR\", \"SSIM\", \"FSIM\", \"ISSM\", \"SRE\", \"SAM\", \"UIQ\"]\n",
        "    # )\n",
        "\n",
        "    # metrics = pd.concat([metrics, _metrics], axis=0)\n",
        "\n",
        "    plt.figure(figsize=(7, 7))\n",
        "    plt.imshow(target)\n",
        "    plt.axis(\"off\")\n",
        "    plt.tight_layout()\n",
        "    plt.savefig(os.path.join(pred_path, f\"{idx}_T.png\"))\n",
        "    plt.close()\n",
        "\n",
        "    plt.figure(figsize=(7, 7))\n",
        "    plt.imshow(prediction)\n",
        "    plt.axis(\"off\")\n",
        "    plt.tight_layout()\n",
        "    plt.savefig(os.path.join(pred_path, f\"{idx}_P.png\"))\n",
        "    plt.close()\n",
        "\n",
        "\n",
        "    # plt.figure(figsize=(12, 4))\n",
        "    # plt.subplot(1, 3, 1)\n",
        "    # plt.imshow(input)\n",
        "    # plt.axis(\"off\")\n",
        "    # plt.title(\"INPUT\")\n",
        "    # plt.subplot(1, 3, 2)\n",
        "    # plt.imshow(target)\n",
        "    # plt.axis(\"off\")\n",
        "    # plt.title(\"TARGET\")\n",
        "    # plt.subplot(1, 3, 3)\n",
        "    # plt.imshow(prediction)\n",
        "    # plt.axis(\"off\")\n",
        "    # plt.title(\"PREDICTION\")\n",
        "    # plt.tight_layout()\n",
        "    # plt.savefig(os.path.join(pred_path, f\"{idx}.png\"))\n",
        "    # plt.close()  \n"
      ]
    },
    {
      "cell_type": "code",
      "source": [
        "loss = history.history['loss']\n",
        "val_loss = history.history['val_loss']\n",
        "\n",
        "plt.figure(figsize=(8, 6))\n",
        "plt.plot(loss, label='Training Loss')\n",
        "plt.plot(val_loss, label='Validation Loss')\n",
        "plt.legend(loc='upper right')\n",
        "plt.ylabel('Attention MAE')\n",
        "plt.title('Training and Validation Loss')\n",
        "plt.xlabel('Epoch')\n",
        "plt.tight_layout()\n",
        "plt.savefig(os.path.join(model_path, timestamp + \".png\"))\n",
        "plt.close()"
      ],
      "metadata": {
        "id": "dq-aXv2mIwA8"
      },
      "execution_count": null,
      "outputs": []
    },
    {
      "cell_type": "code",
      "source": [
        "model.evaluate(test_batches)"
      ],
      "metadata": {
        "id": "KghqZxOpWCWP",
        "colab": {
          "base_uri": "https://localhost:8080/"
        },
        "outputId": "c5702fa9-41e6-4ea6-8270-9c82198e555a"
      },
      "execution_count": null,
      "outputs": [
        {
          "output_type": "stream",
          "name": "stdout",
          "text": [
            "20/20 [==============================] - 4s 150ms/step - loss: 0.0156 - attention_mae: 0.0603\n"
          ]
        },
        {
          "output_type": "execute_result",
          "data": {
            "text/plain": [
              "[0.015646839514374733, 0.06028332561254501]"
            ]
          },
          "metadata": {},
          "execution_count": 21
        }
      ]
    },
    {
      "cell_type": "code",
      "source": [],
      "metadata": {
        "id": "Clx7EdsW2yFf"
      },
      "execution_count": null,
      "outputs": []
    }
  ],
  "metadata": {
    "kernelspec": {
      "display_name": "Python 3.10.6 ('Ai')",
      "language": "python",
      "name": "python3"
    },
    "language_info": {
      "codemirror_mode": {
        "name": "ipython",
        "version": 3
      },
      "file_extension": ".py",
      "mimetype": "text/x-python",
      "name": "python",
      "nbconvert_exporter": "python",
      "pygments_lexer": "ipython3",
      "version": "3.10.6"
    },
    "orig_nbformat": 4,
    "vscode": {
      "interpreter": {
        "hash": "cc12dd51c08fff59e312c49b5273cbf2a12939660509ea1a4d83cd89b0463726"
      }
    },
    "colab": {
      "provenance": [],
      "machine_shape": "hm",
      "toc_visible": true,
      "include_colab_link": true
    },
    "accelerator": "GPU",
    "gpuClass": "standard"
  },
  "nbformat": 4,
  "nbformat_minor": 0
}