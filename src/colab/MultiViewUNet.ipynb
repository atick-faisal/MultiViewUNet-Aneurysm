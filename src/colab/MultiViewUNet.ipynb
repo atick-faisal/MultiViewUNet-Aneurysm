{
  "cells": [
    {
      "cell_type": "markdown",
      "metadata": {
        "id": "view-in-github",
        "colab_type": "text"
      },
      "source": [
        "<a href=\"https://colab.research.google.com/github/atick-faisal/TAVI/blob/main/src/colab/MultiViewUNet.ipynb\" target=\"_parent\"><img src=\"https://colab.research.google.com/assets/colab-badge.svg\" alt=\"Open In Colab\"/></a>"
      ]
    },
    {
      "cell_type": "markdown",
      "source": [
        "# Google Drive"
      ],
      "metadata": {
        "id": "0estJx3IDzz4"
      }
    },
    {
      "cell_type": "code",
      "source": [
        "from google.colab import drive\n",
        "drive.mount('/content/drive')"
      ],
      "metadata": {
        "colab": {
          "base_uri": "https://localhost:8080/"
        },
        "id": "WsH9ydF7Dwpf",
        "outputId": "a5f8fa46-b936-4126-e701-a0bdac5f1197"
      },
      "execution_count": 1,
      "outputs": [
        {
          "output_type": "stream",
          "name": "stdout",
          "text": [
            "Drive already mounted at /content/drive; to attempt to forcibly remount, call drive.mount(\"/content/drive\", force_remount=True).\n"
          ]
        }
      ]
    },
    {
      "cell_type": "markdown",
      "metadata": {
        "id": "MMf8mzRT0YxP"
      },
      "source": [
        "# Download Dataset"
      ]
    },
    {
      "cell_type": "code",
      "execution_count": 2,
      "metadata": {
        "colab": {
          "base_uri": "https://localhost:8080/"
        },
        "id": "Zm_HJEfM0YxS",
        "outputId": "7965b136-da77-4de2-8103-c52f1203b193"
      },
      "outputs": [
        {
          "output_type": "stream",
          "name": "stdout",
          "text": [
            "Downloading...\n",
            "From: https://drive.google.com/uc?id=12uTQa57OIqmUtBl0JTwsd2NdTLAYMH0e\n",
            "To: /content/Dataset_v6_curvature_tawss.zip\n",
            "100% 256M/256M [00:03<00:00, 71.2MB/s]\n"
          ]
        }
      ],
      "source": [
        "!gdown \"12uTQa57OIqmUtBl0JTwsd2NdTLAYMH0e\"\n",
        "!unzip -o \"Dataset_v6_curvature_tawss.zip\" > /dev/null\n"
      ]
    },
    {
      "cell_type": "markdown",
      "metadata": {
        "id": "Vemh_spU0YxT"
      },
      "source": [
        "# Imports"
      ]
    },
    {
      "cell_type": "code",
      "execution_count": 3,
      "metadata": {
        "id": "w0KYlE-90YxT"
      },
      "outputs": [],
      "source": [
        "import os\n",
        "import cv2\n",
        "import random\n",
        "import datetime\n",
        "import matplotlib\n",
        "import numpy as np\n",
        "import tensorflow as tf\n",
        "import matplotlib.pyplot as plt\n",
        "\n",
        "from tqdm import tqdm\n",
        "from numpy.typing import NDArray\n",
        "\n",
        "matplotlib.use('Agg')\n",
        "plt.rcParams[\"font.size\"] = 16\n"
      ]
    },
    {
      "cell_type": "markdown",
      "metadata": {
        "id": "vE8WOTRj0YxT"
      },
      "source": [
        "# Config"
      ]
    },
    {
      "cell_type": "code",
      "execution_count": 4,
      "metadata": {
        "id": "O5Vvm79c0YxT"
      },
      "outputs": [],
      "source": [
        "DATASET         = \"v6\"\n",
        "MODEL_NAME      = \"MultiViewUNet\"\n",
        "DATASET_PATH    = \"/content/Images/\"\n",
        "TRAIN_DIR       = \"Train/\"\n",
        "TEST_DIR        = \"Test/\"\n",
        "INPUT_DIR       = \"Input/\"\n",
        "TARGET_DIR      = \"Target/\"\n",
        "MODEL_PATH      = \"/content/drive/MyDrive/Research/TAVI/Models/\"\n",
        "PRED_PATH       = \"/content/drive/MyDrive/Research/TAVI/Predictions/\"\n",
        "\n",
        "IMG_SIZE        = 256\n",
        "BATCH_SIZE      = 8\n",
        "VAL_SPLIT       = 0.2\n",
        "LEARNING_RATE   = 0.001\n",
        "N_EPOCHS        = 300\n",
        "PATIENCE        = 30\n",
        "\n",
        "EXP_NAME        = f\"{MODEL_NAME}_I{IMG_SIZE}_B{BATCH_SIZE}_LR{LEARNING_RATE}_{DATASET}\"\n"
      ]
    },
    {
      "cell_type": "markdown",
      "metadata": {
        "id": "YmMjbvFH0YxU"
      },
      "source": [
        "# Architecture"
      ]
    },
    {
      "cell_type": "code",
      "execution_count": 5,
      "metadata": {
        "id": "xecJpVUs0YxU"
      },
      "outputs": [],
      "source": [
        "class UNet:\n",
        "    def __init__(\n",
        "        self,\n",
        "        img_size: int,\n",
        "        n_channels: int = 3,\n",
        "        width: int = 32,\n",
        "        depth: int = 4,\n",
        "        kernel_size: int = 3\n",
        "    ):\n",
        "        self.img_size = img_size\n",
        "        self.n_channels = n_channels\n",
        "        self.width = width\n",
        "        self.depth = depth\n",
        "        self.kernel_size = kernel_size\n",
        "\n",
        "    @staticmethod\n",
        "    def conv(\n",
        "        x: tf.Tensor,\n",
        "        filters: int,\n",
        "        kernel_size: int\n",
        "    ) -> tf.Tensor:\n",
        "        for i in range(2):\n",
        "            x = tf.keras.layers.Conv2D(\n",
        "                filters=filters,\n",
        "                kernel_size=kernel_size,\n",
        "                strides=1,\n",
        "                padding=\"same\",\n",
        "                data_format=\"channels_last\",\n",
        "                dilation_rate=1,\n",
        "                groups=1,\n",
        "                activation=None,\n",
        "                use_bias=True,\n",
        "                kernel_initializer=\"glorot_uniform\",\n",
        "                bias_initializer=\"zeros\"\n",
        "            )(x)\n",
        "\n",
        "            x = tf.keras.layers.BatchNormalization()(x)\n",
        "            x = tf.keras.layers.Activation(\"relu\")(x)\n",
        "\n",
        "        return x\n",
        "\n",
        "    @staticmethod\n",
        "    def deconv(x: tf.Tensor, filters: int) -> tf.Tensor:\n",
        "        x = tf.keras.layers.Conv2DTranspose(\n",
        "            filters=filters,\n",
        "            kernel_size=2,\n",
        "            strides=2,\n",
        "            padding=\"same\",\n",
        "            output_padding=None,\n",
        "            data_format=None,\n",
        "            dilation_rate=1,\n",
        "            activation=None,\n",
        "            use_bias=True,\n",
        "            kernel_initializer=\"glorot_uniform\",\n",
        "            bias_initializer=\"zeros\"\n",
        "        )(x)\n",
        "\n",
        "        x = tf.keras.layers.BatchNormalization()(x)\n",
        "        x = tf.keras.layers.Activation(\"relu\")(x)\n",
        "\n",
        "        return x\n",
        "\n",
        "    @staticmethod\n",
        "    def output(x: tf.Tensor) -> tf.Tensor:\n",
        "        return tf.keras.layers.Conv2D(3, (1, 1), activation=\"sigmoid\")(x)\n",
        "\n",
        "    @staticmethod\n",
        "    def pool(x: tf.Tensor, pool_size: int = 2) -> tf.Tensor:\n",
        "        return tf.keras.layers.MaxPool2D(pool_size)(x)\n",
        "\n",
        "    def __call__(self) -> tf.keras.Model:\n",
        "        inputs = tf.keras.layers.Input(\n",
        "            shape=(self.img_size, self.img_size, self.n_channels)\n",
        "        )\n",
        "\n",
        "        # scaled = tf.keras.layers.Rescaling(1./255.0, offset=0)(inputs)\n",
        "\n",
        "        # ------------------ Downsampling ---------------------\n",
        "        downsample_layers = []\n",
        "        downsample_layers.append(\n",
        "            self.conv(\n",
        "                x=inputs,\n",
        "                filters=self.width,\n",
        "                kernel_size=self.kernel_size\n",
        "            )\n",
        "        )\n",
        "        for i in range(1, self.depth):\n",
        "            filters = int((2 ** i) * self.width)\n",
        "            downsample_layers.append(\n",
        "                self.pool(\n",
        "                    self.conv(\n",
        "                        x=downsample_layers[i - 1],\n",
        "                        filters=filters,\n",
        "                        kernel_size=self.kernel_size\n",
        "                    )\n",
        "                )\n",
        "            )\n",
        "\n",
        "        # ------------------- Features --------------------\n",
        "        n_features = int((2 ** self.depth) * self.width)\n",
        "        self.features = self.pool(\n",
        "            self.conv(\n",
        "                x=downsample_layers[-1],\n",
        "                filters=n_features,\n",
        "                kernel_size=self.kernel_size\n",
        "            )\n",
        "        )\n",
        "\n",
        "        # ------------------- Upsampling --------------------\n",
        "        upsample_layers = []\n",
        "        upsample_layers.append(self.features)\n",
        "        for i in range(1, self.depth + 1):\n",
        "            filters = int((2 ** (self.depth - i)) * self.width)\n",
        "            upsample_layers.append(\n",
        "                self.conv(\n",
        "                    x=tf.keras.layers.concatenate([\n",
        "                        downsample_layers[self.depth - i],\n",
        "                        self.deconv(\n",
        "                            x=upsample_layers[i - 1],\n",
        "                            filters=filters\n",
        "                        )\n",
        "                    ]),\n",
        "                    filters=filters,\n",
        "                    kernel_size=self.kernel_size\n",
        "                )\n",
        "            )\n",
        "\n",
        "        # ---------------------- Output -----------------------\n",
        "        outputs = self.output(upsample_layers[-1])\n",
        "\n",
        "        return tf.keras.Model(inputs, outputs)\n"
      ]
    },
    {
      "cell_type": "markdown",
      "metadata": {
        "id": "ga47oOoc0YxV"
      },
      "source": [
        "# Loss Functions"
      ]
    },
    {
      "cell_type": "code",
      "execution_count": 6,
      "metadata": {
        "id": "ooE90mpc0YxW"
      },
      "outputs": [],
      "source": [
        "def attention_mse(y_true, y_pred):\n",
        "    _y_true = y_true[y_true != 1.0]\n",
        "    _y_pred = y_pred[y_true != 1.0]\n",
        "    squared_difference = tf.square(_y_true - _y_pred)\n",
        "    return tf.reduce_mean(squared_difference, axis=-1)\n",
        "\n",
        "\n",
        "def attention_mae(y_true, y_pred):\n",
        "    _y_true = y_true[y_true != 1.0]\n",
        "    _y_pred = y_pred[y_true != 1.0]\n",
        "    squared_difference = tf.abs(_y_true - _y_pred)\n",
        "    return tf.reduce_mean(squared_difference, axis=-1)\n"
      ]
    },
    {
      "cell_type": "markdown",
      "metadata": {
        "id": "wOgmHYSJ0YxW"
      },
      "source": [
        "# Utils"
      ]
    },
    {
      "cell_type": "code",
      "execution_count": 7,
      "metadata": {
        "id": "cSrfyX260YxW"
      },
      "outputs": [],
      "source": [
        "def load_data_from_dir(path: str) -> tf.data.Dataset:\n",
        "    return tf.keras.utils.image_dataset_from_directory(\n",
        "        directory=path,\n",
        "        labels=None,\n",
        "        color_mode='rgb',\n",
        "        batch_size=BATCH_SIZE,\n",
        "        image_size=(IMG_SIZE, IMG_SIZE),\n",
        "        shuffle=True,\n",
        "        seed=42,\n",
        "        # validation_split=VAL_SPLIT,\n",
        "        # subset=subset,\n",
        "        interpolation='bilinear',\n",
        "        follow_links=False,\n",
        "        crop_to_aspect_ratio=False\n",
        "    )\n"
      ]
    },
    {
      "cell_type": "markdown",
      "metadata": {
        "id": "CyS-63WI0YxX"
      },
      "source": [
        "# Dataloaders"
      ]
    },
    {
      "cell_type": "code",
      "execution_count": 8,
      "metadata": {
        "colab": {
          "base_uri": "https://localhost:8080/"
        },
        "id": "71Dxzfkf0YxX",
        "outputId": "47514901-1e0f-4073-bf3f-574f2dac8e77"
      },
      "outputs": [
        {
          "output_type": "stream",
          "name": "stdout",
          "text": [
            "Found 11040 files belonging to 1 classes.\n",
            "Found 11040 files belonging to 1 classes.\n",
            "Found 1656 files belonging to 1 classes.\n",
            "Found 1656 files belonging to 1 classes.\n",
            "(TensorSpec(shape=(None, 256, 256, 3), dtype=tf.float32, name=None), TensorSpec(shape=(None, 256, 256, 3), dtype=tf.float32, name=None))\n",
            "(TensorSpec(shape=(None, 256, 256, 3), dtype=tf.float32, name=None), TensorSpec(shape=(None, 256, 256, 3), dtype=tf.float32, name=None))\n"
          ]
        }
      ],
      "source": [
        "trainX = load_data_from_dir(os.path.join(DATASET_PATH, TRAIN_DIR, INPUT_DIR))\n",
        "trainY = load_data_from_dir(os.path.join(DATASET_PATH, TRAIN_DIR, TARGET_DIR))\n",
        "testX = load_data_from_dir(os.path.join(DATASET_PATH, TEST_DIR, INPUT_DIR))\n",
        "testY = load_data_from_dir(os.path.join(DATASET_PATH, TEST_DIR, TARGET_DIR))\n",
        "\n",
        "train_ds = tf.data.Dataset.zip((trainX, trainY))\n",
        "test_ds = tf.data.Dataset.zip((testX, testY))\n",
        "\n",
        "print(train_ds.element_spec)\n",
        "print(test_ds.element_spec)\n"
      ]
    },
    {
      "cell_type": "markdown",
      "source": [
        "# Normalization"
      ],
      "metadata": {
        "id": "01HaegmR278r"
      }
    },
    {
      "cell_type": "code",
      "source": [
        "normalization_layer = tf.keras.layers.Rescaling(1./255)\n",
        "train_ds = train_ds.map(lambda x, y: (normalization_layer(x), normalization_layer(y)))\n",
        "test_ds = test_ds.map(lambda x, y: (normalization_layer(x), normalization_layer(y)))"
      ],
      "metadata": {
        "id": "mDeZuH0p26pE"
      },
      "execution_count": 9,
      "outputs": []
    },
    {
      "cell_type": "markdown",
      "metadata": {
        "id": "eHlKefA_0YxX"
      },
      "source": [
        "# Optimization"
      ]
    },
    {
      "cell_type": "code",
      "execution_count": 10,
      "metadata": {
        "id": "U-HMkfOG0YxX"
      },
      "outputs": [],
      "source": [
        "AUTOTUNE = tf.data.AUTOTUNE\n",
        "\n",
        "train_ds = train_ds.cache().prefetch(buffer_size=AUTOTUNE)\n",
        "test_ds = test_ds.cache().prefetch(buffer_size=AUTOTUNE)\n"
      ]
    },
    {
      "cell_type": "markdown",
      "metadata": {
        "id": "w50akeqN0YxX"
      },
      "source": [
        "# Training Config"
      ]
    },
    {
      "cell_type": "code",
      "execution_count": 11,
      "metadata": {
        "id": "2YvF85Wg0YxY"
      },
      "outputs": [],
      "source": [
        "callbacks = [\n",
        "    tf.keras.callbacks.EarlyStopping(\n",
        "        monitor=\"val_loss\",\n",
        "        patience=PATIENCE,\n",
        "        restore_best_weights=True\n",
        "    )\n",
        "]\n",
        "\n",
        "optimizer = tf.keras.optimizers.Adam(\n",
        "    learning_rate=LEARNING_RATE\n",
        ")\n",
        "\n",
        "model = UNet(IMG_SIZE)()\n",
        "\n",
        "model.compile(\n",
        "    loss=attention_mse,\n",
        "    optimizer=optimizer,\n",
        "    metrics=['mean_squared_error']\n",
        ")\n"
      ]
    },
    {
      "cell_type": "markdown",
      "metadata": {
        "id": "XrJPilPI0YxY"
      },
      "source": [
        "# Training"
      ]
    },
    {
      "cell_type": "code",
      "execution_count": 12,
      "metadata": {
        "colab": {
          "base_uri": "https://localhost:8080/"
        },
        "id": "y_b-8pkT0YxY",
        "outputId": "0ea5a0ce-bd60-4617-90d8-22ba85df5926"
      },
      "outputs": [
        {
          "output_type": "stream",
          "name": "stdout",
          "text": [
            "Epoch 1/300\n",
            "1380/1380 [==============================] - 244s 165ms/step - loss: 0.0075 - mean_squared_error: 0.2392 - val_loss: 0.0057 - val_mean_squared_error: 0.2395\n",
            "Epoch 2/300\n",
            "1380/1380 [==============================] - 220s 159ms/step - loss: 0.0059 - mean_squared_error: 0.2445 - val_loss: 0.0046 - val_mean_squared_error: 0.2485\n",
            "Epoch 3/300\n",
            "1380/1380 [==============================] - 220s 159ms/step - loss: 0.0053 - mean_squared_error: 0.2485 - val_loss: 0.0042 - val_mean_squared_error: 0.2274\n",
            "Epoch 4/300\n",
            "1380/1380 [==============================] - 219s 159ms/step - loss: 0.0048 - mean_squared_error: 0.2550 - val_loss: 0.0038 - val_mean_squared_error: 0.2505\n",
            "Epoch 5/300\n",
            "1380/1380 [==============================] - 219s 159ms/step - loss: 0.0044 - mean_squared_error: 0.2621 - val_loss: 0.0040 - val_mean_squared_error: 0.1201\n",
            "Epoch 6/300\n",
            "1380/1380 [==============================] - 219s 159ms/step - loss: 0.0040 - mean_squared_error: 0.2701 - val_loss: 0.0039 - val_mean_squared_error: 0.2017\n",
            "Epoch 7/300\n",
            "1380/1380 [==============================] - 219s 159ms/step - loss: 0.0036 - mean_squared_error: 0.2796 - val_loss: 0.0034 - val_mean_squared_error: 0.0939\n",
            "Epoch 8/300\n",
            "1380/1380 [==============================] - 219s 159ms/step - loss: 0.0033 - mean_squared_error: 0.2869 - val_loss: 0.0034 - val_mean_squared_error: 0.1328\n",
            "Epoch 9/300\n",
            "1380/1380 [==============================] - 219s 159ms/step - loss: 0.0030 - mean_squared_error: 0.2921 - val_loss: 0.0030 - val_mean_squared_error: 0.2564\n",
            "Epoch 10/300\n",
            "1380/1380 [==============================] - 219s 159ms/step - loss: 0.0028 - mean_squared_error: 0.2970 - val_loss: 0.0031 - val_mean_squared_error: 0.2498\n",
            "Epoch 11/300\n",
            "1380/1380 [==============================] - 219s 159ms/step - loss: 0.0026 - mean_squared_error: 0.2984 - val_loss: 0.0028 - val_mean_squared_error: 0.1031\n",
            "Epoch 12/300\n",
            "1380/1380 [==============================] - 219s 159ms/step - loss: 0.0024 - mean_squared_error: 0.2991 - val_loss: 0.0027 - val_mean_squared_error: 0.0416\n",
            "Epoch 13/300\n",
            "1380/1380 [==============================] - 219s 159ms/step - loss: 0.0022 - mean_squared_error: 0.2993 - val_loss: 0.0028 - val_mean_squared_error: 0.1669\n",
            "Epoch 14/300\n",
            "1380/1380 [==============================] - 221s 160ms/step - loss: 0.0021 - mean_squared_error: 0.2970 - val_loss: 0.0026 - val_mean_squared_error: 0.0933\n",
            "Epoch 15/300\n",
            "1380/1380 [==============================] - 220s 160ms/step - loss: 0.0020 - mean_squared_error: 0.2947 - val_loss: 0.0026 - val_mean_squared_error: 0.1092\n",
            "Epoch 16/300\n",
            "1380/1380 [==============================] - 221s 160ms/step - loss: 0.0019 - mean_squared_error: 0.2930 - val_loss: 0.0026 - val_mean_squared_error: 0.0852\n",
            "Epoch 17/300\n",
            "1380/1380 [==============================] - 220s 159ms/step - loss: 0.0018 - mean_squared_error: 0.2923 - val_loss: 0.0024 - val_mean_squared_error: 0.1887\n",
            "Epoch 18/300\n",
            "1380/1380 [==============================] - 220s 159ms/step - loss: 0.0017 - mean_squared_error: 0.2901 - val_loss: 0.0024 - val_mean_squared_error: 0.2910\n",
            "Epoch 19/300\n",
            "1380/1380 [==============================] - 220s 159ms/step - loss: 0.0016 - mean_squared_error: 0.2896 - val_loss: 0.0024 - val_mean_squared_error: 0.1800\n",
            "Epoch 20/300\n",
            "1380/1380 [==============================] - 220s 159ms/step - loss: 0.0015 - mean_squared_error: 0.2892 - val_loss: 0.0025 - val_mean_squared_error: 0.2726\n",
            "Epoch 21/300\n",
            "1380/1380 [==============================] - 220s 159ms/step - loss: 0.0015 - mean_squared_error: 0.2890 - val_loss: 0.0023 - val_mean_squared_error: 0.2512\n",
            "Epoch 22/300\n",
            "1380/1380 [==============================] - 220s 159ms/step - loss: 0.0014 - mean_squared_error: 0.2876 - val_loss: 0.0024 - val_mean_squared_error: 0.1479\n",
            "Epoch 23/300\n",
            "1380/1380 [==============================] - 220s 159ms/step - loss: 0.0014 - mean_squared_error: 0.2888 - val_loss: 0.0024 - val_mean_squared_error: 0.2409\n",
            "Epoch 24/300\n",
            "1380/1380 [==============================] - 220s 159ms/step - loss: 0.0013 - mean_squared_error: 0.2885 - val_loss: 0.0024 - val_mean_squared_error: 0.2868\n",
            "Epoch 25/300\n",
            "1380/1380 [==============================] - 220s 159ms/step - loss: 0.0013 - mean_squared_error: 0.2886 - val_loss: 0.0023 - val_mean_squared_error: 0.2528\n",
            "Epoch 26/300\n",
            "1380/1380 [==============================] - 220s 159ms/step - loss: 0.0012 - mean_squared_error: 0.2894 - val_loss: 0.0024 - val_mean_squared_error: 0.0890\n",
            "Epoch 27/300\n",
            "1380/1380 [==============================] - 220s 159ms/step - loss: 0.0012 - mean_squared_error: 0.2881 - val_loss: 0.0024 - val_mean_squared_error: 0.3016\n",
            "Epoch 28/300\n",
            "1380/1380 [==============================] - 220s 159ms/step - loss: 0.0011 - mean_squared_error: 0.2878 - val_loss: 0.0023 - val_mean_squared_error: 0.2892\n",
            "Epoch 29/300\n",
            "1380/1380 [==============================] - 220s 159ms/step - loss: 0.0011 - mean_squared_error: 0.2870 - val_loss: 0.0023 - val_mean_squared_error: 0.2985\n",
            "Epoch 30/300\n",
            "1380/1380 [==============================] - 220s 159ms/step - loss: 0.0011 - mean_squared_error: 0.2874 - val_loss: 0.0023 - val_mean_squared_error: 0.3080\n",
            "Epoch 31/300\n",
            "1380/1380 [==============================] - 220s 159ms/step - loss: 0.0011 - mean_squared_error: 0.2882 - val_loss: 0.0025 - val_mean_squared_error: 0.2512\n",
            "Epoch 32/300\n",
            "1380/1380 [==============================] - 220s 159ms/step - loss: 0.0010 - mean_squared_error: 0.2900 - val_loss: 0.0024 - val_mean_squared_error: 0.2988\n",
            "Epoch 33/300\n",
            "1380/1380 [==============================] - 220s 159ms/step - loss: 0.0010 - mean_squared_error: 0.2908 - val_loss: 0.0024 - val_mean_squared_error: 0.2819\n",
            "Epoch 34/300\n",
            "1380/1380 [==============================] - 220s 159ms/step - loss: 9.9479e-04 - mean_squared_error: 0.2918 - val_loss: 0.0023 - val_mean_squared_error: 0.2878\n",
            "Epoch 35/300\n",
            "1380/1380 [==============================] - 220s 159ms/step - loss: 9.7635e-04 - mean_squared_error: 0.2938 - val_loss: 0.0023 - val_mean_squared_error: 0.1259\n",
            "Epoch 36/300\n",
            "1380/1380 [==============================] - 220s 159ms/step - loss: 9.5653e-04 - mean_squared_error: 0.2941 - val_loss: 0.0023 - val_mean_squared_error: 0.2489\n",
            "Epoch 37/300\n",
            "1380/1380 [==============================] - 220s 159ms/step - loss: 9.3855e-04 - mean_squared_error: 0.2952 - val_loss: 0.0023 - val_mean_squared_error: 0.3246\n",
            "Epoch 38/300\n",
            "1380/1380 [==============================] - 220s 159ms/step - loss: 9.1964e-04 - mean_squared_error: 0.2966 - val_loss: 0.0023 - val_mean_squared_error: 0.2709\n",
            "Epoch 39/300\n",
            "1380/1380 [==============================] - 220s 159ms/step - loss: 9.0777e-04 - mean_squared_error: 0.3005 - val_loss: 0.0023 - val_mean_squared_error: 0.2227\n",
            "Epoch 40/300\n",
            "1380/1380 [==============================] - 220s 159ms/step - loss: 8.9688e-04 - mean_squared_error: 0.3020 - val_loss: 0.0023 - val_mean_squared_error: 0.1960\n",
            "Epoch 41/300\n",
            "1380/1380 [==============================] - 220s 159ms/step - loss: 8.6600e-04 - mean_squared_error: 0.3014 - val_loss: 0.0022 - val_mean_squared_error: 0.2361\n",
            "Epoch 42/300\n",
            "1380/1380 [==============================] - 220s 159ms/step - loss: 8.4877e-04 - mean_squared_error: 0.3017 - val_loss: 0.0022 - val_mean_squared_error: 0.2819\n",
            "Epoch 43/300\n",
            "1380/1380 [==============================] - 220s 160ms/step - loss: 8.4465e-04 - mean_squared_error: 0.3025 - val_loss: 0.0022 - val_mean_squared_error: 0.2233\n",
            "Epoch 44/300\n",
            "1380/1380 [==============================] - 221s 160ms/step - loss: 8.2745e-04 - mean_squared_error: 0.3039 - val_loss: 0.0022 - val_mean_squared_error: 0.3079\n",
            "Epoch 45/300\n",
            "1380/1380 [==============================] - 219s 159ms/step - loss: 8.1341e-04 - mean_squared_error: 0.3037 - val_loss: 0.0022 - val_mean_squared_error: 0.2183\n",
            "Epoch 46/300\n",
            "1380/1380 [==============================] - 219s 158ms/step - loss: 8.0245e-04 - mean_squared_error: 0.3046 - val_loss: 0.0022 - val_mean_squared_error: 0.3085\n",
            "Epoch 47/300\n",
            "1380/1380 [==============================] - 219s 158ms/step - loss: 7.9287e-04 - mean_squared_error: 0.3061 - val_loss: 0.0022 - val_mean_squared_error: 0.0904\n",
            "Epoch 48/300\n",
            "1380/1380 [==============================] - 219s 159ms/step - loss: 7.8401e-04 - mean_squared_error: 0.3070 - val_loss: 0.0023 - val_mean_squared_error: 0.3020\n",
            "Epoch 49/300\n",
            "1380/1380 [==============================] - 219s 159ms/step - loss: 7.7191e-04 - mean_squared_error: 0.3088 - val_loss: 0.0024 - val_mean_squared_error: 0.2604\n",
            "Epoch 50/300\n",
            "1380/1380 [==============================] - 219s 158ms/step - loss: 7.6272e-04 - mean_squared_error: 0.3099 - val_loss: 0.0023 - val_mean_squared_error: 0.3278\n",
            "Epoch 51/300\n",
            "1380/1380 [==============================] - 219s 158ms/step - loss: 7.6682e-04 - mean_squared_error: 0.3125 - val_loss: 0.0023 - val_mean_squared_error: 0.2816\n",
            "Epoch 52/300\n",
            "1380/1380 [==============================] - 219s 159ms/step - loss: 7.5245e-04 - mean_squared_error: 0.3143 - val_loss: 0.0022 - val_mean_squared_error: 0.1869\n",
            "Epoch 53/300\n",
            "1380/1380 [==============================] - 219s 159ms/step - loss: 7.2380e-04 - mean_squared_error: 0.3140 - val_loss: 0.0023 - val_mean_squared_error: 0.2077\n",
            "Epoch 54/300\n",
            "1380/1380 [==============================] - 219s 159ms/step - loss: 7.1852e-04 - mean_squared_error: 0.3127 - val_loss: 0.0023 - val_mean_squared_error: 0.3074\n",
            "Epoch 55/300\n",
            "1380/1380 [==============================] - 219s 159ms/step - loss: 7.1513e-04 - mean_squared_error: 0.3128 - val_loss: 0.0024 - val_mean_squared_error: 0.1654\n",
            "Epoch 56/300\n",
            "1380/1380 [==============================] - 219s 159ms/step - loss: 7.0669e-04 - mean_squared_error: 0.3134 - val_loss: 0.0024 - val_mean_squared_error: 0.2005\n",
            "Epoch 57/300\n",
            "1380/1380 [==============================] - 219s 159ms/step - loss: 7.0078e-04 - mean_squared_error: 0.3140 - val_loss: 0.0023 - val_mean_squared_error: 0.3251\n",
            "Epoch 58/300\n",
            "1380/1380 [==============================] - 219s 159ms/step - loss: 6.8981e-04 - mean_squared_error: 0.3144 - val_loss: 0.0023 - val_mean_squared_error: 0.2209\n",
            "Epoch 59/300\n",
            "1380/1380 [==============================] - 219s 159ms/step - loss: 6.8591e-04 - mean_squared_error: 0.3157 - val_loss: 0.0023 - val_mean_squared_error: 0.2096\n",
            "Epoch 60/300\n",
            "1380/1380 [==============================] - 219s 159ms/step - loss: 6.8120e-04 - mean_squared_error: 0.3167 - val_loss: 0.0023 - val_mean_squared_error: 0.2638\n",
            "Epoch 61/300\n",
            "1380/1380 [==============================] - 219s 159ms/step - loss: 6.7081e-04 - mean_squared_error: 0.3169 - val_loss: 0.0023 - val_mean_squared_error: 0.2146\n",
            "Epoch 62/300\n",
            "1380/1380 [==============================] - 219s 159ms/step - loss: 6.7116e-04 - mean_squared_error: 0.3179 - val_loss: 0.0023 - val_mean_squared_error: 0.2860\n",
            "Epoch 63/300\n",
            "1380/1380 [==============================] - 219s 159ms/step - loss: 6.7122e-04 - mean_squared_error: 0.3189 - val_loss: 0.0023 - val_mean_squared_error: 0.1766\n",
            "Epoch 64/300\n",
            "1380/1380 [==============================] - 219s 159ms/step - loss: 6.6375e-04 - mean_squared_error: 0.3201 - val_loss: 0.0023 - val_mean_squared_error: 0.3218\n",
            "Epoch 65/300\n",
            "1380/1380 [==============================] - 219s 159ms/step - loss: 6.5301e-04 - mean_squared_error: 0.3208 - val_loss: 0.0023 - val_mean_squared_error: 0.3076\n",
            "Epoch 66/300\n",
            "1380/1380 [==============================] - 219s 159ms/step - loss: 6.4219e-04 - mean_squared_error: 0.3202 - val_loss: 0.0022 - val_mean_squared_error: 0.3272\n",
            "Epoch 67/300\n",
            "1380/1380 [==============================] - 219s 159ms/step - loss: 6.3477e-04 - mean_squared_error: 0.3201 - val_loss: 0.0022 - val_mean_squared_error: 0.3349\n",
            "Epoch 68/300\n",
            "1380/1380 [==============================] - 219s 159ms/step - loss: 6.2705e-04 - mean_squared_error: 0.3215 - val_loss: 0.0023 - val_mean_squared_error: 0.3259\n",
            "Epoch 69/300\n",
            "1380/1380 [==============================] - 219s 159ms/step - loss: 6.2666e-04 - mean_squared_error: 0.3216 - val_loss: 0.0023 - val_mean_squared_error: 0.3293\n",
            "Epoch 70/300\n",
            "1380/1380 [==============================] - 219s 158ms/step - loss: 6.2515e-04 - mean_squared_error: 0.3221 - val_loss: 0.0025 - val_mean_squared_error: 0.1114\n",
            "Epoch 71/300\n",
            "1380/1380 [==============================] - 219s 159ms/step - loss: 6.3131e-04 - mean_squared_error: 0.3243 - val_loss: 0.0023 - val_mean_squared_error: 0.3026\n"
          ]
        }
      ],
      "source": [
        "history = model.fit(\n",
        "    train_ds,\n",
        "    validation_data=test_ds,\n",
        "    epochs=N_EPOCHS,\n",
        "    batch_size=BATCH_SIZE,\n",
        "    callbacks=callbacks,\n",
        "    verbose=1\n",
        ")\n"
      ]
    },
    {
      "cell_type": "markdown",
      "source": [
        "# Save Model"
      ],
      "metadata": {
        "id": "HT68Jm8AEluI"
      }
    },
    {
      "cell_type": "code",
      "source": [
        "timestamp = datetime.datetime.now().strftime('%b-%d-%I:%M%p')\n",
        "model_path = os.path.join(MODEL_PATH, EXP_NAME)\n",
        "if not os.path.exists(model_path):\n",
        "    os.makedirs(model_path)\n",
        "\n",
        "model.save(os.path.join(model_path, timestamp))"
      ],
      "metadata": {
        "id": "xfUmF_1mEjXH"
      },
      "execution_count": 13,
      "outputs": []
    },
    {
      "cell_type": "code",
      "source": [
        "model_path"
      ],
      "metadata": {
        "id": "gcZ2LZt7OZUy",
        "outputId": "b4c58cbb-3ceb-4c2f-eccf-c38ad529823f",
        "colab": {
          "base_uri": "https://localhost:8080/",
          "height": 36
        }
      },
      "execution_count": 16,
      "outputs": [
        {
          "output_type": "execute_result",
          "data": {
            "text/plain": [
              "'/content/drive/MyDrive/Research/TAVI/Models/MultiViewUNet_I256_B8_LR0.001_v6'"
            ],
            "application/vnd.google.colaboratory.intrinsic+json": {
              "type": "string"
            }
          },
          "metadata": {},
          "execution_count": 16
        }
      ]
    },
    {
      "cell_type": "markdown",
      "source": [
        "# Save Predictions"
      ],
      "metadata": {
        "id": "-PWi28iOKpXe"
      }
    },
    {
      "cell_type": "code",
      "execution_count": 14,
      "metadata": {
        "colab": {
          "base_uri": "https://localhost:8080/"
        },
        "id": "LLDJf93Z0YxY",
        "outputId": "d8394931-30bf-4c49-fe34-00c122ab18f7"
      },
      "outputs": [
        {
          "output_type": "stream",
          "name": "stderr",
          "text": [
            "1656it [00:12, 130.88it/s]\n"
          ]
        }
      ],
      "source": [
        "test_ds_unbatched = test_ds.unbatch()\n",
        "\n",
        "pred_path = os.path.join(PRED_PATH, EXP_NAME, timestamp)\n",
        "if not os.path.exists(pred_path):\n",
        "    os.makedirs(pred_path)\n",
        "\n",
        "for idx, (input, target) in enumerate(tqdm(test_ds_unbatched)):\n",
        "    if not idx % 40 == 0:\n",
        "        continue\n",
        "\n",
        "    prediction = tf.squeeze(\n",
        "        model.predict(\n",
        "            tf.expand_dims(input, axis=0)\n",
        "            )\n",
        "        ).numpy()\n",
        "    prediction[target > 0.9] = 1.0\n",
        "\n",
        "    plt.figure(figsize=(12, 4))\n",
        "    plt.subplot(1, 3, 1)\n",
        "    plt.imshow(input)\n",
        "    plt.axis(\"off\")\n",
        "    plt.title(\"INPUT\")\n",
        "    plt.subplot(1, 3, 2)\n",
        "    plt.imshow(target)\n",
        "    plt.axis(\"off\")\n",
        "    plt.title(\"TARGET\")\n",
        "    plt.subplot(1, 3, 3)\n",
        "    plt.imshow(prediction)\n",
        "    plt.axis(\"off\")\n",
        "    plt.title(\"PREDICTION\")\n",
        "    plt.tight_layout()\n",
        "    plt.savefig(os.path.join(pred_path, f\"{idx}.jpg\"))\n",
        "    plt.close()  \n"
      ]
    },
    {
      "cell_type": "code",
      "source": [
        "loss = history.history['loss']\n",
        "val_loss = history.history['val_loss']\n",
        "\n",
        "plt.figure(figsize=(8, 6))\n",
        "plt.plot(loss, label='Training Loss')\n",
        "plt.plot(val_loss, label='Validation Loss')\n",
        "plt.legend(loc='upper right')\n",
        "plt.ylabel('Attention MAE')\n",
        "plt.title('Training and Validation Loss')\n",
        "plt.xlabel('Epoch')\n",
        "plt.tight_layout()\n",
        "plt.savefig(os.path.join(model_path, timestamp + \".jpg\"))\n",
        "plt.close()"
      ],
      "metadata": {
        "id": "dq-aXv2mIwA8"
      },
      "execution_count": 15,
      "outputs": []
    }
  ],
  "metadata": {
    "kernelspec": {
      "display_name": "Python 3.10.6 ('Ai')",
      "language": "python",
      "name": "python3"
    },
    "language_info": {
      "codemirror_mode": {
        "name": "ipython",
        "version": 3
      },
      "file_extension": ".py",
      "mimetype": "text/x-python",
      "name": "python",
      "nbconvert_exporter": "python",
      "pygments_lexer": "ipython3",
      "version": "3.10.6"
    },
    "orig_nbformat": 4,
    "vscode": {
      "interpreter": {
        "hash": "cc12dd51c08fff59e312c49b5273cbf2a12939660509ea1a4d83cd89b0463726"
      }
    },
    "colab": {
      "provenance": [],
      "machine_shape": "hm",
      "include_colab_link": true
    },
    "accelerator": "GPU"
  },
  "nbformat": 4,
  "nbformat_minor": 0
}