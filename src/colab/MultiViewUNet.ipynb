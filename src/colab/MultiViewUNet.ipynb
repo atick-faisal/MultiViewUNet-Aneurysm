{
  "cells": [
    {
      "cell_type": "markdown",
      "metadata": {
        "id": "view-in-github",
        "colab_type": "text"
      },
      "source": [
        "<a href=\"https://colab.research.google.com/github/atick-faisal/TAVI/blob/main/src/colab/MultiViewUNet.ipynb\" target=\"_parent\"><img src=\"https://colab.research.google.com/assets/colab-badge.svg\" alt=\"Open In Colab\"/></a>"
      ]
    },
    {
      "cell_type": "markdown",
      "source": [
        "# Google Drive"
      ],
      "metadata": {
        "id": "0estJx3IDzz4"
      }
    },
    {
      "cell_type": "code",
      "source": [
        "from google.colab import drive\n",
        "drive.mount('/content/drive')"
      ],
      "metadata": {
        "colab": {
          "base_uri": "https://localhost:8080/"
        },
        "id": "WsH9ydF7Dwpf",
        "outputId": "81db7d7d-c8f7-4c91-e6d2-33f2fb585ca7"
      },
      "execution_count": 1,
      "outputs": [
        {
          "output_type": "stream",
          "name": "stdout",
          "text": [
            "Drive already mounted at /content/drive; to attempt to forcibly remount, call drive.mount(\"/content/drive\", force_remount=True).\n"
          ]
        }
      ]
    },
    {
      "cell_type": "markdown",
      "metadata": {
        "id": "MMf8mzRT0YxP"
      },
      "source": [
        "# Download Dataset"
      ]
    },
    {
      "cell_type": "code",
      "execution_count": 2,
      "metadata": {
        "colab": {
          "base_uri": "https://localhost:8080/"
        },
        "id": "Zm_HJEfM0YxS",
        "outputId": "ffbd22a1-61b7-40a1-ab18-a1981fc989d0"
      },
      "outputs": [
        {
          "output_type": "stream",
          "name": "stdout",
          "text": [
            "Downloading...\n",
            "From: https://drive.google.com/uc?id=1FUQJTi7ttRfx1l1hLEB3aJpuePWGbznI\n",
            "To: /content/Dataset_v2.zip\n",
            "100% 153M/153M [00:00<00:00, 272MB/s]\n"
          ]
        }
      ],
      "source": [
        "!gdown \"1FUQJTi7ttRfx1l1hLEB3aJpuePWGbznI\"\n",
        "!unzip -o \"Dataset_v2.zip\" > /dev/null\n"
      ]
    },
    {
      "cell_type": "markdown",
      "metadata": {
        "id": "Vemh_spU0YxT"
      },
      "source": [
        "# Imports"
      ]
    },
    {
      "cell_type": "code",
      "execution_count": 3,
      "metadata": {
        "id": "w0KYlE-90YxT"
      },
      "outputs": [],
      "source": [
        "import os\n",
        "import cv2\n",
        "import random\n",
        "import datetime\n",
        "import matplotlib\n",
        "import numpy as np\n",
        "import tensorflow as tf\n",
        "import matplotlib.pyplot as plt\n",
        "\n",
        "from tqdm import tqdm\n",
        "from numpy.typing import NDArray\n",
        "\n",
        "matplotlib.use('Agg')\n",
        "plt.rcParams[\"font.size\"] = 16\n"
      ]
    },
    {
      "cell_type": "markdown",
      "metadata": {
        "id": "vE8WOTRj0YxT"
      },
      "source": [
        "# Config"
      ]
    },
    {
      "cell_type": "code",
      "execution_count": 4,
      "metadata": {
        "id": "O5Vvm79c0YxT"
      },
      "outputs": [],
      "source": [
        "EXP_NAME        = \"MultiVewUNet-256x256-BS8-LR3e4-EP300-GEOMETRY0.2\"\n",
        "\n",
        "DATASET_PATH    = \"/content/Images/\"\n",
        "TRAIN_DIR       = \"Train/\"\n",
        "TEST_DIR        = \"Test/\"\n",
        "INPUT_DIR       = \"Input/\"\n",
        "TARGET_DIR      = \"Target/\"\n",
        "MODEL_PATH      = \"/content/drive/MyDrive/Research/TAVI/Models/\"\n",
        "PRED_PATH       = \"/content/drive/MyDrive/Research/TAVI/Predictions/\"\n",
        "\n",
        "IMG_SIZE        = 256\n",
        "BATCH_SIZE      = 8\n",
        "VAL_SPLIT       = 0.2\n",
        "LEARNING_RATE   = 3e-4\n",
        "N_EPOCHS        = 300\n",
        "PATIENCE        = 30\n"
      ]
    },
    {
      "cell_type": "markdown",
      "metadata": {
        "id": "YmMjbvFH0YxU"
      },
      "source": [
        "# Architecture"
      ]
    },
    {
      "cell_type": "code",
      "execution_count": 5,
      "metadata": {
        "id": "xecJpVUs0YxU"
      },
      "outputs": [],
      "source": [
        "class UNet:\n",
        "    def __init__(\n",
        "        self,\n",
        "        img_size: int,\n",
        "        n_channels: int = 3,\n",
        "        width: int = 32,\n",
        "        depth: int = 4,\n",
        "        kernel_size: int = 3\n",
        "    ):\n",
        "        self.img_size = img_size\n",
        "        self.n_channels = n_channels\n",
        "        self.width = width\n",
        "        self.depth = depth\n",
        "        self.kernel_size = kernel_size\n",
        "\n",
        "    @staticmethod\n",
        "    def conv(\n",
        "        x: tf.Tensor,\n",
        "        filters: int,\n",
        "        kernel_size: int\n",
        "    ) -> tf.Tensor:\n",
        "        for i in range(2):\n",
        "            x = tf.keras.layers.Conv2D(\n",
        "                filters=filters,\n",
        "                kernel_size=kernel_size,\n",
        "                strides=1,\n",
        "                padding=\"same\",\n",
        "                data_format=\"channels_last\",\n",
        "                dilation_rate=1,\n",
        "                groups=1,\n",
        "                activation=None,\n",
        "                use_bias=True,\n",
        "                kernel_initializer=\"glorot_uniform\",\n",
        "                bias_initializer=\"zeros\"\n",
        "            )(x)\n",
        "\n",
        "            x = tf.keras.layers.BatchNormalization()(x)\n",
        "            x = tf.keras.layers.Activation(\"relu\")(x)\n",
        "\n",
        "        return x\n",
        "\n",
        "    @staticmethod\n",
        "    def deconv(x: tf.Tensor, filters: int) -> tf.Tensor:\n",
        "        x = tf.keras.layers.Conv2DTranspose(\n",
        "            filters=filters,\n",
        "            kernel_size=2,\n",
        "            strides=2,\n",
        "            padding=\"same\",\n",
        "            output_padding=None,\n",
        "            data_format=None,\n",
        "            dilation_rate=1,\n",
        "            activation=None,\n",
        "            use_bias=True,\n",
        "            kernel_initializer=\"glorot_uniform\",\n",
        "            bias_initializer=\"zeros\"\n",
        "        )(x)\n",
        "\n",
        "        x = tf.keras.layers.BatchNormalization()(x)\n",
        "        x = tf.keras.layers.Activation(\"relu\")(x)\n",
        "\n",
        "        return x\n",
        "\n",
        "    @staticmethod\n",
        "    def output(x: tf.Tensor) -> tf.Tensor:\n",
        "        return tf.keras.layers.Conv2D(3, (1, 1), activation=\"sigmoid\")(x)\n",
        "\n",
        "    @staticmethod\n",
        "    def pool(x: tf.Tensor, pool_size: int = 2) -> tf.Tensor:\n",
        "        return tf.keras.layers.MaxPool2D(pool_size)(x)\n",
        "\n",
        "    def __call__(self) -> tf.keras.Model:\n",
        "        inputs = tf.keras.layers.Input(\n",
        "            shape=(self.img_size, self.img_size, self.n_channels)\n",
        "        )\n",
        "\n",
        "        # scaled = tf.keras.layers.Rescaling(1./255.0, offset=0)(inputs)\n",
        "\n",
        "        # ------------------ Downsampling ---------------------\n",
        "        downsample_layers = []\n",
        "        downsample_layers.append(\n",
        "            self.conv(\n",
        "                x=inputs,\n",
        "                filters=self.width,\n",
        "                kernel_size=self.kernel_size\n",
        "            )\n",
        "        )\n",
        "        for i in range(1, self.depth):\n",
        "            filters = int((2 ** i) * self.width)\n",
        "            downsample_layers.append(\n",
        "                self.pool(\n",
        "                    self.conv(\n",
        "                        x=downsample_layers[i - 1],\n",
        "                        filters=filters,\n",
        "                        kernel_size=self.kernel_size\n",
        "                    )\n",
        "                )\n",
        "            )\n",
        "\n",
        "        # ------------------- Features --------------------\n",
        "        n_features = int((2 ** self.depth) * self.width)\n",
        "        self.features = self.pool(\n",
        "            self.conv(\n",
        "                x=downsample_layers[-1],\n",
        "                filters=n_features,\n",
        "                kernel_size=self.kernel_size\n",
        "            )\n",
        "        )\n",
        "\n",
        "        # ------------------- Upsampling --------------------\n",
        "        upsample_layers = []\n",
        "        upsample_layers.append(self.features)\n",
        "        for i in range(1, self.depth + 1):\n",
        "            filters = int((2 ** (self.depth - i)) * self.width)\n",
        "            upsample_layers.append(\n",
        "                self.conv(\n",
        "                    x=tf.keras.layers.concatenate([\n",
        "                        downsample_layers[self.depth - i],\n",
        "                        self.deconv(\n",
        "                            x=upsample_layers[i - 1],\n",
        "                            filters=filters\n",
        "                        )\n",
        "                    ]),\n",
        "                    filters=filters,\n",
        "                    kernel_size=self.kernel_size\n",
        "                )\n",
        "            )\n",
        "\n",
        "        # ---------------------- Output -----------------------\n",
        "        outputs = self.output(upsample_layers[-1])\n",
        "\n",
        "        return tf.keras.Model(inputs, outputs)\n"
      ]
    },
    {
      "cell_type": "markdown",
      "metadata": {
        "id": "ga47oOoc0YxV"
      },
      "source": [
        "# Loss Functions"
      ]
    },
    {
      "cell_type": "code",
      "execution_count": 6,
      "metadata": {
        "id": "ooE90mpc0YxW"
      },
      "outputs": [],
      "source": [
        "def attention_mse(y_true, y_pred):\n",
        "    _y_true = y_true[y_true != 1.0]\n",
        "    _y_pred = y_pred[y_true != 1.0]\n",
        "    squared_difference = tf.square(_y_true - _y_pred)\n",
        "    return tf.reduce_mean(squared_difference, axis=-1)\n",
        "\n",
        "\n",
        "def attention_mae(y_true, y_pred):\n",
        "    _y_true = y_true[y_true != 1.0]\n",
        "    _y_pred = y_pred[y_true != 1.0]\n",
        "    squared_difference = tf.abs(_y_true - _y_pred)\n",
        "    return tf.reduce_mean(squared_difference, axis=-1)\n"
      ]
    },
    {
      "cell_type": "markdown",
      "metadata": {
        "id": "wOgmHYSJ0YxW"
      },
      "source": [
        "# Utils"
      ]
    },
    {
      "cell_type": "code",
      "execution_count": 7,
      "metadata": {
        "id": "cSrfyX260YxW"
      },
      "outputs": [],
      "source": [
        "def load_data_from_dir(path: str) -> tf.data.Dataset:\n",
        "    return tf.keras.utils.image_dataset_from_directory(\n",
        "        directory=path,\n",
        "        labels=None,\n",
        "        color_mode='rgb',\n",
        "        batch_size=BATCH_SIZE,\n",
        "        image_size=(IMG_SIZE, IMG_SIZE),\n",
        "        shuffle=True,\n",
        "        seed=42,\n",
        "        # validation_split=VAL_SPLIT,\n",
        "        # subset=subset,\n",
        "        interpolation='bilinear',\n",
        "        follow_links=False,\n",
        "        crop_to_aspect_ratio=False\n",
        "    )\n"
      ]
    },
    {
      "cell_type": "markdown",
      "metadata": {
        "id": "CyS-63WI0YxX"
      },
      "source": [
        "# Dataloaders"
      ]
    },
    {
      "cell_type": "code",
      "execution_count": 8,
      "metadata": {
        "colab": {
          "base_uri": "https://localhost:8080/"
        },
        "id": "71Dxzfkf0YxX",
        "outputId": "67426867-ff11-407b-ad28-6b7d32bde880"
      },
      "outputs": [
        {
          "output_type": "stream",
          "name": "stdout",
          "text": [
            "Found 6624 files belonging to 1 classes.\n",
            "Found 6624 files belonging to 1 classes.\n",
            "Found 1656 files belonging to 1 classes.\n",
            "Found 1656 files belonging to 1 classes.\n",
            "(TensorSpec(shape=(None, 256, 256, 3), dtype=tf.float32, name=None), TensorSpec(shape=(None, 256, 256, 3), dtype=tf.float32, name=None))\n",
            "(TensorSpec(shape=(None, 256, 256, 3), dtype=tf.float32, name=None), TensorSpec(shape=(None, 256, 256, 3), dtype=tf.float32, name=None))\n"
          ]
        }
      ],
      "source": [
        "trainX = load_data_from_dir(os.path.join(DATASET_PATH, TRAIN_DIR, INPUT_DIR))\n",
        "trainY = load_data_from_dir(os.path.join(DATASET_PATH, TRAIN_DIR, TARGET_DIR))\n",
        "testX = load_data_from_dir(os.path.join(DATASET_PATH, TEST_DIR, INPUT_DIR))\n",
        "testY = load_data_from_dir(os.path.join(DATASET_PATH, TEST_DIR, TARGET_DIR))\n",
        "\n",
        "train_ds = tf.data.Dataset.zip((trainX, trainY))\n",
        "test_ds = tf.data.Dataset.zip((testX, testY))\n",
        "\n",
        "print(train_ds.element_spec)\n",
        "print(test_ds.element_spec)\n"
      ]
    },
    {
      "cell_type": "markdown",
      "source": [
        "# Normalization"
      ],
      "metadata": {
        "id": "01HaegmR278r"
      }
    },
    {
      "cell_type": "code",
      "source": [
        "normalization_layer = tf.keras.layers.Rescaling(1./255)\n",
        "train_ds = train_ds.map(lambda x, y: (normalization_layer(x), normalization_layer(y)))\n",
        "test_ds = test_ds.map(lambda x, y: (normalization_layer(x), normalization_layer(y)))"
      ],
      "metadata": {
        "id": "mDeZuH0p26pE"
      },
      "execution_count": 9,
      "outputs": []
    },
    {
      "cell_type": "markdown",
      "metadata": {
        "id": "eHlKefA_0YxX"
      },
      "source": [
        "# Optimization"
      ]
    },
    {
      "cell_type": "code",
      "execution_count": 10,
      "metadata": {
        "id": "U-HMkfOG0YxX"
      },
      "outputs": [],
      "source": [
        "AUTOTUNE = tf.data.AUTOTUNE\n",
        "\n",
        "train_ds = train_ds.cache().prefetch(buffer_size=AUTOTUNE)\n",
        "test_ds = test_ds.cache().prefetch(buffer_size=AUTOTUNE)\n"
      ]
    },
    {
      "cell_type": "markdown",
      "metadata": {
        "id": "w50akeqN0YxX"
      },
      "source": [
        "# Training Config"
      ]
    },
    {
      "cell_type": "code",
      "execution_count": 11,
      "metadata": {
        "id": "2YvF85Wg0YxY"
      },
      "outputs": [],
      "source": [
        "callbacks = [\n",
        "    tf.keras.callbacks.EarlyStopping(\n",
        "        monitor=\"val_loss\",\n",
        "        patience=PATIENCE,\n",
        "        restore_best_weights=True\n",
        "    )\n",
        "]\n",
        "\n",
        "optimizer = tf.keras.optimizers.Adam(\n",
        "    learning_rate=LEARNING_RATE\n",
        ")\n",
        "\n",
        "model = UNet(IMG_SIZE)()\n",
        "\n",
        "model.compile(\n",
        "    loss=attention_mse,\n",
        "    optimizer=optimizer,\n",
        "    metrics=['mean_squared_error']\n",
        ")\n"
      ]
    },
    {
      "cell_type": "markdown",
      "metadata": {
        "id": "XrJPilPI0YxY"
      },
      "source": [
        "# Training"
      ]
    },
    {
      "cell_type": "code",
      "execution_count": 12,
      "metadata": {
        "colab": {
          "base_uri": "https://localhost:8080/"
        },
        "id": "y_b-8pkT0YxY",
        "outputId": "d345286c-1251-495d-f507-128e8fa887f9"
      },
      "outputs": [
        {
          "output_type": "stream",
          "name": "stdout",
          "text": [
            "Epoch 1/300\n",
            "828/828 [==============================] - 156s 169ms/step - loss: 0.0262 - mean_squared_error: 0.2355 - val_loss: 0.0224 - val_mean_squared_error: 0.2374\n",
            "Epoch 2/300\n",
            "828/828 [==============================] - 136s 164ms/step - loss: 0.0211 - mean_squared_error: 0.2322 - val_loss: 0.0209 - val_mean_squared_error: 0.2258\n",
            "Epoch 3/300\n",
            "828/828 [==============================] - 136s 164ms/step - loss: 0.0190 - mean_squared_error: 0.2320 - val_loss: 0.0209 - val_mean_squared_error: 0.2712\n",
            "Epoch 4/300\n",
            "828/828 [==============================] - 136s 164ms/step - loss: 0.0171 - mean_squared_error: 0.2339 - val_loss: 0.0205 - val_mean_squared_error: 0.2530\n",
            "Epoch 5/300\n",
            "828/828 [==============================] - 136s 164ms/step - loss: 0.0153 - mean_squared_error: 0.2350 - val_loss: 0.0303 - val_mean_squared_error: 0.4796\n",
            "Epoch 6/300\n",
            "828/828 [==============================] - 136s 164ms/step - loss: 0.0134 - mean_squared_error: 0.2351 - val_loss: 0.0202 - val_mean_squared_error: 0.4210\n",
            "Epoch 7/300\n",
            "828/828 [==============================] - 136s 164ms/step - loss: 0.0119 - mean_squared_error: 0.2350 - val_loss: 0.0307 - val_mean_squared_error: 0.4818\n",
            "Epoch 8/300\n",
            "828/828 [==============================] - 136s 164ms/step - loss: 0.0104 - mean_squared_error: 0.2349 - val_loss: 0.0190 - val_mean_squared_error: 0.2352\n",
            "Epoch 9/300\n",
            "828/828 [==============================] - 136s 164ms/step - loss: 0.0094 - mean_squared_error: 0.2341 - val_loss: 0.0186 - val_mean_squared_error: 0.1513\n",
            "Epoch 10/300\n",
            "828/828 [==============================] - 136s 164ms/step - loss: 0.0086 - mean_squared_error: 0.2333 - val_loss: 0.0193 - val_mean_squared_error: 0.2257\n",
            "Epoch 11/300\n",
            "828/828 [==============================] - 136s 164ms/step - loss: 0.0078 - mean_squared_error: 0.2325 - val_loss: 0.0181 - val_mean_squared_error: 0.2635\n",
            "Epoch 12/300\n",
            "828/828 [==============================] - 136s 164ms/step - loss: 0.0071 - mean_squared_error: 0.2315 - val_loss: 0.0269 - val_mean_squared_error: 0.3703\n",
            "Epoch 13/300\n",
            "828/828 [==============================] - 136s 164ms/step - loss: 0.0065 - mean_squared_error: 0.2294 - val_loss: 0.0184 - val_mean_squared_error: 0.0365\n",
            "Epoch 14/300\n",
            "828/828 [==============================] - 136s 164ms/step - loss: 0.0060 - mean_squared_error: 0.2277 - val_loss: 0.0175 - val_mean_squared_error: 0.0918\n",
            "Epoch 15/300\n",
            "828/828 [==============================] - 136s 164ms/step - loss: 0.0056 - mean_squared_error: 0.2262 - val_loss: 0.0178 - val_mean_squared_error: 0.2252\n",
            "Epoch 16/300\n",
            "828/828 [==============================] - 136s 164ms/step - loss: 0.0052 - mean_squared_error: 0.2244 - val_loss: 0.0186 - val_mean_squared_error: 0.2426\n",
            "Epoch 17/300\n",
            "828/828 [==============================] - 136s 164ms/step - loss: 0.0049 - mean_squared_error: 0.2227 - val_loss: 0.0188 - val_mean_squared_error: 0.2646\n",
            "Epoch 18/300\n",
            "828/828 [==============================] - 136s 164ms/step - loss: 0.0045 - mean_squared_error: 0.2209 - val_loss: 0.0173 - val_mean_squared_error: 0.2299\n",
            "Epoch 19/300\n",
            "828/828 [==============================] - 136s 164ms/step - loss: 0.0043 - mean_squared_error: 0.2192 - val_loss: 0.0182 - val_mean_squared_error: 0.2171\n",
            "Epoch 20/300\n",
            "828/828 [==============================] - 136s 164ms/step - loss: 0.0041 - mean_squared_error: 0.2184 - val_loss: 0.0181 - val_mean_squared_error: 0.1061\n",
            "Epoch 21/300\n",
            "828/828 [==============================] - 136s 164ms/step - loss: 0.0039 - mean_squared_error: 0.2191 - val_loss: 0.0176 - val_mean_squared_error: 0.2212\n",
            "Epoch 22/300\n",
            "828/828 [==============================] - 136s 164ms/step - loss: 0.0038 - mean_squared_error: 0.2202 - val_loss: 0.0184 - val_mean_squared_error: 0.2225\n",
            "Epoch 23/300\n",
            "828/828 [==============================] - 136s 164ms/step - loss: 0.0036 - mean_squared_error: 0.2232 - val_loss: 0.0182 - val_mean_squared_error: 0.2449\n",
            "Epoch 24/300\n",
            "828/828 [==============================] - 136s 164ms/step - loss: 0.0034 - mean_squared_error: 0.2265 - val_loss: 0.0176 - val_mean_squared_error: 0.2373\n",
            "Epoch 25/300\n",
            "828/828 [==============================] - 136s 164ms/step - loss: 0.0032 - mean_squared_error: 0.2295 - val_loss: 0.0179 - val_mean_squared_error: 0.1541\n",
            "Epoch 26/300\n",
            "828/828 [==============================] - 136s 164ms/step - loss: 0.0031 - mean_squared_error: 0.2322 - val_loss: 0.0179 - val_mean_squared_error: 0.0209\n",
            "Epoch 27/300\n",
            "828/828 [==============================] - 136s 164ms/step - loss: 0.0031 - mean_squared_error: 0.2356 - val_loss: 0.0181 - val_mean_squared_error: 0.2591\n",
            "Epoch 28/300\n",
            "828/828 [==============================] - 136s 164ms/step - loss: 0.0030 - mean_squared_error: 0.2388 - val_loss: 0.0185 - val_mean_squared_error: 0.3653\n",
            "Epoch 29/300\n",
            "828/828 [==============================] - 136s 164ms/step - loss: 0.0029 - mean_squared_error: 0.2435 - val_loss: 0.0186 - val_mean_squared_error: 0.0435\n",
            "Epoch 30/300\n",
            "828/828 [==============================] - 136s 164ms/step - loss: 0.0027 - mean_squared_error: 0.2487 - val_loss: 0.0179 - val_mean_squared_error: 0.2200\n",
            "Epoch 31/300\n",
            "828/828 [==============================] - 136s 164ms/step - loss: 0.0026 - mean_squared_error: 0.2525 - val_loss: 0.0180 - val_mean_squared_error: 0.1077\n",
            "Epoch 32/300\n",
            "828/828 [==============================] - 136s 164ms/step - loss: 0.0024 - mean_squared_error: 0.2551 - val_loss: 0.0181 - val_mean_squared_error: 0.2705\n",
            "Epoch 33/300\n",
            "828/828 [==============================] - 136s 164ms/step - loss: 0.0025 - mean_squared_error: 0.2583 - val_loss: 0.0179 - val_mean_squared_error: 0.1129\n",
            "Epoch 34/300\n",
            "828/828 [==============================] - 136s 164ms/step - loss: 0.0024 - mean_squared_error: 0.2609 - val_loss: 0.0176 - val_mean_squared_error: 0.2647\n",
            "Epoch 35/300\n",
            "828/828 [==============================] - 136s 164ms/step - loss: 0.0022 - mean_squared_error: 0.2643 - val_loss: 0.0177 - val_mean_squared_error: 0.3061\n",
            "Epoch 36/300\n",
            "828/828 [==============================] - 136s 164ms/step - loss: 0.0022 - mean_squared_error: 0.2676 - val_loss: 0.0180 - val_mean_squared_error: 0.2717\n",
            "Epoch 37/300\n",
            "828/828 [==============================] - 136s 164ms/step - loss: 0.0022 - mean_squared_error: 0.2702 - val_loss: 0.0181 - val_mean_squared_error: 0.3458\n",
            "Epoch 38/300\n",
            "828/828 [==============================] - 136s 164ms/step - loss: 0.0021 - mean_squared_error: 0.2731 - val_loss: 0.0178 - val_mean_squared_error: 0.3726\n",
            "Epoch 39/300\n",
            "828/828 [==============================] - 136s 164ms/step - loss: 0.0021 - mean_squared_error: 0.2752 - val_loss: 0.0174 - val_mean_squared_error: 0.3521\n",
            "Epoch 40/300\n",
            "828/828 [==============================] - 136s 164ms/step - loss: 0.0020 - mean_squared_error: 0.2781 - val_loss: 0.0180 - val_mean_squared_error: 0.2695\n",
            "Epoch 41/300\n",
            "828/828 [==============================] - 136s 164ms/step - loss: 0.0020 - mean_squared_error: 0.2810 - val_loss: 0.0191 - val_mean_squared_error: 0.3186\n",
            "Epoch 42/300\n",
            "828/828 [==============================] - 136s 164ms/step - loss: 0.0020 - mean_squared_error: 0.2830 - val_loss: 0.0175 - val_mean_squared_error: 0.3308\n",
            "Epoch 43/300\n",
            "828/828 [==============================] - 136s 164ms/step - loss: 0.0019 - mean_squared_error: 0.2844 - val_loss: 0.0181 - val_mean_squared_error: 0.1851\n",
            "Epoch 44/300\n",
            "828/828 [==============================] - 136s 164ms/step - loss: 0.0019 - mean_squared_error: 0.2858 - val_loss: 0.0177 - val_mean_squared_error: 0.2509\n",
            "Epoch 45/300\n",
            "828/828 [==============================] - 136s 164ms/step - loss: 0.0017 - mean_squared_error: 0.2886 - val_loss: 0.0181 - val_mean_squared_error: 0.3073\n",
            "Epoch 46/300\n",
            "828/828 [==============================] - 136s 164ms/step - loss: 0.0016 - mean_squared_error: 0.2912 - val_loss: 0.0178 - val_mean_squared_error: 0.2911\n",
            "Epoch 47/300\n",
            "828/828 [==============================] - 136s 164ms/step - loss: 0.0016 - mean_squared_error: 0.2952 - val_loss: 0.0179 - val_mean_squared_error: 0.2982\n",
            "Epoch 48/300\n",
            "828/828 [==============================] - 136s 164ms/step - loss: 0.0016 - mean_squared_error: 0.2984 - val_loss: 0.0177 - val_mean_squared_error: 0.3289\n"
          ]
        }
      ],
      "source": [
        "history = model.fit(\n",
        "    train_ds,\n",
        "    validation_data=test_ds,\n",
        "    epochs=N_EPOCHS,\n",
        "    batch_size=BATCH_SIZE,\n",
        "    callbacks=callbacks,\n",
        "    verbose=1\n",
        ")\n"
      ]
    },
    {
      "cell_type": "markdown",
      "source": [
        "# Save Model"
      ],
      "metadata": {
        "id": "HT68Jm8AEluI"
      }
    },
    {
      "cell_type": "code",
      "source": [
        "timestamp = datetime.datetime.now().strftime('%b-%d-%I:%M%p')\n",
        "model_path = os.path.join(MODEL_PATH, EXP_NAME)\n",
        "if not os.path.exists(model_path):\n",
        "    os.makedirs(model_path)\n",
        "\n",
        "model.save(os.path.join(model_path, timestamp))"
      ],
      "metadata": {
        "id": "xfUmF_1mEjXH"
      },
      "execution_count": 13,
      "outputs": []
    },
    {
      "cell_type": "markdown",
      "source": [
        "# Save Predictions"
      ],
      "metadata": {
        "id": "-PWi28iOKpXe"
      }
    },
    {
      "cell_type": "code",
      "execution_count": 14,
      "metadata": {
        "colab": {
          "base_uri": "https://localhost:8080/"
        },
        "id": "LLDJf93Z0YxY",
        "outputId": "1dd6a239-21c0-41af-fa7f-6c06f0d2a62e"
      },
      "outputs": [
        {
          "output_type": "stream",
          "name": "stderr",
          "text": [
            "1656it [00:12, 130.72it/s]\n"
          ]
        }
      ],
      "source": [
        "test_ds_unbatched = test_ds.unbatch()\n",
        "\n",
        "pred_path = os.path.join(PRED_PATH, EXP_NAME, timestamp)\n",
        "if not os.path.exists(pred_path):\n",
        "    os.makedirs(pred_path)\n",
        "\n",
        "for idx, (input, target) in enumerate(tqdm(test_ds_unbatched)):\n",
        "    if not idx % 40 == 0:\n",
        "        continue\n",
        "\n",
        "    prediction = tf.squeeze(\n",
        "        model.predict(\n",
        "            tf.expand_dims(input, axis=0)\n",
        "            )\n",
        "        ).numpy()\n",
        "    prediction[target > 0.9] = 1.0\n",
        "\n",
        "    plt.figure(figsize=(12, 4))\n",
        "    plt.subplot(1, 3, 1)\n",
        "    plt.imshow(input)\n",
        "    plt.axis(\"off\")\n",
        "    plt.title(\"INPUT\")\n",
        "    plt.subplot(1, 3, 2)\n",
        "    plt.imshow(target)\n",
        "    plt.axis(\"off\")\n",
        "    plt.title(\"TARGET\")\n",
        "    plt.subplot(1, 3, 3)\n",
        "    plt.imshow(prediction)\n",
        "    plt.axis(\"off\")\n",
        "    plt.title(\"PREDICTION\")\n",
        "    plt.tight_layout()\n",
        "    plt.savefig(os.path.join(pred_path, f\"{idx}.jpg\"))\n",
        "    plt.close()  \n"
      ]
    },
    {
      "cell_type": "code",
      "source": [],
      "metadata": {
        "id": "dq-aXv2mIwA8"
      },
      "execution_count": 14,
      "outputs": []
    }
  ],
  "metadata": {
    "kernelspec": {
      "display_name": "Python 3.10.6 ('Ai')",
      "language": "python",
      "name": "python3"
    },
    "language_info": {
      "codemirror_mode": {
        "name": "ipython",
        "version": 3
      },
      "file_extension": ".py",
      "mimetype": "text/x-python",
      "name": "python",
      "nbconvert_exporter": "python",
      "pygments_lexer": "ipython3",
      "version": "3.10.6"
    },
    "orig_nbformat": 4,
    "vscode": {
      "interpreter": {
        "hash": "cc12dd51c08fff59e312c49b5273cbf2a12939660509ea1a4d83cd89b0463726"
      }
    },
    "colab": {
      "provenance": [],
      "machine_shape": "hm",
      "include_colab_link": true
    },
    "accelerator": "GPU"
  },
  "nbformat": 4,
  "nbformat_minor": 0
}