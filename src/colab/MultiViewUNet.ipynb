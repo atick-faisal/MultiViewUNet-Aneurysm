{
  "cells": [
    {
      "cell_type": "markdown",
      "metadata": {
        "id": "view-in-github",
        "colab_type": "text"
      },
      "source": [
        "<a href=\"https://colab.research.google.com/github/atick-faisal/TAVI/blob/main/src/colab/MultiViewUNet.ipynb\" target=\"_parent\"><img src=\"https://colab.research.google.com/assets/colab-badge.svg\" alt=\"Open In Colab\"/></a>"
      ]
    },
    {
      "cell_type": "markdown",
      "source": [
        "# Colab Info"
      ],
      "metadata": {
        "id": "UVG0Xo17Xzdk"
      }
    },
    {
      "cell_type": "code",
      "source": [
        "from psutil import virtual_memory\n",
        "\n",
        "gpu_info = !nvidia-smi\n",
        "gpu_info = '\\n'.join(gpu_info)\n",
        "if gpu_info.find('failed') >= 0:\n",
        "  print('Not connected to a GPU')\n",
        "else:\n",
        "  print(gpu_info)\n",
        "\n",
        "\n",
        "ram_gb = virtual_memory().total / 1e9\n",
        "print('Your runtime has {:.1f} gigabytes of available RAM\\n'.format(ram_gb))\n",
        "\n",
        "if ram_gb < 20:\n",
        "  print('Not using a high-RAM runtime')\n",
        "else:\n",
        "  print('You are using a high-RAM runtime!')"
      ],
      "metadata": {
        "id": "ZwwbESaiX2xi",
        "outputId": "55ec75c8-7000-4a6a-ccfa-c62c2a0ebb40",
        "colab": {
          "base_uri": "https://localhost:8080/"
        }
      },
      "execution_count": null,
      "outputs": [
        {
          "output_type": "stream",
          "name": "stdout",
          "text": [
            "Mon Nov  7 19:10:34 2022       \n",
            "+-----------------------------------------------------------------------------+\n",
            "| NVIDIA-SMI 460.32.03    Driver Version: 460.32.03    CUDA Version: 11.2     |\n",
            "|-------------------------------+----------------------+----------------------+\n",
            "| GPU  Name        Persistence-M| Bus-Id        Disp.A | Volatile Uncorr. ECC |\n",
            "| Fan  Temp  Perf  Pwr:Usage/Cap|         Memory-Usage | GPU-Util  Compute M. |\n",
            "|                               |                      |               MIG M. |\n",
            "|===============================+======================+======================|\n",
            "|   0  Tesla T4            Off  | 00000000:00:04.0 Off |                    0 |\n",
            "| N/A   58C    P8    11W /  70W |      0MiB / 15109MiB |      0%      Default |\n",
            "|                               |                      |                  N/A |\n",
            "+-------------------------------+----------------------+----------------------+\n",
            "                                                                               \n",
            "+-----------------------------------------------------------------------------+\n",
            "| Processes:                                                                  |\n",
            "|  GPU   GI   CI        PID   Type   Process name                  GPU Memory |\n",
            "|        ID   ID                                                   Usage      |\n",
            "|=============================================================================|\n",
            "|  No running processes found                                                 |\n",
            "+-----------------------------------------------------------------------------+\n",
            "Your runtime has 27.3 gigabytes of available RAM\n",
            "\n",
            "You are using a high-RAM runtime!\n"
          ]
        }
      ]
    },
    {
      "cell_type": "markdown",
      "source": [
        "# Google Drive"
      ],
      "metadata": {
        "id": "0estJx3IDzz4"
      }
    },
    {
      "cell_type": "code",
      "source": [
        "from google.colab import drive\n",
        "drive.mount('/content/drive')"
      ],
      "metadata": {
        "colab": {
          "base_uri": "https://localhost:8080/"
        },
        "id": "WsH9ydF7Dwpf",
        "outputId": "a308d5c4-5963-4ecc-f7fd-4571cdf6610f"
      },
      "execution_count": null,
      "outputs": [
        {
          "output_type": "stream",
          "name": "stdout",
          "text": [
            "Mounted at /content/drive\n"
          ]
        }
      ]
    },
    {
      "cell_type": "markdown",
      "metadata": {
        "id": "MMf8mzRT0YxP"
      },
      "source": [
        "# Download Dataset"
      ]
    },
    {
      "cell_type": "code",
      "execution_count": null,
      "metadata": {
        "id": "Zm_HJEfM0YxS",
        "outputId": "878966f4-47a8-410a-d7ec-870e71bfacb6",
        "colab": {
          "base_uri": "https://localhost:8080/"
        }
      },
      "outputs": [
        {
          "output_type": "stream",
          "name": "stdout",
          "text": [
            "Downloading...\n",
            "From: https://drive.google.com/uc?id=1g-0bgXuN9YoiMql-KggxMr9a_vAxZGfV\n",
            "To: /content/CurvToTAWSS.zip\n",
            "100% 831M/831M [00:02<00:00, 349MB/s]\n"
          ]
        }
      ],
      "source": [
        "!gdown \"1g-0bgXuN9YoiMql-KggxMr9a_vAxZGfV\"\n",
        "!unzip -o \"CurvToTAWSS.zip\" > /dev/null\n"
      ]
    },
    {
      "cell_type": "markdown",
      "metadata": {
        "id": "Vemh_spU0YxT"
      },
      "source": [
        "# Imports"
      ]
    },
    {
      "cell_type": "code",
      "source": [
        "!pip install image-similarity-measures > /dev/null"
      ],
      "metadata": {
        "id": "6R23-7Fgp4K2"
      },
      "execution_count": null,
      "outputs": []
    },
    {
      "cell_type": "code",
      "execution_count": null,
      "metadata": {
        "id": "w0KYlE-90YxT"
      },
      "outputs": [],
      "source": [
        "import os\n",
        "import cv2\n",
        "import random\n",
        "import datetime\n",
        "import matplotlib\n",
        "import numpy as np\n",
        "import pandas as pd\n",
        "import tensorflow as tf\n",
        "import matplotlib.pyplot as plt\n",
        "\n",
        "from tqdm import tqdm\n",
        "from numpy.typing import NDArray\n",
        "from image_similarity_measures.quality_metrics import *\n",
        "\n",
        "matplotlib.use('Agg')\n",
        "plt.rcParams[\"font.size\"] = 16\n"
      ]
    },
    {
      "cell_type": "markdown",
      "metadata": {
        "id": "vE8WOTRj0YxT"
      },
      "source": [
        "# Config"
      ]
    },
    {
      "cell_type": "code",
      "execution_count": null,
      "metadata": {
        "id": "O5Vvm79c0YxT"
      },
      "outputs": [],
      "source": [
        "DATASET         = \"CurvToTAWSS\"\n",
        "MODEL_NAME      = \"MobileUNet\"\n",
        "DATASET_PATH    = \"/content/Images/\"\n",
        "TRAIN_DIR       = \"Train/\"\n",
        "TEST_DIR        = \"Test/\"\n",
        "INPUT_DIR       = \"Input/\"\n",
        "TARGET_DIR      = \"Target/\"\n",
        "MODEL_PATH      = \"/content/drive/MyDrive/Research/TAVI/Models/\"\n",
        "PRED_PATH       = \"/content/drive/MyDrive/Research/TAVI/Predictions/\"\n",
        "\n",
        "IMG_SIZE        = 256\n",
        "BATCH_SIZE      = 12\n",
        "BUFFER_SIZE     = 1000\n",
        "VAL_SPLIT       = 0.2\n",
        "LEARNING_RATE   = 0.001\n",
        "N_EPOCHS        = 300\n",
        "PATIENCE        = 30\n",
        "\n",
        "EXP_NAME        = f\"{MODEL_NAME}_I{IMG_SIZE}_B{BATCH_SIZE}_LR{LEARNING_RATE}_{DATASET}\"\n"
      ]
    },
    {
      "cell_type": "markdown",
      "metadata": {
        "id": "YmMjbvFH0YxU"
      },
      "source": [
        "# Architecture"
      ]
    },
    {
      "cell_type": "code",
      "execution_count": null,
      "metadata": {
        "id": "xecJpVUs0YxU"
      },
      "outputs": [],
      "source": [
        "class UNet:\n",
        "    def __init__(\n",
        "        self,\n",
        "        img_size: int,\n",
        "        n_channels: int = 3,\n",
        "        width: int = 32,\n",
        "        depth: int = 4,\n",
        "        kernel_size: int = 3\n",
        "    ):\n",
        "        self.img_size = img_size\n",
        "        self.n_channels = n_channels\n",
        "        self.width = width\n",
        "        self.depth = depth\n",
        "        self.kernel_size = kernel_size\n",
        "\n",
        "    @staticmethod\n",
        "    def conv(\n",
        "        x: tf.Tensor,\n",
        "        filters: int,\n",
        "        kernel_size: int\n",
        "    ) -> tf.Tensor:\n",
        "        for i in range(2):\n",
        "            x = tf.keras.layers.Conv2D(\n",
        "                filters=filters,\n",
        "                kernel_size=kernel_size,\n",
        "                strides=1,\n",
        "                padding=\"same\",\n",
        "                data_format=\"channels_last\",\n",
        "                dilation_rate=1,\n",
        "                groups=1,\n",
        "                activation=None,\n",
        "                use_bias=True,\n",
        "                kernel_initializer=\"glorot_uniform\",\n",
        "                bias_initializer=\"zeros\"\n",
        "            )(x)\n",
        "\n",
        "            x = tf.keras.layers.BatchNormalization()(x)\n",
        "            x = tf.keras.layers.Activation(\"relu\")(x)\n",
        "\n",
        "        return x\n",
        "\n",
        "    @staticmethod\n",
        "    def deconv(x: tf.Tensor, filters: int) -> tf.Tensor:\n",
        "        x = tf.keras.layers.Conv2DTranspose(\n",
        "            filters=filters,\n",
        "            kernel_size=2,\n",
        "            strides=2,\n",
        "            padding=\"same\",\n",
        "            output_padding=None,\n",
        "            data_format=None,\n",
        "            dilation_rate=1,\n",
        "            activation=None,\n",
        "            use_bias=True,\n",
        "            kernel_initializer=\"glorot_uniform\",\n",
        "            bias_initializer=\"zeros\"\n",
        "        )(x)\n",
        "\n",
        "        x = tf.keras.layers.BatchNormalization()(x)\n",
        "        x = tf.keras.layers.Activation(\"relu\")(x)\n",
        "\n",
        "        return x\n",
        "\n",
        "    @staticmethod\n",
        "    def output(x: tf.Tensor) -> tf.Tensor:\n",
        "        return tf.keras.layers.Conv2D(3, (1, 1), activation=\"sigmoid\")(x)\n",
        "\n",
        "    @staticmethod\n",
        "    def pool(x: tf.Tensor, pool_size: int = 2) -> tf.Tensor:\n",
        "        return tf.keras.layers.MaxPool2D(pool_size)(x)\n",
        "\n",
        "    def __call__(self) -> tf.keras.Model:\n",
        "        inputs = tf.keras.layers.Input(\n",
        "            shape=(self.img_size, self.img_size, self.n_channels)\n",
        "        )\n",
        "\n",
        "        # scaled = tf.keras.layers.Rescaling(1./255.0, offset=0)(inputs)\n",
        "\n",
        "        # ------------------ Downsampling ---------------------\n",
        "        downsample_layers = []\n",
        "        downsample_layers.append(\n",
        "            self.conv(\n",
        "                x=inputs,\n",
        "                filters=self.width,\n",
        "                kernel_size=self.kernel_size\n",
        "            )\n",
        "        )\n",
        "        for i in range(1, self.depth):\n",
        "            filters = int((2 ** i) * self.width)\n",
        "            downsample_layers.append(\n",
        "                self.pool(\n",
        "                    self.conv(\n",
        "                        x=downsample_layers[i - 1],\n",
        "                        filters=filters,\n",
        "                        kernel_size=self.kernel_size\n",
        "                    )\n",
        "                )\n",
        "            )\n",
        "\n",
        "        # ------------------- Features --------------------\n",
        "        n_features = int((2 ** self.depth) * self.width)\n",
        "        self.features = self.pool(\n",
        "            self.conv(\n",
        "                x=downsample_layers[-1],\n",
        "                filters=n_features,\n",
        "                kernel_size=self.kernel_size\n",
        "            )\n",
        "        )\n",
        "\n",
        "        # ------------------- Upsampling --------------------\n",
        "        upsample_layers = []\n",
        "        upsample_layers.append(self.features)\n",
        "        for i in range(1, self.depth + 1):\n",
        "            filters = int((2 ** (self.depth - i)) * self.width)\n",
        "            upsample_layers.append(\n",
        "                self.conv(\n",
        "                    x=tf.keras.layers.concatenate([\n",
        "                        downsample_layers[self.depth - i],\n",
        "                        self.deconv(\n",
        "                            x=upsample_layers[i - 1],\n",
        "                            filters=filters\n",
        "                        )\n",
        "                    ]),\n",
        "                    filters=filters,\n",
        "                    kernel_size=self.kernel_size\n",
        "                )\n",
        "            )\n",
        "\n",
        "        # ---------------------- Output -----------------------\n",
        "        outputs = self.output(upsample_layers[-1])\n",
        "\n",
        "        return tf.keras.Model(inputs, outputs)\n"
      ]
    },
    {
      "cell_type": "markdown",
      "metadata": {
        "id": "ga47oOoc0YxV"
      },
      "source": [
        "# Loss Functions"
      ]
    },
    {
      "cell_type": "code",
      "execution_count": null,
      "metadata": {
        "id": "ooE90mpc0YxW"
      },
      "outputs": [],
      "source": [
        "def attention_mse(y_true, y_pred):\n",
        "    _y_true = y_true[y_true != 1.0]\n",
        "    _y_pred = y_pred[y_true != 1.0]\n",
        "    squared_difference = tf.square(_y_true - _y_pred)\n",
        "    return tf.reduce_mean(squared_difference, axis=-1)\n",
        "\n",
        "\n",
        "def attention_mae(y_true, y_pred):\n",
        "    _y_true = y_true[y_true != 1.0]\n",
        "    _y_pred = y_pred[y_true != 1.0]\n",
        "    squared_difference = tf.abs(_y_true - _y_pred)\n",
        "    return tf.reduce_mean(squared_difference, axis=-1)\n"
      ]
    },
    {
      "cell_type": "markdown",
      "metadata": {
        "id": "wOgmHYSJ0YxW"
      },
      "source": [
        "# Utils"
      ]
    },
    {
      "cell_type": "code",
      "execution_count": null,
      "metadata": {
        "id": "cSrfyX260YxW"
      },
      "outputs": [],
      "source": [
        "def load_data_from_dir(path: str) -> tf.data.Dataset:\n",
        "    return tf.keras.utils.image_dataset_from_directory(\n",
        "        directory=path,\n",
        "        labels=None,\n",
        "        color_mode='rgb',\n",
        "        batch_size=BATCH_SIZE,\n",
        "        image_size=(IMG_SIZE, IMG_SIZE),\n",
        "        shuffle=True,\n",
        "        seed=42,\n",
        "        # validation_split=VAL_SPLIT,\n",
        "        # subset=subset,\n",
        "        interpolation='bilinear',\n",
        "        follow_links=False,\n",
        "        crop_to_aspect_ratio=False\n",
        "    )\n"
      ]
    },
    {
      "cell_type": "markdown",
      "metadata": {
        "id": "CyS-63WI0YxX"
      },
      "source": [
        "# Dataloaders"
      ]
    },
    {
      "cell_type": "code",
      "execution_count": null,
      "metadata": {
        "id": "71Dxzfkf0YxX",
        "outputId": "f2d6e619-19e1-48ae-98af-4725cbf9dc67",
        "colab": {
          "base_uri": "https://localhost:8080/"
        }
      },
      "outputs": [
        {
          "output_type": "stream",
          "name": "stdout",
          "text": [
            "Found 8208 files belonging to 1 classes.\n",
            "Found 8208 files belonging to 1 classes.\n",
            "Found 312 files belonging to 1 classes.\n",
            "Found 312 files belonging to 1 classes.\n",
            "(TensorSpec(shape=(None, 256, 256, 3), dtype=tf.float32, name=None), TensorSpec(shape=(None, 256, 256, 3), dtype=tf.float32, name=None))\n",
            "(TensorSpec(shape=(None, 256, 256, 3), dtype=tf.float32, name=None), TensorSpec(shape=(None, 256, 256, 3), dtype=tf.float32, name=None))\n"
          ]
        }
      ],
      "source": [
        "trainX = load_data_from_dir(os.path.join(DATASET_PATH, TRAIN_DIR, INPUT_DIR))\n",
        "trainY = load_data_from_dir(os.path.join(DATASET_PATH, TRAIN_DIR, TARGET_DIR))\n",
        "testX = load_data_from_dir(os.path.join(DATASET_PATH, TEST_DIR, INPUT_DIR))\n",
        "testY = load_data_from_dir(os.path.join(DATASET_PATH, TEST_DIR, TARGET_DIR))\n",
        "\n",
        "train_ds = tf.data.Dataset.zip((trainX, trainY))\n",
        "test_ds = tf.data.Dataset.zip((testX, testY))\n",
        "\n",
        "print(train_ds.element_spec)\n",
        "print(test_ds.element_spec)\n"
      ]
    },
    {
      "cell_type": "markdown",
      "source": [
        "# Normalization"
      ],
      "metadata": {
        "id": "01HaegmR278r"
      }
    },
    {
      "cell_type": "code",
      "source": [
        "# def normalize(input_image, output_image):\n",
        "#     input_image = tf.cast(input_image, tf.float32) / 255.0\n",
        "#     output_image = tf.cast(input_image, tf.float32) / 255.0\n",
        "#     return input_image, output_image"
      ],
      "metadata": {
        "id": "E1oi3-RTqZV1"
      },
      "execution_count": null,
      "outputs": []
    },
    {
      "cell_type": "code",
      "source": [
        "normalization_layer = tf.keras.layers.Rescaling(1./255)\n",
        "train_ds = train_ds.map(lambda x, y: (normalization_layer(x), normalization_layer(y)))\n",
        "test_ds = test_ds.map(lambda x, y: (normalization_layer(x), normalization_layer(y)))"
      ],
      "metadata": {
        "id": "mDeZuH0p26pE"
      },
      "execution_count": null,
      "outputs": []
    },
    {
      "cell_type": "markdown",
      "source": [
        "# Augmentation"
      ],
      "metadata": {
        "id": "tySOuC8Hqvdm"
      }
    },
    {
      "cell_type": "code",
      "source": [
        "class Augment(tf.keras.layers.Layer):\n",
        "    def __init__(self, seed=42):\n",
        "        super().__init__()\n",
        "        # both use the same seed, so they'll make the same random changes.\n",
        "        self.augment_inputs = tf.keras.layers.RandomZoom((-0.1, -0.5), seed=seed)\n",
        "        self.augment_labels = tf.keras.layers.RandomZoom((-0.1, -0.5), seed=seed)\n",
        "\n",
        "    def call(self, inputs, labels):\n",
        "        inputs = self.augment_inputs(inputs)\n",
        "        labels = self.augment_labels(labels)\n",
        "        return inputs, labels"
      ],
      "metadata": {
        "id": "OHQFZ9kKqu6f"
      },
      "execution_count": null,
      "outputs": []
    },
    {
      "cell_type": "markdown",
      "metadata": {
        "id": "eHlKefA_0YxX"
      },
      "source": [
        "# Optimization"
      ]
    },
    {
      "cell_type": "code",
      "execution_count": null,
      "metadata": {
        "id": "U-HMkfOG0YxX"
      },
      "outputs": [],
      "source": [
        "AUTOTUNE = tf.data.AUTOTUNE\n",
        "\n",
        "train_batches = (\n",
        "    train_ds\n",
        "    .cache()\n",
        "    # .shuffle(BUFFER_SIZE)\n",
        "    # .batch(BATCH_SIZE)\n",
        "    # .repeat()\n",
        "    .map(Augment())\n",
        "    .prefetch(buffer_size=AUTOTUNE)\n",
        ")\n",
        "\n",
        "test_batches = (test_ds)\n"
      ]
    },
    {
      "cell_type": "markdown",
      "metadata": {
        "id": "w50akeqN0YxX"
      },
      "source": [
        "# Training Config"
      ]
    },
    {
      "cell_type": "code",
      "execution_count": null,
      "metadata": {
        "id": "2YvF85Wg0YxY"
      },
      "outputs": [],
      "source": [
        "callbacks = [\n",
        "    tf.keras.callbacks.EarlyStopping(\n",
        "        monitor=\"val_loss\",\n",
        "        patience=PATIENCE,\n",
        "        restore_best_weights=True\n",
        "    )\n",
        "]\n",
        "\n",
        "optimizer = tf.keras.optimizers.Adam(\n",
        "    learning_rate=LEARNING_RATE\n",
        ")\n",
        "\n",
        "model = UNet(IMG_SIZE)()\n",
        "# model = MobileUNet(IMG_SIZE)()\n",
        "\n",
        "model.compile(\n",
        "    loss=attention_mse,\n",
        "    optimizer=optimizer,\n",
        "    metrics=['mean_squared_error']\n",
        ")\n"
      ]
    },
    {
      "cell_type": "markdown",
      "metadata": {
        "id": "XrJPilPI0YxY"
      },
      "source": [
        "# Training"
      ]
    },
    {
      "cell_type": "code",
      "execution_count": 16,
      "metadata": {
        "id": "y_b-8pkT0YxY",
        "outputId": "8a0afc41-1e23-46a1-9f17-70efdf92f01c",
        "colab": {
          "base_uri": "https://localhost:8080/"
        }
      },
      "outputs": [
        {
          "output_type": "stream",
          "name": "stdout",
          "text": [
            "Epoch 1/300\n",
            "684/684 [==============================] - 152s 199ms/step - loss: 0.0165 - mean_squared_error: 0.2712 - val_loss: 0.0207 - val_mean_squared_error: 0.0825\n",
            "Epoch 2/300\n",
            "684/684 [==============================] - 139s 204ms/step - loss: 0.0126 - mean_squared_error: 0.2694 - val_loss: 0.0130 - val_mean_squared_error: 0.3067\n",
            "Epoch 3/300\n",
            "684/684 [==============================] - 139s 204ms/step - loss: 0.0117 - mean_squared_error: 0.2712 - val_loss: 0.0120 - val_mean_squared_error: 0.3047\n",
            "Epoch 4/300\n",
            "684/684 [==============================] - 139s 204ms/step - loss: 0.0112 - mean_squared_error: 0.2704 - val_loss: 0.0120 - val_mean_squared_error: 0.0511\n",
            "Epoch 5/300\n",
            "684/684 [==============================] - 139s 204ms/step - loss: 0.0107 - mean_squared_error: 0.2695 - val_loss: 0.0111 - val_mean_squared_error: 0.2445\n",
            "Epoch 6/300\n",
            "684/684 [==============================] - 139s 203ms/step - loss: 0.0104 - mean_squared_error: 0.2699 - val_loss: 0.0417 - val_mean_squared_error: 0.0107\n",
            "Epoch 7/300\n",
            "684/684 [==============================] - 139s 204ms/step - loss: 0.0101 - mean_squared_error: 0.2695 - val_loss: 0.0658 - val_mean_squared_error: 0.0284\n",
            "Epoch 8/300\n",
            "684/684 [==============================] - 139s 204ms/step - loss: 0.0098 - mean_squared_error: 0.2688 - val_loss: 0.0099 - val_mean_squared_error: 0.1538\n",
            "Epoch 9/300\n",
            "684/684 [==============================] - 139s 203ms/step - loss: 0.0094 - mean_squared_error: 0.2675 - val_loss: 0.0126 - val_mean_squared_error: 0.0285\n",
            "Epoch 10/300\n",
            "684/684 [==============================] - 139s 204ms/step - loss: 0.0091 - mean_squared_error: 0.2657 - val_loss: 0.0134 - val_mean_squared_error: 0.0030\n",
            "Epoch 11/300\n",
            "684/684 [==============================] - 139s 204ms/step - loss: 0.0089 - mean_squared_error: 0.2664 - val_loss: 0.0258 - val_mean_squared_error: 0.0063\n",
            "Epoch 12/300\n",
            "684/684 [==============================] - 139s 203ms/step - loss: 0.0087 - mean_squared_error: 0.2667 - val_loss: 0.0121 - val_mean_squared_error: 0.0048\n",
            "Epoch 13/300\n",
            "684/684 [==============================] - 139s 203ms/step - loss: 0.0084 - mean_squared_error: 0.2640 - val_loss: 0.0084 - val_mean_squared_error: 0.2416\n",
            "Epoch 14/300\n",
            "684/684 [==============================] - 139s 203ms/step - loss: 0.0082 - mean_squared_error: 0.2572 - val_loss: 0.0382 - val_mean_squared_error: 0.0069\n",
            "Epoch 15/300\n",
            "684/684 [==============================] - 139s 203ms/step - loss: 0.0080 - mean_squared_error: 0.2521 - val_loss: 0.0122 - val_mean_squared_error: 0.1406\n",
            "Epoch 16/300\n",
            "684/684 [==============================] - 139s 203ms/step - loss: 0.0078 - mean_squared_error: 0.2480 - val_loss: 0.0137 - val_mean_squared_error: 0.0409\n",
            "Epoch 17/300\n",
            "684/684 [==============================] - 139s 203ms/step - loss: 0.0076 - mean_squared_error: 0.2491 - val_loss: 0.0268 - val_mean_squared_error: 0.0040\n",
            "Epoch 18/300\n",
            "684/684 [==============================] - 139s 203ms/step - loss: 0.0074 - mean_squared_error: 0.2516 - val_loss: 0.0127 - val_mean_squared_error: 0.0446\n",
            "Epoch 19/300\n",
            "684/684 [==============================] - 139s 203ms/step - loss: 0.0072 - mean_squared_error: 0.2522 - val_loss: 0.0086 - val_mean_squared_error: 0.0111\n",
            "Epoch 20/300\n",
            "684/684 [==============================] - 139s 204ms/step - loss: 0.0070 - mean_squared_error: 0.2535 - val_loss: 0.0083 - val_mean_squared_error: 0.2629\n",
            "Epoch 21/300\n",
            "684/684 [==============================] - 139s 203ms/step - loss: 0.0068 - mean_squared_error: 0.2574 - val_loss: 0.0277 - val_mean_squared_error: 0.0041\n",
            "Epoch 22/300\n",
            "684/684 [==============================] - 139s 203ms/step - loss: 0.0066 - mean_squared_error: 0.2616 - val_loss: 0.0100 - val_mean_squared_error: 0.1894\n",
            "Epoch 23/300\n",
            "684/684 [==============================] - 139s 203ms/step - loss: 0.0065 - mean_squared_error: 0.2652 - val_loss: 0.0179 - val_mean_squared_error: 0.0028\n",
            "Epoch 24/300\n",
            "684/684 [==============================] - 139s 203ms/step - loss: 0.0063 - mean_squared_error: 0.2690 - val_loss: 0.0086 - val_mean_squared_error: 0.2746\n",
            "Epoch 25/300\n",
            "684/684 [==============================] - 139s 203ms/step - loss: 0.0063 - mean_squared_error: 0.2716 - val_loss: 0.0114 - val_mean_squared_error: 0.1182\n",
            "Epoch 26/300\n",
            "684/684 [==============================] - 139s 203ms/step - loss: 0.0061 - mean_squared_error: 0.2760 - val_loss: 0.0108 - val_mean_squared_error: 0.1676\n",
            "Epoch 27/300\n",
            "684/684 [==============================] - 139s 203ms/step - loss: 0.0059 - mean_squared_error: 0.2776 - val_loss: 0.0091 - val_mean_squared_error: 0.2922\n",
            "Epoch 28/300\n",
            "684/684 [==============================] - 139s 204ms/step - loss: 0.0058 - mean_squared_error: 0.2810 - val_loss: 0.0127 - val_mean_squared_error: 0.1945\n",
            "Epoch 29/300\n",
            "684/684 [==============================] - 139s 203ms/step - loss: 0.0057 - mean_squared_error: 0.2837 - val_loss: 0.0149 - val_mean_squared_error: 0.1663\n",
            "Epoch 30/300\n",
            "684/684 [==============================] - 139s 203ms/step - loss: 0.0056 - mean_squared_error: 0.2863 - val_loss: 0.0121 - val_mean_squared_error: 0.2622\n",
            "Epoch 31/300\n",
            "684/684 [==============================] - 139s 203ms/step - loss: 0.0055 - mean_squared_error: 0.2892 - val_loss: 0.0140 - val_mean_squared_error: 0.0140\n",
            "Epoch 32/300\n",
            "684/684 [==============================] - 139s 203ms/step - loss: 0.0054 - mean_squared_error: 0.2900 - val_loss: 0.0143 - val_mean_squared_error: 0.0471\n",
            "Epoch 33/300\n",
            "684/684 [==============================] - 139s 203ms/step - loss: 0.0052 - mean_squared_error: 0.2911 - val_loss: 0.0095 - val_mean_squared_error: 0.3045\n",
            "Epoch 34/300\n",
            "684/684 [==============================] - 139s 203ms/step - loss: 0.0052 - mean_squared_error: 0.2921 - val_loss: 0.0070 - val_mean_squared_error: 0.2382\n",
            "Epoch 35/300\n",
            "684/684 [==============================] - 139s 203ms/step - loss: 0.0051 - mean_squared_error: 0.2955 - val_loss: 0.0082 - val_mean_squared_error: 0.3319\n",
            "Epoch 36/300\n",
            "684/684 [==============================] - 139s 203ms/step - loss: 0.0050 - mean_squared_error: 0.2978 - val_loss: 0.0123 - val_mean_squared_error: 0.2031\n",
            "Epoch 37/300\n",
            "684/684 [==============================] - 139s 203ms/step - loss: 0.0049 - mean_squared_error: 0.3001 - val_loss: 0.0092 - val_mean_squared_error: 0.2468\n",
            "Epoch 38/300\n",
            "684/684 [==============================] - 139s 203ms/step - loss: 0.0048 - mean_squared_error: 0.3003 - val_loss: 0.0159 - val_mean_squared_error: 0.0024\n",
            "Epoch 39/300\n",
            "684/684 [==============================] - 139s 203ms/step - loss: 0.0048 - mean_squared_error: 0.3030 - val_loss: 0.0085 - val_mean_squared_error: 0.3438\n",
            "Epoch 40/300\n",
            "684/684 [==============================] - 139s 204ms/step - loss: 0.0047 - mean_squared_error: 0.3056 - val_loss: 0.0143 - val_mean_squared_error: 0.1610\n",
            "Epoch 41/300\n",
            "684/684 [==============================] - 139s 203ms/step - loss: 0.0046 - mean_squared_error: 0.3068 - val_loss: 0.0071 - val_mean_squared_error: 0.2656\n",
            "Epoch 42/300\n",
            "684/684 [==============================] - 139s 203ms/step - loss: 0.0045 - mean_squared_error: 0.3091 - val_loss: 0.0067 - val_mean_squared_error: 0.2928\n",
            "Epoch 43/300\n",
            "684/684 [==============================] - 139s 203ms/step - loss: 0.0045 - mean_squared_error: 0.3094 - val_loss: 0.0073 - val_mean_squared_error: 0.1520\n",
            "Epoch 44/300\n",
            "684/684 [==============================] - 139s 203ms/step - loss: 0.0045 - mean_squared_error: 0.3105 - val_loss: 0.0078 - val_mean_squared_error: 0.2749\n",
            "Epoch 45/300\n",
            "684/684 [==============================] - 139s 203ms/step - loss: 0.0044 - mean_squared_error: 0.3111 - val_loss: 0.0069 - val_mean_squared_error: 0.2168\n",
            "Epoch 46/300\n",
            "684/684 [==============================] - 139s 203ms/step - loss: 0.0043 - mean_squared_error: 0.3134 - val_loss: 0.0095 - val_mean_squared_error: 0.3406\n",
            "Epoch 47/300\n",
            "684/684 [==============================] - 139s 203ms/step - loss: 0.0043 - mean_squared_error: 0.3144 - val_loss: 0.0092 - val_mean_squared_error: 0.3766\n",
            "Epoch 48/300\n",
            "684/684 [==============================] - 139s 203ms/step - loss: 0.0042 - mean_squared_error: 0.3154 - val_loss: 0.0123 - val_mean_squared_error: 0.0325\n",
            "Epoch 49/300\n",
            "684/684 [==============================] - 139s 203ms/step - loss: 0.0042 - mean_squared_error: 0.3162 - val_loss: 0.0072 - val_mean_squared_error: 0.0542\n",
            "Epoch 50/300\n",
            "684/684 [==============================] - 139s 203ms/step - loss: 0.0041 - mean_squared_error: 0.3176 - val_loss: 0.0073 - val_mean_squared_error: 0.3213\n",
            "Epoch 51/300\n",
            "684/684 [==============================] - 139s 203ms/step - loss: 0.0040 - mean_squared_error: 0.3198 - val_loss: 0.0066 - val_mean_squared_error: 0.0813\n",
            "Epoch 52/300\n",
            "684/684 [==============================] - 139s 203ms/step - loss: 0.0040 - mean_squared_error: 0.3190 - val_loss: 0.0106 - val_mean_squared_error: 0.3373\n",
            "Epoch 53/300\n",
            "684/684 [==============================] - 139s 203ms/step - loss: 0.0040 - mean_squared_error: 0.3198 - val_loss: 0.0068 - val_mean_squared_error: 0.2984\n",
            "Epoch 54/300\n",
            "684/684 [==============================] - 139s 203ms/step - loss: 0.0039 - mean_squared_error: 0.3211 - val_loss: 0.0115 - val_mean_squared_error: 0.1012\n",
            "Epoch 55/300\n",
            "684/684 [==============================] - 139s 203ms/step - loss: 0.0039 - mean_squared_error: 0.3213 - val_loss: 0.0079 - val_mean_squared_error: 0.4058\n",
            "Epoch 56/300\n",
            "684/684 [==============================] - 139s 203ms/step - loss: 0.0038 - mean_squared_error: 0.3230 - val_loss: 0.0119 - val_mean_squared_error: 0.3377\n",
            "Epoch 57/300\n",
            "684/684 [==============================] - 139s 203ms/step - loss: 0.0038 - mean_squared_error: 0.3247 - val_loss: 0.0086 - val_mean_squared_error: 0.3371\n",
            "Epoch 58/300\n",
            "684/684 [==============================] - 139s 202ms/step - loss: 0.0038 - mean_squared_error: 0.3246 - val_loss: 0.0314 - val_mean_squared_error: 0.0049\n",
            "Epoch 59/300\n",
            "684/684 [==============================] - 139s 203ms/step - loss: 0.0038 - mean_squared_error: 0.3248 - val_loss: 0.0090 - val_mean_squared_error: 0.2100\n",
            "Epoch 60/300\n",
            "684/684 [==============================] - 139s 203ms/step - loss: 0.0037 - mean_squared_error: 0.3256 - val_loss: 0.0128 - val_mean_squared_error: 0.0175\n",
            "Epoch 61/300\n",
            "684/684 [==============================] - 139s 203ms/step - loss: 0.0037 - mean_squared_error: 0.3274 - val_loss: 0.0140 - val_mean_squared_error: 0.0207\n",
            "Epoch 62/300\n",
            "684/684 [==============================] - 139s 203ms/step - loss: 0.0036 - mean_squared_error: 0.3276 - val_loss: 0.0088 - val_mean_squared_error: 0.4135\n",
            "Epoch 63/300\n",
            "684/684 [==============================] - 139s 203ms/step - loss: 0.0036 - mean_squared_error: 0.3286 - val_loss: 0.0205 - val_mean_squared_error: 0.0175\n",
            "Epoch 64/300\n",
            "684/684 [==============================] - 139s 203ms/step - loss: 0.0036 - mean_squared_error: 0.3299 - val_loss: 0.0442 - val_mean_squared_error: 0.0052\n",
            "Epoch 65/300\n",
            "684/684 [==============================] - 139s 203ms/step - loss: 0.0035 - mean_squared_error: 0.3303 - val_loss: 0.0338 - val_mean_squared_error: 0.0041\n",
            "Epoch 66/300\n",
            "684/684 [==============================] - 139s 203ms/step - loss: 0.0035 - mean_squared_error: 0.3310 - val_loss: 0.0440 - val_mean_squared_error: 0.0079\n",
            "Epoch 67/300\n",
            "684/684 [==============================] - 139s 203ms/step - loss: 0.0035 - mean_squared_error: 0.3316 - val_loss: 0.0080 - val_mean_squared_error: 0.3785\n",
            "Epoch 68/300\n",
            "684/684 [==============================] - 139s 203ms/step - loss: 0.0034 - mean_squared_error: 0.3320 - val_loss: 0.0064 - val_mean_squared_error: 0.2617\n",
            "Epoch 69/300\n",
            "684/684 [==============================] - 139s 203ms/step - loss: 0.0034 - mean_squared_error: 0.3328 - val_loss: 0.0073 - val_mean_squared_error: 0.3544\n",
            "Epoch 70/300\n",
            "684/684 [==============================] - 139s 203ms/step - loss: 0.0033 - mean_squared_error: 0.3332 - val_loss: 0.0142 - val_mean_squared_error: 0.3838\n",
            "Epoch 71/300\n",
            "684/684 [==============================] - 139s 203ms/step - loss: 0.0034 - mean_squared_error: 0.3333 - val_loss: 0.0279 - val_mean_squared_error: 0.0093\n",
            "Epoch 72/300\n",
            "684/684 [==============================] - 139s 203ms/step - loss: 0.0033 - mean_squared_error: 0.3330 - val_loss: 0.0377 - val_mean_squared_error: 0.0093\n",
            "Epoch 73/300\n",
            "684/684 [==============================] - 139s 203ms/step - loss: 0.0033 - mean_squared_error: 0.3331 - val_loss: 0.0125 - val_mean_squared_error: 0.4137\n",
            "Epoch 74/300\n",
            "684/684 [==============================] - 139s 203ms/step - loss: 0.0032 - mean_squared_error: 0.3336 - val_loss: 0.0068 - val_mean_squared_error: 0.0108\n",
            "Epoch 75/300\n",
            "684/684 [==============================] - 139s 203ms/step - loss: 0.0032 - mean_squared_error: 0.3331 - val_loss: 0.0064 - val_mean_squared_error: 0.3035\n",
            "Epoch 76/300\n",
            "684/684 [==============================] - 139s 203ms/step - loss: 0.0032 - mean_squared_error: 0.3337 - val_loss: 0.0102 - val_mean_squared_error: 0.0319\n",
            "Epoch 77/300\n",
            "684/684 [==============================] - 139s 204ms/step - loss: 0.0032 - mean_squared_error: 0.3340 - val_loss: 0.0082 - val_mean_squared_error: 0.1712\n",
            "Epoch 78/300\n",
            "684/684 [==============================] - 139s 203ms/step - loss: 0.0031 - mean_squared_error: 0.3337 - val_loss: 0.0095 - val_mean_squared_error: 0.0348\n",
            "Epoch 79/300\n",
            "684/684 [==============================] - 139s 203ms/step - loss: 0.0031 - mean_squared_error: 0.3349 - val_loss: 0.0097 - val_mean_squared_error: 0.0323\n",
            "Epoch 80/300\n",
            "684/684 [==============================] - 139s 203ms/step - loss: 0.0031 - mean_squared_error: 0.3354 - val_loss: 0.0142 - val_mean_squared_error: 0.0426\n",
            "Epoch 81/300\n",
            "684/684 [==============================] - 139s 203ms/step - loss: 0.0031 - mean_squared_error: 0.3338 - val_loss: 0.0064 - val_mean_squared_error: 0.1299\n",
            "Epoch 82/300\n",
            "684/684 [==============================] - 139s 203ms/step - loss: 0.0031 - mean_squared_error: 0.3348 - val_loss: 0.0103 - val_mean_squared_error: 0.0231\n",
            "Epoch 83/300\n",
            "684/684 [==============================] - 139s 203ms/step - loss: 0.0031 - mean_squared_error: 0.3352 - val_loss: 0.0091 - val_mean_squared_error: 0.0488\n",
            "Epoch 84/300\n",
            "684/684 [==============================] - 139s 203ms/step - loss: 0.0030 - mean_squared_error: 0.3356 - val_loss: 0.0084 - val_mean_squared_error: 0.4052\n",
            "Epoch 85/300\n",
            "684/684 [==============================] - 139s 203ms/step - loss: 0.0030 - mean_squared_error: 0.3360 - val_loss: 0.0111 - val_mean_squared_error: 0.0402\n",
            "Epoch 86/300\n",
            "684/684 [==============================] - 139s 203ms/step - loss: 0.0030 - mean_squared_error: 0.3363 - val_loss: 0.0071 - val_mean_squared_error: 0.3574\n",
            "Epoch 87/300\n",
            "684/684 [==============================] - 139s 203ms/step - loss: 0.0030 - mean_squared_error: 0.3366 - val_loss: 0.0070 - val_mean_squared_error: 0.4043\n",
            "Epoch 88/300\n",
            "684/684 [==============================] - 139s 203ms/step - loss: 0.0029 - mean_squared_error: 0.3372 - val_loss: 0.0065 - val_mean_squared_error: 0.2724\n",
            "Epoch 89/300\n",
            "684/684 [==============================] - 139s 203ms/step - loss: 0.0029 - mean_squared_error: 0.3380 - val_loss: 0.0104 - val_mean_squared_error: 0.3791\n",
            "Epoch 90/300\n",
            "684/684 [==============================] - 139s 203ms/step - loss: 0.0029 - mean_squared_error: 0.3380 - val_loss: 0.0062 - val_mean_squared_error: 0.3450\n",
            "Epoch 91/300\n",
            "684/684 [==============================] - 140s 204ms/step - loss: 0.0029 - mean_squared_error: 0.3375 - val_loss: 0.0104 - val_mean_squared_error: 0.4587\n",
            "Epoch 92/300\n",
            "684/684 [==============================] - 140s 204ms/step - loss: 0.0029 - mean_squared_error: 0.3379 - val_loss: 0.0069 - val_mean_squared_error: 0.0660\n",
            "Epoch 93/300\n",
            "684/684 [==============================] - 139s 204ms/step - loss: 0.0028 - mean_squared_error: 0.3386 - val_loss: 0.0062 - val_mean_squared_error: 0.3728\n",
            "Epoch 94/300\n",
            "684/684 [==============================] - 139s 204ms/step - loss: 0.0029 - mean_squared_error: 0.3383 - val_loss: 0.0108 - val_mean_squared_error: 0.4685\n",
            "Epoch 95/300\n",
            "684/684 [==============================] - 139s 204ms/step - loss: 0.0028 - mean_squared_error: 0.3381 - val_loss: 0.0072 - val_mean_squared_error: 0.3718\n",
            "Epoch 96/300\n",
            "684/684 [==============================] - 139s 204ms/step - loss: 0.0028 - mean_squared_error: 0.3381 - val_loss: 0.0065 - val_mean_squared_error: 0.3290\n",
            "Epoch 97/300\n",
            "684/684 [==============================] - 139s 203ms/step - loss: 0.0028 - mean_squared_error: 0.3390 - val_loss: 0.0169 - val_mean_squared_error: 0.0349\n",
            "Epoch 98/300\n",
            "684/684 [==============================] - 139s 204ms/step - loss: 0.0028 - mean_squared_error: 0.3381 - val_loss: 0.0082 - val_mean_squared_error: 0.4080\n",
            "Epoch 99/300\n",
            "684/684 [==============================] - 139s 204ms/step - loss: 0.0028 - mean_squared_error: 0.3383 - val_loss: 0.0064 - val_mean_squared_error: 0.1715\n",
            "Epoch 100/300\n",
            "684/684 [==============================] - 139s 204ms/step - loss: 0.0028 - mean_squared_error: 0.3384 - val_loss: 0.0067 - val_mean_squared_error: 0.3646\n",
            "Epoch 101/300\n",
            "684/684 [==============================] - 139s 204ms/step - loss: 0.0027 - mean_squared_error: 0.3391 - val_loss: 0.0102 - val_mean_squared_error: 0.4600\n",
            "Epoch 102/300\n",
            "684/684 [==============================] - 139s 204ms/step - loss: 0.0027 - mean_squared_error: 0.3381 - val_loss: 0.0146 - val_mean_squared_error: 0.0320\n",
            "Epoch 103/300\n",
            "684/684 [==============================] - 140s 204ms/step - loss: 0.0027 - mean_squared_error: 0.3383 - val_loss: 0.0109 - val_mean_squared_error: 0.4757\n",
            "Epoch 104/300\n",
            "684/684 [==============================] - 139s 203ms/step - loss: 0.0027 - mean_squared_error: 0.3385 - val_loss: 0.0062 - val_mean_squared_error: 0.1704\n",
            "Epoch 105/300\n",
            "684/684 [==============================] - 139s 204ms/step - loss: 0.0026 - mean_squared_error: 0.3385 - val_loss: 0.0063 - val_mean_squared_error: 0.3729\n",
            "Epoch 106/300\n",
            "684/684 [==============================] - 139s 204ms/step - loss: 0.0027 - mean_squared_error: 0.3381 - val_loss: 0.0077 - val_mean_squared_error: 0.0616\n",
            "Epoch 107/300\n",
            "684/684 [==============================] - 139s 203ms/step - loss: 0.0026 - mean_squared_error: 0.3382 - val_loss: 0.0074 - val_mean_squared_error: 0.4605\n",
            "Epoch 108/300\n",
            "684/684 [==============================] - 139s 204ms/step - loss: 0.0026 - mean_squared_error: 0.3385 - val_loss: 0.0097 - val_mean_squared_error: 0.2855\n",
            "Epoch 109/300\n",
            "684/684 [==============================] - 139s 204ms/step - loss: 0.0026 - mean_squared_error: 0.3380 - val_loss: 0.0089 - val_mean_squared_error: 0.0221\n",
            "Epoch 110/300\n",
            "684/684 [==============================] - 139s 203ms/step - loss: 0.0026 - mean_squared_error: 0.3387 - val_loss: 0.0224 - val_mean_squared_error: 0.0477\n",
            "Epoch 111/300\n",
            "684/684 [==============================] - 139s 203ms/step - loss: 0.0026 - mean_squared_error: 0.3386 - val_loss: 0.0065 - val_mean_squared_error: 0.2436\n",
            "Epoch 112/300\n",
            "684/684 [==============================] - 139s 203ms/step - loss: 0.0026 - mean_squared_error: 0.3385 - val_loss: 0.0065 - val_mean_squared_error: 0.1957\n",
            "Epoch 113/300\n",
            "684/684 [==============================] - 139s 203ms/step - loss: 0.0026 - mean_squared_error: 0.3390 - val_loss: 0.0099 - val_mean_squared_error: 0.0150\n",
            "Epoch 114/300\n",
            "684/684 [==============================] - 139s 203ms/step - loss: 0.0026 - mean_squared_error: 0.3388 - val_loss: 0.0425 - val_mean_squared_error: 0.0157\n",
            "Epoch 115/300\n",
            "684/684 [==============================] - 139s 203ms/step - loss: 0.0025 - mean_squared_error: 0.3384 - val_loss: 0.0075 - val_mean_squared_error: 0.4519\n",
            "Epoch 116/300\n",
            "684/684 [==============================] - 139s 203ms/step - loss: 0.0025 - mean_squared_error: 0.3391 - val_loss: 0.0170 - val_mean_squared_error: 0.0194\n",
            "Epoch 117/300\n",
            "684/684 [==============================] - 139s 203ms/step - loss: 0.0025 - mean_squared_error: 0.3395 - val_loss: 0.0161 - val_mean_squared_error: 0.0362\n",
            "Epoch 118/300\n",
            "684/684 [==============================] - 139s 203ms/step - loss: 0.0025 - mean_squared_error: 0.3393 - val_loss: 0.0417 - val_mean_squared_error: 0.0330\n",
            "Epoch 119/300\n",
            "684/684 [==============================] - 139s 203ms/step - loss: 0.0025 - mean_squared_error: 0.3382 - val_loss: 0.0065 - val_mean_squared_error: 0.3974\n",
            "Epoch 120/300\n",
            "684/684 [==============================] - 139s 203ms/step - loss: 0.0025 - mean_squared_error: 0.3386 - val_loss: 0.0069 - val_mean_squared_error: 0.4629\n",
            "Epoch 121/300\n",
            "684/684 [==============================] - 139s 204ms/step - loss: 0.0025 - mean_squared_error: 0.3387 - val_loss: 0.0073 - val_mean_squared_error: 0.0357\n",
            "Epoch 122/300\n",
            "684/684 [==============================] - 139s 203ms/step - loss: 0.0025 - mean_squared_error: 0.3387 - val_loss: 0.0068 - val_mean_squared_error: 0.3928\n",
            "Epoch 123/300\n",
            "684/684 [==============================] - 139s 203ms/step - loss: 0.0024 - mean_squared_error: 0.3387 - val_loss: 0.0068 - val_mean_squared_error: 0.0202\n",
            "Epoch 124/300\n",
            "684/684 [==============================] - 139s 203ms/step - loss: 0.0025 - mean_squared_error: 0.3385 - val_loss: 0.0066 - val_mean_squared_error: 0.2330\n",
            "Epoch 125/300\n",
            "684/684 [==============================] - 139s 203ms/step - loss: 0.0024 - mean_squared_error: 0.3385 - val_loss: 0.0071 - val_mean_squared_error: 0.3882\n",
            "Epoch 126/300\n",
            "684/684 [==============================] - 139s 203ms/step - loss: 0.0024 - mean_squared_error: 0.3389 - val_loss: 0.0086 - val_mean_squared_error: 0.4412\n",
            "Epoch 127/300\n",
            "684/684 [==============================] - 139s 203ms/step - loss: 0.0024 - mean_squared_error: 0.3382 - val_loss: 0.0066 - val_mean_squared_error: 0.3980\n",
            "Epoch 128/300\n",
            "684/684 [==============================] - 139s 203ms/step - loss: 0.0024 - mean_squared_error: 0.3388 - val_loss: 0.0066 - val_mean_squared_error: 0.1635\n",
            "Epoch 129/300\n",
            "684/684 [==============================] - 139s 203ms/step - loss: 0.0024 - mean_squared_error: 0.3386 - val_loss: 0.0410 - val_mean_squared_error: 0.0406\n",
            "Epoch 130/300\n",
            "684/684 [==============================] - 139s 203ms/step - loss: 0.0024 - mean_squared_error: 0.3398 - val_loss: 0.0072 - val_mean_squared_error: 0.4687\n",
            "Epoch 131/300\n",
            "684/684 [==============================] - 139s 203ms/step - loss: 0.0024 - mean_squared_error: 0.3385 - val_loss: 0.0201 - val_mean_squared_error: 0.0205\n",
            "Epoch 132/300\n",
            "684/684 [==============================] - 139s 203ms/step - loss: 0.0024 - mean_squared_error: 0.3390 - val_loss: 0.0318 - val_mean_squared_error: 0.0423\n",
            "Epoch 133/300\n",
            "684/684 [==============================] - 139s 203ms/step - loss: 0.0024 - mean_squared_error: 0.3387 - val_loss: 0.0065 - val_mean_squared_error: 0.2374\n",
            "Epoch 134/300\n",
            "684/684 [==============================] - 139s 203ms/step - loss: 0.0023 - mean_squared_error: 0.3387 - val_loss: 0.0084 - val_mean_squared_error: 0.0098\n"
          ]
        }
      ],
      "source": [
        "history = model.fit(\n",
        "    train_batches,\n",
        "    validation_data=test_batches,\n",
        "    epochs=N_EPOCHS,\n",
        "    batch_size=BATCH_SIZE,\n",
        "    callbacks=callbacks,\n",
        "    verbose=1\n",
        ")\n"
      ]
    },
    {
      "cell_type": "markdown",
      "source": [
        "# Save Model"
      ],
      "metadata": {
        "id": "HT68Jm8AEluI"
      }
    },
    {
      "cell_type": "code",
      "source": [
        "timestamp = datetime.datetime.now().strftime('%b-%d-%I:%M%p')\n",
        "model_path = os.path.join(MODEL_PATH, EXP_NAME)\n",
        "if not os.path.exists(model_path):\n",
        "    os.makedirs(model_path)\n",
        "\n",
        "model.save(os.path.join(model_path, timestamp))"
      ],
      "metadata": {
        "id": "xfUmF_1mEjXH",
        "outputId": "668e8248-77e7-4efe-f701-7b9ebe4cec06",
        "colab": {
          "base_uri": "https://localhost:8080/"
        }
      },
      "execution_count": 17,
      "outputs": [
        {
          "output_type": "stream",
          "name": "stderr",
          "text": [
            "WARNING:absl:Found untraced functions such as _jit_compiled_convolution_op, _jit_compiled_convolution_op, _jit_compiled_convolution_op, _jit_compiled_convolution_op, _jit_compiled_convolution_op while saving (showing 5 of 23). These functions will not be directly callable after loading.\n"
          ]
        }
      ]
    },
    {
      "cell_type": "markdown",
      "source": [
        "# Save Predictions"
      ],
      "metadata": {
        "id": "-PWi28iOKpXe"
      }
    },
    {
      "cell_type": "code",
      "execution_count": 18,
      "metadata": {
        "id": "LLDJf93Z0YxY",
        "outputId": "88e9a2d3-a2ad-4cb5-e7fc-b7e808abe314",
        "colab": {
          "base_uri": "https://localhost:8080/"
        }
      },
      "outputs": [
        {
          "output_type": "stream",
          "name": "stderr",
          "text": [
            "\r0it [00:00, ?it/s]"
          ]
        },
        {
          "output_type": "stream",
          "name": "stdout",
          "text": [
            "1/1 [==============================] - 1s 1s/step\n"
          ]
        },
        {
          "output_type": "stream",
          "name": "stderr",
          "text": [
            "\r1it [00:02,  2.26s/it]"
          ]
        },
        {
          "output_type": "stream",
          "name": "stdout",
          "text": [
            "1/1 [==============================] - 0s 18ms/step\n"
          ]
        },
        {
          "output_type": "stream",
          "name": "stderr",
          "text": [
            "\r11it [00:02,  5.92it/s]"
          ]
        },
        {
          "output_type": "stream",
          "name": "stdout",
          "text": [
            "1/1 [==============================] - 0s 28ms/step\n"
          ]
        },
        {
          "output_type": "stream",
          "name": "stderr",
          "text": [
            "\r21it [00:02, 11.46it/s]"
          ]
        },
        {
          "output_type": "stream",
          "name": "stdout",
          "text": [
            "1/1 [==============================] - 0s 19ms/step\n"
          ]
        },
        {
          "output_type": "stream",
          "name": "stderr",
          "text": [
            "\r31it [00:02, 16.92it/s]"
          ]
        },
        {
          "output_type": "stream",
          "name": "stdout",
          "text": [
            "1/1 [==============================] - 0s 19ms/step\n"
          ]
        },
        {
          "output_type": "stream",
          "name": "stderr",
          "text": [
            "\r41it [00:03, 21.36it/s]"
          ]
        },
        {
          "output_type": "stream",
          "name": "stdout",
          "text": [
            "1/1 [==============================] - 0s 19ms/step\n"
          ]
        },
        {
          "output_type": "stream",
          "name": "stderr",
          "text": [
            "\r51it [00:03, 25.14it/s]"
          ]
        },
        {
          "output_type": "stream",
          "name": "stdout",
          "text": [
            "1/1 [==============================] - 0s 19ms/step\n"
          ]
        },
        {
          "output_type": "stream",
          "name": "stderr",
          "text": [
            "\r61it [00:03, 28.37it/s]"
          ]
        },
        {
          "output_type": "stream",
          "name": "stdout",
          "text": [
            "1/1 [==============================] - 0s 17ms/step\n"
          ]
        },
        {
          "output_type": "stream",
          "name": "stderr",
          "text": [
            "\r71it [00:04, 32.30it/s]"
          ]
        },
        {
          "output_type": "stream",
          "name": "stdout",
          "text": [
            "1/1 [==============================] - 0s 29ms/step\n"
          ]
        },
        {
          "output_type": "stream",
          "name": "stderr",
          "text": [
            "\r81it [00:04, 35.56it/s]"
          ]
        },
        {
          "output_type": "stream",
          "name": "stdout",
          "text": [
            "1/1 [==============================] - 0s 36ms/step\n"
          ]
        },
        {
          "output_type": "stream",
          "name": "stderr",
          "text": [
            "\r91it [00:04, 36.14it/s]"
          ]
        },
        {
          "output_type": "stream",
          "name": "stdout",
          "text": [
            "1/1 [==============================] - 0s 41ms/step\n"
          ]
        },
        {
          "output_type": "stream",
          "name": "stderr",
          "text": [
            "\r101it [00:04, 36.94it/s]"
          ]
        },
        {
          "output_type": "stream",
          "name": "stdout",
          "text": [
            "1/1 [==============================] - 0s 27ms/step\n"
          ]
        },
        {
          "output_type": "stream",
          "name": "stderr",
          "text": [
            "\r111it [00:04, 38.77it/s]"
          ]
        },
        {
          "output_type": "stream",
          "name": "stdout",
          "text": [
            "1/1 [==============================] - 0s 18ms/step\n"
          ]
        },
        {
          "output_type": "stream",
          "name": "stderr",
          "text": [
            "\r121it [00:05, 38.27it/s]"
          ]
        },
        {
          "output_type": "stream",
          "name": "stdout",
          "text": [
            "1/1 [==============================] - 0s 17ms/step\n"
          ]
        },
        {
          "output_type": "stream",
          "name": "stderr",
          "text": [
            "\r131it [00:05, 39.83it/s]"
          ]
        },
        {
          "output_type": "stream",
          "name": "stdout",
          "text": [
            "1/1 [==============================] - 0s 19ms/step\n"
          ]
        },
        {
          "output_type": "stream",
          "name": "stderr",
          "text": [
            "\r141it [00:05, 38.89it/s]"
          ]
        },
        {
          "output_type": "stream",
          "name": "stdout",
          "text": [
            "1/1 [==============================] - 0s 18ms/step\n"
          ]
        },
        {
          "output_type": "stream",
          "name": "stderr",
          "text": [
            "\r151it [00:06, 39.21it/s]"
          ]
        },
        {
          "output_type": "stream",
          "name": "stdout",
          "text": [
            "1/1 [==============================] - 0s 23ms/step\n"
          ]
        },
        {
          "output_type": "stream",
          "name": "stderr",
          "text": [
            "\r161it [00:06, 40.01it/s]"
          ]
        },
        {
          "output_type": "stream",
          "name": "stdout",
          "text": [
            "1/1 [==============================] - 0s 18ms/step\n"
          ]
        },
        {
          "output_type": "stream",
          "name": "stderr",
          "text": [
            "\r171it [00:06, 28.52it/s]"
          ]
        },
        {
          "output_type": "stream",
          "name": "stdout",
          "text": [
            "1/1 [==============================] - 0s 18ms/step\n"
          ]
        },
        {
          "output_type": "stream",
          "name": "stderr",
          "text": [
            "\r181it [00:07, 32.92it/s]"
          ]
        },
        {
          "output_type": "stream",
          "name": "stdout",
          "text": [
            "1/1 [==============================] - 0s 19ms/step\n"
          ]
        },
        {
          "output_type": "stream",
          "name": "stderr",
          "text": [
            "\r191it [00:07, 36.88it/s]"
          ]
        },
        {
          "output_type": "stream",
          "name": "stdout",
          "text": [
            "1/1 [==============================] - 0s 18ms/step\n"
          ]
        },
        {
          "output_type": "stream",
          "name": "stderr",
          "text": [
            "\r201it [00:07, 39.63it/s]"
          ]
        },
        {
          "output_type": "stream",
          "name": "stdout",
          "text": [
            "1/1 [==============================] - 0s 18ms/step\n"
          ]
        },
        {
          "output_type": "stream",
          "name": "stderr",
          "text": [
            "\r211it [00:07, 40.55it/s]"
          ]
        },
        {
          "output_type": "stream",
          "name": "stdout",
          "text": [
            "1/1 [==============================] - 0s 19ms/step\n"
          ]
        },
        {
          "output_type": "stream",
          "name": "stderr",
          "text": [
            "\r221it [00:07, 43.23it/s]"
          ]
        },
        {
          "output_type": "stream",
          "name": "stdout",
          "text": [
            "1/1 [==============================] - 0s 18ms/step\n"
          ]
        },
        {
          "output_type": "stream",
          "name": "stderr",
          "text": [
            "\r231it [00:08, 44.84it/s]"
          ]
        },
        {
          "output_type": "stream",
          "name": "stdout",
          "text": [
            "1/1 [==============================] - 0s 18ms/step\n"
          ]
        },
        {
          "output_type": "stream",
          "name": "stderr",
          "text": [
            "\r241it [00:08, 44.38it/s]"
          ]
        },
        {
          "output_type": "stream",
          "name": "stdout",
          "text": [
            "1/1 [==============================] - 0s 18ms/step\n"
          ]
        },
        {
          "output_type": "stream",
          "name": "stderr",
          "text": [
            "\r251it [00:08, 46.58it/s]"
          ]
        },
        {
          "output_type": "stream",
          "name": "stdout",
          "text": [
            "1/1 [==============================] - 0s 18ms/step\n"
          ]
        },
        {
          "output_type": "stream",
          "name": "stderr",
          "text": [
            "\r261it [00:08, 45.65it/s]"
          ]
        },
        {
          "output_type": "stream",
          "name": "stdout",
          "text": [
            "1/1 [==============================] - 0s 20ms/step\n"
          ]
        },
        {
          "output_type": "stream",
          "name": "stderr",
          "text": [
            "\r271it [00:08, 44.35it/s]"
          ]
        },
        {
          "output_type": "stream",
          "name": "stdout",
          "text": [
            "1/1 [==============================] - 0s 19ms/step\n"
          ]
        },
        {
          "output_type": "stream",
          "name": "stderr",
          "text": [
            "\r281it [00:09, 44.06it/s]"
          ]
        },
        {
          "output_type": "stream",
          "name": "stdout",
          "text": [
            "1/1 [==============================] - 0s 18ms/step\n"
          ]
        },
        {
          "output_type": "stream",
          "name": "stderr",
          "text": [
            "\r291it [00:09, 44.27it/s]"
          ]
        },
        {
          "output_type": "stream",
          "name": "stdout",
          "text": [
            "1/1 [==============================] - 0s 17ms/step\n"
          ]
        },
        {
          "output_type": "stream",
          "name": "stderr",
          "text": [
            "\r301it [00:09, 44.58it/s]"
          ]
        },
        {
          "output_type": "stream",
          "name": "stdout",
          "text": [
            "1/1 [==============================] - 0s 19ms/step\n"
          ]
        },
        {
          "output_type": "stream",
          "name": "stderr",
          "text": [
            "312it [00:09, 31.63it/s]\n"
          ]
        }
      ],
      "source": [
        "test_ds_unbatched = test_batches.unbatch()\n",
        "\n",
        "pred_path = os.path.join(PRED_PATH, EXP_NAME, timestamp)\n",
        "if not os.path.exists(pred_path):\n",
        "    os.makedirs(pred_path)\n",
        "\n",
        "metrics = pd.DataFrame()\n",
        "\n",
        "for idx, (input, target) in enumerate(tqdm(test_ds_unbatched)):\n",
        "\n",
        "    if not idx % 10 == 0:\n",
        "        continue\n",
        "\n",
        "    target = target.numpy()\n",
        "    prediction = tf.squeeze(\n",
        "        model.predict(\n",
        "            tf.expand_dims(input, axis=0)\n",
        "            )\n",
        "        ).numpy()\n",
        "    prediction[target == 1.0] = 1.0\n",
        "\n",
        "    _metrics = pd.DataFrame([[\n",
        "            rmse(target, prediction),\n",
        "            psnr(target, prediction),\n",
        "            ssim(target, prediction),\n",
        "            fsim(target, prediction),\n",
        "            issm(target, prediction),\n",
        "            sre(target, prediction),\n",
        "            sam(target, prediction),\n",
        "            uiq(target, prediction),\n",
        "        ]],\n",
        "        columns=[\"RMSE\", \"PSNR\", \"SSIM\", \"FSIM\", \"ISSM\", \"SRE\", \"SAM\", \"UIQ\"]\n",
        "    )\n",
        "\n",
        "    metrics = pd.concat([metrics, _metrics], axis=0)\n",
        "\n",
        "    plt.figure(figsize=(12, 4))\n",
        "    plt.subplot(1, 3, 1)\n",
        "    plt.imshow(input)\n",
        "    plt.axis(\"off\")\n",
        "    plt.title(\"INPUT\")\n",
        "    plt.subplot(1, 3, 2)\n",
        "    plt.imshow(target)\n",
        "    plt.axis(\"off\")\n",
        "    plt.title(\"TARGET\")\n",
        "    plt.subplot(1, 3, 3)\n",
        "    plt.imshow(prediction)\n",
        "    plt.axis(\"off\")\n",
        "    plt.title(\"PREDICTION\")\n",
        "    plt.tight_layout()\n",
        "    plt.savefig(os.path.join(pred_path, f\"{idx}.png\"))\n",
        "    plt.close()  \n"
      ]
    },
    {
      "cell_type": "code",
      "source": [
        "loss = history.history['loss']\n",
        "val_loss = history.history['val_loss']\n",
        "\n",
        "plt.figure(figsize=(8, 6))\n",
        "plt.plot(loss, label='Training Loss')\n",
        "plt.plot(val_loss, label='Validation Loss')\n",
        "plt.legend(loc='upper right')\n",
        "plt.ylabel('Attention MAE')\n",
        "plt.title('Training and Validation Loss')\n",
        "plt.xlabel('Epoch')\n",
        "plt.tight_layout()\n",
        "plt.savefig(os.path.join(model_path, timestamp + \".png\"))\n",
        "plt.close()"
      ],
      "metadata": {
        "id": "dq-aXv2mIwA8"
      },
      "execution_count": 19,
      "outputs": []
    },
    {
      "cell_type": "code",
      "source": [
        "metrics"
      ],
      "metadata": {
        "id": "oCBrZ-hLpbg1",
        "outputId": "6ecdd113-15e2-4e46-9598-3a239d909195",
        "colab": {
          "base_uri": "https://localhost:8080/",
          "height": 49
        }
      },
      "execution_count": 20,
      "outputs": [
        {
          "output_type": "execute_result",
          "data": {
            "text/plain": [
              "Empty DataFrame\n",
              "Columns: []\n",
              "Index: []"
            ],
            "text/html": [
              "\n",
              "  <div id=\"df-e64de13d-f21e-48e5-8ad3-d27bc4d889ae\">\n",
              "    <div class=\"colab-df-container\">\n",
              "      <div>\n",
              "<style scoped>\n",
              "    .dataframe tbody tr th:only-of-type {\n",
              "        vertical-align: middle;\n",
              "    }\n",
              "\n",
              "    .dataframe tbody tr th {\n",
              "        vertical-align: top;\n",
              "    }\n",
              "\n",
              "    .dataframe thead th {\n",
              "        text-align: right;\n",
              "    }\n",
              "</style>\n",
              "<table border=\"1\" class=\"dataframe\">\n",
              "  <thead>\n",
              "    <tr style=\"text-align: right;\">\n",
              "      <th></th>\n",
              "    </tr>\n",
              "  </thead>\n",
              "  <tbody>\n",
              "  </tbody>\n",
              "</table>\n",
              "</div>\n",
              "      <button class=\"colab-df-convert\" onclick=\"convertToInteractive('df-e64de13d-f21e-48e5-8ad3-d27bc4d889ae')\"\n",
              "              title=\"Convert this dataframe to an interactive table.\"\n",
              "              style=\"display:none;\">\n",
              "        \n",
              "  <svg xmlns=\"http://www.w3.org/2000/svg\" height=\"24px\"viewBox=\"0 0 24 24\"\n",
              "       width=\"24px\">\n",
              "    <path d=\"M0 0h24v24H0V0z\" fill=\"none\"/>\n",
              "    <path d=\"M18.56 5.44l.94 2.06.94-2.06 2.06-.94-2.06-.94-.94-2.06-.94 2.06-2.06.94zm-11 1L8.5 8.5l.94-2.06 2.06-.94-2.06-.94L8.5 2.5l-.94 2.06-2.06.94zm10 10l.94 2.06.94-2.06 2.06-.94-2.06-.94-.94-2.06-.94 2.06-2.06.94z\"/><path d=\"M17.41 7.96l-1.37-1.37c-.4-.4-.92-.59-1.43-.59-.52 0-1.04.2-1.43.59L10.3 9.45l-7.72 7.72c-.78.78-.78 2.05 0 2.83L4 21.41c.39.39.9.59 1.41.59.51 0 1.02-.2 1.41-.59l7.78-7.78 2.81-2.81c.8-.78.8-2.07 0-2.86zM5.41 20L4 18.59l7.72-7.72 1.47 1.35L5.41 20z\"/>\n",
              "  </svg>\n",
              "      </button>\n",
              "      \n",
              "  <style>\n",
              "    .colab-df-container {\n",
              "      display:flex;\n",
              "      flex-wrap:wrap;\n",
              "      gap: 12px;\n",
              "    }\n",
              "\n",
              "    .colab-df-convert {\n",
              "      background-color: #E8F0FE;\n",
              "      border: none;\n",
              "      border-radius: 50%;\n",
              "      cursor: pointer;\n",
              "      display: none;\n",
              "      fill: #1967D2;\n",
              "      height: 32px;\n",
              "      padding: 0 0 0 0;\n",
              "      width: 32px;\n",
              "    }\n",
              "\n",
              "    .colab-df-convert:hover {\n",
              "      background-color: #E2EBFA;\n",
              "      box-shadow: 0px 1px 2px rgba(60, 64, 67, 0.3), 0px 1px 3px 1px rgba(60, 64, 67, 0.15);\n",
              "      fill: #174EA6;\n",
              "    }\n",
              "\n",
              "    [theme=dark] .colab-df-convert {\n",
              "      background-color: #3B4455;\n",
              "      fill: #D2E3FC;\n",
              "    }\n",
              "\n",
              "    [theme=dark] .colab-df-convert:hover {\n",
              "      background-color: #434B5C;\n",
              "      box-shadow: 0px 1px 3px 1px rgba(0, 0, 0, 0.15);\n",
              "      filter: drop-shadow(0px 1px 2px rgba(0, 0, 0, 0.3));\n",
              "      fill: #FFFFFF;\n",
              "    }\n",
              "  </style>\n",
              "\n",
              "      <script>\n",
              "        const buttonEl =\n",
              "          document.querySelector('#df-e64de13d-f21e-48e5-8ad3-d27bc4d889ae button.colab-df-convert');\n",
              "        buttonEl.style.display =\n",
              "          google.colab.kernel.accessAllowed ? 'block' : 'none';\n",
              "\n",
              "        async function convertToInteractive(key) {\n",
              "          const element = document.querySelector('#df-e64de13d-f21e-48e5-8ad3-d27bc4d889ae');\n",
              "          const dataTable =\n",
              "            await google.colab.kernel.invokeFunction('convertToInteractive',\n",
              "                                                     [key], {});\n",
              "          if (!dataTable) return;\n",
              "\n",
              "          const docLinkHtml = 'Like what you see? Visit the ' +\n",
              "            '<a target=\"_blank\" href=https://colab.research.google.com/notebooks/data_table.ipynb>data table notebook</a>'\n",
              "            + ' to learn more about interactive tables.';\n",
              "          element.innerHTML = '';\n",
              "          dataTable['output_type'] = 'display_data';\n",
              "          await google.colab.output.renderOutput(dataTable, element);\n",
              "          const docLink = document.createElement('div');\n",
              "          docLink.innerHTML = docLinkHtml;\n",
              "          element.appendChild(docLink);\n",
              "        }\n",
              "      </script>\n",
              "    </div>\n",
              "  </div>\n",
              "  "
            ]
          },
          "metadata": {},
          "execution_count": 20
        }
      ]
    },
    {
      "cell_type": "code",
      "source": [],
      "metadata": {
        "id": "Clx7EdsW2yFf"
      },
      "execution_count": 20,
      "outputs": []
    }
  ],
  "metadata": {
    "kernelspec": {
      "display_name": "Python 3.10.6 ('Ai')",
      "language": "python",
      "name": "python3"
    },
    "language_info": {
      "codemirror_mode": {
        "name": "ipython",
        "version": 3
      },
      "file_extension": ".py",
      "mimetype": "text/x-python",
      "name": "python",
      "nbconvert_exporter": "python",
      "pygments_lexer": "ipython3",
      "version": "3.10.6"
    },
    "orig_nbformat": 4,
    "vscode": {
      "interpreter": {
        "hash": "cc12dd51c08fff59e312c49b5273cbf2a12939660509ea1a4d83cd89b0463726"
      }
    },
    "colab": {
      "provenance": [],
      "machine_shape": "hm",
      "include_colab_link": true
    },
    "accelerator": "GPU",
    "gpuClass": "standard"
  },
  "nbformat": 4,
  "nbformat_minor": 0
}