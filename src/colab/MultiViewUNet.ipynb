{
  "cells": [
    {
      "cell_type": "markdown",
      "metadata": {
        "id": "view-in-github",
        "colab_type": "text"
      },
      "source": [
        "<a href=\"https://colab.research.google.com/github/atick-faisal/TAVI/blob/main/src/colab/MultiViewUNet.ipynb\" target=\"_parent\"><img src=\"https://colab.research.google.com/assets/colab-badge.svg\" alt=\"Open In Colab\"/></a>"
      ]
    },
    {
      "cell_type": "markdown",
      "source": [
        "# Colab Info"
      ],
      "metadata": {
        "id": "UVG0Xo17Xzdk"
      }
    },
    {
      "cell_type": "code",
      "source": [
        "from psutil import virtual_memory\n",
        "\n",
        "gpu_info = !nvidia-smi\n",
        "gpu_info = '\\n'.join(gpu_info)\n",
        "if gpu_info.find('failed') >= 0:\n",
        "  print('Not connected to a GPU')\n",
        "else:\n",
        "  print(gpu_info)\n",
        "\n",
        "\n",
        "ram_gb = virtual_memory().total / 1e9\n",
        "print('Your runtime has {:.1f} gigabytes of available RAM\\n'.format(ram_gb))\n",
        "\n",
        "if ram_gb < 20:\n",
        "  print('Not using a high-RAM runtime')\n",
        "else:\n",
        "  print('You are using a high-RAM runtime!')"
      ],
      "metadata": {
        "id": "ZwwbESaiX2xi",
        "outputId": "95c56eb6-5f81-4e36-9a01-50a98e5f9828",
        "colab": {
          "base_uri": "https://localhost:8080/"
        }
      },
      "execution_count": 1,
      "outputs": [
        {
          "output_type": "stream",
          "name": "stdout",
          "text": [
            "Sun Nov 13 11:14:00 2022       \n",
            "+-----------------------------------------------------------------------------+\n",
            "| NVIDIA-SMI 460.32.03    Driver Version: 460.32.03    CUDA Version: 11.2     |\n",
            "|-------------------------------+----------------------+----------------------+\n",
            "| GPU  Name        Persistence-M| Bus-Id        Disp.A | Volatile Uncorr. ECC |\n",
            "| Fan  Temp  Perf  Pwr:Usage/Cap|         Memory-Usage | GPU-Util  Compute M. |\n",
            "|                               |                      |               MIG M. |\n",
            "|===============================+======================+======================|\n",
            "|   0  Tesla T4            Off  | 00000000:00:04.0 Off |                    0 |\n",
            "| N/A   45C    P8     9W /  70W |      0MiB / 15109MiB |      0%      Default |\n",
            "|                               |                      |                  N/A |\n",
            "+-------------------------------+----------------------+----------------------+\n",
            "                                                                               \n",
            "+-----------------------------------------------------------------------------+\n",
            "| Processes:                                                                  |\n",
            "|  GPU   GI   CI        PID   Type   Process name                  GPU Memory |\n",
            "|        ID   ID                                                   Usage      |\n",
            "|=============================================================================|\n",
            "|  No running processes found                                                 |\n",
            "+-----------------------------------------------------------------------------+\n",
            "Your runtime has 27.3 gigabytes of available RAM\n",
            "\n",
            "You are using a high-RAM runtime!\n"
          ]
        }
      ]
    },
    {
      "cell_type": "markdown",
      "source": [
        "# Google Drive"
      ],
      "metadata": {
        "id": "0estJx3IDzz4"
      }
    },
    {
      "cell_type": "code",
      "source": [
        "from google.colab import drive\n",
        "drive.mount('/content/drive')"
      ],
      "metadata": {
        "colab": {
          "base_uri": "https://localhost:8080/"
        },
        "id": "WsH9ydF7Dwpf",
        "outputId": "3d6fcc6e-7889-4f3d-cc77-f920ceae4bad"
      },
      "execution_count": 2,
      "outputs": [
        {
          "output_type": "stream",
          "name": "stdout",
          "text": [
            "Mounted at /content/drive\n"
          ]
        }
      ]
    },
    {
      "cell_type": "markdown",
      "metadata": {
        "id": "MMf8mzRT0YxP"
      },
      "source": [
        "# Download Dataset"
      ]
    },
    {
      "cell_type": "code",
      "execution_count": 3,
      "metadata": {
        "id": "Zm_HJEfM0YxS",
        "outputId": "cbd7493f-0d43-4eb1-90af-cfa093c494dc",
        "colab": {
          "base_uri": "https://localhost:8080/"
        }
      },
      "outputs": [
        {
          "output_type": "stream",
          "name": "stdout",
          "text": [
            "Downloading...\n",
            "From: https://drive.google.com/uc?id=1g-0bgXuN9YoiMql-KggxMr9a_vAxZGfV\n",
            "To: /content/CurvToTAWSS.zip\n",
            "100% 831M/831M [00:03<00:00, 236MB/s]\n"
          ]
        }
      ],
      "source": [
        "!gdown \"1g-0bgXuN9YoiMql-KggxMr9a_vAxZGfV\"\n",
        "!unzip -o \"CurvToTAWSS.zip\" > /dev/null\n"
      ]
    },
    {
      "cell_type": "markdown",
      "metadata": {
        "id": "Vemh_spU0YxT"
      },
      "source": [
        "# Imports"
      ]
    },
    {
      "cell_type": "code",
      "source": [
        "!pip install image-similarity-measures > /dev/null"
      ],
      "metadata": {
        "id": "6R23-7Fgp4K2"
      },
      "execution_count": 4,
      "outputs": []
    },
    {
      "cell_type": "code",
      "execution_count": 5,
      "metadata": {
        "id": "w0KYlE-90YxT"
      },
      "outputs": [],
      "source": [
        "import os\n",
        "import cv2\n",
        "import random\n",
        "import datetime\n",
        "import matplotlib\n",
        "import numpy as np\n",
        "import pandas as pd\n",
        "import tensorflow as tf\n",
        "import matplotlib.pyplot as plt\n",
        "\n",
        "from tqdm import tqdm\n",
        "from numpy.typing import NDArray\n",
        "from image_similarity_measures.quality_metrics import *\n",
        "\n",
        "matplotlib.use('Agg')\n",
        "plt.rcParams[\"font.size\"] = 16\n"
      ]
    },
    {
      "cell_type": "markdown",
      "metadata": {
        "id": "vE8WOTRj0YxT"
      },
      "source": [
        "# Config"
      ]
    },
    {
      "cell_type": "code",
      "execution_count": 6,
      "metadata": {
        "id": "O5Vvm79c0YxT"
      },
      "outputs": [],
      "source": [
        "DATASET         = \"CurvToTAWSS\"\n",
        "MODEL_NAME      = \"MultiViewUNet_5_32\"\n",
        "DATASET_PATH    = \"/content/Images/\"\n",
        "TRAIN_DIR       = \"Train/\"\n",
        "TEST_DIR        = \"Test/\"\n",
        "INPUT_DIR       = \"Input/\"\n",
        "TARGET_DIR      = \"Target/\"\n",
        "MODEL_PATH      = \"/content/drive/MyDrive/Research/TAVI/Models/\"\n",
        "PRED_PATH       = \"/content/drive/MyDrive/Research/TAVI/Predictions/\"\n",
        "\n",
        "IMG_SIZE        = 256\n",
        "BATCH_SIZE      = 12\n",
        "BUFFER_SIZE     = 1000\n",
        "VAL_SPLIT       = 0.2\n",
        "LEARNING_RATE   = 0.001\n",
        "N_EPOCHS        = 300\n",
        "PATIENCE        = 30\n",
        "\n",
        "EXP_NAME        = f\"{MODEL_NAME}_I{IMG_SIZE}_B{BATCH_SIZE}_LR{LEARNING_RATE}_{DATASET}\"\n"
      ]
    },
    {
      "cell_type": "markdown",
      "metadata": {
        "id": "YmMjbvFH0YxU"
      },
      "source": [
        "# Architecture"
      ]
    },
    {
      "cell_type": "code",
      "execution_count": 7,
      "metadata": {
        "id": "xecJpVUs0YxU"
      },
      "outputs": [],
      "source": [
        "class UNet:\n",
        "    def __init__(\n",
        "        self,\n",
        "        img_size: int,\n",
        "        n_channels: int = 3,\n",
        "        width: int = 32,\n",
        "        depth: int = 5,\n",
        "        kernel_size: int = 3\n",
        "    ):\n",
        "        self.img_size = img_size\n",
        "        self.n_channels = n_channels\n",
        "        self.width = width\n",
        "        self.depth = depth\n",
        "        self.kernel_size = kernel_size\n",
        "\n",
        "    @staticmethod\n",
        "    def conv(\n",
        "        x: tf.Tensor,\n",
        "        filters: int,\n",
        "        kernel_size: int\n",
        "    ) -> tf.Tensor:\n",
        "        for i in range(2):\n",
        "            x = tf.keras.layers.Conv2D(\n",
        "                filters=filters,\n",
        "                kernel_size=kernel_size,\n",
        "                strides=1,\n",
        "                padding=\"same\",\n",
        "                data_format=\"channels_last\",\n",
        "                dilation_rate=1,\n",
        "                groups=1,\n",
        "                activation=None,\n",
        "                use_bias=True,\n",
        "                kernel_initializer=\"glorot_uniform\",\n",
        "                bias_initializer=\"zeros\"\n",
        "            )(x)\n",
        "\n",
        "            x = tf.keras.layers.BatchNormalization()(x)\n",
        "            x = tf.keras.layers.Activation(\"relu\")(x)\n",
        "\n",
        "        return x\n",
        "\n",
        "    @staticmethod\n",
        "    def deconv(x: tf.Tensor, filters: int) -> tf.Tensor:\n",
        "        x = tf.keras.layers.Conv2DTranspose(\n",
        "            filters=filters,\n",
        "            kernel_size=2,\n",
        "            strides=2,\n",
        "            padding=\"same\",\n",
        "            output_padding=None,\n",
        "            data_format=None,\n",
        "            dilation_rate=1,\n",
        "            activation=None,\n",
        "            use_bias=True,\n",
        "            kernel_initializer=\"glorot_uniform\",\n",
        "            bias_initializer=\"zeros\"\n",
        "        )(x)\n",
        "\n",
        "        x = tf.keras.layers.BatchNormalization()(x)\n",
        "        x = tf.keras.layers.Activation(\"relu\")(x)\n",
        "\n",
        "        return x\n",
        "\n",
        "    @staticmethod\n",
        "    def output(x: tf.Tensor) -> tf.Tensor:\n",
        "        return tf.keras.layers.Conv2D(3, (1, 1), activation=\"sigmoid\")(x)\n",
        "\n",
        "    @staticmethod\n",
        "    def pool(x: tf.Tensor, pool_size: int = 2) -> tf.Tensor:\n",
        "        return tf.keras.layers.MaxPool2D(pool_size)(x)\n",
        "\n",
        "    def __call__(self) -> tf.keras.Model:\n",
        "        inputs = tf.keras.layers.Input(\n",
        "            shape=(self.img_size, self.img_size, self.n_channels)\n",
        "        )\n",
        "\n",
        "        # scaled = tf.keras.layers.Rescaling(1./255.0, offset=0)(inputs)\n",
        "\n",
        "        # ------------------ Downsampling ---------------------\n",
        "        downsample_layers = []\n",
        "        downsample_layers.append(\n",
        "            self.conv(\n",
        "                x=inputs,\n",
        "                filters=self.width,\n",
        "                kernel_size=self.kernel_size\n",
        "            )\n",
        "        )\n",
        "        for i in range(1, self.depth):\n",
        "            filters = int((2 ** i) * self.width)\n",
        "            downsample_layers.append(\n",
        "                self.pool(\n",
        "                    self.conv(\n",
        "                        x=downsample_layers[i - 1],\n",
        "                        filters=filters,\n",
        "                        kernel_size=self.kernel_size\n",
        "                    )\n",
        "                )\n",
        "            )\n",
        "\n",
        "        # ------------------- Features --------------------\n",
        "        n_features = int((2 ** self.depth) * self.width)\n",
        "        self.features = self.pool(\n",
        "            self.conv(\n",
        "                x=downsample_layers[-1],\n",
        "                filters=n_features,\n",
        "                kernel_size=self.kernel_size\n",
        "            )\n",
        "        )\n",
        "\n",
        "        # ------------------- Upsampling --------------------\n",
        "        upsample_layers = []\n",
        "        upsample_layers.append(self.features)\n",
        "        for i in range(1, self.depth + 1):\n",
        "            filters = int((2 ** (self.depth - i)) * self.width)\n",
        "            upsample_layers.append(\n",
        "                self.conv(\n",
        "                    x=tf.keras.layers.concatenate([\n",
        "                        downsample_layers[self.depth - i],\n",
        "                        self.deconv(\n",
        "                            x=upsample_layers[i - 1],\n",
        "                            filters=filters\n",
        "                        )\n",
        "                    ]),\n",
        "                    filters=filters,\n",
        "                    kernel_size=self.kernel_size\n",
        "                )\n",
        "            )\n",
        "\n",
        "        # ---------------------- Output -----------------------\n",
        "        outputs = self.output(upsample_layers[-1])\n",
        "\n",
        "        return tf.keras.Model(inputs, outputs)\n"
      ]
    },
    {
      "cell_type": "markdown",
      "metadata": {
        "id": "ga47oOoc0YxV"
      },
      "source": [
        "# Loss Functions"
      ]
    },
    {
      "cell_type": "code",
      "execution_count": 8,
      "metadata": {
        "id": "ooE90mpc0YxW"
      },
      "outputs": [],
      "source": [
        "def attention_mse(y_true, y_pred):\n",
        "    _y_true = y_true[y_true != 1.0]\n",
        "    _y_pred = y_pred[y_true != 1.0]\n",
        "    squared_difference = tf.square(_y_true - _y_pred)\n",
        "    return tf.reduce_mean(squared_difference, axis=-1)\n",
        "\n",
        "\n",
        "def attention_mae(y_true, y_pred):\n",
        "    _y_true = y_true[y_true != 1.0]\n",
        "    _y_pred = y_pred[y_true != 1.0]\n",
        "    squared_difference = tf.abs(_y_true - _y_pred)\n",
        "    return tf.reduce_mean(squared_difference, axis=-1)\n"
      ]
    },
    {
      "cell_type": "markdown",
      "metadata": {
        "id": "wOgmHYSJ0YxW"
      },
      "source": [
        "# Utils"
      ]
    },
    {
      "cell_type": "code",
      "execution_count": 9,
      "metadata": {
        "id": "cSrfyX260YxW"
      },
      "outputs": [],
      "source": [
        "def load_data_from_dir(path: str) -> tf.data.Dataset:\n",
        "    return tf.keras.utils.image_dataset_from_directory(\n",
        "        directory=path,\n",
        "        labels=None,\n",
        "        color_mode='rgb',\n",
        "        batch_size=BATCH_SIZE,\n",
        "        image_size=(IMG_SIZE, IMG_SIZE),\n",
        "        shuffle=True,\n",
        "        seed=42,\n",
        "        # validation_split=VAL_SPLIT,\n",
        "        # subset=subset,\n",
        "        interpolation='bilinear',\n",
        "        follow_links=False,\n",
        "        crop_to_aspect_ratio=False\n",
        "    )\n"
      ]
    },
    {
      "cell_type": "markdown",
      "metadata": {
        "id": "CyS-63WI0YxX"
      },
      "source": [
        "# Dataloaders"
      ]
    },
    {
      "cell_type": "code",
      "execution_count": 10,
      "metadata": {
        "id": "71Dxzfkf0YxX",
        "outputId": "8e7c7436-f9c8-437d-9b0c-247e5cdf6e80",
        "colab": {
          "base_uri": "https://localhost:8080/"
        }
      },
      "outputs": [
        {
          "output_type": "stream",
          "name": "stdout",
          "text": [
            "Found 8208 files belonging to 1 classes.\n",
            "Found 8208 files belonging to 1 classes.\n",
            "Found 312 files belonging to 1 classes.\n",
            "Found 312 files belonging to 1 classes.\n",
            "(TensorSpec(shape=(None, 256, 256, 3), dtype=tf.float32, name=None), TensorSpec(shape=(None, 256, 256, 3), dtype=tf.float32, name=None))\n",
            "(TensorSpec(shape=(None, 256, 256, 3), dtype=tf.float32, name=None), TensorSpec(shape=(None, 256, 256, 3), dtype=tf.float32, name=None))\n"
          ]
        }
      ],
      "source": [
        "trainX = load_data_from_dir(os.path.join(DATASET_PATH, TRAIN_DIR, INPUT_DIR))\n",
        "trainY = load_data_from_dir(os.path.join(DATASET_PATH, TRAIN_DIR, TARGET_DIR))\n",
        "testX = load_data_from_dir(os.path.join(DATASET_PATH, TEST_DIR, INPUT_DIR))\n",
        "testY = load_data_from_dir(os.path.join(DATASET_PATH, TEST_DIR, TARGET_DIR))\n",
        "\n",
        "train_ds = tf.data.Dataset.zip((trainX, trainY))\n",
        "test_ds = tf.data.Dataset.zip((testX, testY))\n",
        "\n",
        "print(train_ds.element_spec)\n",
        "print(test_ds.element_spec)\n"
      ]
    },
    {
      "cell_type": "markdown",
      "source": [
        "# Normalization"
      ],
      "metadata": {
        "id": "01HaegmR278r"
      }
    },
    {
      "cell_type": "code",
      "source": [
        "# def normalize(input_image, output_image):\n",
        "#     input_image = tf.cast(input_image, tf.float32) / 255.0\n",
        "#     output_image = tf.cast(input_image, tf.float32) / 255.0\n",
        "#     return input_image, output_image"
      ],
      "metadata": {
        "id": "E1oi3-RTqZV1"
      },
      "execution_count": 11,
      "outputs": []
    },
    {
      "cell_type": "code",
      "source": [
        "normalization_layer = tf.keras.layers.Rescaling(1./255)\n",
        "train_ds = train_ds.map(lambda x, y: (normalization_layer(x), normalization_layer(y)))\n",
        "test_ds = test_ds.map(lambda x, y: (normalization_layer(x), normalization_layer(y)))"
      ],
      "metadata": {
        "id": "mDeZuH0p26pE"
      },
      "execution_count": 12,
      "outputs": []
    },
    {
      "cell_type": "markdown",
      "source": [
        "# Augmentation"
      ],
      "metadata": {
        "id": "tySOuC8Hqvdm"
      }
    },
    {
      "cell_type": "code",
      "source": [
        "class Augment(tf.keras.layers.Layer):\n",
        "    def __init__(self, seed=42):\n",
        "        super().__init__()\n",
        "        # both use the same seed, so they'll make the same random changes.\n",
        "        self.augment_inputs = tf.keras.layers.RandomZoom((-0.1, -0.5), seed=seed)\n",
        "        self.augment_labels = tf.keras.layers.RandomZoom((-0.1, -0.5), seed=seed)\n",
        "\n",
        "    def call(self, inputs, labels):\n",
        "        inputs = self.augment_inputs(inputs)\n",
        "        labels = self.augment_labels(labels)\n",
        "        return inputs, labels"
      ],
      "metadata": {
        "id": "OHQFZ9kKqu6f"
      },
      "execution_count": 13,
      "outputs": []
    },
    {
      "cell_type": "markdown",
      "metadata": {
        "id": "eHlKefA_0YxX"
      },
      "source": [
        "# Optimization"
      ]
    },
    {
      "cell_type": "code",
      "execution_count": 14,
      "metadata": {
        "id": "U-HMkfOG0YxX"
      },
      "outputs": [],
      "source": [
        "AUTOTUNE = tf.data.AUTOTUNE\n",
        "\n",
        "train_batches = (\n",
        "    train_ds\n",
        "    .cache()\n",
        "    # .shuffle(BUFFER_SIZE)\n",
        "    # .batch(BATCH_SIZE)\n",
        "    # .repeat()\n",
        "    .map(Augment())\n",
        "    .prefetch(buffer_size=AUTOTUNE)\n",
        ")\n",
        "\n",
        "test_batches = (test_ds)\n"
      ]
    },
    {
      "cell_type": "markdown",
      "metadata": {
        "id": "w50akeqN0YxX"
      },
      "source": [
        "# Training Config"
      ]
    },
    {
      "cell_type": "code",
      "execution_count": 15,
      "metadata": {
        "id": "2YvF85Wg0YxY"
      },
      "outputs": [],
      "source": [
        "callbacks = [\n",
        "    tf.keras.callbacks.EarlyStopping(\n",
        "        monitor=\"val_loss\",\n",
        "        patience=PATIENCE,\n",
        "        restore_best_weights=True\n",
        "    )\n",
        "]\n",
        "\n",
        "optimizer = tf.keras.optimizers.Adam(\n",
        "    learning_rate=LEARNING_RATE\n",
        ")\n",
        "\n",
        "model = UNet(IMG_SIZE)()\n",
        "# model = MobileUNet(IMG_SIZE)()\n",
        "\n",
        "model.compile(\n",
        "    loss=attention_mse,\n",
        "    optimizer=optimizer,\n",
        "    metrics=['mean_squared_error']\n",
        ")\n"
      ]
    },
    {
      "cell_type": "markdown",
      "metadata": {
        "id": "XrJPilPI0YxY"
      },
      "source": [
        "# Training"
      ]
    },
    {
      "cell_type": "code",
      "execution_count": 16,
      "metadata": {
        "id": "y_b-8pkT0YxY",
        "outputId": "44d9dee0-2a64-4f76-c0db-96d34a0e5951",
        "colab": {
          "base_uri": "https://localhost:8080/"
        }
      },
      "outputs": [
        {
          "output_type": "stream",
          "name": "stdout",
          "text": [
            "Epoch 1/300\n",
            "684/684 [==============================] - 362s 500ms/step - loss: 0.0154 - mean_squared_error: 0.2260 - val_loss: 0.0136 - val_mean_squared_error: 0.2666\n",
            "Epoch 2/300\n",
            "684/684 [==============================] - 344s 503ms/step - loss: 0.0123 - mean_squared_error: 0.2203 - val_loss: 0.1470 - val_mean_squared_error: 0.0503\n",
            "Epoch 3/300\n",
            "684/684 [==============================] - 348s 508ms/step - loss: 0.0113 - mean_squared_error: 0.2122 - val_loss: 0.0114 - val_mean_squared_error: 0.1899\n",
            "Epoch 4/300\n",
            "684/684 [==============================] - 351s 513ms/step - loss: 0.0108 - mean_squared_error: 0.2052 - val_loss: 0.0115 - val_mean_squared_error: 0.0532\n",
            "Epoch 5/300\n",
            "684/684 [==============================] - 346s 505ms/step - loss: 0.0103 - mean_squared_error: 0.2017 - val_loss: 0.0480 - val_mean_squared_error: 0.0078\n",
            "Epoch 6/300\n",
            "684/684 [==============================] - 341s 499ms/step - loss: 0.0099 - mean_squared_error: 0.1994 - val_loss: 0.0737 - val_mean_squared_error: 0.0122\n",
            "Epoch 7/300\n",
            "684/684 [==============================] - 342s 499ms/step - loss: 0.0095 - mean_squared_error: 0.1939 - val_loss: 0.0091 - val_mean_squared_error: 0.0057\n",
            "Epoch 8/300\n",
            "684/684 [==============================] - 346s 505ms/step - loss: 0.0091 - mean_squared_error: 0.1908 - val_loss: 0.0120 - val_mean_squared_error: 0.0483\n",
            "Epoch 9/300\n",
            "684/684 [==============================] - 352s 514ms/step - loss: 0.0088 - mean_squared_error: 0.1876 - val_loss: 0.0085 - val_mean_squared_error: 0.1927\n",
            "Epoch 10/300\n",
            "684/684 [==============================] - 352s 514ms/step - loss: 0.0085 - mean_squared_error: 0.1830 - val_loss: 0.0122 - val_mean_squared_error: 0.0225\n",
            "Epoch 11/300\n",
            "684/684 [==============================] - 352s 514ms/step - loss: 0.0081 - mean_squared_error: 0.1780 - val_loss: 0.0093 - val_mean_squared_error: 0.0101\n",
            "Epoch 12/300\n",
            "684/684 [==============================] - 352s 514ms/step - loss: 0.0079 - mean_squared_error: 0.1725 - val_loss: 0.0174 - val_mean_squared_error: 0.0050\n",
            "Epoch 13/300\n",
            "684/684 [==============================] - 352s 515ms/step - loss: 0.0076 - mean_squared_error: 0.1593 - val_loss: 0.0087 - val_mean_squared_error: 0.0563\n",
            "Epoch 14/300\n",
            "684/684 [==============================] - 352s 514ms/step - loss: 0.0073 - mean_squared_error: 0.1541 - val_loss: 0.0122 - val_mean_squared_error: 0.0069\n",
            "Epoch 15/300\n",
            "684/684 [==============================] - 352s 515ms/step - loss: 0.0071 - mean_squared_error: 0.1468 - val_loss: 0.0085 - val_mean_squared_error: 0.0141\n",
            "Epoch 16/300\n",
            "684/684 [==============================] - 352s 514ms/step - loss: 0.0068 - mean_squared_error: 0.1405 - val_loss: 0.0081 - val_mean_squared_error: 0.0694\n",
            "Epoch 17/300\n",
            "684/684 [==============================] - 352s 514ms/step - loss: 0.0065 - mean_squared_error: 0.1375 - val_loss: 0.0130 - val_mean_squared_error: 0.0109\n",
            "Epoch 18/300\n",
            "684/684 [==============================] - 352s 514ms/step - loss: 0.0063 - mean_squared_error: 0.1359 - val_loss: 0.0102 - val_mean_squared_error: 0.0213\n",
            "Epoch 19/300\n",
            "684/684 [==============================] - 352s 514ms/step - loss: 0.0061 - mean_squared_error: 0.1361 - val_loss: 0.0104 - val_mean_squared_error: 0.0508\n",
            "Epoch 20/300\n",
            "684/684 [==============================] - 352s 514ms/step - loss: 0.0059 - mean_squared_error: 0.1399 - val_loss: 0.0075 - val_mean_squared_error: 0.0898\n",
            "Epoch 21/300\n",
            "684/684 [==============================] - 351s 512ms/step - loss: 0.0057 - mean_squared_error: 0.1377 - val_loss: 0.0084 - val_mean_squared_error: 0.0480\n",
            "Epoch 22/300\n",
            "684/684 [==============================] - 348s 508ms/step - loss: 0.0054 - mean_squared_error: 0.1383 - val_loss: 0.0070 - val_mean_squared_error: 0.1436\n",
            "Epoch 23/300\n",
            "684/684 [==============================] - 350s 512ms/step - loss: 0.0053 - mean_squared_error: 0.1428 - val_loss: 0.0094 - val_mean_squared_error: 0.0067\n",
            "Epoch 24/300\n",
            "684/684 [==============================] - 351s 513ms/step - loss: 0.0051 - mean_squared_error: 0.1485 - val_loss: 0.0108 - val_mean_squared_error: 0.0081\n",
            "Epoch 25/300\n",
            "684/684 [==============================] - 352s 514ms/step - loss: 0.0050 - mean_squared_error: 0.1523 - val_loss: 0.0135 - val_mean_squared_error: 0.0019\n",
            "Epoch 26/300\n",
            "684/684 [==============================] - 352s 514ms/step - loss: 0.0048 - mean_squared_error: 0.1615 - val_loss: 0.0202 - val_mean_squared_error: 0.0023\n",
            "Epoch 27/300\n",
            "684/684 [==============================] - 352s 515ms/step - loss: 0.0047 - mean_squared_error: 0.1667 - val_loss: 0.0065 - val_mean_squared_error: 0.2087\n",
            "Epoch 28/300\n",
            "684/684 [==============================] - 352s 514ms/step - loss: 0.0045 - mean_squared_error: 0.1713 - val_loss: 0.0074 - val_mean_squared_error: 0.1220\n",
            "Epoch 29/300\n",
            "684/684 [==============================] - 351s 513ms/step - loss: 0.0044 - mean_squared_error: 0.1757 - val_loss: 0.0086 - val_mean_squared_error: 0.0745\n",
            "Epoch 30/300\n",
            "684/684 [==============================] - 351s 512ms/step - loss: 0.0043 - mean_squared_error: 0.1794 - val_loss: 0.0125 - val_mean_squared_error: 0.0083\n",
            "Epoch 31/300\n",
            "684/684 [==============================] - 351s 513ms/step - loss: 0.0042 - mean_squared_error: 0.1846 - val_loss: 0.0065 - val_mean_squared_error: 0.1751\n",
            "Epoch 32/300\n",
            "684/684 [==============================] - 351s 512ms/step - loss: 0.0041 - mean_squared_error: 0.1884 - val_loss: 0.0132 - val_mean_squared_error: 0.0060\n",
            "Epoch 33/300\n",
            "684/684 [==============================] - 351s 513ms/step - loss: 0.0040 - mean_squared_error: 0.1926 - val_loss: 0.0076 - val_mean_squared_error: 0.2149\n",
            "Epoch 34/300\n",
            "684/684 [==============================] - 351s 512ms/step - loss: 0.0039 - mean_squared_error: 0.1949 - val_loss: 0.0207 - val_mean_squared_error: 0.0080\n",
            "Epoch 35/300\n",
            "684/684 [==============================] - 350s 512ms/step - loss: 0.0038 - mean_squared_error: 0.1987 - val_loss: 0.0066 - val_mean_squared_error: 0.1898\n",
            "Epoch 36/300\n",
            "684/684 [==============================] - 350s 511ms/step - loss: 0.0037 - mean_squared_error: 0.2007 - val_loss: 0.0070 - val_mean_squared_error: 0.1182\n",
            "Epoch 37/300\n",
            "684/684 [==============================] - 350s 512ms/step - loss: 0.0036 - mean_squared_error: 0.2030 - val_loss: 0.0124 - val_mean_squared_error: 0.1269\n",
            "Epoch 38/300\n",
            "684/684 [==============================] - 352s 515ms/step - loss: 0.0035 - mean_squared_error: 0.2045 - val_loss: 0.0132 - val_mean_squared_error: 0.0206\n",
            "Epoch 39/300\n",
            "684/684 [==============================] - 352s 514ms/step - loss: 0.0034 - mean_squared_error: 0.2079 - val_loss: 0.0060 - val_mean_squared_error: 0.2400\n",
            "Epoch 40/300\n",
            "684/684 [==============================] - 352s 514ms/step - loss: 0.0034 - mean_squared_error: 0.2086 - val_loss: 0.0191 - val_mean_squared_error: 0.0033\n",
            "Epoch 41/300\n",
            "684/684 [==============================] - 351s 514ms/step - loss: 0.0033 - mean_squared_error: 0.2099 - val_loss: 0.0076 - val_mean_squared_error: 0.1424\n",
            "Epoch 42/300\n",
            "684/684 [==============================] - 352s 514ms/step - loss: 0.0032 - mean_squared_error: 0.2124 - val_loss: 0.0213 - val_mean_squared_error: 0.0034\n",
            "Epoch 43/300\n",
            "684/684 [==============================] - 351s 513ms/step - loss: 0.0032 - mean_squared_error: 0.2149 - val_loss: 0.0061 - val_mean_squared_error: 0.2327\n",
            "Epoch 44/300\n",
            "684/684 [==============================] - 351s 513ms/step - loss: 0.0031 - mean_squared_error: 0.2151 - val_loss: 0.0170 - val_mean_squared_error: 0.0016\n",
            "Epoch 45/300\n",
            "684/684 [==============================] - 351s 513ms/step - loss: 0.0030 - mean_squared_error: 0.2163 - val_loss: 0.0183 - val_mean_squared_error: 0.0054\n",
            "Epoch 46/300\n",
            "684/684 [==============================] - 351s 513ms/step - loss: 0.0030 - mean_squared_error: 0.2177 - val_loss: 0.0084 - val_mean_squared_error: 0.1233\n",
            "Epoch 47/300\n",
            "684/684 [==============================] - 351s 512ms/step - loss: 0.0029 - mean_squared_error: 0.2196 - val_loss: 0.0072 - val_mean_squared_error: 0.2273\n",
            "Epoch 48/300\n",
            "684/684 [==============================] - 351s 513ms/step - loss: 0.0029 - mean_squared_error: 0.2198 - val_loss: 0.0126 - val_mean_squared_error: 0.1878\n",
            "Epoch 49/300\n",
            "684/684 [==============================] - 351s 513ms/step - loss: 0.0028 - mean_squared_error: 0.2213 - val_loss: 0.0058 - val_mean_squared_error: 0.2499\n",
            "Epoch 50/300\n",
            "684/684 [==============================] - 351s 513ms/step - loss: 0.0028 - mean_squared_error: 0.2231 - val_loss: 0.0071 - val_mean_squared_error: 0.0868\n",
            "Epoch 51/300\n",
            "684/684 [==============================] - 351s 513ms/step - loss: 0.0027 - mean_squared_error: 0.2249 - val_loss: 0.0121 - val_mean_squared_error: 0.0810\n",
            "Epoch 52/300\n",
            "684/684 [==============================] - 351s 513ms/step - loss: 0.0027 - mean_squared_error: 0.2241 - val_loss: 0.0115 - val_mean_squared_error: 0.0056\n",
            "Epoch 53/300\n",
            "684/684 [==============================] - 352s 514ms/step - loss: 0.0026 - mean_squared_error: 0.2275 - val_loss: 0.0287 - val_mean_squared_error: 0.0041\n",
            "Epoch 54/300\n",
            "684/684 [==============================] - 352s 514ms/step - loss: 0.0026 - mean_squared_error: 0.2283 - val_loss: 0.0060 - val_mean_squared_error: 0.2772\n",
            "Epoch 55/300\n",
            "684/684 [==============================] - 352s 514ms/step - loss: 0.0025 - mean_squared_error: 0.2306 - val_loss: 0.0057 - val_mean_squared_error: 0.3112\n",
            "Epoch 56/300\n",
            "684/684 [==============================] - 352s 514ms/step - loss: 0.0025 - mean_squared_error: 0.2324 - val_loss: 0.0066 - val_mean_squared_error: 0.1427\n",
            "Epoch 57/300\n",
            "684/684 [==============================] - 352s 515ms/step - loss: 0.0025 - mean_squared_error: 0.2336 - val_loss: 0.0109 - val_mean_squared_error: 0.0217\n",
            "Epoch 58/300\n",
            "684/684 [==============================] - 349s 511ms/step - loss: 0.0025 - mean_squared_error: 0.2343 - val_loss: 0.0061 - val_mean_squared_error: 0.2049\n",
            "Epoch 59/300\n",
            "684/684 [==============================] - 343s 501ms/step - loss: 0.0024 - mean_squared_error: 0.2341 - val_loss: 0.0067 - val_mean_squared_error: 0.2937\n",
            "Epoch 60/300\n",
            "684/684 [==============================] - 343s 501ms/step - loss: 0.0023 - mean_squared_error: 0.2358 - val_loss: 0.0091 - val_mean_squared_error: 0.0131\n",
            "Epoch 61/300\n",
            "684/684 [==============================] - 342s 500ms/step - loss: 0.0023 - mean_squared_error: 0.2377 - val_loss: 0.0107 - val_mean_squared_error: 0.0099\n",
            "Epoch 62/300\n",
            "684/684 [==============================] - 342s 499ms/step - loss: 0.0023 - mean_squared_error: 0.2386 - val_loss: 0.0291 - val_mean_squared_error: 0.0036\n",
            "Epoch 63/300\n",
            "684/684 [==============================] - 342s 500ms/step - loss: 0.0022 - mean_squared_error: 0.2400 - val_loss: 0.0057 - val_mean_squared_error: 0.2538\n",
            "Epoch 64/300\n",
            "684/684 [==============================] - 344s 503ms/step - loss: 0.0022 - mean_squared_error: 0.2403 - val_loss: 0.0276 - val_mean_squared_error: 0.0034\n",
            "Epoch 65/300\n",
            "684/684 [==============================] - 350s 512ms/step - loss: 0.0022 - mean_squared_error: 0.2411 - val_loss: 0.0102 - val_mean_squared_error: 0.0012\n",
            "Epoch 66/300\n",
            "684/684 [==============================] - 350s 512ms/step - loss: 0.0022 - mean_squared_error: 0.2417 - val_loss: 0.0312 - val_mean_squared_error: 0.0039\n",
            "Epoch 67/300\n",
            "684/684 [==============================] - 351s 513ms/step - loss: 0.0022 - mean_squared_error: 0.2440 - val_loss: 0.0214 - val_mean_squared_error: 0.0035\n",
            "Epoch 68/300\n",
            "684/684 [==============================] - 351s 514ms/step - loss: 0.0021 - mean_squared_error: 0.2440 - val_loss: 0.0069 - val_mean_squared_error: 0.1060\n",
            "Epoch 69/300\n",
            "684/684 [==============================] - 352s 514ms/step - loss: 0.0021 - mean_squared_error: 0.2468 - val_loss: 0.0106 - val_mean_squared_error: 0.0033\n",
            "Epoch 70/300\n",
            "684/684 [==============================] - 352s 514ms/step - loss: 0.0020 - mean_squared_error: 0.2480 - val_loss: 0.0059 - val_mean_squared_error: 0.1902\n",
            "Epoch 71/300\n",
            "684/684 [==============================] - 352s 514ms/step - loss: 0.0020 - mean_squared_error: 0.2483 - val_loss: 0.0130 - val_mean_squared_error: 0.0014\n",
            "Epoch 72/300\n",
            "684/684 [==============================] - 352s 514ms/step - loss: 0.0020 - mean_squared_error: 0.2497 - val_loss: 0.0087 - val_mean_squared_error: 0.0075\n",
            "Epoch 73/300\n",
            "684/684 [==============================] - 352s 515ms/step - loss: 0.0020 - mean_squared_error: 0.2504 - val_loss: 0.0073 - val_mean_squared_error: 0.0656\n",
            "Epoch 74/300\n",
            "684/684 [==============================] - 351s 513ms/step - loss: 0.0019 - mean_squared_error: 0.2516 - val_loss: 0.0233 - val_mean_squared_error: 0.0026\n",
            "Epoch 75/300\n",
            "684/684 [==============================] - 351s 513ms/step - loss: 0.0019 - mean_squared_error: 0.2527 - val_loss: 0.0109 - val_mean_squared_error: 0.0135\n",
            "Epoch 76/300\n",
            "684/684 [==============================] - 350s 512ms/step - loss: 0.0019 - mean_squared_error: 0.2537 - val_loss: 0.0060 - val_mean_squared_error: 0.3096\n",
            "Epoch 77/300\n",
            "684/684 [==============================] - 350s 512ms/step - loss: 0.0019 - mean_squared_error: 0.2536 - val_loss: 0.0060 - val_mean_squared_error: 0.3213\n",
            "Epoch 78/300\n",
            "684/684 [==============================] - 350s 512ms/step - loss: 0.0019 - mean_squared_error: 0.2551 - val_loss: 0.0131 - val_mean_squared_error: 0.0034\n",
            "Epoch 79/300\n",
            "684/684 [==============================] - 350s 512ms/step - loss: 0.0018 - mean_squared_error: 0.2565 - val_loss: 0.0062 - val_mean_squared_error: 0.2492\n",
            "Epoch 80/300\n",
            "684/684 [==============================] - 350s 512ms/step - loss: 0.0018 - mean_squared_error: 0.2581 - val_loss: 0.0074 - val_mean_squared_error: 0.0174\n",
            "Epoch 81/300\n",
            "684/684 [==============================] - 351s 513ms/step - loss: 0.0018 - mean_squared_error: 0.2598 - val_loss: 0.0058 - val_mean_squared_error: 0.3042\n",
            "Epoch 82/300\n",
            "684/684 [==============================] - 352s 514ms/step - loss: 0.0018 - mean_squared_error: 0.2603 - val_loss: 0.0059 - val_mean_squared_error: 0.3334\n",
            "Epoch 83/300\n",
            "684/684 [==============================] - 351s 514ms/step - loss: 0.0018 - mean_squared_error: 0.2598 - val_loss: 0.0073 - val_mean_squared_error: 0.1186\n",
            "Epoch 84/300\n",
            "684/684 [==============================] - 352s 514ms/step - loss: 0.0017 - mean_squared_error: 0.2613 - val_loss: 0.0219 - val_mean_squared_error: 0.0023\n",
            "Epoch 85/300\n",
            "684/684 [==============================] - 352s 515ms/step - loss: 0.0017 - mean_squared_error: 0.2621 - val_loss: 0.0102 - val_mean_squared_error: 0.0039\n",
            "Epoch 86/300\n",
            "684/684 [==============================] - 353s 515ms/step - loss: 0.0017 - mean_squared_error: 0.2632 - val_loss: 0.0067 - val_mean_squared_error: 0.3108\n",
            "Epoch 87/300\n",
            "684/684 [==============================] - 352s 514ms/step - loss: 0.0017 - mean_squared_error: 0.2649 - val_loss: 0.0351 - val_mean_squared_error: 0.0037\n",
            "Epoch 88/300\n",
            "684/684 [==============================] - 352s 515ms/step - loss: 0.0017 - mean_squared_error: 0.2657 - val_loss: 0.0235 - val_mean_squared_error: 0.0097\n",
            "Epoch 89/300\n",
            "684/684 [==============================] - 352s 515ms/step - loss: 0.0017 - mean_squared_error: 0.2664 - val_loss: 0.0166 - val_mean_squared_error: 0.0016\n",
            "Epoch 90/300\n",
            "684/684 [==============================] - 352s 515ms/step - loss: 0.0017 - mean_squared_error: 0.2670 - val_loss: 0.0224 - val_mean_squared_error: 0.0028\n",
            "Epoch 91/300\n",
            "684/684 [==============================] - 352s 515ms/step - loss: 0.0016 - mean_squared_error: 0.2676 - val_loss: 0.0119 - val_mean_squared_error: 0.1300\n",
            "Epoch 92/300\n",
            "684/684 [==============================] - 352s 514ms/step - loss: 0.0016 - mean_squared_error: 0.2685 - val_loss: 0.0085 - val_mean_squared_error: 0.0133\n",
            "Epoch 93/300\n",
            "684/684 [==============================] - 352s 515ms/step - loss: 0.0016 - mean_squared_error: 0.2706 - val_loss: 0.0062 - val_mean_squared_error: 0.3580\n"
          ]
        }
      ],
      "source": [
        "history = model.fit(\n",
        "    train_batches,\n",
        "    validation_data=test_batches,\n",
        "    epochs=N_EPOCHS,\n",
        "    batch_size=BATCH_SIZE,\n",
        "    callbacks=callbacks,\n",
        "    verbose=1\n",
        ")\n"
      ]
    },
    {
      "cell_type": "markdown",
      "source": [
        "# Save Model"
      ],
      "metadata": {
        "id": "HT68Jm8AEluI"
      }
    },
    {
      "cell_type": "code",
      "source": [
        "timestamp = datetime.datetime.now().strftime('%b-%d-%I:%M%p')\n",
        "model_path = os.path.join(MODEL_PATH, EXP_NAME)\n",
        "if not os.path.exists(model_path):\n",
        "    os.makedirs(model_path)\n",
        "\n",
        "model.save(os.path.join(model_path, timestamp))"
      ],
      "metadata": {
        "id": "xfUmF_1mEjXH",
        "outputId": "53fbcb09-b6b9-451c-9b54-3bafefebb1a8",
        "colab": {
          "base_uri": "https://localhost:8080/"
        }
      },
      "execution_count": 17,
      "outputs": [
        {
          "output_type": "stream",
          "name": "stderr",
          "text": [
            "WARNING:absl:Found untraced functions such as _jit_compiled_convolution_op, _jit_compiled_convolution_op, _jit_compiled_convolution_op, _jit_compiled_convolution_op, _jit_compiled_convolution_op while saving (showing 5 of 28). These functions will not be directly callable after loading.\n"
          ]
        }
      ]
    },
    {
      "cell_type": "markdown",
      "source": [
        "# Save Predictions"
      ],
      "metadata": {
        "id": "-PWi28iOKpXe"
      }
    },
    {
      "cell_type": "code",
      "execution_count": 18,
      "metadata": {
        "id": "LLDJf93Z0YxY",
        "outputId": "29646d2e-1cc8-4b42-c829-f25d3fc74e1d",
        "colab": {
          "base_uri": "https://localhost:8080/"
        }
      },
      "outputs": [
        {
          "output_type": "stream",
          "name": "stderr",
          "text": [
            "\r0it [00:00, ?it/s]"
          ]
        },
        {
          "output_type": "stream",
          "name": "stdout",
          "text": [
            "1/1 [==============================] - 2s 2s/step\n"
          ]
        },
        {
          "output_type": "stream",
          "name": "stderr",
          "text": [
            "\r1it [00:04,  4.52s/it]"
          ]
        },
        {
          "output_type": "stream",
          "name": "stdout",
          "text": [
            "1/1 [==============================] - 0s 18ms/step\n"
          ]
        },
        {
          "output_type": "stream",
          "name": "stderr",
          "text": [
            "\r11it [00:04,  3.14it/s]"
          ]
        },
        {
          "output_type": "stream",
          "name": "stdout",
          "text": [
            "1/1 [==============================] - 0s 20ms/step\n"
          ]
        },
        {
          "output_type": "stream",
          "name": "stderr",
          "text": [
            "\r21it [00:05,  6.63it/s]"
          ]
        },
        {
          "output_type": "stream",
          "name": "stdout",
          "text": [
            "1/1 [==============================] - 0s 26ms/step\n"
          ]
        },
        {
          "output_type": "stream",
          "name": "stderr",
          "text": [
            "\r31it [00:05, 10.55it/s]"
          ]
        },
        {
          "output_type": "stream",
          "name": "stdout",
          "text": [
            "1/1 [==============================] - 0s 36ms/step\n"
          ]
        },
        {
          "output_type": "stream",
          "name": "stderr",
          "text": [
            "\r41it [00:05, 14.48it/s]"
          ]
        },
        {
          "output_type": "stream",
          "name": "stdout",
          "text": [
            "1/1 [==============================] - 0s 42ms/step\n"
          ]
        },
        {
          "output_type": "stream",
          "name": "stderr",
          "text": [
            "\r51it [00:05, 17.99it/s]"
          ]
        },
        {
          "output_type": "stream",
          "name": "stdout",
          "text": [
            "1/1 [==============================] - 0s 21ms/step\n"
          ]
        },
        {
          "output_type": "stream",
          "name": "stderr",
          "text": [
            "\r61it [00:06, 20.92it/s]"
          ]
        },
        {
          "output_type": "stream",
          "name": "stdout",
          "text": [
            "1/1 [==============================] - 0s 28ms/step\n"
          ]
        },
        {
          "output_type": "stream",
          "name": "stderr",
          "text": [
            "\r71it [00:06, 25.08it/s]"
          ]
        },
        {
          "output_type": "stream",
          "name": "stdout",
          "text": [
            "1/1 [==============================] - 0s 21ms/step\n"
          ]
        },
        {
          "output_type": "stream",
          "name": "stderr",
          "text": [
            "\r81it [00:06, 26.97it/s]"
          ]
        },
        {
          "output_type": "stream",
          "name": "stdout",
          "text": [
            "1/1 [==============================] - 0s 21ms/step\n"
          ]
        },
        {
          "output_type": "stream",
          "name": "stderr",
          "text": [
            "\r91it [00:07, 20.42it/s]"
          ]
        },
        {
          "output_type": "stream",
          "name": "stdout",
          "text": [
            "1/1 [==============================] - 0s 38ms/step\n"
          ]
        },
        {
          "output_type": "stream",
          "name": "stderr",
          "text": [
            "\r101it [00:07, 23.38it/s]"
          ]
        },
        {
          "output_type": "stream",
          "name": "stdout",
          "text": [
            "1/1 [==============================] - 0s 22ms/step\n"
          ]
        },
        {
          "output_type": "stream",
          "name": "stderr",
          "text": [
            "\r111it [00:08, 26.25it/s]"
          ]
        },
        {
          "output_type": "stream",
          "name": "stdout",
          "text": [
            "1/1 [==============================] - 0s 18ms/step\n"
          ]
        },
        {
          "output_type": "stream",
          "name": "stderr",
          "text": [
            "\r121it [00:08, 28.33it/s]"
          ]
        },
        {
          "output_type": "stream",
          "name": "stdout",
          "text": [
            "1/1 [==============================] - 0s 24ms/step\n"
          ]
        },
        {
          "output_type": "stream",
          "name": "stderr",
          "text": [
            "\r131it [00:08, 31.07it/s]"
          ]
        },
        {
          "output_type": "stream",
          "name": "stdout",
          "text": [
            "1/1 [==============================] - 0s 21ms/step\n"
          ]
        },
        {
          "output_type": "stream",
          "name": "stderr",
          "text": [
            "\r141it [00:08, 31.85it/s]"
          ]
        },
        {
          "output_type": "stream",
          "name": "stdout",
          "text": [
            "1/1 [==============================] - 0s 19ms/step\n"
          ]
        },
        {
          "output_type": "stream",
          "name": "stderr",
          "text": [
            "\r151it [00:09, 33.60it/s]"
          ]
        },
        {
          "output_type": "stream",
          "name": "stdout",
          "text": [
            "1/1 [==============================] - 0s 19ms/step\n"
          ]
        },
        {
          "output_type": "stream",
          "name": "stderr",
          "text": [
            "\r161it [00:09, 36.20it/s]"
          ]
        },
        {
          "output_type": "stream",
          "name": "stdout",
          "text": [
            "1/1 [==============================] - 0s 22ms/step\n"
          ]
        },
        {
          "output_type": "stream",
          "name": "stderr",
          "text": [
            "\r171it [00:09, 36.95it/s]"
          ]
        },
        {
          "output_type": "stream",
          "name": "stdout",
          "text": [
            "1/1 [==============================] - 0s 18ms/step\n"
          ]
        },
        {
          "output_type": "stream",
          "name": "stderr",
          "text": [
            "\r181it [00:09, 37.83it/s]"
          ]
        },
        {
          "output_type": "stream",
          "name": "stdout",
          "text": [
            "1/1 [==============================] - 0s 18ms/step\n"
          ]
        },
        {
          "output_type": "stream",
          "name": "stderr",
          "text": [
            "\r191it [00:10, 38.44it/s]"
          ]
        },
        {
          "output_type": "stream",
          "name": "stdout",
          "text": [
            "1/1 [==============================] - 0s 23ms/step\n"
          ]
        },
        {
          "output_type": "stream",
          "name": "stderr",
          "text": [
            "\r201it [00:10, 37.93it/s]"
          ]
        },
        {
          "output_type": "stream",
          "name": "stdout",
          "text": [
            "1/1 [==============================] - 0s 20ms/step\n"
          ]
        },
        {
          "output_type": "stream",
          "name": "stderr",
          "text": [
            "\r211it [00:10, 38.33it/s]"
          ]
        },
        {
          "output_type": "stream",
          "name": "stdout",
          "text": [
            "1/1 [==============================] - 0s 19ms/step\n"
          ]
        },
        {
          "output_type": "stream",
          "name": "stderr",
          "text": [
            "\r221it [00:10, 39.02it/s]"
          ]
        },
        {
          "output_type": "stream",
          "name": "stdout",
          "text": [
            "1/1 [==============================] - 0s 21ms/step\n"
          ]
        },
        {
          "output_type": "stream",
          "name": "stderr",
          "text": [
            "\r231it [00:11, 39.22it/s]"
          ]
        },
        {
          "output_type": "stream",
          "name": "stdout",
          "text": [
            "1/1 [==============================] - 0s 21ms/step\n"
          ]
        },
        {
          "output_type": "stream",
          "name": "stderr",
          "text": [
            "\r241it [00:11, 39.19it/s]"
          ]
        },
        {
          "output_type": "stream",
          "name": "stdout",
          "text": [
            "1/1 [==============================] - 0s 19ms/step\n"
          ]
        },
        {
          "output_type": "stream",
          "name": "stderr",
          "text": [
            "\r251it [00:11, 40.25it/s]"
          ]
        },
        {
          "output_type": "stream",
          "name": "stdout",
          "text": [
            "1/1 [==============================] - 0s 17ms/step\n"
          ]
        },
        {
          "output_type": "stream",
          "name": "stderr",
          "text": [
            "\r261it [00:11, 40.18it/s]"
          ]
        },
        {
          "output_type": "stream",
          "name": "stdout",
          "text": [
            "1/1 [==============================] - 0s 19ms/step\n"
          ]
        },
        {
          "output_type": "stream",
          "name": "stderr",
          "text": [
            "\r271it [00:12, 42.11it/s]"
          ]
        },
        {
          "output_type": "stream",
          "name": "stdout",
          "text": [
            "1/1 [==============================] - 0s 21ms/step\n"
          ]
        },
        {
          "output_type": "stream",
          "name": "stderr",
          "text": [
            "\r281it [00:12, 43.04it/s]"
          ]
        },
        {
          "output_type": "stream",
          "name": "stdout",
          "text": [
            "1/1 [==============================] - 0s 19ms/step\n"
          ]
        },
        {
          "output_type": "stream",
          "name": "stderr",
          "text": [
            "\r291it [00:12, 43.67it/s]"
          ]
        },
        {
          "output_type": "stream",
          "name": "stdout",
          "text": [
            "1/1 [==============================] - 0s 18ms/step\n"
          ]
        },
        {
          "output_type": "stream",
          "name": "stderr",
          "text": [
            "\r301it [00:12, 41.67it/s]"
          ]
        },
        {
          "output_type": "stream",
          "name": "stdout",
          "text": [
            "1/1 [==============================] - 0s 24ms/step\n"
          ]
        },
        {
          "output_type": "stream",
          "name": "stderr",
          "text": [
            "312it [00:13, 23.83it/s]\n"
          ]
        }
      ],
      "source": [
        "test_ds_unbatched = test_batches.unbatch()\n",
        "\n",
        "pred_path = os.path.join(PRED_PATH, EXP_NAME, timestamp)\n",
        "if not os.path.exists(pred_path):\n",
        "    os.makedirs(pred_path)\n",
        "\n",
        "metrics = pd.DataFrame()\n",
        "\n",
        "for idx, (input, target) in enumerate(tqdm(test_ds_unbatched)):\n",
        "\n",
        "    if not idx % 10 == 0:\n",
        "        continue\n",
        "\n",
        "    target = target.numpy()\n",
        "    prediction = tf.squeeze(\n",
        "        model.predict(\n",
        "            tf.expand_dims(input, axis=0)\n",
        "            )\n",
        "        ).numpy()\n",
        "    prediction[target == 1.0] = 1.0\n",
        "\n",
        "    # _metrics = pd.DataFrame([[\n",
        "    #         rmse(target, prediction),\n",
        "    #         psnr(target, prediction),\n",
        "    #         ssim(target, prediction),\n",
        "    #         fsim(target, prediction),\n",
        "    #         issm(target, prediction),\n",
        "    #         sre(target, prediction),\n",
        "    #         sam(target, prediction),\n",
        "    #         uiq(target, prediction),\n",
        "    #     ]],\n",
        "    #     columns=[\"RMSE\", \"PSNR\", \"SSIM\", \"FSIM\", \"ISSM\", \"SRE\", \"SAM\", \"UIQ\"]\n",
        "    # )\n",
        "\n",
        "    # metrics = pd.concat([metrics, _metrics], axis=0)\n",
        "\n",
        "    plt.figure(figsize=(12, 4))\n",
        "    plt.subplot(1, 3, 1)\n",
        "    plt.imshow(input)\n",
        "    plt.axis(\"off\")\n",
        "    plt.title(\"INPUT\")\n",
        "    plt.subplot(1, 3, 2)\n",
        "    plt.imshow(target)\n",
        "    plt.axis(\"off\")\n",
        "    plt.title(\"TARGET\")\n",
        "    plt.subplot(1, 3, 3)\n",
        "    plt.imshow(prediction)\n",
        "    plt.axis(\"off\")\n",
        "    plt.title(\"PREDICTION\")\n",
        "    plt.tight_layout()\n",
        "    plt.savefig(os.path.join(pred_path, f\"{idx}.png\"))\n",
        "    plt.close()  \n"
      ]
    },
    {
      "cell_type": "code",
      "source": [
        "loss = history.history['loss']\n",
        "val_loss = history.history['val_loss']\n",
        "\n",
        "plt.figure(figsize=(8, 6))\n",
        "plt.plot(loss, label='Training Loss')\n",
        "plt.plot(val_loss, label='Validation Loss')\n",
        "plt.legend(loc='upper right')\n",
        "plt.ylabel('Attention MAE')\n",
        "plt.title('Training and Validation Loss')\n",
        "plt.xlabel('Epoch')\n",
        "plt.tight_layout()\n",
        "plt.savefig(os.path.join(model_path, timestamp + \".png\"))\n",
        "plt.close()"
      ],
      "metadata": {
        "id": "dq-aXv2mIwA8"
      },
      "execution_count": 19,
      "outputs": []
    },
    {
      "cell_type": "code",
      "source": [
        "metrics"
      ],
      "metadata": {
        "id": "oCBrZ-hLpbg1",
        "outputId": "a99e9c90-601b-4ba0-ed97-2741e873bc11",
        "colab": {
          "base_uri": "https://localhost:8080/",
          "height": 49
        }
      },
      "execution_count": 20,
      "outputs": [
        {
          "output_type": "execute_result",
          "data": {
            "text/plain": [
              "Empty DataFrame\n",
              "Columns: []\n",
              "Index: []"
            ],
            "text/html": [
              "\n",
              "  <div id=\"df-8964c721-354f-449f-a3b2-cfec68fe0ef7\">\n",
              "    <div class=\"colab-df-container\">\n",
              "      <div>\n",
              "<style scoped>\n",
              "    .dataframe tbody tr th:only-of-type {\n",
              "        vertical-align: middle;\n",
              "    }\n",
              "\n",
              "    .dataframe tbody tr th {\n",
              "        vertical-align: top;\n",
              "    }\n",
              "\n",
              "    .dataframe thead th {\n",
              "        text-align: right;\n",
              "    }\n",
              "</style>\n",
              "<table border=\"1\" class=\"dataframe\">\n",
              "  <thead>\n",
              "    <tr style=\"text-align: right;\">\n",
              "      <th></th>\n",
              "    </tr>\n",
              "  </thead>\n",
              "  <tbody>\n",
              "  </tbody>\n",
              "</table>\n",
              "</div>\n",
              "      <button class=\"colab-df-convert\" onclick=\"convertToInteractive('df-8964c721-354f-449f-a3b2-cfec68fe0ef7')\"\n",
              "              title=\"Convert this dataframe to an interactive table.\"\n",
              "              style=\"display:none;\">\n",
              "        \n",
              "  <svg xmlns=\"http://www.w3.org/2000/svg\" height=\"24px\"viewBox=\"0 0 24 24\"\n",
              "       width=\"24px\">\n",
              "    <path d=\"M0 0h24v24H0V0z\" fill=\"none\"/>\n",
              "    <path d=\"M18.56 5.44l.94 2.06.94-2.06 2.06-.94-2.06-.94-.94-2.06-.94 2.06-2.06.94zm-11 1L8.5 8.5l.94-2.06 2.06-.94-2.06-.94L8.5 2.5l-.94 2.06-2.06.94zm10 10l.94 2.06.94-2.06 2.06-.94-2.06-.94-.94-2.06-.94 2.06-2.06.94z\"/><path d=\"M17.41 7.96l-1.37-1.37c-.4-.4-.92-.59-1.43-.59-.52 0-1.04.2-1.43.59L10.3 9.45l-7.72 7.72c-.78.78-.78 2.05 0 2.83L4 21.41c.39.39.9.59 1.41.59.51 0 1.02-.2 1.41-.59l7.78-7.78 2.81-2.81c.8-.78.8-2.07 0-2.86zM5.41 20L4 18.59l7.72-7.72 1.47 1.35L5.41 20z\"/>\n",
              "  </svg>\n",
              "      </button>\n",
              "      \n",
              "  <style>\n",
              "    .colab-df-container {\n",
              "      display:flex;\n",
              "      flex-wrap:wrap;\n",
              "      gap: 12px;\n",
              "    }\n",
              "\n",
              "    .colab-df-convert {\n",
              "      background-color: #E8F0FE;\n",
              "      border: none;\n",
              "      border-radius: 50%;\n",
              "      cursor: pointer;\n",
              "      display: none;\n",
              "      fill: #1967D2;\n",
              "      height: 32px;\n",
              "      padding: 0 0 0 0;\n",
              "      width: 32px;\n",
              "    }\n",
              "\n",
              "    .colab-df-convert:hover {\n",
              "      background-color: #E2EBFA;\n",
              "      box-shadow: 0px 1px 2px rgba(60, 64, 67, 0.3), 0px 1px 3px 1px rgba(60, 64, 67, 0.15);\n",
              "      fill: #174EA6;\n",
              "    }\n",
              "\n",
              "    [theme=dark] .colab-df-convert {\n",
              "      background-color: #3B4455;\n",
              "      fill: #D2E3FC;\n",
              "    }\n",
              "\n",
              "    [theme=dark] .colab-df-convert:hover {\n",
              "      background-color: #434B5C;\n",
              "      box-shadow: 0px 1px 3px 1px rgba(0, 0, 0, 0.15);\n",
              "      filter: drop-shadow(0px 1px 2px rgba(0, 0, 0, 0.3));\n",
              "      fill: #FFFFFF;\n",
              "    }\n",
              "  </style>\n",
              "\n",
              "      <script>\n",
              "        const buttonEl =\n",
              "          document.querySelector('#df-8964c721-354f-449f-a3b2-cfec68fe0ef7 button.colab-df-convert');\n",
              "        buttonEl.style.display =\n",
              "          google.colab.kernel.accessAllowed ? 'block' : 'none';\n",
              "\n",
              "        async function convertToInteractive(key) {\n",
              "          const element = document.querySelector('#df-8964c721-354f-449f-a3b2-cfec68fe0ef7');\n",
              "          const dataTable =\n",
              "            await google.colab.kernel.invokeFunction('convertToInteractive',\n",
              "                                                     [key], {});\n",
              "          if (!dataTable) return;\n",
              "\n",
              "          const docLinkHtml = 'Like what you see? Visit the ' +\n",
              "            '<a target=\"_blank\" href=https://colab.research.google.com/notebooks/data_table.ipynb>data table notebook</a>'\n",
              "            + ' to learn more about interactive tables.';\n",
              "          element.innerHTML = '';\n",
              "          dataTable['output_type'] = 'display_data';\n",
              "          await google.colab.output.renderOutput(dataTable, element);\n",
              "          const docLink = document.createElement('div');\n",
              "          docLink.innerHTML = docLinkHtml;\n",
              "          element.appendChild(docLink);\n",
              "        }\n",
              "      </script>\n",
              "    </div>\n",
              "  </div>\n",
              "  "
            ]
          },
          "metadata": {},
          "execution_count": 20
        }
      ]
    },
    {
      "cell_type": "code",
      "source": [],
      "metadata": {
        "id": "Clx7EdsW2yFf"
      },
      "execution_count": 20,
      "outputs": []
    }
  ],
  "metadata": {
    "kernelspec": {
      "display_name": "Python 3.10.6 ('Ai')",
      "language": "python",
      "name": "python3"
    },
    "language_info": {
      "codemirror_mode": {
        "name": "ipython",
        "version": 3
      },
      "file_extension": ".py",
      "mimetype": "text/x-python",
      "name": "python",
      "nbconvert_exporter": "python",
      "pygments_lexer": "ipython3",
      "version": "3.10.6"
    },
    "orig_nbformat": 4,
    "vscode": {
      "interpreter": {
        "hash": "cc12dd51c08fff59e312c49b5273cbf2a12939660509ea1a4d83cd89b0463726"
      }
    },
    "colab": {
      "provenance": [],
      "machine_shape": "hm",
      "toc_visible": true,
      "include_colab_link": true
    },
    "accelerator": "GPU",
    "gpuClass": "standard"
  },
  "nbformat": 4,
  "nbformat_minor": 0
}