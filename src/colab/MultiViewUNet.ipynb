{
  "cells": [
    {
      "cell_type": "markdown",
      "metadata": {
        "id": "view-in-github",
        "colab_type": "text"
      },
      "source": [
        "<a href=\"https://colab.research.google.com/github/atick-faisal/TAVI/blob/main/src/colab/MultiViewUNet.ipynb\" target=\"_parent\"><img src=\"https://colab.research.google.com/assets/colab-badge.svg\" alt=\"Open In Colab\"/></a>"
      ]
    },
    {
      "cell_type": "markdown",
      "source": [
        "# Colab Info"
      ],
      "metadata": {
        "id": "UVG0Xo17Xzdk"
      }
    },
    {
      "cell_type": "code",
      "source": [
        "from psutil import virtual_memory\n",
        "\n",
        "gpu_info = !nvidia-smi\n",
        "gpu_info = '\\n'.join(gpu_info)\n",
        "if gpu_info.find('failed') >= 0:\n",
        "  print('Not connected to a GPU')\n",
        "else:\n",
        "  print(gpu_info)\n",
        "\n",
        "\n",
        "ram_gb = virtual_memory().total / 1e9\n",
        "print('Your runtime has {:.1f} gigabytes of available RAM\\n'.format(ram_gb))\n",
        "\n",
        "if ram_gb < 20:\n",
        "  print('Not using a high-RAM runtime')\n",
        "else:\n",
        "  print('You are using a high-RAM runtime!')"
      ],
      "metadata": {
        "id": "ZwwbESaiX2xi",
        "outputId": "55ec75c8-7000-4a6a-ccfa-c62c2a0ebb40",
        "colab": {
          "base_uri": "https://localhost:8080/"
        }
      },
      "execution_count": 1,
      "outputs": [
        {
          "output_type": "stream",
          "name": "stdout",
          "text": [
            "Mon Nov  7 19:10:34 2022       \n",
            "+-----------------------------------------------------------------------------+\n",
            "| NVIDIA-SMI 460.32.03    Driver Version: 460.32.03    CUDA Version: 11.2     |\n",
            "|-------------------------------+----------------------+----------------------+\n",
            "| GPU  Name        Persistence-M| Bus-Id        Disp.A | Volatile Uncorr. ECC |\n",
            "| Fan  Temp  Perf  Pwr:Usage/Cap|         Memory-Usage | GPU-Util  Compute M. |\n",
            "|                               |                      |               MIG M. |\n",
            "|===============================+======================+======================|\n",
            "|   0  Tesla T4            Off  | 00000000:00:04.0 Off |                    0 |\n",
            "| N/A   58C    P8    11W /  70W |      0MiB / 15109MiB |      0%      Default |\n",
            "|                               |                      |                  N/A |\n",
            "+-------------------------------+----------------------+----------------------+\n",
            "                                                                               \n",
            "+-----------------------------------------------------------------------------+\n",
            "| Processes:                                                                  |\n",
            "|  GPU   GI   CI        PID   Type   Process name                  GPU Memory |\n",
            "|        ID   ID                                                   Usage      |\n",
            "|=============================================================================|\n",
            "|  No running processes found                                                 |\n",
            "+-----------------------------------------------------------------------------+\n",
            "Your runtime has 27.3 gigabytes of available RAM\n",
            "\n",
            "You are using a high-RAM runtime!\n"
          ]
        }
      ]
    },
    {
      "cell_type": "markdown",
      "source": [
        "# Google Drive"
      ],
      "metadata": {
        "id": "0estJx3IDzz4"
      }
    },
    {
      "cell_type": "code",
      "source": [
        "from google.colab import drive\n",
        "drive.mount('/content/drive')"
      ],
      "metadata": {
        "colab": {
          "base_uri": "https://localhost:8080/"
        },
        "id": "WsH9ydF7Dwpf",
        "outputId": "a308d5c4-5963-4ecc-f7fd-4571cdf6610f"
      },
      "execution_count": 2,
      "outputs": [
        {
          "output_type": "stream",
          "name": "stdout",
          "text": [
            "Mounted at /content/drive\n"
          ]
        }
      ]
    },
    {
      "cell_type": "markdown",
      "metadata": {
        "id": "MMf8mzRT0YxP"
      },
      "source": [
        "# Download Dataset"
      ]
    },
    {
      "cell_type": "code",
      "execution_count": 3,
      "metadata": {
        "id": "Zm_HJEfM0YxS",
        "outputId": "878966f4-47a8-410a-d7ec-870e71bfacb6",
        "colab": {
          "base_uri": "https://localhost:8080/"
        }
      },
      "outputs": [
        {
          "output_type": "stream",
          "name": "stdout",
          "text": [
            "Downloading...\n",
            "From: https://drive.google.com/uc?id=1g-0bgXuN9YoiMql-KggxMr9a_vAxZGfV\n",
            "To: /content/CurvToTAWSS.zip\n",
            "100% 831M/831M [00:02<00:00, 349MB/s]\n"
          ]
        }
      ],
      "source": [
        "!gdown \"1g-0bgXuN9YoiMql-KggxMr9a_vAxZGfV\"\n",
        "!unzip -o \"CurvToTAWSS.zip\" > /dev/null\n"
      ]
    },
    {
      "cell_type": "markdown",
      "metadata": {
        "id": "Vemh_spU0YxT"
      },
      "source": [
        "# Imports"
      ]
    },
    {
      "cell_type": "code",
      "source": [
        "!pip install image-similarity-measures > /dev/null"
      ],
      "metadata": {
        "id": "6R23-7Fgp4K2"
      },
      "execution_count": 4,
      "outputs": []
    },
    {
      "cell_type": "code",
      "execution_count": 5,
      "metadata": {
        "id": "w0KYlE-90YxT"
      },
      "outputs": [],
      "source": [
        "import os\n",
        "import cv2\n",
        "import random\n",
        "import datetime\n",
        "import matplotlib\n",
        "import numpy as np\n",
        "import pandas as pd\n",
        "import tensorflow as tf\n",
        "import matplotlib.pyplot as plt\n",
        "\n",
        "from tqdm import tqdm\n",
        "from numpy.typing import NDArray\n",
        "from image_similarity_measures.quality_metrics import *\n",
        "\n",
        "matplotlib.use('Agg')\n",
        "plt.rcParams[\"font.size\"] = 16\n"
      ]
    },
    {
      "cell_type": "markdown",
      "metadata": {
        "id": "vE8WOTRj0YxT"
      },
      "source": [
        "# Config"
      ]
    },
    {
      "cell_type": "code",
      "execution_count": 6,
      "metadata": {
        "id": "O5Vvm79c0YxT"
      },
      "outputs": [],
      "source": [
        "DATASET         = \"CurvToTAWSS\"\n",
        "MODEL_NAME      = \"MobileUNet\"\n",
        "DATASET_PATH    = \"/content/Images/\"\n",
        "TRAIN_DIR       = \"Train/\"\n",
        "TEST_DIR        = \"Test/\"\n",
        "INPUT_DIR       = \"Input/\"\n",
        "TARGET_DIR      = \"Target/\"\n",
        "MODEL_PATH      = \"/content/drive/MyDrive/Research/TAVI/Models/\"\n",
        "PRED_PATH       = \"/content/drive/MyDrive/Research/TAVI/Predictions/\"\n",
        "\n",
        "IMG_SIZE        = 256\n",
        "BATCH_SIZE      = 12\n",
        "BUFFER_SIZE     = 1000\n",
        "VAL_SPLIT       = 0.2\n",
        "LEARNING_RATE   = 0.001\n",
        "N_EPOCHS        = 300\n",
        "PATIENCE        = 30\n",
        "\n",
        "EXP_NAME        = f\"{MODEL_NAME}_I{IMG_SIZE}_B{BATCH_SIZE}_LR{LEARNING_RATE}_{DATASET}\"\n"
      ]
    },
    {
      "cell_type": "markdown",
      "metadata": {
        "id": "YmMjbvFH0YxU"
      },
      "source": [
        "# Architecture"
      ]
    },
    {
      "cell_type": "code",
      "execution_count": 7,
      "metadata": {
        "id": "xecJpVUs0YxU"
      },
      "outputs": [],
      "source": [
        "class UNet:\n",
        "    def __init__(\n",
        "        self,\n",
        "        img_size: int,\n",
        "        n_channels: int = 3,\n",
        "        width: int = 32,\n",
        "        depth: int = 4,\n",
        "        kernel_size: int = 3\n",
        "    ):\n",
        "        self.img_size = img_size\n",
        "        self.n_channels = n_channels\n",
        "        self.width = width\n",
        "        self.depth = depth\n",
        "        self.kernel_size = kernel_size\n",
        "\n",
        "    @staticmethod\n",
        "    def conv(\n",
        "        x: tf.Tensor,\n",
        "        filters: int,\n",
        "        kernel_size: int\n",
        "    ) -> tf.Tensor:\n",
        "        for i in range(2):\n",
        "            x = tf.keras.layers.Conv2D(\n",
        "                filters=filters,\n",
        "                kernel_size=kernel_size,\n",
        "                strides=1,\n",
        "                padding=\"same\",\n",
        "                data_format=\"channels_last\",\n",
        "                dilation_rate=1,\n",
        "                groups=1,\n",
        "                activation=None,\n",
        "                use_bias=True,\n",
        "                kernel_initializer=\"glorot_uniform\",\n",
        "                bias_initializer=\"zeros\"\n",
        "            )(x)\n",
        "\n",
        "            x = tf.keras.layers.BatchNormalization()(x)\n",
        "            x = tf.keras.layers.Activation(\"relu\")(x)\n",
        "\n",
        "        return x\n",
        "\n",
        "    @staticmethod\n",
        "    def deconv(x: tf.Tensor, filters: int) -> tf.Tensor:\n",
        "        x = tf.keras.layers.Conv2DTranspose(\n",
        "            filters=filters,\n",
        "            kernel_size=2,\n",
        "            strides=2,\n",
        "            padding=\"same\",\n",
        "            output_padding=None,\n",
        "            data_format=None,\n",
        "            dilation_rate=1,\n",
        "            activation=None,\n",
        "            use_bias=True,\n",
        "            kernel_initializer=\"glorot_uniform\",\n",
        "            bias_initializer=\"zeros\"\n",
        "        )(x)\n",
        "\n",
        "        x = tf.keras.layers.BatchNormalization()(x)\n",
        "        x = tf.keras.layers.Activation(\"relu\")(x)\n",
        "\n",
        "        return x\n",
        "\n",
        "    @staticmethod\n",
        "    def output(x: tf.Tensor) -> tf.Tensor:\n",
        "        return tf.keras.layers.Conv2D(3, (1, 1), activation=\"sigmoid\")(x)\n",
        "\n",
        "    @staticmethod\n",
        "    def pool(x: tf.Tensor, pool_size: int = 2) -> tf.Tensor:\n",
        "        return tf.keras.layers.MaxPool2D(pool_size)(x)\n",
        "\n",
        "    def __call__(self) -> tf.keras.Model:\n",
        "        inputs = tf.keras.layers.Input(\n",
        "            shape=(self.img_size, self.img_size, self.n_channels)\n",
        "        )\n",
        "\n",
        "        # scaled = tf.keras.layers.Rescaling(1./255.0, offset=0)(inputs)\n",
        "\n",
        "        # ------------------ Downsampling ---------------------\n",
        "        downsample_layers = []\n",
        "        downsample_layers.append(\n",
        "            self.conv(\n",
        "                x=inputs,\n",
        "                filters=self.width,\n",
        "                kernel_size=self.kernel_size\n",
        "            )\n",
        "        )\n",
        "        for i in range(1, self.depth):\n",
        "            filters = int((2 ** i) * self.width)\n",
        "            downsample_layers.append(\n",
        "                self.pool(\n",
        "                    self.conv(\n",
        "                        x=downsample_layers[i - 1],\n",
        "                        filters=filters,\n",
        "                        kernel_size=self.kernel_size\n",
        "                    )\n",
        "                )\n",
        "            )\n",
        "\n",
        "        # ------------------- Features --------------------\n",
        "        n_features = int((2 ** self.depth) * self.width)\n",
        "        self.features = self.pool(\n",
        "            self.conv(\n",
        "                x=downsample_layers[-1],\n",
        "                filters=n_features,\n",
        "                kernel_size=self.kernel_size\n",
        "            )\n",
        "        )\n",
        "\n",
        "        # ------------------- Upsampling --------------------\n",
        "        upsample_layers = []\n",
        "        upsample_layers.append(self.features)\n",
        "        for i in range(1, self.depth + 1):\n",
        "            filters = int((2 ** (self.depth - i)) * self.width)\n",
        "            upsample_layers.append(\n",
        "                self.conv(\n",
        "                    x=tf.keras.layers.concatenate([\n",
        "                        downsample_layers[self.depth - i],\n",
        "                        self.deconv(\n",
        "                            x=upsample_layers[i - 1],\n",
        "                            filters=filters\n",
        "                        )\n",
        "                    ]),\n",
        "                    filters=filters,\n",
        "                    kernel_size=self.kernel_size\n",
        "                )\n",
        "            )\n",
        "\n",
        "        # ---------------------- Output -----------------------\n",
        "        outputs = self.output(upsample_layers[-1])\n",
        "\n",
        "        return tf.keras.Model(inputs, outputs)\n"
      ]
    },
    {
      "cell_type": "markdown",
      "metadata": {
        "id": "ga47oOoc0YxV"
      },
      "source": [
        "# Loss Functions"
      ]
    },
    {
      "cell_type": "code",
      "execution_count": 8,
      "metadata": {
        "id": "ooE90mpc0YxW"
      },
      "outputs": [],
      "source": [
        "def attention_mse(y_true, y_pred):\n",
        "    _y_true = y_true[y_true != 1.0]\n",
        "    _y_pred = y_pred[y_true != 1.0]\n",
        "    squared_difference = tf.square(_y_true - _y_pred)\n",
        "    return tf.reduce_mean(squared_difference, axis=-1)\n",
        "\n",
        "\n",
        "def attention_mae(y_true, y_pred):\n",
        "    _y_true = y_true[y_true != 1.0]\n",
        "    _y_pred = y_pred[y_true != 1.0]\n",
        "    squared_difference = tf.abs(_y_true - _y_pred)\n",
        "    return tf.reduce_mean(squared_difference, axis=-1)\n"
      ]
    },
    {
      "cell_type": "markdown",
      "metadata": {
        "id": "wOgmHYSJ0YxW"
      },
      "source": [
        "# Utils"
      ]
    },
    {
      "cell_type": "code",
      "execution_count": 9,
      "metadata": {
        "id": "cSrfyX260YxW"
      },
      "outputs": [],
      "source": [
        "def load_data_from_dir(path: str) -> tf.data.Dataset:\n",
        "    return tf.keras.utils.image_dataset_from_directory(\n",
        "        directory=path,\n",
        "        labels=None,\n",
        "        color_mode='rgb',\n",
        "        batch_size=BATCH_SIZE,\n",
        "        image_size=(IMG_SIZE, IMG_SIZE),\n",
        "        shuffle=True,\n",
        "        seed=42,\n",
        "        # validation_split=VAL_SPLIT,\n",
        "        # subset=subset,\n",
        "        interpolation='bilinear',\n",
        "        follow_links=False,\n",
        "        crop_to_aspect_ratio=False\n",
        "    )\n"
      ]
    },
    {
      "cell_type": "markdown",
      "metadata": {
        "id": "CyS-63WI0YxX"
      },
      "source": [
        "# Dataloaders"
      ]
    },
    {
      "cell_type": "code",
      "execution_count": 10,
      "metadata": {
        "id": "71Dxzfkf0YxX",
        "outputId": "f2d6e619-19e1-48ae-98af-4725cbf9dc67",
        "colab": {
          "base_uri": "https://localhost:8080/"
        }
      },
      "outputs": [
        {
          "output_type": "stream",
          "name": "stdout",
          "text": [
            "Found 8208 files belonging to 1 classes.\n",
            "Found 8208 files belonging to 1 classes.\n",
            "Found 312 files belonging to 1 classes.\n",
            "Found 312 files belonging to 1 classes.\n",
            "(TensorSpec(shape=(None, 256, 256, 3), dtype=tf.float32, name=None), TensorSpec(shape=(None, 256, 256, 3), dtype=tf.float32, name=None))\n",
            "(TensorSpec(shape=(None, 256, 256, 3), dtype=tf.float32, name=None), TensorSpec(shape=(None, 256, 256, 3), dtype=tf.float32, name=None))\n"
          ]
        }
      ],
      "source": [
        "trainX = load_data_from_dir(os.path.join(DATASET_PATH, TRAIN_DIR, INPUT_DIR))\n",
        "trainY = load_data_from_dir(os.path.join(DATASET_PATH, TRAIN_DIR, TARGET_DIR))\n",
        "testX = load_data_from_dir(os.path.join(DATASET_PATH, TEST_DIR, INPUT_DIR))\n",
        "testY = load_data_from_dir(os.path.join(DATASET_PATH, TEST_DIR, TARGET_DIR))\n",
        "\n",
        "train_ds = tf.data.Dataset.zip((trainX, trainY))\n",
        "test_ds = tf.data.Dataset.zip((testX, testY))\n",
        "\n",
        "print(train_ds.element_spec)\n",
        "print(test_ds.element_spec)\n"
      ]
    },
    {
      "cell_type": "markdown",
      "source": [
        "# Normalization"
      ],
      "metadata": {
        "id": "01HaegmR278r"
      }
    },
    {
      "cell_type": "code",
      "source": [
        "# def normalize(input_image, output_image):\n",
        "#     input_image = tf.cast(input_image, tf.float32) / 255.0\n",
        "#     output_image = tf.cast(input_image, tf.float32) / 255.0\n",
        "#     return input_image, output_image"
      ],
      "metadata": {
        "id": "E1oi3-RTqZV1"
      },
      "execution_count": 11,
      "outputs": []
    },
    {
      "cell_type": "code",
      "source": [
        "normalization_layer = tf.keras.layers.Rescaling(1./255)\n",
        "train_ds = train_ds.map(lambda x, y: (normalization_layer(x), normalization_layer(y)))\n",
        "test_ds = test_ds.map(lambda x, y: (normalization_layer(x), normalization_layer(y)))"
      ],
      "metadata": {
        "id": "mDeZuH0p26pE"
      },
      "execution_count": 12,
      "outputs": []
    },
    {
      "cell_type": "markdown",
      "source": [
        "# Augmentation"
      ],
      "metadata": {
        "id": "tySOuC8Hqvdm"
      }
    },
    {
      "cell_type": "code",
      "source": [
        "class Augment(tf.keras.layers.Layer):\n",
        "    def __init__(self, seed=42):\n",
        "        super().__init__()\n",
        "        # both use the same seed, so they'll make the same random changes.\n",
        "        self.augment_inputs = tf.keras.layers.RandomZoom((-0.1, -0.5), seed=seed)\n",
        "        self.augment_labels = tf.keras.layers.RandomZoom((-0.1, -0.5), seed=seed)\n",
        "\n",
        "    def call(self, inputs, labels):\n",
        "        inputs = self.augment_inputs(inputs)\n",
        "        labels = self.augment_labels(labels)\n",
        "        return inputs, labels"
      ],
      "metadata": {
        "id": "OHQFZ9kKqu6f"
      },
      "execution_count": 13,
      "outputs": []
    },
    {
      "cell_type": "markdown",
      "metadata": {
        "id": "eHlKefA_0YxX"
      },
      "source": [
        "# Optimization"
      ]
    },
    {
      "cell_type": "code",
      "execution_count": 14,
      "metadata": {
        "id": "U-HMkfOG0YxX"
      },
      "outputs": [],
      "source": [
        "AUTOTUNE = tf.data.AUTOTUNE\n",
        "\n",
        "train_batches = (\n",
        "    train_ds\n",
        "    .cache()\n",
        "    # .shuffle(BUFFER_SIZE)\n",
        "    # .batch(BATCH_SIZE)\n",
        "    # .repeat()\n",
        "    .map(Augment())\n",
        "    .prefetch(buffer_size=AUTOTUNE)\n",
        ")\n",
        "\n",
        "test_batches = (test_ds)\n"
      ]
    },
    {
      "cell_type": "markdown",
      "metadata": {
        "id": "w50akeqN0YxX"
      },
      "source": [
        "# Training Config"
      ]
    },
    {
      "cell_type": "code",
      "execution_count": 15,
      "metadata": {
        "id": "2YvF85Wg0YxY"
      },
      "outputs": [],
      "source": [
        "callbacks = [\n",
        "    tf.keras.callbacks.EarlyStopping(\n",
        "        monitor=\"val_loss\",\n",
        "        patience=PATIENCE,\n",
        "        restore_best_weights=True\n",
        "    )\n",
        "]\n",
        "\n",
        "optimizer = tf.keras.optimizers.Adam(\n",
        "    learning_rate=LEARNING_RATE\n",
        ")\n",
        "\n",
        "model = UNet(IMG_SIZE)()\n",
        "# model = MobileUNet(IMG_SIZE)()\n",
        "\n",
        "model.compile(\n",
        "    loss=attention_mse,\n",
        "    optimizer=optimizer,\n",
        "    metrics=['mean_squared_error']\n",
        ")\n"
      ]
    },
    {
      "cell_type": "markdown",
      "metadata": {
        "id": "XrJPilPI0YxY"
      },
      "source": [
        "# Training"
      ]
    },
    {
      "cell_type": "code",
      "execution_count": 16,
      "metadata": {
        "id": "y_b-8pkT0YxY",
        "outputId": "da12f3d2-4f8a-47ae-af05-70ee01e4dbe4",
        "colab": {
          "base_uri": "https://localhost:8080/"
        }
      },
      "outputs": [
        {
          "output_type": "stream",
          "name": "stdout",
          "text": [
            "Epoch 1/300\n",
            "684/684 [==============================] - 320s 443ms/step - loss: 0.0152 - mean_squared_error: 0.2311 - val_loss: 0.0234 - val_mean_squared_error: 0.2387\n",
            "Epoch 2/300\n",
            "684/684 [==============================] - 306s 448ms/step - loss: 0.0125 - mean_squared_error: 0.2369 - val_loss: 0.0403 - val_mean_squared_error: 0.0158\n",
            "Epoch 3/300\n",
            "684/684 [==============================] - 306s 447ms/step - loss: 0.0117 - mean_squared_error: 0.2397 - val_loss: 0.0143 - val_mean_squared_error: 0.0081\n",
            "Epoch 4/300\n",
            "684/684 [==============================] - 306s 447ms/step - loss: 0.0112 - mean_squared_error: 0.2454 - val_loss: 0.0125 - val_mean_squared_error: 0.0538\n",
            "Epoch 5/300\n",
            "684/684 [==============================] - 306s 447ms/step - loss: 0.0108 - mean_squared_error: 0.2472 - val_loss: 0.0143 - val_mean_squared_error: 0.0883\n",
            "Epoch 6/300\n",
            "684/684 [==============================] - 306s 447ms/step - loss: 0.0104 - mean_squared_error: 0.2470 - val_loss: 0.0176 - val_mean_squared_error: 0.0394\n",
            "Epoch 7/300\n",
            "684/684 [==============================] - 306s 447ms/step - loss: 0.0100 - mean_squared_error: 0.2457 - val_loss: 0.0162 - val_mean_squared_error: 0.0312\n",
            "Epoch 8/300\n",
            "684/684 [==============================] - 306s 448ms/step - loss: 0.0097 - mean_squared_error: 0.2472 - val_loss: 0.0164 - val_mean_squared_error: 0.0175\n",
            "Epoch 9/300\n",
            "684/684 [==============================] - 305s 446ms/step - loss: 0.0094 - mean_squared_error: 0.2470 - val_loss: 0.0159 - val_mean_squared_error: 0.0224\n",
            "Epoch 10/300\n",
            "684/684 [==============================] - 305s 446ms/step - loss: 0.0091 - mean_squared_error: 0.2451 - val_loss: 0.0206 - val_mean_squared_error: 0.0106\n",
            "Epoch 11/300\n",
            "684/684 [==============================] - 305s 446ms/step - loss: 0.0088 - mean_squared_error: 0.2414 - val_loss: 0.0112 - val_mean_squared_error: 0.0285\n",
            "Epoch 12/300\n",
            "684/684 [==============================] - 305s 446ms/step - loss: 0.0085 - mean_squared_error: 0.2383 - val_loss: 0.0123 - val_mean_squared_error: 0.0215\n",
            "Epoch 13/300\n",
            "684/684 [==============================] - 306s 447ms/step - loss: 0.0083 - mean_squared_error: 0.2376 - val_loss: 0.0479 - val_mean_squared_error: 0.0056\n",
            "Epoch 14/300\n",
            "684/684 [==============================] - 306s 447ms/step - loss: 0.0080 - mean_squared_error: 0.2324 - val_loss: 0.0096 - val_mean_squared_error: 0.2091\n",
            "Epoch 15/300\n",
            "684/684 [==============================] - 305s 446ms/step - loss: 0.0078 - mean_squared_error: 0.2282 - val_loss: 0.0141 - val_mean_squared_error: 0.0287\n",
            "Epoch 16/300\n",
            "684/684 [==============================] - 305s 446ms/step - loss: 0.0076 - mean_squared_error: 0.2239 - val_loss: 0.0084 - val_mean_squared_error: 0.0507\n",
            "Epoch 17/300\n",
            "684/684 [==============================] - 305s 446ms/step - loss: 0.0073 - mean_squared_error: 0.2198 - val_loss: 0.0087 - val_mean_squared_error: 0.1689\n",
            "Epoch 18/300\n",
            "684/684 [==============================] - 305s 446ms/step - loss: 0.0071 - mean_squared_error: 0.2222 - val_loss: 0.0126 - val_mean_squared_error: 0.0103\n",
            "Epoch 19/300\n",
            "684/684 [==============================] - 305s 446ms/step - loss: 0.0069 - mean_squared_error: 0.2213 - val_loss: 0.0117 - val_mean_squared_error: 0.0196\n",
            "Epoch 20/300\n",
            "684/684 [==============================] - 305s 446ms/step - loss: 0.0067 - mean_squared_error: 0.2177 - val_loss: 0.0116 - val_mean_squared_error: 0.0063\n",
            "Epoch 21/300\n",
            "684/684 [==============================] - 305s 445ms/step - loss: 0.0065 - mean_squared_error: 0.2184 - val_loss: 0.0144 - val_mean_squared_error: 0.0289\n",
            "Epoch 22/300\n",
            "684/684 [==============================] - 305s 446ms/step - loss: 0.0062 - mean_squared_error: 0.2204 - val_loss: 0.0130 - val_mean_squared_error: 0.0492\n",
            "Epoch 23/300\n",
            "684/684 [==============================] - 305s 446ms/step - loss: 0.0061 - mean_squared_error: 0.2106 - val_loss: 0.0104 - val_mean_squared_error: 0.3251\n",
            "Epoch 24/300\n",
            "684/684 [==============================] - 305s 445ms/step - loss: 0.0059 - mean_squared_error: 0.2097 - val_loss: 0.0114 - val_mean_squared_error: 0.0037\n",
            "Epoch 25/300\n",
            "684/684 [==============================] - 305s 445ms/step - loss: 0.0058 - mean_squared_error: 0.2102 - val_loss: 0.0134 - val_mean_squared_error: 0.1131\n",
            "Epoch 26/300\n",
            "684/684 [==============================] - 305s 446ms/step - loss: 0.0056 - mean_squared_error: 0.2171 - val_loss: 0.0140 - val_mean_squared_error: 0.1779\n",
            "Epoch 27/300\n",
            "684/684 [==============================] - 305s 446ms/step - loss: 0.0054 - mean_squared_error: 0.2195 - val_loss: 0.0077 - val_mean_squared_error: 0.3107\n",
            "Epoch 28/300\n",
            "684/684 [==============================] - 305s 446ms/step - loss: 0.0053 - mean_squared_error: 0.2192 - val_loss: 0.0146 - val_mean_squared_error: 0.0469\n",
            "Epoch 29/300\n",
            "684/684 [==============================] - 305s 446ms/step - loss: 0.0051 - mean_squared_error: 0.2260 - val_loss: 0.0150 - val_mean_squared_error: 0.2722\n",
            "Epoch 30/300\n",
            "684/684 [==============================] - 305s 446ms/step - loss: 0.0050 - mean_squared_error: 0.2270 - val_loss: 0.0079 - val_mean_squared_error: 0.3235\n",
            "Epoch 31/300\n",
            "684/684 [==============================] - 305s 445ms/step - loss: 0.0049 - mean_squared_error: 0.2287 - val_loss: 0.0177 - val_mean_squared_error: 0.1531\n",
            "Epoch 32/300\n",
            "684/684 [==============================] - 305s 445ms/step - loss: 0.0047 - mean_squared_error: 0.2325 - val_loss: 0.0133 - val_mean_squared_error: 0.3267\n",
            "Epoch 33/300\n",
            "684/684 [==============================] - 305s 445ms/step - loss: 0.0046 - mean_squared_error: 0.2327 - val_loss: 0.0134 - val_mean_squared_error: 0.2976\n",
            "Epoch 34/300\n",
            "684/684 [==============================] - 305s 446ms/step - loss: 0.0045 - mean_squared_error: 0.2317 - val_loss: 0.0122 - val_mean_squared_error: 0.4351\n",
            "Epoch 35/300\n",
            "684/684 [==============================] - 305s 446ms/step - loss: 0.0044 - mean_squared_error: 0.2320 - val_loss: 0.0117 - val_mean_squared_error: 0.4373\n",
            "Epoch 36/300\n",
            "684/684 [==============================] - 305s 445ms/step - loss: 0.0043 - mean_squared_error: 0.2323 - val_loss: 0.0120 - val_mean_squared_error: 0.4541\n",
            "Epoch 37/300\n",
            "684/684 [==============================] - 305s 446ms/step - loss: 0.0042 - mean_squared_error: 0.2327 - val_loss: 0.0074 - val_mean_squared_error: 0.3020\n",
            "Epoch 38/300\n",
            "684/684 [==============================] - 305s 446ms/step - loss: 0.0041 - mean_squared_error: 0.2273 - val_loss: 0.0068 - val_mean_squared_error: 0.0762\n",
            "Epoch 39/300\n",
            "684/684 [==============================] - 305s 446ms/step - loss: 0.0040 - mean_squared_error: 0.2278 - val_loss: 0.0071 - val_mean_squared_error: 0.2644\n",
            "Epoch 40/300\n",
            "684/684 [==============================] - 305s 446ms/step - loss: 0.0039 - mean_squared_error: 0.2286 - val_loss: 0.0074 - val_mean_squared_error: 0.1486\n",
            "Epoch 41/300\n",
            "684/684 [==============================] - 305s 445ms/step - loss: 0.0038 - mean_squared_error: 0.2273 - val_loss: 0.0123 - val_mean_squared_error: 0.4487\n",
            "Epoch 42/300\n",
            "684/684 [==============================] - 305s 446ms/step - loss: 0.0037 - mean_squared_error: 0.2273 - val_loss: 0.0121 - val_mean_squared_error: 0.4577\n",
            "Epoch 43/300\n",
            "684/684 [==============================] - 304s 445ms/step - loss: 0.0037 - mean_squared_error: 0.2267 - val_loss: 0.0079 - val_mean_squared_error: 0.4300\n",
            "Epoch 44/300\n",
            "684/684 [==============================] - 305s 445ms/step - loss: 0.0036 - mean_squared_error: 0.2281 - val_loss: 0.0142 - val_mean_squared_error: 0.3002\n",
            "Epoch 45/300\n",
            "684/684 [==============================] - 305s 446ms/step - loss: 0.0035 - mean_squared_error: 0.2254 - val_loss: 0.0067 - val_mean_squared_error: 0.3116\n",
            "Epoch 46/300\n",
            "684/684 [==============================] - 305s 446ms/step - loss: 0.0035 - mean_squared_error: 0.2254 - val_loss: 0.0072 - val_mean_squared_error: 0.3818\n",
            "Epoch 47/300\n",
            "684/684 [==============================] - 305s 446ms/step - loss: 0.0034 - mean_squared_error: 0.2230 - val_loss: 0.0083 - val_mean_squared_error: 0.1668\n",
            "Epoch 48/300\n",
            "684/684 [==============================] - 305s 446ms/step - loss: 0.0034 - mean_squared_error: 0.2231 - val_loss: 0.0096 - val_mean_squared_error: 0.3902\n",
            "Epoch 49/300\n",
            "684/684 [==============================] - 305s 446ms/step - loss: 0.0032 - mean_squared_error: 0.2228 - val_loss: 0.0082 - val_mean_squared_error: 0.4580\n",
            "Epoch 50/300\n",
            "684/684 [==============================] - 305s 446ms/step - loss: 0.0032 - mean_squared_error: 0.2204 - val_loss: 0.0186 - val_mean_squared_error: 0.0018\n",
            "Epoch 51/300\n",
            "684/684 [==============================] - 304s 445ms/step - loss: 0.0032 - mean_squared_error: 0.2192 - val_loss: 0.0089 - val_mean_squared_error: 0.0212\n",
            "Epoch 52/300\n",
            "684/684 [==============================] - 305s 445ms/step - loss: 0.0031 - mean_squared_error: 0.2170 - val_loss: 0.0067 - val_mean_squared_error: 0.2773\n",
            "Epoch 53/300\n",
            "684/684 [==============================] - 305s 446ms/step - loss: 0.0031 - mean_squared_error: 0.2162 - val_loss: 0.0062 - val_mean_squared_error: 0.2175\n",
            "Epoch 54/300\n",
            "684/684 [==============================] - 305s 446ms/step - loss: 0.0030 - mean_squared_error: 0.2169 - val_loss: 0.0095 - val_mean_squared_error: 0.0166\n",
            "Epoch 55/300\n",
            "684/684 [==============================] - 305s 446ms/step - loss: 0.0030 - mean_squared_error: 0.2159 - val_loss: 0.0083 - val_mean_squared_error: 0.4382\n",
            "Epoch 56/300\n",
            "684/684 [==============================] - 304s 445ms/step - loss: 0.0029 - mean_squared_error: 0.2163 - val_loss: 0.0061 - val_mean_squared_error: 0.2153\n",
            "Epoch 57/300\n",
            "684/684 [==============================] - 304s 445ms/step - loss: 0.0029 - mean_squared_error: 0.2165 - val_loss: 0.0073 - val_mean_squared_error: 0.4113\n",
            "Epoch 58/300\n",
            "684/684 [==============================] - 304s 445ms/step - loss: 0.0029 - mean_squared_error: 0.2134 - val_loss: 0.0125 - val_mean_squared_error: 0.4401\n",
            "Epoch 59/300\n",
            "684/684 [==============================] - 304s 445ms/step - loss: 0.0028 - mean_squared_error: 0.2126 - val_loss: 0.0070 - val_mean_squared_error: 0.4166\n",
            "Epoch 60/300\n",
            "684/684 [==============================] - 304s 445ms/step - loss: 0.0028 - mean_squared_error: 0.2111 - val_loss: 0.0072 - val_mean_squared_error: 0.4236\n",
            "Epoch 61/300\n",
            "684/684 [==============================] - 305s 445ms/step - loss: 0.0027 - mean_squared_error: 0.2121 - val_loss: 0.0064 - val_mean_squared_error: 0.2757\n",
            "Epoch 62/300\n",
            "684/684 [==============================] - 305s 445ms/step - loss: 0.0027 - mean_squared_error: 0.2097 - val_loss: 0.0122 - val_mean_squared_error: 0.3546\n",
            "Epoch 63/300\n",
            "684/684 [==============================] - 305s 445ms/step - loss: 0.0026 - mean_squared_error: 0.2085 - val_loss: 0.0075 - val_mean_squared_error: 0.4076\n",
            "Epoch 64/300\n",
            "684/684 [==============================] - 305s 445ms/step - loss: 0.0027 - mean_squared_error: 0.2094 - val_loss: 0.0117 - val_mean_squared_error: 0.3276\n",
            "Epoch 65/300\n",
            "684/684 [==============================] - 305s 445ms/step - loss: 0.0026 - mean_squared_error: 0.2099 - val_loss: 0.0064 - val_mean_squared_error: 0.3625\n",
            "Epoch 66/300\n",
            "684/684 [==============================] - 305s 445ms/step - loss: 0.0025 - mean_squared_error: 0.2088 - val_loss: 0.0064 - val_mean_squared_error: 0.3237\n",
            "Epoch 67/300\n",
            "684/684 [==============================] - 305s 445ms/step - loss: 0.0026 - mean_squared_error: 0.2085 - val_loss: 0.0064 - val_mean_squared_error: 0.2016\n",
            "Epoch 68/300\n",
            "684/684 [==============================] - 305s 445ms/step - loss: 0.0025 - mean_squared_error: 0.2076 - val_loss: 0.0107 - val_mean_squared_error: 0.0083\n",
            "Epoch 69/300\n",
            "684/684 [==============================] - 305s 446ms/step - loss: 0.0025 - mean_squared_error: 0.2049 - val_loss: 0.0077 - val_mean_squared_error: 0.3957\n",
            "Epoch 70/300\n",
            "684/684 [==============================] - 305s 446ms/step - loss: 0.0024 - mean_squared_error: 0.2063 - val_loss: 0.0063 - val_mean_squared_error: 0.3068\n",
            "Epoch 71/300\n",
            "684/684 [==============================] - 305s 446ms/step - loss: 0.0024 - mean_squared_error: 0.2057 - val_loss: 0.0060 - val_mean_squared_error: 0.2392\n",
            "Epoch 72/300\n",
            "684/684 [==============================] - 305s 446ms/step - loss: 0.0024 - mean_squared_error: 0.2071 - val_loss: 0.0061 - val_mean_squared_error: 0.2712\n",
            "Epoch 73/300\n",
            "684/684 [==============================] - 305s 447ms/step - loss: 0.0023 - mean_squared_error: 0.2065 - val_loss: 0.0060 - val_mean_squared_error: 0.2197\n",
            "Epoch 74/300\n",
            "684/684 [==============================] - 305s 446ms/step - loss: 0.0023 - mean_squared_error: 0.2079 - val_loss: 0.0084 - val_mean_squared_error: 0.0523\n",
            "Epoch 75/300\n",
            "684/684 [==============================] - 305s 445ms/step - loss: 0.0023 - mean_squared_error: 0.2075 - val_loss: 0.0141 - val_mean_squared_error: 0.0135\n",
            "Epoch 76/300\n",
            "684/684 [==============================] - 305s 445ms/step - loss: 0.0023 - mean_squared_error: 0.2084 - val_loss: 0.0070 - val_mean_squared_error: 0.1747\n",
            "Epoch 77/300\n",
            "684/684 [==============================] - 305s 445ms/step - loss: 0.0023 - mean_squared_error: 0.2065 - val_loss: 0.0116 - val_mean_squared_error: 0.0850\n",
            "Epoch 78/300\n",
            "684/684 [==============================] - 304s 445ms/step - loss: 0.0022 - mean_squared_error: 0.2077 - val_loss: 0.0093 - val_mean_squared_error: 0.0576\n",
            "Epoch 79/300\n",
            "684/684 [==============================] - 305s 445ms/step - loss: 0.0022 - mean_squared_error: 0.2080 - val_loss: 0.0063 - val_mean_squared_error: 0.2262\n",
            "Epoch 80/300\n",
            "684/684 [==============================] - 305s 446ms/step - loss: 0.0022 - mean_squared_error: 0.2094 - val_loss: 0.0077 - val_mean_squared_error: 0.2727\n",
            "Epoch 81/300\n",
            "684/684 [==============================] - 305s 446ms/step - loss: 0.0021 - mean_squared_error: 0.2099 - val_loss: 0.0062 - val_mean_squared_error: 0.2444\n",
            "Epoch 82/300\n",
            "684/684 [==============================] - 305s 446ms/step - loss: 0.0021 - mean_squared_error: 0.2103 - val_loss: 0.0123 - val_mean_squared_error: 0.0048\n",
            "Epoch 83/300\n",
            "684/684 [==============================] - 304s 445ms/step - loss: 0.0021 - mean_squared_error: 0.2103 - val_loss: 0.0061 - val_mean_squared_error: 0.2390\n",
            "Epoch 84/300\n",
            "684/684 [==============================] - 304s 445ms/step - loss: 0.0021 - mean_squared_error: 0.2102 - val_loss: 0.0220 - val_mean_squared_error: 0.0021\n",
            "Epoch 85/300\n",
            "684/684 [==============================] - 305s 445ms/step - loss: 0.0021 - mean_squared_error: 0.2105 - val_loss: 0.0072 - val_mean_squared_error: 0.2212\n",
            "Epoch 86/300\n",
            "684/684 [==============================] - 304s 445ms/step - loss: 0.0020 - mean_squared_error: 0.2114 - val_loss: 0.0060 - val_mean_squared_error: 0.2518\n",
            "Epoch 87/300\n",
            "684/684 [==============================] - 305s 445ms/step - loss: 0.0020 - mean_squared_error: 0.2118 - val_loss: 0.0060 - val_mean_squared_error: 0.2182\n",
            "Epoch 88/300\n",
            "684/684 [==============================] - 305s 445ms/step - loss: 0.0020 - mean_squared_error: 0.2130 - val_loss: 0.0065 - val_mean_squared_error: 0.2086\n",
            "Epoch 89/300\n",
            "684/684 [==============================] - 305s 445ms/step - loss: 0.0020 - mean_squared_error: 0.2149 - val_loss: 0.0060 - val_mean_squared_error: 0.2309\n",
            "Epoch 90/300\n",
            "684/684 [==============================] - 304s 445ms/step - loss: 0.0020 - mean_squared_error: 0.2141 - val_loss: 0.0178 - val_mean_squared_error: 0.0020\n",
            "Epoch 91/300\n",
            "684/684 [==============================] - 304s 445ms/step - loss: 0.0020 - mean_squared_error: 0.2148 - val_loss: 0.0073 - val_mean_squared_error: 0.2091\n",
            "Epoch 92/300\n",
            "684/684 [==============================] - 304s 445ms/step - loss: 0.0019 - mean_squared_error: 0.2156 - val_loss: 0.0061 - val_mean_squared_error: 0.2869\n",
            "Epoch 93/300\n",
            "684/684 [==============================] - 305s 445ms/step - loss: 0.0019 - mean_squared_error: 0.2163 - val_loss: 0.0095 - val_mean_squared_error: 0.0582\n",
            "Epoch 94/300\n",
            "684/684 [==============================] - 304s 445ms/step - loss: 0.0019 - mean_squared_error: 0.2161 - val_loss: 0.0078 - val_mean_squared_error: 0.2121\n",
            "Epoch 95/300\n",
            "684/684 [==============================] - 304s 445ms/step - loss: 0.0019 - mean_squared_error: 0.2166 - val_loss: 0.0240 - val_mean_squared_error: 0.0023\n",
            "Epoch 96/300\n",
            "684/684 [==============================] - 304s 445ms/step - loss: 0.0019 - mean_squared_error: 0.2178 - val_loss: 0.0060 - val_mean_squared_error: 0.2605\n",
            "Epoch 97/300\n",
            "684/684 [==============================] - 305s 445ms/step - loss: 0.0018 - mean_squared_error: 0.2191 - val_loss: 0.0155 - val_mean_squared_error: 0.0096\n",
            "Epoch 98/300\n",
            "684/684 [==============================] - 305s 446ms/step - loss: 0.0018 - mean_squared_error: 0.2191 - val_loss: 0.0081 - val_mean_squared_error: 0.2368\n",
            "Epoch 99/300\n",
            "684/684 [==============================] - 305s 445ms/step - loss: 0.0018 - mean_squared_error: 0.2197 - val_loss: 0.0061 - val_mean_squared_error: 0.3611\n",
            "Epoch 100/300\n",
            "684/684 [==============================] - 305s 446ms/step - loss: 0.0018 - mean_squared_error: 0.2201 - val_loss: 0.0126 - val_mean_squared_error: 0.0555\n",
            "Epoch 101/300\n",
            "684/684 [==============================] - 305s 446ms/step - loss: 0.0018 - mean_squared_error: 0.2210 - val_loss: 0.0168 - val_mean_squared_error: 0.0090\n",
            "Epoch 102/300\n",
            "684/684 [==============================] - 305s 446ms/step - loss: 0.0018 - mean_squared_error: 0.2202 - val_loss: 0.0060 - val_mean_squared_error: 0.2808\n",
            "Epoch 103/300\n",
            "684/684 [==============================] - 305s 445ms/step - loss: 0.0018 - mean_squared_error: 0.2208 - val_loss: 0.0068 - val_mean_squared_error: 0.3672\n",
            "Epoch 104/300\n",
            "684/684 [==============================] - 305s 446ms/step - loss: 0.0017 - mean_squared_error: 0.2219 - val_loss: 0.0064 - val_mean_squared_error: 0.3293\n",
            "Epoch 105/300\n",
            "684/684 [==============================] - 305s 445ms/step - loss: 0.0017 - mean_squared_error: 0.2218 - val_loss: 0.0085 - val_mean_squared_error: 0.0258\n",
            "Epoch 106/300\n",
            "684/684 [==============================] - 305s 446ms/step - loss: 0.0017 - mean_squared_error: 0.2224 - val_loss: 0.0132 - val_mean_squared_error: 0.0069\n",
            "Epoch 107/300\n",
            "684/684 [==============================] - 305s 446ms/step - loss: 0.0017 - mean_squared_error: 0.2233 - val_loss: 0.0086 - val_mean_squared_error: 0.1223\n",
            "Epoch 108/300\n",
            "684/684 [==============================] - 305s 446ms/step - loss: 0.0017 - mean_squared_error: 0.2239 - val_loss: 0.0059 - val_mean_squared_error: 0.3085\n",
            "Epoch 109/300\n",
            "684/684 [==============================] - 305s 445ms/step - loss: 0.0017 - mean_squared_error: 0.2245 - val_loss: 0.0121 - val_mean_squared_error: 0.0014\n",
            "Epoch 110/300\n",
            "684/684 [==============================] - 305s 445ms/step - loss: 0.0017 - mean_squared_error: 0.2257 - val_loss: 0.0060 - val_mean_squared_error: 0.2039\n",
            "Epoch 111/300\n",
            "684/684 [==============================] - 304s 445ms/step - loss: 0.0017 - mean_squared_error: 0.2248 - val_loss: 0.0082 - val_mean_squared_error: 0.2958\n",
            "Epoch 112/300\n",
            "684/684 [==============================] - 305s 445ms/step - loss: 0.0016 - mean_squared_error: 0.2252 - val_loss: 0.0062 - val_mean_squared_error: 0.2623\n",
            "Epoch 113/300\n",
            "684/684 [==============================] - 304s 445ms/step - loss: 0.0016 - mean_squared_error: 0.2261 - val_loss: 0.0181 - val_mean_squared_error: 0.0024\n",
            "Epoch 114/300\n",
            "684/684 [==============================] - 304s 445ms/step - loss: 0.0016 - mean_squared_error: 0.2268 - val_loss: 0.0061 - val_mean_squared_error: 0.2622\n",
            "Epoch 115/300\n",
            "684/684 [==============================] - 305s 445ms/step - loss: 0.0016 - mean_squared_error: 0.2267 - val_loss: 0.0059 - val_mean_squared_error: 0.4042\n",
            "Epoch 116/300\n",
            "684/684 [==============================] - 304s 445ms/step - loss: 0.0016 - mean_squared_error: 0.2274 - val_loss: 0.0092 - val_mean_squared_error: 0.0108\n",
            "Epoch 117/300\n",
            "684/684 [==============================] - 305s 446ms/step - loss: 0.0016 - mean_squared_error: 0.2282 - val_loss: 0.0073 - val_mean_squared_error: 0.2154\n",
            "Epoch 118/300\n",
            "684/684 [==============================] - 305s 446ms/step - loss: 0.0016 - mean_squared_error: 0.2290 - val_loss: 0.0060 - val_mean_squared_error: 0.2777\n",
            "Epoch 119/300\n",
            "684/684 [==============================] - 305s 446ms/step - loss: 0.0016 - mean_squared_error: 0.2285 - val_loss: 0.0073 - val_mean_squared_error: 0.0729\n",
            "Epoch 120/300\n",
            "684/684 [==============================] - 305s 446ms/step - loss: 0.0016 - mean_squared_error: 0.2276 - val_loss: 0.0099 - val_mean_squared_error: 0.0132\n",
            "Epoch 121/300\n",
            "684/684 [==============================] - 305s 445ms/step - loss: 0.0016 - mean_squared_error: 0.2276 - val_loss: 0.0090 - val_mean_squared_error: 0.0251\n",
            "Epoch 122/300\n",
            "684/684 [==============================] - 304s 445ms/step - loss: 0.0015 - mean_squared_error: 0.2282 - val_loss: 0.0062 - val_mean_squared_error: 0.3941\n",
            "Epoch 123/300\n",
            "684/684 [==============================] - 304s 445ms/step - loss: 0.0015 - mean_squared_error: 0.2299 - val_loss: 0.0065 - val_mean_squared_error: 0.3873\n",
            "Epoch 124/300\n",
            "684/684 [==============================] - 304s 445ms/step - loss: 0.0015 - mean_squared_error: 0.2302 - val_loss: 0.0098 - val_mean_squared_error: 0.2080\n",
            "Epoch 125/300\n",
            "684/684 [==============================] - 304s 445ms/step - loss: 0.0015 - mean_squared_error: 0.2304 - val_loss: 0.0061 - val_mean_squared_error: 0.2788\n",
            "Epoch 126/300\n",
            "684/684 [==============================] - 305s 445ms/step - loss: 0.0015 - mean_squared_error: 0.2308 - val_loss: 0.0116 - val_mean_squared_error: 0.1068\n",
            "Epoch 127/300\n",
            "684/684 [==============================] - 305s 446ms/step - loss: 0.0015 - mean_squared_error: 0.2308 - val_loss: 0.0065 - val_mean_squared_error: 0.4256\n",
            "Epoch 128/300\n",
            "684/684 [==============================] - 304s 445ms/step - loss: 0.0015 - mean_squared_error: 0.2306 - val_loss: 0.0060 - val_mean_squared_error: 0.3370\n",
            "Epoch 129/300\n",
            "684/684 [==============================] - 305s 446ms/step - loss: 0.0015 - mean_squared_error: 0.2306 - val_loss: 0.0067 - val_mean_squared_error: 0.1926\n",
            "Epoch 130/300\n",
            "684/684 [==============================] - 305s 445ms/step - loss: 0.0015 - mean_squared_error: 0.2315 - val_loss: 0.0182 - val_mean_squared_error: 0.0068\n",
            "Epoch 131/300\n",
            "684/684 [==============================] - 305s 446ms/step - loss: 0.0014 - mean_squared_error: 0.2313 - val_loss: 0.0067 - val_mean_squared_error: 0.1293\n",
            "Epoch 132/300\n",
            "684/684 [==============================] - 305s 446ms/step - loss: 0.0014 - mean_squared_error: 0.2332 - val_loss: 0.0059 - val_mean_squared_error: 0.3511\n",
            "Epoch 133/300\n",
            "684/684 [==============================] - 305s 445ms/step - loss: 0.0014 - mean_squared_error: 0.2312 - val_loss: 0.0109 - val_mean_squared_error: 0.0035\n",
            "Epoch 134/300\n",
            "684/684 [==============================] - 305s 445ms/step - loss: 0.0014 - mean_squared_error: 0.2324 - val_loss: 0.0059 - val_mean_squared_error: 0.2582\n",
            "Epoch 135/300\n",
            "684/684 [==============================] - 305s 446ms/step - loss: 0.0014 - mean_squared_error: 0.2327 - val_loss: 0.0080 - val_mean_squared_error: 0.0875\n",
            "Epoch 136/300\n",
            "684/684 [==============================] - 305s 446ms/step - loss: 0.0014 - mean_squared_error: 0.2327 - val_loss: 0.0081 - val_mean_squared_error: 0.2253\n",
            "Epoch 137/300\n",
            "684/684 [==============================] - 305s 445ms/step - loss: 0.0014 - mean_squared_error: 0.2337 - val_loss: 0.0182 - val_mean_squared_error: 0.0075\n",
            "Epoch 138/300\n",
            "684/684 [==============================] - 305s 445ms/step - loss: 0.0014 - mean_squared_error: 0.2350 - val_loss: 0.0069 - val_mean_squared_error: 0.2946\n"
          ]
        }
      ],
      "source": [
        "history = model.fit(\n",
        "    train_batches,\n",
        "    validation_data=test_batches,\n",
        "    epochs=N_EPOCHS,\n",
        "    batch_size=BATCH_SIZE,\n",
        "    callbacks=callbacks,\n",
        "    verbose=1\n",
        ")\n"
      ]
    },
    {
      "cell_type": "markdown",
      "source": [
        "# Save Model"
      ],
      "metadata": {
        "id": "HT68Jm8AEluI"
      }
    },
    {
      "cell_type": "code",
      "source": [
        "timestamp = datetime.datetime.now().strftime('%b-%d-%I:%M%p')\n",
        "model_path = os.path.join(MODEL_PATH, EXP_NAME)\n",
        "if not os.path.exists(model_path):\n",
        "    os.makedirs(model_path)\n",
        "\n",
        "model.save(os.path.join(model_path, timestamp))"
      ],
      "metadata": {
        "id": "xfUmF_1mEjXH",
        "outputId": "1a620a24-7362-4be4-eadb-ca3161731c37",
        "colab": {
          "base_uri": "https://localhost:8080/"
        }
      },
      "execution_count": 17,
      "outputs": [
        {
          "output_type": "stream",
          "name": "stderr",
          "text": [
            "WARNING:absl:Found untraced functions such as _jit_compiled_convolution_op, _jit_compiled_convolution_op, _jit_compiled_convolution_op, _jit_compiled_convolution_op, _jit_compiled_convolution_op while saving (showing 5 of 23). These functions will not be directly callable after loading.\n"
          ]
        }
      ]
    },
    {
      "cell_type": "markdown",
      "source": [
        "# Save Predictions"
      ],
      "metadata": {
        "id": "-PWi28iOKpXe"
      }
    },
    {
      "cell_type": "code",
      "execution_count": 22,
      "metadata": {
        "id": "LLDJf93Z0YxY",
        "outputId": "a6554aec-cb2f-40ef-f501-799b31bb2ec9",
        "colab": {
          "base_uri": "https://localhost:8080/"
        }
      },
      "outputs": [
        {
          "output_type": "stream",
          "name": "stderr",
          "text": [
            "\r0it [00:00, ?it/s]"
          ]
        },
        {
          "output_type": "stream",
          "name": "stdout",
          "text": [
            "1/1 [==============================] - 0s 44ms/step\n"
          ]
        },
        {
          "output_type": "stream",
          "name": "stderr",
          "text": [
            "/usr/local/lib/python3.7/dist-packages/image_similarity_measures/quality_metrics.py:146: RuntimeWarning: divide by zero encountered in log2\n",
            "  return -np.sum(np.nan_to_num(H * np.log2(H)))\n",
            "/usr/local/lib/python3.7/dist-packages/image_similarity_measures/quality_metrics.py:146: RuntimeWarning: invalid value encountered in multiply\n",
            "  return -np.sum(np.nan_to_num(H * np.log2(H)))\n",
            "/usr/local/lib/python3.7/dist-packages/image_similarity_measures/quality_metrics.py:163: RuntimeWarning: invalid value encountered in double_scalars\n",
            "  return numerator / denominator\n",
            "1it [00:20, 20.01s/it]"
          ]
        },
        {
          "output_type": "stream",
          "name": "stdout",
          "text": [
            "1/1 [==============================] - 0s 17ms/step\n"
          ]
        },
        {
          "output_type": "stream",
          "name": "stderr",
          "text": [
            "\r11it [00:39,  3.11s/it]"
          ]
        },
        {
          "output_type": "stream",
          "name": "stdout",
          "text": [
            "1/1 [==============================] - 0s 19ms/step\n"
          ]
        },
        {
          "output_type": "stream",
          "name": "stderr",
          "text": [
            "\r21it [00:58,  2.44s/it]"
          ]
        },
        {
          "output_type": "stream",
          "name": "stdout",
          "text": [
            "1/1 [==============================] - 0s 38ms/step\n"
          ]
        },
        {
          "output_type": "stream",
          "name": "stderr",
          "text": [
            "\r31it [01:18,  2.22s/it]"
          ]
        },
        {
          "output_type": "stream",
          "name": "stdout",
          "text": [
            "1/1 [==============================] - 0s 38ms/step\n"
          ]
        },
        {
          "output_type": "stream",
          "name": "stderr",
          "text": [
            "\r41it [01:37,  2.11s/it]"
          ]
        },
        {
          "output_type": "stream",
          "name": "stdout",
          "text": [
            "1/1 [==============================] - 0s 34ms/step\n"
          ]
        },
        {
          "output_type": "stream",
          "name": "stderr",
          "text": [
            "\r51it [01:56,  2.04s/it]"
          ]
        },
        {
          "output_type": "stream",
          "name": "stdout",
          "text": [
            "1/1 [==============================] - 0s 19ms/step\n"
          ]
        },
        {
          "output_type": "stream",
          "name": "stderr",
          "text": [
            "\r61it [02:16,  2.00s/it]"
          ]
        },
        {
          "output_type": "stream",
          "name": "stdout",
          "text": [
            "1/1 [==============================] - 0s 18ms/step\n"
          ]
        },
        {
          "output_type": "stream",
          "name": "stderr",
          "text": [
            "\r71it [02:35,  1.98s/it]"
          ]
        },
        {
          "output_type": "stream",
          "name": "stdout",
          "text": [
            "1/1 [==============================] - 0s 35ms/step\n"
          ]
        },
        {
          "output_type": "stream",
          "name": "stderr",
          "text": [
            "\r81it [02:54,  1.96s/it]"
          ]
        },
        {
          "output_type": "stream",
          "name": "stdout",
          "text": [
            "1/1 [==============================] - 0s 35ms/step\n"
          ]
        },
        {
          "output_type": "stream",
          "name": "stderr",
          "text": [
            "\r91it [03:14,  1.96s/it]"
          ]
        },
        {
          "output_type": "stream",
          "name": "stdout",
          "text": [
            "1/1 [==============================] - 0s 19ms/step\n"
          ]
        },
        {
          "output_type": "stream",
          "name": "stderr",
          "text": [
            "\r101it [03:33,  1.95s/it]"
          ]
        },
        {
          "output_type": "stream",
          "name": "stdout",
          "text": [
            "1/1 [==============================] - 0s 40ms/step\n"
          ]
        },
        {
          "output_type": "stream",
          "name": "stderr",
          "text": [
            "\r111it [03:52,  1.94s/it]"
          ]
        },
        {
          "output_type": "stream",
          "name": "stdout",
          "text": [
            "1/1 [==============================] - 0s 18ms/step\n"
          ]
        },
        {
          "output_type": "stream",
          "name": "stderr",
          "text": [
            "\r121it [04:12,  1.94s/it]"
          ]
        },
        {
          "output_type": "stream",
          "name": "stdout",
          "text": [
            "1/1 [==============================] - 0s 18ms/step\n"
          ]
        },
        {
          "output_type": "stream",
          "name": "stderr",
          "text": [
            "\r131it [04:31,  1.94s/it]"
          ]
        },
        {
          "output_type": "stream",
          "name": "stdout",
          "text": [
            "1/1 [==============================] - 0s 38ms/step\n"
          ]
        },
        {
          "output_type": "stream",
          "name": "stderr",
          "text": [
            "\r141it [04:50,  1.94s/it]"
          ]
        },
        {
          "output_type": "stream",
          "name": "stdout",
          "text": [
            "1/1 [==============================] - 0s 18ms/step\n"
          ]
        },
        {
          "output_type": "stream",
          "name": "stderr",
          "text": [
            "\r151it [05:10,  1.94s/it]"
          ]
        },
        {
          "output_type": "stream",
          "name": "stdout",
          "text": [
            "1/1 [==============================] - 0s 18ms/step\n"
          ]
        },
        {
          "output_type": "stream",
          "name": "stderr",
          "text": [
            "\r161it [05:29,  1.94s/it]"
          ]
        },
        {
          "output_type": "stream",
          "name": "stdout",
          "text": [
            "1/1 [==============================] - 0s 21ms/step\n"
          ]
        },
        {
          "output_type": "stream",
          "name": "stderr",
          "text": [
            "\r171it [05:48,  1.94s/it]"
          ]
        },
        {
          "output_type": "stream",
          "name": "stdout",
          "text": [
            "1/1 [==============================] - 0s 19ms/step\n"
          ]
        },
        {
          "output_type": "stream",
          "name": "stderr",
          "text": [
            "\r181it [06:08,  1.94s/it]"
          ]
        },
        {
          "output_type": "stream",
          "name": "stdout",
          "text": [
            "1/1 [==============================] - 0s 18ms/step\n"
          ]
        },
        {
          "output_type": "stream",
          "name": "stderr",
          "text": [
            "\r191it [06:27,  1.93s/it]"
          ]
        },
        {
          "output_type": "stream",
          "name": "stdout",
          "text": [
            "1/1 [==============================] - 0s 18ms/step\n"
          ]
        },
        {
          "output_type": "stream",
          "name": "stderr",
          "text": [
            "\r201it [06:46,  1.94s/it]"
          ]
        },
        {
          "output_type": "stream",
          "name": "stdout",
          "text": [
            "1/1 [==============================] - 0s 20ms/step\n"
          ]
        },
        {
          "output_type": "stream",
          "name": "stderr",
          "text": [
            "\r211it [07:06,  1.93s/it]"
          ]
        },
        {
          "output_type": "stream",
          "name": "stdout",
          "text": [
            "1/1 [==============================] - 0s 18ms/step\n"
          ]
        },
        {
          "output_type": "stream",
          "name": "stderr",
          "text": [
            "\r221it [07:25,  1.93s/it]"
          ]
        },
        {
          "output_type": "stream",
          "name": "stdout",
          "text": [
            "1/1 [==============================] - 0s 18ms/step\n"
          ]
        },
        {
          "output_type": "stream",
          "name": "stderr",
          "text": [
            "\r231it [07:44,  1.93s/it]"
          ]
        },
        {
          "output_type": "stream",
          "name": "stdout",
          "text": [
            "1/1 [==============================] - 0s 18ms/step\n"
          ]
        },
        {
          "output_type": "stream",
          "name": "stderr",
          "text": [
            "\r241it [08:04,  1.93s/it]"
          ]
        },
        {
          "output_type": "stream",
          "name": "stdout",
          "text": [
            "1/1 [==============================] - 0s 19ms/step\n"
          ]
        },
        {
          "output_type": "stream",
          "name": "stderr",
          "text": [
            "\r251it [08:23,  1.94s/it]"
          ]
        },
        {
          "output_type": "stream",
          "name": "stdout",
          "text": [
            "1/1 [==============================] - 0s 18ms/step\n"
          ]
        },
        {
          "output_type": "stream",
          "name": "stderr",
          "text": [
            "\r261it [08:42,  1.93s/it]"
          ]
        },
        {
          "output_type": "stream",
          "name": "stdout",
          "text": [
            "1/1 [==============================] - 0s 18ms/step\n"
          ]
        },
        {
          "output_type": "stream",
          "name": "stderr",
          "text": [
            "\r271it [09:02,  1.93s/it]"
          ]
        },
        {
          "output_type": "stream",
          "name": "stdout",
          "text": [
            "1/1 [==============================] - 0s 19ms/step\n"
          ]
        },
        {
          "output_type": "stream",
          "name": "stderr",
          "text": [
            "\r281it [09:21,  1.94s/it]"
          ]
        },
        {
          "output_type": "stream",
          "name": "stdout",
          "text": [
            "1/1 [==============================] - 0s 18ms/step\n"
          ]
        },
        {
          "output_type": "stream",
          "name": "stderr",
          "text": [
            "\r291it [09:40,  1.94s/it]"
          ]
        },
        {
          "output_type": "stream",
          "name": "stdout",
          "text": [
            "1/1 [==============================] - 0s 18ms/step\n"
          ]
        },
        {
          "output_type": "stream",
          "name": "stderr",
          "text": [
            "\r301it [10:00,  1.94s/it]"
          ]
        },
        {
          "output_type": "stream",
          "name": "stdout",
          "text": [
            "1/1 [==============================] - 0s 18ms/step\n"
          ]
        },
        {
          "output_type": "stream",
          "name": "stderr",
          "text": [
            "312it [10:21,  1.99s/it]\n"
          ]
        }
      ],
      "source": [
        "test_ds_unbatched = test_batches.unbatch()\n",
        "\n",
        "pred_path = os.path.join(PRED_PATH, EXP_NAME, timestamp)\n",
        "if not os.path.exists(pred_path):\n",
        "    os.makedirs(pred_path)\n",
        "\n",
        "metrics = pd.DataFrame()\n",
        "\n",
        "for idx, (input, target) in enumerate(tqdm(test_ds_unbatched)):\n",
        "\n",
        "    if not idx % 10 == 0:\n",
        "        continue\n",
        "\n",
        "    target = target.numpy()\n",
        "    prediction = tf.squeeze(\n",
        "        model.predict(\n",
        "            tf.expand_dims(input, axis=0)\n",
        "            )\n",
        "        ).numpy()\n",
        "    prediction[target == 1.0] = 1.0\n",
        "\n",
        "    _metrics = pd.DataFrame([[\n",
        "            rmse(target, prediction),\n",
        "            psnr(target, prediction),\n",
        "            ssim(target, prediction),\n",
        "            fsim(target, prediction),\n",
        "            issm(target, prediction),\n",
        "            sre(target, prediction),\n",
        "            sam(target, prediction),\n",
        "            uiq(target, prediction),\n",
        "        ]],\n",
        "        columns=[\"RMSE\", \"PSNR\", \"SSIM\", \"FSIM\", \"ISSM\", \"SRE\", \"SAM\", \"UIQ\"]\n",
        "    )\n",
        "\n",
        "    metrics = pd.concat([metrics, _metrics], axis=0)\n",
        "\n",
        "    plt.figure(figsize=(12, 4))\n",
        "    plt.subplot(1, 3, 1)\n",
        "    plt.imshow(input)\n",
        "    plt.axis(\"off\")\n",
        "    plt.title(\"INPUT\")\n",
        "    plt.subplot(1, 3, 2)\n",
        "    plt.imshow(target)\n",
        "    plt.axis(\"off\")\n",
        "    plt.title(\"TARGET\")\n",
        "    plt.subplot(1, 3, 3)\n",
        "    plt.imshow(prediction)\n",
        "    plt.axis(\"off\")\n",
        "    plt.title(\"PREDICTION\")\n",
        "    plt.tight_layout()\n",
        "    plt.savefig(os.path.join(pred_path, f\"{idx}.png\"))\n",
        "    plt.close()  \n"
      ]
    },
    {
      "cell_type": "code",
      "source": [
        "loss = history.history['loss']\n",
        "val_loss = history.history['val_loss']\n",
        "\n",
        "plt.figure(figsize=(8, 6))\n",
        "plt.plot(loss, label='Training Loss')\n",
        "plt.plot(val_loss, label='Validation Loss')\n",
        "plt.legend(loc='upper right')\n",
        "plt.ylabel('Attention MAE')\n",
        "plt.title('Training and Validation Loss')\n",
        "plt.xlabel('Epoch')\n",
        "plt.tight_layout()\n",
        "plt.savefig(os.path.join(model_path, timestamp + \".png\"))\n",
        "plt.close()"
      ],
      "metadata": {
        "id": "dq-aXv2mIwA8"
      },
      "execution_count": 23,
      "outputs": []
    },
    {
      "cell_type": "code",
      "source": [
        "metrics"
      ],
      "metadata": {
        "id": "oCBrZ-hLpbg1",
        "outputId": "899e152a-3557-4ee5-8d61-6a4968a0cf49",
        "colab": {
          "base_uri": "https://localhost:8080/",
          "height": 1000
        }
      },
      "execution_count": 24,
      "outputs": [
        {
          "output_type": "execute_result",
          "data": {
            "text/plain": [
              "       RMSE        PSNR  SSIM      FSIM  ISSM        SRE       SAM       UIQ\n",
              "0  0.000005  105.309596   1.0  0.972597   0.0  43.893952  0.304192  0.752173\n",
              "0  0.000004  107.485294   1.0  0.981677   0.0  42.231452  0.204087  0.755494\n",
              "0  0.000005  105.753238   1.0  0.977294   0.0  45.225919  0.301020  0.713907\n",
              "0  0.000004  108.243473   1.0  0.986835   0.0  43.347477  0.254404  0.761032\n",
              "0  0.000004  107.423520   1.0  0.979898   0.0  45.405886  0.315849  0.794028\n",
              "0  0.000005  105.781875   1.0  0.977890   0.0  45.088399  0.262460  0.750168\n",
              "0  0.000006  104.685161   1.0  0.974157   0.0  42.176757  0.317006  0.737271\n",
              "0  0.000006  105.134707   1.0  0.976829   0.0  46.673325  0.456555  0.658114\n",
              "0  0.000008  102.326531   1.0  0.962627   0.0  39.944172  0.592557  0.696360\n",
              "0  0.000005  106.462820   1.0  0.972186   0.0  41.540263  0.346965  0.779975\n",
              "0  0.000006  104.174881   1.0  0.973359   0.0  42.013908  0.427379  0.778163\n",
              "0  0.000008  102.140603   1.0  0.965580   0.0  41.723291  0.624169  0.676268\n",
              "0  0.000003  109.175658   1.0  0.987286   0.0  45.525774  0.200101  0.765743\n",
              "0  0.000005  106.464148   1.0  0.981223   0.0  42.256052  0.259307  0.776005\n",
              "0  0.000005  106.079018   1.0  0.973050   0.0  40.850373  0.224160  0.823791\n",
              "0  0.000007  102.723980   1.0  0.974151   0.0  43.731678  0.591148  0.766996\n",
              "0  0.000005  105.835934   1.0  0.973753   0.0  40.751424  0.256477  0.785148\n",
              "0  0.000003  110.486577   1.0  0.978754   0.0  45.382339  0.149593  0.837741\n",
              "0  0.000005  105.873921   1.0  0.979302   0.0  45.377566  0.391178  0.701886\n",
              "0  0.000005  106.846983   1.0  0.982153   0.0  44.434682  0.305205  0.762117\n",
              "0  0.000006  104.937823   1.0  0.979999   0.0  43.450452  0.325168  0.764814\n",
              "0  0.000008  102.448459   1.0  0.963326   0.0  40.570015  0.455099  0.801814\n",
              "0  0.000004  108.813725   1.0  0.985388   0.0  44.954529  0.220356  0.777766\n",
              "0  0.000005  105.262821   1.0  0.977137   0.0  44.909953  0.419096  0.792597\n",
              "0  0.000005  106.297884   1.0  0.975041   0.0  44.829908  0.281431  0.772442\n",
              "0  0.000005  106.575897   1.0  0.975327   0.0  41.467631  0.278727  0.793669\n",
              "0  0.000006  103.921566   1.0  0.967078   0.0  39.970458  0.360100  0.785057\n",
              "0  0.000004  108.938537   1.0  0.982413   0.0  44.807157  0.223435  0.792940\n",
              "0  0.000004  109.085360   1.0  0.989474   0.0  44.784616  0.174050  0.759877\n",
              "0  0.000007  102.573330   1.0  0.975437   0.0  44.536966  0.529645  0.753775\n",
              "0  0.000005  106.519640   1.0  0.984488   0.0  41.036207  0.251091  0.760192\n",
              "0  0.000005  106.438477   1.0  0.967857   0.0  42.498578  0.248133  0.818438"
            ],
            "text/html": [
              "\n",
              "  <div id=\"df-620e3893-3e76-47a3-94e4-aca998024376\">\n",
              "    <div class=\"colab-df-container\">\n",
              "      <div>\n",
              "<style scoped>\n",
              "    .dataframe tbody tr th:only-of-type {\n",
              "        vertical-align: middle;\n",
              "    }\n",
              "\n",
              "    .dataframe tbody tr th {\n",
              "        vertical-align: top;\n",
              "    }\n",
              "\n",
              "    .dataframe thead th {\n",
              "        text-align: right;\n",
              "    }\n",
              "</style>\n",
              "<table border=\"1\" class=\"dataframe\">\n",
              "  <thead>\n",
              "    <tr style=\"text-align: right;\">\n",
              "      <th></th>\n",
              "      <th>RMSE</th>\n",
              "      <th>PSNR</th>\n",
              "      <th>SSIM</th>\n",
              "      <th>FSIM</th>\n",
              "      <th>ISSM</th>\n",
              "      <th>SRE</th>\n",
              "      <th>SAM</th>\n",
              "      <th>UIQ</th>\n",
              "    </tr>\n",
              "  </thead>\n",
              "  <tbody>\n",
              "    <tr>\n",
              "      <th>0</th>\n",
              "      <td>0.000005</td>\n",
              "      <td>105.309596</td>\n",
              "      <td>1.0</td>\n",
              "      <td>0.972597</td>\n",
              "      <td>0.0</td>\n",
              "      <td>43.893952</td>\n",
              "      <td>0.304192</td>\n",
              "      <td>0.752173</td>\n",
              "    </tr>\n",
              "    <tr>\n",
              "      <th>0</th>\n",
              "      <td>0.000004</td>\n",
              "      <td>107.485294</td>\n",
              "      <td>1.0</td>\n",
              "      <td>0.981677</td>\n",
              "      <td>0.0</td>\n",
              "      <td>42.231452</td>\n",
              "      <td>0.204087</td>\n",
              "      <td>0.755494</td>\n",
              "    </tr>\n",
              "    <tr>\n",
              "      <th>0</th>\n",
              "      <td>0.000005</td>\n",
              "      <td>105.753238</td>\n",
              "      <td>1.0</td>\n",
              "      <td>0.977294</td>\n",
              "      <td>0.0</td>\n",
              "      <td>45.225919</td>\n",
              "      <td>0.301020</td>\n",
              "      <td>0.713907</td>\n",
              "    </tr>\n",
              "    <tr>\n",
              "      <th>0</th>\n",
              "      <td>0.000004</td>\n",
              "      <td>108.243473</td>\n",
              "      <td>1.0</td>\n",
              "      <td>0.986835</td>\n",
              "      <td>0.0</td>\n",
              "      <td>43.347477</td>\n",
              "      <td>0.254404</td>\n",
              "      <td>0.761032</td>\n",
              "    </tr>\n",
              "    <tr>\n",
              "      <th>0</th>\n",
              "      <td>0.000004</td>\n",
              "      <td>107.423520</td>\n",
              "      <td>1.0</td>\n",
              "      <td>0.979898</td>\n",
              "      <td>0.0</td>\n",
              "      <td>45.405886</td>\n",
              "      <td>0.315849</td>\n",
              "      <td>0.794028</td>\n",
              "    </tr>\n",
              "    <tr>\n",
              "      <th>0</th>\n",
              "      <td>0.000005</td>\n",
              "      <td>105.781875</td>\n",
              "      <td>1.0</td>\n",
              "      <td>0.977890</td>\n",
              "      <td>0.0</td>\n",
              "      <td>45.088399</td>\n",
              "      <td>0.262460</td>\n",
              "      <td>0.750168</td>\n",
              "    </tr>\n",
              "    <tr>\n",
              "      <th>0</th>\n",
              "      <td>0.000006</td>\n",
              "      <td>104.685161</td>\n",
              "      <td>1.0</td>\n",
              "      <td>0.974157</td>\n",
              "      <td>0.0</td>\n",
              "      <td>42.176757</td>\n",
              "      <td>0.317006</td>\n",
              "      <td>0.737271</td>\n",
              "    </tr>\n",
              "    <tr>\n",
              "      <th>0</th>\n",
              "      <td>0.000006</td>\n",
              "      <td>105.134707</td>\n",
              "      <td>1.0</td>\n",
              "      <td>0.976829</td>\n",
              "      <td>0.0</td>\n",
              "      <td>46.673325</td>\n",
              "      <td>0.456555</td>\n",
              "      <td>0.658114</td>\n",
              "    </tr>\n",
              "    <tr>\n",
              "      <th>0</th>\n",
              "      <td>0.000008</td>\n",
              "      <td>102.326531</td>\n",
              "      <td>1.0</td>\n",
              "      <td>0.962627</td>\n",
              "      <td>0.0</td>\n",
              "      <td>39.944172</td>\n",
              "      <td>0.592557</td>\n",
              "      <td>0.696360</td>\n",
              "    </tr>\n",
              "    <tr>\n",
              "      <th>0</th>\n",
              "      <td>0.000005</td>\n",
              "      <td>106.462820</td>\n",
              "      <td>1.0</td>\n",
              "      <td>0.972186</td>\n",
              "      <td>0.0</td>\n",
              "      <td>41.540263</td>\n",
              "      <td>0.346965</td>\n",
              "      <td>0.779975</td>\n",
              "    </tr>\n",
              "    <tr>\n",
              "      <th>0</th>\n",
              "      <td>0.000006</td>\n",
              "      <td>104.174881</td>\n",
              "      <td>1.0</td>\n",
              "      <td>0.973359</td>\n",
              "      <td>0.0</td>\n",
              "      <td>42.013908</td>\n",
              "      <td>0.427379</td>\n",
              "      <td>0.778163</td>\n",
              "    </tr>\n",
              "    <tr>\n",
              "      <th>0</th>\n",
              "      <td>0.000008</td>\n",
              "      <td>102.140603</td>\n",
              "      <td>1.0</td>\n",
              "      <td>0.965580</td>\n",
              "      <td>0.0</td>\n",
              "      <td>41.723291</td>\n",
              "      <td>0.624169</td>\n",
              "      <td>0.676268</td>\n",
              "    </tr>\n",
              "    <tr>\n",
              "      <th>0</th>\n",
              "      <td>0.000003</td>\n",
              "      <td>109.175658</td>\n",
              "      <td>1.0</td>\n",
              "      <td>0.987286</td>\n",
              "      <td>0.0</td>\n",
              "      <td>45.525774</td>\n",
              "      <td>0.200101</td>\n",
              "      <td>0.765743</td>\n",
              "    </tr>\n",
              "    <tr>\n",
              "      <th>0</th>\n",
              "      <td>0.000005</td>\n",
              "      <td>106.464148</td>\n",
              "      <td>1.0</td>\n",
              "      <td>0.981223</td>\n",
              "      <td>0.0</td>\n",
              "      <td>42.256052</td>\n",
              "      <td>0.259307</td>\n",
              "      <td>0.776005</td>\n",
              "    </tr>\n",
              "    <tr>\n",
              "      <th>0</th>\n",
              "      <td>0.000005</td>\n",
              "      <td>106.079018</td>\n",
              "      <td>1.0</td>\n",
              "      <td>0.973050</td>\n",
              "      <td>0.0</td>\n",
              "      <td>40.850373</td>\n",
              "      <td>0.224160</td>\n",
              "      <td>0.823791</td>\n",
              "    </tr>\n",
              "    <tr>\n",
              "      <th>0</th>\n",
              "      <td>0.000007</td>\n",
              "      <td>102.723980</td>\n",
              "      <td>1.0</td>\n",
              "      <td>0.974151</td>\n",
              "      <td>0.0</td>\n",
              "      <td>43.731678</td>\n",
              "      <td>0.591148</td>\n",
              "      <td>0.766996</td>\n",
              "    </tr>\n",
              "    <tr>\n",
              "      <th>0</th>\n",
              "      <td>0.000005</td>\n",
              "      <td>105.835934</td>\n",
              "      <td>1.0</td>\n",
              "      <td>0.973753</td>\n",
              "      <td>0.0</td>\n",
              "      <td>40.751424</td>\n",
              "      <td>0.256477</td>\n",
              "      <td>0.785148</td>\n",
              "    </tr>\n",
              "    <tr>\n",
              "      <th>0</th>\n",
              "      <td>0.000003</td>\n",
              "      <td>110.486577</td>\n",
              "      <td>1.0</td>\n",
              "      <td>0.978754</td>\n",
              "      <td>0.0</td>\n",
              "      <td>45.382339</td>\n",
              "      <td>0.149593</td>\n",
              "      <td>0.837741</td>\n",
              "    </tr>\n",
              "    <tr>\n",
              "      <th>0</th>\n",
              "      <td>0.000005</td>\n",
              "      <td>105.873921</td>\n",
              "      <td>1.0</td>\n",
              "      <td>0.979302</td>\n",
              "      <td>0.0</td>\n",
              "      <td>45.377566</td>\n",
              "      <td>0.391178</td>\n",
              "      <td>0.701886</td>\n",
              "    </tr>\n",
              "    <tr>\n",
              "      <th>0</th>\n",
              "      <td>0.000005</td>\n",
              "      <td>106.846983</td>\n",
              "      <td>1.0</td>\n",
              "      <td>0.982153</td>\n",
              "      <td>0.0</td>\n",
              "      <td>44.434682</td>\n",
              "      <td>0.305205</td>\n",
              "      <td>0.762117</td>\n",
              "    </tr>\n",
              "    <tr>\n",
              "      <th>0</th>\n",
              "      <td>0.000006</td>\n",
              "      <td>104.937823</td>\n",
              "      <td>1.0</td>\n",
              "      <td>0.979999</td>\n",
              "      <td>0.0</td>\n",
              "      <td>43.450452</td>\n",
              "      <td>0.325168</td>\n",
              "      <td>0.764814</td>\n",
              "    </tr>\n",
              "    <tr>\n",
              "      <th>0</th>\n",
              "      <td>0.000008</td>\n",
              "      <td>102.448459</td>\n",
              "      <td>1.0</td>\n",
              "      <td>0.963326</td>\n",
              "      <td>0.0</td>\n",
              "      <td>40.570015</td>\n",
              "      <td>0.455099</td>\n",
              "      <td>0.801814</td>\n",
              "    </tr>\n",
              "    <tr>\n",
              "      <th>0</th>\n",
              "      <td>0.000004</td>\n",
              "      <td>108.813725</td>\n",
              "      <td>1.0</td>\n",
              "      <td>0.985388</td>\n",
              "      <td>0.0</td>\n",
              "      <td>44.954529</td>\n",
              "      <td>0.220356</td>\n",
              "      <td>0.777766</td>\n",
              "    </tr>\n",
              "    <tr>\n",
              "      <th>0</th>\n",
              "      <td>0.000005</td>\n",
              "      <td>105.262821</td>\n",
              "      <td>1.0</td>\n",
              "      <td>0.977137</td>\n",
              "      <td>0.0</td>\n",
              "      <td>44.909953</td>\n",
              "      <td>0.419096</td>\n",
              "      <td>0.792597</td>\n",
              "    </tr>\n",
              "    <tr>\n",
              "      <th>0</th>\n",
              "      <td>0.000005</td>\n",
              "      <td>106.297884</td>\n",
              "      <td>1.0</td>\n",
              "      <td>0.975041</td>\n",
              "      <td>0.0</td>\n",
              "      <td>44.829908</td>\n",
              "      <td>0.281431</td>\n",
              "      <td>0.772442</td>\n",
              "    </tr>\n",
              "    <tr>\n",
              "      <th>0</th>\n",
              "      <td>0.000005</td>\n",
              "      <td>106.575897</td>\n",
              "      <td>1.0</td>\n",
              "      <td>0.975327</td>\n",
              "      <td>0.0</td>\n",
              "      <td>41.467631</td>\n",
              "      <td>0.278727</td>\n",
              "      <td>0.793669</td>\n",
              "    </tr>\n",
              "    <tr>\n",
              "      <th>0</th>\n",
              "      <td>0.000006</td>\n",
              "      <td>103.921566</td>\n",
              "      <td>1.0</td>\n",
              "      <td>0.967078</td>\n",
              "      <td>0.0</td>\n",
              "      <td>39.970458</td>\n",
              "      <td>0.360100</td>\n",
              "      <td>0.785057</td>\n",
              "    </tr>\n",
              "    <tr>\n",
              "      <th>0</th>\n",
              "      <td>0.000004</td>\n",
              "      <td>108.938537</td>\n",
              "      <td>1.0</td>\n",
              "      <td>0.982413</td>\n",
              "      <td>0.0</td>\n",
              "      <td>44.807157</td>\n",
              "      <td>0.223435</td>\n",
              "      <td>0.792940</td>\n",
              "    </tr>\n",
              "    <tr>\n",
              "      <th>0</th>\n",
              "      <td>0.000004</td>\n",
              "      <td>109.085360</td>\n",
              "      <td>1.0</td>\n",
              "      <td>0.989474</td>\n",
              "      <td>0.0</td>\n",
              "      <td>44.784616</td>\n",
              "      <td>0.174050</td>\n",
              "      <td>0.759877</td>\n",
              "    </tr>\n",
              "    <tr>\n",
              "      <th>0</th>\n",
              "      <td>0.000007</td>\n",
              "      <td>102.573330</td>\n",
              "      <td>1.0</td>\n",
              "      <td>0.975437</td>\n",
              "      <td>0.0</td>\n",
              "      <td>44.536966</td>\n",
              "      <td>0.529645</td>\n",
              "      <td>0.753775</td>\n",
              "    </tr>\n",
              "    <tr>\n",
              "      <th>0</th>\n",
              "      <td>0.000005</td>\n",
              "      <td>106.519640</td>\n",
              "      <td>1.0</td>\n",
              "      <td>0.984488</td>\n",
              "      <td>0.0</td>\n",
              "      <td>41.036207</td>\n",
              "      <td>0.251091</td>\n",
              "      <td>0.760192</td>\n",
              "    </tr>\n",
              "    <tr>\n",
              "      <th>0</th>\n",
              "      <td>0.000005</td>\n",
              "      <td>106.438477</td>\n",
              "      <td>1.0</td>\n",
              "      <td>0.967857</td>\n",
              "      <td>0.0</td>\n",
              "      <td>42.498578</td>\n",
              "      <td>0.248133</td>\n",
              "      <td>0.818438</td>\n",
              "    </tr>\n",
              "  </tbody>\n",
              "</table>\n",
              "</div>\n",
              "      <button class=\"colab-df-convert\" onclick=\"convertToInteractive('df-620e3893-3e76-47a3-94e4-aca998024376')\"\n",
              "              title=\"Convert this dataframe to an interactive table.\"\n",
              "              style=\"display:none;\">\n",
              "        \n",
              "  <svg xmlns=\"http://www.w3.org/2000/svg\" height=\"24px\"viewBox=\"0 0 24 24\"\n",
              "       width=\"24px\">\n",
              "    <path d=\"M0 0h24v24H0V0z\" fill=\"none\"/>\n",
              "    <path d=\"M18.56 5.44l.94 2.06.94-2.06 2.06-.94-2.06-.94-.94-2.06-.94 2.06-2.06.94zm-11 1L8.5 8.5l.94-2.06 2.06-.94-2.06-.94L8.5 2.5l-.94 2.06-2.06.94zm10 10l.94 2.06.94-2.06 2.06-.94-2.06-.94-.94-2.06-.94 2.06-2.06.94z\"/><path d=\"M17.41 7.96l-1.37-1.37c-.4-.4-.92-.59-1.43-.59-.52 0-1.04.2-1.43.59L10.3 9.45l-7.72 7.72c-.78.78-.78 2.05 0 2.83L4 21.41c.39.39.9.59 1.41.59.51 0 1.02-.2 1.41-.59l7.78-7.78 2.81-2.81c.8-.78.8-2.07 0-2.86zM5.41 20L4 18.59l7.72-7.72 1.47 1.35L5.41 20z\"/>\n",
              "  </svg>\n",
              "      </button>\n",
              "      \n",
              "  <style>\n",
              "    .colab-df-container {\n",
              "      display:flex;\n",
              "      flex-wrap:wrap;\n",
              "      gap: 12px;\n",
              "    }\n",
              "\n",
              "    .colab-df-convert {\n",
              "      background-color: #E8F0FE;\n",
              "      border: none;\n",
              "      border-radius: 50%;\n",
              "      cursor: pointer;\n",
              "      display: none;\n",
              "      fill: #1967D2;\n",
              "      height: 32px;\n",
              "      padding: 0 0 0 0;\n",
              "      width: 32px;\n",
              "    }\n",
              "\n",
              "    .colab-df-convert:hover {\n",
              "      background-color: #E2EBFA;\n",
              "      box-shadow: 0px 1px 2px rgba(60, 64, 67, 0.3), 0px 1px 3px 1px rgba(60, 64, 67, 0.15);\n",
              "      fill: #174EA6;\n",
              "    }\n",
              "\n",
              "    [theme=dark] .colab-df-convert {\n",
              "      background-color: #3B4455;\n",
              "      fill: #D2E3FC;\n",
              "    }\n",
              "\n",
              "    [theme=dark] .colab-df-convert:hover {\n",
              "      background-color: #434B5C;\n",
              "      box-shadow: 0px 1px 3px 1px rgba(0, 0, 0, 0.15);\n",
              "      filter: drop-shadow(0px 1px 2px rgba(0, 0, 0, 0.3));\n",
              "      fill: #FFFFFF;\n",
              "    }\n",
              "  </style>\n",
              "\n",
              "      <script>\n",
              "        const buttonEl =\n",
              "          document.querySelector('#df-620e3893-3e76-47a3-94e4-aca998024376 button.colab-df-convert');\n",
              "        buttonEl.style.display =\n",
              "          google.colab.kernel.accessAllowed ? 'block' : 'none';\n",
              "\n",
              "        async function convertToInteractive(key) {\n",
              "          const element = document.querySelector('#df-620e3893-3e76-47a3-94e4-aca998024376');\n",
              "          const dataTable =\n",
              "            await google.colab.kernel.invokeFunction('convertToInteractive',\n",
              "                                                     [key], {});\n",
              "          if (!dataTable) return;\n",
              "\n",
              "          const docLinkHtml = 'Like what you see? Visit the ' +\n",
              "            '<a target=\"_blank\" href=https://colab.research.google.com/notebooks/data_table.ipynb>data table notebook</a>'\n",
              "            + ' to learn more about interactive tables.';\n",
              "          element.innerHTML = '';\n",
              "          dataTable['output_type'] = 'display_data';\n",
              "          await google.colab.output.renderOutput(dataTable, element);\n",
              "          const docLink = document.createElement('div');\n",
              "          docLink.innerHTML = docLinkHtml;\n",
              "          element.appendChild(docLink);\n",
              "        }\n",
              "      </script>\n",
              "    </div>\n",
              "  </div>\n",
              "  "
            ]
          },
          "metadata": {},
          "execution_count": 24
        }
      ]
    },
    {
      "cell_type": "code",
      "source": [],
      "metadata": {
        "id": "Clx7EdsW2yFf"
      },
      "execution_count": 20,
      "outputs": []
    }
  ],
  "metadata": {
    "kernelspec": {
      "display_name": "Python 3.10.6 ('Ai')",
      "language": "python",
      "name": "python3"
    },
    "language_info": {
      "codemirror_mode": {
        "name": "ipython",
        "version": 3
      },
      "file_extension": ".py",
      "mimetype": "text/x-python",
      "name": "python",
      "nbconvert_exporter": "python",
      "pygments_lexer": "ipython3",
      "version": "3.10.6"
    },
    "orig_nbformat": 4,
    "vscode": {
      "interpreter": {
        "hash": "cc12dd51c08fff59e312c49b5273cbf2a12939660509ea1a4d83cd89b0463726"
      }
    },
    "colab": {
      "provenance": [],
      "machine_shape": "hm",
      "include_colab_link": true
    },
    "accelerator": "GPU",
    "gpuClass": "standard"
  },
  "nbformat": 4,
  "nbformat_minor": 0
}