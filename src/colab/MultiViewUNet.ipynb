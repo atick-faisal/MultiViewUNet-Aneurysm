{
  "cells": [
    {
      "cell_type": "markdown",
      "metadata": {
        "id": "view-in-github",
        "colab_type": "text"
      },
      "source": [
        "<a href=\"https://colab.research.google.com/github/atick-faisal/TAVI/blob/main/src/colab/MultiViewUNet.ipynb\" target=\"_parent\"><img src=\"https://colab.research.google.com/assets/colab-badge.svg\" alt=\"Open In Colab\"/></a>"
      ]
    },
    {
      "cell_type": "markdown",
      "source": [
        "# Colab Info"
      ],
      "metadata": {
        "id": "UVG0Xo17Xzdk"
      }
    },
    {
      "cell_type": "code",
      "source": [
        "from psutil import virtual_memory\n",
        "\n",
        "gpu_info = !nvidia-smi\n",
        "gpu_info = '\\n'.join(gpu_info)\n",
        "if gpu_info.find('failed') >= 0:\n",
        "  print('Not connected to a GPU')\n",
        "else:\n",
        "  print(gpu_info)\n",
        "\n",
        "\n",
        "ram_gb = virtual_memory().total / 1e9\n",
        "print('Your runtime has {:.1f} gigabytes of available RAM\\n'.format(ram_gb))\n",
        "\n",
        "if ram_gb < 20:\n",
        "  print('Not using a high-RAM runtime')\n",
        "else:\n",
        "  print('You are using a high-RAM runtime!')"
      ],
      "metadata": {
        "id": "ZwwbESaiX2xi",
        "outputId": "98225ed8-18d5-43ce-f648-4db51190b623",
        "colab": {
          "base_uri": "https://localhost:8080/"
        }
      },
      "execution_count": 11,
      "outputs": [
        {
          "output_type": "stream",
          "name": "stdout",
          "text": [
            "Fri Dec 23 18:05:41 2022       \n",
            "+-----------------------------------------------------------------------------+\n",
            "| NVIDIA-SMI 460.32.03    Driver Version: 460.32.03    CUDA Version: 11.2     |\n",
            "|-------------------------------+----------------------+----------------------+\n",
            "| GPU  Name        Persistence-M| Bus-Id        Disp.A | Volatile Uncorr. ECC |\n",
            "| Fan  Temp  Perf  Pwr:Usage/Cap|         Memory-Usage | GPU-Util  Compute M. |\n",
            "|                               |                      |               MIG M. |\n",
            "|===============================+======================+======================|\n",
            "|   0  Tesla T4            Off  | 00000000:00:04.0 Off |                    0 |\n",
            "| N/A   44C    P0    26W /  70W |      0MiB / 15109MiB |      0%      Default |\n",
            "|                               |                      |                  N/A |\n",
            "+-------------------------------+----------------------+----------------------+\n",
            "                                                                               \n",
            "+-----------------------------------------------------------------------------+\n",
            "| Processes:                                                                  |\n",
            "|  GPU   GI   CI        PID   Type   Process name                  GPU Memory |\n",
            "|        ID   ID                                                   Usage      |\n",
            "|=============================================================================|\n",
            "|  No running processes found                                                 |\n",
            "+-----------------------------------------------------------------------------+\n",
            "Your runtime has 27.3 gigabytes of available RAM\n",
            "\n",
            "You are using a high-RAM runtime!\n"
          ]
        }
      ]
    },
    {
      "cell_type": "markdown",
      "source": [
        "# Google Drive"
      ],
      "metadata": {
        "id": "0estJx3IDzz4"
      }
    },
    {
      "cell_type": "code",
      "source": [
        "from google.colab import drive\n",
        "drive.mount('/content/drive')"
      ],
      "metadata": {
        "id": "WsH9ydF7Dwpf",
        "outputId": "84a9a214-19a9-4165-a681-04cc51220a0d",
        "colab": {
          "base_uri": "https://localhost:8080/"
        }
      },
      "execution_count": 12,
      "outputs": [
        {
          "output_type": "stream",
          "name": "stdout",
          "text": [
            "Drive already mounted at /content/drive; to attempt to forcibly remount, call drive.mount(\"/content/drive\", force_remount=True).\n"
          ]
        }
      ]
    },
    {
      "cell_type": "markdown",
      "metadata": {
        "id": "MMf8mzRT0YxP"
      },
      "source": [
        "# Download Dataset"
      ]
    },
    {
      "cell_type": "code",
      "source": [
        "!pip install -U --no-cache-dir gdown --pre\n",
        "!pip install image-similarity-measures > /dev/null"
      ],
      "metadata": {
        "id": "UCAzYqWZgbFk",
        "outputId": "8bef8550-63ff-4fac-b8ac-dad9ab51112d",
        "colab": {
          "base_uri": "https://localhost:8080/"
        }
      },
      "execution_count": 13,
      "outputs": [
        {
          "output_type": "stream",
          "name": "stdout",
          "text": [
            "Looking in indexes: https://pypi.org/simple, https://us-python.pkg.dev/colab-wheels/public/simple/\n",
            "Requirement already satisfied: gdown in /usr/local/lib/python3.8/dist-packages (4.6.0)\n",
            "Requirement already satisfied: six in /usr/local/lib/python3.8/dist-packages (from gdown) (1.15.0)\n",
            "Requirement already satisfied: tqdm in /usr/local/lib/python3.8/dist-packages (from gdown) (4.64.1)\n",
            "Requirement already satisfied: filelock in /usr/local/lib/python3.8/dist-packages (from gdown) (3.8.2)\n",
            "Requirement already satisfied: beautifulsoup4 in /usr/local/lib/python3.8/dist-packages (from gdown) (4.6.3)\n",
            "Requirement already satisfied: requests[socks] in /usr/local/lib/python3.8/dist-packages (from gdown) (2.23.0)\n",
            "Requirement already satisfied: certifi>=2017.4.17 in /usr/local/lib/python3.8/dist-packages (from requests[socks]->gdown) (2022.12.7)\n",
            "Requirement already satisfied: urllib3!=1.25.0,!=1.25.1,<1.26,>=1.21.1 in /usr/local/lib/python3.8/dist-packages (from requests[socks]->gdown) (1.24.3)\n",
            "Requirement already satisfied: idna<3,>=2.5 in /usr/local/lib/python3.8/dist-packages (from requests[socks]->gdown) (2.10)\n",
            "Requirement already satisfied: chardet<4,>=3.0.2 in /usr/local/lib/python3.8/dist-packages (from requests[socks]->gdown) (3.0.4)\n",
            "Requirement already satisfied: PySocks!=1.5.7,>=1.5.6 in /usr/local/lib/python3.8/dist-packages (from requests[socks]->gdown) (1.7.1)\n"
          ]
        }
      ]
    },
    {
      "cell_type": "code",
      "execution_count": 14,
      "metadata": {
        "id": "Zm_HJEfM0YxS",
        "outputId": "55d915d8-bc48-4a26-8b07-3b533a395cf3",
        "colab": {
          "base_uri": "https://localhost:8080/"
        }
      },
      "outputs": [
        {
          "output_type": "stream",
          "name": "stdout",
          "text": [
            "Downloading...\n",
            "From: https://drive.google.com/uc?id=12CxxS2w7mprCnVX9Y_Kiti6vEPbTQW2l\n",
            "To: /content/UNet_2DCNN.py\n",
            "100% 58.6k/58.6k [00:00<00:00, 77.6MB/s]\n",
            "Downloading...\n",
            "From: https://drive.google.com/uc?id=1GhhE5zBPijVmy2xY-FQANkfQi6zTC2lH\n",
            "To: /content/CurvToTawssGray.zip\n",
            "100% 879M/879M [00:06<00:00, 134MB/s]\n"
          ]
        }
      ],
      "source": [
        "!gdown \"12CxxS2w7mprCnVX9Y_Kiti6vEPbTQW2l\"\n",
        "!gdown \"1GhhE5zBPijVmy2xY-FQANkfQi6zTC2lH\"\n",
        "!unzip -o \"CurvToTawssGray.zip\" > /dev/null\n"
      ]
    },
    {
      "cell_type": "markdown",
      "metadata": {
        "id": "Vemh_spU0YxT"
      },
      "source": [
        "# Imports"
      ]
    },
    {
      "cell_type": "code",
      "execution_count": 15,
      "metadata": {
        "id": "w0KYlE-90YxT"
      },
      "outputs": [],
      "source": [
        "import os\n",
        "import cv2\n",
        "import random\n",
        "import datetime\n",
        "import matplotlib\n",
        "import numpy as np\n",
        "import pandas as pd\n",
        "import tensorflow as tf\n",
        "import matplotlib.pyplot as plt\n",
        "\n",
        "from tqdm import tqdm\n",
        "from numpy.typing import NDArray\n",
        "from UNet_2DCNN import UNet as UNetSakib\n",
        "# from image_similarity_measures.quality_metrics import *\n",
        "\n",
        "matplotlib.use('Agg')\n",
        "plt.rcParams[\"font.size\"] = 16\n"
      ]
    },
    {
      "cell_type": "markdown",
      "metadata": {
        "id": "vE8WOTRj0YxT"
      },
      "source": [
        "# Config"
      ]
    },
    {
      "cell_type": "code",
      "execution_count": 16,
      "metadata": {
        "id": "O5Vvm79c0YxT"
      },
      "outputs": [],
      "source": [
        "DATASET         = \"CurvToTAWSSGray\"\n",
        "MODEL_NAME      = \"UNet\"\n",
        "DATASET_PATH    = \"/content/Images/\"\n",
        "TRAIN_DIR       = \"Train/\"\n",
        "TEST_DIR        = \"Test/\"\n",
        "INPUT_DIR       = \"Input/\"\n",
        "TARGET_DIR      = \"Target/\"\n",
        "MODEL_PATH      = \"/content/drive/MyDrive/Research/TAVI/Models/\"\n",
        "PRED_PATH       = \"/content/drive/MyDrive/Research/TAVI/Predictions/\"\n",
        "\n",
        "IMG_SIZE        = 256\n",
        "BATCH_SIZE      = 16\n",
        "BUFFER_SIZE     = 1000\n",
        "VAL_SPLIT       = 0.2\n",
        "LEARNING_RATE   = 0.001\n",
        "N_EPOCHS        = 300\n",
        "PATIENCE        = 30\n",
        "\n",
        "EXP_NAME        = f\"{MODEL_NAME}_I{IMG_SIZE}_B{BATCH_SIZE}_LR{LEARNING_RATE}_{DATASET}\"\n"
      ]
    },
    {
      "cell_type": "markdown",
      "metadata": {
        "id": "YmMjbvFH0YxU"
      },
      "source": [
        "# Architecture"
      ]
    },
    {
      "cell_type": "code",
      "execution_count": 17,
      "metadata": {
        "id": "xecJpVUs0YxU"
      },
      "outputs": [],
      "source": [
        "class UNet:\n",
        "    def __init__(\n",
        "        self,\n",
        "        img_size: int,\n",
        "        n_channels: int = 1,\n",
        "        width: int = 32,\n",
        "        depth: int = 4,\n",
        "        kernel_size: int = 3\n",
        "    ):\n",
        "        self.img_size = img_size\n",
        "        self.n_channels = n_channels\n",
        "        self.width = width\n",
        "        self.depth = depth\n",
        "        self.kernel_size = kernel_size\n",
        "\n",
        "    @staticmethod\n",
        "    def conv(\n",
        "        x: tf.Tensor,\n",
        "        filters: int,\n",
        "        kernel_size: int\n",
        "    ) -> tf.Tensor:\n",
        "        for i in range(2):\n",
        "            x = tf.keras.layers.Conv2D(\n",
        "                filters=filters,\n",
        "                kernel_size=kernel_size,\n",
        "                strides=1,\n",
        "                padding=\"same\",\n",
        "                data_format=\"channels_last\",\n",
        "                dilation_rate=1,\n",
        "                groups=1,\n",
        "                activation=None,\n",
        "                use_bias=True,\n",
        "                kernel_initializer=\"glorot_uniform\",\n",
        "                bias_initializer=\"zeros\"\n",
        "            )(x)\n",
        "\n",
        "            x = tf.keras.layers.BatchNormalization()(x)\n",
        "            x = tf.keras.layers.Activation(\"relu\")(x)\n",
        "\n",
        "        return x\n",
        "\n",
        "    @staticmethod\n",
        "    def deconv(x: tf.Tensor, filters: int) -> tf.Tensor:\n",
        "        x = tf.keras.layers.Conv2DTranspose(\n",
        "            filters=filters,\n",
        "            kernel_size=2,\n",
        "            strides=2,\n",
        "            padding=\"same\",\n",
        "            output_padding=None,\n",
        "            data_format=None,\n",
        "            dilation_rate=1,\n",
        "            activation=None,\n",
        "            use_bias=True,\n",
        "            kernel_initializer=\"glorot_uniform\",\n",
        "            bias_initializer=\"zeros\"\n",
        "        )(x)\n",
        "\n",
        "        x = tf.keras.layers.BatchNormalization()(x)\n",
        "        x = tf.keras.layers.Activation(\"relu\")(x)\n",
        "\n",
        "        return x\n",
        "\n",
        "    @staticmethod\n",
        "    def output(x: tf.Tensor) -> tf.Tensor:\n",
        "        return tf.keras.layers.Conv2D(1, (1, 1), activation=\"sigmoid\")(x)\n",
        "\n",
        "    @staticmethod\n",
        "    def pool(x: tf.Tensor, pool_size: int = 2) -> tf.Tensor:\n",
        "        return tf.keras.layers.MaxPool2D(pool_size)(x)\n",
        "\n",
        "    def __call__(self) -> tf.keras.Model:\n",
        "        inputs = tf.keras.layers.Input(\n",
        "            shape=(self.img_size, self.img_size, self.n_channels)\n",
        "        )\n",
        "\n",
        "        # scaled = tf.keras.layers.Rescaling(1./255.0, offset=0)(inputs)\n",
        "\n",
        "        # ------------------ Downsampling ---------------------\n",
        "        downsample_layers = []\n",
        "        downsample_layers.append(\n",
        "            self.conv(\n",
        "                x=inputs,\n",
        "                filters=self.width,\n",
        "                kernel_size=self.kernel_size\n",
        "            )\n",
        "        )\n",
        "        for i in range(1, self.depth):\n",
        "            filters = int((2 ** i) * self.width)\n",
        "            downsample_layers.append(\n",
        "                self.pool(\n",
        "                    self.conv(\n",
        "                        x=downsample_layers[i - 1],\n",
        "                        filters=filters,\n",
        "                        kernel_size=self.kernel_size\n",
        "                    )\n",
        "                )\n",
        "            )\n",
        "\n",
        "        # ------------------- Features --------------------\n",
        "        n_features = int((2 ** self.depth) * self.width)\n",
        "        self.features = self.pool(\n",
        "            self.conv(\n",
        "                x=downsample_layers[-1],\n",
        "                filters=n_features,\n",
        "                kernel_size=self.kernel_size\n",
        "            )\n",
        "        )\n",
        "\n",
        "        # ------------------- Upsampling --------------------\n",
        "        upsample_layers = []\n",
        "        upsample_layers.append(self.features)\n",
        "        for i in range(1, self.depth + 1):\n",
        "            filters = int((2 ** (self.depth - i)) * self.width)\n",
        "            upsample_layers.append(\n",
        "                self.conv(\n",
        "                    x=tf.keras.layers.concatenate([\n",
        "                        downsample_layers[self.depth - i],\n",
        "                        self.deconv(\n",
        "                            x=upsample_layers[i - 1],\n",
        "                            filters=filters\n",
        "                        )\n",
        "                    ]),\n",
        "                    filters=filters,\n",
        "                    kernel_size=self.kernel_size\n",
        "                )\n",
        "            )\n",
        "\n",
        "        # ---------------------- Output -----------------------\n",
        "        outputs = self.output(upsample_layers[-1])\n",
        "\n",
        "        return tf.keras.Model(inputs, outputs)\n"
      ]
    },
    {
      "cell_type": "markdown",
      "metadata": {
        "id": "ga47oOoc0YxV"
      },
      "source": [
        "# Loss Functions"
      ]
    },
    {
      "cell_type": "code",
      "execution_count": 18,
      "metadata": {
        "id": "ooE90mpc0YxW"
      },
      "outputs": [],
      "source": [
        "def attention_mse(y_true, y_pred):\n",
        "    _y_true = y_true[y_true != 1.0]\n",
        "    _y_pred = y_pred[y_true != 1.0]\n",
        "    squared_difference = tf.square(_y_true - _y_pred)\n",
        "    return tf.reduce_mean(squared_difference, axis=-1)\n",
        "\n",
        "\n",
        "def attention_mae(y_true, y_pred):\n",
        "    _y_true = y_true[y_true != 1.0]\n",
        "    _y_pred = y_pred[y_true != 1.0]\n",
        "    squared_difference = tf.abs(_y_true - _y_pred)\n",
        "    return tf.reduce_mean(squared_difference, axis=-1)\n"
      ]
    },
    {
      "cell_type": "markdown",
      "metadata": {
        "id": "wOgmHYSJ0YxW"
      },
      "source": [
        "# Utils"
      ]
    },
    {
      "cell_type": "code",
      "execution_count": 19,
      "metadata": {
        "id": "cSrfyX260YxW"
      },
      "outputs": [],
      "source": [
        "def load_data_from_dir(path: str) -> tf.data.Dataset:\n",
        "    return tf.keras.utils.image_dataset_from_directory(\n",
        "        directory=path,\n",
        "        labels=None,\n",
        "        color_mode='grayscale',\n",
        "        batch_size=BATCH_SIZE,\n",
        "        image_size=(IMG_SIZE, IMG_SIZE),\n",
        "        shuffle=True,\n",
        "        seed=42,\n",
        "        # validation_split=VAL_SPLIT,\n",
        "        # subset=subset,\n",
        "        interpolation='bilinear',\n",
        "        follow_links=False,\n",
        "        crop_to_aspect_ratio=False\n",
        "    )\n"
      ]
    },
    {
      "cell_type": "markdown",
      "metadata": {
        "id": "CyS-63WI0YxX"
      },
      "source": [
        "# Dataloaders"
      ]
    },
    {
      "cell_type": "code",
      "execution_count": 20,
      "metadata": {
        "id": "71Dxzfkf0YxX",
        "outputId": "96549e92-9b32-4128-b32b-260badaefdee",
        "colab": {
          "base_uri": "https://localhost:8080/"
        }
      },
      "outputs": [
        {
          "output_type": "stream",
          "name": "stdout",
          "text": [
            "Found 8208 files belonging to 1 classes.\n",
            "Found 8208 files belonging to 1 classes.\n",
            "Found 312 files belonging to 1 classes.\n",
            "Found 312 files belonging to 1 classes.\n",
            "(TensorSpec(shape=(None, 256, 256, 1), dtype=tf.float32, name=None), TensorSpec(shape=(None, 256, 256, 1), dtype=tf.float32, name=None))\n",
            "(TensorSpec(shape=(None, 256, 256, 1), dtype=tf.float32, name=None), TensorSpec(shape=(None, 256, 256, 1), dtype=tf.float32, name=None))\n"
          ]
        }
      ],
      "source": [
        "trainX = load_data_from_dir(os.path.join(DATASET_PATH, TRAIN_DIR, INPUT_DIR))\n",
        "trainY = load_data_from_dir(os.path.join(DATASET_PATH, TRAIN_DIR, TARGET_DIR))\n",
        "testX = load_data_from_dir(os.path.join(DATASET_PATH, TEST_DIR, INPUT_DIR))\n",
        "testY = load_data_from_dir(os.path.join(DATASET_PATH, TEST_DIR, TARGET_DIR))\n",
        "\n",
        "train_ds = tf.data.Dataset.zip((trainX, trainY))\n",
        "test_ds = tf.data.Dataset.zip((testX, testY))\n",
        "\n",
        "print(train_ds.element_spec)\n",
        "print(test_ds.element_spec)\n"
      ]
    },
    {
      "cell_type": "markdown",
      "source": [
        "# Normalization"
      ],
      "metadata": {
        "id": "01HaegmR278r"
      }
    },
    {
      "cell_type": "code",
      "source": [
        "# def normalize(input_image, output_image):\n",
        "#     input_image = tf.cast(input_image, tf.float32) / 255.0\n",
        "#     output_image = tf.cast(input_image, tf.float32) / 255.0\n",
        "#     return input_image, output_image"
      ],
      "metadata": {
        "id": "E1oi3-RTqZV1"
      },
      "execution_count": 21,
      "outputs": []
    },
    {
      "cell_type": "code",
      "source": [
        "normalization_layer = tf.keras.layers.Rescaling(1./255)\n",
        "train_ds = train_ds.map(lambda x, y: (normalization_layer(x), normalization_layer(y)))\n",
        "test_ds = test_ds.map(lambda x, y: (normalization_layer(x), normalization_layer(y)))"
      ],
      "metadata": {
        "id": "mDeZuH0p26pE"
      },
      "execution_count": 22,
      "outputs": []
    },
    {
      "cell_type": "markdown",
      "source": [
        "# Augmentation"
      ],
      "metadata": {
        "id": "tySOuC8Hqvdm"
      }
    },
    {
      "cell_type": "code",
      "source": [
        "class Augment(tf.keras.layers.Layer):\n",
        "    def __init__(self, seed=42):\n",
        "        super().__init__()\n",
        "        # both use the same seed, so they'll make the same random changes.\n",
        "        self.augment_inputs = tf.keras.layers.RandomZoom((-0.1, -0.7), seed=seed)\n",
        "        self.augment_labels = tf.keras.layers.RandomZoom((-0.1, -0.7), seed=seed)\n",
        "\n",
        "    def call(self, inputs, labels):\n",
        "        inputs = self.augment_inputs(inputs)\n",
        "        labels = self.augment_labels(labels)\n",
        "        return inputs, labels"
      ],
      "metadata": {
        "id": "OHQFZ9kKqu6f"
      },
      "execution_count": 23,
      "outputs": []
    },
    {
      "cell_type": "markdown",
      "metadata": {
        "id": "eHlKefA_0YxX"
      },
      "source": [
        "# Optimization"
      ]
    },
    {
      "cell_type": "code",
      "execution_count": 24,
      "metadata": {
        "id": "U-HMkfOG0YxX"
      },
      "outputs": [],
      "source": [
        "AUTOTUNE = tf.data.AUTOTUNE\n",
        "\n",
        "train_batches = (\n",
        "    train_ds\n",
        "    .cache()\n",
        "    # .shuffle(BUFFER_SIZE)\n",
        "    # .batch(BATCH_SIZE)\n",
        "    # .repeat()\n",
        "    # .map(Augment())\n",
        "    .prefetch(buffer_size=AUTOTUNE)\n",
        ")\n",
        "\n",
        "test_batches = (test_ds)\n"
      ]
    },
    {
      "cell_type": "markdown",
      "metadata": {
        "id": "w50akeqN0YxX"
      },
      "source": [
        "# Training Config"
      ]
    },
    {
      "cell_type": "code",
      "execution_count": 25,
      "metadata": {
        "id": "2YvF85Wg0YxY"
      },
      "outputs": [],
      "source": [
        "callbacks = [\n",
        "    tf.keras.callbacks.EarlyStopping(\n",
        "        monitor=\"val_loss\",\n",
        "        patience=PATIENCE,\n",
        "        restore_best_weights=True\n",
        "    )\n",
        "]\n",
        "\n",
        "optimizer = tf.keras.optimizers.Adam(\n",
        "    learning_rate=LEARNING_RATE\n",
        ")\n",
        "\n",
        "model = UNet(IMG_SIZE)()\n",
        "# model = MobileUNet(IMG_SIZE)()\n",
        "# model = UNetSakib(\n",
        "#     length=IMG_SIZE, \n",
        "#     width=IMG_SIZE, \n",
        "#     model_depth=4, \n",
        "#     num_channel=1, \n",
        "#     model_width=32, \n",
        "#     kernel_size=3, \n",
        "#     problem_type='Regression',\n",
        "#     output_nums=1, \n",
        "#     ds=0, \n",
        "#     ae=0, \n",
        "#     ag=0, \n",
        "#     lstm=0, \n",
        "#     alpha=1, \n",
        "#     feature_number=1024, \n",
        "#     is_transconv=True\n",
        "# ).FSC_Net()\n",
        "\n",
        "model.compile(\n",
        "    loss=attention_mse,\n",
        "    optimizer=optimizer,\n",
        "    metrics=[attention_mae]\n",
        ")\n"
      ]
    },
    {
      "cell_type": "markdown",
      "metadata": {
        "id": "XrJPilPI0YxY"
      },
      "source": [
        "# Training"
      ]
    },
    {
      "cell_type": "code",
      "execution_count": 26,
      "metadata": {
        "id": "y_b-8pkT0YxY",
        "outputId": "aad60740-698d-4043-80e5-a437a0940494",
        "colab": {
          "base_uri": "https://localhost:8080/"
        }
      },
      "outputs": [
        {
          "output_type": "stream",
          "name": "stdout",
          "text": [
            "Epoch 1/300\n",
            "513/513 [==============================] - 290s 529ms/step - loss: 0.0066 - attention_mae: 0.0464 - val_loss: 0.0396 - val_attention_mae: 0.1812\n",
            "Epoch 2/300\n",
            "513/513 [==============================] - 271s 529ms/step - loss: 0.0039 - attention_mae: 0.0382 - val_loss: 0.0039 - val_attention_mae: 0.0387\n",
            "Epoch 3/300\n",
            "513/513 [==============================] - 271s 528ms/step - loss: 0.0035 - attention_mae: 0.0364 - val_loss: 0.0033 - val_attention_mae: 0.0379\n",
            "Epoch 4/300\n",
            "513/513 [==============================] - 271s 529ms/step - loss: 0.0033 - attention_mae: 0.0353 - val_loss: 0.0031 - val_attention_mae: 0.0337\n",
            "Epoch 5/300\n",
            "513/513 [==============================] - 271s 528ms/step - loss: 0.0031 - attention_mae: 0.0343 - val_loss: 0.0056 - val_attention_mae: 0.0539\n",
            "Epoch 6/300\n",
            "513/513 [==============================] - 271s 528ms/step - loss: 0.0030 - attention_mae: 0.0335 - val_loss: 0.0769 - val_attention_mae: 0.2519\n",
            "Epoch 7/300\n",
            "513/513 [==============================] - 271s 529ms/step - loss: 0.0028 - attention_mae: 0.0325 - val_loss: 0.0128 - val_attention_mae: 0.0832\n",
            "Epoch 8/300\n",
            "513/513 [==============================] - 271s 529ms/step - loss: 0.0026 - attention_mae: 0.0316 - val_loss: 0.0504 - val_attention_mae: 0.1915\n",
            "Epoch 9/300\n",
            "513/513 [==============================] - 271s 529ms/step - loss: 0.0024 - attention_mae: 0.0307 - val_loss: 0.0414 - val_attention_mae: 0.1756\n",
            "Epoch 10/300\n",
            "513/513 [==============================] - 271s 529ms/step - loss: 0.0022 - attention_mae: 0.0297 - val_loss: 0.0492 - val_attention_mae: 0.2023\n",
            "Epoch 11/300\n",
            "513/513 [==============================] - 271s 528ms/step - loss: 0.0020 - attention_mae: 0.0287 - val_loss: 0.0490 - val_attention_mae: 0.2004\n",
            "Epoch 12/300\n",
            "513/513 [==============================] - 271s 529ms/step - loss: 0.0019 - attention_mae: 0.0278 - val_loss: 0.0587 - val_attention_mae: 0.2189\n",
            "Epoch 13/300\n",
            "513/513 [==============================] - 271s 528ms/step - loss: 0.0018 - attention_mae: 0.0270 - val_loss: 0.0823 - val_attention_mae: 0.2523\n",
            "Epoch 14/300\n",
            "513/513 [==============================] - 271s 528ms/step - loss: 0.0017 - attention_mae: 0.0264 - val_loss: 0.0451 - val_attention_mae: 0.1788\n",
            "Epoch 15/300\n",
            "513/513 [==============================] - 271s 528ms/step - loss: 0.0016 - attention_mae: 0.0256 - val_loss: 0.0031 - val_attention_mae: 0.0350\n",
            "Epoch 16/300\n",
            "513/513 [==============================] - 271s 528ms/step - loss: 0.0015 - attention_mae: 0.0251 - val_loss: 0.0330 - val_attention_mae: 0.1413\n",
            "Epoch 17/300\n",
            "513/513 [==============================] - 271s 528ms/step - loss: 0.0014 - attention_mae: 0.0243 - val_loss: 0.0245 - val_attention_mae: 0.1141\n",
            "Epoch 18/300\n",
            "513/513 [==============================] - 271s 528ms/step - loss: 0.0013 - attention_mae: 0.0236 - val_loss: 0.0454 - val_attention_mae: 0.1626\n",
            "Epoch 19/300\n",
            "513/513 [==============================] - 271s 528ms/step - loss: 0.0012 - attention_mae: 0.0226 - val_loss: 0.0285 - val_attention_mae: 0.1209\n",
            "Epoch 20/300\n",
            "513/513 [==============================] - 271s 529ms/step - loss: 0.0011 - attention_mae: 0.0218 - val_loss: 0.0885 - val_attention_mae: 0.2516\n",
            "Epoch 21/300\n",
            "513/513 [==============================] - 271s 528ms/step - loss: 0.0011 - attention_mae: 0.0212 - val_loss: 0.0308 - val_attention_mae: 0.1236\n",
            "Epoch 22/300\n",
            "513/513 [==============================] - 271s 528ms/step - loss: 0.0010 - attention_mae: 0.0206 - val_loss: 0.1150 - val_attention_mae: 0.2962\n",
            "Epoch 23/300\n",
            "513/513 [==============================] - 271s 528ms/step - loss: 9.8529e-04 - attention_mae: 0.0201 - val_loss: 0.0450 - val_attention_mae: 0.1596\n",
            "Epoch 24/300\n",
            "513/513 [==============================] - 271s 528ms/step - loss: 9.3818e-04 - attention_mae: 0.0195 - val_loss: 0.0310 - val_attention_mae: 0.1293\n",
            "Epoch 25/300\n",
            "513/513 [==============================] - 271s 529ms/step - loss: 9.1184e-04 - attention_mae: 0.0193 - val_loss: 0.0021 - val_attention_mae: 0.0272\n",
            "Epoch 26/300\n",
            "513/513 [==============================] - 271s 529ms/step - loss: 8.8360e-04 - attention_mae: 0.0190 - val_loss: 0.0022 - val_attention_mae: 0.0299\n",
            "Epoch 27/300\n",
            "513/513 [==============================] - 271s 528ms/step - loss: 8.6359e-04 - attention_mae: 0.0188 - val_loss: 0.0629 - val_attention_mae: 0.2135\n",
            "Epoch 28/300\n",
            "513/513 [==============================] - 271s 528ms/step - loss: 8.4433e-04 - attention_mae: 0.0185 - val_loss: 0.0603 - val_attention_mae: 0.2008\n",
            "Epoch 29/300\n",
            "513/513 [==============================] - 271s 529ms/step - loss: 8.3620e-04 - attention_mae: 0.0185 - val_loss: 0.0017 - val_attention_mae: 0.0255\n",
            "Epoch 30/300\n",
            "513/513 [==============================] - 271s 528ms/step - loss: 7.9913e-04 - attention_mae: 0.0180 - val_loss: 0.0044 - val_attention_mae: 0.0473\n",
            "Epoch 31/300\n",
            "513/513 [==============================] - 271s 528ms/step - loss: 7.7128e-04 - attention_mae: 0.0176 - val_loss: 0.0436 - val_attention_mae: 0.1749\n",
            "Epoch 32/300\n",
            "513/513 [==============================] - 271s 528ms/step - loss: 7.3705e-04 - attention_mae: 0.0172 - val_loss: 0.0076 - val_attention_mae: 0.0637\n",
            "Epoch 33/300\n",
            "513/513 [==============================] - 271s 529ms/step - loss: 7.1472e-04 - attention_mae: 0.0169 - val_loss: 0.0020 - val_attention_mae: 0.0285\n",
            "Epoch 34/300\n",
            "513/513 [==============================] - 271s 528ms/step - loss: 6.9197e-04 - attention_mae: 0.0167 - val_loss: 0.0441 - val_attention_mae: 0.1660\n",
            "Epoch 35/300\n",
            "513/513 [==============================] - 271s 528ms/step - loss: 6.6428e-04 - attention_mae: 0.0163 - val_loss: 0.0528 - val_attention_mae: 0.1913\n",
            "Epoch 36/300\n",
            "513/513 [==============================] - 271s 529ms/step - loss: 6.3933e-04 - attention_mae: 0.0160 - val_loss: 0.0141 - val_attention_mae: 0.0825\n",
            "Epoch 37/300\n",
            "513/513 [==============================] - 271s 529ms/step - loss: 6.2845e-04 - attention_mae: 0.0158 - val_loss: 0.0018 - val_attention_mae: 0.0265\n",
            "Epoch 38/300\n",
            "513/513 [==============================] - 271s 528ms/step - loss: 6.1771e-04 - attention_mae: 0.0156 - val_loss: 0.0018 - val_attention_mae: 0.0254\n",
            "Epoch 39/300\n",
            "513/513 [==============================] - 271s 528ms/step - loss: 6.0980e-04 - attention_mae: 0.0155 - val_loss: 0.0281 - val_attention_mae: 0.1259\n",
            "Epoch 40/300\n",
            "513/513 [==============================] - 271s 528ms/step - loss: 6.1697e-04 - attention_mae: 0.0158 - val_loss: 0.0708 - val_attention_mae: 0.2141\n",
            "Epoch 41/300\n",
            "513/513 [==============================] - 271s 528ms/step - loss: 6.0916e-04 - attention_mae: 0.0158 - val_loss: 0.0138 - val_attention_mae: 0.0795\n",
            "Epoch 42/300\n",
            "513/513 [==============================] - 271s 528ms/step - loss: 5.8592e-04 - attention_mae: 0.0154 - val_loss: 0.0048 - val_attention_mae: 0.0412\n",
            "Epoch 43/300\n",
            "513/513 [==============================] - 271s 529ms/step - loss: 5.5770e-04 - attention_mae: 0.0149 - val_loss: 0.0017 - val_attention_mae: 0.0250\n",
            "Epoch 44/300\n",
            "513/513 [==============================] - 271s 528ms/step - loss: 5.4671e-04 - attention_mae: 0.0148 - val_loss: 0.0439 - val_attention_mae: 0.1745\n",
            "Epoch 45/300\n",
            "513/513 [==============================] - 271s 528ms/step - loss: 5.3769e-04 - attention_mae: 0.0146 - val_loss: 0.0414 - val_attention_mae: 0.1698\n",
            "Epoch 46/300\n",
            "513/513 [==============================] - 271s 528ms/step - loss: 5.3109e-04 - attention_mae: 0.0145 - val_loss: 0.0251 - val_attention_mae: 0.1244\n",
            "Epoch 47/300\n",
            "513/513 [==============================] - 271s 528ms/step - loss: 5.2834e-04 - attention_mae: 0.0146 - val_loss: 0.0016 - val_attention_mae: 0.0240\n",
            "Epoch 48/300\n",
            "513/513 [==============================] - 271s 528ms/step - loss: 5.1241e-04 - attention_mae: 0.0143 - val_loss: 0.0017 - val_attention_mae: 0.0258\n",
            "Epoch 49/300\n",
            "513/513 [==============================] - 271s 528ms/step - loss: 4.9855e-04 - attention_mae: 0.0141 - val_loss: 0.0017 - val_attention_mae: 0.0256\n",
            "Epoch 50/300\n",
            "513/513 [==============================] - 271s 528ms/step - loss: 4.8064e-04 - attention_mae: 0.0138 - val_loss: 0.0049 - val_attention_mae: 0.0486\n",
            "Epoch 51/300\n",
            "513/513 [==============================] - 271s 528ms/step - loss: 4.7751e-04 - attention_mae: 0.0138 - val_loss: 0.0607 - val_attention_mae: 0.1934\n",
            "Epoch 52/300\n",
            "513/513 [==============================] - 271s 528ms/step - loss: 4.8220e-04 - attention_mae: 0.0138 - val_loss: 0.0526 - val_attention_mae: 0.1806\n",
            "Epoch 53/300\n",
            "513/513 [==============================] - 271s 528ms/step - loss: 4.8055e-04 - attention_mae: 0.0137 - val_loss: 0.0230 - val_attention_mae: 0.1167\n",
            "Epoch 54/300\n",
            "513/513 [==============================] - 271s 528ms/step - loss: 4.7978e-04 - attention_mae: 0.0137 - val_loss: 0.0144 - val_attention_mae: 0.0861\n",
            "Epoch 55/300\n",
            "513/513 [==============================] - 271s 529ms/step - loss: 4.6924e-04 - attention_mae: 0.0135 - val_loss: 0.0014 - val_attention_mae: 0.0222\n",
            "Epoch 56/300\n",
            "513/513 [==============================] - 271s 528ms/step - loss: 4.5888e-04 - attention_mae: 0.0135 - val_loss: 0.0018 - val_attention_mae: 0.0274\n",
            "Epoch 57/300\n",
            "513/513 [==============================] - 271s 528ms/step - loss: 4.4007e-04 - attention_mae: 0.0132 - val_loss: 0.0017 - val_attention_mae: 0.0247\n",
            "Epoch 58/300\n",
            "513/513 [==============================] - 271s 528ms/step - loss: 4.2816e-04 - attention_mae: 0.0130 - val_loss: 0.0052 - val_attention_mae: 0.0464\n",
            "Epoch 59/300\n",
            "513/513 [==============================] - 271s 528ms/step - loss: 4.2261e-04 - attention_mae: 0.0129 - val_loss: 0.0016 - val_attention_mae: 0.0240\n",
            "Epoch 60/300\n",
            "513/513 [==============================] - 271s 528ms/step - loss: 4.2243e-04 - attention_mae: 0.0129 - val_loss: 0.0089 - val_attention_mae: 0.0622\n",
            "Epoch 61/300\n",
            "513/513 [==============================] - 271s 528ms/step - loss: 4.2426e-04 - attention_mae: 0.0130 - val_loss: 0.0017 - val_attention_mae: 0.0268\n",
            "Epoch 62/300\n",
            "513/513 [==============================] - 271s 529ms/step - loss: 4.2374e-04 - attention_mae: 0.0130 - val_loss: 0.0142 - val_attention_mae: 0.0883\n",
            "Epoch 63/300\n",
            "513/513 [==============================] - 271s 529ms/step - loss: 4.1291e-04 - attention_mae: 0.0128 - val_loss: 0.0016 - val_attention_mae: 0.0247\n",
            "Epoch 64/300\n",
            "513/513 [==============================] - 271s 528ms/step - loss: 4.0637e-04 - attention_mae: 0.0126 - val_loss: 0.0105 - val_attention_mae: 0.0751\n",
            "Epoch 65/300\n",
            "513/513 [==============================] - 271s 529ms/step - loss: 4.0396e-04 - attention_mae: 0.0125 - val_loss: 0.0022 - val_attention_mae: 0.0278\n",
            "Epoch 66/300\n",
            "513/513 [==============================] - 271s 528ms/step - loss: 4.0277e-04 - attention_mae: 0.0125 - val_loss: 0.0203 - val_attention_mae: 0.1062\n",
            "Epoch 67/300\n",
            "513/513 [==============================] - 271s 528ms/step - loss: 3.9478e-04 - attention_mae: 0.0124 - val_loss: 0.0262 - val_attention_mae: 0.1248\n",
            "Epoch 68/300\n",
            "513/513 [==============================] - 271s 529ms/step - loss: 3.9013e-04 - attention_mae: 0.0124 - val_loss: 0.0016 - val_attention_mae: 0.0238\n",
            "Epoch 69/300\n",
            "513/513 [==============================] - 271s 528ms/step - loss: 3.7596e-04 - attention_mae: 0.0120 - val_loss: 0.0025 - val_attention_mae: 0.0291\n",
            "Epoch 70/300\n",
            "513/513 [==============================] - 271s 528ms/step - loss: 3.6430e-04 - attention_mae: 0.0117 - val_loss: 0.0031 - val_attention_mae: 0.0342\n",
            "Epoch 71/300\n",
            "513/513 [==============================] - 271s 529ms/step - loss: 3.5606e-04 - attention_mae: 0.0115 - val_loss: 0.0022 - val_attention_mae: 0.0274\n",
            "Epoch 72/300\n",
            "513/513 [==============================] - 271s 528ms/step - loss: 3.5104e-04 - attention_mae: 0.0115 - val_loss: 0.0430 - val_attention_mae: 0.1654\n",
            "Epoch 73/300\n",
            "513/513 [==============================] - 271s 529ms/step - loss: 3.4471e-04 - attention_mae: 0.0115 - val_loss: 0.0249 - val_attention_mae: 0.1217\n",
            "Epoch 74/300\n",
            "513/513 [==============================] - 271s 528ms/step - loss: 3.3854e-04 - attention_mae: 0.0114 - val_loss: 0.0046 - val_attention_mae: 0.0442\n",
            "Epoch 75/300\n",
            "513/513 [==============================] - 271s 528ms/step - loss: 3.3982e-04 - attention_mae: 0.0115 - val_loss: 0.0058 - val_attention_mae: 0.0494\n",
            "Epoch 76/300\n",
            "513/513 [==============================] - 271s 529ms/step - loss: 3.4227e-04 - attention_mae: 0.0115 - val_loss: 0.0076 - val_attention_mae: 0.0607\n",
            "Epoch 77/300\n",
            "513/513 [==============================] - 271s 528ms/step - loss: 3.5003e-04 - attention_mae: 0.0116 - val_loss: 0.0072 - val_attention_mae: 0.0561\n",
            "Epoch 78/300\n",
            "513/513 [==============================] - 271s 529ms/step - loss: 3.5056e-04 - attention_mae: 0.0115 - val_loss: 0.0037 - val_attention_mae: 0.0374\n",
            "Epoch 79/300\n",
            "513/513 [==============================] - 271s 529ms/step - loss: 3.5234e-04 - attention_mae: 0.0116 - val_loss: 0.0112 - val_attention_mae: 0.0723\n",
            "Epoch 80/300\n",
            "513/513 [==============================] - 271s 529ms/step - loss: 3.5624e-04 - attention_mae: 0.0116 - val_loss: 0.0219 - val_attention_mae: 0.1139\n",
            "Epoch 81/300\n",
            "513/513 [==============================] - 271s 528ms/step - loss: 3.5474e-04 - attention_mae: 0.0117 - val_loss: 0.0172 - val_attention_mae: 0.1019\n",
            "Epoch 82/300\n",
            "513/513 [==============================] - 271s 528ms/step - loss: 3.4281e-04 - attention_mae: 0.0115 - val_loss: 0.0202 - val_attention_mae: 0.1124\n",
            "Epoch 83/300\n",
            "513/513 [==============================] - 271s 529ms/step - loss: 3.2418e-04 - attention_mae: 0.0112 - val_loss: 0.0071 - val_attention_mae: 0.0589\n",
            "Epoch 84/300\n",
            "513/513 [==============================] - 271s 528ms/step - loss: 3.1445e-04 - attention_mae: 0.0110 - val_loss: 0.0015 - val_attention_mae: 0.0218\n",
            "Epoch 85/300\n",
            "513/513 [==============================] - 271s 529ms/step - loss: 3.1606e-04 - attention_mae: 0.0111 - val_loss: 0.0046 - val_attention_mae: 0.0463\n"
          ]
        }
      ],
      "source": [
        "history = model.fit(\n",
        "    train_batches,\n",
        "    validation_data=test_batches,\n",
        "    epochs=N_EPOCHS,\n",
        "    batch_size=BATCH_SIZE,\n",
        "    callbacks=callbacks,\n",
        "    verbose=1\n",
        ")\n"
      ]
    },
    {
      "cell_type": "markdown",
      "source": [
        "# Save Model"
      ],
      "metadata": {
        "id": "HT68Jm8AEluI"
      }
    },
    {
      "cell_type": "code",
      "source": [
        "timestamp = datetime.datetime.now().strftime('%b-%d-%I:%M%p')\n",
        "model_path = os.path.join(MODEL_PATH, EXP_NAME)\n",
        "if not os.path.exists(model_path):\n",
        "    os.makedirs(model_path)\n",
        "\n",
        "model.save(os.path.join(model_path, timestamp))"
      ],
      "metadata": {
        "id": "xfUmF_1mEjXH",
        "outputId": "a2e58bf6-db69-470c-dd06-10a2057f459e",
        "colab": {
          "base_uri": "https://localhost:8080/"
        }
      },
      "execution_count": 27,
      "outputs": [
        {
          "output_type": "stream",
          "name": "stderr",
          "text": [
            "WARNING:absl:Found untraced functions such as _jit_compiled_convolution_op, _jit_compiled_convolution_op, _jit_compiled_convolution_op, _jit_compiled_convolution_op, _jit_compiled_convolution_op while saving (showing 5 of 23). These functions will not be directly callable after loading.\n"
          ]
        }
      ]
    },
    {
      "cell_type": "markdown",
      "source": [
        "# Save Predictions"
      ],
      "metadata": {
        "id": "-PWi28iOKpXe"
      }
    },
    {
      "cell_type": "code",
      "execution_count": 28,
      "metadata": {
        "id": "LLDJf93Z0YxY",
        "outputId": "c60dd229-8a8b-45c5-a6fb-d9517a5acf4b",
        "colab": {
          "base_uri": "https://localhost:8080/",
          "height": 270
        }
      },
      "outputs": [
        {
          "output_type": "stream",
          "name": "stderr",
          "text": [
            "\r0it [00:00, ?it/s]"
          ]
        },
        {
          "output_type": "stream",
          "name": "stdout",
          "text": [
            "1/1 [==============================] - 2s 2s/step\n"
          ]
        },
        {
          "output_type": "stream",
          "name": "stderr",
          "text": [
            "\r0it [00:02, ?it/s]\n"
          ]
        },
        {
          "output_type": "error",
          "ename": "IndexError",
          "evalue": "ignored",
          "traceback": [
            "\u001b[0;31m---------------------------------------------------------------------------\u001b[0m",
            "\u001b[0;31mIndexError\u001b[0m                                Traceback (most recent call last)",
            "\u001b[0;32m<ipython-input-28-0b8f93123d0a>\u001b[0m in \u001b[0;36m<module>\u001b[0;34m\u001b[0m\n\u001b[1;32m     18\u001b[0m             )\n\u001b[1;32m     19\u001b[0m         ).numpy()\n\u001b[0;32m---> 20\u001b[0;31m     \u001b[0mprediction\u001b[0m\u001b[0;34m[\u001b[0m\u001b[0mtarget\u001b[0m \u001b[0;34m==\u001b[0m \u001b[0;36m1.0\u001b[0m\u001b[0;34m]\u001b[0m \u001b[0;34m=\u001b[0m \u001b[0;36m1.0\u001b[0m\u001b[0;34m\u001b[0m\u001b[0;34m\u001b[0m\u001b[0m\n\u001b[0m\u001b[1;32m     21\u001b[0m \u001b[0;34m\u001b[0m\u001b[0m\n\u001b[1;32m     22\u001b[0m     \u001b[0;31m# _metrics = pd.DataFrame([[\u001b[0m\u001b[0;34m\u001b[0m\u001b[0;34m\u001b[0m\u001b[0;34m\u001b[0m\u001b[0m\n",
            "\u001b[0;31mIndexError\u001b[0m: too many indices for array: array is 2-dimensional, but 3 were indexed"
          ]
        }
      ],
      "source": [
        "test_ds_unbatched = test_batches.unbatch()\n",
        "\n",
        "pred_path = os.path.join(PRED_PATH, EXP_NAME, timestamp)\n",
        "if not os.path.exists(pred_path):\n",
        "    os.makedirs(pred_path)\n",
        "\n",
        "metrics = pd.DataFrame()\n",
        "\n",
        "for idx, (input, target) in enumerate(tqdm(test_ds_unbatched)):\n",
        "\n",
        "    # if not idx % 10 == 0:\n",
        "    #     continue\n",
        "\n",
        "    target = target.numpy()\n",
        "    prediction = tf.squeeze(\n",
        "        model.predict(\n",
        "            tf.expand_dims(input, axis=0)\n",
        "            )\n",
        "        ).numpy()\n",
        "    prediction[target == 1.0] = 1.0\n",
        "\n",
        "    # _metrics = pd.DataFrame([[\n",
        "    #         rmse(target, prediction),\n",
        "    #         psnr(target, prediction),\n",
        "    #         ssim(target, prediction),\n",
        "    #         fsim(target, prediction),\n",
        "    #         issm(target, prediction),\n",
        "    #         sre(target, prediction),\n",
        "    #         sam(target, prediction),\n",
        "    #         uiq(target, prediction),\n",
        "    #     ]],\n",
        "    #     columns=[\"RMSE\", \"PSNR\", \"SSIM\", \"FSIM\", \"ISSM\", \"SRE\", \"SAM\", \"UIQ\"]\n",
        "    # )\n",
        "\n",
        "    # metrics = pd.concat([metrics, _metrics], axis=0)\n",
        "\n",
        "    plt.figure(figsize=(7, 7))\n",
        "    plt.imshow(target)\n",
        "    plt.axis(\"off\")\n",
        "    plt.tight_layout()\n",
        "    plt.savefig(os.path.join(pred_path, f\"{idx}_T.png\"))\n",
        "    plt.close()\n",
        "\n",
        "    plt.figure(figsize=(7, 7))\n",
        "    plt.imshow(prediction)\n",
        "    plt.axis(\"off\")\n",
        "    plt.tight_layout()\n",
        "    plt.savefig(os.path.join(pred_path, f\"{idx}_P.png\"))\n",
        "    plt.close()\n",
        "\n",
        "\n",
        "    # plt.figure(figsize=(12, 4))\n",
        "    # plt.subplot(1, 3, 1)\n",
        "    # plt.imshow(input)\n",
        "    # plt.axis(\"off\")\n",
        "    # plt.title(\"INPUT\")\n",
        "    # plt.subplot(1, 3, 2)\n",
        "    # plt.imshow(target)\n",
        "    # plt.axis(\"off\")\n",
        "    # plt.title(\"TARGET\")\n",
        "    # plt.subplot(1, 3, 3)\n",
        "    # plt.imshow(prediction)\n",
        "    # plt.axis(\"off\")\n",
        "    # plt.title(\"PREDICTION\")\n",
        "    # plt.tight_layout()\n",
        "    # plt.savefig(os.path.join(pred_path, f\"{idx}.png\"))\n",
        "    # plt.close()  \n"
      ]
    },
    {
      "cell_type": "code",
      "source": [
        "loss = history.history['loss']\n",
        "val_loss = history.history['val_loss']\n",
        "\n",
        "plt.figure(figsize=(8, 6))\n",
        "plt.plot(loss, label='Training Loss')\n",
        "plt.plot(val_loss, label='Validation Loss')\n",
        "plt.legend(loc='upper right')\n",
        "plt.ylabel('Attention MAE')\n",
        "plt.title('Training and Validation Loss')\n",
        "plt.xlabel('Epoch')\n",
        "plt.tight_layout()\n",
        "plt.savefig(os.path.join(model_path, timestamp + \".png\"))\n",
        "plt.close()"
      ],
      "metadata": {
        "id": "dq-aXv2mIwA8"
      },
      "execution_count": null,
      "outputs": []
    },
    {
      "cell_type": "code",
      "source": [
        "model.evaluate(test_batches)"
      ],
      "metadata": {
        "id": "KghqZxOpWCWP"
      },
      "execution_count": null,
      "outputs": []
    },
    {
      "cell_type": "code",
      "source": [],
      "metadata": {
        "id": "Clx7EdsW2yFf"
      },
      "execution_count": null,
      "outputs": []
    }
  ],
  "metadata": {
    "kernelspec": {
      "display_name": "Python 3.10.6 ('Ai')",
      "language": "python",
      "name": "python3"
    },
    "language_info": {
      "codemirror_mode": {
        "name": "ipython",
        "version": 3
      },
      "file_extension": ".py",
      "mimetype": "text/x-python",
      "name": "python",
      "nbconvert_exporter": "python",
      "pygments_lexer": "ipython3",
      "version": "3.10.6"
    },
    "orig_nbformat": 4,
    "vscode": {
      "interpreter": {
        "hash": "cc12dd51c08fff59e312c49b5273cbf2a12939660509ea1a4d83cd89b0463726"
      }
    },
    "colab": {
      "provenance": [],
      "machine_shape": "hm",
      "include_colab_link": true
    },
    "accelerator": "GPU",
    "gpuClass": "standard"
  },
  "nbformat": 4,
  "nbformat_minor": 0
}