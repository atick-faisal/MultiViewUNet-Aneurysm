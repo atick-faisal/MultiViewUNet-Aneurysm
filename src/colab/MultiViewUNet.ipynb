{
  "cells": [
    {
      "cell_type": "markdown",
      "metadata": {
        "id": "view-in-github",
        "colab_type": "text"
      },
      "source": [
        "<a href=\"https://colab.research.google.com/github/atick-faisal/TAVI/blob/main/src/colab/MultiViewUNet.ipynb\" target=\"_parent\"><img src=\"https://colab.research.google.com/assets/colab-badge.svg\" alt=\"Open In Colab\"/></a>"
      ]
    },
    {
      "cell_type": "markdown",
      "source": [
        "# Colab Info"
      ],
      "metadata": {
        "id": "UVG0Xo17Xzdk"
      }
    },
    {
      "cell_type": "code",
      "source": [
        "from psutil import virtual_memory\n",
        "\n",
        "gpu_info = !nvidia-smi\n",
        "gpu_info = '\\n'.join(gpu_info)\n",
        "if gpu_info.find('failed') >= 0:\n",
        "  print('Not connected to a GPU')\n",
        "else:\n",
        "  print(gpu_info)\n",
        "\n",
        "\n",
        "ram_gb = virtual_memory().total / 1e9\n",
        "print('Your runtime has {:.1f} gigabytes of available RAM\\n'.format(ram_gb))\n",
        "\n",
        "if ram_gb < 20:\n",
        "  print('Not using a high-RAM runtime')\n",
        "else:\n",
        "  print('You are using a high-RAM runtime!')"
      ],
      "metadata": {
        "id": "ZwwbESaiX2xi",
        "outputId": "4f66d623-bb19-4328-b144-c0f45d09b579",
        "colab": {
          "base_uri": "https://localhost:8080/"
        }
      },
      "execution_count": null,
      "outputs": [
        {
          "output_type": "stream",
          "name": "stdout",
          "text": [
            "Sat Dec 24 06:17:26 2022       \n",
            "+-----------------------------------------------------------------------------+\n",
            "| NVIDIA-SMI 460.32.03    Driver Version: 460.32.03    CUDA Version: 11.2     |\n",
            "|-------------------------------+----------------------+----------------------+\n",
            "| GPU  Name        Persistence-M| Bus-Id        Disp.A | Volatile Uncorr. ECC |\n",
            "| Fan  Temp  Perf  Pwr:Usage/Cap|         Memory-Usage | GPU-Util  Compute M. |\n",
            "|                               |                      |               MIG M. |\n",
            "|===============================+======================+======================|\n",
            "|   0  Tesla T4            Off  | 00000000:00:04.0 Off |                    0 |\n",
            "| N/A   68C    P0    31W /  70W |      0MiB / 15109MiB |      0%      Default |\n",
            "|                               |                      |                  N/A |\n",
            "+-------------------------------+----------------------+----------------------+\n",
            "                                                                               \n",
            "+-----------------------------------------------------------------------------+\n",
            "| Processes:                                                                  |\n",
            "|  GPU   GI   CI        PID   Type   Process name                  GPU Memory |\n",
            "|        ID   ID                                                   Usage      |\n",
            "|=============================================================================|\n",
            "|  No running processes found                                                 |\n",
            "+-----------------------------------------------------------------------------+\n",
            "Your runtime has 27.3 gigabytes of available RAM\n",
            "\n",
            "You are using a high-RAM runtime!\n"
          ]
        }
      ]
    },
    {
      "cell_type": "markdown",
      "source": [
        "# Google Drive"
      ],
      "metadata": {
        "id": "0estJx3IDzz4"
      }
    },
    {
      "cell_type": "code",
      "source": [
        "from google.colab import drive\n",
        "drive.mount('/content/drive')"
      ],
      "metadata": {
        "id": "WsH9ydF7Dwpf",
        "outputId": "461fb6b0-2e25-43fa-fa78-cd015cbcc06d",
        "colab": {
          "base_uri": "https://localhost:8080/"
        }
      },
      "execution_count": null,
      "outputs": [
        {
          "output_type": "stream",
          "name": "stdout",
          "text": [
            "Drive already mounted at /content/drive; to attempt to forcibly remount, call drive.mount(\"/content/drive\", force_remount=True).\n"
          ]
        }
      ]
    },
    {
      "cell_type": "markdown",
      "metadata": {
        "id": "MMf8mzRT0YxP"
      },
      "source": [
        "# Download Dataset"
      ]
    },
    {
      "cell_type": "code",
      "source": [
        "!pip install -U --no-cache-dir gdown --pre\n",
        "!pip install image-similarity-measures > /dev/null"
      ],
      "metadata": {
        "id": "UCAzYqWZgbFk",
        "outputId": "44629c31-f6e1-4463-fd72-b6225e49b43b",
        "colab": {
          "base_uri": "https://localhost:8080/"
        }
      },
      "execution_count": null,
      "outputs": [
        {
          "output_type": "stream",
          "name": "stdout",
          "text": [
            "Looking in indexes: https://pypi.org/simple, https://us-python.pkg.dev/colab-wheels/public/simple/\n",
            "Requirement already satisfied: gdown in /usr/local/lib/python3.8/dist-packages (4.6.0)\n",
            "Requirement already satisfied: beautifulsoup4 in /usr/local/lib/python3.8/dist-packages (from gdown) (4.6.3)\n",
            "Requirement already satisfied: filelock in /usr/local/lib/python3.8/dist-packages (from gdown) (3.8.2)\n",
            "Requirement already satisfied: six in /usr/local/lib/python3.8/dist-packages (from gdown) (1.15.0)\n",
            "Requirement already satisfied: requests[socks] in /usr/local/lib/python3.8/dist-packages (from gdown) (2.23.0)\n",
            "Requirement already satisfied: tqdm in /usr/local/lib/python3.8/dist-packages (from gdown) (4.64.1)\n",
            "Requirement already satisfied: urllib3!=1.25.0,!=1.25.1,<1.26,>=1.21.1 in /usr/local/lib/python3.8/dist-packages (from requests[socks]->gdown) (1.24.3)\n",
            "Requirement already satisfied: idna<3,>=2.5 in /usr/local/lib/python3.8/dist-packages (from requests[socks]->gdown) (2.10)\n",
            "Requirement already satisfied: certifi>=2017.4.17 in /usr/local/lib/python3.8/dist-packages (from requests[socks]->gdown) (2022.12.7)\n",
            "Requirement already satisfied: chardet<4,>=3.0.2 in /usr/local/lib/python3.8/dist-packages (from requests[socks]->gdown) (3.0.4)\n",
            "Requirement already satisfied: PySocks!=1.5.7,>=1.5.6 in /usr/local/lib/python3.8/dist-packages (from requests[socks]->gdown) (1.7.1)\n"
          ]
        }
      ]
    },
    {
      "cell_type": "code",
      "execution_count": null,
      "metadata": {
        "id": "Zm_HJEfM0YxS",
        "outputId": "a53a25b1-6ae6-42e7-f175-dea5f7951e75",
        "colab": {
          "base_uri": "https://localhost:8080/"
        }
      },
      "outputs": [
        {
          "output_type": "stream",
          "name": "stdout",
          "text": [
            "Downloading...\n",
            "From: https://drive.google.com/uc?id=12CxxS2w7mprCnVX9Y_Kiti6vEPbTQW2l\n",
            "To: /content/UNet_2DCNN.py\n",
            "100% 58.6k/58.6k [00:00<00:00, 32.6MB/s]\n",
            "Downloading...\n",
            "From: https://drive.google.com/uc?id=1GhhE5zBPijVmy2xY-FQANkfQi6zTC2lH\n",
            "To: /content/CurvToTawssGray.zip\n",
            "100% 879M/879M [00:02<00:00, 333MB/s]\n"
          ]
        }
      ],
      "source": [
        "!gdown \"12CxxS2w7mprCnVX9Y_Kiti6vEPbTQW2l\"\n",
        "!gdown \"1TyyEUdrQw-1ShtVnCHnXKUq1da5c3JZB\"\n",
        "!unzip -o \"TAWSS2OSI.zip\" > /dev/null\n"
      ]
    },
    {
      "cell_type": "markdown",
      "metadata": {
        "id": "Vemh_spU0YxT"
      },
      "source": [
        "# Imports"
      ]
    },
    {
      "cell_type": "code",
      "execution_count": null,
      "metadata": {
        "id": "w0KYlE-90YxT"
      },
      "outputs": [],
      "source": [
        "import os\n",
        "import cv2\n",
        "import random\n",
        "import datetime\n",
        "import matplotlib\n",
        "import numpy as np\n",
        "import pandas as pd\n",
        "import tensorflow as tf\n",
        "import matplotlib.pyplot as plt\n",
        "\n",
        "from tqdm import tqdm\n",
        "from numpy.typing import NDArray\n",
        "from UNet_2DCNN import UNet as UNetSakib\n",
        "# from image_similarity_measures.quality_metrics import *\n",
        "\n",
        "matplotlib.use('Agg')\n",
        "plt.rcParams[\"font.size\"] = 16\n"
      ]
    },
    {
      "cell_type": "markdown",
      "metadata": {
        "id": "vE8WOTRj0YxT"
      },
      "source": [
        "# Config"
      ]
    },
    {
      "cell_type": "code",
      "execution_count": null,
      "metadata": {
        "id": "O5Vvm79c0YxT"
      },
      "outputs": [],
      "source": [
        "DATASET         = \"TAWSS2OSI\"\n",
        "MODEL_NAME      = \"MultiViewUNet\"\n",
        "DATASET_PATH    = \"/content/Images/\"\n",
        "TRAIN_DIR       = \"Train/\"\n",
        "TEST_DIR        = \"Test/\"\n",
        "INPUT_DIR       = \"Input/\"\n",
        "TARGET_DIR      = \"Target/\"\n",
        "MODEL_PATH      = \"/content/drive/MyDrive/Research/TAVI/Models/\"\n",
        "PRED_PATH       = \"/content/drive/MyDrive/Research/TAVI/Predictions/\"\n",
        "\n",
        "IMG_SIZE        = 256\n",
        "BATCH_SIZE      = 16\n",
        "BUFFER_SIZE     = 1000\n",
        "VAL_SPLIT       = 0.2\n",
        "LEARNING_RATE   = 0.001\n",
        "N_EPOCHS        = 300\n",
        "PATIENCE        = 30\n",
        "\n",
        "EXP_NAME        = f\"{MODEL_NAME}_I{IMG_SIZE}_B{BATCH_SIZE}_LR{LEARNING_RATE}_{DATASET}\"\n"
      ]
    },
    {
      "cell_type": "markdown",
      "metadata": {
        "id": "YmMjbvFH0YxU"
      },
      "source": [
        "# Architecture"
      ]
    },
    {
      "cell_type": "code",
      "execution_count": null,
      "metadata": {
        "id": "xecJpVUs0YxU"
      },
      "outputs": [],
      "source": [
        "class UNet:\n",
        "    def __init__(\n",
        "        self,\n",
        "        img_size: int,\n",
        "        n_channels: int = 3,\n",
        "        width: int = 32,\n",
        "        depth: int = 4,\n",
        "        kernel_size: int = 3\n",
        "    ):\n",
        "        self.img_size = img_size\n",
        "        self.n_channels = n_channels\n",
        "        self.width = width\n",
        "        self.depth = depth\n",
        "        self.kernel_size = kernel_size\n",
        "\n",
        "    @staticmethod\n",
        "    def conv(\n",
        "        x: tf.Tensor,\n",
        "        filters: int,\n",
        "        kernel_size: int\n",
        "    ) -> tf.Tensor:\n",
        "        for i in range(2):\n",
        "            x = tf.keras.layers.Conv2D(\n",
        "                filters=filters,\n",
        "                kernel_size=kernel_size,\n",
        "                strides=1,\n",
        "                padding=\"same\",\n",
        "                data_format=\"channels_last\",\n",
        "                dilation_rate=1,\n",
        "                groups=1,\n",
        "                activation=None,\n",
        "                use_bias=True,\n",
        "                kernel_initializer=\"glorot_uniform\",\n",
        "                bias_initializer=\"zeros\"\n",
        "            )(x)\n",
        "\n",
        "            x = tf.keras.layers.BatchNormalization()(x)\n",
        "            x = tf.keras.layers.Activation(\"relu\")(x)\n",
        "\n",
        "        return x\n",
        "\n",
        "    @staticmethod\n",
        "    def deconv(x: tf.Tensor, filters: int) -> tf.Tensor:\n",
        "        x = tf.keras.layers.Conv2DTranspose(\n",
        "            filters=filters,\n",
        "            kernel_size=2,\n",
        "            strides=2,\n",
        "            padding=\"same\",\n",
        "            output_padding=None,\n",
        "            data_format=None,\n",
        "            dilation_rate=1,\n",
        "            activation=None,\n",
        "            use_bias=True,\n",
        "            kernel_initializer=\"glorot_uniform\",\n",
        "            bias_initializer=\"zeros\"\n",
        "        )(x)\n",
        "\n",
        "        x = tf.keras.layers.BatchNormalization()(x)\n",
        "        x = tf.keras.layers.Activation(\"relu\")(x)\n",
        "\n",
        "        return x\n",
        "\n",
        "    @staticmethod\n",
        "    def output(x: tf.Tensor) -> tf.Tensor:\n",
        "        return tf.keras.layers.Conv2D(3, (1, 1), activation=\"sigmoid\")(x)\n",
        "\n",
        "    @staticmethod\n",
        "    def pool(x: tf.Tensor, pool_size: int = 2) -> tf.Tensor:\n",
        "        return tf.keras.layers.MaxPool2D(pool_size)(x)\n",
        "\n",
        "    def __call__(self) -> tf.keras.Model:\n",
        "        inputs = tf.keras.layers.Input(\n",
        "            shape=(self.img_size, self.img_size, self.n_channels)\n",
        "        )\n",
        "\n",
        "        # scaled = tf.keras.layers.Rescaling(1./255.0, offset=0)(inputs)\n",
        "\n",
        "        # ------------------ Downsampling ---------------------\n",
        "        downsample_layers = []\n",
        "        downsample_layers.append(\n",
        "            self.conv(\n",
        "                x=inputs,\n",
        "                filters=self.width,\n",
        "                kernel_size=self.kernel_size\n",
        "            )\n",
        "        )\n",
        "        for i in range(1, self.depth):\n",
        "            filters = int((2 ** i) * self.width)\n",
        "            downsample_layers.append(\n",
        "                self.pool(\n",
        "                    self.conv(\n",
        "                        x=downsample_layers[i - 1],\n",
        "                        filters=filters,\n",
        "                        kernel_size=self.kernel_size\n",
        "                    )\n",
        "                )\n",
        "            )\n",
        "\n",
        "        # ------------------- Features --------------------\n",
        "        n_features = int((2 ** self.depth) * self.width)\n",
        "        self.features = self.pool(\n",
        "            self.conv(\n",
        "                x=downsample_layers[-1],\n",
        "                filters=n_features,\n",
        "                kernel_size=self.kernel_size\n",
        "            )\n",
        "        )\n",
        "\n",
        "        # ------------------- Upsampling --------------------\n",
        "        upsample_layers = []\n",
        "        upsample_layers.append(self.features)\n",
        "        for i in range(1, self.depth + 1):\n",
        "            filters = int((2 ** (self.depth - i)) * self.width)\n",
        "            upsample_layers.append(\n",
        "                self.conv(\n",
        "                    x=tf.keras.layers.concatenate([\n",
        "                        downsample_layers[self.depth - i],\n",
        "                        self.deconv(\n",
        "                            x=upsample_layers[i - 1],\n",
        "                            filters=filters\n",
        "                        )\n",
        "                    ]),\n",
        "                    filters=filters,\n",
        "                    kernel_size=self.kernel_size\n",
        "                )\n",
        "            )\n",
        "\n",
        "        # ---------------------- Output -----------------------\n",
        "        outputs = self.output(upsample_layers[-1])\n",
        "\n",
        "        return tf.keras.Model(inputs, outputs)\n"
      ]
    },
    {
      "cell_type": "markdown",
      "metadata": {
        "id": "ga47oOoc0YxV"
      },
      "source": [
        "# Loss Functions"
      ]
    },
    {
      "cell_type": "code",
      "execution_count": null,
      "metadata": {
        "id": "ooE90mpc0YxW"
      },
      "outputs": [],
      "source": [
        "def attention_mse(y_true, y_pred):\n",
        "    _y_true = y_true[y_true != 1.0]\n",
        "    _y_pred = y_pred[y_true != 1.0]\n",
        "    squared_difference = tf.square(_y_true - _y_pred)\n",
        "    return tf.reduce_mean(squared_difference, axis=-1)\n",
        "\n",
        "\n",
        "def attention_mae(y_true, y_pred):\n",
        "    _y_true = y_true[y_true != 1.0]\n",
        "    _y_pred = y_pred[y_true != 1.0]\n",
        "    squared_difference = tf.abs(_y_true - _y_pred)\n",
        "    return tf.reduce_mean(squared_difference, axis=-1)\n"
      ]
    },
    {
      "cell_type": "markdown",
      "metadata": {
        "id": "wOgmHYSJ0YxW"
      },
      "source": [
        "# Utils"
      ]
    },
    {
      "cell_type": "code",
      "execution_count": null,
      "metadata": {
        "id": "cSrfyX260YxW"
      },
      "outputs": [],
      "source": [
        "def load_data_from_dir(path: str) -> tf.data.Dataset:\n",
        "    return tf.keras.utils.image_dataset_from_directory(\n",
        "        directory=path,\n",
        "        labels=None,\n",
        "        color_mode='rgb',\n",
        "        batch_size=BATCH_SIZE,\n",
        "        image_size=(IMG_SIZE, IMG_SIZE),\n",
        "        shuffle=True,\n",
        "        seed=42,\n",
        "        # validation_split=VAL_SPLIT,\n",
        "        # subset=subset,\n",
        "        interpolation='bilinear',\n",
        "        follow_links=False,\n",
        "        crop_to_aspect_ratio=False\n",
        "    )\n"
      ]
    },
    {
      "cell_type": "markdown",
      "metadata": {
        "id": "CyS-63WI0YxX"
      },
      "source": [
        "# Dataloaders"
      ]
    },
    {
      "cell_type": "code",
      "execution_count": null,
      "metadata": {
        "id": "71Dxzfkf0YxX",
        "outputId": "4b4bac7a-425a-48b0-d087-2ffc0cd72e29",
        "colab": {
          "base_uri": "https://localhost:8080/"
        }
      },
      "outputs": [
        {
          "output_type": "stream",
          "name": "stdout",
          "text": [
            "Found 8208 files belonging to 1 classes.\n",
            "Found 8208 files belonging to 1 classes.\n",
            "Found 312 files belonging to 1 classes.\n",
            "Found 312 files belonging to 1 classes.\n",
            "(TensorSpec(shape=(None, 256, 256, 1), dtype=tf.float32, name=None), TensorSpec(shape=(None, 256, 256, 1), dtype=tf.float32, name=None))\n",
            "(TensorSpec(shape=(None, 256, 256, 1), dtype=tf.float32, name=None), TensorSpec(shape=(None, 256, 256, 1), dtype=tf.float32, name=None))\n"
          ]
        }
      ],
      "source": [
        "trainX = load_data_from_dir(os.path.join(DATASET_PATH, TRAIN_DIR, INPUT_DIR))\n",
        "trainY = load_data_from_dir(os.path.join(DATASET_PATH, TRAIN_DIR, TARGET_DIR))\n",
        "testX = load_data_from_dir(os.path.join(DATASET_PATH, TEST_DIR, INPUT_DIR))\n",
        "testY = load_data_from_dir(os.path.join(DATASET_PATH, TEST_DIR, TARGET_DIR))\n",
        "\n",
        "train_ds = tf.data.Dataset.zip((trainX, trainY))\n",
        "test_ds = tf.data.Dataset.zip((testX, testY))\n",
        "\n",
        "print(train_ds.element_spec)\n",
        "print(test_ds.element_spec)\n"
      ]
    },
    {
      "cell_type": "markdown",
      "source": [
        "# Normalization"
      ],
      "metadata": {
        "id": "01HaegmR278r"
      }
    },
    {
      "cell_type": "code",
      "source": [
        "# def normalize(input_image, output_image):\n",
        "#     input_image = tf.cast(input_image, tf.float32) / 255.0\n",
        "#     output_image = tf.cast(input_image, tf.float32) / 255.0\n",
        "#     return input_image, output_image"
      ],
      "metadata": {
        "id": "E1oi3-RTqZV1"
      },
      "execution_count": null,
      "outputs": []
    },
    {
      "cell_type": "code",
      "source": [
        "normalization_layer = tf.keras.layers.Rescaling(1./255)\n",
        "train_ds = train_ds.map(lambda x, y: (normalization_layer(x), normalization_layer(y)))\n",
        "test_ds = test_ds.map(lambda x, y: (normalization_layer(x), normalization_layer(y)))"
      ],
      "metadata": {
        "id": "mDeZuH0p26pE"
      },
      "execution_count": null,
      "outputs": []
    },
    {
      "cell_type": "markdown",
      "source": [
        "# Augmentation"
      ],
      "metadata": {
        "id": "tySOuC8Hqvdm"
      }
    },
    {
      "cell_type": "code",
      "source": [
        "class Augment(tf.keras.layers.Layer):\n",
        "    def __init__(self, seed=42):\n",
        "        super().__init__()\n",
        "        # both use the same seed, so they'll make the same random changes.\n",
        "        self.augment_inputs = tf.keras.layers.RandomZoom((-0.1, -0.7), seed=seed)\n",
        "        self.augment_labels = tf.keras.layers.RandomZoom((-0.1, -0.7), seed=seed)\n",
        "\n",
        "    def call(self, inputs, labels):\n",
        "        inputs = self.augment_inputs(inputs)\n",
        "        labels = self.augment_labels(labels)\n",
        "        return inputs, labels"
      ],
      "metadata": {
        "id": "OHQFZ9kKqu6f"
      },
      "execution_count": null,
      "outputs": []
    },
    {
      "cell_type": "markdown",
      "metadata": {
        "id": "eHlKefA_0YxX"
      },
      "source": [
        "# Optimization"
      ]
    },
    {
      "cell_type": "code",
      "execution_count": null,
      "metadata": {
        "id": "U-HMkfOG0YxX"
      },
      "outputs": [],
      "source": [
        "AUTOTUNE = tf.data.AUTOTUNE\n",
        "\n",
        "train_batches = (\n",
        "    train_ds\n",
        "    .cache()\n",
        "    # .shuffle(BUFFER_SIZE)\n",
        "    # .batch(BATCH_SIZE)\n",
        "    # .repeat()\n",
        "    # .map(Augment())\n",
        "    .prefetch(buffer_size=AUTOTUNE)\n",
        ")\n",
        "\n",
        "test_batches = (test_ds)\n"
      ]
    },
    {
      "cell_type": "markdown",
      "metadata": {
        "id": "w50akeqN0YxX"
      },
      "source": [
        "# Training Config"
      ]
    },
    {
      "cell_type": "code",
      "source": [
        "model_path = os.path.join(MODEL_PATH, EXP_NAME)"
      ],
      "metadata": {
        "id": "PUzocJOBo8R4"
      },
      "execution_count": null,
      "outputs": []
    },
    {
      "cell_type": "code",
      "execution_count": null,
      "metadata": {
        "id": "2YvF85Wg0YxY"
      },
      "outputs": [],
      "source": [
        "callbacks = [\n",
        "    tf.keras.callbacks.EarlyStopping(\n",
        "        monitor=\"val_loss\",\n",
        "        patience=PATIENCE,\n",
        "        restore_best_weights=True\n",
        "    ),\n",
        "    tf.keras.callbacks.ModelCheckpoint(\n",
        "        model_path,\n",
        "        monitor = 'val_loss',\n",
        "        verbose = 1,\n",
        "        save_best_only = True,\n",
        "        save_weights_only = True\n",
        "    )\n",
        "]\n",
        "\n",
        "optimizer = tf.keras.optimizers.Adam(\n",
        "    learning_rate=LEARNING_RATE\n",
        ")\n",
        "\n",
        "model = UNet(IMG_SIZE)()\n",
        "# model = MobileUNet(IMG_SIZE)()\n",
        "# model = UNetSakib(\n",
        "#     length=IMG_SIZE, \n",
        "#     width=IMG_SIZE, \n",
        "#     model_depth=4, \n",
        "#     num_channel=1, \n",
        "#     model_width=32, \n",
        "#     kernel_size=3, \n",
        "#     problem_type='Regression',\n",
        "#     output_nums=1, \n",
        "#     ds=0, \n",
        "#     ae=0, \n",
        "#     ag=0, \n",
        "#     lstm=0, \n",
        "#     alpha=1, \n",
        "#     feature_number=1024, \n",
        "#     is_transconv=True\n",
        "# ).FSC_Net()\n",
        "\n",
        "model.compile(\n",
        "    loss=attention_mse,\n",
        "    optimizer=optimizer,\n",
        "    metrics=[attention_mae]\n",
        ")\n",
        "\n",
        "try:\n",
        "    model.load_weights(model_path)\n",
        "except:\n",
        "    print(\"Checkpoint not found\")\n",
        "    pass\n"
      ]
    },
    {
      "cell_type": "markdown",
      "metadata": {
        "id": "XrJPilPI0YxY"
      },
      "source": [
        "# Training"
      ]
    },
    {
      "cell_type": "code",
      "execution_count": null,
      "metadata": {
        "id": "y_b-8pkT0YxY",
        "outputId": "79b89817-f970-4d54-9637-50943e0cf6bd",
        "colab": {
          "base_uri": "https://localhost:8080/"
        }
      },
      "outputs": [
        {
          "output_type": "stream",
          "name": "stdout",
          "text": [
            "Epoch 1/300\n",
            "513/513 [==============================] - ETA: 0s - loss: 0.0034 - attention_mae: 0.0358\n",
            "Epoch 1: val_loss improved from inf to 0.00460, saving model to /content/drive/MyDrive/Research/TAVI/Models/FSC_NET_I256_B16_LR0.001_CurvToTAWSSGray\n",
            "513/513 [==============================] - 425s 792ms/step - loss: 0.0034 - attention_mae: 0.0358 - val_loss: 0.0046 - val_attention_mae: 0.0505\n",
            "Epoch 2/300\n",
            "513/513 [==============================] - ETA: 0s - loss: 0.0031 - attention_mae: 0.0344\n",
            "Epoch 2: val_loss did not improve from 0.00460\n",
            "513/513 [==============================] - 402s 783ms/step - loss: 0.0031 - attention_mae: 0.0344 - val_loss: 0.0052 - val_attention_mae: 0.0517\n",
            "Epoch 3/300\n",
            "513/513 [==============================] - ETA: 0s - loss: 0.0029 - attention_mae: 0.0333\n",
            "Epoch 3: val_loss did not improve from 0.00460\n",
            "513/513 [==============================] - 402s 783ms/step - loss: 0.0029 - attention_mae: 0.0333 - val_loss: 0.0070 - val_attention_mae: 0.0665\n",
            "Epoch 4/300\n",
            "513/513 [==============================] - ETA: 0s - loss: 0.0027 - attention_mae: 0.0322\n",
            "Epoch 4: val_loss improved from 0.00460 to 0.00378, saving model to /content/drive/MyDrive/Research/TAVI/Models/FSC_NET_I256_B16_LR0.001_CurvToTAWSSGray\n",
            "513/513 [==============================] - 402s 784ms/step - loss: 0.0027 - attention_mae: 0.0322 - val_loss: 0.0038 - val_attention_mae: 0.0445\n",
            "Epoch 5/300\n",
            "513/513 [==============================] - ETA: 0s - loss: 0.0025 - attention_mae: 0.0312\n",
            "Epoch 5: val_loss improved from 0.00378 to 0.00323, saving model to /content/drive/MyDrive/Research/TAVI/Models/FSC_NET_I256_B16_LR0.001_CurvToTAWSSGray\n",
            "513/513 [==============================] - 402s 784ms/step - loss: 0.0025 - attention_mae: 0.0312 - val_loss: 0.0032 - val_attention_mae: 0.0389\n",
            "Epoch 6/300\n",
            "513/513 [==============================] - ETA: 0s - loss: 0.0023 - attention_mae: 0.0303\n",
            "Epoch 6: val_loss did not improve from 0.00323\n",
            "513/513 [==============================] - 402s 783ms/step - loss: 0.0023 - attention_mae: 0.0303 - val_loss: 0.0044 - val_attention_mae: 0.0492\n",
            "Epoch 7/300\n",
            "513/513 [==============================] - ETA: 0s - loss: 0.0022 - attention_mae: 0.0295\n",
            "Epoch 7: val_loss did not improve from 0.00323\n",
            "513/513 [==============================] - 402s 783ms/step - loss: 0.0022 - attention_mae: 0.0295 - val_loss: 0.0036 - val_attention_mae: 0.0432\n",
            "Epoch 8/300\n",
            "513/513 [==============================] - ETA: 0s - loss: 0.0020 - attention_mae: 0.0286\n",
            "Epoch 8: val_loss did not improve from 0.00323\n",
            "513/513 [==============================] - 402s 784ms/step - loss: 0.0020 - attention_mae: 0.0286 - val_loss: 0.0052 - val_attention_mae: 0.0485\n",
            "Epoch 9/300\n",
            "513/513 [==============================] - ETA: 0s - loss: 0.0019 - attention_mae: 0.0277\n",
            "Epoch 9: val_loss improved from 0.00323 to 0.00251, saving model to /content/drive/MyDrive/Research/TAVI/Models/FSC_NET_I256_B16_LR0.001_CurvToTAWSSGray\n",
            "513/513 [==============================] - 403s 785ms/step - loss: 0.0019 - attention_mae: 0.0277 - val_loss: 0.0025 - val_attention_mae: 0.0316\n",
            "Epoch 10/300\n",
            "513/513 [==============================] - ETA: 0s - loss: 0.0017 - attention_mae: 0.0269\n",
            "Epoch 10: val_loss did not improve from 0.00251\n",
            "513/513 [==============================] - 402s 784ms/step - loss: 0.0017 - attention_mae: 0.0269 - val_loss: 0.0047 - val_attention_mae: 0.0447\n",
            "Epoch 11/300\n",
            "513/513 [==============================] - ETA: 0s - loss: 0.0016 - attention_mae: 0.0260\n",
            "Epoch 11: val_loss did not improve from 0.00251\n",
            "513/513 [==============================] - 403s 785ms/step - loss: 0.0016 - attention_mae: 0.0260 - val_loss: 0.0031 - val_attention_mae: 0.0339\n",
            "Epoch 12/300\n",
            "513/513 [==============================] - ETA: 0s - loss: 0.0016 - attention_mae: 0.0256\n",
            "Epoch 12: val_loss did not improve from 0.00251\n",
            "513/513 [==============================] - 402s 784ms/step - loss: 0.0016 - attention_mae: 0.0256 - val_loss: 0.0029 - val_attention_mae: 0.0330\n",
            "Epoch 13/300\n",
            "513/513 [==============================] - ETA: 0s - loss: 0.0014 - attention_mae: 0.0246\n",
            "Epoch 13: val_loss did not improve from 0.00251\n",
            "513/513 [==============================] - 403s 785ms/step - loss: 0.0014 - attention_mae: 0.0246 - val_loss: 0.0161 - val_attention_mae: 0.0861\n",
            "Epoch 14/300\n",
            "513/513 [==============================] - ETA: 0s - loss: 0.0014 - attention_mae: 0.0240\n",
            "Epoch 14: val_loss did not improve from 0.00251\n",
            "513/513 [==============================] - 402s 784ms/step - loss: 0.0014 - attention_mae: 0.0240 - val_loss: 0.0026 - val_attention_mae: 0.0306\n",
            "Epoch 15/300\n",
            "513/513 [==============================] - ETA: 0s - loss: 0.0013 - attention_mae: 0.0236\n",
            "Epoch 15: val_loss did not improve from 0.00251\n",
            "513/513 [==============================] - 402s 784ms/step - loss: 0.0013 - attention_mae: 0.0236 - val_loss: 0.0077 - val_attention_mae: 0.0546\n",
            "Epoch 16/300\n",
            "513/513 [==============================] - ETA: 0s - loss: 0.0013 - attention_mae: 0.0233\n",
            "Epoch 16: val_loss did not improve from 0.00251\n",
            "513/513 [==============================] - 402s 784ms/step - loss: 0.0013 - attention_mae: 0.0233 - val_loss: 0.0113 - val_attention_mae: 0.0700\n",
            "Epoch 17/300\n",
            "513/513 [==============================] - ETA: 0s - loss: 0.0012 - attention_mae: 0.0227\n",
            "Epoch 17: val_loss did not improve from 0.00251\n",
            "513/513 [==============================] - 402s 784ms/step - loss: 0.0012 - attention_mae: 0.0227 - val_loss: 0.0098 - val_attention_mae: 0.0698\n",
            "Epoch 18/300\n",
            "513/513 [==============================] - ETA: 0s - loss: 0.0011 - attention_mae: 0.0219\n",
            "Epoch 18: val_loss improved from 0.00251 to 0.00246, saving model to /content/drive/MyDrive/Research/TAVI/Models/FSC_NET_I256_B16_LR0.001_CurvToTAWSSGray\n",
            "513/513 [==============================] - 402s 785ms/step - loss: 0.0011 - attention_mae: 0.0219 - val_loss: 0.0025 - val_attention_mae: 0.0301\n",
            "Epoch 19/300\n",
            "513/513 [==============================] - ETA: 0s - loss: 0.0011 - attention_mae: 0.0211\n",
            "Epoch 19: val_loss did not improve from 0.00246\n",
            "513/513 [==============================] - 402s 785ms/step - loss: 0.0011 - attention_mae: 0.0211 - val_loss: 0.0100 - val_attention_mae: 0.0710\n",
            "Epoch 20/300\n",
            "513/513 [==============================] - ETA: 0s - loss: 0.0010 - attention_mae: 0.0205\n",
            "Epoch 20: val_loss did not improve from 0.00246\n",
            "513/513 [==============================] - 403s 786ms/step - loss: 0.0010 - attention_mae: 0.0205 - val_loss: 0.0067 - val_attention_mae: 0.0548\n",
            "Epoch 21/300\n",
            "513/513 [==============================] - ETA: 0s - loss: 9.4364e-04 - attention_mae: 0.0198\n",
            "Epoch 21: val_loss did not improve from 0.00246\n",
            "513/513 [==============================] - 403s 785ms/step - loss: 9.4364e-04 - attention_mae: 0.0198 - val_loss: 0.0090 - val_attention_mae: 0.0687\n",
            "Epoch 22/300\n",
            "513/513 [==============================] - ETA: 0s - loss: 9.0710e-04 - attention_mae: 0.0194\n",
            "Epoch 22: val_loss improved from 0.00246 to 0.00171, saving model to /content/drive/MyDrive/Research/TAVI/Models/FSC_NET_I256_B16_LR0.001_CurvToTAWSSGray\n",
            "513/513 [==============================] - 403s 785ms/step - loss: 9.0710e-04 - attention_mae: 0.0194 - val_loss: 0.0017 - val_attention_mae: 0.0246\n",
            "Epoch 23/300\n",
            "513/513 [==============================] - ETA: 0s - loss: 9.0087e-04 - attention_mae: 0.0193\n",
            "Epoch 23: val_loss did not improve from 0.00171\n",
            "513/513 [==============================] - 402s 784ms/step - loss: 9.0087e-04 - attention_mae: 0.0193 - val_loss: 0.0052 - val_attention_mae: 0.0450\n",
            "Epoch 24/300\n",
            "513/513 [==============================] - ETA: 0s - loss: 8.8813e-04 - attention_mae: 0.0192\n",
            "Epoch 24: val_loss did not improve from 0.00171\n",
            "513/513 [==============================] - 402s 784ms/step - loss: 8.8813e-04 - attention_mae: 0.0192 - val_loss: 0.0122 - val_attention_mae: 0.0817\n",
            "Epoch 25/300\n",
            "513/513 [==============================] - ETA: 0s - loss: 8.7552e-04 - attention_mae: 0.0190\n",
            "Epoch 25: val_loss did not improve from 0.00171\n",
            "513/513 [==============================] - 402s 784ms/step - loss: 8.7552e-04 - attention_mae: 0.0190 - val_loss: 0.0021 - val_attention_mae: 0.0290\n",
            "Epoch 26/300\n",
            "513/513 [==============================] - ETA: 0s - loss: 8.5001e-04 - attention_mae: 0.0188\n",
            "Epoch 26: val_loss did not improve from 0.00171\n",
            "513/513 [==============================] - 402s 784ms/step - loss: 8.5001e-04 - attention_mae: 0.0188 - val_loss: 0.0050 - val_attention_mae: 0.0422\n",
            "Epoch 27/300\n",
            "513/513 [==============================] - ETA: 0s - loss: 8.0743e-04 - attention_mae: 0.0182\n",
            "Epoch 27: val_loss did not improve from 0.00171\n",
            "513/513 [==============================] - 402s 784ms/step - loss: 8.0743e-04 - attention_mae: 0.0182 - val_loss: 0.0022 - val_attention_mae: 0.0301\n",
            "Epoch 28/300\n",
            "513/513 [==============================] - ETA: 0s - loss: 7.6116e-04 - attention_mae: 0.0178\n",
            "Epoch 28: val_loss did not improve from 0.00171\n",
            "513/513 [==============================] - 402s 783ms/step - loss: 7.6116e-04 - attention_mae: 0.0178 - val_loss: 0.0048 - val_attention_mae: 0.0409\n",
            "Epoch 29/300\n",
            "513/513 [==============================] - ETA: 0s - loss: 7.2554e-04 - attention_mae: 0.0174\n",
            "Epoch 29: val_loss did not improve from 0.00171\n",
            "513/513 [==============================] - 402s 783ms/step - loss: 7.2554e-04 - attention_mae: 0.0174 - val_loss: 0.0022 - val_attention_mae: 0.0307\n",
            "Epoch 30/300\n",
            "513/513 [==============================] - ETA: 0s - loss: 6.9896e-04 - attention_mae: 0.0170\n",
            "Epoch 30: val_loss did not improve from 0.00171\n",
            "513/513 [==============================] - 402s 783ms/step - loss: 6.9896e-04 - attention_mae: 0.0170 - val_loss: 0.0020 - val_attention_mae: 0.0279\n",
            "Epoch 31/300\n",
            "513/513 [==============================] - ETA: 0s - loss: 6.7651e-04 - attention_mae: 0.0166\n",
            "Epoch 31: val_loss improved from 0.00171 to 0.00171, saving model to /content/drive/MyDrive/Research/TAVI/Models/FSC_NET_I256_B16_LR0.001_CurvToTAWSSGray\n",
            "513/513 [==============================] - 403s 785ms/step - loss: 6.7651e-04 - attention_mae: 0.0166 - val_loss: 0.0017 - val_attention_mae: 0.0254\n",
            "Epoch 32/300\n",
            "513/513 [==============================] - ETA: 0s - loss: 6.5248e-04 - attention_mae: 0.0163\n",
            "Epoch 32: val_loss improved from 0.00171 to 0.00156, saving model to /content/drive/MyDrive/Research/TAVI/Models/FSC_NET_I256_B16_LR0.001_CurvToTAWSSGray\n",
            "513/513 [==============================] - 403s 785ms/step - loss: 6.5248e-04 - attention_mae: 0.0163 - val_loss: 0.0016 - val_attention_mae: 0.0233\n",
            "Epoch 33/300\n",
            "513/513 [==============================] - ETA: 0s - loss: 6.3522e-04 - attention_mae: 0.0160\n",
            "Epoch 33: val_loss did not improve from 0.00156\n",
            "513/513 [==============================] - 402s 784ms/step - loss: 6.3522e-04 - attention_mae: 0.0160 - val_loss: 0.0102 - val_attention_mae: 0.0730\n",
            "Epoch 34/300\n",
            "513/513 [==============================] - ETA: 0s - loss: 6.3031e-04 - attention_mae: 0.0160\n",
            "Epoch 34: val_loss improved from 0.00156 to 0.00153, saving model to /content/drive/MyDrive/Research/TAVI/Models/FSC_NET_I256_B16_LR0.001_CurvToTAWSSGray\n",
            "513/513 [==============================] - 402s 785ms/step - loss: 6.3031e-04 - attention_mae: 0.0160 - val_loss: 0.0015 - val_attention_mae: 0.0234\n",
            "Epoch 35/300\n",
            "513/513 [==============================] - ETA: 0s - loss: 6.5931e-04 - attention_mae: 0.0164\n",
            "Epoch 35: val_loss did not improve from 0.00153\n",
            "513/513 [==============================] - 402s 784ms/step - loss: 6.5931e-04 - attention_mae: 0.0164 - val_loss: 0.0018 - val_attention_mae: 0.0251\n",
            "Epoch 36/300\n",
            "513/513 [==============================] - ETA: 0s - loss: 6.8715e-04 - attention_mae: 0.0168\n",
            "Epoch 36: val_loss did not improve from 0.00153\n",
            "513/513 [==============================] - 402s 784ms/step - loss: 6.8715e-04 - attention_mae: 0.0168 - val_loss: 0.0195 - val_attention_mae: 0.1097\n",
            "Epoch 37/300\n",
            "513/513 [==============================] - ETA: 0s - loss: 6.7617e-04 - attention_mae: 0.0166\n",
            "Epoch 37: val_loss did not improve from 0.00153\n",
            "513/513 [==============================] - 402s 784ms/step - loss: 6.7617e-04 - attention_mae: 0.0166 - val_loss: 0.0054 - val_attention_mae: 0.0465\n",
            "Epoch 38/300\n",
            "513/513 [==============================] - ETA: 0s - loss: 5.9408e-04 - attention_mae: 0.0155\n",
            "Epoch 38: val_loss did not improve from 0.00153\n",
            "513/513 [==============================] - 403s 785ms/step - loss: 5.9408e-04 - attention_mae: 0.0155 - val_loss: 0.0022 - val_attention_mae: 0.0278\n",
            "Epoch 39/300\n",
            "513/513 [==============================] - ETA: 0s - loss: 5.3776e-04 - attention_mae: 0.0147\n",
            "Epoch 39: val_loss did not improve from 0.00153\n",
            "513/513 [==============================] - 402s 784ms/step - loss: 5.3776e-04 - attention_mae: 0.0147 - val_loss: 0.0043 - val_attention_mae: 0.0391\n",
            "Epoch 40/300\n",
            "513/513 [==============================] - ETA: 0s - loss: 5.1866e-04 - attention_mae: 0.0145\n",
            "Epoch 40: val_loss improved from 0.00153 to 0.00148, saving model to /content/drive/MyDrive/Research/TAVI/Models/FSC_NET_I256_B16_LR0.001_CurvToTAWSSGray\n",
            "513/513 [==============================] - 404s 788ms/step - loss: 5.1866e-04 - attention_mae: 0.0145 - val_loss: 0.0015 - val_attention_mae: 0.0240\n",
            "Epoch 41/300\n",
            "513/513 [==============================] - ETA: 0s - loss: 5.1115e-04 - attention_mae: 0.0143\n",
            "Epoch 41: val_loss improved from 0.00148 to 0.00134, saving model to /content/drive/MyDrive/Research/TAVI/Models/FSC_NET_I256_B16_LR0.001_CurvToTAWSSGray\n",
            "513/513 [==============================] - 403s 785ms/step - loss: 5.1115e-04 - attention_mae: 0.0143 - val_loss: 0.0013 - val_attention_mae: 0.0220\n",
            "Epoch 42/300\n",
            "513/513 [==============================] - ETA: 0s - loss: 5.2106e-04 - attention_mae: 0.0145\n",
            "Epoch 42: val_loss did not improve from 0.00134\n",
            "513/513 [==============================] - 403s 785ms/step - loss: 5.2106e-04 - attention_mae: 0.0145 - val_loss: 0.0014 - val_attention_mae: 0.0229\n",
            "Epoch 43/300\n",
            "513/513 [==============================] - ETA: 0s - loss: 5.5783e-04 - attention_mae: 0.0149\n",
            "Epoch 43: val_loss did not improve from 0.00134\n",
            "513/513 [==============================] - 402s 784ms/step - loss: 5.5783e-04 - attention_mae: 0.0149 - val_loss: 0.0018 - val_attention_mae: 0.0290\n",
            "Epoch 44/300\n",
            "513/513 [==============================] - ETA: 0s - loss: 5.7867e-04 - attention_mae: 0.0153\n",
            "Epoch 44: val_loss did not improve from 0.00134\n",
            "513/513 [==============================] - 402s 784ms/step - loss: 5.7867e-04 - attention_mae: 0.0153 - val_loss: 0.0020 - val_attention_mae: 0.0328\n",
            "Epoch 45/300\n",
            "513/513 [==============================] - ETA: 0s - loss: 5.7042e-04 - attention_mae: 0.0152\n",
            "Epoch 45: val_loss did not improve from 0.00134\n",
            "513/513 [==============================] - 402s 785ms/step - loss: 5.7042e-04 - attention_mae: 0.0152 - val_loss: 0.0016 - val_attention_mae: 0.0264\n",
            "Epoch 46/300\n",
            "513/513 [==============================] - ETA: 0s - loss: 5.4801e-04 - attention_mae: 0.0149\n",
            "Epoch 46: val_loss improved from 0.00134 to 0.00122, saving model to /content/drive/MyDrive/Research/TAVI/Models/FSC_NET_I256_B16_LR0.001_CurvToTAWSSGray\n",
            "513/513 [==============================] - 402s 785ms/step - loss: 5.4801e-04 - attention_mae: 0.0149 - val_loss: 0.0012 - val_attention_mae: 0.0211\n",
            "Epoch 47/300\n",
            "513/513 [==============================] - ETA: 0s - loss: 5.0923e-04 - attention_mae: 0.0143\n",
            "Epoch 47: val_loss did not improve from 0.00122\n",
            "513/513 [==============================] - 402s 783ms/step - loss: 5.0923e-04 - attention_mae: 0.0143 - val_loss: 0.0125 - val_attention_mae: 0.0857\n",
            "Epoch 48/300\n",
            "513/513 [==============================] - ETA: 0s - loss: 4.6749e-04 - attention_mae: 0.0137\n",
            "Epoch 48: val_loss did not improve from 0.00122\n",
            "513/513 [==============================] - 402s 783ms/step - loss: 4.6749e-04 - attention_mae: 0.0137 - val_loss: 0.0125 - val_attention_mae: 0.0837\n",
            "Epoch 49/300\n",
            "513/513 [==============================] - ETA: 0s - loss: 4.3739e-04 - attention_mae: 0.0132\n",
            "Epoch 49: val_loss did not improve from 0.00122\n",
            "513/513 [==============================] - 402s 784ms/step - loss: 4.3739e-04 - attention_mae: 0.0132 - val_loss: 0.0013 - val_attention_mae: 0.0219\n",
            "Epoch 50/300\n",
            "513/513 [==============================] - ETA: 0s - loss: 4.2463e-04 - attention_mae: 0.0130\n",
            "Epoch 50: val_loss did not improve from 0.00122\n",
            "513/513 [==============================] - 402s 784ms/step - loss: 4.2463e-04 - attention_mae: 0.0130 - val_loss: 0.0014 - val_attention_mae: 0.0228\n",
            "Epoch 51/300\n",
            "513/513 [==============================] - ETA: 0s - loss: 4.2481e-04 - attention_mae: 0.0129\n",
            "Epoch 51: val_loss did not improve from 0.00122\n",
            "513/513 [==============================] - 403s 785ms/step - loss: 4.2481e-04 - attention_mae: 0.0129 - val_loss: 0.0017 - val_attention_mae: 0.0270\n",
            "Epoch 52/300\n",
            "513/513 [==============================] - ETA: 0s - loss: 4.3422e-04 - attention_mae: 0.0130\n",
            "Epoch 52: val_loss did not improve from 0.00122\n",
            "513/513 [==============================] - 403s 785ms/step - loss: 4.3422e-04 - attention_mae: 0.0130 - val_loss: 0.0017 - val_attention_mae: 0.0271\n",
            "Epoch 53/300\n",
            "513/513 [==============================] - ETA: 0s - loss: 4.4968e-04 - attention_mae: 0.0133\n",
            "Epoch 53: val_loss did not improve from 0.00122\n",
            "513/513 [==============================] - 402s 785ms/step - loss: 4.4968e-04 - attention_mae: 0.0133 - val_loss: 0.0017 - val_attention_mae: 0.0262\n",
            "Epoch 54/300\n",
            "513/513 [==============================] - ETA: 0s - loss: 4.7508e-04 - attention_mae: 0.0137\n",
            "Epoch 54: val_loss did not improve from 0.00122\n",
            "513/513 [==============================] - 402s 784ms/step - loss: 4.7508e-04 - attention_mae: 0.0137 - val_loss: 0.0014 - val_attention_mae: 0.0220\n",
            "Epoch 55/300\n",
            "513/513 [==============================] - ETA: 0s - loss: 4.9561e-04 - attention_mae: 0.0140\n",
            "Epoch 55: val_loss did not improve from 0.00122\n",
            "513/513 [==============================] - 402s 783ms/step - loss: 4.9561e-04 - attention_mae: 0.0140 - val_loss: 0.0013 - val_attention_mae: 0.0216\n",
            "Epoch 56/300\n",
            "513/513 [==============================] - ETA: 0s - loss: 4.9671e-04 - attention_mae: 0.0141\n",
            "Epoch 56: val_loss did not improve from 0.00122\n",
            "513/513 [==============================] - 402s 783ms/step - loss: 4.9671e-04 - attention_mae: 0.0141 - val_loss: 0.0013 - val_attention_mae: 0.0211\n",
            "Epoch 57/300\n",
            "513/513 [==============================] - ETA: 0s - loss: 4.8764e-04 - attention_mae: 0.0140\n",
            "Epoch 57: val_loss did not improve from 0.00122\n",
            "513/513 [==============================] - 402s 783ms/step - loss: 4.8764e-04 - attention_mae: 0.0140 - val_loss: 0.0174 - val_attention_mae: 0.1047\n",
            "Epoch 58/300\n",
            "513/513 [==============================] - ETA: 0s - loss: 4.6400e-04 - attention_mae: 0.0136\n",
            "Epoch 58: val_loss did not improve from 0.00122\n",
            "513/513 [==============================] - 402s 783ms/step - loss: 4.6400e-04 - attention_mae: 0.0136 - val_loss: 0.0123 - val_attention_mae: 0.0844\n",
            "Epoch 59/300\n",
            "513/513 [==============================] - ETA: 0s - loss: 4.3304e-04 - attention_mae: 0.0130\n",
            "Epoch 59: val_loss did not improve from 0.00122\n",
            "513/513 [==============================] - 402s 783ms/step - loss: 4.3304e-04 - attention_mae: 0.0130 - val_loss: 0.0014 - val_attention_mae: 0.0217\n",
            "Epoch 60/300\n",
            "513/513 [==============================] - ETA: 0s - loss: 4.0627e-04 - attention_mae: 0.0126\n",
            "Epoch 60: val_loss improved from 0.00122 to 0.00118, saving model to /content/drive/MyDrive/Research/TAVI/Models/FSC_NET_I256_B16_LR0.001_CurvToTAWSSGray\n",
            "513/513 [==============================] - 402s 785ms/step - loss: 4.0627e-04 - attention_mae: 0.0126 - val_loss: 0.0012 - val_attention_mae: 0.0197\n",
            "Epoch 61/300\n",
            "513/513 [==============================] - ETA: 0s - loss: 3.9023e-04 - attention_mae: 0.0123\n",
            "Epoch 61: val_loss improved from 0.00118 to 0.00117, saving model to /content/drive/MyDrive/Research/TAVI/Models/FSC_NET_I256_B16_LR0.001_CurvToTAWSSGray\n",
            "513/513 [==============================] - 402s 784ms/step - loss: 3.9023e-04 - attention_mae: 0.0123 - val_loss: 0.0012 - val_attention_mae: 0.0207\n",
            "Epoch 62/300\n",
            "513/513 [==============================] - ETA: 0s - loss: 3.8670e-04 - attention_mae: 0.0123\n",
            "Epoch 62: val_loss did not improve from 0.00117\n",
            "513/513 [==============================] - 402s 784ms/step - loss: 3.8670e-04 - attention_mae: 0.0123 - val_loss: 0.0012 - val_attention_mae: 0.0223\n",
            "Epoch 63/300\n",
            "513/513 [==============================] - ETA: 0s - loss: 3.9126e-04 - attention_mae: 0.0124\n",
            "Epoch 63: val_loss did not improve from 0.00117\n",
            "513/513 [==============================] - 402s 783ms/step - loss: 3.9126e-04 - attention_mae: 0.0124 - val_loss: 0.0013 - val_attention_mae: 0.0228\n",
            "Epoch 64/300\n",
            "513/513 [==============================] - ETA: 0s - loss: 3.9016e-04 - attention_mae: 0.0123\n",
            "Epoch 64: val_loss did not improve from 0.00117\n",
            "513/513 [==============================] - 402s 783ms/step - loss: 3.9016e-04 - attention_mae: 0.0123 - val_loss: 0.0014 - val_attention_mae: 0.0231\n",
            "Epoch 65/300\n",
            "513/513 [==============================] - ETA: 0s - loss: 3.8573e-04 - attention_mae: 0.0122\n",
            "Epoch 65: val_loss did not improve from 0.00117\n",
            "513/513 [==============================] - 402s 783ms/step - loss: 3.8573e-04 - attention_mae: 0.0122 - val_loss: 0.0219 - val_attention_mae: 0.1202\n",
            "Epoch 66/300\n",
            "513/513 [==============================] - ETA: 0s - loss: 3.8225e-04 - attention_mae: 0.0120\n",
            "Epoch 66: val_loss did not improve from 0.00117\n",
            "513/513 [==============================] - 402s 783ms/step - loss: 3.8225e-04 - attention_mae: 0.0120 - val_loss: 0.0012 - val_attention_mae: 0.0217\n",
            "Epoch 67/300\n",
            "513/513 [==============================] - ETA: 0s - loss: 3.7731e-04 - attention_mae: 0.0119\n",
            "Epoch 67: val_loss did not improve from 0.00117\n",
            "513/513 [==============================] - 402s 783ms/step - loss: 3.7731e-04 - attention_mae: 0.0119 - val_loss: 0.0014 - val_attention_mae: 0.0241\n",
            "Epoch 68/300\n",
            "513/513 [==============================] - ETA: 0s - loss: 3.8041e-04 - attention_mae: 0.0120\n",
            "Epoch 68: val_loss did not improve from 0.00117\n",
            "513/513 [==============================] - 402s 783ms/step - loss: 3.8041e-04 - attention_mae: 0.0120 - val_loss: 0.0013 - val_attention_mae: 0.0225\n",
            "Epoch 69/300\n",
            "513/513 [==============================] - ETA: 0s - loss: 3.8669e-04 - attention_mae: 0.0123\n",
            "Epoch 69: val_loss did not improve from 0.00117\n",
            "513/513 [==============================] - 402s 783ms/step - loss: 3.8669e-04 - attention_mae: 0.0123 - val_loss: 0.0175 - val_attention_mae: 0.1055\n",
            "Epoch 70/300\n",
            "513/513 [==============================] - ETA: 0s - loss: 3.8330e-04 - attention_mae: 0.0123\n",
            "Epoch 70: val_loss did not improve from 0.00117\n",
            "513/513 [==============================] - 402s 783ms/step - loss: 3.8330e-04 - attention_mae: 0.0123 - val_loss: 0.0037 - val_attention_mae: 0.0401\n",
            "Epoch 71/300\n",
            "513/513 [==============================] - ETA: 0s - loss: 3.6672e-04 - attention_mae: 0.0120\n",
            "Epoch 71: val_loss did not improve from 0.00117\n",
            "513/513 [==============================] - 402s 783ms/step - loss: 3.6672e-04 - attention_mae: 0.0120 - val_loss: 0.0092 - val_attention_mae: 0.0718\n",
            "Epoch 72/300\n",
            "513/513 [==============================] - ETA: 0s - loss: 3.4087e-04 - attention_mae: 0.0114\n",
            "Epoch 72: val_loss did not improve from 0.00117\n",
            "513/513 [==============================] - 402s 783ms/step - loss: 3.4087e-04 - attention_mae: 0.0114 - val_loss: 0.0014 - val_attention_mae: 0.0235\n",
            "Epoch 73/300\n",
            "513/513 [==============================] - ETA: 0s - loss: 3.2589e-04 - attention_mae: 0.0110\n",
            "Epoch 73: val_loss did not improve from 0.00117\n",
            "513/513 [==============================] - 402s 783ms/step - loss: 3.2589e-04 - attention_mae: 0.0110 - val_loss: 0.0012 - val_attention_mae: 0.0203\n",
            "Epoch 74/300\n",
            "513/513 [==============================] - ETA: 0s - loss: 3.1432e-04 - attention_mae: 0.0108\n",
            "Epoch 74: val_loss improved from 0.00117 to 0.00116, saving model to /content/drive/MyDrive/Research/TAVI/Models/FSC_NET_I256_B16_LR0.001_CurvToTAWSSGray\n",
            "513/513 [==============================] - 402s 784ms/step - loss: 3.1432e-04 - attention_mae: 0.0108 - val_loss: 0.0012 - val_attention_mae: 0.0200\n",
            "Epoch 75/300\n",
            "513/513 [==============================] - ETA: 0s - loss: 3.0926e-04 - attention_mae: 0.0106\n",
            "Epoch 75: val_loss did not improve from 0.00116\n",
            "513/513 [==============================] - 402s 784ms/step - loss: 3.0926e-04 - attention_mae: 0.0106 - val_loss: 0.0012 - val_attention_mae: 0.0201\n",
            "Epoch 76/300\n",
            "513/513 [==============================] - ETA: 0s - loss: 3.0835e-04 - attention_mae: 0.0107\n",
            "Epoch 76: val_loss did not improve from 0.00116\n",
            "513/513 [==============================] - 402s 783ms/step - loss: 3.0835e-04 - attention_mae: 0.0107 - val_loss: 0.0022 - val_attention_mae: 0.0283\n",
            "Epoch 77/300\n",
            "513/513 [==============================] - ETA: 0s - loss: 3.0895e-04 - attention_mae: 0.0107\n",
            "Epoch 77: val_loss did not improve from 0.00116\n",
            "513/513 [==============================] - 403s 785ms/step - loss: 3.0895e-04 - attention_mae: 0.0107 - val_loss: 0.0112 - val_attention_mae: 0.0822\n",
            "Epoch 78/300\n",
            "513/513 [==============================] - ETA: 0s - loss: 3.1067e-04 - attention_mae: 0.0108\n",
            "Epoch 78: val_loss did not improve from 0.00116\n",
            "513/513 [==============================] - 403s 786ms/step - loss: 3.1067e-04 - attention_mae: 0.0108 - val_loss: 0.0042 - val_attention_mae: 0.0428\n",
            "Epoch 79/300\n",
            "513/513 [==============================] - ETA: 0s - loss: 3.1770e-04 - attention_mae: 0.0110\n",
            "Epoch 79: val_loss did not improve from 0.00116\n",
            "513/513 [==============================] - 402s 784ms/step - loss: 3.1770e-04 - attention_mae: 0.0110 - val_loss: 0.0050 - val_attention_mae: 0.0457\n",
            "Epoch 80/300\n",
            "513/513 [==============================] - ETA: 0s - loss: 3.3224e-04 - attention_mae: 0.0112\n",
            "Epoch 80: val_loss did not improve from 0.00116\n",
            "513/513 [==============================] - 402s 784ms/step - loss: 3.3224e-04 - attention_mae: 0.0112 - val_loss: 0.0012 - val_attention_mae: 0.0209\n",
            "Epoch 81/300\n",
            "513/513 [==============================] - ETA: 0s - loss: 3.3832e-04 - attention_mae: 0.0112\n",
            "Epoch 81: val_loss did not improve from 0.00116\n",
            "513/513 [==============================] - 402s 783ms/step - loss: 3.3832e-04 - attention_mae: 0.0112 - val_loss: 0.0012 - val_attention_mae: 0.0201\n",
            "Epoch 82/300\n",
            "513/513 [==============================] - ETA: 0s - loss: 3.3379e-04 - attention_mae: 0.0111\n",
            "Epoch 82: val_loss improved from 0.00116 to 0.00114, saving model to /content/drive/MyDrive/Research/TAVI/Models/FSC_NET_I256_B16_LR0.001_CurvToTAWSSGray\n",
            "513/513 [==============================] - 402s 784ms/step - loss: 3.3379e-04 - attention_mae: 0.0111 - val_loss: 0.0011 - val_attention_mae: 0.0196\n",
            "Epoch 83/300\n",
            "513/513 [==============================] - ETA: 0s - loss: 3.1793e-04 - attention_mae: 0.0108\n",
            "Epoch 83: val_loss improved from 0.00114 to 0.00111, saving model to /content/drive/MyDrive/Research/TAVI/Models/FSC_NET_I256_B16_LR0.001_CurvToTAWSSGray\n",
            "513/513 [==============================] - 402s 784ms/step - loss: 3.1793e-04 - attention_mae: 0.0108 - val_loss: 0.0011 - val_attention_mae: 0.0193\n",
            "Epoch 84/300\n",
            "513/513 [==============================] - ETA: 0s - loss: 3.0007e-04 - attention_mae: 0.0106\n",
            "Epoch 84: val_loss improved from 0.00111 to 0.00110, saving model to /content/drive/MyDrive/Research/TAVI/Models/FSC_NET_I256_B16_LR0.001_CurvToTAWSSGray\n",
            "513/513 [==============================] - 402s 784ms/step - loss: 3.0007e-04 - attention_mae: 0.0106 - val_loss: 0.0011 - val_attention_mae: 0.0196\n",
            "Epoch 85/300\n",
            "513/513 [==============================] - ETA: 0s - loss: 2.8826e-04 - attention_mae: 0.0103\n",
            "Epoch 85: val_loss did not improve from 0.00110\n",
            "513/513 [==============================] - 402s 783ms/step - loss: 2.8826e-04 - attention_mae: 0.0103 - val_loss: 0.0011 - val_attention_mae: 0.0199\n",
            "Epoch 86/300\n",
            "513/513 [==============================] - ETA: 0s - loss: 2.8062e-04 - attention_mae: 0.0102\n",
            "Epoch 86: val_loss did not improve from 0.00110\n",
            "513/513 [==============================] - 402s 783ms/step - loss: 2.8062e-04 - attention_mae: 0.0102 - val_loss: 0.0012 - val_attention_mae: 0.0211\n",
            "Epoch 87/300\n",
            "513/513 [==============================] - ETA: 0s - loss: 2.7999e-04 - attention_mae: 0.0101\n",
            "Epoch 87: val_loss did not improve from 0.00110\n",
            "513/513 [==============================] - 402s 783ms/step - loss: 2.7999e-04 - attention_mae: 0.0101 - val_loss: 0.0012 - val_attention_mae: 0.0210\n",
            "Epoch 88/300\n",
            "513/513 [==============================] - ETA: 0s - loss: 2.8337e-04 - attention_mae: 0.0101\n",
            "Epoch 88: val_loss did not improve from 0.00110\n",
            "513/513 [==============================] - 402s 783ms/step - loss: 2.8337e-04 - attention_mae: 0.0101 - val_loss: 0.0065 - val_attention_mae: 0.0600\n",
            "Epoch 89/300\n",
            "513/513 [==============================] - ETA: 0s - loss: 2.8895e-04 - attention_mae: 0.0102\n",
            "Epoch 89: val_loss did not improve from 0.00110\n",
            "513/513 [==============================] - 403s 786ms/step - loss: 2.8895e-04 - attention_mae: 0.0102 - val_loss: 0.0040 - val_attention_mae: 0.0422\n",
            "Epoch 90/300\n",
            "513/513 [==============================] - ETA: 0s - loss: 2.9267e-04 - attention_mae: 0.0103\n",
            "Epoch 90: val_loss did not improve from 0.00110\n",
            "513/513 [==============================] - 402s 783ms/step - loss: 2.9267e-04 - attention_mae: 0.0103 - val_loss: 0.0088 - val_attention_mae: 0.0690\n",
            "Epoch 91/300\n",
            "513/513 [==============================] - ETA: 0s - loss: 2.9166e-04 - attention_mae: 0.0104\n",
            "Epoch 91: val_loss did not improve from 0.00110\n",
            "513/513 [==============================] - 402s 783ms/step - loss: 2.9166e-04 - attention_mae: 0.0104 - val_loss: 0.0011 - val_attention_mae: 0.0194\n",
            "Epoch 92/300\n",
            "513/513 [==============================] - ETA: 0s - loss: 2.8934e-04 - attention_mae: 0.0105\n",
            "Epoch 92: val_loss did not improve from 0.00110\n",
            "513/513 [==============================] - 402s 783ms/step - loss: 2.8934e-04 - attention_mae: 0.0105 - val_loss: 0.0033 - val_attention_mae: 0.0343\n",
            "Epoch 93/300\n",
            "513/513 [==============================] - ETA: 0s - loss: 2.8759e-04 - attention_mae: 0.0104\n",
            "Epoch 93: val_loss did not improve from 0.00110\n",
            "513/513 [==============================] - 402s 783ms/step - loss: 2.8759e-04 - attention_mae: 0.0104 - val_loss: 0.0147 - val_attention_mae: 0.0975\n",
            "Epoch 94/300\n",
            "513/513 [==============================] - ETA: 0s - loss: 2.8198e-04 - attention_mae: 0.0102\n",
            "Epoch 94: val_loss did not improve from 0.00110\n",
            "513/513 [==============================] - 402s 783ms/step - loss: 2.8198e-04 - attention_mae: 0.0102 - val_loss: 0.0158 - val_attention_mae: 0.1038\n",
            "Epoch 95/300\n",
            "513/513 [==============================] - ETA: 0s - loss: 2.7306e-04 - attention_mae: 0.0099\n",
            "Epoch 95: val_loss did not improve from 0.00110\n",
            "513/513 [==============================] - 402s 783ms/step - loss: 2.7306e-04 - attention_mae: 0.0099 - val_loss: 0.0109 - val_attention_mae: 0.0831\n",
            "Epoch 96/300\n",
            "513/513 [==============================] - ETA: 0s - loss: 2.6409e-04 - attention_mae: 0.0096\n",
            "Epoch 96: val_loss improved from 0.00110 to 0.00102, saving model to /content/drive/MyDrive/Research/TAVI/Models/FSC_NET_I256_B16_LR0.001_CurvToTAWSSGray\n",
            "513/513 [==============================] - 402s 784ms/step - loss: 2.6409e-04 - attention_mae: 0.0096 - val_loss: 0.0010 - val_attention_mae: 0.0182\n",
            "Epoch 97/300\n",
            "513/513 [==============================] - ETA: 0s - loss: 2.5887e-04 - attention_mae: 0.0094\n",
            "Epoch 97: val_loss did not improve from 0.00102\n",
            "513/513 [==============================] - 402s 783ms/step - loss: 2.5887e-04 - attention_mae: 0.0094 - val_loss: 0.0011 - val_attention_mae: 0.0186\n",
            "Epoch 98/300\n",
            "513/513 [==============================] - ETA: 0s - loss: 2.5438e-04 - attention_mae: 0.0093\n",
            "Epoch 98: val_loss did not improve from 0.00102\n",
            "513/513 [==============================] - 402s 783ms/step - loss: 2.5438e-04 - attention_mae: 0.0093 - val_loss: 0.0118 - val_attention_mae: 0.0820\n",
            "Epoch 99/300\n",
            "513/513 [==============================] - ETA: 0s - loss: 2.4941e-04 - attention_mae: 0.0093\n",
            "Epoch 99: val_loss did not improve from 0.00102\n",
            "513/513 [==============================] - 402s 783ms/step - loss: 2.4941e-04 - attention_mae: 0.0093 - val_loss: 0.0155 - val_attention_mae: 0.1024\n",
            "Epoch 100/300\n",
            "513/513 [==============================] - ETA: 0s - loss: 2.4446e-04 - attention_mae: 0.0093\n",
            "Epoch 100: val_loss did not improve from 0.00102\n",
            "513/513 [==============================] - 402s 783ms/step - loss: 2.4446e-04 - attention_mae: 0.0093 - val_loss: 0.0084 - val_attention_mae: 0.0710\n",
            "Epoch 101/300\n",
            "513/513 [==============================] - ETA: 0s - loss: 2.4265e-04 - attention_mae: 0.0093\n",
            "Epoch 101: val_loss did not improve from 0.00102\n",
            "513/513 [==============================] - 402s 783ms/step - loss: 2.4265e-04 - attention_mae: 0.0093 - val_loss: 0.0053 - val_attention_mae: 0.0511\n",
            "Epoch 102/300\n",
            "513/513 [==============================] - ETA: 0s - loss: 2.4425e-04 - attention_mae: 0.0095\n",
            "Epoch 102: val_loss did not improve from 0.00102\n",
            "513/513 [==============================] - 403s 786ms/step - loss: 2.4425e-04 - attention_mae: 0.0095 - val_loss: 0.0065 - val_attention_mae: 0.0522\n",
            "Epoch 103/300\n",
            "513/513 [==============================] - ETA: 0s - loss: 2.4663e-04 - attention_mae: 0.0095\n",
            "Epoch 103: val_loss did not improve from 0.00102\n",
            "513/513 [==============================] - 402s 783ms/step - loss: 2.4663e-04 - attention_mae: 0.0095 - val_loss: 0.0144 - val_attention_mae: 0.0923\n",
            "Epoch 104/300\n",
            "513/513 [==============================] - ETA: 0s - loss: 2.5289e-04 - attention_mae: 0.0095\n",
            "Epoch 104: val_loss did not improve from 0.00102\n",
            "513/513 [==============================] - 402s 783ms/step - loss: 2.5289e-04 - attention_mae: 0.0095 - val_loss: 0.0011 - val_attention_mae: 0.0188\n",
            "Epoch 105/300\n",
            "513/513 [==============================] - ETA: 0s - loss: 2.6114e-04 - attention_mae: 0.0096\n",
            "Epoch 105: val_loss did not improve from 0.00102\n",
            "513/513 [==============================] - 402s 783ms/step - loss: 2.6114e-04 - attention_mae: 0.0096 - val_loss: 0.0011 - val_attention_mae: 0.0189\n",
            "Epoch 106/300\n",
            "513/513 [==============================] - ETA: 0s - loss: 2.6507e-04 - attention_mae: 0.0097\n",
            "Epoch 106: val_loss did not improve from 0.00102\n",
            "513/513 [==============================] - 403s 786ms/step - loss: 2.6507e-04 - attention_mae: 0.0097 - val_loss: 0.0152 - val_attention_mae: 0.1026\n",
            "Epoch 107/300\n",
            "513/513 [==============================] - ETA: 0s - loss: 2.6164e-04 - attention_mae: 0.0096\n",
            "Epoch 107: val_loss did not improve from 0.00102\n",
            "513/513 [==============================] - 402s 783ms/step - loss: 2.6164e-04 - attention_mae: 0.0096 - val_loss: 0.0065 - val_attention_mae: 0.0566\n",
            "Epoch 108/300\n",
            "513/513 [==============================] - ETA: 0s - loss: 2.5576e-04 - attention_mae: 0.0095\n",
            "Epoch 108: val_loss did not improve from 0.00102\n",
            "513/513 [==============================] - 402s 783ms/step - loss: 2.5576e-04 - attention_mae: 0.0095 - val_loss: 0.0011 - val_attention_mae: 0.0191\n",
            "Epoch 109/300\n",
            "513/513 [==============================] - ETA: 0s - loss: 2.6032e-04 - attention_mae: 0.0096\n",
            "Epoch 109: val_loss did not improve from 0.00102\n",
            "513/513 [==============================] - 402s 783ms/step - loss: 2.6032e-04 - attention_mae: 0.0096 - val_loss: 0.0012 - val_attention_mae: 0.0193\n",
            "Epoch 110/300\n",
            "513/513 [==============================] - ETA: 0s - loss: 2.4738e-04 - attention_mae: 0.0094\n",
            "Epoch 110: val_loss did not improve from 0.00102\n",
            "513/513 [==============================] - 402s 783ms/step - loss: 2.4738e-04 - attention_mae: 0.0094 - val_loss: 0.0108 - val_attention_mae: 0.0803\n",
            "Epoch 111/300\n",
            "513/513 [==============================] - ETA: 0s - loss: 2.3793e-04 - attention_mae: 0.0092\n",
            "Epoch 111: val_loss did not improve from 0.00102\n",
            "513/513 [==============================] - 402s 783ms/step - loss: 2.3793e-04 - attention_mae: 0.0092 - val_loss: 0.0011 - val_attention_mae: 0.0186\n",
            "Epoch 112/300\n",
            "513/513 [==============================] - ETA: 0s - loss: 2.3129e-04 - attention_mae: 0.0091\n",
            "Epoch 112: val_loss did not improve from 0.00102\n",
            "513/513 [==============================] - 402s 783ms/step - loss: 2.3129e-04 - attention_mae: 0.0091 - val_loss: 0.0140 - val_attention_mae: 0.0939\n",
            "Epoch 113/300\n",
            "513/513 [==============================] - ETA: 0s - loss: 2.2767e-04 - attention_mae: 0.0090\n",
            "Epoch 113: val_loss did not improve from 0.00102\n",
            "513/513 [==============================] - 402s 783ms/step - loss: 2.2767e-04 - attention_mae: 0.0090 - val_loss: 0.0177 - val_attention_mae: 0.1114\n",
            "Epoch 114/300\n",
            "513/513 [==============================] - ETA: 0s - loss: 2.2773e-04 - attention_mae: 0.0090\n",
            "Epoch 114: val_loss did not improve from 0.00102\n",
            "513/513 [==============================] - 402s 783ms/step - loss: 2.2773e-04 - attention_mae: 0.0090 - val_loss: 0.0093 - val_attention_mae: 0.0741\n",
            "Epoch 115/300\n",
            "513/513 [==============================] - ETA: 0s - loss: 2.2635e-04 - attention_mae: 0.0089\n",
            "Epoch 115: val_loss did not improve from 0.00102\n",
            "513/513 [==============================] - 403s 786ms/step - loss: 2.2635e-04 - attention_mae: 0.0089 - val_loss: 0.0012 - val_attention_mae: 0.0209\n",
            "Epoch 116/300\n",
            "513/513 [==============================] - ETA: 0s - loss: 2.2709e-04 - attention_mae: 0.0089\n",
            "Epoch 116: val_loss did not improve from 0.00102\n",
            "513/513 [==============================] - 403s 786ms/step - loss: 2.2709e-04 - attention_mae: 0.0089 - val_loss: 0.0023 - val_attention_mae: 0.0301\n",
            "Epoch 117/300\n",
            "513/513 [==============================] - ETA: 0s - loss: 2.2615e-04 - attention_mae: 0.0089\n",
            "Epoch 117: val_loss did not improve from 0.00102\n",
            "513/513 [==============================] - 402s 783ms/step - loss: 2.2615e-04 - attention_mae: 0.0089 - val_loss: 0.0046 - val_attention_mae: 0.0437\n",
            "Epoch 118/300\n",
            "513/513 [==============================] - ETA: 0s - loss: 2.2598e-04 - attention_mae: 0.0089\n",
            "Epoch 118: val_loss did not improve from 0.00102\n",
            "513/513 [==============================] - 402s 783ms/step - loss: 2.2598e-04 - attention_mae: 0.0089 - val_loss: 0.0011 - val_attention_mae: 0.0183\n",
            "Epoch 119/300\n",
            "513/513 [==============================] - ETA: 0s - loss: 2.2466e-04 - attention_mae: 0.0088\n",
            "Epoch 119: val_loss did not improve from 0.00102\n",
            "513/513 [==============================] - 402s 783ms/step - loss: 2.2466e-04 - attention_mae: 0.0088 - val_loss: 0.0010 - val_attention_mae: 0.0182\n",
            "Epoch 120/300\n",
            "513/513 [==============================] - ETA: 0s - loss: 2.2232e-04 - attention_mae: 0.0087\n",
            "Epoch 120: val_loss did not improve from 0.00102\n",
            "513/513 [==============================] - 402s 783ms/step - loss: 2.2232e-04 - attention_mae: 0.0087 - val_loss: 0.0010 - val_attention_mae: 0.0183\n",
            "Epoch 121/300\n",
            "513/513 [==============================] - ETA: 0s - loss: 2.1897e-04 - attention_mae: 0.0086\n",
            "Epoch 121: val_loss did not improve from 0.00102\n",
            "513/513 [==============================] - 402s 783ms/step - loss: 2.1897e-04 - attention_mae: 0.0086 - val_loss: 0.0011 - val_attention_mae: 0.0183\n",
            "Epoch 122/300\n",
            "513/513 [==============================] - ETA: 0s - loss: 2.1705e-04 - attention_mae: 0.0086\n",
            "Epoch 122: val_loss did not improve from 0.00102\n",
            "513/513 [==============================] - 402s 783ms/step - loss: 2.1705e-04 - attention_mae: 0.0086 - val_loss: 0.0058 - val_attention_mae: 0.0524\n",
            "Epoch 123/300\n",
            "513/513 [==============================] - ETA: 0s - loss: 2.1898e-04 - attention_mae: 0.0087\n",
            "Epoch 123: val_loss did not improve from 0.00102\n",
            "513/513 [==============================] - 402s 783ms/step - loss: 2.1898e-04 - attention_mae: 0.0087 - val_loss: 0.0057 - val_attention_mae: 0.0534\n",
            "Epoch 124/300\n",
            "513/513 [==============================] - ETA: 0s - loss: 2.2164e-04 - attention_mae: 0.0088\n",
            "Epoch 124: val_loss did not improve from 0.00102\n",
            "513/513 [==============================] - 402s 783ms/step - loss: 2.2164e-04 - attention_mae: 0.0088 - val_loss: 0.0012 - val_attention_mae: 0.0213\n",
            "Epoch 125/300\n",
            "513/513 [==============================] - ETA: 0s - loss: 2.2525e-04 - attention_mae: 0.0089\n",
            "Epoch 125: val_loss did not improve from 0.00102\n",
            "513/513 [==============================] - 403s 786ms/step - loss: 2.2525e-04 - attention_mae: 0.0089 - val_loss: 0.0031 - val_attention_mae: 0.0348\n",
            "Epoch 126/300\n",
            "513/513 [==============================] - ETA: 0s - loss: 2.2709e-04 - attention_mae: 0.0090\n",
            "Epoch 126: val_loss did not improve from 0.00102\n",
            "513/513 [==============================] - 402s 783ms/step - loss: 2.2709e-04 - attention_mae: 0.0090 - val_loss: 0.0011 - val_attention_mae: 0.0189\n"
          ]
        }
      ],
      "source": [
        "history = model.fit(\n",
        "    train_batches,\n",
        "    validation_data=test_batches,\n",
        "    epochs=N_EPOCHS,\n",
        "    batch_size=BATCH_SIZE,\n",
        "    callbacks=callbacks,\n",
        "    verbose=1\n",
        ")\n"
      ]
    },
    {
      "cell_type": "markdown",
      "source": [
        "# Save Model"
      ],
      "metadata": {
        "id": "HT68Jm8AEluI"
      }
    },
    {
      "cell_type": "code",
      "source": [
        "timestamp = datetime.datetime.now().strftime('%b-%d-%I:%M%p')\n",
        "if not os.path.exists(model_path):\n",
        "    os.makedirs(model_path)\n",
        "\n",
        "model.save(os.path.join(model_path, timestamp))"
      ],
      "metadata": {
        "id": "xfUmF_1mEjXH",
        "colab": {
          "base_uri": "https://localhost:8080/"
        },
        "outputId": "486bfed1-b005-49b9-e7d6-844f89922f12"
      },
      "execution_count": null,
      "outputs": [
        {
          "output_type": "stream",
          "name": "stderr",
          "text": [
            "WARNING:absl:Found untraced functions such as _jit_compiled_convolution_op, _jit_compiled_convolution_op, _jit_compiled_convolution_op, _jit_compiled_convolution_op, _jit_compiled_convolution_op while saving (showing 5 of 35). These functions will not be directly callable after loading.\n"
          ]
        }
      ]
    },
    {
      "cell_type": "markdown",
      "source": [
        "# Save Predictions"
      ],
      "metadata": {
        "id": "-PWi28iOKpXe"
      }
    },
    {
      "cell_type": "code",
      "execution_count": null,
      "metadata": {
        "id": "LLDJf93Z0YxY",
        "colab": {
          "base_uri": "https://localhost:8080/"
        },
        "outputId": "a55e4f0b-fd40-4a46-e6a5-88229c8b2656"
      },
      "outputs": [
        {
          "output_type": "stream",
          "name": "stderr",
          "text": [
            "\r0it [00:00, ?it/s]"
          ]
        },
        {
          "output_type": "stream",
          "name": "stdout",
          "text": [
            "1/1 [==============================] - 2s 2s/step\n"
          ]
        },
        {
          "output_type": "stream",
          "name": "stderr",
          "text": [
            "\r1it [00:03,  3.45s/it]"
          ]
        },
        {
          "output_type": "stream",
          "name": "stdout",
          "text": [
            "1/1 [==============================] - 0s 20ms/step\n"
          ]
        },
        {
          "output_type": "stream",
          "name": "stderr",
          "text": [
            "\r2it [00:03,  1.68s/it]"
          ]
        },
        {
          "output_type": "stream",
          "name": "stdout",
          "text": [
            "1/1 [==============================] - 0s 21ms/step\n"
          ]
        },
        {
          "output_type": "stream",
          "name": "stderr",
          "text": [
            "\r3it [00:04,  1.08s/it]"
          ]
        },
        {
          "output_type": "stream",
          "name": "stdout",
          "text": [
            "1/1 [==============================] - 0s 22ms/step\n"
          ]
        },
        {
          "output_type": "stream",
          "name": "stderr",
          "text": [
            "\r4it [00:04,  1.27it/s]"
          ]
        },
        {
          "output_type": "stream",
          "name": "stdout",
          "text": [
            "1/1 [==============================] - 0s 19ms/step\n"
          ]
        },
        {
          "output_type": "stream",
          "name": "stderr",
          "text": [
            "\r5it [00:04,  1.67it/s]"
          ]
        },
        {
          "output_type": "stream",
          "name": "stdout",
          "text": [
            "1/1 [==============================] - 0s 19ms/step\n"
          ]
        },
        {
          "output_type": "stream",
          "name": "stderr",
          "text": [
            "\r6it [00:05,  1.57it/s]"
          ]
        },
        {
          "output_type": "stream",
          "name": "stdout",
          "text": [
            "1/1 [==============================] - 0s 21ms/step\n"
          ]
        },
        {
          "output_type": "stream",
          "name": "stderr",
          "text": [
            "\r7it [00:05,  1.94it/s]"
          ]
        },
        {
          "output_type": "stream",
          "name": "stdout",
          "text": [
            "1/1 [==============================] - 0s 20ms/step\n"
          ]
        },
        {
          "output_type": "stream",
          "name": "stderr",
          "text": [
            "\r8it [00:06,  2.20it/s]"
          ]
        },
        {
          "output_type": "stream",
          "name": "stdout",
          "text": [
            "1/1 [==============================] - 0s 19ms/step\n"
          ]
        },
        {
          "output_type": "stream",
          "name": "stderr",
          "text": [
            "\r9it [00:06,  2.44it/s]"
          ]
        },
        {
          "output_type": "stream",
          "name": "stdout",
          "text": [
            "1/1 [==============================] - 0s 19ms/step\n"
          ]
        },
        {
          "output_type": "stream",
          "name": "stderr",
          "text": [
            "\r10it [00:06,  2.73it/s]"
          ]
        },
        {
          "output_type": "stream",
          "name": "stdout",
          "text": [
            "1/1 [==============================] - 0s 20ms/step\n"
          ]
        },
        {
          "output_type": "stream",
          "name": "stderr",
          "text": [
            "\r11it [00:06,  3.00it/s]"
          ]
        },
        {
          "output_type": "stream",
          "name": "stdout",
          "text": [
            "1/1 [==============================] - 0s 21ms/step\n"
          ]
        },
        {
          "output_type": "stream",
          "name": "stderr",
          "text": [
            "\r12it [00:07,  2.95it/s]"
          ]
        },
        {
          "output_type": "stream",
          "name": "stdout",
          "text": [
            "1/1 [==============================] - 0s 19ms/step\n"
          ]
        },
        {
          "output_type": "stream",
          "name": "stderr",
          "text": [
            "\r13it [00:07,  3.09it/s]"
          ]
        },
        {
          "output_type": "stream",
          "name": "stdout",
          "text": [
            "1/1 [==============================] - 0s 21ms/step\n"
          ]
        },
        {
          "output_type": "stream",
          "name": "stderr",
          "text": [
            "\r14it [00:07,  3.01it/s]"
          ]
        },
        {
          "output_type": "stream",
          "name": "stdout",
          "text": [
            "1/1 [==============================] - 0s 19ms/step\n"
          ]
        },
        {
          "output_type": "stream",
          "name": "stderr",
          "text": [
            "\r15it [00:08,  3.17it/s]"
          ]
        },
        {
          "output_type": "stream",
          "name": "stdout",
          "text": [
            "1/1 [==============================] - 0s 31ms/step\n"
          ]
        },
        {
          "output_type": "stream",
          "name": "stderr",
          "text": [
            "\r16it [00:08,  3.05it/s]"
          ]
        },
        {
          "output_type": "stream",
          "name": "stdout",
          "text": [
            "1/1 [==============================] - 0s 26ms/step\n"
          ]
        },
        {
          "output_type": "stream",
          "name": "stderr",
          "text": [
            "\r17it [00:08,  3.10it/s]"
          ]
        },
        {
          "output_type": "stream",
          "name": "stdout",
          "text": [
            "1/1 [==============================] - 0s 20ms/step\n"
          ]
        },
        {
          "output_type": "stream",
          "name": "stderr",
          "text": [
            "\r18it [00:09,  3.08it/s]"
          ]
        },
        {
          "output_type": "stream",
          "name": "stdout",
          "text": [
            "1/1 [==============================] - 0s 21ms/step\n"
          ]
        },
        {
          "output_type": "stream",
          "name": "stderr",
          "text": [
            "\r19it [00:09,  3.07it/s]"
          ]
        },
        {
          "output_type": "stream",
          "name": "stdout",
          "text": [
            "1/1 [==============================] - 0s 21ms/step\n"
          ]
        },
        {
          "output_type": "stream",
          "name": "stderr",
          "text": [
            "\r20it [00:09,  3.24it/s]"
          ]
        },
        {
          "output_type": "stream",
          "name": "stdout",
          "text": [
            "1/1 [==============================] - 0s 19ms/step\n"
          ]
        },
        {
          "output_type": "stream",
          "name": "stderr",
          "text": [
            "\r21it [00:10,  3.39it/s]"
          ]
        },
        {
          "output_type": "stream",
          "name": "stdout",
          "text": [
            "1/1 [==============================] - 0s 23ms/step\n"
          ]
        },
        {
          "output_type": "stream",
          "name": "stderr",
          "text": [
            "\r22it [00:10,  3.50it/s]"
          ]
        },
        {
          "output_type": "stream",
          "name": "stdout",
          "text": [
            "1/1 [==============================] - 0s 20ms/step\n"
          ]
        },
        {
          "output_type": "stream",
          "name": "stderr",
          "text": [
            "\r23it [00:10,  3.36it/s]"
          ]
        },
        {
          "output_type": "stream",
          "name": "stdout",
          "text": [
            "1/1 [==============================] - 0s 19ms/step\n"
          ]
        },
        {
          "output_type": "stream",
          "name": "stderr",
          "text": [
            "\r24it [00:10,  3.49it/s]"
          ]
        },
        {
          "output_type": "stream",
          "name": "stdout",
          "text": [
            "1/1 [==============================] - 0s 23ms/step\n"
          ]
        },
        {
          "output_type": "stream",
          "name": "stderr",
          "text": [
            "\r25it [00:11,  3.35it/s]"
          ]
        },
        {
          "output_type": "stream",
          "name": "stdout",
          "text": [
            "1/1 [==============================] - 0s 23ms/step\n"
          ]
        },
        {
          "output_type": "stream",
          "name": "stderr",
          "text": [
            "\r26it [00:11,  3.22it/s]"
          ]
        },
        {
          "output_type": "stream",
          "name": "stdout",
          "text": [
            "1/1 [==============================] - 0s 20ms/step\n"
          ]
        },
        {
          "output_type": "stream",
          "name": "stderr",
          "text": [
            "\r27it [00:11,  3.17it/s]"
          ]
        },
        {
          "output_type": "stream",
          "name": "stdout",
          "text": [
            "1/1 [==============================] - 0s 19ms/step\n"
          ]
        },
        {
          "output_type": "stream",
          "name": "stderr",
          "text": [
            "\r28it [00:12,  3.13it/s]"
          ]
        },
        {
          "output_type": "stream",
          "name": "stdout",
          "text": [
            "1/1 [==============================] - 0s 20ms/step\n"
          ]
        },
        {
          "output_type": "stream",
          "name": "stderr",
          "text": [
            "\r29it [00:12,  3.30it/s]"
          ]
        },
        {
          "output_type": "stream",
          "name": "stdout",
          "text": [
            "1/1 [==============================] - 0s 20ms/step\n"
          ]
        },
        {
          "output_type": "stream",
          "name": "stderr",
          "text": [
            "\r30it [00:12,  3.33it/s]"
          ]
        },
        {
          "output_type": "stream",
          "name": "stdout",
          "text": [
            "1/1 [==============================] - 0s 21ms/step\n"
          ]
        },
        {
          "output_type": "stream",
          "name": "stderr",
          "text": [
            "\r31it [00:13,  3.23it/s]"
          ]
        },
        {
          "output_type": "stream",
          "name": "stdout",
          "text": [
            "1/1 [==============================] - 0s 20ms/step\n"
          ]
        },
        {
          "output_type": "stream",
          "name": "stderr",
          "text": [
            "\r32it [00:13,  3.32it/s]"
          ]
        },
        {
          "output_type": "stream",
          "name": "stdout",
          "text": [
            "1/1 [==============================] - 0s 29ms/step\n"
          ]
        },
        {
          "output_type": "stream",
          "name": "stderr",
          "text": [
            "\r33it [00:13,  3.07it/s]"
          ]
        },
        {
          "output_type": "stream",
          "name": "stdout",
          "text": [
            "1/1 [==============================] - 0s 19ms/step\n"
          ]
        },
        {
          "output_type": "stream",
          "name": "stderr",
          "text": [
            "\r34it [00:14,  3.05it/s]"
          ]
        },
        {
          "output_type": "stream",
          "name": "stdout",
          "text": [
            "1/1 [==============================] - 0s 20ms/step\n"
          ]
        },
        {
          "output_type": "stream",
          "name": "stderr",
          "text": [
            "\r35it [00:14,  3.17it/s]"
          ]
        },
        {
          "output_type": "stream",
          "name": "stdout",
          "text": [
            "1/1 [==============================] - 0s 19ms/step\n"
          ]
        },
        {
          "output_type": "stream",
          "name": "stderr",
          "text": [
            "\r36it [00:14,  3.19it/s]"
          ]
        },
        {
          "output_type": "stream",
          "name": "stdout",
          "text": [
            "1/1 [==============================] - 0s 20ms/step\n"
          ]
        },
        {
          "output_type": "stream",
          "name": "stderr",
          "text": [
            "\r37it [00:15,  3.08it/s]"
          ]
        },
        {
          "output_type": "stream",
          "name": "stdout",
          "text": [
            "1/1 [==============================] - 0s 22ms/step\n"
          ]
        },
        {
          "output_type": "stream",
          "name": "stderr",
          "text": [
            "\r38it [00:15,  3.12it/s]"
          ]
        },
        {
          "output_type": "stream",
          "name": "stdout",
          "text": [
            "1/1 [==============================] - 0s 21ms/step\n"
          ]
        },
        {
          "output_type": "stream",
          "name": "stderr",
          "text": [
            "\r39it [00:15,  3.16it/s]"
          ]
        },
        {
          "output_type": "stream",
          "name": "stdout",
          "text": [
            "1/1 [==============================] - 0s 20ms/step\n"
          ]
        },
        {
          "output_type": "stream",
          "name": "stderr",
          "text": [
            "\r40it [00:16,  2.55it/s]"
          ]
        },
        {
          "output_type": "stream",
          "name": "stdout",
          "text": [
            "1/1 [==============================] - 0s 21ms/step\n"
          ]
        },
        {
          "output_type": "stream",
          "name": "stderr",
          "text": [
            "\r41it [00:16,  2.69it/s]"
          ]
        },
        {
          "output_type": "stream",
          "name": "stdout",
          "text": [
            "1/1 [==============================] - 0s 19ms/step\n"
          ]
        },
        {
          "output_type": "stream",
          "name": "stderr",
          "text": [
            "\r42it [00:16,  2.93it/s]"
          ]
        },
        {
          "output_type": "stream",
          "name": "stdout",
          "text": [
            "1/1 [==============================] - 0s 21ms/step\n"
          ]
        },
        {
          "output_type": "stream",
          "name": "stderr",
          "text": [
            "\r43it [00:17,  3.15it/s]"
          ]
        },
        {
          "output_type": "stream",
          "name": "stdout",
          "text": [
            "1/1 [==============================] - 0s 21ms/step\n"
          ]
        },
        {
          "output_type": "stream",
          "name": "stderr",
          "text": [
            "\r44it [00:17,  3.21it/s]"
          ]
        },
        {
          "output_type": "stream",
          "name": "stdout",
          "text": [
            "1/1 [==============================] - 0s 21ms/step\n"
          ]
        },
        {
          "output_type": "stream",
          "name": "stderr",
          "text": [
            "\r45it [00:17,  3.34it/s]"
          ]
        },
        {
          "output_type": "stream",
          "name": "stdout",
          "text": [
            "1/1 [==============================] - 0s 25ms/step\n"
          ]
        },
        {
          "output_type": "stream",
          "name": "stderr",
          "text": [
            "\r46it [00:18,  3.22it/s]"
          ]
        },
        {
          "output_type": "stream",
          "name": "stdout",
          "text": [
            "1/1 [==============================] - 0s 19ms/step\n"
          ]
        },
        {
          "output_type": "stream",
          "name": "stderr",
          "text": [
            "\r47it [00:18,  3.12it/s]"
          ]
        },
        {
          "output_type": "stream",
          "name": "stdout",
          "text": [
            "1/1 [==============================] - 0s 19ms/step\n"
          ]
        },
        {
          "output_type": "stream",
          "name": "stderr",
          "text": [
            "\r48it [00:18,  3.31it/s]"
          ]
        },
        {
          "output_type": "stream",
          "name": "stdout",
          "text": [
            "1/1 [==============================] - 0s 36ms/step\n"
          ]
        },
        {
          "output_type": "stream",
          "name": "stderr",
          "text": [
            "\r49it [00:19,  2.99it/s]"
          ]
        },
        {
          "output_type": "stream",
          "name": "stdout",
          "text": [
            "1/1 [==============================] - 0s 20ms/step\n"
          ]
        },
        {
          "output_type": "stream",
          "name": "stderr",
          "text": [
            "\r50it [00:19,  3.20it/s]"
          ]
        },
        {
          "output_type": "stream",
          "name": "stdout",
          "text": [
            "1/1 [==============================] - 0s 21ms/step\n"
          ]
        },
        {
          "output_type": "stream",
          "name": "stderr",
          "text": [
            "\r51it [00:19,  3.14it/s]"
          ]
        },
        {
          "output_type": "stream",
          "name": "stdout",
          "text": [
            "1/1 [==============================] - 0s 21ms/step\n"
          ]
        },
        {
          "output_type": "stream",
          "name": "stderr",
          "text": [
            "\r52it [00:20,  3.11it/s]"
          ]
        },
        {
          "output_type": "stream",
          "name": "stdout",
          "text": [
            "1/1 [==============================] - 0s 20ms/step\n"
          ]
        },
        {
          "output_type": "stream",
          "name": "stderr",
          "text": [
            "\r53it [00:20,  3.26it/s]"
          ]
        },
        {
          "output_type": "stream",
          "name": "stdout",
          "text": [
            "1/1 [==============================] - 0s 21ms/step\n"
          ]
        },
        {
          "output_type": "stream",
          "name": "stderr",
          "text": [
            "\r54it [00:20,  3.22it/s]"
          ]
        },
        {
          "output_type": "stream",
          "name": "stdout",
          "text": [
            "1/1 [==============================] - 0s 19ms/step\n"
          ]
        },
        {
          "output_type": "stream",
          "name": "stderr",
          "text": [
            "\r55it [00:20,  3.18it/s]"
          ]
        },
        {
          "output_type": "stream",
          "name": "stdout",
          "text": [
            "1/1 [==============================] - 0s 20ms/step\n"
          ]
        },
        {
          "output_type": "stream",
          "name": "stderr",
          "text": [
            "\r56it [00:21,  3.14it/s]"
          ]
        },
        {
          "output_type": "stream",
          "name": "stdout",
          "text": [
            "1/1 [==============================] - 0s 20ms/step\n"
          ]
        },
        {
          "output_type": "stream",
          "name": "stderr",
          "text": [
            "\r57it [00:21,  3.10it/s]"
          ]
        },
        {
          "output_type": "stream",
          "name": "stdout",
          "text": [
            "1/1 [==============================] - 0s 19ms/step\n"
          ]
        },
        {
          "output_type": "stream",
          "name": "stderr",
          "text": [
            "\r58it [00:21,  3.25it/s]"
          ]
        },
        {
          "output_type": "stream",
          "name": "stdout",
          "text": [
            "1/1 [==============================] - 0s 19ms/step\n"
          ]
        },
        {
          "output_type": "stream",
          "name": "stderr",
          "text": [
            "\r59it [00:22,  3.21it/s]"
          ]
        },
        {
          "output_type": "stream",
          "name": "stdout",
          "text": [
            "1/1 [==============================] - 0s 20ms/step\n"
          ]
        },
        {
          "output_type": "stream",
          "name": "stderr",
          "text": [
            "\r60it [00:22,  3.21it/s]"
          ]
        },
        {
          "output_type": "stream",
          "name": "stdout",
          "text": [
            "1/1 [==============================] - 0s 20ms/step\n"
          ]
        },
        {
          "output_type": "stream",
          "name": "stderr",
          "text": [
            "\r61it [00:22,  3.38it/s]"
          ]
        },
        {
          "output_type": "stream",
          "name": "stdout",
          "text": [
            "1/1 [==============================] - 0s 21ms/step\n"
          ]
        },
        {
          "output_type": "stream",
          "name": "stderr",
          "text": [
            "\r62it [00:23,  3.49it/s]"
          ]
        },
        {
          "output_type": "stream",
          "name": "stdout",
          "text": [
            "1/1 [==============================] - 0s 21ms/step\n"
          ]
        },
        {
          "output_type": "stream",
          "name": "stderr",
          "text": [
            "\r63it [00:23,  3.58it/s]"
          ]
        },
        {
          "output_type": "stream",
          "name": "stdout",
          "text": [
            "1/1 [==============================] - 0s 22ms/step\n"
          ]
        },
        {
          "output_type": "stream",
          "name": "stderr",
          "text": [
            "\r64it [00:23,  3.59it/s]"
          ]
        },
        {
          "output_type": "stream",
          "name": "stdout",
          "text": [
            "1/1 [==============================] - 0s 37ms/step\n"
          ]
        },
        {
          "output_type": "stream",
          "name": "stderr",
          "text": [
            "\r65it [00:23,  3.36it/s]"
          ]
        },
        {
          "output_type": "stream",
          "name": "stdout",
          "text": [
            "1/1 [==============================] - 0s 21ms/step\n"
          ]
        },
        {
          "output_type": "stream",
          "name": "stderr",
          "text": [
            "\r66it [00:24,  3.23it/s]"
          ]
        },
        {
          "output_type": "stream",
          "name": "stdout",
          "text": [
            "1/1 [==============================] - 0s 21ms/step\n"
          ]
        },
        {
          "output_type": "stream",
          "name": "stderr",
          "text": [
            "\r67it [00:24,  3.24it/s]"
          ]
        },
        {
          "output_type": "stream",
          "name": "stdout",
          "text": [
            "1/1 [==============================] - 0s 20ms/step\n"
          ]
        },
        {
          "output_type": "stream",
          "name": "stderr",
          "text": [
            "\r68it [00:24,  3.31it/s]"
          ]
        },
        {
          "output_type": "stream",
          "name": "stdout",
          "text": [
            "1/1 [==============================] - 0s 22ms/step\n"
          ]
        },
        {
          "output_type": "stream",
          "name": "stderr",
          "text": [
            "\r69it [00:25,  3.21it/s]"
          ]
        },
        {
          "output_type": "stream",
          "name": "stdout",
          "text": [
            "1/1 [==============================] - 0s 19ms/step\n"
          ]
        },
        {
          "output_type": "stream",
          "name": "stderr",
          "text": [
            "\r70it [00:25,  3.16it/s]"
          ]
        },
        {
          "output_type": "stream",
          "name": "stdout",
          "text": [
            "1/1 [==============================] - 0s 19ms/step\n"
          ]
        },
        {
          "output_type": "stream",
          "name": "stderr",
          "text": [
            "\r71it [00:25,  3.12it/s]"
          ]
        },
        {
          "output_type": "stream",
          "name": "stdout",
          "text": [
            "1/1 [==============================] - 0s 21ms/step\n"
          ]
        },
        {
          "output_type": "stream",
          "name": "stderr",
          "text": [
            "\r72it [00:26,  3.09it/s]"
          ]
        },
        {
          "output_type": "stream",
          "name": "stdout",
          "text": [
            "1/1 [==============================] - 0s 20ms/step\n"
          ]
        },
        {
          "output_type": "stream",
          "name": "stderr",
          "text": [
            "\r73it [00:26,  2.52it/s]"
          ]
        },
        {
          "output_type": "stream",
          "name": "stdout",
          "text": [
            "1/1 [==============================] - 0s 20ms/step\n"
          ]
        },
        {
          "output_type": "stream",
          "name": "stderr",
          "text": [
            "\r74it [00:26,  2.78it/s]"
          ]
        },
        {
          "output_type": "stream",
          "name": "stdout",
          "text": [
            "1/1 [==============================] - 0s 30ms/step\n"
          ]
        },
        {
          "output_type": "stream",
          "name": "stderr",
          "text": [
            "\r75it [00:27,  2.98it/s]"
          ]
        },
        {
          "output_type": "stream",
          "name": "stdout",
          "text": [
            "1/1 [==============================] - 0s 21ms/step\n"
          ]
        },
        {
          "output_type": "stream",
          "name": "stderr",
          "text": [
            "\r76it [00:27,  3.16it/s]"
          ]
        },
        {
          "output_type": "stream",
          "name": "stdout",
          "text": [
            "1/1 [==============================] - 0s 21ms/step\n"
          ]
        },
        {
          "output_type": "stream",
          "name": "stderr",
          "text": [
            "\r77it [00:27,  3.12it/s]"
          ]
        },
        {
          "output_type": "stream",
          "name": "stdout",
          "text": [
            "1/1 [==============================] - 0s 20ms/step\n"
          ]
        },
        {
          "output_type": "stream",
          "name": "stderr",
          "text": [
            "\r78it [00:28,  3.29it/s]"
          ]
        },
        {
          "output_type": "stream",
          "name": "stdout",
          "text": [
            "1/1 [==============================] - 0s 20ms/step\n"
          ]
        },
        {
          "output_type": "stream",
          "name": "stderr",
          "text": [
            "\r79it [00:28,  3.22it/s]"
          ]
        },
        {
          "output_type": "stream",
          "name": "stdout",
          "text": [
            "1/1 [==============================] - 0s 20ms/step\n"
          ]
        },
        {
          "output_type": "stream",
          "name": "stderr",
          "text": [
            "\r80it [00:28,  3.14it/s]"
          ]
        },
        {
          "output_type": "stream",
          "name": "stdout",
          "text": [
            "1/1 [==============================] - 0s 28ms/step\n"
          ]
        },
        {
          "output_type": "stream",
          "name": "stderr",
          "text": [
            "\r81it [00:29,  2.94it/s]"
          ]
        },
        {
          "output_type": "stream",
          "name": "stdout",
          "text": [
            "1/1 [==============================] - 0s 21ms/step\n"
          ]
        },
        {
          "output_type": "stream",
          "name": "stderr",
          "text": [
            "\r82it [00:29,  3.14it/s]"
          ]
        },
        {
          "output_type": "stream",
          "name": "stdout",
          "text": [
            "1/1 [==============================] - 0s 20ms/step\n"
          ]
        },
        {
          "output_type": "stream",
          "name": "stderr",
          "text": [
            "\r83it [00:29,  3.11it/s]"
          ]
        },
        {
          "output_type": "stream",
          "name": "stdout",
          "text": [
            "1/1 [==============================] - 0s 20ms/step\n"
          ]
        },
        {
          "output_type": "stream",
          "name": "stderr",
          "text": [
            "\r84it [00:30,  3.09it/s]"
          ]
        },
        {
          "output_type": "stream",
          "name": "stdout",
          "text": [
            "1/1 [==============================] - 0s 20ms/step\n"
          ]
        },
        {
          "output_type": "stream",
          "name": "stderr",
          "text": [
            "\r85it [00:30,  3.08it/s]"
          ]
        },
        {
          "output_type": "stream",
          "name": "stdout",
          "text": [
            "1/1 [==============================] - 0s 19ms/step\n"
          ]
        },
        {
          "output_type": "stream",
          "name": "stderr",
          "text": [
            "\r86it [00:30,  3.06it/s]"
          ]
        },
        {
          "output_type": "stream",
          "name": "stdout",
          "text": [
            "1/1 [==============================] - 0s 23ms/step\n"
          ]
        },
        {
          "output_type": "stream",
          "name": "stderr",
          "text": [
            "\r87it [00:31,  3.09it/s]"
          ]
        },
        {
          "output_type": "stream",
          "name": "stdout",
          "text": [
            "1/1 [==============================] - 0s 20ms/step\n"
          ]
        },
        {
          "output_type": "stream",
          "name": "stderr",
          "text": [
            "\r88it [00:31,  3.06it/s]"
          ]
        },
        {
          "output_type": "stream",
          "name": "stdout",
          "text": [
            "1/1 [==============================] - 0s 21ms/step\n"
          ]
        },
        {
          "output_type": "stream",
          "name": "stderr",
          "text": [
            "\r89it [00:31,  3.03it/s]"
          ]
        },
        {
          "output_type": "stream",
          "name": "stdout",
          "text": [
            "1/1 [==============================] - 0s 20ms/step\n"
          ]
        },
        {
          "output_type": "stream",
          "name": "stderr",
          "text": [
            "\r90it [00:32,  3.17it/s]"
          ]
        },
        {
          "output_type": "stream",
          "name": "stdout",
          "text": [
            "1/1 [==============================] - 0s 20ms/step\n"
          ]
        },
        {
          "output_type": "stream",
          "name": "stderr",
          "text": [
            "\r91it [00:32,  3.14it/s]"
          ]
        },
        {
          "output_type": "stream",
          "name": "stdout",
          "text": [
            "1/1 [==============================] - 0s 20ms/step\n"
          ]
        },
        {
          "output_type": "stream",
          "name": "stderr",
          "text": [
            "\r92it [00:32,  3.08it/s]"
          ]
        },
        {
          "output_type": "stream",
          "name": "stdout",
          "text": [
            "1/1 [==============================] - 0s 21ms/step\n"
          ]
        },
        {
          "output_type": "stream",
          "name": "stderr",
          "text": [
            "\r93it [00:33,  3.05it/s]"
          ]
        },
        {
          "output_type": "stream",
          "name": "stdout",
          "text": [
            "1/1 [==============================] - 0s 22ms/step\n"
          ]
        },
        {
          "output_type": "stream",
          "name": "stderr",
          "text": [
            "\r94it [00:33,  3.03it/s]"
          ]
        },
        {
          "output_type": "stream",
          "name": "stdout",
          "text": [
            "1/1 [==============================] - 0s 20ms/step\n"
          ]
        },
        {
          "output_type": "stream",
          "name": "stderr",
          "text": [
            "\r95it [00:33,  3.20it/s]"
          ]
        },
        {
          "output_type": "stream",
          "name": "stdout",
          "text": [
            "1/1 [==============================] - 0s 24ms/step\n"
          ]
        },
        {
          "output_type": "stream",
          "name": "stderr",
          "text": [
            "\r96it [00:33,  3.14it/s]"
          ]
        },
        {
          "output_type": "stream",
          "name": "stdout",
          "text": [
            "1/1 [==============================] - 0s 20ms/step\n"
          ]
        },
        {
          "output_type": "stream",
          "name": "stderr",
          "text": [
            "\r97it [00:34,  3.03it/s]"
          ]
        },
        {
          "output_type": "stream",
          "name": "stdout",
          "text": [
            "1/1 [==============================] - 0s 21ms/step\n"
          ]
        },
        {
          "output_type": "stream",
          "name": "stderr",
          "text": [
            "\r98it [00:34,  3.06it/s]"
          ]
        },
        {
          "output_type": "stream",
          "name": "stdout",
          "text": [
            "1/1 [==============================] - 0s 20ms/step\n"
          ]
        },
        {
          "output_type": "stream",
          "name": "stderr",
          "text": [
            "\r99it [00:34,  3.13it/s]"
          ]
        },
        {
          "output_type": "stream",
          "name": "stdout",
          "text": [
            "1/1 [==============================] - 0s 20ms/step\n"
          ]
        },
        {
          "output_type": "stream",
          "name": "stderr",
          "text": [
            "\r100it [00:35,  3.10it/s]"
          ]
        },
        {
          "output_type": "stream",
          "name": "stdout",
          "text": [
            "1/1 [==============================] - 0s 20ms/step\n"
          ]
        },
        {
          "output_type": "stream",
          "name": "stderr",
          "text": [
            "\r101it [00:35,  3.08it/s]"
          ]
        },
        {
          "output_type": "stream",
          "name": "stdout",
          "text": [
            "1/1 [==============================] - 0s 20ms/step\n"
          ]
        },
        {
          "output_type": "stream",
          "name": "stderr",
          "text": [
            "\r102it [00:35,  3.05it/s]"
          ]
        },
        {
          "output_type": "stream",
          "name": "stdout",
          "text": [
            "1/1 [==============================] - 0s 19ms/step\n"
          ]
        },
        {
          "output_type": "stream",
          "name": "stderr",
          "text": [
            "\r103it [00:36,  3.06it/s]"
          ]
        },
        {
          "output_type": "stream",
          "name": "stdout",
          "text": [
            "1/1 [==============================] - 0s 19ms/step\n"
          ]
        },
        {
          "output_type": "stream",
          "name": "stderr",
          "text": [
            "\r104it [00:36,  3.11it/s]"
          ]
        },
        {
          "output_type": "stream",
          "name": "stdout",
          "text": [
            "1/1 [==============================] - 0s 20ms/step\n"
          ]
        },
        {
          "output_type": "stream",
          "name": "stderr",
          "text": [
            "\r105it [00:36,  3.29it/s]"
          ]
        },
        {
          "output_type": "stream",
          "name": "stdout",
          "text": [
            "1/1 [==============================] - 0s 19ms/step\n"
          ]
        },
        {
          "output_type": "stream",
          "name": "stderr",
          "text": [
            "\r106it [00:37,  3.17it/s]"
          ]
        },
        {
          "output_type": "stream",
          "name": "stdout",
          "text": [
            "1/1 [==============================] - 0s 20ms/step\n"
          ]
        },
        {
          "output_type": "stream",
          "name": "stderr",
          "text": [
            "\r107it [00:37,  2.60it/s]"
          ]
        },
        {
          "output_type": "stream",
          "name": "stdout",
          "text": [
            "1/1 [==============================] - 0s 20ms/step\n"
          ]
        },
        {
          "output_type": "stream",
          "name": "stderr",
          "text": [
            "\r108it [00:38,  2.70it/s]"
          ]
        },
        {
          "output_type": "stream",
          "name": "stdout",
          "text": [
            "1/1 [==============================] - 0s 21ms/step\n"
          ]
        },
        {
          "output_type": "stream",
          "name": "stderr",
          "text": [
            "\r109it [00:38,  2.79it/s]"
          ]
        },
        {
          "output_type": "stream",
          "name": "stdout",
          "text": [
            "1/1 [==============================] - 0s 20ms/step\n"
          ]
        },
        {
          "output_type": "stream",
          "name": "stderr",
          "text": [
            "\r110it [00:38,  3.00it/s]"
          ]
        },
        {
          "output_type": "stream",
          "name": "stdout",
          "text": [
            "1/1 [==============================] - 0s 20ms/step\n"
          ]
        },
        {
          "output_type": "stream",
          "name": "stderr",
          "text": [
            "\r111it [00:38,  3.03it/s]"
          ]
        },
        {
          "output_type": "stream",
          "name": "stdout",
          "text": [
            "1/1 [==============================] - 0s 20ms/step\n"
          ]
        },
        {
          "output_type": "stream",
          "name": "stderr",
          "text": [
            "\r112it [00:39,  3.07it/s]"
          ]
        },
        {
          "output_type": "stream",
          "name": "stdout",
          "text": [
            "1/1 [==============================] - 0s 21ms/step\n"
          ]
        },
        {
          "output_type": "stream",
          "name": "stderr",
          "text": [
            "\r113it [00:39,  3.13it/s]"
          ]
        },
        {
          "output_type": "stream",
          "name": "stdout",
          "text": [
            "1/1 [==============================] - 0s 21ms/step\n"
          ]
        },
        {
          "output_type": "stream",
          "name": "stderr",
          "text": [
            "\r114it [00:39,  3.07it/s]"
          ]
        },
        {
          "output_type": "stream",
          "name": "stdout",
          "text": [
            "1/1 [==============================] - 0s 20ms/step\n"
          ]
        },
        {
          "output_type": "stream",
          "name": "stderr",
          "text": [
            "\r115it [00:40,  3.07it/s]"
          ]
        },
        {
          "output_type": "stream",
          "name": "stdout",
          "text": [
            "1/1 [==============================] - 0s 20ms/step\n"
          ]
        },
        {
          "output_type": "stream",
          "name": "stderr",
          "text": [
            "\r116it [00:40,  3.13it/s]"
          ]
        },
        {
          "output_type": "stream",
          "name": "stdout",
          "text": [
            "1/1 [==============================] - 0s 21ms/step\n"
          ]
        },
        {
          "output_type": "stream",
          "name": "stderr",
          "text": [
            "\r117it [00:40,  3.09it/s]"
          ]
        },
        {
          "output_type": "stream",
          "name": "stdout",
          "text": [
            "1/1 [==============================] - 0s 20ms/step\n"
          ]
        },
        {
          "output_type": "stream",
          "name": "stderr",
          "text": [
            "\r118it [00:41,  3.24it/s]"
          ]
        },
        {
          "output_type": "stream",
          "name": "stdout",
          "text": [
            "1/1 [==============================] - 0s 19ms/step\n"
          ]
        },
        {
          "output_type": "stream",
          "name": "stderr",
          "text": [
            "\r119it [00:41,  3.22it/s]"
          ]
        },
        {
          "output_type": "stream",
          "name": "stdout",
          "text": [
            "1/1 [==============================] - 0s 21ms/step\n"
          ]
        },
        {
          "output_type": "stream",
          "name": "stderr",
          "text": [
            "\r120it [00:41,  3.37it/s]"
          ]
        },
        {
          "output_type": "stream",
          "name": "stdout",
          "text": [
            "1/1 [==============================] - 0s 20ms/step\n"
          ]
        },
        {
          "output_type": "stream",
          "name": "stderr",
          "text": [
            "\r121it [00:42,  3.49it/s]"
          ]
        },
        {
          "output_type": "stream",
          "name": "stdout",
          "text": [
            "1/1 [==============================] - 0s 20ms/step\n"
          ]
        },
        {
          "output_type": "stream",
          "name": "stderr",
          "text": [
            "\r122it [00:42,  3.53it/s]"
          ]
        },
        {
          "output_type": "stream",
          "name": "stdout",
          "text": [
            "1/1 [==============================] - 0s 20ms/step\n"
          ]
        },
        {
          "output_type": "stream",
          "name": "stderr",
          "text": [
            "\r123it [00:42,  3.56it/s]"
          ]
        },
        {
          "output_type": "stream",
          "name": "stdout",
          "text": [
            "1/1 [==============================] - 0s 21ms/step\n"
          ]
        },
        {
          "output_type": "stream",
          "name": "stderr",
          "text": [
            "\r124it [00:42,  3.37it/s]"
          ]
        },
        {
          "output_type": "stream",
          "name": "stdout",
          "text": [
            "1/1 [==============================] - 0s 22ms/step\n"
          ]
        },
        {
          "output_type": "stream",
          "name": "stderr",
          "text": [
            "\r125it [00:43,  3.25it/s]"
          ]
        },
        {
          "output_type": "stream",
          "name": "stdout",
          "text": [
            "1/1 [==============================] - 0s 21ms/step\n"
          ]
        },
        {
          "output_type": "stream",
          "name": "stderr",
          "text": [
            "\r126it [00:43,  3.38it/s]"
          ]
        },
        {
          "output_type": "stream",
          "name": "stdout",
          "text": [
            "1/1 [==============================] - 0s 24ms/step\n"
          ]
        },
        {
          "output_type": "stream",
          "name": "stderr",
          "text": [
            "\r127it [00:43,  3.27it/s]"
          ]
        },
        {
          "output_type": "stream",
          "name": "stdout",
          "text": [
            "1/1 [==============================] - 0s 20ms/step\n"
          ]
        },
        {
          "output_type": "stream",
          "name": "stderr",
          "text": [
            "\r128it [00:44,  3.19it/s]"
          ]
        },
        {
          "output_type": "stream",
          "name": "stdout",
          "text": [
            "1/1 [==============================] - 0s 21ms/step\n"
          ]
        },
        {
          "output_type": "stream",
          "name": "stderr",
          "text": [
            "\r129it [00:44,  3.32it/s]"
          ]
        },
        {
          "output_type": "stream",
          "name": "stdout",
          "text": [
            "1/1 [==============================] - 0s 22ms/step\n"
          ]
        },
        {
          "output_type": "stream",
          "name": "stderr",
          "text": [
            "\r130it [00:44,  3.43it/s]"
          ]
        },
        {
          "output_type": "stream",
          "name": "stdout",
          "text": [
            "1/1 [==============================] - 0s 23ms/step\n"
          ]
        },
        {
          "output_type": "stream",
          "name": "stderr",
          "text": [
            "\r131it [00:45,  3.24it/s]"
          ]
        },
        {
          "output_type": "stream",
          "name": "stdout",
          "text": [
            "1/1 [==============================] - 0s 20ms/step\n"
          ]
        },
        {
          "output_type": "stream",
          "name": "stderr",
          "text": [
            "\r132it [00:45,  3.15it/s]"
          ]
        },
        {
          "output_type": "stream",
          "name": "stdout",
          "text": [
            "1/1 [==============================] - 0s 20ms/step\n"
          ]
        },
        {
          "output_type": "stream",
          "name": "stderr",
          "text": [
            "\r133it [00:45,  3.11it/s]"
          ]
        },
        {
          "output_type": "stream",
          "name": "stdout",
          "text": [
            "1/1 [==============================] - 0s 20ms/step\n"
          ]
        },
        {
          "output_type": "stream",
          "name": "stderr",
          "text": [
            "\r134it [00:46,  3.09it/s]"
          ]
        },
        {
          "output_type": "stream",
          "name": "stdout",
          "text": [
            "1/1 [==============================] - 0s 19ms/step\n"
          ]
        },
        {
          "output_type": "stream",
          "name": "stderr",
          "text": [
            "\r135it [00:46,  3.07it/s]"
          ]
        },
        {
          "output_type": "stream",
          "name": "stdout",
          "text": [
            "1/1 [==============================] - 0s 20ms/step\n"
          ]
        },
        {
          "output_type": "stream",
          "name": "stderr",
          "text": [
            "\r136it [00:46,  3.16it/s]"
          ]
        },
        {
          "output_type": "stream",
          "name": "stdout",
          "text": [
            "1/1 [==============================] - 0s 20ms/step\n"
          ]
        },
        {
          "output_type": "stream",
          "name": "stderr",
          "text": [
            "\r137it [00:47,  3.13it/s]"
          ]
        },
        {
          "output_type": "stream",
          "name": "stdout",
          "text": [
            "1/1 [==============================] - 0s 20ms/step\n"
          ]
        },
        {
          "output_type": "stream",
          "name": "stderr",
          "text": [
            "\r138it [00:47,  3.09it/s]"
          ]
        },
        {
          "output_type": "stream",
          "name": "stdout",
          "text": [
            "1/1 [==============================] - 0s 19ms/step\n"
          ]
        },
        {
          "output_type": "stream",
          "name": "stderr",
          "text": [
            "\r139it [00:47,  3.09it/s]"
          ]
        },
        {
          "output_type": "stream",
          "name": "stdout",
          "text": [
            "1/1 [==============================] - 0s 19ms/step\n"
          ]
        },
        {
          "output_type": "stream",
          "name": "stderr",
          "text": [
            "\r140it [00:48,  3.07it/s]"
          ]
        },
        {
          "output_type": "stream",
          "name": "stdout",
          "text": [
            "1/1 [==============================] - 0s 19ms/step\n"
          ]
        },
        {
          "output_type": "stream",
          "name": "stderr",
          "text": [
            "\r141it [00:48,  2.51it/s]"
          ]
        },
        {
          "output_type": "stream",
          "name": "stdout",
          "text": [
            "1/1 [==============================] - 0s 20ms/step\n"
          ]
        },
        {
          "output_type": "stream",
          "name": "stderr",
          "text": [
            "\r142it [00:48,  2.65it/s]"
          ]
        },
        {
          "output_type": "stream",
          "name": "stdout",
          "text": [
            "1/1 [==============================] - 0s 20ms/step\n"
          ]
        },
        {
          "output_type": "stream",
          "name": "stderr",
          "text": [
            "\r143it [00:49,  2.92it/s]"
          ]
        },
        {
          "output_type": "stream",
          "name": "stdout",
          "text": [
            "1/1 [==============================] - 0s 20ms/step\n"
          ]
        },
        {
          "output_type": "stream",
          "name": "stderr",
          "text": [
            "\r144it [00:49,  3.02it/s]"
          ]
        },
        {
          "output_type": "stream",
          "name": "stdout",
          "text": [
            "1/1 [==============================] - 0s 20ms/step\n"
          ]
        },
        {
          "output_type": "stream",
          "name": "stderr",
          "text": [
            "\r145it [00:49,  3.05it/s]"
          ]
        },
        {
          "output_type": "stream",
          "name": "stdout",
          "text": [
            "1/1 [==============================] - 0s 20ms/step\n"
          ]
        },
        {
          "output_type": "stream",
          "name": "stderr",
          "text": [
            "\r146it [00:50,  3.15it/s]"
          ]
        },
        {
          "output_type": "stream",
          "name": "stdout",
          "text": [
            "1/1 [==============================] - 0s 24ms/step\n"
          ]
        },
        {
          "output_type": "stream",
          "name": "stderr",
          "text": [
            "\r147it [00:50,  3.10it/s]"
          ]
        },
        {
          "output_type": "stream",
          "name": "stdout",
          "text": [
            "1/1 [==============================] - 0s 20ms/step\n"
          ]
        },
        {
          "output_type": "stream",
          "name": "stderr",
          "text": [
            "\r148it [00:50,  3.18it/s]"
          ]
        },
        {
          "output_type": "stream",
          "name": "stdout",
          "text": [
            "1/1 [==============================] - 0s 21ms/step\n"
          ]
        },
        {
          "output_type": "stream",
          "name": "stderr",
          "text": [
            "\r149it [00:51,  3.15it/s]"
          ]
        },
        {
          "output_type": "stream",
          "name": "stdout",
          "text": [
            "1/1 [==============================] - 0s 21ms/step\n"
          ]
        },
        {
          "output_type": "stream",
          "name": "stderr",
          "text": [
            "\r150it [00:51,  3.09it/s]"
          ]
        },
        {
          "output_type": "stream",
          "name": "stdout",
          "text": [
            "1/1 [==============================] - 0s 20ms/step\n"
          ]
        },
        {
          "output_type": "stream",
          "name": "stderr",
          "text": [
            "\r151it [00:51,  3.06it/s]"
          ]
        },
        {
          "output_type": "stream",
          "name": "stdout",
          "text": [
            "1/1 [==============================] - 0s 20ms/step\n"
          ]
        },
        {
          "output_type": "stream",
          "name": "stderr",
          "text": [
            "\r152it [00:52,  3.06it/s]"
          ]
        },
        {
          "output_type": "stream",
          "name": "stdout",
          "text": [
            "1/1 [==============================] - 0s 23ms/step\n"
          ]
        },
        {
          "output_type": "stream",
          "name": "stderr",
          "text": [
            "\r153it [00:52,  3.04it/s]"
          ]
        },
        {
          "output_type": "stream",
          "name": "stdout",
          "text": [
            "1/1 [==============================] - 0s 19ms/step\n"
          ]
        },
        {
          "output_type": "stream",
          "name": "stderr",
          "text": [
            "\r154it [00:52,  3.21it/s]"
          ]
        },
        {
          "output_type": "stream",
          "name": "stdout",
          "text": [
            "1/1 [==============================] - 0s 20ms/step\n"
          ]
        },
        {
          "output_type": "stream",
          "name": "stderr",
          "text": [
            "\r155it [00:52,  3.31it/s]"
          ]
        },
        {
          "output_type": "stream",
          "name": "stdout",
          "text": [
            "1/1 [==============================] - 0s 20ms/step\n"
          ]
        },
        {
          "output_type": "stream",
          "name": "stderr",
          "text": [
            "\r156it [00:53,  3.24it/s]"
          ]
        },
        {
          "output_type": "stream",
          "name": "stdout",
          "text": [
            "1/1 [==============================] - 0s 19ms/step\n"
          ]
        },
        {
          "output_type": "stream",
          "name": "stderr",
          "text": [
            "\r157it [00:53,  3.36it/s]"
          ]
        },
        {
          "output_type": "stream",
          "name": "stdout",
          "text": [
            "1/1 [==============================] - 0s 21ms/step\n"
          ]
        },
        {
          "output_type": "stream",
          "name": "stderr",
          "text": [
            "\r158it [00:53,  3.46it/s]"
          ]
        },
        {
          "output_type": "stream",
          "name": "stdout",
          "text": [
            "1/1 [==============================] - 0s 23ms/step\n"
          ]
        },
        {
          "output_type": "stream",
          "name": "stderr",
          "text": [
            "\r159it [00:54,  3.30it/s]"
          ]
        },
        {
          "output_type": "stream",
          "name": "stdout",
          "text": [
            "1/1 [==============================] - 0s 19ms/step\n"
          ]
        },
        {
          "output_type": "stream",
          "name": "stderr",
          "text": [
            "\r160it [00:54,  3.24it/s]"
          ]
        },
        {
          "output_type": "stream",
          "name": "stdout",
          "text": [
            "1/1 [==============================] - 0s 19ms/step\n"
          ]
        },
        {
          "output_type": "stream",
          "name": "stderr",
          "text": [
            "\r161it [00:54,  3.37it/s]"
          ]
        },
        {
          "output_type": "stream",
          "name": "stdout",
          "text": [
            "1/1 [==============================] - 0s 20ms/step\n"
          ]
        },
        {
          "output_type": "stream",
          "name": "stderr",
          "text": [
            "\r162it [00:54,  3.50it/s]"
          ]
        },
        {
          "output_type": "stream",
          "name": "stdout",
          "text": [
            "1/1 [==============================] - 0s 22ms/step\n"
          ]
        },
        {
          "output_type": "stream",
          "name": "stderr",
          "text": [
            "\r163it [00:55,  3.28it/s]"
          ]
        },
        {
          "output_type": "stream",
          "name": "stdout",
          "text": [
            "1/1 [==============================] - 0s 20ms/step\n"
          ]
        },
        {
          "output_type": "stream",
          "name": "stderr",
          "text": [
            "\r164it [00:55,  3.22it/s]"
          ]
        },
        {
          "output_type": "stream",
          "name": "stdout",
          "text": [
            "1/1 [==============================] - 0s 20ms/step\n"
          ]
        },
        {
          "output_type": "stream",
          "name": "stderr",
          "text": [
            "\r165it [00:55,  3.19it/s]"
          ]
        },
        {
          "output_type": "stream",
          "name": "stdout",
          "text": [
            "1/1 [==============================] - 0s 19ms/step\n"
          ]
        },
        {
          "output_type": "stream",
          "name": "stderr",
          "text": [
            "\r166it [00:56,  3.13it/s]"
          ]
        },
        {
          "output_type": "stream",
          "name": "stdout",
          "text": [
            "1/1 [==============================] - 0s 20ms/step\n"
          ]
        },
        {
          "output_type": "stream",
          "name": "stderr",
          "text": [
            "\r167it [00:56,  3.07it/s]"
          ]
        },
        {
          "output_type": "stream",
          "name": "stdout",
          "text": [
            "1/1 [==============================] - 0s 19ms/step\n"
          ]
        },
        {
          "output_type": "stream",
          "name": "stderr",
          "text": [
            "\r168it [00:56,  3.07it/s]"
          ]
        },
        {
          "output_type": "stream",
          "name": "stdout",
          "text": [
            "1/1 [==============================] - 0s 20ms/step\n"
          ]
        },
        {
          "output_type": "stream",
          "name": "stderr",
          "text": [
            "\r169it [00:57,  3.26it/s]"
          ]
        },
        {
          "output_type": "stream",
          "name": "stdout",
          "text": [
            "1/1 [==============================] - 0s 22ms/step\n"
          ]
        },
        {
          "output_type": "stream",
          "name": "stderr",
          "text": [
            "\r170it [00:57,  3.18it/s]"
          ]
        },
        {
          "output_type": "stream",
          "name": "stdout",
          "text": [
            "1/1 [==============================] - 0s 20ms/step\n"
          ]
        },
        {
          "output_type": "stream",
          "name": "stderr",
          "text": [
            "\r171it [00:57,  3.28it/s]"
          ]
        },
        {
          "output_type": "stream",
          "name": "stdout",
          "text": [
            "1/1 [==============================] - 0s 22ms/step\n"
          ]
        },
        {
          "output_type": "stream",
          "name": "stderr",
          "text": [
            "\r172it [00:58,  3.35it/s]"
          ]
        },
        {
          "output_type": "stream",
          "name": "stdout",
          "text": [
            "1/1 [==============================] - 0s 23ms/step\n"
          ]
        },
        {
          "output_type": "stream",
          "name": "stderr",
          "text": [
            "\r173it [00:58,  3.47it/s]"
          ]
        },
        {
          "output_type": "stream",
          "name": "stdout",
          "text": [
            "1/1 [==============================] - 0s 21ms/step\n"
          ]
        },
        {
          "output_type": "stream",
          "name": "stderr",
          "text": [
            "\r174it [00:58,  3.55it/s]"
          ]
        },
        {
          "output_type": "stream",
          "name": "stdout",
          "text": [
            "1/1 [==============================] - 0s 21ms/step\n"
          ]
        },
        {
          "output_type": "stream",
          "name": "stderr",
          "text": [
            "\r175it [00:59,  2.71it/s]"
          ]
        },
        {
          "output_type": "stream",
          "name": "stdout",
          "text": [
            "1/1 [==============================] - 0s 20ms/step\n"
          ]
        },
        {
          "output_type": "stream",
          "name": "stderr",
          "text": [
            "\r176it [00:59,  2.80it/s]"
          ]
        },
        {
          "output_type": "stream",
          "name": "stdout",
          "text": [
            "1/1 [==============================] - 0s 20ms/step\n"
          ]
        },
        {
          "output_type": "stream",
          "name": "stderr",
          "text": [
            "\r177it [00:59,  3.01it/s]"
          ]
        },
        {
          "output_type": "stream",
          "name": "stdout",
          "text": [
            "1/1 [==============================] - 0s 20ms/step\n"
          ]
        },
        {
          "output_type": "stream",
          "name": "stderr",
          "text": [
            "\r178it [01:00,  3.21it/s]"
          ]
        },
        {
          "output_type": "stream",
          "name": "stdout",
          "text": [
            "1/1 [==============================] - 0s 21ms/step\n"
          ]
        },
        {
          "output_type": "stream",
          "name": "stderr",
          "text": [
            "\r179it [01:00,  3.17it/s]"
          ]
        },
        {
          "output_type": "stream",
          "name": "stdout",
          "text": [
            "1/1 [==============================] - 0s 20ms/step\n"
          ]
        },
        {
          "output_type": "stream",
          "name": "stderr",
          "text": [
            "\r180it [01:00,  3.11it/s]"
          ]
        },
        {
          "output_type": "stream",
          "name": "stdout",
          "text": [
            "1/1 [==============================] - 0s 20ms/step\n"
          ]
        },
        {
          "output_type": "stream",
          "name": "stderr",
          "text": [
            "\r181it [01:01,  3.05it/s]"
          ]
        },
        {
          "output_type": "stream",
          "name": "stdout",
          "text": [
            "1/1 [==============================] - 0s 20ms/step\n"
          ]
        },
        {
          "output_type": "stream",
          "name": "stderr",
          "text": [
            "\r182it [01:01,  3.04it/s]"
          ]
        },
        {
          "output_type": "stream",
          "name": "stdout",
          "text": [
            "1/1 [==============================] - 0s 19ms/step\n"
          ]
        },
        {
          "output_type": "stream",
          "name": "stderr",
          "text": [
            "\r183it [01:01,  3.16it/s]"
          ]
        },
        {
          "output_type": "stream",
          "name": "stdout",
          "text": [
            "1/1 [==============================] - 0s 20ms/step\n"
          ]
        },
        {
          "output_type": "stream",
          "name": "stderr",
          "text": [
            "\r184it [01:02,  3.14it/s]"
          ]
        },
        {
          "output_type": "stream",
          "name": "stdout",
          "text": [
            "1/1 [==============================] - 0s 20ms/step\n"
          ]
        },
        {
          "output_type": "stream",
          "name": "stderr",
          "text": [
            "\r185it [01:02,  3.31it/s]"
          ]
        },
        {
          "output_type": "stream",
          "name": "stdout",
          "text": [
            "1/1 [==============================] - 0s 21ms/step\n"
          ]
        },
        {
          "output_type": "stream",
          "name": "stderr",
          "text": [
            "\r186it [01:02,  3.23it/s]"
          ]
        },
        {
          "output_type": "stream",
          "name": "stdout",
          "text": [
            "1/1 [==============================] - 0s 20ms/step\n"
          ]
        },
        {
          "output_type": "stream",
          "name": "stderr",
          "text": [
            "\r187it [01:02,  3.18it/s]"
          ]
        },
        {
          "output_type": "stream",
          "name": "stdout",
          "text": [
            "1/1 [==============================] - 0s 20ms/step\n"
          ]
        },
        {
          "output_type": "stream",
          "name": "stderr",
          "text": [
            "\r188it [01:03,  3.26it/s]"
          ]
        },
        {
          "output_type": "stream",
          "name": "stdout",
          "text": [
            "1/1 [==============================] - 0s 24ms/step\n"
          ]
        },
        {
          "output_type": "stream",
          "name": "stderr",
          "text": [
            "\r189it [01:03,  3.19it/s]"
          ]
        },
        {
          "output_type": "stream",
          "name": "stdout",
          "text": [
            "1/1 [==============================] - 0s 20ms/step\n"
          ]
        },
        {
          "output_type": "stream",
          "name": "stderr",
          "text": [
            "\r190it [01:03,  3.14it/s]"
          ]
        },
        {
          "output_type": "stream",
          "name": "stdout",
          "text": [
            "1/1 [==============================] - 0s 20ms/step\n"
          ]
        },
        {
          "output_type": "stream",
          "name": "stderr",
          "text": [
            "\r191it [01:04,  3.10it/s]"
          ]
        },
        {
          "output_type": "stream",
          "name": "stdout",
          "text": [
            "1/1 [==============================] - 0s 20ms/step\n"
          ]
        },
        {
          "output_type": "stream",
          "name": "stderr",
          "text": [
            "\r192it [01:04,  3.03it/s]"
          ]
        },
        {
          "output_type": "stream",
          "name": "stdout",
          "text": [
            "1/1 [==============================] - 0s 22ms/step\n"
          ]
        },
        {
          "output_type": "stream",
          "name": "stderr",
          "text": [
            "\r193it [01:04,  2.92it/s]"
          ]
        },
        {
          "output_type": "stream",
          "name": "stdout",
          "text": [
            "1/1 [==============================] - 0s 22ms/step\n"
          ]
        },
        {
          "output_type": "stream",
          "name": "stderr",
          "text": [
            "\r194it [01:05,  3.08it/s]"
          ]
        },
        {
          "output_type": "stream",
          "name": "stdout",
          "text": [
            "1/1 [==============================] - 0s 21ms/step\n"
          ]
        },
        {
          "output_type": "stream",
          "name": "stderr",
          "text": [
            "\r195it [01:05,  3.19it/s]"
          ]
        },
        {
          "output_type": "stream",
          "name": "stdout",
          "text": [
            "1/1 [==============================] - 0s 21ms/step\n"
          ]
        },
        {
          "output_type": "stream",
          "name": "stderr",
          "text": [
            "\r196it [01:05,  3.23it/s]"
          ]
        },
        {
          "output_type": "stream",
          "name": "stdout",
          "text": [
            "1/1 [==============================] - 0s 24ms/step\n"
          ]
        },
        {
          "output_type": "stream",
          "name": "stderr",
          "text": [
            "\r197it [01:06,  3.16it/s]"
          ]
        },
        {
          "output_type": "stream",
          "name": "stdout",
          "text": [
            "1/1 [==============================] - 0s 24ms/step\n"
          ]
        },
        {
          "output_type": "stream",
          "name": "stderr",
          "text": [
            "\r198it [01:06,  3.12it/s]"
          ]
        },
        {
          "output_type": "stream",
          "name": "stdout",
          "text": [
            "1/1 [==============================] - 0s 22ms/step\n"
          ]
        },
        {
          "output_type": "stream",
          "name": "stderr",
          "text": [
            "\r199it [01:06,  3.24it/s]"
          ]
        },
        {
          "output_type": "stream",
          "name": "stdout",
          "text": [
            "1/1 [==============================] - 0s 21ms/step\n"
          ]
        },
        {
          "output_type": "stream",
          "name": "stderr",
          "text": [
            "\r200it [01:07,  3.17it/s]"
          ]
        },
        {
          "output_type": "stream",
          "name": "stdout",
          "text": [
            "1/1 [==============================] - 0s 20ms/step\n"
          ]
        },
        {
          "output_type": "stream",
          "name": "stderr",
          "text": [
            "\r201it [01:07,  3.14it/s]"
          ]
        },
        {
          "output_type": "stream",
          "name": "stdout",
          "text": [
            "1/1 [==============================] - 0s 20ms/step\n"
          ]
        },
        {
          "output_type": "stream",
          "name": "stderr",
          "text": [
            "\r202it [01:07,  3.27it/s]"
          ]
        },
        {
          "output_type": "stream",
          "name": "stdout",
          "text": [
            "1/1 [==============================] - 0s 21ms/step\n"
          ]
        },
        {
          "output_type": "stream",
          "name": "stderr",
          "text": [
            "\r203it [01:08,  3.19it/s]"
          ]
        },
        {
          "output_type": "stream",
          "name": "stdout",
          "text": [
            "1/1 [==============================] - 0s 20ms/step\n"
          ]
        },
        {
          "output_type": "stream",
          "name": "stderr",
          "text": [
            "\r204it [01:08,  3.28it/s]"
          ]
        },
        {
          "output_type": "stream",
          "name": "stdout",
          "text": [
            "1/1 [==============================] - 0s 20ms/step\n"
          ]
        },
        {
          "output_type": "stream",
          "name": "stderr",
          "text": [
            "\r205it [01:08,  3.21it/s]"
          ]
        },
        {
          "output_type": "stream",
          "name": "stdout",
          "text": [
            "1/1 [==============================] - 0s 20ms/step\n"
          ]
        },
        {
          "output_type": "stream",
          "name": "stderr",
          "text": [
            "\r206it [01:08,  3.16it/s]"
          ]
        },
        {
          "output_type": "stream",
          "name": "stdout",
          "text": [
            "1/1 [==============================] - 0s 22ms/step\n"
          ]
        },
        {
          "output_type": "stream",
          "name": "stderr",
          "text": [
            "\r207it [01:09,  3.11it/s]"
          ]
        },
        {
          "output_type": "stream",
          "name": "stdout",
          "text": [
            "1/1 [==============================] - 0s 20ms/step\n"
          ]
        },
        {
          "output_type": "stream",
          "name": "stderr",
          "text": [
            "\r208it [01:09,  3.10it/s]"
          ]
        },
        {
          "output_type": "stream",
          "name": "stdout",
          "text": [
            "1/1 [==============================] - 0s 21ms/step\n"
          ]
        },
        {
          "output_type": "stream",
          "name": "stderr",
          "text": [
            "\r209it [01:10,  2.49it/s]"
          ]
        },
        {
          "output_type": "stream",
          "name": "stdout",
          "text": [
            "1/1 [==============================] - 0s 20ms/step\n"
          ]
        },
        {
          "output_type": "stream",
          "name": "stderr",
          "text": [
            "\r210it [01:10,  2.63it/s]"
          ]
        },
        {
          "output_type": "stream",
          "name": "stdout",
          "text": [
            "1/1 [==============================] - 0s 19ms/step\n"
          ]
        },
        {
          "output_type": "stream",
          "name": "stderr",
          "text": [
            "\r211it [01:10,  2.82it/s]"
          ]
        },
        {
          "output_type": "stream",
          "name": "stdout",
          "text": [
            "1/1 [==============================] - 0s 20ms/step\n"
          ]
        },
        {
          "output_type": "stream",
          "name": "stderr",
          "text": [
            "\r212it [01:11,  2.83it/s]"
          ]
        },
        {
          "output_type": "stream",
          "name": "stdout",
          "text": [
            "1/1 [==============================] - 0s 27ms/step\n"
          ]
        },
        {
          "output_type": "stream",
          "name": "stderr",
          "text": [
            "\r213it [01:11,  2.89it/s]"
          ]
        },
        {
          "output_type": "stream",
          "name": "stdout",
          "text": [
            "1/1 [==============================] - 0s 19ms/step\n"
          ]
        },
        {
          "output_type": "stream",
          "name": "stderr",
          "text": [
            "\r214it [01:11,  3.03it/s]"
          ]
        },
        {
          "output_type": "stream",
          "name": "stdout",
          "text": [
            "1/1 [==============================] - 0s 23ms/step\n"
          ]
        },
        {
          "output_type": "stream",
          "name": "stderr",
          "text": [
            "\r215it [01:12,  3.00it/s]"
          ]
        },
        {
          "output_type": "stream",
          "name": "stdout",
          "text": [
            "1/1 [==============================] - 0s 21ms/step\n"
          ]
        },
        {
          "output_type": "stream",
          "name": "stderr",
          "text": [
            "\r216it [01:12,  3.02it/s]"
          ]
        },
        {
          "output_type": "stream",
          "name": "stdout",
          "text": [
            "1/1 [==============================] - 0s 20ms/step\n"
          ]
        },
        {
          "output_type": "stream",
          "name": "stderr",
          "text": [
            "\r217it [01:12,  3.20it/s]"
          ]
        },
        {
          "output_type": "stream",
          "name": "stdout",
          "text": [
            "1/1 [==============================] - 0s 22ms/step\n"
          ]
        },
        {
          "output_type": "stream",
          "name": "stderr",
          "text": [
            "\r218it [01:13,  3.14it/s]"
          ]
        },
        {
          "output_type": "stream",
          "name": "stdout",
          "text": [
            "1/1 [==============================] - 0s 19ms/step\n"
          ]
        },
        {
          "output_type": "stream",
          "name": "stderr",
          "text": [
            "\r219it [01:13,  3.11it/s]"
          ]
        },
        {
          "output_type": "stream",
          "name": "stdout",
          "text": [
            "1/1 [==============================] - 0s 20ms/step\n"
          ]
        },
        {
          "output_type": "stream",
          "name": "stderr",
          "text": [
            "\r220it [01:13,  3.06it/s]"
          ]
        },
        {
          "output_type": "stream",
          "name": "stdout",
          "text": [
            "1/1 [==============================] - 0s 20ms/step\n"
          ]
        },
        {
          "output_type": "stream",
          "name": "stderr",
          "text": [
            "\r221it [01:14,  3.04it/s]"
          ]
        },
        {
          "output_type": "stream",
          "name": "stdout",
          "text": [
            "1/1 [==============================] - 0s 19ms/step\n"
          ]
        },
        {
          "output_type": "stream",
          "name": "stderr",
          "text": [
            "\r222it [01:14,  3.04it/s]"
          ]
        },
        {
          "output_type": "stream",
          "name": "stdout",
          "text": [
            "1/1 [==============================] - 0s 19ms/step\n"
          ]
        },
        {
          "output_type": "stream",
          "name": "stderr",
          "text": [
            "\r223it [01:14,  3.05it/s]"
          ]
        },
        {
          "output_type": "stream",
          "name": "stdout",
          "text": [
            "1/1 [==============================] - 0s 20ms/step\n"
          ]
        },
        {
          "output_type": "stream",
          "name": "stderr",
          "text": [
            "\r224it [01:15,  3.04it/s]"
          ]
        },
        {
          "output_type": "stream",
          "name": "stdout",
          "text": [
            "1/1 [==============================] - 0s 19ms/step\n"
          ]
        },
        {
          "output_type": "stream",
          "name": "stderr",
          "text": [
            "\r225it [01:15,  3.04it/s]"
          ]
        },
        {
          "output_type": "stream",
          "name": "stdout",
          "text": [
            "1/1 [==============================] - 0s 20ms/step\n"
          ]
        },
        {
          "output_type": "stream",
          "name": "stderr",
          "text": [
            "\r226it [01:15,  3.06it/s]"
          ]
        },
        {
          "output_type": "stream",
          "name": "stdout",
          "text": [
            "1/1 [==============================] - 0s 21ms/step\n"
          ]
        },
        {
          "output_type": "stream",
          "name": "stderr",
          "text": [
            "\r227it [01:16,  3.06it/s]"
          ]
        },
        {
          "output_type": "stream",
          "name": "stdout",
          "text": [
            "1/1 [==============================] - 0s 20ms/step\n"
          ]
        },
        {
          "output_type": "stream",
          "name": "stderr",
          "text": [
            "\r228it [01:16,  3.05it/s]"
          ]
        },
        {
          "output_type": "stream",
          "name": "stdout",
          "text": [
            "1/1 [==============================] - 0s 20ms/step\n"
          ]
        },
        {
          "output_type": "stream",
          "name": "stderr",
          "text": [
            "\r229it [01:16,  3.05it/s]"
          ]
        },
        {
          "output_type": "stream",
          "name": "stdout",
          "text": [
            "1/1 [==============================] - 0s 19ms/step\n"
          ]
        },
        {
          "output_type": "stream",
          "name": "stderr",
          "text": [
            "\r230it [01:16,  3.22it/s]"
          ]
        },
        {
          "output_type": "stream",
          "name": "stdout",
          "text": [
            "1/1 [==============================] - 0s 21ms/step\n"
          ]
        },
        {
          "output_type": "stream",
          "name": "stderr",
          "text": [
            "\r231it [01:17,  3.37it/s]"
          ]
        },
        {
          "output_type": "stream",
          "name": "stdout",
          "text": [
            "1/1 [==============================] - 0s 20ms/step\n"
          ]
        },
        {
          "output_type": "stream",
          "name": "stderr",
          "text": [
            "\r232it [01:17,  3.49it/s]"
          ]
        },
        {
          "output_type": "stream",
          "name": "stdout",
          "text": [
            "1/1 [==============================] - 0s 21ms/step\n"
          ]
        },
        {
          "output_type": "stream",
          "name": "stderr",
          "text": [
            "\r233it [01:17,  3.34it/s]"
          ]
        },
        {
          "output_type": "stream",
          "name": "stdout",
          "text": [
            "1/1 [==============================] - 0s 20ms/step\n"
          ]
        },
        {
          "output_type": "stream",
          "name": "stderr",
          "text": [
            "\r234it [01:18,  3.22it/s]"
          ]
        },
        {
          "output_type": "stream",
          "name": "stdout",
          "text": [
            "1/1 [==============================] - 0s 20ms/step\n"
          ]
        },
        {
          "output_type": "stream",
          "name": "stderr",
          "text": [
            "\r235it [01:18,  3.16it/s]"
          ]
        },
        {
          "output_type": "stream",
          "name": "stdout",
          "text": [
            "1/1 [==============================] - 0s 22ms/step\n"
          ]
        },
        {
          "output_type": "stream",
          "name": "stderr",
          "text": [
            "\r236it [01:18,  3.11it/s]"
          ]
        },
        {
          "output_type": "stream",
          "name": "stdout",
          "text": [
            "1/1 [==============================] - 0s 20ms/step\n"
          ]
        },
        {
          "output_type": "stream",
          "name": "stderr",
          "text": [
            "\r237it [01:19,  3.07it/s]"
          ]
        },
        {
          "output_type": "stream",
          "name": "stdout",
          "text": [
            "1/1 [==============================] - 0s 19ms/step\n"
          ]
        },
        {
          "output_type": "stream",
          "name": "stderr",
          "text": [
            "\r238it [01:19,  3.05it/s]"
          ]
        },
        {
          "output_type": "stream",
          "name": "stdout",
          "text": [
            "1/1 [==============================] - 0s 19ms/step\n"
          ]
        },
        {
          "output_type": "stream",
          "name": "stderr",
          "text": [
            "\r239it [01:19,  3.04it/s]"
          ]
        },
        {
          "output_type": "stream",
          "name": "stdout",
          "text": [
            "1/1 [==============================] - 0s 20ms/step\n"
          ]
        },
        {
          "output_type": "stream",
          "name": "stderr",
          "text": [
            "\r240it [01:20,  3.04it/s]"
          ]
        },
        {
          "output_type": "stream",
          "name": "stdout",
          "text": [
            "1/1 [==============================] - 0s 19ms/step\n"
          ]
        },
        {
          "output_type": "stream",
          "name": "stderr",
          "text": [
            "\r241it [01:20,  3.02it/s]"
          ]
        },
        {
          "output_type": "stream",
          "name": "stdout",
          "text": [
            "1/1 [==============================] - 0s 20ms/step\n"
          ]
        },
        {
          "output_type": "stream",
          "name": "stderr",
          "text": [
            "\r242it [01:20,  3.00it/s]"
          ]
        },
        {
          "output_type": "stream",
          "name": "stdout",
          "text": [
            "1/1 [==============================] - 0s 20ms/step\n"
          ]
        },
        {
          "output_type": "stream",
          "name": "stderr",
          "text": [
            "\r243it [01:21,  2.60it/s]"
          ]
        },
        {
          "output_type": "stream",
          "name": "stdout",
          "text": [
            "1/1 [==============================] - 0s 23ms/step\n"
          ]
        },
        {
          "output_type": "stream",
          "name": "stderr",
          "text": [
            "\r244it [01:21,  2.80it/s]"
          ]
        },
        {
          "output_type": "stream",
          "name": "stdout",
          "text": [
            "1/1 [==============================] - 0s 19ms/step\n"
          ]
        },
        {
          "output_type": "stream",
          "name": "stderr",
          "text": [
            "\r245it [01:21,  3.01it/s]"
          ]
        },
        {
          "output_type": "stream",
          "name": "stdout",
          "text": [
            "1/1 [==============================] - 0s 20ms/step\n"
          ]
        },
        {
          "output_type": "stream",
          "name": "stderr",
          "text": [
            "\r246it [01:22,  3.05it/s]"
          ]
        },
        {
          "output_type": "stream",
          "name": "stdout",
          "text": [
            "1/1 [==============================] - 0s 20ms/step\n"
          ]
        },
        {
          "output_type": "stream",
          "name": "stderr",
          "text": [
            "\r247it [01:22,  3.04it/s]"
          ]
        },
        {
          "output_type": "stream",
          "name": "stdout",
          "text": [
            "1/1 [==============================] - 0s 20ms/step\n"
          ]
        },
        {
          "output_type": "stream",
          "name": "stderr",
          "text": [
            "\r248it [01:22,  3.22it/s]"
          ]
        },
        {
          "output_type": "stream",
          "name": "stdout",
          "text": [
            "1/1 [==============================] - 0s 24ms/step\n"
          ]
        },
        {
          "output_type": "stream",
          "name": "stderr",
          "text": [
            "\r249it [01:23,  3.15it/s]"
          ]
        },
        {
          "output_type": "stream",
          "name": "stdout",
          "text": [
            "1/1 [==============================] - 0s 21ms/step\n"
          ]
        },
        {
          "output_type": "stream",
          "name": "stderr",
          "text": [
            "\r250it [01:23,  3.32it/s]"
          ]
        },
        {
          "output_type": "stream",
          "name": "stdout",
          "text": [
            "1/1 [==============================] - 0s 20ms/step\n"
          ]
        },
        {
          "output_type": "stream",
          "name": "stderr",
          "text": [
            "\r251it [01:23,  3.24it/s]"
          ]
        },
        {
          "output_type": "stream",
          "name": "stdout",
          "text": [
            "1/1 [==============================] - 0s 20ms/step\n"
          ]
        },
        {
          "output_type": "stream",
          "name": "stderr",
          "text": [
            "\r252it [01:24,  3.17it/s]"
          ]
        },
        {
          "output_type": "stream",
          "name": "stdout",
          "text": [
            "1/1 [==============================] - 0s 19ms/step\n"
          ]
        },
        {
          "output_type": "stream",
          "name": "stderr",
          "text": [
            "\r253it [01:24,  3.24it/s]"
          ]
        },
        {
          "output_type": "stream",
          "name": "stdout",
          "text": [
            "1/1 [==============================] - 0s 21ms/step\n"
          ]
        },
        {
          "output_type": "stream",
          "name": "stderr",
          "text": [
            "\r254it [01:24,  3.18it/s]"
          ]
        },
        {
          "output_type": "stream",
          "name": "stdout",
          "text": [
            "1/1 [==============================] - 0s 20ms/step\n"
          ]
        },
        {
          "output_type": "stream",
          "name": "stderr",
          "text": [
            "\r255it [01:25,  3.25it/s]"
          ]
        },
        {
          "output_type": "stream",
          "name": "stdout",
          "text": [
            "1/1 [==============================] - 0s 24ms/step\n"
          ]
        },
        {
          "output_type": "stream",
          "name": "stderr",
          "text": [
            "\r256it [01:25,  3.39it/s]"
          ]
        },
        {
          "output_type": "stream",
          "name": "stdout",
          "text": [
            "1/1 [==============================] - 0s 24ms/step\n"
          ]
        },
        {
          "output_type": "stream",
          "name": "stderr",
          "text": [
            "\r257it [01:25,  3.47it/s]"
          ]
        },
        {
          "output_type": "stream",
          "name": "stdout",
          "text": [
            "1/1 [==============================] - 0s 22ms/step\n"
          ]
        },
        {
          "output_type": "stream",
          "name": "stderr",
          "text": [
            "\r258it [01:25,  3.36it/s]"
          ]
        },
        {
          "output_type": "stream",
          "name": "stdout",
          "text": [
            "1/1 [==============================] - 0s 20ms/step\n"
          ]
        },
        {
          "output_type": "stream",
          "name": "stderr",
          "text": [
            "\r259it [01:26,  3.46it/s]"
          ]
        },
        {
          "output_type": "stream",
          "name": "stdout",
          "text": [
            "1/1 [==============================] - 0s 20ms/step\n"
          ]
        },
        {
          "output_type": "stream",
          "name": "stderr",
          "text": [
            "\r260it [01:26,  3.32it/s]"
          ]
        },
        {
          "output_type": "stream",
          "name": "stdout",
          "text": [
            "1/1 [==============================] - 0s 19ms/step\n"
          ]
        },
        {
          "output_type": "stream",
          "name": "stderr",
          "text": [
            "\r261it [01:26,  3.43it/s]"
          ]
        },
        {
          "output_type": "stream",
          "name": "stdout",
          "text": [
            "1/1 [==============================] - 0s 20ms/step\n"
          ]
        },
        {
          "output_type": "stream",
          "name": "stderr",
          "text": [
            "\r262it [01:27,  3.40it/s]"
          ]
        },
        {
          "output_type": "stream",
          "name": "stdout",
          "text": [
            "1/1 [==============================] - 0s 20ms/step\n"
          ]
        },
        {
          "output_type": "stream",
          "name": "stderr",
          "text": [
            "\r263it [01:27,  3.48it/s]"
          ]
        },
        {
          "output_type": "stream",
          "name": "stdout",
          "text": [
            "1/1 [==============================] - 0s 21ms/step\n"
          ]
        },
        {
          "output_type": "stream",
          "name": "stderr",
          "text": [
            "\r264it [01:27,  3.32it/s]"
          ]
        },
        {
          "output_type": "stream",
          "name": "stdout",
          "text": [
            "1/1 [==============================] - 0s 20ms/step\n"
          ]
        },
        {
          "output_type": "stream",
          "name": "stderr",
          "text": [
            "\r265it [01:27,  3.23it/s]"
          ]
        },
        {
          "output_type": "stream",
          "name": "stdout",
          "text": [
            "1/1 [==============================] - 0s 23ms/step\n"
          ]
        },
        {
          "output_type": "stream",
          "name": "stderr",
          "text": [
            "\r266it [01:28,  3.16it/s]"
          ]
        },
        {
          "output_type": "stream",
          "name": "stdout",
          "text": [
            "1/1 [==============================] - 0s 21ms/step\n"
          ]
        },
        {
          "output_type": "stream",
          "name": "stderr",
          "text": [
            "\r267it [01:28,  3.31it/s]"
          ]
        },
        {
          "output_type": "stream",
          "name": "stdout",
          "text": [
            "1/1 [==============================] - 0s 23ms/step\n"
          ]
        },
        {
          "output_type": "stream",
          "name": "stderr",
          "text": [
            "\r268it [01:28,  3.14it/s]"
          ]
        },
        {
          "output_type": "stream",
          "name": "stdout",
          "text": [
            "1/1 [==============================] - 0s 19ms/step\n"
          ]
        },
        {
          "output_type": "stream",
          "name": "stderr",
          "text": [
            "\r269it [01:29,  3.11it/s]"
          ]
        },
        {
          "output_type": "stream",
          "name": "stdout",
          "text": [
            "1/1 [==============================] - 0s 20ms/step\n"
          ]
        },
        {
          "output_type": "stream",
          "name": "stderr",
          "text": [
            "\r270it [01:29,  3.28it/s]"
          ]
        },
        {
          "output_type": "stream",
          "name": "stdout",
          "text": [
            "1/1 [==============================] - 0s 20ms/step\n"
          ]
        },
        {
          "output_type": "stream",
          "name": "stderr",
          "text": [
            "\r271it [01:29,  3.23it/s]"
          ]
        },
        {
          "output_type": "stream",
          "name": "stdout",
          "text": [
            "1/1 [==============================] - 0s 20ms/step\n"
          ]
        },
        {
          "output_type": "stream",
          "name": "stderr",
          "text": [
            "\r272it [01:30,  3.38it/s]"
          ]
        },
        {
          "output_type": "stream",
          "name": "stdout",
          "text": [
            "1/1 [==============================] - 0s 21ms/step\n"
          ]
        },
        {
          "output_type": "stream",
          "name": "stderr",
          "text": [
            "\r273it [01:30,  3.23it/s]"
          ]
        },
        {
          "output_type": "stream",
          "name": "stdout",
          "text": [
            "1/1 [==============================] - 0s 19ms/step\n"
          ]
        },
        {
          "output_type": "stream",
          "name": "stderr",
          "text": [
            "\r274it [01:30,  3.17it/s]"
          ]
        },
        {
          "output_type": "stream",
          "name": "stdout",
          "text": [
            "1/1 [==============================] - 0s 22ms/step\n"
          ]
        },
        {
          "output_type": "stream",
          "name": "stderr",
          "text": [
            "\r275it [01:31,  3.26it/s]"
          ]
        },
        {
          "output_type": "stream",
          "name": "stdout",
          "text": [
            "1/1 [==============================] - 0s 20ms/step\n"
          ]
        },
        {
          "output_type": "stream",
          "name": "stderr",
          "text": [
            "\r276it [01:31,  3.36it/s]"
          ]
        },
        {
          "output_type": "stream",
          "name": "stdout",
          "text": [
            "1/1 [==============================] - 0s 19ms/step\n"
          ]
        },
        {
          "output_type": "stream",
          "name": "stderr",
          "text": [
            "\r277it [01:31,  2.63it/s]"
          ]
        },
        {
          "output_type": "stream",
          "name": "stdout",
          "text": [
            "1/1 [==============================] - 0s 20ms/step\n"
          ]
        },
        {
          "output_type": "stream",
          "name": "stderr",
          "text": [
            "\r278it [01:32,  2.88it/s]"
          ]
        },
        {
          "output_type": "stream",
          "name": "stdout",
          "text": [
            "1/1 [==============================] - 0s 21ms/step\n"
          ]
        },
        {
          "output_type": "stream",
          "name": "stderr",
          "text": [
            "\r279it [01:32,  2.89it/s]"
          ]
        },
        {
          "output_type": "stream",
          "name": "stdout",
          "text": [
            "1/1 [==============================] - 0s 19ms/step\n"
          ]
        },
        {
          "output_type": "stream",
          "name": "stderr",
          "text": [
            "\r280it [01:32,  2.94it/s]"
          ]
        },
        {
          "output_type": "stream",
          "name": "stdout",
          "text": [
            "1/1 [==============================] - 0s 19ms/step\n"
          ]
        },
        {
          "output_type": "stream",
          "name": "stderr",
          "text": [
            "\r281it [01:33,  2.95it/s]"
          ]
        },
        {
          "output_type": "stream",
          "name": "stdout",
          "text": [
            "1/1 [==============================] - 0s 20ms/step\n"
          ]
        },
        {
          "output_type": "stream",
          "name": "stderr",
          "text": [
            "\r282it [01:33,  2.98it/s]"
          ]
        },
        {
          "output_type": "stream",
          "name": "stdout",
          "text": [
            "1/1 [==============================] - 0s 21ms/step\n"
          ]
        },
        {
          "output_type": "stream",
          "name": "stderr",
          "text": [
            "\r283it [01:33,  2.99it/s]"
          ]
        },
        {
          "output_type": "stream",
          "name": "stdout",
          "text": [
            "1/1 [==============================] - 0s 20ms/step\n"
          ]
        },
        {
          "output_type": "stream",
          "name": "stderr",
          "text": [
            "\r284it [01:34,  3.11it/s]"
          ]
        },
        {
          "output_type": "stream",
          "name": "stdout",
          "text": [
            "1/1 [==============================] - 0s 20ms/step\n"
          ]
        },
        {
          "output_type": "stream",
          "name": "stderr",
          "text": [
            "\r285it [01:34,  3.28it/s]"
          ]
        },
        {
          "output_type": "stream",
          "name": "stdout",
          "text": [
            "1/1 [==============================] - 0s 22ms/step\n"
          ]
        },
        {
          "output_type": "stream",
          "name": "stderr",
          "text": [
            "\r286it [01:34,  3.25it/s]"
          ]
        },
        {
          "output_type": "stream",
          "name": "stdout",
          "text": [
            "1/1 [==============================] - 0s 19ms/step\n"
          ]
        },
        {
          "output_type": "stream",
          "name": "stderr",
          "text": [
            "\r287it [01:35,  3.23it/s]"
          ]
        },
        {
          "output_type": "stream",
          "name": "stdout",
          "text": [
            "1/1 [==============================] - 0s 20ms/step\n"
          ]
        },
        {
          "output_type": "stream",
          "name": "stderr",
          "text": [
            "\r288it [01:35,  3.24it/s]"
          ]
        },
        {
          "output_type": "stream",
          "name": "stdout",
          "text": [
            "1/1 [==============================] - 0s 21ms/step\n"
          ]
        },
        {
          "output_type": "stream",
          "name": "stderr",
          "text": [
            "\r289it [01:35,  3.09it/s]"
          ]
        },
        {
          "output_type": "stream",
          "name": "stdout",
          "text": [
            "1/1 [==============================] - 0s 22ms/step\n"
          ]
        },
        {
          "output_type": "stream",
          "name": "stderr",
          "text": [
            "\r290it [01:35,  3.21it/s]"
          ]
        },
        {
          "output_type": "stream",
          "name": "stdout",
          "text": [
            "1/1 [==============================] - 0s 23ms/step\n"
          ]
        },
        {
          "output_type": "stream",
          "name": "stderr",
          "text": [
            "\r291it [01:36,  3.08it/s]"
          ]
        },
        {
          "output_type": "stream",
          "name": "stdout",
          "text": [
            "1/1 [==============================] - 0s 22ms/step\n"
          ]
        },
        {
          "output_type": "stream",
          "name": "stderr",
          "text": [
            "\r292it [01:36,  3.01it/s]"
          ]
        },
        {
          "output_type": "stream",
          "name": "stdout",
          "text": [
            "1/1 [==============================] - 0s 20ms/step\n"
          ]
        },
        {
          "output_type": "stream",
          "name": "stderr",
          "text": [
            "\r293it [01:37,  3.02it/s]"
          ]
        },
        {
          "output_type": "stream",
          "name": "stdout",
          "text": [
            "1/1 [==============================] - 0s 20ms/step\n"
          ]
        },
        {
          "output_type": "stream",
          "name": "stderr",
          "text": [
            "\r294it [01:37,  3.14it/s]"
          ]
        },
        {
          "output_type": "stream",
          "name": "stdout",
          "text": [
            "1/1 [==============================] - 0s 19ms/step\n"
          ]
        },
        {
          "output_type": "stream",
          "name": "stderr",
          "text": [
            "\r295it [01:37,  3.13it/s]"
          ]
        },
        {
          "output_type": "stream",
          "name": "stdout",
          "text": [
            "1/1 [==============================] - 0s 20ms/step\n"
          ]
        },
        {
          "output_type": "stream",
          "name": "stderr",
          "text": [
            "\r296it [01:37,  3.11it/s]"
          ]
        },
        {
          "output_type": "stream",
          "name": "stdout",
          "text": [
            "1/1 [==============================] - 0s 21ms/step\n"
          ]
        },
        {
          "output_type": "stream",
          "name": "stderr",
          "text": [
            "\r297it [01:38,  3.08it/s]"
          ]
        },
        {
          "output_type": "stream",
          "name": "stdout",
          "text": [
            "1/1 [==============================] - 0s 20ms/step\n"
          ]
        },
        {
          "output_type": "stream",
          "name": "stderr",
          "text": [
            "\r298it [01:38,  3.27it/s]"
          ]
        },
        {
          "output_type": "stream",
          "name": "stdout",
          "text": [
            "1/1 [==============================] - 0s 20ms/step\n"
          ]
        },
        {
          "output_type": "stream",
          "name": "stderr",
          "text": [
            "\r299it [01:38,  3.21it/s]"
          ]
        },
        {
          "output_type": "stream",
          "name": "stdout",
          "text": [
            "1/1 [==============================] - 0s 20ms/step\n"
          ]
        },
        {
          "output_type": "stream",
          "name": "stderr",
          "text": [
            "\r300it [01:39,  3.09it/s]"
          ]
        },
        {
          "output_type": "stream",
          "name": "stdout",
          "text": [
            "1/1 [==============================] - 0s 20ms/step\n"
          ]
        },
        {
          "output_type": "stream",
          "name": "stderr",
          "text": [
            "\r301it [01:39,  3.24it/s]"
          ]
        },
        {
          "output_type": "stream",
          "name": "stdout",
          "text": [
            "1/1 [==============================] - 0s 22ms/step\n"
          ]
        },
        {
          "output_type": "stream",
          "name": "stderr",
          "text": [
            "\r302it [01:39,  3.17it/s]"
          ]
        },
        {
          "output_type": "stream",
          "name": "stdout",
          "text": [
            "1/1 [==============================] - 0s 19ms/step\n"
          ]
        },
        {
          "output_type": "stream",
          "name": "stderr",
          "text": [
            "\r303it [01:40,  3.23it/s]"
          ]
        },
        {
          "output_type": "stream",
          "name": "stdout",
          "text": [
            "1/1 [==============================] - 0s 21ms/step\n"
          ]
        },
        {
          "output_type": "stream",
          "name": "stderr",
          "text": [
            "\r304it [01:40,  3.15it/s]"
          ]
        },
        {
          "output_type": "stream",
          "name": "stdout",
          "text": [
            "1/1 [==============================] - 0s 20ms/step\n"
          ]
        },
        {
          "output_type": "stream",
          "name": "stderr",
          "text": [
            "\r305it [01:40,  3.12it/s]"
          ]
        },
        {
          "output_type": "stream",
          "name": "stdout",
          "text": [
            "1/1 [==============================] - 0s 20ms/step\n"
          ]
        },
        {
          "output_type": "stream",
          "name": "stderr",
          "text": [
            "\r306it [01:41,  3.11it/s]"
          ]
        },
        {
          "output_type": "stream",
          "name": "stdout",
          "text": [
            "1/1 [==============================] - 0s 19ms/step\n"
          ]
        },
        {
          "output_type": "stream",
          "name": "stderr",
          "text": [
            "\r307it [01:41,  3.09it/s]"
          ]
        },
        {
          "output_type": "stream",
          "name": "stdout",
          "text": [
            "1/1 [==============================] - 0s 20ms/step\n"
          ]
        },
        {
          "output_type": "stream",
          "name": "stderr",
          "text": [
            "\r308it [01:41,  3.06it/s]"
          ]
        },
        {
          "output_type": "stream",
          "name": "stdout",
          "text": [
            "1/1 [==============================] - 0s 19ms/step\n"
          ]
        },
        {
          "output_type": "stream",
          "name": "stderr",
          "text": [
            "\r309it [01:42,  3.09it/s]"
          ]
        },
        {
          "output_type": "stream",
          "name": "stdout",
          "text": [
            "1/1 [==============================] - 0s 20ms/step\n"
          ]
        },
        {
          "output_type": "stream",
          "name": "stderr",
          "text": [
            "\r310it [01:42,  3.24it/s]"
          ]
        },
        {
          "output_type": "stream",
          "name": "stdout",
          "text": [
            "1/1 [==============================] - 0s 20ms/step\n"
          ]
        },
        {
          "output_type": "stream",
          "name": "stderr",
          "text": [
            "\r311it [01:42,  2.60it/s]"
          ]
        },
        {
          "output_type": "stream",
          "name": "stdout",
          "text": [
            "1/1 [==============================] - 0s 20ms/step\n"
          ]
        },
        {
          "output_type": "stream",
          "name": "stderr",
          "text": [
            "312it [01:43,  3.02it/s]\n"
          ]
        }
      ],
      "source": [
        "test_ds_unbatched = test_batches.unbatch()\n",
        "\n",
        "pred_path = os.path.join(PRED_PATH, EXP_NAME, timestamp)\n",
        "if not os.path.exists(pred_path):\n",
        "    os.makedirs(pred_path)\n",
        "\n",
        "metrics = pd.DataFrame()\n",
        "\n",
        "for idx, (input, target) in enumerate(tqdm(test_ds_unbatched)):\n",
        "\n",
        "    # if not idx % 10 == 0:\n",
        "    #     continue\n",
        "\n",
        "    target = tf.squeeze(target).numpy()\n",
        "    prediction = tf.squeeze(\n",
        "        model.predict(\n",
        "            tf.expand_dims(input, axis=0)\n",
        "            )\n",
        "        ).numpy()\n",
        "    prediction[target == 1.0] = 1.0\n",
        "\n",
        "    # _metrics = pd.DataFrame([[\n",
        "    #         rmse(target, prediction),\n",
        "    #         psnr(target, prediction),\n",
        "    #         ssim(target, prediction),\n",
        "    #         fsim(target, prediction),\n",
        "    #         issm(target, prediction),\n",
        "    #         sre(target, prediction),\n",
        "    #         sam(target, prediction),\n",
        "    #         uiq(target, prediction),\n",
        "    #     ]],\n",
        "    #     columns=[\"RMSE\", \"PSNR\", \"SSIM\", \"FSIM\", \"ISSM\", \"SRE\", \"SAM\", \"UIQ\"]\n",
        "    # )\n",
        "\n",
        "    # metrics = pd.concat([metrics, _metrics], axis=0)\n",
        "\n",
        "    plt.figure(figsize=(7, 7))\n",
        "    plt.imshow(target)\n",
        "    plt.axis(\"off\")\n",
        "    plt.tight_layout()\n",
        "    plt.savefig(os.path.join(pred_path, f\"{idx}_T.png\"))\n",
        "    plt.close()\n",
        "\n",
        "    plt.figure(figsize=(7, 7))\n",
        "    plt.imshow(prediction)\n",
        "    plt.axis(\"off\")\n",
        "    plt.tight_layout()\n",
        "    plt.savefig(os.path.join(pred_path, f\"{idx}_P.png\"))\n",
        "    plt.close()\n",
        "\n",
        "\n",
        "    # plt.figure(figsize=(12, 4))\n",
        "    # plt.subplot(1, 3, 1)\n",
        "    # plt.imshow(input)\n",
        "    # plt.axis(\"off\")\n",
        "    # plt.title(\"INPUT\")\n",
        "    # plt.subplot(1, 3, 2)\n",
        "    # plt.imshow(target)\n",
        "    # plt.axis(\"off\")\n",
        "    # plt.title(\"TARGET\")\n",
        "    # plt.subplot(1, 3, 3)\n",
        "    # plt.imshow(prediction)\n",
        "    # plt.axis(\"off\")\n",
        "    # plt.title(\"PREDICTION\")\n",
        "    # plt.tight_layout()\n",
        "    # plt.savefig(os.path.join(pred_path, f\"{idx}.png\"))\n",
        "    # plt.close()  \n"
      ]
    },
    {
      "cell_type": "code",
      "source": [
        "loss = history.history['loss']\n",
        "val_loss = history.history['val_loss']\n",
        "\n",
        "plt.figure(figsize=(8, 6))\n",
        "plt.plot(loss, label='Training Loss')\n",
        "plt.plot(val_loss, label='Validation Loss')\n",
        "plt.legend(loc='upper right')\n",
        "plt.ylabel('Attention MAE')\n",
        "plt.title('Training and Validation Loss')\n",
        "plt.xlabel('Epoch')\n",
        "plt.tight_layout()\n",
        "plt.savefig(os.path.join(model_path, timestamp + \".png\"))\n",
        "plt.close()"
      ],
      "metadata": {
        "id": "dq-aXv2mIwA8"
      },
      "execution_count": null,
      "outputs": []
    },
    {
      "cell_type": "code",
      "source": [
        "model.evaluate(test_batches)"
      ],
      "metadata": {
        "id": "KghqZxOpWCWP",
        "colab": {
          "base_uri": "https://localhost:8080/"
        },
        "outputId": "9c28fe18-5de9-4161-8980-5dc80e74edd1"
      },
      "execution_count": null,
      "outputs": [
        {
          "output_type": "stream",
          "name": "stdout",
          "text": [
            "20/20 [==============================] - 5s 198ms/step - loss: 0.0010 - attention_mae: 0.0181\n"
          ]
        },
        {
          "output_type": "execute_result",
          "data": {
            "text/plain": [
              "[0.0010249634506180882, 0.018104588612914085]"
            ]
          },
          "metadata": {},
          "execution_count": 21
        }
      ]
    },
    {
      "cell_type": "code",
      "source": [],
      "metadata": {
        "id": "Clx7EdsW2yFf"
      },
      "execution_count": null,
      "outputs": []
    }
  ],
  "metadata": {
    "kernelspec": {
      "display_name": "Python 3.10.6 ('Ai')",
      "language": "python",
      "name": "python3"
    },
    "language_info": {
      "codemirror_mode": {
        "name": "ipython",
        "version": 3
      },
      "file_extension": ".py",
      "mimetype": "text/x-python",
      "name": "python",
      "nbconvert_exporter": "python",
      "pygments_lexer": "ipython3",
      "version": "3.10.6"
    },
    "orig_nbformat": 4,
    "vscode": {
      "interpreter": {
        "hash": "cc12dd51c08fff59e312c49b5273cbf2a12939660509ea1a4d83cd89b0463726"
      }
    },
    "colab": {
      "provenance": [],
      "machine_shape": "hm",
      "toc_visible": true,
      "include_colab_link": true
    },
    "accelerator": "GPU",
    "gpuClass": "standard"
  },
  "nbformat": 4,
  "nbformat_minor": 0
}